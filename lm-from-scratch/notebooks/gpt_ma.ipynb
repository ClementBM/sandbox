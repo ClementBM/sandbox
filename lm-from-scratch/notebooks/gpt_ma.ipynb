{
 "cells": [
  {
   "cell_type": "code",
   "execution_count": 1,
   "metadata": {},
   "outputs": [],
   "source": [
    "import torch\n",
    "from lm_from_scratch.corpus.decision_corpus import DecisionCorpus\n",
    "# from lm_from_scratch.models.gpt_ma import Gpt\n",
    "from lm_from_scratch.models.gpt_ma_2 import Gpt\n",
    "\n",
    "# tokenizer & model parameters\n",
    "VOCAB_SIZE = 15000\n",
    "\n",
    "MAX_LEN = 128 # what is the maximum context length for predictions?\n",
    "N_EMBEDDING = 384\n",
    "NUM_HEAD = 6\n",
    "HEAD_SIZE = N_EMBEDDING // NUM_HEAD\n",
    "\n",
    "# training parameters\n",
    "BATCH_SIZE = 64 # how many independent sequences will we process in parallel?\n",
    "MAX_ITERS = 5000\n",
    "EVAL_INTERVAL = 1000\n",
    "LEARNING_RATE = 1e-3\n",
    "EVAL_ITERS = 200\n",
    "\n",
    "DEVICE = 'cuda' if torch.cuda.is_available() else 'cpu'"
   ]
  },
  {
   "cell_type": "markdown",
   "metadata": {},
   "source": [
    "# Load corpus"
   ]
  },
  {
   "cell_type": "code",
   "execution_count": 2,
   "metadata": {},
   "outputs": [],
   "source": [
    "corpus = DecisionCorpus()\n",
    "\n",
    "corpus_df = corpus.df.sample(\n",
    "        frac=1,\n",
    "        random_state=42\n",
    "    ).reset_index(\n",
    "        drop=True)\n",
    "\n",
    "# Train and test splits\n",
    "n = int(0.9*len(corpus_df)) # first 90% will be train, rest val\n",
    "\n",
    "data = corpus.get_text()"
   ]
  },
  {
   "cell_type": "markdown",
   "metadata": {},
   "source": [
    "# Build tokenizer"
   ]
  },
  {
   "cell_type": "code",
   "execution_count": 3,
   "metadata": {},
   "outputs": [
    {
     "name": "stdout",
     "output_type": "stream",
     "text": [
      "\n",
      "\n",
      "\n"
     ]
    }
   ],
   "source": [
    "from tokenizers import Tokenizer\n",
    "from tokenizers.models import BPE\n",
    "from tokenizers.trainers import BpeTrainer\n",
    "from tokenizers.pre_tokenizers import Whitespace\n",
    "\n",
    "tokenizer = Tokenizer(BPE(unk_token=\"[UNK]\"))\n",
    "trainer = BpeTrainer(vocab_size=VOCAB_SIZE, special_tokens=[\"[UNK]\"])\n",
    "tokenizer.pre_tokenizer = Whitespace()\n",
    "\n",
    "tokenizer.train_from_iterator(data, trainer)"
   ]
  },
  {
   "cell_type": "markdown",
   "metadata": {},
   "source": [
    "# Split corpus"
   ]
  },
  {
   "cell_type": "code",
   "execution_count": 4,
   "metadata": {},
   "outputs": [],
   "source": [
    "corpus_df[\"idx\"] = [torch.tensor(text.ids, dtype=torch.long) for text in tokenizer.encode_batch(data)]\n",
    "\n",
    "train_data = corpus_df[\"idx\"][:n]\n",
    "val_data = corpus_df[\"idx\"][n:].reset_index(drop=True)"
   ]
  },
  {
   "cell_type": "markdown",
   "metadata": {},
   "source": [
    "# Batch preparation"
   ]
  },
  {
   "cell_type": "code",
   "execution_count": 5,
   "metadata": {},
   "outputs": [],
   "source": [
    "# data loading\n",
    "def get_batch(split, batch_size=BATCH_SIZE):\n",
    "    # generate a small batch of data of inputs x and targets y\n",
    "    data = train_data if split == 'train' else val_data\n",
    "\n",
    "    doc_ix = torch.randint(len(data), (batch_size,))\n",
    "    doc_token_ix = []\n",
    "\n",
    "    for doc_i in doc_ix:\n",
    "        ix = torch.randint(len(data[int(doc_i)]) - MAX_LEN, (1,))\n",
    "        doc_token_ix.append((int(doc_i), ix))\n",
    "    \n",
    "    x = torch.stack([data[i][j:j+MAX_LEN] for i,j in doc_token_ix])\n",
    "    y = torch.stack([data[i][j+1:j+MAX_LEN+1] for i,j in doc_token_ix])\n",
    "\n",
    "    x, y = x.to(DEVICE), y.to(DEVICE)\n",
    "    return x, y\n"
   ]
  },
  {
   "cell_type": "code",
   "execution_count": 6,
   "metadata": {},
   "outputs": [
    {
     "data": {
      "text/plain": [
       "(tensor([[ 3545,   142,   149,  1006,  1205,     8,    80,     9,    26,   149,\n",
       "            436,  2456,    12,  2458,   162,  2436,  1272,     8,    80,     9,\n",
       "             26,    43,    14,    57,    53,    58,  1273,    26,  1128, 13838,\n",
       "           1265,   311,  2705,   222,  1604,  1588,    12,  1081,   524,    12,\n",
       "           1044,   179,   145,   595,   285,   142,   149,   261,   142,   249,\n",
       "             12,    62,   340,   149,   751,   614,    14,   449,   214,  9892,\n",
       "            299,   213,   145,  3545,   142,   149,  1006,    12,   214,   179,\n",
       "            883,  1154,  2791,    12,   381,   145,   463,   247,    57,   306,\n",
       "             17,   208,    57,   800,    19,   208,    62,   336,   212,   294,\n",
       "            145,   453,   731,   296,   347,    73,     7,   255,   340,   145,\n",
       "            681,   854,   551,   179,   149,   258,    65,     7,   268,   142,\n",
       "           2724,     8,  8028,   276,  1696,     7,  2369,   412,   295,   145,\n",
       "            560,    73,     7,   649,   116,    43,    14,    57]],\n",
       "        device='cuda:0'),\n",
       " tensor([[  142,   149,  1006,  1205,     8,    80,     9,    26,   149,   436,\n",
       "           2456,    12,  2458,   162,  2436,  1272,     8,    80,     9,    26,\n",
       "             43,    14,    57,    53,    58,  1273,    26,  1128, 13838,  1265,\n",
       "            311,  2705,   222,  1604,  1588,    12,  1081,   524,    12,  1044,\n",
       "            179,   145,   595,   285,   142,   149,   261,   142,   249,    12,\n",
       "             62,   340,   149,   751,   614,    14,   449,   214,  9892,   299,\n",
       "            213,   145,  3545,   142,   149,  1006,    12,   214,   179,   883,\n",
       "           1154,  2791,    12,   381,   145,   463,   247,    57,   306,    17,\n",
       "            208,    57,   800,    19,   208,    62,   336,   212,   294,   145,\n",
       "            453,   731,   296,   347,    73,     7,   255,   340,   145,   681,\n",
       "            854,   551,   179,   149,   258,    65,     7,   268,   142,  2724,\n",
       "              8,  8028,   276,  1696,     7,  2369,   412,   295,   145,   560,\n",
       "             73,     7,   649,   116,    43,    14,    57,    39]],\n",
       "        device='cuda:0'))"
      ]
     },
     "execution_count": 6,
     "metadata": {},
     "output_type": "execute_result"
    }
   ],
   "source": [
    "get_batch(\"train\", batch_size=1)"
   ]
  },
  {
   "cell_type": "markdown",
   "metadata": {},
   "source": [
    "# Model training"
   ]
  },
  {
   "cell_type": "code",
   "execution_count": 7,
   "metadata": {},
   "outputs": [],
   "source": [
    "model = Gpt(VOCAB_SIZE, NUM_HEAD, HEAD_SIZE, N_EMBEDDING, max_len=MAX_LEN)\n",
    "m = model.to(DEVICE)"
   ]
  },
  {
   "cell_type": "code",
   "execution_count": 8,
   "metadata": {},
   "outputs": [
    {
     "name": "stdout",
     "output_type": "stream",
     "text": [
      "step 0: train loss 9.7939, val loss 9.7938\n",
      "step 1000: train loss 1.4232, val loss 2.2247\n",
      "step 2000: train loss 1.2562, val loss 2.1277\n",
      "step 3000: train loss 1.1425, val loss 2.0410\n",
      "step 4000: train loss 1.0845, val loss 2.0107\n"
     ]
    }
   ],
   "source": [
    "@torch.no_grad()\n",
    "def estimate_loss():\n",
    "    out = {}\n",
    "    model.eval()\n",
    "    for split in ['train', 'val']:\n",
    "        losses = torch.zeros(EVAL_ITERS)\n",
    "        for k in range(EVAL_ITERS):\n",
    "            X, Y = get_batch(split)\n",
    "            logits, loss = model(X, Y)\n",
    "            losses[k] = loss.item()\n",
    "        out[split] = losses.mean()\n",
    "    model.train()\n",
    "    return out\n",
    "\n",
    "# create a PyTorch optimizer\n",
    "optimizer = torch.optim.AdamW(model.parameters(), lr=LEARNING_RATE)\n",
    "\n",
    "for iter in range(MAX_ITERS):\n",
    "\n",
    "    # every once in a while evaluate the loss on train and val sets\n",
    "    if iter % EVAL_INTERVAL == 0:\n",
    "        losses = estimate_loss()\n",
    "        print(f\"step {iter}: train loss {losses['train']:.4f}, val loss {losses['val']:.4f}\")\n",
    "\n",
    "    # sample a batch of data\n",
    "    xb, yb = get_batch('train')\n",
    "\n",
    "    # evaluate the loss\n",
    "    logits, loss = model(xb, yb)\n",
    "    optimizer.zero_grad(set_to_none=True)\n",
    "    loss.backward()\n",
    "    optimizer.step()\n"
   ]
  },
  {
   "cell_type": "markdown",
   "metadata": {},
   "source": [
    "# Test time"
   ]
  },
  {
   "cell_type": "code",
   "execution_count": 12,
   "metadata": {},
   "outputs": [
    {
     "name": "stdout",
     "output_type": "stream",
     "text": [
      "chambre criminelle de la Cour de cassation , composée en application de l ' article 567 - 1 - 1 du code de procédure pénale , des président et conseillers\n"
     ]
    }
   ],
   "source": [
    "from torch.nn import functional as F\n",
    "\n",
    "# generate from the model\n",
    "def generate(model, idx, max_new_tokens, max_len):\n",
    "    # idx is (B, T) array of indices in the current context\n",
    "    for _ in range(max_new_tokens):\n",
    "        # crop idx to the last max_len tokens\n",
    "        idx_cond = idx[:, -max_len:]\n",
    "        # get the predictions\n",
    "        model.eval()\n",
    "        logits, loss = model(idx_cond)\n",
    "        model.train()\n",
    "        \n",
    "        # focus only on the last time step\n",
    "        logits = logits[:, -1, :] # becomes (B, C)\n",
    "        # apply softmax to get probabilities\n",
    "        probs = F.softmax(logits, dim=-1) # (B, C)\n",
    "        # sample from the distribution\n",
    "        idx_next = torch.multinomial(probs, num_samples=1) # (B, 1)\n",
    "        # append sampled index to the running sequence\n",
    "        idx = torch.cat((idx, idx_next), dim=1) # (B, T+1)\n",
    "    return idx\n",
    "\n",
    "\n",
    "token_ids = tokenizer.encode(\"chambre criminelle de la Cour de cassation, compos\\u00e9e en application de l'article 567-1-1\").ids\n",
    "context = torch.tensor(token_ids, dtype=torch.long, device=DEVICE)\n",
    "\n",
    "print(tokenizer.decode(generate(model,\n",
    "                          context[None, :],\n",
    "                          max_len=MAX_LEN,\n",
    "                          max_new_tokens=10)[0].tolist()))\n"
   ]
  }
 ],
 "metadata": {
  "kernelspec": {
   "display_name": ".venv",
   "language": "python",
   "name": "python3"
  },
  "language_info": {
   "codemirror_mode": {
    "name": "ipython",
    "version": 3
   },
   "file_extension": ".py",
   "mimetype": "text/x-python",
   "name": "python",
   "nbconvert_exporter": "python",
   "pygments_lexer": "ipython3",
   "version": "3.10.12"
  }
 },
 "nbformat": 4,
 "nbformat_minor": 2
}
