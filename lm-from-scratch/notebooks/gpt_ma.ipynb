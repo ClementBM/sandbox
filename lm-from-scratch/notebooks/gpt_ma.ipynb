{
 "cells": [
  {
   "cell_type": "code",
   "execution_count": 72,
   "metadata": {},
   "outputs": [],
   "source": [
    "import torch\n",
    "from lm_from_scratch.corpus.decision_corpus import DecisionCorpus\n",
    "from lm_from_scratch.tokenizers.char_tokenizer import CharLevelTokenizer\n",
    "# from lm_from_scratch.models.gpt_ma import Gpt\n",
    "from lm_from_scratch.models.gpt_ma_2 import Gpt\n",
    "\n",
    "BATCH_SIZE = 64 # how many independent sequences will we process in parallel?\n",
    "MAX_LEN = 128 # what is the maximum context length for predictions?\n",
    "MAX_ITERS = 10000\n",
    "EVAL_INTERVAL = 1000\n",
    "LEARNING_RATE = 1e-3\n",
    "DEVICE = 'cuda' if torch.cuda.is_available() else 'cpu'\n",
    "EVAL_ITERS = 200\n",
    "\n",
    "VOCAB_SIZE = 10000\n",
    "N_EMBEDDING = 384\n",
    "NUM_HEAD = 6\n",
    "\n",
    "# NUM_HEAD * HEAD_SIZE = N_EMBEDDING\n",
    "HEAD_SIZE = N_EMBEDDING // NUM_HEAD"
   ]
  },
  {
   "cell_type": "code",
   "execution_count": 73,
   "metadata": {},
   "outputs": [],
   "source": [
    "corpus = DecisionCorpus()\n",
    "\n",
    "corpus_df = corpus.df.sample(\n",
    "        frac=1,\n",
    "        random_state=42\n",
    "    ).reset_index(\n",
    "        drop=True)\n",
    "\n",
    "# Train and test splits\n",
    "n = int(0.9*len(corpus_df)) # first 90% will be train, rest val\n",
    "\n",
    "data = corpus.get_text()"
   ]
  },
  {
   "cell_type": "code",
   "execution_count": 74,
   "metadata": {},
   "outputs": [
    {
     "name": "stdout",
     "output_type": "stream",
     "text": [
      "\n",
      "\n",
      "\n"
     ]
    }
   ],
   "source": [
    "from tokenizers import Tokenizer\n",
    "from tokenizers.models import BPE\n",
    "from tokenizers.trainers import BpeTrainer\n",
    "from tokenizers.pre_tokenizers import Whitespace\n",
    "from tokenizers.processors import TemplateProcessing\n",
    "\n",
    "tokenizer = Tokenizer(BPE(unk_token=\"[UNK]\"))\n",
    "trainer = BpeTrainer(vocab_size=VOCAB_SIZE, special_tokens=[\"[UNK]\"])\n",
    "tokenizer.pre_tokenizer = Whitespace()\n",
    "\n",
    "tokenizer.train_from_iterator(data, trainer)\n",
    "\n",
    "# tokenizer = CharLevelTokenizer(\"\".join(data))"
   ]
  },
  {
   "cell_type": "code",
   "execution_count": 75,
   "metadata": {},
   "outputs": [],
   "source": [
    "corpus_df[\"idx\"] = [torch.tensor(text.ids, dtype=torch.long) for text in tokenizer.encode_batch(data)]\n",
    "\n",
    "train_data = corpus_df[\"idx\"][:n]\n",
    "val_data = corpus_df[\"idx\"][n:].reset_index(drop=True)"
   ]
  },
  {
   "cell_type": "code",
   "execution_count": 1,
   "metadata": {},
   "outputs": [],
   "source": [
    "# data loading\n",
    "def get_batch(split):\n",
    "    # generate a small batch of data of inputs x and targets y\n",
    "    data = train_data if split == 'train' else val_data\n",
    "\n",
    "    doc_ix = torch.randint(len(data), (BATCH_SIZE,))\n",
    "    doc_token_ix = []\n",
    "\n",
    "    for doc_i in doc_ix:\n",
    "        ix = torch.randint(len(data[int(doc_i)]) - MAX_LEN, (1,))\n",
    "        doc_token_ix.append((int(doc_i), ix))\n",
    "    \n",
    "    x = torch.stack([data[i][j:j+MAX_LEN] for i,j in doc_token_ix])\n",
    "    y = torch.stack([data[i][j+1:j+MAX_LEN+1] for i,j in doc_token_ix])\n",
    "\n",
    "    x, y = x.to(DEVICE), y.to(DEVICE)\n",
    "    return x, y\n"
   ]
  },
  {
   "cell_type": "code",
   "execution_count": 77,
   "metadata": {},
   "outputs": [],
   "source": [
    "model = Gpt(VOCAB_SIZE, NUM_HEAD, HEAD_SIZE, N_EMBEDDING, max_len=MAX_LEN)\n",
    "m = model.to(DEVICE)"
   ]
  },
  {
   "cell_type": "code",
   "execution_count": 78,
   "metadata": {},
   "outputs": [
    {
     "name": "stdout",
     "output_type": "stream",
     "text": [
      "step 0: train loss 9.3776, val loss 9.3771\n",
      "step 1000: train loss 1.4585, val loss 2.2623\n",
      "step 2000: train loss 1.2907, val loss 2.1093\n",
      "step 3000: train loss 1.1868, val loss 2.0281\n",
      "step 4000: train loss 1.1159, val loss 1.9703\n",
      "step 5000: train loss 1.0875, val loss 1.9756\n",
      "step 6000: train loss 1.0274, val loss 1.9573\n",
      "step 7000: train loss 1.0134, val loss 1.9673\n",
      "step 8000: train loss 0.9722, val loss 1.9424\n",
      "step 9000: train loss 0.9581, val loss 1.9390\n",
      "step 10000: train loss 0.9409, val loss 1.9492\n",
      "step 11000: train loss 0.9191, val loss 1.9622\n",
      "step 12000: train loss 0.9082, val loss 1.9717\n",
      "step 13000: train loss 0.8962, val loss 1.9879\n",
      "step 14000: train loss 0.8743, val loss 1.9864\n"
     ]
    }
   ],
   "source": [
    "@torch.no_grad()\n",
    "def estimate_loss():\n",
    "    out = {}\n",
    "    model.eval()\n",
    "    for split in ['train', 'val']:\n",
    "        losses = torch.zeros(EVAL_ITERS)\n",
    "        for k in range(EVAL_ITERS):\n",
    "            X, Y = get_batch(split)\n",
    "            logits, loss = model(X, Y)\n",
    "            losses[k] = loss.item()\n",
    "        out[split] = losses.mean()\n",
    "    model.train()\n",
    "    return out\n",
    "\n",
    "# create a PyTorch optimizer\n",
    "optimizer = torch.optim.AdamW(model.parameters(), lr=LEARNING_RATE)\n",
    "\n",
    "for iter in range(MAX_ITERS):\n",
    "\n",
    "    # every once in a while evaluate the loss on train and val sets\n",
    "    if iter % EVAL_INTERVAL == 0:\n",
    "        losses = estimate_loss()\n",
    "        print(f\"step {iter}: train loss {losses['train']:.4f}, val loss {losses['val']:.4f}\")\n",
    "\n",
    "    # sample a batch of data\n",
    "    xb, yb = get_batch('train')\n",
    "\n",
    "    # evaluate the loss\n",
    "    logits, loss = model(xb, yb)\n",
    "    optimizer.zero_grad(set_to_none=True)\n",
    "    loss.backward()\n",
    "    optimizer.step()\n"
   ]
  },
  {
   "cell_type": "code",
   "execution_count": 88,
   "metadata": {},
   "outputs": [
    {
     "name": "stdout",
     "output_type": "stream",
     "text": [
      "COUR DE CASSATION Première présidence __________ [ F ] Pourvoi n ° : K 23 - 11 . 155 Demandeur ( s ) : M . [ S ] Avocat ( s ) : la SARL Boré , Salve de Bruneton et Mégret Défendeur ( s ) : Mme [ E ] et autre Avocat ( s ) : la SCP Célice , Texidor , Périer Ordonnance : 50 510 ORDONNANCE DE DÉCHÉANCE Mme Caroline Azar , conseillère référendaire , déléguée par le premier président de la Cour de cassation , a rendu la présente ordonnance . M . [ H ] [ B ],\n"
     ]
    }
   ],
   "source": [
    "from torch.nn import functional as F\n",
    "\n",
    "# generate from the model\n",
    "def generate(model, idx, max_new_tokens, max_len):\n",
    "    # idx is (B, T) array of indices in the current context\n",
    "    for _ in range(max_new_tokens):\n",
    "        # crop idx to the last max_len tokens\n",
    "        idx_cond = idx[:, -max_len:]\n",
    "        # get the predictions\n",
    "        logits, loss = model(idx_cond)\n",
    "        # focus only on the last time step\n",
    "        logits = logits[:, -1, :] # becomes (B, C)\n",
    "        # apply softmax to get probabilities\n",
    "        probs = F.softmax(logits, dim=-1) # (B, C)\n",
    "        # sample from the distribution\n",
    "        idx_next = torch.multinomial(probs, num_samples=1) # (B, 1)\n",
    "        # append sampled index to the running sequence\n",
    "        idx = torch.cat((idx, idx_next), dim=1) # (B, T+1)\n",
    "    return idx\n",
    "\n",
    "context = torch.zeros((1, 1), dtype=torch.long, device=DEVICE)\n",
    "\n",
    "context = torch.tensor(\n",
    "            tokenizer.encode(\"COUR DE CASSATION\\n Premi\\u00e8re pr\\u00e9sidence\").ids,\n",
    "            dtype=torch.long,\n",
    "            device=DEVICE)\n",
    "\n",
    "print(tokenizer.decode(generate(model,\n",
    "                          context[None, :],\n",
    "                          max_len=MAX_LEN,\n",
    "                          max_new_tokens=100)[0].tolist()))\n"
   ]
  }
 ],
 "metadata": {
  "kernelspec": {
   "display_name": ".venv",
   "language": "python",
   "name": "python3"
  },
  "language_info": {
   "codemirror_mode": {
    "name": "ipython",
    "version": 3
   },
   "file_extension": ".py",
   "mimetype": "text/x-python",
   "name": "python",
   "nbconvert_exporter": "python",
   "pygments_lexer": "ipython3",
   "version": "3.10.12"
  }
 },
 "nbformat": 4,
 "nbformat_minor": 2
}
