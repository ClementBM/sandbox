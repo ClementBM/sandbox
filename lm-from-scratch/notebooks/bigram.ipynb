{
 "cells": [
  {
   "cell_type": "code",
   "execution_count": 1,
   "metadata": {},
   "outputs": [],
   "source": [
    "import torch\n",
    "from lm_from_scratch.corpus.decision_corpus import DecisionCorpus\n",
    "from lm_from_scratch.tokenizers.char_tokenizer import CharLevelTokenizer\n",
    "from lm_from_scratch.models.bigram import BigramLanguageModel\n",
    "\n",
    "BATCH_SIZE = 32 # how many independent sequences will we process in parallel?\n",
    "BLOCK_SIZE = 8 # what is the maximum context length for predictions?\n",
    "MAX_ITERS = 3000\n",
    "EVAL_INTERVAL = 300\n",
    "LEARNING_RATE = 1e-2\n",
    "DEVICE = 'cuda' if torch.cuda.is_available() else 'cpu'\n",
    "EVAL_ITERS = 200"
   ]
  },
  {
   "cell_type": "code",
   "execution_count": 2,
   "metadata": {},
   "outputs": [],
   "source": [
    "corpus = DecisionCorpus()\n",
    "\n",
    "corpus_df = corpus.df.sample(\n",
    "        frac=1,\n",
    "        random_state=42\n",
    "    ).reset_index(\n",
    "        drop=True)\n",
    "\n",
    "# Train and test splits\n",
    "n = int(0.9*len(corpus_df)) # first 90% will be train, rest val\n",
    "\n",
    "data = corpus.get_text()\n",
    "\n",
    "tokenizer = CharLevelTokenizer(\"\".join(data))\n",
    "corpus_df[\"idx\"] = [torch.tensor(tokenizer.encode(text), dtype=torch.long) for text in data]\n",
    "\n",
    "\n",
    "train_data = corpus_df[\"idx\"][:n]\n",
    "val_data = corpus_df[\"idx\"][n:].reset_index(drop=True)"
   ]
  },
  {
   "cell_type": "code",
   "execution_count": 3,
   "metadata": {},
   "outputs": [],
   "source": [
    "# data loading\n",
    "def get_batch(split):\n",
    "    # generate a small batch of data of inputs x and targets y\n",
    "    data = train_data if split == 'train' else val_data\n",
    "\n",
    "    doc_ix = torch.randint(len(data), (BATCH_SIZE,))\n",
    "    doc_token_ix = []\n",
    "\n",
    "    for doc_i in doc_ix:\n",
    "        ix = torch.randint(len(data[int(doc_i)]) - BLOCK_SIZE, (1,))\n",
    "        doc_token_ix.append((int(doc_i), ix))\n",
    "    \n",
    "    x = torch.stack([data[i][j:j+BLOCK_SIZE] for i,j in doc_token_ix])\n",
    "    y = torch.stack([data[i][j+1:j+BLOCK_SIZE+1] for i,j in doc_token_ix])\n",
    "\n",
    "    x, y = x.to(DEVICE), y.to(DEVICE)\n",
    "    return x, y\n"
   ]
  },
  {
   "cell_type": "code",
   "execution_count": 6,
   "metadata": {},
   "outputs": [],
   "source": [
    "model = BigramLanguageModel(tokenizer.vocab_size)\n",
    "m = model.to(DEVICE)"
   ]
  },
  {
   "cell_type": "code",
   "execution_count": 7,
   "metadata": {},
   "outputs": [
    {
     "name": "stdout",
     "output_type": "stream",
     "text": [
      "step 0: train loss 5.5957, val loss 5.6067\n",
      "step 300: train loss 3.0006, val loss 3.0194\n",
      "step 600: train loss 2.4963, val loss 2.5214\n",
      "step 900: train loss 2.3935, val loss 2.4149\n",
      "step 1200: train loss 2.3616, val loss 2.4074\n",
      "step 1500: train loss 2.3387, val loss 2.3893\n",
      "step 1800: train loss 2.3371, val loss 2.3695\n",
      "step 2100: train loss 2.3329, val loss 2.3643\n",
      "step 2400: train loss 2.3305, val loss 2.3637\n",
      "step 2700: train loss 2.3247, val loss 2.3680\n"
     ]
    }
   ],
   "source": [
    "@torch.no_grad()\n",
    "def estimate_loss():\n",
    "    out = {}\n",
    "    model.eval()\n",
    "    for split in ['train', 'val']:\n",
    "        losses = torch.zeros(EVAL_ITERS)\n",
    "        for k in range(EVAL_ITERS):\n",
    "            X, Y = get_batch(split)\n",
    "            logits, loss = model(X, Y)\n",
    "            losses[k] = loss.item()\n",
    "        out[split] = losses.mean()\n",
    "    model.train()\n",
    "    return out\n",
    "\n",
    "# create a PyTorch optimizer\n",
    "optimizer = torch.optim.AdamW(model.parameters(), lr=LEARNING_RATE)\n",
    "\n",
    "for iter in range(MAX_ITERS):\n",
    "\n",
    "    # every once in a while evaluate the loss on train and val sets\n",
    "    if iter % EVAL_INTERVAL == 0:\n",
    "        losses = estimate_loss()\n",
    "        print(f\"step {iter}: train loss {losses['train']:.4f}, val loss {losses['val']:.4f}\")\n",
    "\n",
    "    # sample a batch of data\n",
    "    xb, yb = get_batch('train')\n",
    "\n",
    "    # evaluate the loss\n",
    "    logits, loss = model(xb, yb)\n",
    "    optimizer.zero_grad(set_to_none=True)\n",
    "    loss.backward()\n",
    "    optimizer.step()\n"
   ]
  }
 ],
 "metadata": {
  "kernelspec": {
   "display_name": ".venv",
   "language": "python",
   "name": "python3"
  },
  "language_info": {
   "codemirror_mode": {
    "name": "ipython",
    "version": 3
   },
   "file_extension": ".py",
   "mimetype": "text/x-python",
   "name": "python",
   "nbconvert_exporter": "python",
   "pygments_lexer": "ipython3",
   "version": "3.10.12"
  }
 },
 "nbformat": 4,
 "nbformat_minor": 2
}
