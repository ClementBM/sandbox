{
 "cells": [
  {
   "cell_type": "markdown",
   "metadata": {},
   "source": [
    "nous-hermes-13b-code.Q4_K_M.gguf\n",
    "\n",
    "https://huggingface.co/TheBloke/Nous-Hermes-13B-Code-GGUF"
   ]
  },
  {
   "cell_type": "code",
   "execution_count": 1,
   "metadata": {},
   "outputs": [
    {
     "data": {
      "application/vnd.jupyter.widget-view+json": {
       "model_id": "7c5ef8fda6f045cca78c19550e7f0707",
       "version_major": 2,
       "version_minor": 0
      },
      "text/plain": [
       "Fetching 1 files:   0%|          | 0/1 [00:00<?, ?it/s]"
      ]
     },
     "metadata": {},
     "output_type": "display_data"
    },
    {
     "data": {
      "application/vnd.jupyter.widget-view+json": {
       "model_id": "a393b09e41b7412e9d68636c5d9c2435",
       "version_major": 2,
       "version_minor": 0
      },
      "text/plain": [
       "Fetching 0 files: 0it [00:00, ?it/s]"
      ]
     },
     "metadata": {},
     "output_type": "display_data"
    }
   ],
   "source": [
    "from ctransformers import AutoModelForCausalLM\n",
    "\n",
    "MAX_CONTEXT_LENGTH = 4096\n",
    "\n",
    "# Set gpu_layers to the number of layers to offload to GPU. Set to 0 if no GPU acceleration is available on your system.\n",
    "# context_length=MAX_CONTEXT_LENGTH\n",
    "llm = AutoModelForCausalLM.from_pretrained(\"TheBloke/Nous-Hermes-13B-Code-GGUF\", model_file=\"nous-hermes-13b-code.q4_K_M.gguf\", model_type=\"llama\", gpu_layers=10)\n"
   ]
  },
  {
   "cell_type": "code",
   "execution_count": 10,
   "metadata": {},
   "outputs": [],
   "source": [
    "PROMPT_TEMPLATE=\"[INST] <<SYS>>\\n{system_prompt}\\n<</SYS>> [/INST]\\n\\n{context}\\n\\n[INST] {user_prompt}\\n\\nResponse in python:[/INST]\"\n"
   ]
  },
  {
   "cell_type": "code",
   "execution_count": 15,
   "metadata": {},
   "outputs": [
    {
     "name": "stdout",
     "output_type": "stream",
     "text": [
      "\n",
      "def reverse_vowels(s): \n",
      "    vowels = 'aeiouAEIOU'\n",
      "    reversed_str = ''\n",
      "    for char in s:\n",
      "        if char in vowels:\n",
      "            char = char[::-1]\n",
      "        reversed_str += char\n",
      "    return reversed_str\n"
     ]
    }
   ],
   "source": [
    "print(llm(PROMPT_TEMPLATE.format(**{\n",
    "        \"system_prompt\": \"\",\n",
    "        \"context\": \"\",\n",
    "        \"user_prompt\": \"Given a string s, reverse only all the vowels in the string and return it.\",\n",
    "    })))"
   ]
  },
  {
   "cell_type": "code",
   "execution_count": null,
   "metadata": {},
   "outputs": [],
   "source": []
  }
 ],
 "metadata": {
  "kernelspec": {
   "display_name": ".venv",
   "language": "python",
   "name": "python3"
  },
  "language_info": {
   "codemirror_mode": {
    "name": "ipython",
    "version": 3
   },
   "file_extension": ".py",
   "mimetype": "text/x-python",
   "name": "python",
   "nbconvert_exporter": "python",
   "pygments_lexer": "ipython3",
   "version": "3.10.12"
  },
  "orig_nbformat": 4
 },
 "nbformat": 4,
 "nbformat_minor": 2
}
