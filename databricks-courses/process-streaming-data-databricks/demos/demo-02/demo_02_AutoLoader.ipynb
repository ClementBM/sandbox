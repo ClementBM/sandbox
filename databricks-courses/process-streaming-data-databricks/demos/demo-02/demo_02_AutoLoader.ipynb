{
 "cells": [
  {
   "cell_type": "markdown",
   "metadata": {
    "application/vnd.databricks.v1+cell": {
     "inputWidgets": {},
     "nuid": "f36557a8-e13b-423a-8a00-3553b3a495ee",
     "showTitle": false,
     "title": ""
    }
   },
   "source": [
    "TODO before recording:\n",
    "\n",
    "Before starting the demo, Let's delete all the data from the laptop_source_stream folder except laptops_01.csv and laptops_02.csv"
   ]
  },
  {
   "cell_type": "code",
   "execution_count": 0,
   "metadata": {
    "application/vnd.databricks.v1+cell": {
     "inputWidgets": {},
     "nuid": "47f7f9ea-dce6-4c45-b539-343a202bd63a",
     "showTitle": false,
     "title": ""
    }
   },
   "outputs": [
    {
     "data": {
      "text/html": [
       "<style scoped>\n",
       "  .ansiout {\n",
       "    display: block;\n",
       "    unicode-bidi: embed;\n",
       "    white-space: pre-wrap;\n",
       "    word-wrap: break-word;\n",
       "    word-break: break-all;\n",
       "    font-family: \"Source Code Pro\", \"Menlo\", monospace;;\n",
       "    font-size: 13px;\n",
       "    color: #555;\n",
       "    margin-left: 4px;\n",
       "    line-height: 19px;\n",
       "  }\n",
       "</style>\n",
       "<div class=\"ansiout\"></div>"
      ]
     },
     "metadata": {
      "application/vnd.databricks.v1+output": {
       "addedWidgets": {},
       "arguments": {},
       "data": "<div class=\"ansiout\"></div>",
       "datasetInfos": [],
       "metadata": {},
       "removedWidgets": [],
       "type": "html"
      }
     },
     "output_type": "display_data"
    }
   ],
   "source": [
    "laptop_stream_data = spark.readStream.format(\"cloudFiles\") \\\n",
    "                          .option(\"cloudFiles.format\", \"csv\") \\\n",
    "                          .option(\"cloudFiles.schemaLocation\", \n",
    "                                  \"dbfs:/FileStore/datasets/laptop_source_stream\") \\\n",
    "                          .load(\"dbfs:/FileStore/datasets/laptop_source_stream\")"
   ]
  },
  {
   "cell_type": "markdown",
   "metadata": {
    "application/vnd.databricks.v1+cell": {
     "inputWidgets": {},
     "nuid": "c1d7dd40-1741-4cb7-b97f-f083c8415678",
     "showTitle": false,
     "title": ""
    }
   },
   "source": [
    "* TODO Recording for cell below\n",
    "* Show the \"_rescued_data\" column below\n",
    "* Expand the query and show the dashboard\n",
    "* Go to where the data is in the /laptop_source_stream/ folder and show the schema file there"
   ]
  },
  {
   "cell_type": "code",
   "execution_count": 0,
   "metadata": {
    "application/vnd.databricks.v1+cell": {
     "inputWidgets": {},
     "nuid": "580a3243-0587-4e05-87cc-30ccf4ae16a6",
     "showTitle": false,
     "title": ""
    }
   },
   "outputs": [
    {
     "data": {
      "text/html": [
       "<style scoped>\n",
       "  .table-result-container {\n",
       "    max-height: 300px;\n",
       "    overflow: auto;\n",
       "  }\n",
       "  table, th, td {\n",
       "    border: 1px solid black;\n",
       "    border-collapse: collapse;\n",
       "  }\n",
       "  th, td {\n",
       "    padding: 5px;\n",
       "  }\n",
       "  th {\n",
       "    text-align: left;\n",
       "  }\n",
       "</style><div class='table-result-container'><table class='table-result'><thead style='background-color: white'><tr><th>Id</th><th>Company</th><th>Product</th><th>TypeName</th><th>Price_euros</th><th>color</th><th>_rescued_data</th></tr></thead><tbody><tr><td>41</td><td>Asus</td><td>X540UA-DM186 (i3-6006U/4GB/1TB/FHD/Linux)</td><td>Notebook</td><td>389</td><td>null</td><td>{\"TYPENAME\":\"Notebook\",\"_file_path\":\"dbfs:/FileStore/datasets/laptop_source_stream/laptops_03_extracol.csv\"}</td></tr><tr><td>42</td><td>Dell</td><td>Inspiron 7577</td><td>Gaming</td><td>1499</td><td>null</td><td>{\"TYPENAME\":\"Gaming\",\"_file_path\":\"dbfs:/FileStore/datasets/laptop_source_stream/laptops_03_extracol.csv\"}</td></tr><tr><td>43</td><td>Asus</td><td>X542UQ-GO005 (i5-7200U/8GB/1TB/GeForce</td><td>Notebook</td><td>522.99</td><td>null</td><td>{\"TYPENAME\":\"Notebook\",\"_file_path\":\"dbfs:/FileStore/datasets/laptop_source_stream/laptops_03_extracol.csv\"}</td></tr><tr><td>44</td><td>Acer</td><td>Aspire A515-51G</td><td>Notebook</td><td>682</td><td>null</td><td>{\"TYPENAME\":\"Notebook\",\"_file_path\":\"dbfs:/FileStore/datasets/laptop_source_stream/laptops_03_extracol.csv\"}</td></tr><tr><td>45</td><td>Dell</td><td>Inspiron 7773</td><td>2 in 1 Convertible</td><td>999</td><td>null</td><td>{\"TYPENAME\":\"2 in 1 Convertible\",\"_file_path\":\"dbfs:/FileStore/datasets/laptop_source_stream/laptops_03_extracol.csv\"}</td></tr><tr><td>46</td><td>Apple</td><td>MacBook Pro</td><td>Ultrabook</td><td>1419</td><td>null</td><td>{\"TYPENAME\":\"Ultrabook\",\"_file_path\":\"dbfs:/FileStore/datasets/laptop_source_stream/laptops_03_extracol.csv\"}</td></tr><tr><td>47</td><td>Lenovo</td><td>IdeaPad 320-15ISK</td><td>Notebook</td><td>369</td><td>null</td><td>{\"TYPENAME\":\"Notebook\",\"_file_path\":\"dbfs:/FileStore/datasets/laptop_source_stream/laptops_03_extracol.csv\"}</td></tr><tr><td>48</td><td>Asus</td><td>Rog Strix</td><td>Gaming</td><td>1299</td><td>null</td><td>{\"TYPENAME\":\"Gaming\",\"_file_path\":\"dbfs:/FileStore/datasets/laptop_source_stream/laptops_03_extracol.csv\"}</td></tr><tr><td>49</td><td>Dell</td><td>Inspiron 3567</td><td>Notebook</td><td>639</td><td>null</td><td>{\"TYPENAME\":\"Notebook\",\"_file_path\":\"dbfs:/FileStore/datasets/laptop_source_stream/laptops_03_extracol.csv\"}</td></tr><tr><td>50</td><td>Asus</td><td>X751NV-TY001T (N4200/4GB/1TB/GeForce</td><td>Notebook</td><td>466</td><td>null</td><td>{\"TYPENAME\":\"Notebook\",\"_file_path\":\"dbfs:/FileStore/datasets/laptop_source_stream/laptops_03_extracol.csv\"}</td></tr><tr><td>51</td><td>Lenovo</td><td>Yoga Book</td><td>2 in 1 Convertible</td><td>319</td><td>null</td><td>{\"TYPENAME\":\"2 in 1 Convertible\",\"_file_path\":\"dbfs:/FileStore/datasets/laptop_source_stream/laptops_03_extracol.csv\"}</td></tr><tr><td>52</td><td>Acer</td><td>Aspire A515-51G</td><td>Notebook</td><td>841</td><td>null</td><td>{\"TYPENAME\":\"Notebook\",\"_file_path\":\"dbfs:/FileStore/datasets/laptop_source_stream/laptops_03_extracol.csv\"}</td></tr><tr><td>53</td><td>HP</td><td>255 G6</td><td>Notebook</td><td>398.49</td><td>null</td><td>{\"TYPENAME\":\"Notebook\",\"_file_path\":\"dbfs:/FileStore/datasets/laptop_source_stream/laptops_03_extracol.csv\"}</td></tr><tr><td>54</td><td>HP</td><td>ProBook 430</td><td>Notebook</td><td>1103</td><td>null</td><td>{\"TYPENAME\":\"Notebook\",\"_file_path\":\"dbfs:/FileStore/datasets/laptop_source_stream/laptops_03_extracol.csv\"}</td></tr><tr><td>55</td><td>Acer</td><td>Aspire 3</td><td>Notebook</td><td>384</td><td>null</td><td>{\"TYPENAME\":\"Notebook\",\"_file_path\":\"dbfs:/FileStore/datasets/laptop_source_stream/laptops_03_extracol.csv\"}</td></tr><tr><td>56</td><td>Dell</td><td>Inspiron 3576</td><td>Notebook</td><td>767.8</td><td>null</td><td>{\"TYPENAME\":\"Notebook\",\"_file_path\":\"dbfs:/FileStore/datasets/laptop_source_stream/laptops_03_extracol.csv\"}</td></tr><tr><td>57</td><td>HP</td><td>15-bs002nv (i3-6006U/4GB/128GB/FHD/W10)</td><td>Notebook</td><td>439</td><td>null</td><td>{\"TYPENAME\":\"Notebook\",\"_file_path\":\"dbfs:/FileStore/datasets/laptop_source_stream/laptops_03_extracol.csv\"}</td></tr><tr><td>58</td><td>Asus</td><td>VivoBook Max</td><td>Notebook</td><td>586.19</td><td>null</td><td>{\"TYPENAME\":\"Notebook\",\"_file_path\":\"dbfs:/FileStore/datasets/laptop_source_stream/laptops_03_extracol.csv\"}</td></tr><tr><td>59</td><td>MSI</td><td>GS73VR 7RG</td><td>Gaming</td><td>2449</td><td>null</td><td>{\"TYPENAME\":\"Gaming\",\"_file_path\":\"dbfs:/FileStore/datasets/laptop_source_stream/laptops_03_extracol.csv\"}</td></tr><tr><td>81</td><td>HP</td><td>ProBook 470</td><td>Notebook</td><td>977</td><td>red</td><td>null</td></tr><tr><td>82</td><td>Dell</td><td>Latitude 5590</td><td>Ultrabook</td><td>1096.16</td><td>green</td><td>null</td></tr><tr><td>83</td><td>Apple</td><td>MacBook 12\"\"</td><td>Ultrabook</td><td>1510</td><td>white</td><td>null</td></tr><tr><td>84</td><td>HP</td><td>ProBook 440</td><td>Notebook</td><td>860</td><td>white</td><td>null</td></tr><tr><td>85</td><td>Lenovo</td><td>IdeaPad 320-15AST</td><td>Notebook</td><td>399</td><td>white</td><td>null</td></tr><tr><td>86</td><td>Acer</td><td>Aspire 3</td><td>Notebook</td><td>395</td><td>white</td><td>null</td></tr><tr><td>87</td><td>Dell</td><td>Inspiron 7577</td><td>Gaming</td><td>1349</td><td>white</td><td>null</td></tr><tr><td>88</td><td>HP</td><td>Pavilion 15-CK000nv</td><td>Ultrabook</td><td>699</td><td>white</td><td>null</td></tr><tr><td>89</td><td>HP</td><td>250 G6</td><td>Notebook</td><td>598.99</td><td>blue</td><td>null</td></tr><tr><td>90</td><td>Asus</td><td>FX503VM-E4007T (i7-7700HQ/16GB/1TB</td><td>Gaming</td><td>1449</td><td>blue</td><td>null</td></tr><tr><td>91</td><td>Dell</td><td>XPS 13</td><td>Ultrabook</td><td>1649</td><td>blue</td><td>null</td></tr><tr><td>92</td><td>Asus</td><td>FX550IK-DM018T (FX-9830P/8GB/1TB/Radeon</td><td>Gaming</td><td>699</td><td>blue</td><td>null</td></tr><tr><td>93</td><td>Acer</td><td>Aspire 5</td><td>Notebook</td><td>689</td><td>blue</td><td>null</td></tr><tr><td>94</td><td>HP</td><td>Probook 430</td><td>Notebook</td><td>1197</td><td>blue</td><td>null</td></tr><tr><td>95</td><td>Dell</td><td>Inspiron 7577</td><td>Gaming</td><td>1195</td><td>silver</td><td>null</td></tr><tr><td>96</td><td>Asus</td><td>Zenbook UX430UA</td><td>Ultrabook</td><td>1049</td><td>silver</td><td>null</td></tr><tr><td>97</td><td>Acer</td><td>Spin 5</td><td>2 in 1 Convertible</td><td>847</td><td>silver</td><td>null</td></tr><tr><td>98</td><td>Dell</td><td>Inspiron 3567</td><td>Notebook</td><td>599.9</td><td>silver</td><td>null</td></tr><tr><td>99</td><td>Dell</td><td>Inspiron 3567</td><td>Notebook</td><td>485</td><td>silver</td><td>null</td></tr><tr><td>100</td><td>Asus</td><td>X541UV-DM1439T (i3-7100U/6GB/256GB/GeForce</td><td>Notebook</td><td>577</td><td>silver</td><td>null</td></tr><tr><td>60</td><td>Asus</td><td>X541UA-DM1897 (i3-6006U/4GB/256GB/FHD/Linux)</td><td>Notebook</td><td>415</td><td>null</td><td>null</td></tr><tr><td>61</td><td>Dell</td><td>Inspiron 5770</td><td>Notebook</td><td>1299</td><td>null</td><td>null</td></tr><tr><td>62</td><td>Dell</td><td>Vostro 5471</td><td>Ultrabook</td><td>879</td><td>null</td><td>null</td></tr><tr><td>63</td><td>Lenovo</td><td>IdeaPad 520S-14IKB</td><td>Notebook</td><td>599</td><td>null</td><td>null</td></tr><tr><td>64</td><td>Asus</td><td>UX410UA-GV350T (i5-8250U/8GB/256GB/FHD/W10)</td><td>Notebook</td><td>941</td><td>null</td><td>null</td></tr><tr><td>66</td><td>HP</td><td>250 G6</td><td>Notebook</td><td>690</td><td>null</td><td>null</td></tr><tr><td>67</td><td>Asus</td><td>ZenBook Pro</td><td>Ultrabook</td><td>1983</td><td>null</td><td>null</td></tr><tr><td>68</td><td>HP</td><td>250 G6</td><td>Notebook</td><td>438.69</td><td>null</td><td>null</td></tr><tr><td>69</td><td>HP</td><td>Stream 14-AX040wm</td><td>Notebook</td><td>229</td><td>null</td><td>null</td></tr><tr><td>70</td><td>Lenovo</td><td>V310-15ISK (i5-7200U/4GB/1TB/FHD/W10)</td><td>Notebook</td><td>549</td><td>null</td><td>null</td></tr><tr><td>71</td><td>Asus</td><td>FX753VE-GC093 (i7-7700HQ/12GB/1TB/GeForce</td><td>Gaming</td><td>949</td><td>null</td><td>null</td></tr><tr><td>72</td><td>Microsoft</td><td>Surface Laptop</td><td>Ultrabook</td><td>1089</td><td>null</td><td>null</td></tr><tr><td>73</td><td>Dell</td><td>Inspiron 5370</td><td>Ultrabook</td><td>955</td><td>null</td><td>null</td></tr><tr><td>74</td><td>Dell</td><td>Inspiron 5570</td><td>Notebook</td><td>870</td><td>null</td><td>null</td></tr><tr><td>75</td><td>MSI</td><td>GL72M 7RDX</td><td>Gaming</td><td>1095</td><td>null</td><td>null</td></tr><tr><td>76</td><td>Acer</td><td>Aspire E5-475</td><td>Notebook</td><td>389</td><td>null</td><td>null</td></tr><tr><td>77</td><td>Asus</td><td>FX503VD-E4022T (i7-7700HQ/8GB/1TB/GeForce</td><td>Gaming</td><td>949</td><td>null</td><td>null</td></tr><tr><td>78</td><td>Lenovo</td><td>IdeaPad 320-15IKBN</td><td>Notebook</td><td>519</td><td>null</td><td>null</td></tr><tr><td>79</td><td>Dell</td><td>Inspiron 5570</td><td>Notebook</td><td>855</td><td>null</td><td>null</td></tr><tr><td>80</td><td>Acer</td><td>Aspire A515-51G-32MX</td><td>Notebook</td><td>530</td><td>null</td><td>null</td></tr><tr><td>21</td><td>Asus</td><td>Vivobook E200HA</td><td>Netbook</td><td>191.9</td><td>null</td><td>null</td></tr><tr><td>22</td><td>Lenovo</td><td>Legion Y520-15IKBN</td><td>Gaming</td><td>999</td><td>null</td><td>null</td></tr><tr><td>23</td><td>HP</td><td>255 G6</td><td>Notebook</td><td>258</td><td>null</td><td>null</td></tr><tr><td>24</td><td>Dell</td><td>Inspiron 5379</td><td>2 in 1 Convertible</td><td>819</td><td>null</td><td>null</td></tr><tr><td>25</td><td>HP</td><td>15-BS101nv (i7-8550U/8GB/256GB/FHD/W10)</td><td>Ultrabook</td><td>659</td><td>null</td><td>null</td></tr><tr><td>26</td><td>Dell</td><td>Inspiron 3567</td><td>Notebook</td><td>418.64</td><td>null</td><td>null</td></tr><tr><td>27</td><td>Apple</td><td>MacBook Air</td><td>Ultrabook</td><td>1099</td><td>null</td><td>null</td></tr><tr><td>28</td><td>Dell</td><td>Inspiron 5570</td><td>Notebook</td><td>800</td><td>null</td><td>null</td></tr><tr><td>29</td><td>Dell</td><td>Latitude 5590</td><td>Ultrabook</td><td>1298</td><td>null</td><td>null</td></tr><tr><td>30</td><td>HP</td><td>ProBook 470</td><td>Notebook</td><td>896</td><td>null</td><td>null</td></tr><tr><td>31</td><td>Chuwi</td><td>LapBook 15.6\"\"</td><td>Notebook</td><td>244.99</td><td>null</td><td>null</td></tr><tr><td>32</td><td>Asus</td><td>E402WA-GA010T (E2-6110/2GB/32GB/W10)</td><td>Notebook</td><td>199</td><td>null</td><td>null</td></tr><tr><td>33</td><td>HP</td><td>17-ak001nv (A6-9220/4GB/500GB/Radeon</td><td>Notebook</td><td>439</td><td>null</td><td>null</td></tr><tr><td>34</td><td>Dell</td><td>XPS 13</td><td>Ultrabook</td><td>1869</td><td>null</td><td>null</td></tr><tr><td>35</td><td>Apple</td><td>MacBook Air</td><td>Ultrabook</td><td>998</td><td>null</td><td>null</td></tr><tr><td>36</td><td>Lenovo</td><td>IdeaPad 120S-14IAP</td><td>Notebook</td><td>249</td><td>null</td><td>null</td></tr><tr><td>37</td><td>Acer</td><td>Aspire 3</td><td>Notebook</td><td>367</td><td>null</td><td>null</td></tr><tr><td>38</td><td>Dell</td><td>Inspiron 5770</td><td>Notebook</td><td>979</td><td>null</td><td>null</td></tr><tr><td>39</td><td>HP</td><td>250 G6</td><td>Notebook</td><td>488.69</td><td>null</td><td>null</td></tr><tr><td>40</td><td>HP</td><td>ProBook 450</td><td>Notebook</td><td>879</td><td>null</td><td>null</td></tr><tr><td>1</td><td>Apple</td><td>MacBook Pro</td><td>Ultrabook</td><td>1339.69</td><td>null</td><td>null</td></tr><tr><td>2</td><td>Apple</td><td>Macbook Air</td><td>Ultrabook</td><td>898.94</td><td>null</td><td>null</td></tr><tr><td>3</td><td>HP</td><td>250 G6</td><td>Notebook</td><td>575</td><td>null</td><td>null</td></tr><tr><td>4</td><td>Apple</td><td>MacBook Pro</td><td>Ultrabook</td><td>2537.45</td><td>null</td><td>null</td></tr><tr><td>5</td><td>Apple</td><td>MacBook Pro</td><td>Ultrabook</td><td>1803.6</td><td>null</td><td>null</td></tr><tr><td>6</td><td>Acer</td><td>Aspire 3</td><td>Notebook</td><td>400</td><td>null</td><td>null</td></tr><tr><td>7</td><td>Apple</td><td>MacBook Pro</td><td>Ultrabook</td><td>2139.97</td><td>null</td><td>null</td></tr><tr><td>8</td><td>Apple</td><td>Macbook Air</td><td>Ultrabook</td><td>1158.7</td><td>null</td><td>null</td></tr><tr><td>9</td><td>Asus</td><td>ZenBook UX430UN</td><td>Ultrabook</td><td>1495</td><td>null</td><td>null</td></tr><tr><td>10</td><td>Acer</td><td>Swift 3</td><td>Ultrabook</td><td>770</td><td>null</td><td>null</td></tr><tr><td>11</td><td>HP</td><td>250 G6</td><td>Notebook</td><td>393.9</td><td>null</td><td>null</td></tr><tr><td>12</td><td>HP</td><td>250 G6</td><td>Notebook</td><td>344.99</td><td>null</td><td>null</td></tr><tr><td>13</td><td>Apple</td><td>MacBook Pro</td><td>Ultrabook</td><td>2439.97</td><td>null</td><td>null</td></tr><tr><td>14</td><td>Dell</td><td>Inspiron 3567</td><td>Notebook</td><td>498.9</td><td>null</td><td>null</td></tr><tr><td>15</td><td>Apple</td><td>MacBook 12\"\"</td><td>Ultrabook</td><td>1262.4</td><td>null</td><td>null</td></tr><tr><td>16</td><td>Apple</td><td>MacBook Pro</td><td>Ultrabook</td><td>1518.55</td><td>null</td><td>null</td></tr><tr><td>17</td><td>Dell</td><td>Inspiron 3567</td><td>Notebook</td><td>745</td><td>null</td><td>null</td></tr><tr><td>18</td><td>Apple</td><td>MacBook Pro</td><td>Ultrabook</td><td>2858</td><td>null</td><td>null</td></tr><tr><td>19</td><td>Lenovo</td><td>IdeaPad 320-15IKB</td><td>Notebook</td><td>499</td><td>null</td><td>null</td></tr><tr><td>20</td><td>Dell</td><td>XPS 13</td><td>Ultrabook</td><td>979</td><td>null</td><td>null</td></tr><tr><td>102</td><td>HP</td><td>Omen 15-ce007nv</td><td>Gaming</td><td>1249</td><td>null</td><td>null</td></tr><tr><td>103</td><td>HP</td><td>15-bs017nv (i7-7500U/8GB/256GB/Radeon</td><td>Notebook</td><td>719</td><td>null</td><td>null</td></tr><tr><td>104</td><td>HP</td><td>15-bw000nv (E2-9000e/4GB/500GB/Radeon</td><td>Notebook</td><td>349</td><td>null</td><td>null</td></tr><tr><td>105</td><td>Dell</td><td>Inspiron 3576</td><td>Notebook</td><td>647</td><td>null</td><td>null</td></tr><tr><td>106</td><td>HP</td><td>Envy 13-ad009n</td><td>Ultrabook</td><td>1119</td><td>null</td><td>null</td></tr><tr><td>107</td><td>Microsoft</td><td>Surface Laptop</td><td>Ultrabook</td><td>1340</td><td>null</td><td>null</td></tr><tr><td>108</td><td>HP</td><td>Pavilion 14-BK001nv</td><td>Notebook</td><td>659</td><td>null</td><td>null</td></tr><tr><td>109</td><td>Lenovo</td><td>Ideapad 310-15ISK</td><td>Notebook</td><td>414.9</td><td>null</td><td>null</td></tr><tr><td>110</td><td>Asus</td><td>UX430UQ-GV209R (i7-7500U/8GB/256GB/GeForce</td><td>Ultrabook</td><td>1193</td><td>null</td><td>null</td></tr><tr><td>111</td><td>MSI</td><td>GP62M 7REX</td><td>Gaming</td><td>1299</td><td>null</td><td>null</td></tr><tr><td>112</td><td>Lenovo</td><td>Thinkpad T470</td><td>Notebook</td><td>1480</td><td>null</td><td>null</td></tr><tr><td>113</td><td>Asus</td><td>VivoBook S15</td><td>Ultrabook</td><td>1262</td><td>null</td><td>null</td></tr><tr><td>114</td><td>Dell</td><td>XPS 13</td><td>Ultrabook</td><td>1379</td><td>null</td><td>null</td></tr><tr><td>115</td><td>Lenovo</td><td>ThinkPad Yoga</td><td>2 in 1 Convertible</td><td>1399</td><td>null</td><td>null</td></tr><tr><td>116</td><td>HP</td><td>Probook 440</td><td>Notebook</td><td>722</td><td>null</td><td>null</td></tr><tr><td>117</td><td>Dell</td><td>XPS 13</td><td>Ultrabook</td><td>1629</td><td>null</td><td>null</td></tr><tr><td>118</td><td>HP</td><td>Spectre x360</td><td>2 in 1 Convertible</td><td>1398.99</td><td>null</td><td>null</td></tr><tr><td>119</td><td>HP</td><td>Probook 440</td><td>Notebook</td><td>1084</td><td>null</td><td>null</td></tr><tr><td>120</td><td>Dell</td><td>Inspiron 7570</td><td>Notebook</td><td>1130.33</td><td>null</td><td>null</td></tr><tr><td>121</td><td>Asus</td><td>X705UV-BX074T (i3-6006U/4GB/1TB/GeForce</td><td>Notebook</td><td>564</td><td>null</td><td>null</td></tr><tr><td>122</td><td>Asus</td><td>VivoBook S15</td><td>Notebook</td><td>1118</td><td>null</td><td>null</td></tr><tr><td>123</td><td>Acer</td><td>Spin 3</td><td>Notebook</td><td>479</td><td>null</td><td>null</td></tr><tr><td>124</td><td>MSI</td><td>GS63VR 7RG</td><td>Gaming</td><td>2241.5</td><td>null</td><td>null</td></tr><tr><td>125</td><td>Lenovo</td><td>IdeaPad 320-15IKBN</td><td>Notebook</td><td>629</td><td>null</td><td>null</td></tr><tr><td>126</td><td>HP</td><td>Probook 470</td><td>Notebook</td><td>1271</td><td>null</td><td>null</td></tr><tr><td>127</td><td>Acer</td><td>Aspire 3</td><td>Notebook</td><td>451</td><td>null</td><td>null</td></tr><tr><td>128</td><td>HP</td><td>250 G6</td><td>Notebook</td><td>259</td><td>null</td><td>null</td></tr><tr><td>129</td><td>HP</td><td>Probook 440</td><td>Notebook</td><td>812</td><td>null</td><td>null</td></tr><tr><td>130</td><td>Asus</td><td>E402WA-GA007T (E2-6110/4GB/64GB/W10</td><td>Notebook</td><td>277.99</td><td>null</td><td>null</td></tr><tr><td>131</td><td>Dell</td><td>Inspiron 5770</td><td>Notebook</td><td>1396</td><td>null</td><td>null</td></tr><tr><td>132</td><td>HP</td><td>ProBook 470</td><td>Notebook</td><td>928</td><td>null</td><td>null</td></tr><tr><td>133</td><td>Dell</td><td>Inspiron 5567</td><td>Notebook</td><td>638.99</td><td>null</td><td>null</td></tr><tr><td>134</td><td>Dell</td><td>Inspiron 3567</td><td>Notebook</td><td>449</td><td>null</td><td>null</td></tr><tr><td>135</td><td>Acer</td><td>Swift 3</td><td>Ultrabook</td><td>884</td><td>null</td><td>null</td></tr><tr><td>136</td><td>Acer</td><td>Aspire A515-51G-37JS</td><td>Notebook</td><td>572</td><td>null</td><td>null</td></tr><tr><td>137</td><td>HP</td><td>15-BS078nr (i7-7500U/8GB/1TB/W10)</td><td>Notebook</td><td>598</td><td>null</td><td>null</td></tr><tr><td>138</td><td>HP</td><td>Probook 440</td><td>Notebook</td><td>988</td><td>null</td><td>null</td></tr><tr><td>139</td><td>Lenovo</td><td>V110-15IAP (N3350/4GB/1TB/No</td><td>Notebook</td><td>252.36</td><td>null</td><td>null</td></tr><tr><td>140</td><td>Asus</td><td>FX753VD-GC086T (i5-7300HQ/8GB/1TB</td><td>Gaming</td><td>938</td><td>null</td><td>null</td></tr><tr><td>141</td><td>Lenovo</td><td>IdeaPad 320-15IKBN</td><td>Notebook</td><td>499</td><td>null</td><td>null</td></tr></tbody></table></div>"
      ]
     },
     "metadata": {
      "application/vnd.databricks.v1+output": {
       "addedWidgets": {},
       "aggData": [],
       "aggError": "",
       "aggOverflow": false,
       "aggSchema": [],
       "aggSeriesLimitReached": false,
       "aggType": "",
       "arguments": {},
       "columnCustomDisplayInfos": {},
       "data": [
        [
         "41",
         "Asus",
         "X540UA-DM186 (i3-6006U/4GB/1TB/FHD/Linux)",
         "Notebook",
         "389",
         null,
         "{\"TYPENAME\":\"Notebook\",\"_file_path\":\"dbfs:/FileStore/datasets/laptop_source_stream/laptops_03_extracol.csv\"}"
        ],
        [
         "42",
         "Dell",
         "Inspiron 7577",
         "Gaming",
         "1499",
         null,
         "{\"TYPENAME\":\"Gaming\",\"_file_path\":\"dbfs:/FileStore/datasets/laptop_source_stream/laptops_03_extracol.csv\"}"
        ],
        [
         "43",
         "Asus",
         "X542UQ-GO005 (i5-7200U/8GB/1TB/GeForce",
         "Notebook",
         "522.99",
         null,
         "{\"TYPENAME\":\"Notebook\",\"_file_path\":\"dbfs:/FileStore/datasets/laptop_source_stream/laptops_03_extracol.csv\"}"
        ],
        [
         "44",
         "Acer",
         "Aspire A515-51G",
         "Notebook",
         "682",
         null,
         "{\"TYPENAME\":\"Notebook\",\"_file_path\":\"dbfs:/FileStore/datasets/laptop_source_stream/laptops_03_extracol.csv\"}"
        ],
        [
         "45",
         "Dell",
         "Inspiron 7773",
         "2 in 1 Convertible",
         "999",
         null,
         "{\"TYPENAME\":\"2 in 1 Convertible\",\"_file_path\":\"dbfs:/FileStore/datasets/laptop_source_stream/laptops_03_extracol.csv\"}"
        ],
        [
         "46",
         "Apple",
         "MacBook Pro",
         "Ultrabook",
         "1419",
         null,
         "{\"TYPENAME\":\"Ultrabook\",\"_file_path\":\"dbfs:/FileStore/datasets/laptop_source_stream/laptops_03_extracol.csv\"}"
        ],
        [
         "47",
         "Lenovo",
         "IdeaPad 320-15ISK",
         "Notebook",
         "369",
         null,
         "{\"TYPENAME\":\"Notebook\",\"_file_path\":\"dbfs:/FileStore/datasets/laptop_source_stream/laptops_03_extracol.csv\"}"
        ],
        [
         "48",
         "Asus",
         "Rog Strix",
         "Gaming",
         "1299",
         null,
         "{\"TYPENAME\":\"Gaming\",\"_file_path\":\"dbfs:/FileStore/datasets/laptop_source_stream/laptops_03_extracol.csv\"}"
        ],
        [
         "49",
         "Dell",
         "Inspiron 3567",
         "Notebook",
         "639",
         null,
         "{\"TYPENAME\":\"Notebook\",\"_file_path\":\"dbfs:/FileStore/datasets/laptop_source_stream/laptops_03_extracol.csv\"}"
        ],
        [
         "50",
         "Asus",
         "X751NV-TY001T (N4200/4GB/1TB/GeForce",
         "Notebook",
         "466",
         null,
         "{\"TYPENAME\":\"Notebook\",\"_file_path\":\"dbfs:/FileStore/datasets/laptop_source_stream/laptops_03_extracol.csv\"}"
        ],
        [
         "51",
         "Lenovo",
         "Yoga Book",
         "2 in 1 Convertible",
         "319",
         null,
         "{\"TYPENAME\":\"2 in 1 Convertible\",\"_file_path\":\"dbfs:/FileStore/datasets/laptop_source_stream/laptops_03_extracol.csv\"}"
        ],
        [
         "52",
         "Acer",
         "Aspire A515-51G",
         "Notebook",
         "841",
         null,
         "{\"TYPENAME\":\"Notebook\",\"_file_path\":\"dbfs:/FileStore/datasets/laptop_source_stream/laptops_03_extracol.csv\"}"
        ],
        [
         "53",
         "HP",
         "255 G6",
         "Notebook",
         "398.49",
         null,
         "{\"TYPENAME\":\"Notebook\",\"_file_path\":\"dbfs:/FileStore/datasets/laptop_source_stream/laptops_03_extracol.csv\"}"
        ],
        [
         "54",
         "HP",
         "ProBook 430",
         "Notebook",
         "1103",
         null,
         "{\"TYPENAME\":\"Notebook\",\"_file_path\":\"dbfs:/FileStore/datasets/laptop_source_stream/laptops_03_extracol.csv\"}"
        ],
        [
         "55",
         "Acer",
         "Aspire 3",
         "Notebook",
         "384",
         null,
         "{\"TYPENAME\":\"Notebook\",\"_file_path\":\"dbfs:/FileStore/datasets/laptop_source_stream/laptops_03_extracol.csv\"}"
        ],
        [
         "56",
         "Dell",
         "Inspiron 3576",
         "Notebook",
         "767.8",
         null,
         "{\"TYPENAME\":\"Notebook\",\"_file_path\":\"dbfs:/FileStore/datasets/laptop_source_stream/laptops_03_extracol.csv\"}"
        ],
        [
         "57",
         "HP",
         "15-bs002nv (i3-6006U/4GB/128GB/FHD/W10)",
         "Notebook",
         "439",
         null,
         "{\"TYPENAME\":\"Notebook\",\"_file_path\":\"dbfs:/FileStore/datasets/laptop_source_stream/laptops_03_extracol.csv\"}"
        ],
        [
         "58",
         "Asus",
         "VivoBook Max",
         "Notebook",
         "586.19",
         null,
         "{\"TYPENAME\":\"Notebook\",\"_file_path\":\"dbfs:/FileStore/datasets/laptop_source_stream/laptops_03_extracol.csv\"}"
        ],
        [
         "59",
         "MSI",
         "GS73VR 7RG",
         "Gaming",
         "2449",
         null,
         "{\"TYPENAME\":\"Gaming\",\"_file_path\":\"dbfs:/FileStore/datasets/laptop_source_stream/laptops_03_extracol.csv\"}"
        ],
        [
         "81",
         "HP",
         "ProBook 470",
         "Notebook",
         "977",
         "red",
         null
        ],
        [
         "82",
         "Dell",
         "Latitude 5590",
         "Ultrabook",
         "1096.16",
         "green",
         null
        ],
        [
         "83",
         "Apple",
         "MacBook 12\"\"",
         "Ultrabook",
         "1510",
         "white",
         null
        ],
        [
         "84",
         "HP",
         "ProBook 440",
         "Notebook",
         "860",
         "white",
         null
        ],
        [
         "85",
         "Lenovo",
         "IdeaPad 320-15AST",
         "Notebook",
         "399",
         "white",
         null
        ],
        [
         "86",
         "Acer",
         "Aspire 3",
         "Notebook",
         "395",
         "white",
         null
        ],
        [
         "87",
         "Dell",
         "Inspiron 7577",
         "Gaming",
         "1349",
         "white",
         null
        ],
        [
         "88",
         "HP",
         "Pavilion 15-CK000nv",
         "Ultrabook",
         "699",
         "white",
         null
        ],
        [
         "89",
         "HP",
         "250 G6",
         "Notebook",
         "598.99",
         "blue",
         null
        ],
        [
         "90",
         "Asus",
         "FX503VM-E4007T (i7-7700HQ/16GB/1TB",
         "Gaming",
         "1449",
         "blue",
         null
        ],
        [
         "91",
         "Dell",
         "XPS 13",
         "Ultrabook",
         "1649",
         "blue",
         null
        ],
        [
         "92",
         "Asus",
         "FX550IK-DM018T (FX-9830P/8GB/1TB/Radeon",
         "Gaming",
         "699",
         "blue",
         null
        ],
        [
         "93",
         "Acer",
         "Aspire 5",
         "Notebook",
         "689",
         "blue",
         null
        ],
        [
         "94",
         "HP",
         "Probook 430",
         "Notebook",
         "1197",
         "blue",
         null
        ],
        [
         "95",
         "Dell",
         "Inspiron 7577",
         "Gaming",
         "1195",
         "silver",
         null
        ],
        [
         "96",
         "Asus",
         "Zenbook UX430UA",
         "Ultrabook",
         "1049",
         "silver",
         null
        ],
        [
         "97",
         "Acer",
         "Spin 5",
         "2 in 1 Convertible",
         "847",
         "silver",
         null
        ],
        [
         "98",
         "Dell",
         "Inspiron 3567",
         "Notebook",
         "599.9",
         "silver",
         null
        ],
        [
         "99",
         "Dell",
         "Inspiron 3567",
         "Notebook",
         "485",
         "silver",
         null
        ],
        [
         "100",
         "Asus",
         "X541UV-DM1439T (i3-7100U/6GB/256GB/GeForce",
         "Notebook",
         "577",
         "silver",
         null
        ],
        [
         "60",
         "Asus",
         "X541UA-DM1897 (i3-6006U/4GB/256GB/FHD/Linux)",
         "Notebook",
         "415",
         null,
         null
        ],
        [
         "61",
         "Dell",
         "Inspiron 5770",
         "Notebook",
         "1299",
         null,
         null
        ],
        [
         "62",
         "Dell",
         "Vostro 5471",
         "Ultrabook",
         "879",
         null,
         null
        ],
        [
         "63",
         "Lenovo",
         "IdeaPad 520S-14IKB",
         "Notebook",
         "599",
         null,
         null
        ],
        [
         "64",
         "Asus",
         "UX410UA-GV350T (i5-8250U/8GB/256GB/FHD/W10)",
         "Notebook",
         "941",
         null,
         null
        ],
        [
         "66",
         "HP",
         "250 G6",
         "Notebook",
         "690",
         null,
         null
        ],
        [
         "67",
         "Asus",
         "ZenBook Pro",
         "Ultrabook",
         "1983",
         null,
         null
        ],
        [
         "68",
         "HP",
         "250 G6",
         "Notebook",
         "438.69",
         null,
         null
        ],
        [
         "69",
         "HP",
         "Stream 14-AX040wm",
         "Notebook",
         "229",
         null,
         null
        ],
        [
         "70",
         "Lenovo",
         "V310-15ISK (i5-7200U/4GB/1TB/FHD/W10)",
         "Notebook",
         "549",
         null,
         null
        ],
        [
         "71",
         "Asus",
         "FX753VE-GC093 (i7-7700HQ/12GB/1TB/GeForce",
         "Gaming",
         "949",
         null,
         null
        ],
        [
         "72",
         "Microsoft",
         "Surface Laptop",
         "Ultrabook",
         "1089",
         null,
         null
        ],
        [
         "73",
         "Dell",
         "Inspiron 5370",
         "Ultrabook",
         "955",
         null,
         null
        ],
        [
         "74",
         "Dell",
         "Inspiron 5570",
         "Notebook",
         "870",
         null,
         null
        ],
        [
         "75",
         "MSI",
         "GL72M 7RDX",
         "Gaming",
         "1095",
         null,
         null
        ],
        [
         "76",
         "Acer",
         "Aspire E5-475",
         "Notebook",
         "389",
         null,
         null
        ],
        [
         "77",
         "Asus",
         "FX503VD-E4022T (i7-7700HQ/8GB/1TB/GeForce",
         "Gaming",
         "949",
         null,
         null
        ],
        [
         "78",
         "Lenovo",
         "IdeaPad 320-15IKBN",
         "Notebook",
         "519",
         null,
         null
        ],
        [
         "79",
         "Dell",
         "Inspiron 5570",
         "Notebook",
         "855",
         null,
         null
        ],
        [
         "80",
         "Acer",
         "Aspire A515-51G-32MX",
         "Notebook",
         "530",
         null,
         null
        ],
        [
         "21",
         "Asus",
         "Vivobook E200HA",
         "Netbook",
         "191.9",
         null,
         null
        ],
        [
         "22",
         "Lenovo",
         "Legion Y520-15IKBN",
         "Gaming",
         "999",
         null,
         null
        ],
        [
         "23",
         "HP",
         "255 G6",
         "Notebook",
         "258",
         null,
         null
        ],
        [
         "24",
         "Dell",
         "Inspiron 5379",
         "2 in 1 Convertible",
         "819",
         null,
         null
        ],
        [
         "25",
         "HP",
         "15-BS101nv (i7-8550U/8GB/256GB/FHD/W10)",
         "Ultrabook",
         "659",
         null,
         null
        ],
        [
         "26",
         "Dell",
         "Inspiron 3567",
         "Notebook",
         "418.64",
         null,
         null
        ],
        [
         "27",
         "Apple",
         "MacBook Air",
         "Ultrabook",
         "1099",
         null,
         null
        ],
        [
         "28",
         "Dell",
         "Inspiron 5570",
         "Notebook",
         "800",
         null,
         null
        ],
        [
         "29",
         "Dell",
         "Latitude 5590",
         "Ultrabook",
         "1298",
         null,
         null
        ],
        [
         "30",
         "HP",
         "ProBook 470",
         "Notebook",
         "896",
         null,
         null
        ],
        [
         "31",
         "Chuwi",
         "LapBook 15.6\"\"",
         "Notebook",
         "244.99",
         null,
         null
        ],
        [
         "32",
         "Asus",
         "E402WA-GA010T (E2-6110/2GB/32GB/W10)",
         "Notebook",
         "199",
         null,
         null
        ],
        [
         "33",
         "HP",
         "17-ak001nv (A6-9220/4GB/500GB/Radeon",
         "Notebook",
         "439",
         null,
         null
        ],
        [
         "34",
         "Dell",
         "XPS 13",
         "Ultrabook",
         "1869",
         null,
         null
        ],
        [
         "35",
         "Apple",
         "MacBook Air",
         "Ultrabook",
         "998",
         null,
         null
        ],
        [
         "36",
         "Lenovo",
         "IdeaPad 120S-14IAP",
         "Notebook",
         "249",
         null,
         null
        ],
        [
         "37",
         "Acer",
         "Aspire 3",
         "Notebook",
         "367",
         null,
         null
        ],
        [
         "38",
         "Dell",
         "Inspiron 5770",
         "Notebook",
         "979",
         null,
         null
        ],
        [
         "39",
         "HP",
         "250 G6",
         "Notebook",
         "488.69",
         null,
         null
        ],
        [
         "40",
         "HP",
         "ProBook 450",
         "Notebook",
         "879",
         null,
         null
        ],
        [
         "1",
         "Apple",
         "MacBook Pro",
         "Ultrabook",
         "1339.69",
         null,
         null
        ],
        [
         "2",
         "Apple",
         "Macbook Air",
         "Ultrabook",
         "898.94",
         null,
         null
        ],
        [
         "3",
         "HP",
         "250 G6",
         "Notebook",
         "575",
         null,
         null
        ],
        [
         "4",
         "Apple",
         "MacBook Pro",
         "Ultrabook",
         "2537.45",
         null,
         null
        ],
        [
         "5",
         "Apple",
         "MacBook Pro",
         "Ultrabook",
         "1803.6",
         null,
         null
        ],
        [
         "6",
         "Acer",
         "Aspire 3",
         "Notebook",
         "400",
         null,
         null
        ],
        [
         "7",
         "Apple",
         "MacBook Pro",
         "Ultrabook",
         "2139.97",
         null,
         null
        ],
        [
         "8",
         "Apple",
         "Macbook Air",
         "Ultrabook",
         "1158.7",
         null,
         null
        ],
        [
         "9",
         "Asus",
         "ZenBook UX430UN",
         "Ultrabook",
         "1495",
         null,
         null
        ],
        [
         "10",
         "Acer",
         "Swift 3",
         "Ultrabook",
         "770",
         null,
         null
        ],
        [
         "11",
         "HP",
         "250 G6",
         "Notebook",
         "393.9",
         null,
         null
        ],
        [
         "12",
         "HP",
         "250 G6",
         "Notebook",
         "344.99",
         null,
         null
        ],
        [
         "13",
         "Apple",
         "MacBook Pro",
         "Ultrabook",
         "2439.97",
         null,
         null
        ],
        [
         "14",
         "Dell",
         "Inspiron 3567",
         "Notebook",
         "498.9",
         null,
         null
        ],
        [
         "15",
         "Apple",
         "MacBook 12\"\"",
         "Ultrabook",
         "1262.4",
         null,
         null
        ],
        [
         "16",
         "Apple",
         "MacBook Pro",
         "Ultrabook",
         "1518.55",
         null,
         null
        ],
        [
         "17",
         "Dell",
         "Inspiron 3567",
         "Notebook",
         "745",
         null,
         null
        ],
        [
         "18",
         "Apple",
         "MacBook Pro",
         "Ultrabook",
         "2858",
         null,
         null
        ],
        [
         "19",
         "Lenovo",
         "IdeaPad 320-15IKB",
         "Notebook",
         "499",
         null,
         null
        ],
        [
         "20",
         "Dell",
         "XPS 13",
         "Ultrabook",
         "979",
         null,
         null
        ],
        [
         "102",
         "HP",
         "Omen 15-ce007nv",
         "Gaming",
         "1249",
         null,
         null
        ],
        [
         "103",
         "HP",
         "15-bs017nv (i7-7500U/8GB/256GB/Radeon",
         "Notebook",
         "719",
         null,
         null
        ],
        [
         "104",
         "HP",
         "15-bw000nv (E2-9000e/4GB/500GB/Radeon",
         "Notebook",
         "349",
         null,
         null
        ],
        [
         "105",
         "Dell",
         "Inspiron 3576",
         "Notebook",
         "647",
         null,
         null
        ],
        [
         "106",
         "HP",
         "Envy 13-ad009n",
         "Ultrabook",
         "1119",
         null,
         null
        ],
        [
         "107",
         "Microsoft",
         "Surface Laptop",
         "Ultrabook",
         "1340",
         null,
         null
        ],
        [
         "108",
         "HP",
         "Pavilion 14-BK001nv",
         "Notebook",
         "659",
         null,
         null
        ],
        [
         "109",
         "Lenovo",
         "Ideapad 310-15ISK",
         "Notebook",
         "414.9",
         null,
         null
        ],
        [
         "110",
         "Asus",
         "UX430UQ-GV209R (i7-7500U/8GB/256GB/GeForce",
         "Ultrabook",
         "1193",
         null,
         null
        ],
        [
         "111",
         "MSI",
         "GP62M 7REX",
         "Gaming",
         "1299",
         null,
         null
        ],
        [
         "112",
         "Lenovo",
         "Thinkpad T470",
         "Notebook",
         "1480",
         null,
         null
        ],
        [
         "113",
         "Asus",
         "VivoBook S15",
         "Ultrabook",
         "1262",
         null,
         null
        ],
        [
         "114",
         "Dell",
         "XPS 13",
         "Ultrabook",
         "1379",
         null,
         null
        ],
        [
         "115",
         "Lenovo",
         "ThinkPad Yoga",
         "2 in 1 Convertible",
         "1399",
         null,
         null
        ],
        [
         "116",
         "HP",
         "Probook 440",
         "Notebook",
         "722",
         null,
         null
        ],
        [
         "117",
         "Dell",
         "XPS 13",
         "Ultrabook",
         "1629",
         null,
         null
        ],
        [
         "118",
         "HP",
         "Spectre x360",
         "2 in 1 Convertible",
         "1398.99",
         null,
         null
        ],
        [
         "119",
         "HP",
         "Probook 440",
         "Notebook",
         "1084",
         null,
         null
        ],
        [
         "120",
         "Dell",
         "Inspiron 7570",
         "Notebook",
         "1130.33",
         null,
         null
        ],
        [
         "121",
         "Asus",
         "X705UV-BX074T (i3-6006U/4GB/1TB/GeForce",
         "Notebook",
         "564",
         null,
         null
        ],
        [
         "122",
         "Asus",
         "VivoBook S15",
         "Notebook",
         "1118",
         null,
         null
        ],
        [
         "123",
         "Acer",
         "Spin 3",
         "Notebook",
         "479",
         null,
         null
        ],
        [
         "124",
         "MSI",
         "GS63VR 7RG",
         "Gaming",
         "2241.5",
         null,
         null
        ],
        [
         "125",
         "Lenovo",
         "IdeaPad 320-15IKBN",
         "Notebook",
         "629",
         null,
         null
        ],
        [
         "126",
         "HP",
         "Probook 470",
         "Notebook",
         "1271",
         null,
         null
        ],
        [
         "127",
         "Acer",
         "Aspire 3",
         "Notebook",
         "451",
         null,
         null
        ],
        [
         "128",
         "HP",
         "250 G6",
         "Notebook",
         "259",
         null,
         null
        ],
        [
         "129",
         "HP",
         "Probook 440",
         "Notebook",
         "812",
         null,
         null
        ],
        [
         "130",
         "Asus",
         "E402WA-GA007T (E2-6110/4GB/64GB/W10",
         "Notebook",
         "277.99",
         null,
         null
        ],
        [
         "131",
         "Dell",
         "Inspiron 5770",
         "Notebook",
         "1396",
         null,
         null
        ],
        [
         "132",
         "HP",
         "ProBook 470",
         "Notebook",
         "928",
         null,
         null
        ],
        [
         "133",
         "Dell",
         "Inspiron 5567",
         "Notebook",
         "638.99",
         null,
         null
        ],
        [
         "134",
         "Dell",
         "Inspiron 3567",
         "Notebook",
         "449",
         null,
         null
        ],
        [
         "135",
         "Acer",
         "Swift 3",
         "Ultrabook",
         "884",
         null,
         null
        ],
        [
         "136",
         "Acer",
         "Aspire A515-51G-37JS",
         "Notebook",
         "572",
         null,
         null
        ],
        [
         "137",
         "HP",
         "15-BS078nr (i7-7500U/8GB/1TB/W10)",
         "Notebook",
         "598",
         null,
         null
        ],
        [
         "138",
         "HP",
         "Probook 440",
         "Notebook",
         "988",
         null,
         null
        ],
        [
         "139",
         "Lenovo",
         "V110-15IAP (N3350/4GB/1TB/No",
         "Notebook",
         "252.36",
         null,
         null
        ],
        [
         "140",
         "Asus",
         "FX753VD-GC086T (i5-7300HQ/8GB/1TB",
         "Gaming",
         "938",
         null,
         null
        ],
        [
         "141",
         "Lenovo",
         "IdeaPad 320-15IKBN",
         "Notebook",
         "499",
         null,
         null
        ]
       ],
       "datasetInfos": [],
       "dbfsResultPath": null,
       "isJsonSchema": true,
       "metadata": {},
       "overflow": false,
       "plotOptions": {
        "customPlotOptions": {},
        "displayType": "table",
        "pivotAggregation": null,
        "pivotColumns": [],
        "xColumns": [],
        "yColumns": []
       },
       "removedWidgets": [],
       "schema": [
        {
         "metadata": "{}",
         "name": "Id",
         "type": "\"string\""
        },
        {
         "metadata": "{}",
         "name": "Company",
         "type": "\"string\""
        },
        {
         "metadata": "{}",
         "name": "Product",
         "type": "\"string\""
        },
        {
         "metadata": "{}",
         "name": "TypeName",
         "type": "\"string\""
        },
        {
         "metadata": "{}",
         "name": "Price_euros",
         "type": "\"string\""
        },
        {
         "metadata": "{}",
         "name": "color",
         "type": "\"string\""
        },
        {
         "metadata": "{}",
         "name": "_rescued_data",
         "type": "\"string\""
        }
       ],
       "type": "table"
      }
     },
     "output_type": "display_data"
    }
   ],
   "source": [
    "display(laptop_stream_data)"
   ]
  },
  {
   "cell_type": "markdown",
   "metadata": {
    "application/vnd.databricks.v1+cell": {
     "inputWidgets": {},
     "nuid": "d07d7360-6718-4302-b7a7-fa86a2acea52",
     "showTitle": false,
     "title": ""
    }
   },
   "source": [
    "* TODO Recording for cell below\n",
    "* Run the cell and show the contents of the schema file that we saw previously\n",
    "* On your local machine on sublimetext open up these 3 files laptops_01.csv, laptops_02.csv, laptops_03_extracol.csv, laptops_04_rearrangedcols.csv\n",
    "* Show that the schema for file_03 is different\n",
    "* Show that the order of the columns in file_04 is different\n",
    "\n",
    "* Upload the laptops_03_extracol.csv \n",
    "* Show the contents of the dataframe above - scroll and show that the \"_rescued_column\" now has data the extra TYPENAME column\n",
    "\n",
    "* Upload laptops_04_rearrangedcols.csv\n",
    "* Wait till the dataframe updates\n",
    "* Scroll till the end and show that Spark has rearranged the columns to be in the right order"
   ]
  },
  {
   "cell_type": "code",
   "execution_count": 0,
   "metadata": {
    "application/vnd.databricks.v1+cell": {
     "inputWidgets": {},
     "nuid": "5317e310-0617-4137-a1ed-e97958054613",
     "showTitle": false,
     "title": ""
    }
   },
   "outputs": [
    {
     "data": {
      "text/html": [
       "<style scoped>\n",
       "  .ansiout {\n",
       "    display: block;\n",
       "    unicode-bidi: embed;\n",
       "    white-space: pre-wrap;\n",
       "    word-wrap: break-word;\n",
       "    word-break: break-all;\n",
       "    font-family: \"Source Code Pro\", \"Menlo\", monospace;;\n",
       "    font-size: 13px;\n",
       "    color: #555;\n",
       "    margin-left: 4px;\n",
       "    line-height: 19px;\n",
       "  }\n",
       "</style>\n",
       "<div class=\"ansiout\">Out[22]: &#39;v1\\n{&#34;dataSchemaJson&#34;:&#34;{\\\\&#34;type\\\\&#34;:\\\\&#34;struct\\\\&#34;,\\\\&#34;fields\\\\&#34;:[{\\\\&#34;name\\\\&#34;:\\\\&#34;Id\\\\&#34;,\\\\&#34;type\\\\&#34;:\\\\&#34;integer\\\\&#34;,\\\\&#34;nullable\\\\&#34;:true,\\\\&#34;metadata\\\\&#34;:{}},{\\\\&#34;name\\\\&#34;:\\\\&#34;Company\\\\&#34;,\\\\&#34;type\\\\&#34;:\\\\&#34;string\\\\&#34;,\\\\&#34;nullable\\\\&#34;:true,\\\\&#34;metadata\\\\&#34;:{}},{\\\\&#34;name\\\\&#34;:\\\\&#34;Product\\\\&#34;,\\\\&#34;type\\\\&#34;:\\\\&#34;string\\\\&#34;,\\\\&#34;nullable\\\\&#34;:true,\\\\&#34;metadata\\\\&#34;:{}},{\\\\&#34;name\\\\&#34;:\\\\&#34;TypeName\\\\&#34;,\\\\&#34;type\\\\&#34;:\\\\&#34;string\\\\&#34;,\\\\&#34;nullable\\\\&#34;:true,\\\\&#34;metadata\\\\&#34;:{}},{\\\\&#34;name\\\\&#34;:\\\\&#34;Price_euros\\\\&#34;,\\\\&#34;type\\\\&#34;:\\\\&#34;double\\\\&#34;,\\\\&#34;nullable\\\\&#34;:true,\\\\&#34;metadata\\\\&#34;:{}}]}&#34;,&#34;partitionSchemaJson&#34;:&#34;{\\\\&#34;type\\\\&#34;:\\\\&#34;struct\\\\&#34;,\\\\&#34;fields\\\\&#34;:[]}&#34;}&#39;</div>"
      ]
     },
     "metadata": {
      "application/vnd.databricks.v1+output": {
       "addedWidgets": {},
       "arguments": {},
       "data": "<div class=\"ansiout\">Out[22]: &#39;v1\\n{&#34;dataSchemaJson&#34;:&#34;{\\\\&#34;type\\\\&#34;:\\\\&#34;struct\\\\&#34;,\\\\&#34;fields\\\\&#34;:[{\\\\&#34;name\\\\&#34;:\\\\&#34;Id\\\\&#34;,\\\\&#34;type\\\\&#34;:\\\\&#34;integer\\\\&#34;,\\\\&#34;nullable\\\\&#34;:true,\\\\&#34;metadata\\\\&#34;:{}},{\\\\&#34;name\\\\&#34;:\\\\&#34;Company\\\\&#34;,\\\\&#34;type\\\\&#34;:\\\\&#34;string\\\\&#34;,\\\\&#34;nullable\\\\&#34;:true,\\\\&#34;metadata\\\\&#34;:{}},{\\\\&#34;name\\\\&#34;:\\\\&#34;Product\\\\&#34;,\\\\&#34;type\\\\&#34;:\\\\&#34;string\\\\&#34;,\\\\&#34;nullable\\\\&#34;:true,\\\\&#34;metadata\\\\&#34;:{}},{\\\\&#34;name\\\\&#34;:\\\\&#34;TypeName\\\\&#34;,\\\\&#34;type\\\\&#34;:\\\\&#34;string\\\\&#34;,\\\\&#34;nullable\\\\&#34;:true,\\\\&#34;metadata\\\\&#34;:{}},{\\\\&#34;name\\\\&#34;:\\\\&#34;Price_euros\\\\&#34;,\\\\&#34;type\\\\&#34;:\\\\&#34;double\\\\&#34;,\\\\&#34;nullable\\\\&#34;:true,\\\\&#34;metadata\\\\&#34;:{}}]}&#34;,&#34;partitionSchemaJson&#34;:&#34;{\\\\&#34;type\\\\&#34;:\\\\&#34;struct\\\\&#34;,\\\\&#34;fields\\\\&#34;:[]}&#34;}&#39;</div>",
       "datasetInfos": [],
       "metadata": {},
       "removedWidgets": [],
       "type": "html"
      }
     },
     "output_type": "display_data"
    }
   ],
   "source": [
    "dbutils.fs.head('dbfs:/FileStore/datasets/laptop_source_stream/_schemas/0', 1000)"
   ]
  },
  {
   "cell_type": "markdown",
   "metadata": {
    "application/vnd.databricks.v1+cell": {
     "inputWidgets": {},
     "nuid": "9b63f4cc-1ffb-466a-9211-49cfac956ae2",
     "showTitle": false,
     "title": ""
    }
   },
   "source": [
    "Perform a few basic transformations"
   ]
  },
  {
   "cell_type": "code",
   "execution_count": 0,
   "metadata": {
    "application/vnd.databricks.v1+cell": {
     "inputWidgets": {},
     "nuid": "5cad9e17-9abb-46b4-820c-db15776140e3",
     "showTitle": false,
     "title": ""
    }
   },
   "outputs": [
    {
     "data": {
      "text/html": [
       "<style scoped>\n",
       "  .ansiout {\n",
       "    display: block;\n",
       "    unicode-bidi: embed;\n",
       "    white-space: pre-wrap;\n",
       "    word-wrap: break-word;\n",
       "    word-break: break-all;\n",
       "    font-family: \"Source Code Pro\", \"Menlo\", monospace;;\n",
       "    font-size: 13px;\n",
       "    color: #555;\n",
       "    margin-left: 4px;\n",
       "    line-height: 19px;\n",
       "  }\n",
       "</style>\n",
       "<div class=\"ansiout\"></div>"
      ]
     },
     "metadata": {
      "application/vnd.databricks.v1+output": {
       "addedWidgets": {},
       "arguments": {},
       "data": "<div class=\"ansiout\"></div>",
       "datasetInfos": [],
       "metadata": {},
       "removedWidgets": [],
       "type": "html"
      }
     },
     "output_type": "display_data"
    }
   ],
   "source": [
    "laptop_stream_subset = laptop_stream_data.filter(laptop_stream_data.Company == \"Dell\")\\\n",
    "                                         .select('Company', 'Product', 'Price_euros')"
   ]
  },
  {
   "cell_type": "markdown",
   "metadata": {
    "application/vnd.databricks.v1+cell": {
     "inputWidgets": {},
     "nuid": "35ff117e-19ee-4610-9937-fdae84e16c19",
     "showTitle": false,
     "title": ""
    }
   },
   "source": [
    "* TODO Recording for cell below\n",
    "* After the data displays\n",
    "* Expand the display_query\n",
    "* Upload laptops_06.csv\n",
    "* Show that the data updates"
   ]
  },
  {
   "cell_type": "code",
   "execution_count": 0,
   "metadata": {
    "application/vnd.databricks.v1+cell": {
     "inputWidgets": {},
     "nuid": "ed511bcd-7e45-4844-a69e-9639c22ebcc2",
     "showTitle": false,
     "title": ""
    }
   },
   "outputs": [
    {
     "data": {
      "text/html": [
       "<style scoped>\n",
       "  .table-result-container {\n",
       "    max-height: 300px;\n",
       "    overflow: auto;\n",
       "  }\n",
       "  table, th, td {\n",
       "    border: 1px solid black;\n",
       "    border-collapse: collapse;\n",
       "  }\n",
       "  th, td {\n",
       "    padding: 5px;\n",
       "  }\n",
       "  th {\n",
       "    text-align: left;\n",
       "  }\n",
       "</style><div class='table-result-container'><table class='table-result'><thead style='background-color: white'><tr><th>Company</th><th>Product</th><th>Price_euros</th></tr></thead><tbody><tr><td>Dell</td><td>Inspiron 7577</td><td>1499</td></tr><tr><td>Dell</td><td>Inspiron 7773</td><td>999</td></tr><tr><td>Dell</td><td>Inspiron 3567</td><td>639</td></tr><tr><td>Dell</td><td>Inspiron 3576</td><td>767.8</td></tr><tr><td>Dell</td><td>Latitude 5590</td><td>1096.16</td></tr><tr><td>Dell</td><td>Inspiron 7577</td><td>1349</td></tr><tr><td>Dell</td><td>XPS 13</td><td>1649</td></tr><tr><td>Dell</td><td>Inspiron 7577</td><td>1195</td></tr><tr><td>Dell</td><td>Inspiron 3567</td><td>599.9</td></tr><tr><td>Dell</td><td>Inspiron 3567</td><td>485</td></tr><tr><td>Dell</td><td>Inspiron 5770</td><td>1299</td></tr><tr><td>Dell</td><td>Vostro 5471</td><td>879</td></tr><tr><td>Dell</td><td>Inspiron 5370</td><td>955</td></tr><tr><td>Dell</td><td>Inspiron 5570</td><td>870</td></tr><tr><td>Dell</td><td>Inspiron 5570</td><td>855</td></tr><tr><td>Dell</td><td>Inspiron 5379</td><td>819</td></tr><tr><td>Dell</td><td>Inspiron 3567</td><td>418.64</td></tr><tr><td>Dell</td><td>Inspiron 5570</td><td>800</td></tr><tr><td>Dell</td><td>Latitude 5590</td><td>1298</td></tr><tr><td>Dell</td><td>XPS 13</td><td>1869</td></tr><tr><td>Dell</td><td>Inspiron 5770</td><td>979</td></tr><tr><td>Dell</td><td>Inspiron 3567</td><td>498.9</td></tr><tr><td>Dell</td><td>Inspiron 3567</td><td>745</td></tr><tr><td>Dell</td><td>XPS 13</td><td>979</td></tr><tr><td>Dell</td><td>Inspiron 3576</td><td>647</td></tr><tr><td>Dell</td><td>XPS 13</td><td>1379</td></tr><tr><td>Dell</td><td>XPS 13</td><td>1629</td></tr><tr><td>Dell</td><td>Inspiron 7570</td><td>1130.33</td></tr><tr><td>Dell</td><td>Inspiron 5770</td><td>1396</td></tr><tr><td>Dell</td><td>Inspiron 5567</td><td>638.99</td></tr><tr><td>Dell</td><td>Inspiron 3567</td><td>449</td></tr></tbody></table></div>"
      ]
     },
     "metadata": {
      "application/vnd.databricks.v1+output": {
       "addedWidgets": {},
       "aggData": [],
       "aggError": "",
       "aggOverflow": false,
       "aggSchema": [],
       "aggSeriesLimitReached": false,
       "aggType": "",
       "arguments": {},
       "columnCustomDisplayInfos": {},
       "data": [
        [
         "Dell",
         "Inspiron 7577",
         "1499"
        ],
        [
         "Dell",
         "Inspiron 7773",
         "999"
        ],
        [
         "Dell",
         "Inspiron 3567",
         "639"
        ],
        [
         "Dell",
         "Inspiron 3576",
         "767.8"
        ],
        [
         "Dell",
         "Latitude 5590",
         "1096.16"
        ],
        [
         "Dell",
         "Inspiron 7577",
         "1349"
        ],
        [
         "Dell",
         "XPS 13",
         "1649"
        ],
        [
         "Dell",
         "Inspiron 7577",
         "1195"
        ],
        [
         "Dell",
         "Inspiron 3567",
         "599.9"
        ],
        [
         "Dell",
         "Inspiron 3567",
         "485"
        ],
        [
         "Dell",
         "Inspiron 5770",
         "1299"
        ],
        [
         "Dell",
         "Vostro 5471",
         "879"
        ],
        [
         "Dell",
         "Inspiron 5370",
         "955"
        ],
        [
         "Dell",
         "Inspiron 5570",
         "870"
        ],
        [
         "Dell",
         "Inspiron 5570",
         "855"
        ],
        [
         "Dell",
         "Inspiron 5379",
         "819"
        ],
        [
         "Dell",
         "Inspiron 3567",
         "418.64"
        ],
        [
         "Dell",
         "Inspiron 5570",
         "800"
        ],
        [
         "Dell",
         "Latitude 5590",
         "1298"
        ],
        [
         "Dell",
         "XPS 13",
         "1869"
        ],
        [
         "Dell",
         "Inspiron 5770",
         "979"
        ],
        [
         "Dell",
         "Inspiron 3567",
         "498.9"
        ],
        [
         "Dell",
         "Inspiron 3567",
         "745"
        ],
        [
         "Dell",
         "XPS 13",
         "979"
        ],
        [
         "Dell",
         "Inspiron 3576",
         "647"
        ],
        [
         "Dell",
         "XPS 13",
         "1379"
        ],
        [
         "Dell",
         "XPS 13",
         "1629"
        ],
        [
         "Dell",
         "Inspiron 7570",
         "1130.33"
        ],
        [
         "Dell",
         "Inspiron 5770",
         "1396"
        ],
        [
         "Dell",
         "Inspiron 5567",
         "638.99"
        ],
        [
         "Dell",
         "Inspiron 3567",
         "449"
        ]
       ],
       "datasetInfos": [],
       "dbfsResultPath": null,
       "isJsonSchema": true,
       "metadata": {
        "isDbfsCommandResult": false
       },
       "overflow": false,
       "plotOptions": {
        "customPlotOptions": {},
        "displayType": "table",
        "pivotAggregation": null,
        "pivotColumns": null,
        "xColumns": null,
        "yColumns": null
       },
       "removedWidgets": [],
       "schema": [
        {
         "metadata": "{}",
         "name": "Company",
         "type": "\"string\""
        },
        {
         "metadata": "{}",
         "name": "Product",
         "type": "\"string\""
        },
        {
         "metadata": "{}",
         "name": "Price_euros",
         "type": "\"string\""
        }
       ],
       "type": "table"
      }
     },
     "output_type": "display_data"
    }
   ],
   "source": [
    "laptop_stream_subset.display()"
   ]
  },
  {
   "cell_type": "markdown",
   "metadata": {
    "application/vnd.databricks.v1+cell": {
     "inputWidgets": {},
     "nuid": "b44242b3-a422-4cd7-ba04-bf17f868fdde",
     "showTitle": false,
     "title": ""
    }
   },
   "source": [
    "Now let's write data to the sink"
   ]
  },
  {
   "cell_type": "markdown",
   "metadata": {
    "application/vnd.databricks.v1+cell": {
     "inputWidgets": {},
     "nuid": "15ba2117-563c-4ddc-ae0b-2813b6eba1f9",
     "showTitle": false,
     "title": ""
    }
   },
   "source": [
    "Let's create a destination folder 'dest_location'"
   ]
  },
  {
   "cell_type": "code",
   "execution_count": 0,
   "metadata": {
    "application/vnd.databricks.v1+cell": {
     "inputWidgets": {},
     "nuid": "71641ac7-1da2-4a51-8503-f703825dfa61",
     "showTitle": false,
     "title": ""
    }
   },
   "outputs": [
    {
     "data": {
      "text/html": [
       "<style scoped>\n",
       "  .ansiout {\n",
       "    display: block;\n",
       "    unicode-bidi: embed;\n",
       "    white-space: pre-wrap;\n",
       "    word-wrap: break-word;\n",
       "    word-break: break-all;\n",
       "    font-family: \"Source Code Pro\", \"Menlo\", monospace;;\n",
       "    font-size: 13px;\n",
       "    color: #555;\n",
       "    margin-left: 4px;\n",
       "    line-height: 19px;\n",
       "  }\n",
       "</style>\n",
       "<div class=\"ansiout\">Out[25]: True</div>"
      ]
     },
     "metadata": {
      "application/vnd.databricks.v1+output": {
       "addedWidgets": {},
       "arguments": {},
       "data": "<div class=\"ansiout\">Out[25]: True</div>",
       "datasetInfos": [],
       "metadata": {},
       "removedWidgets": [],
       "type": "html"
      }
     },
     "output_type": "display_data"
    }
   ],
   "source": [
    "dbutils.fs.mkdirs(\"dbfs:/FileStore/datasets/dest_location/\")"
   ]
  },
  {
   "cell_type": "markdown",
   "metadata": {
    "application/vnd.databricks.v1+cell": {
     "inputWidgets": {},
     "nuid": "6fd1a522-8507-4e6c-ba32-77fe52e9d7ba",
     "showTitle": false,
     "title": ""
    }
   },
   "source": [
    "Let's write the data to the sink with checkpointing path"
   ]
  },
  {
   "cell_type": "code",
   "execution_count": 0,
   "metadata": {
    "application/vnd.databricks.v1+cell": {
     "inputWidgets": {},
     "nuid": "bab906fd-3251-4060-a068-7c8f1eb48f31",
     "showTitle": false,
     "title": ""
    }
   },
   "outputs": [
    {
     "data": {
      "text/html": [
       "<style scoped>\n",
       "  .ansiout {\n",
       "    display: block;\n",
       "    unicode-bidi: embed;\n",
       "    white-space: pre-wrap;\n",
       "    word-wrap: break-word;\n",
       "    word-break: break-all;\n",
       "    font-family: \"Source Code Pro\", \"Menlo\", monospace;;\n",
       "    font-size: 13px;\n",
       "    color: #555;\n",
       "    margin-left: 4px;\n",
       "    line-height: 19px;\n",
       "  }\n",
       "</style>\n",
       "<div class=\"ansiout\">Out[27]: &lt;pyspark.sql.streaming.StreamingQuery at 0x7fc0f4433dc0&gt;</div>"
      ]
     },
     "metadata": {
      "application/vnd.databricks.v1+output": {
       "addedWidgets": {},
       "arguments": {},
       "data": "<div class=\"ansiout\">Out[27]: &lt;pyspark.sql.streaming.StreamingQuery at 0x7fc0f4433dc0&gt;</div>",
       "datasetInfos": [],
       "metadata": {},
       "removedWidgets": [],
       "type": "html"
      }
     },
     "output_type": "display_data"
    }
   ],
   "source": [
    "laptop_stream_subset.writeStream \\\n",
    "                    .option(\"mergeSchema\", \"true\") \\\n",
    "                    .format(\"csv\") \\\n",
    "                    .option(\"checkpointLocation\", \n",
    "                            \"dbfs:/FileStore/datasets/dest_location/checkpoint_1\") \\\n",
    "                    .start(\"dbfs:/FileStore/datasets/dest_location/\")"
   ]
  },
  {
   "cell_type": "markdown",
   "metadata": {
    "application/vnd.databricks.v1+cell": {
     "inputWidgets": {},
     "nuid": "4d68ca52-6bcc-42a2-a1b4-2f8787f0f35a",
     "showTitle": false,
     "title": ""
    }
   },
   "source": [
    "* TODO Recording\n",
    "\n",
    "* Go to the dest_location/ folder and show that some files have been generated there\n",
    "* Upload laptops_06.csv \n",
    "* Go back to dest_location/ and see that more files have been generated"
   ]
  },
  {
   "cell_type": "markdown",
   "metadata": {
    "application/vnd.databricks.v1+cell": {
     "inputWidgets": {},
     "nuid": "ce467795-1ee8-4970-aea7-0cb9b485e3d8",
     "showTitle": false,
     "title": ""
    }
   },
   "source": [
    "* TODO Recording\n",
    "\n",
    "* Next we have to download one of the files and see the content from local machine<br>\n",
    "* So for that we have to use following url.<br>\n",
    "* Open up the file in sublimetext and show the contents\n",
    "\n",
    "\n",
    "refered link : https://towardsdatascience.com/databricks-how-to-save-files-in-csv-on-your-local-computer-3d0c70e6a9ab"
   ]
  },
  {
   "cell_type": "code",
   "execution_count": 0,
   "metadata": {
    "application/vnd.databricks.v1+cell": {
     "inputWidgets": {},
     "nuid": "81621af8-6f85-4b78-a116-c6a2091f167d",
     "showTitle": false,
     "title": ""
    }
   },
   "outputs": [
    {
     "data": {
      "text/html": [
       "<style scoped>\n",
       "  .ansiout {\n",
       "    display: block;\n",
       "    unicode-bidi: embed;\n",
       "    white-space: pre-wrap;\n",
       "    word-wrap: break-word;\n",
       "    word-break: break-all;\n",
       "    font-family: \"Source Code Pro\", \"Menlo\", monospace;;\n",
       "    font-size: 13px;\n",
       "    color: #555;\n",
       "    margin-left: 4px;\n",
       "    line-height: 19px;\n",
       "  }\n",
       "</style>\n",
       "<div class=\"ansiout\"></div>"
      ]
     },
     "metadata": {
      "application/vnd.databricks.v1+output": {
       "addedWidgets": {},
       "arguments": {},
       "data": "<div class=\"ansiout\"></div>",
       "datasetInfos": [],
       "metadata": {},
       "removedWidgets": [],
       "type": "html"
      }
     },
     "output_type": "display_data"
    }
   ],
   "source": [
    "# https://adb-4629890207676653.13.azuredatabricks.net/files/datasets/dest_location/part-00001-d2df581f-c4ad-4d06-93bf-0a98d37ead3f-c000.csv?o=4629890207676653\n",
    "\n",
    "# https://adb-4629890207676653.13.azuredatabricks.net/ - This is from the part of url of our current azure databrick notebook\n",
    "# files/datasets/dest_location/part-00001-d2df581f-c4ad-4d06-93bf-0a98d37ead3f-c000.csv - This is the path of the csv file\n",
    "# ?o=4629890207676653 - This also from the path of the url of azure databrick notebook"
   ]
  },
  {
   "cell_type": "code",
   "execution_count": 0,
   "metadata": {
    "application/vnd.databricks.v1+cell": {
     "inputWidgets": {},
     "nuid": "31812b5c-4777-47c0-8bb2-88d6e5286159",
     "showTitle": false,
     "title": ""
    }
   },
   "outputs": [
    {
     "data": {
      "text/html": [
       "<style scoped>\n",
       "  .ansiout {\n",
       "    display: block;\n",
       "    unicode-bidi: embed;\n",
       "    white-space: pre-wrap;\n",
       "    word-wrap: break-word;\n",
       "    word-break: break-all;\n",
       "    font-family: \"Source Code Pro\", \"Menlo\", monospace;;\n",
       "    font-size: 13px;\n",
       "    color: #555;\n",
       "    margin-left: 4px;\n",
       "    line-height: 19px;\n",
       "  }\n",
       "</style>"
      ]
     },
     "metadata": {
      "application/vnd.databricks.v1+output": {
       "arguments": {},
       "data": "",
       "errorSummary": "",
       "errorTraceType": null,
       "metadata": {},
       "type": "ipynbError"
      }
     },
     "output_type": "display_data"
    }
   ],
   "source": []
  },
  {
   "cell_type": "code",
   "execution_count": 0,
   "metadata": {
    "application/vnd.databricks.v1+cell": {
     "inputWidgets": {},
     "nuid": "7e3db42a-c781-4ac7-ae25-6ff85bd50071",
     "showTitle": false,
     "title": ""
    }
   },
   "outputs": [
    {
     "data": {
      "text/html": [
       "<style scoped>\n",
       "  .ansiout {\n",
       "    display: block;\n",
       "    unicode-bidi: embed;\n",
       "    white-space: pre-wrap;\n",
       "    word-wrap: break-word;\n",
       "    word-break: break-all;\n",
       "    font-family: \"Source Code Pro\", \"Menlo\", monospace;;\n",
       "    font-size: 13px;\n",
       "    color: #555;\n",
       "    margin-left: 4px;\n",
       "    line-height: 19px;\n",
       "  }\n",
       "</style>"
      ]
     },
     "metadata": {
      "application/vnd.databricks.v1+output": {
       "arguments": {},
       "data": "",
       "errorSummary": "",
       "errorTraceType": null,
       "metadata": {},
       "type": "ipynbError"
      }
     },
     "output_type": "display_data"
    }
   ],
   "source": []
  },
  {
   "cell_type": "code",
   "execution_count": 0,
   "metadata": {
    "application/vnd.databricks.v1+cell": {
     "inputWidgets": {},
     "nuid": "7f240c2d-df97-407a-a123-c16401771241",
     "showTitle": false,
     "title": ""
    }
   },
   "outputs": [
    {
     "data": {
      "text/html": [
       "<style scoped>\n",
       "  .ansiout {\n",
       "    display: block;\n",
       "    unicode-bidi: embed;\n",
       "    white-space: pre-wrap;\n",
       "    word-wrap: break-word;\n",
       "    word-break: break-all;\n",
       "    font-family: \"Source Code Pro\", \"Menlo\", monospace;;\n",
       "    font-size: 13px;\n",
       "    color: #555;\n",
       "    margin-left: 4px;\n",
       "    line-height: 19px;\n",
       "  }\n",
       "</style>"
      ]
     },
     "metadata": {
      "application/vnd.databricks.v1+output": {
       "arguments": {},
       "data": "",
       "errorSummary": "",
       "errorTraceType": null,
       "metadata": {},
       "type": "ipynbError"
      }
     },
     "output_type": "display_data"
    }
   ],
   "source": []
  },
  {
   "cell_type": "code",
   "execution_count": 0,
   "metadata": {
    "application/vnd.databricks.v1+cell": {
     "inputWidgets": {},
     "nuid": "d8dbbc7f-2284-40aa-9745-8c7bf16bde25",
     "showTitle": false,
     "title": ""
    }
   },
   "outputs": [
    {
     "data": {
      "text/html": [
       "<style scoped>\n",
       "  .ansiout {\n",
       "    display: block;\n",
       "    unicode-bidi: embed;\n",
       "    white-space: pre-wrap;\n",
       "    word-wrap: break-word;\n",
       "    word-break: break-all;\n",
       "    font-family: \"Source Code Pro\", \"Menlo\", monospace;;\n",
       "    font-size: 13px;\n",
       "    color: #555;\n",
       "    margin-left: 4px;\n",
       "    line-height: 19px;\n",
       "  }\n",
       "</style>"
      ]
     },
     "metadata": {
      "application/vnd.databricks.v1+output": {
       "arguments": {},
       "data": "",
       "errorSummary": "",
       "errorTraceType": null,
       "metadata": {},
       "type": "ipynbError"
      }
     },
     "output_type": "display_data"
    }
   ],
   "source": []
  },
  {
   "cell_type": "code",
   "execution_count": 0,
   "metadata": {
    "application/vnd.databricks.v1+cell": {
     "inputWidgets": {},
     "nuid": "2f2114b5-861b-45dd-b11c-07f8b5a1d947",
     "showTitle": false,
     "title": ""
    }
   },
   "outputs": [
    {
     "data": {
      "text/html": [
       "<style scoped>\n",
       "  .ansiout {\n",
       "    display: block;\n",
       "    unicode-bidi: embed;\n",
       "    white-space: pre-wrap;\n",
       "    word-wrap: break-word;\n",
       "    word-break: break-all;\n",
       "    font-family: \"Source Code Pro\", \"Menlo\", monospace;;\n",
       "    font-size: 13px;\n",
       "    color: #555;\n",
       "    margin-left: 4px;\n",
       "    line-height: 19px;\n",
       "  }\n",
       "</style>"
      ]
     },
     "metadata": {
      "application/vnd.databricks.v1+output": {
       "arguments": {},
       "data": "",
       "errorSummary": "",
       "errorTraceType": null,
       "metadata": {},
       "type": "ipynbError"
      }
     },
     "output_type": "display_data"
    }
   ],
   "source": []
  },
  {
   "cell_type": "code",
   "execution_count": 0,
   "metadata": {
    "application/vnd.databricks.v1+cell": {
     "inputWidgets": {},
     "nuid": "9dab30b5-883e-4efd-82dd-a4a19ef20388",
     "showTitle": false,
     "title": ""
    }
   },
   "outputs": [
    {
     "data": {
      "text/html": [
       "<style scoped>\n",
       "  .ansiout {\n",
       "    display: block;\n",
       "    unicode-bidi: embed;\n",
       "    white-space: pre-wrap;\n",
       "    word-wrap: break-word;\n",
       "    word-break: break-all;\n",
       "    font-family: \"Source Code Pro\", \"Menlo\", monospace;;\n",
       "    font-size: 13px;\n",
       "    color: #555;\n",
       "    margin-left: 4px;\n",
       "    line-height: 19px;\n",
       "  }\n",
       "</style>"
      ]
     },
     "metadata": {
      "application/vnd.databricks.v1+output": {
       "arguments": {},
       "data": "",
       "errorSummary": "",
       "errorTraceType": null,
       "metadata": {},
       "type": "ipynbError"
      }
     },
     "output_type": "display_data"
    }
   ],
   "source": []
  },
  {
   "cell_type": "code",
   "execution_count": 0,
   "metadata": {
    "application/vnd.databricks.v1+cell": {
     "inputWidgets": {},
     "nuid": "e6e24510-4bde-4457-afd6-abc6978bbd6e",
     "showTitle": false,
     "title": ""
    }
   },
   "outputs": [
    {
     "data": {
      "text/html": [
       "<style scoped>\n",
       "  .ansiout {\n",
       "    display: block;\n",
       "    unicode-bidi: embed;\n",
       "    white-space: pre-wrap;\n",
       "    word-wrap: break-word;\n",
       "    word-break: break-all;\n",
       "    font-family: \"Source Code Pro\", \"Menlo\", monospace;;\n",
       "    font-size: 13px;\n",
       "    color: #555;\n",
       "    margin-left: 4px;\n",
       "    line-height: 19px;\n",
       "  }\n",
       "</style>"
      ]
     },
     "metadata": {
      "application/vnd.databricks.v1+output": {
       "arguments": {},
       "data": "",
       "errorSummary": "",
       "errorTraceType": null,
       "metadata": {},
       "type": "ipynbError"
      }
     },
     "output_type": "display_data"
    }
   ],
   "source": []
  }
 ],
 "metadata": {
  "application/vnd.databricks.v1+notebook": {
   "dashboards": [],
   "language": "python",
   "notebookMetadata": {
    "pythonIndentUnit": 2
   },
   "notebookName": "demo_02_AutoLoader",
   "notebookOrigID": 358146438450264,
   "widgets": {}
  },
  "kernelspec": {
   "display_name": "Python 3",
   "language": "python",
   "name": "python3"
  },
  "language_info": {
   "codemirror_mode": {
    "name": "ipython",
    "version": 3
   },
   "file_extension": ".py",
   "mimetype": "text/x-python",
   "name": "python",
   "nbconvert_exporter": "python",
   "pygments_lexer": "ipython3",
   "version": "3.8.5"
  }
 },
 "nbformat": 4,
 "nbformat_minor": 1
}
