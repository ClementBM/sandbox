{
 "cells": [
  {
   "cell_type": "markdown",
   "metadata": {
    "application/vnd.databricks.v1+cell": {
     "inputWidgets": {},
     "nuid": "83b6a96b-311b-4505-a00a-964b472877ab",
     "showTitle": false,
     "title": ""
    }
   },
   "source": [
    "TODO Recording\n",
    "\n",
    "Start with the workspace and cluster already created\n",
    "\n",
    "Just click on launch workspace \n",
    "\n",
    "Right navigation menu -> Settings -> Admin console -> Workspace Settings -> Enable DBFS file browser\n",
    "\n",
    "Refresh the page so it is enabled\n",
    "\n",
    "Go to the Databricks main page\n",
    "\n",
    "Create the first notebook\n",
    "\n",
    "You do NOT need to show the creation of other notebooks"
   ]
  },
  {
   "cell_type": "code",
   "execution_count": 0,
   "metadata": {
    "application/vnd.databricks.v1+cell": {
     "inputWidgets": {},
     "nuid": "a0a55405-6191-41e1-9e8c-8569f0fd08d4",
     "showTitle": false,
     "title": ""
    }
   },
   "outputs": [
    {
     "data": {
      "text/html": [
       "<style scoped>\n",
       "  .ansiout {\n",
       "    display: block;\n",
       "    unicode-bidi: embed;\n",
       "    white-space: pre-wrap;\n",
       "    word-wrap: break-word;\n",
       "    word-break: break-all;\n",
       "    font-family: \"Source Code Pro\", \"Menlo\", monospace;;\n",
       "    font-size: 13px;\n",
       "    color: #555;\n",
       "    margin-left: 4px;\n",
       "    line-height: 19px;\n",
       "  }\n",
       "</style>\n",
       "<div class=\"ansiout\"></div>"
      ]
     },
     "metadata": {
      "application/vnd.databricks.v1+output": {
       "addedWidgets": {},
       "arguments": {},
       "data": "<div class=\"ansiout\"></div>",
       "datasetInfos": [],
       "metadata": {},
       "removedWidgets": [],
       "type": "html"
      }
     },
     "output_type": "display_data"
    }
   ],
   "source": [
    "from pyspark.sql.types import StructType, StructField, IntegerType, StringType, FloatType\n"
   ]
  },
  {
   "cell_type": "code",
   "execution_count": 0,
   "metadata": {
    "application/vnd.databricks.v1+cell": {
     "inputWidgets": {},
     "nuid": "fa2e42f4-aae8-4cae-ba4d-967946089ec2",
     "showTitle": false,
     "title": ""
    }
   },
   "outputs": [
    {
     "data": {
      "text/html": [
       "<style scoped>\n",
       "  .ansiout {\n",
       "    display: block;\n",
       "    unicode-bidi: embed;\n",
       "    white-space: pre-wrap;\n",
       "    word-wrap: break-word;\n",
       "    word-break: break-all;\n",
       "    font-family: \"Source Code Pro\", \"Menlo\", monospace;;\n",
       "    font-size: 13px;\n",
       "    color: #555;\n",
       "    margin-left: 4px;\n",
       "    line-height: 19px;\n",
       "  }\n",
       "</style>\n",
       "<div class=\"ansiout\">Out[2]: True</div>"
      ]
     },
     "metadata": {
      "application/vnd.databricks.v1+output": {
       "addedWidgets": {},
       "arguments": {},
       "data": "<div class=\"ansiout\">Out[2]: True</div>",
       "datasetInfos": [],
       "metadata": {},
       "removedWidgets": [],
       "type": "html"
      }
     },
     "output_type": "display_data"
    }
   ],
   "source": [
    "dbutils.fs.mkdirs(\"dbfs:/FileStore/datasets\")"
   ]
  },
  {
   "cell_type": "code",
   "execution_count": 0,
   "metadata": {
    "application/vnd.databricks.v1+cell": {
     "inputWidgets": {},
     "nuid": "8bdb302f-56c7-44de-bbf5-2a8c47051634",
     "showTitle": false,
     "title": ""
    }
   },
   "outputs": [
    {
     "data": {
      "text/html": [
       "<style scoped>\n",
       "  .ansiout {\n",
       "    display: block;\n",
       "    unicode-bidi: embed;\n",
       "    white-space: pre-wrap;\n",
       "    word-wrap: break-word;\n",
       "    word-break: break-all;\n",
       "    font-family: \"Source Code Pro\", \"Menlo\", monospace;;\n",
       "    font-size: 13px;\n",
       "    color: #555;\n",
       "    margin-left: 4px;\n",
       "    line-height: 19px;\n",
       "  }\n",
       "</style>\n",
       "<div class=\"ansiout\">Out[3]: [FileInfo(path=&#39;dbfs:/FileStore/datasets/laptop_source_stream/&#39;, name=&#39;laptop_source_stream/&#39;, size=0),\n",
       " FileInfo(path=&#39;dbfs:/FileStore/datasets/laptops.csv&#39;, name=&#39;laptops.csv&#39;, size=54477),\n",
       " FileInfo(path=&#39;dbfs:/FileStore/datasets/prediction_data/&#39;, name=&#39;prediction_data/&#39;, size=0)]</div>"
      ]
     },
     "metadata": {
      "application/vnd.databricks.v1+output": {
       "addedWidgets": {},
       "arguments": {},
       "data": "<div class=\"ansiout\">Out[3]: [FileInfo(path=&#39;dbfs:/FileStore/datasets/laptop_source_stream/&#39;, name=&#39;laptop_source_stream/&#39;, size=0),\n FileInfo(path=&#39;dbfs:/FileStore/datasets/laptops.csv&#39;, name=&#39;laptops.csv&#39;, size=54477),\n FileInfo(path=&#39;dbfs:/FileStore/datasets/prediction_data/&#39;, name=&#39;prediction_data/&#39;, size=0)]</div>",
       "datasetInfos": [],
       "metadata": {},
       "removedWidgets": [],
       "type": "html"
      }
     },
     "output_type": "display_data"
    }
   ],
   "source": [
    "dbutils.fs.ls (\"dbfs:/FileStore/datasets/\")"
   ]
  },
  {
   "cell_type": "markdown",
   "metadata": {
    "application/vnd.databricks.v1+cell": {
     "inputWidgets": {},
     "nuid": "d82ab7e2-811f-4594-901f-0d1e0966fc5b",
     "showTitle": false,
     "title": ""
    }
   },
   "source": [
    "TODO Recording for cell below <br>\n",
    "Now let's upload the laptops.csv dataset to the datasets folder"
   ]
  },
  {
   "cell_type": "code",
   "execution_count": 0,
   "metadata": {
    "application/vnd.databricks.v1+cell": {
     "inputWidgets": {},
     "nuid": "a8cfa6ad-f20b-4386-90ab-72c8addcc5c3",
     "showTitle": false,
     "title": ""
    }
   },
   "outputs": [
    {
     "data": {
      "text/html": [
       "<style scoped>\n",
       "  .ansiout {\n",
       "    display: block;\n",
       "    unicode-bidi: embed;\n",
       "    white-space: pre-wrap;\n",
       "    word-wrap: break-word;\n",
       "    word-break: break-all;\n",
       "    font-family: \"Source Code Pro\", \"Menlo\", monospace;;\n",
       "    font-size: 13px;\n",
       "    color: #555;\n",
       "    margin-left: 4px;\n",
       "    line-height: 19px;\n",
       "  }\n",
       "</style>\n",
       "<div class=\"ansiout\">Out[4]: [FileInfo(path=&#39;dbfs:/FileStore/datasets/laptop_source_stream/&#39;, name=&#39;laptop_source_stream/&#39;, size=0),\n",
       " FileInfo(path=&#39;dbfs:/FileStore/datasets/laptops.csv&#39;, name=&#39;laptops.csv&#39;, size=54477),\n",
       " FileInfo(path=&#39;dbfs:/FileStore/datasets/prediction_data/&#39;, name=&#39;prediction_data/&#39;, size=0)]</div>"
      ]
     },
     "metadata": {
      "application/vnd.databricks.v1+output": {
       "addedWidgets": {},
       "arguments": {},
       "data": "<div class=\"ansiout\">Out[4]: [FileInfo(path=&#39;dbfs:/FileStore/datasets/laptop_source_stream/&#39;, name=&#39;laptop_source_stream/&#39;, size=0),\n FileInfo(path=&#39;dbfs:/FileStore/datasets/laptops.csv&#39;, name=&#39;laptops.csv&#39;, size=54477),\n FileInfo(path=&#39;dbfs:/FileStore/datasets/prediction_data/&#39;, name=&#39;prediction_data/&#39;, size=0)]</div>",
       "datasetInfos": [],
       "metadata": {},
       "removedWidgets": [],
       "type": "html"
      }
     },
     "output_type": "display_data"
    }
   ],
   "source": [
    "dbutils.fs.ls (\"dbfs:/FileStore/datasets\")"
   ]
  },
  {
   "cell_type": "code",
   "execution_count": 0,
   "metadata": {
    "application/vnd.databricks.v1+cell": {
     "inputWidgets": {},
     "nuid": "34bc4bcb-ab3a-4559-b68c-e67a9f316bf2",
     "showTitle": false,
     "title": ""
    }
   },
   "outputs": [
    {
     "data": {
      "text/html": [
       "<style scoped>\n",
       "  .ansiout {\n",
       "    display: block;\n",
       "    unicode-bidi: embed;\n",
       "    white-space: pre-wrap;\n",
       "    word-wrap: break-word;\n",
       "    word-break: break-all;\n",
       "    font-family: \"Source Code Pro\", \"Menlo\", monospace;;\n",
       "    font-size: 13px;\n",
       "    color: #555;\n",
       "    margin-left: 4px;\n",
       "    line-height: 19px;\n",
       "  }\n",
       "</style>\n",
       "<div class=\"ansiout\"></div>"
      ]
     },
     "metadata": {
      "application/vnd.databricks.v1+output": {
       "addedWidgets": {},
       "arguments": {},
       "data": "<div class=\"ansiout\"></div>",
       "datasetInfos": [],
       "metadata": {},
       "removedWidgets": [],
       "type": "html"
      }
     },
     "output_type": "display_data"
    }
   ],
   "source": [
    "schema = StructType([StructField(\"Id\", IntegerType(), False), \\\n",
    "                     StructField(\"Company\", StringType(), False), \\\n",
    "                     StructField(\"Product\", StringType(), False), \\\n",
    "                     StructField(\"TypeName\", StringType(), False), \\\n",
    "                     StructField(\"Price_euros\", FloatType(), False)])"
   ]
  },
  {
   "cell_type": "markdown",
   "metadata": {
    "application/vnd.databricks.v1+cell": {
     "inputWidgets": {},
     "nuid": "122a15fa-302e-41f9-9f8c-e708db1c42f0",
     "showTitle": false,
     "title": ""
    }
   },
   "source": [
    "##### Dataset :\n",
    "https://www.kaggle.com/ionaskel/laptop-prices <br>\n",
    "It is a csv file, let's see the data first as reading the batch data"
   ]
  },
  {
   "cell_type": "code",
   "execution_count": 0,
   "metadata": {
    "application/vnd.databricks.v1+cell": {
     "inputWidgets": {},
     "nuid": "fc22be7a-d073-4886-a2d2-802ae7d94ade",
     "showTitle": false,
     "title": ""
    }
   },
   "outputs": [
    {
     "data": {
      "text/html": [
       "<style scoped>\n",
       "  .table-result-container {\n",
       "    max-height: 300px;\n",
       "    overflow: auto;\n",
       "  }\n",
       "  table, th, td {\n",
       "    border: 1px solid black;\n",
       "    border-collapse: collapse;\n",
       "  }\n",
       "  th, td {\n",
       "    padding: 5px;\n",
       "  }\n",
       "  th {\n",
       "    text-align: left;\n",
       "  }\n",
       "</style><div class='table-result-container'><table class='table-result'><thead style='background-color: white'><tr><th>Id</th><th>Company</th><th>Product</th><th>TypeName</th><th>Price_euros</th></tr></thead><tbody><tr><td>1</td><td>Apple</td><td>MacBook Pro</td><td>Ultrabook</td><td>1339.69</td></tr><tr><td>2</td><td>Apple</td><td>Macbook Air</td><td>Ultrabook</td><td>898.94</td></tr><tr><td>3</td><td>HP</td><td>250 G6</td><td>Notebook</td><td>575.0</td></tr><tr><td>4</td><td>Apple</td><td>MacBook Pro</td><td>Ultrabook</td><td>2537.45</td></tr><tr><td>5</td><td>Apple</td><td>MacBook Pro</td><td>Ultrabook</td><td>1803.6</td></tr><tr><td>6</td><td>Acer</td><td>Aspire 3</td><td>Notebook</td><td>400.0</td></tr><tr><td>7</td><td>Apple</td><td>MacBook Pro</td><td>Ultrabook</td><td>2139.97</td></tr><tr><td>8</td><td>Apple</td><td>Macbook Air</td><td>Ultrabook</td><td>1158.7</td></tr><tr><td>9</td><td>Asus</td><td>ZenBook UX430UN</td><td>Ultrabook</td><td>1495.0</td></tr><tr><td>10</td><td>Acer</td><td>Swift 3</td><td>Ultrabook</td><td>770.0</td></tr><tr><td>11</td><td>HP</td><td>250 G6</td><td>Notebook</td><td>393.9</td></tr><tr><td>12</td><td>HP</td><td>250 G6</td><td>Notebook</td><td>344.99</td></tr><tr><td>13</td><td>Apple</td><td>MacBook Pro</td><td>Ultrabook</td><td>2439.97</td></tr><tr><td>14</td><td>Dell</td><td>Inspiron 3567</td><td>Notebook</td><td>498.9</td></tr><tr><td>15</td><td>Apple</td><td>MacBook 12\"\"</td><td>Ultrabook</td><td>1262.4</td></tr><tr><td>16</td><td>Apple</td><td>MacBook Pro</td><td>Ultrabook</td><td>1518.55</td></tr><tr><td>17</td><td>Dell</td><td>Inspiron 3567</td><td>Notebook</td><td>745.0</td></tr><tr><td>18</td><td>Apple</td><td>MacBook Pro</td><td>Ultrabook</td><td>2858.0</td></tr><tr><td>19</td><td>Lenovo</td><td>IdeaPad 320-15IKB</td><td>Notebook</td><td>499.0</td></tr><tr><td>20</td><td>Dell</td><td>XPS 13</td><td>Ultrabook</td><td>979.0</td></tr><tr><td>21</td><td>Asus</td><td>Vivobook E200HA</td><td>Netbook</td><td>191.9</td></tr><tr><td>22</td><td>Lenovo</td><td>Legion Y520-15IKBN</td><td>Gaming</td><td>999.0</td></tr><tr><td>23</td><td>HP</td><td>255 G6</td><td>Notebook</td><td>258.0</td></tr><tr><td>24</td><td>Dell</td><td>Inspiron 5379</td><td>2 in 1 Convertible</td><td>819.0</td></tr><tr><td>25</td><td>HP</td><td>15-BS101nv (i7-8550U/8GB/256GB/FHD/W10)</td><td>Ultrabook</td><td>659.0</td></tr><tr><td>26</td><td>Dell</td><td>Inspiron 3567</td><td>Notebook</td><td>418.64</td></tr><tr><td>27</td><td>Apple</td><td>MacBook Air</td><td>Ultrabook</td><td>1099.0</td></tr><tr><td>28</td><td>Dell</td><td>Inspiron 5570</td><td>Notebook</td><td>800.0</td></tr><tr><td>29</td><td>Dell</td><td>Latitude 5590</td><td>Ultrabook</td><td>1298.0</td></tr><tr><td>30</td><td>HP</td><td>ProBook 470</td><td>Notebook</td><td>896.0</td></tr><tr><td>31</td><td>Chuwi</td><td>LapBook 15.6\"\"</td><td>Notebook</td><td>244.99</td></tr><tr><td>32</td><td>Asus</td><td>E402WA-GA010T (E2-6110/2GB/32GB/W10)</td><td>Notebook</td><td>199.0</td></tr><tr><td>33</td><td>HP</td><td>17-ak001nv (A6-9220/4GB/500GB/Radeon</td><td>Notebook</td><td>439.0</td></tr><tr><td>34</td><td>Dell</td><td>XPS 13</td><td>Ultrabook</td><td>1869.0</td></tr><tr><td>35</td><td>Apple</td><td>MacBook Air</td><td>Ultrabook</td><td>998.0</td></tr><tr><td>36</td><td>Lenovo</td><td>IdeaPad 120S-14IAP</td><td>Notebook</td><td>249.0</td></tr><tr><td>37</td><td>Acer</td><td>Aspire 3</td><td>Notebook</td><td>367.0</td></tr><tr><td>38</td><td>Dell</td><td>Inspiron 5770</td><td>Notebook</td><td>979.0</td></tr><tr><td>39</td><td>HP</td><td>250 G6</td><td>Notebook</td><td>488.69</td></tr><tr><td>40</td><td>HP</td><td>ProBook 450</td><td>Notebook</td><td>879.0</td></tr><tr><td>41</td><td>Asus</td><td>X540UA-DM186 (i3-6006U/4GB/1TB/FHD/Linux)</td><td>Notebook</td><td>389.0</td></tr><tr><td>42</td><td>Dell</td><td>Inspiron 7577</td><td>Gaming</td><td>1499.0</td></tr><tr><td>43</td><td>Asus</td><td>X542UQ-GO005 (i5-7200U/8GB/1TB/GeForce</td><td>Notebook</td><td>522.99</td></tr><tr><td>44</td><td>Acer</td><td>Aspire A515-51G</td><td>Notebook</td><td>682.0</td></tr><tr><td>45</td><td>Dell</td><td>Inspiron 7773</td><td>2 in 1 Convertible</td><td>999.0</td></tr><tr><td>46</td><td>Apple</td><td>MacBook Pro</td><td>Ultrabook</td><td>1419.0</td></tr><tr><td>47</td><td>Lenovo</td><td>IdeaPad 320-15ISK</td><td>Notebook</td><td>369.0</td></tr><tr><td>48</td><td>Asus</td><td>Rog Strix</td><td>Gaming</td><td>1299.0</td></tr><tr><td>49</td><td>Dell</td><td>Inspiron 3567</td><td>Notebook</td><td>639.0</td></tr><tr><td>50</td><td>Asus</td><td>X751NV-TY001T (N4200/4GB/1TB/GeForce</td><td>Notebook</td><td>466.0</td></tr><tr><td>51</td><td>Lenovo</td><td>Yoga Book</td><td>2 in 1 Convertible</td><td>319.0</td></tr><tr><td>52</td><td>Acer</td><td>Aspire A515-51G</td><td>Notebook</td><td>841.0</td></tr><tr><td>53</td><td>HP</td><td>255 G6</td><td>Notebook</td><td>398.49</td></tr><tr><td>54</td><td>HP</td><td>ProBook 430</td><td>Notebook</td><td>1103.0</td></tr><tr><td>55</td><td>Acer</td><td>Aspire 3</td><td>Notebook</td><td>384.0</td></tr><tr><td>56</td><td>Dell</td><td>Inspiron 3576</td><td>Notebook</td><td>767.8</td></tr><tr><td>57</td><td>HP</td><td>15-bs002nv (i3-6006U/4GB/128GB/FHD/W10)</td><td>Notebook</td><td>439.0</td></tr><tr><td>58</td><td>Asus</td><td>VivoBook Max</td><td>Notebook</td><td>586.19</td></tr><tr><td>59</td><td>MSI</td><td>GS73VR 7RG</td><td>Gaming</td><td>2449.0</td></tr><tr><td>60</td><td>Asus</td><td>X541UA-DM1897 (i3-6006U/4GB/256GB/FHD/Linux)</td><td>Notebook</td><td>415.0</td></tr><tr><td>61</td><td>Dell</td><td>Inspiron 5770</td><td>Notebook</td><td>1299.0</td></tr><tr><td>62</td><td>Dell</td><td>Vostro 5471</td><td>Ultrabook</td><td>879.0</td></tr><tr><td>63</td><td>Lenovo</td><td>IdeaPad 520S-14IKB</td><td>Notebook</td><td>599.0</td></tr><tr><td>64</td><td>Asus</td><td>UX410UA-GV350T (i5-8250U/8GB/256GB/FHD/W10)</td><td>Notebook</td><td>941.0</td></tr><tr><td>66</td><td>HP</td><td>250 G6</td><td>Notebook</td><td>690.0</td></tr><tr><td>67</td><td>Asus</td><td>ZenBook Pro</td><td>Ultrabook</td><td>1983.0</td></tr><tr><td>68</td><td>HP</td><td>250 G6</td><td>Notebook</td><td>438.69</td></tr><tr><td>69</td><td>HP</td><td>Stream 14-AX040wm</td><td>Notebook</td><td>229.0</td></tr><tr><td>70</td><td>Lenovo</td><td>V310-15ISK (i5-7200U/4GB/1TB/FHD/W10)</td><td>Notebook</td><td>549.0</td></tr><tr><td>71</td><td>Asus</td><td>FX753VE-GC093 (i7-7700HQ/12GB/1TB/GeForce</td><td>Gaming</td><td>949.0</td></tr><tr><td>72</td><td>Microsoft</td><td>Surface Laptop</td><td>Ultrabook</td><td>1089.0</td></tr><tr><td>73</td><td>Dell</td><td>Inspiron 5370</td><td>Ultrabook</td><td>955.0</td></tr><tr><td>74</td><td>Dell</td><td>Inspiron 5570</td><td>Notebook</td><td>870.0</td></tr><tr><td>75</td><td>MSI</td><td>GL72M 7RDX</td><td>Gaming</td><td>1095.0</td></tr><tr><td>76</td><td>Acer</td><td>Aspire E5-475</td><td>Notebook</td><td>389.0</td></tr><tr><td>77</td><td>Asus</td><td>FX503VD-E4022T (i7-7700HQ/8GB/1TB/GeForce</td><td>Gaming</td><td>949.0</td></tr><tr><td>78</td><td>Lenovo</td><td>IdeaPad 320-15IKBN</td><td>Notebook</td><td>519.0</td></tr><tr><td>79</td><td>Dell</td><td>Inspiron 5570</td><td>Notebook</td><td>855.0</td></tr><tr><td>80</td><td>Acer</td><td>Aspire A515-51G-32MX</td><td>Notebook</td><td>530.0</td></tr><tr><td>81</td><td>HP</td><td>ProBook 470</td><td>Notebook</td><td>977.0</td></tr><tr><td>82</td><td>Dell</td><td>Latitude 5590</td><td>Ultrabook</td><td>1096.16</td></tr><tr><td>83</td><td>Apple</td><td>MacBook 12\"\"</td><td>Ultrabook</td><td>1510.0</td></tr><tr><td>84</td><td>HP</td><td>ProBook 440</td><td>Notebook</td><td>860.0</td></tr><tr><td>85</td><td>Lenovo</td><td>IdeaPad 320-15AST</td><td>Notebook</td><td>399.0</td></tr><tr><td>86</td><td>Acer</td><td>Aspire 3</td><td>Notebook</td><td>395.0</td></tr><tr><td>87</td><td>Dell</td><td>Inspiron 7577</td><td>Gaming</td><td>1349.0</td></tr><tr><td>88</td><td>HP</td><td>Pavilion 15-CK000nv</td><td>Ultrabook</td><td>699.0</td></tr><tr><td>89</td><td>HP</td><td>250 G6</td><td>Notebook</td><td>598.99</td></tr><tr><td>90</td><td>Asus</td><td>FX503VM-E4007T (i7-7700HQ/16GB/1TB</td><td>Gaming</td><td>1449.0</td></tr><tr><td>91</td><td>Dell</td><td>XPS 13</td><td>Ultrabook</td><td>1649.0</td></tr><tr><td>92</td><td>Asus</td><td>FX550IK-DM018T (FX-9830P/8GB/1TB/Radeon</td><td>Gaming</td><td>699.0</td></tr><tr><td>93</td><td>Acer</td><td>Aspire 5</td><td>Notebook</td><td>689.0</td></tr><tr><td>94</td><td>HP</td><td>Probook 430</td><td>Notebook</td><td>1197.0</td></tr><tr><td>95</td><td>Dell</td><td>Inspiron 7577</td><td>Gaming</td><td>1195.0</td></tr><tr><td>96</td><td>Asus</td><td>Zenbook UX430UA</td><td>Ultrabook</td><td>1049.0</td></tr><tr><td>97</td><td>Acer</td><td>Spin 5</td><td>2 in 1 Convertible</td><td>847.0</td></tr><tr><td>98</td><td>Dell</td><td>Inspiron 3567</td><td>Notebook</td><td>599.9</td></tr><tr><td>99</td><td>Dell</td><td>Inspiron 3567</td><td>Notebook</td><td>485.0</td></tr><tr><td>100</td><td>Asus</td><td>X541UV-DM1439T (i3-7100U/6GB/256GB/GeForce</td><td>Notebook</td><td>577.0</td></tr><tr><td>102</td><td>HP</td><td>Omen 15-ce007nv</td><td>Gaming</td><td>1249.0</td></tr><tr><td>103</td><td>HP</td><td>15-bs017nv (i7-7500U/8GB/256GB/Radeon</td><td>Notebook</td><td>719.0</td></tr><tr><td>104</td><td>HP</td><td>15-bw000nv (E2-9000e/4GB/500GB/Radeon</td><td>Notebook</td><td>349.0</td></tr><tr><td>105</td><td>Dell</td><td>Inspiron 3576</td><td>Notebook</td><td>647.0</td></tr><tr><td>106</td><td>HP</td><td>Envy 13-ad009n</td><td>Ultrabook</td><td>1119.0</td></tr><tr><td>107</td><td>Microsoft</td><td>Surface Laptop</td><td>Ultrabook</td><td>1340.0</td></tr><tr><td>108</td><td>HP</td><td>Pavilion 14-BK001nv</td><td>Notebook</td><td>659.0</td></tr><tr><td>109</td><td>Lenovo</td><td>Ideapad 310-15ISK</td><td>Notebook</td><td>414.9</td></tr><tr><td>110</td><td>Asus</td><td>UX430UQ-GV209R (i7-7500U/8GB/256GB/GeForce</td><td>Ultrabook</td><td>1193.0</td></tr><tr><td>111</td><td>MSI</td><td>GP62M 7REX</td><td>Gaming</td><td>1299.0</td></tr><tr><td>112</td><td>Lenovo</td><td>Thinkpad T470</td><td>Notebook</td><td>1480.0</td></tr><tr><td>113</td><td>Asus</td><td>VivoBook S15</td><td>Ultrabook</td><td>1262.0</td></tr><tr><td>114</td><td>Dell</td><td>XPS 13</td><td>Ultrabook</td><td>1379.0</td></tr><tr><td>115</td><td>Lenovo</td><td>ThinkPad Yoga</td><td>2 in 1 Convertible</td><td>1399.0</td></tr><tr><td>116</td><td>HP</td><td>Probook 440</td><td>Notebook</td><td>722.0</td></tr><tr><td>117</td><td>Dell</td><td>XPS 13</td><td>Ultrabook</td><td>1629.0</td></tr><tr><td>118</td><td>HP</td><td>Spectre x360</td><td>2 in 1 Convertible</td><td>1398.99</td></tr><tr><td>119</td><td>HP</td><td>Probook 440</td><td>Notebook</td><td>1084.0</td></tr><tr><td>120</td><td>Dell</td><td>Inspiron 7570</td><td>Notebook</td><td>1130.33</td></tr><tr><td>121</td><td>Asus</td><td>X705UV-BX074T (i3-6006U/4GB/1TB/GeForce</td><td>Notebook</td><td>564.0</td></tr><tr><td>122</td><td>Asus</td><td>VivoBook S15</td><td>Notebook</td><td>1118.0</td></tr><tr><td>123</td><td>Acer</td><td>Spin 3</td><td>Notebook</td><td>479.0</td></tr><tr><td>124</td><td>MSI</td><td>GS63VR 7RG</td><td>Gaming</td><td>2241.5</td></tr><tr><td>125</td><td>Lenovo</td><td>IdeaPad 320-15IKBN</td><td>Notebook</td><td>629.0</td></tr><tr><td>126</td><td>HP</td><td>Probook 470</td><td>Notebook</td><td>1271.0</td></tr><tr><td>127</td><td>Acer</td><td>Aspire 3</td><td>Notebook</td><td>451.0</td></tr><tr><td>128</td><td>HP</td><td>250 G6</td><td>Notebook</td><td>259.0</td></tr><tr><td>129</td><td>HP</td><td>Probook 440</td><td>Notebook</td><td>812.0</td></tr><tr><td>130</td><td>Asus</td><td>E402WA-GA007T (E2-6110/4GB/64GB/W10</td><td>Notebook</td><td>277.99</td></tr><tr><td>131</td><td>Dell</td><td>Inspiron 5770</td><td>Notebook</td><td>1396.0</td></tr><tr><td>132</td><td>HP</td><td>ProBook 470</td><td>Notebook</td><td>928.0</td></tr><tr><td>133</td><td>Dell</td><td>Inspiron 5567</td><td>Notebook</td><td>638.99</td></tr><tr><td>134</td><td>Dell</td><td>Inspiron 3567</td><td>Notebook</td><td>449.0</td></tr><tr><td>135</td><td>Acer</td><td>Swift 3</td><td>Ultrabook</td><td>884.0</td></tr><tr><td>136</td><td>Acer</td><td>Aspire A515-51G-37JS</td><td>Notebook</td><td>572.0</td></tr><tr><td>137</td><td>HP</td><td>15-BS078nr (i7-7500U/8GB/1TB/W10)</td><td>Notebook</td><td>598.0</td></tr><tr><td>138</td><td>HP</td><td>Probook 440</td><td>Notebook</td><td>988.0</td></tr><tr><td>139</td><td>Lenovo</td><td>V110-15IAP (N3350/4GB/1TB/No</td><td>Notebook</td><td>252.36</td></tr><tr><td>140</td><td>Asus</td><td>FX753VD-GC086T (i5-7300HQ/8GB/1TB</td><td>Gaming</td><td>938.0</td></tr><tr><td>141</td><td>Lenovo</td><td>IdeaPad 320-15IKBN</td><td>Notebook</td><td>499.0</td></tr><tr><td>142</td><td>HP</td><td>Envy 13-AD007nv</td><td>Notebook</td><td>699.0</td></tr><tr><td>143</td><td>Acer</td><td>Aspire 5</td><td>Notebook</td><td>655.0</td></tr><tr><td>144</td><td>Lenovo</td><td>ThinkPad E480</td><td>Notebook</td><td>1116.02</td></tr><tr><td>145</td><td>Lenovo</td><td>Legion Y520-15IKBN</td><td>Gaming</td><td>869.0</td></tr><tr><td>146</td><td>Toshiba</td><td>Satellite Pro</td><td>Notebook</td><td>602.0</td></tr><tr><td>147</td><td>HP</td><td>255 G6</td><td>Notebook</td><td>369.0</td></tr><tr><td>148</td><td>Asus</td><td>ZenBook UX430UA</td><td>Ultrabook</td><td>1099.0</td></tr><tr><td>149</td><td>HP</td><td>EliteBook Folio</td><td>Ultrabook</td><td>2014.0</td></tr><tr><td>150</td><td>Asus</td><td>X541NA (N3350/4GB/1TB/FHD/W10)</td><td>Notebook</td><td>344.0</td></tr><tr><td>151</td><td>MSI</td><td>GE72MVR 7RG</td><td>Gaming</td><td>2029.0</td></tr><tr><td>152</td><td>Acer</td><td>Aspire A315-51</td><td>Notebook</td><td>447.0</td></tr><tr><td>153</td><td>Dell</td><td>Inspiron 5577</td><td>Gaming</td><td>1249.26</td></tr><tr><td>154</td><td>Dell</td><td>Inspiron 7567</td><td>Gaming</td><td>899.0</td></tr><tr><td>155</td><td>Lenovo</td><td>V110-15IKB (i5-7200U/4GB/128GB/W10)</td><td>Notebook</td><td>498.0</td></tr><tr><td>156</td><td>MSI</td><td>GE73VR 7RE</td><td>Gaming</td><td>1890.0</td></tr><tr><td>157</td><td>HP</td><td>EliteBook 840</td><td>Ultrabook</td><td>1082.0</td></tr><tr><td>158</td><td>HP</td><td>15-BS103nv (i5-8250U/6GB/256GB/Radeon</td><td>Notebook</td><td>619.0</td></tr><tr><td>159</td><td>Lenovo</td><td>Yoga 520-14IKB</td><td>2 in 1 Convertible</td><td>629.0</td></tr><tr><td>160</td><td>Asus</td><td>ZenBook Flip</td><td>2 in 1 Convertible</td><td>1315.0</td></tr><tr><td>161</td><td>Dell</td><td>Inspiron 5579</td><td>2 in 1 Convertible</td><td>1049.0</td></tr><tr><td>163</td><td>Toshiba</td><td>Satellite Pro</td><td>Notebook</td><td>447.0</td></tr><tr><td>164</td><td>Asus</td><td>X555BP-XX180T (A9-9420/4GB/1TB/Radeon</td><td>Notebook</td><td>403.0</td></tr><tr><td>165</td><td>Acer</td><td>Aspire A517-51G</td><td>Notebook</td><td>805.0</td></tr><tr><td>166</td><td>Dell</td><td>Inspiron 3576</td><td>Notebook</td><td>728.0</td></tr><tr><td>167</td><td>Lenovo</td><td>Legion Y520-15IKBN</td><td>Gaming</td><td>1079.0</td></tr><tr><td>168</td><td>Acer</td><td>Aspire A315-31</td><td>Notebook</td><td>348.0</td></tr><tr><td>169</td><td>MSI</td><td>GE63VR 7RE</td><td>Gaming</td><td>1799.0</td></tr><tr><td>170</td><td>Acer</td><td>Aspire 3</td><td>Notebook</td><td>363.51</td></tr><tr><td>171</td><td>Dell</td><td>Inspiron 5577</td><td>Gaming</td><td>1060.49</td></tr><tr><td>172</td><td>Acer</td><td>Aspire A517-51G</td><td>Notebook</td><td>854.0</td></tr><tr><td>173</td><td>HP</td><td>ProBook 430</td><td>Notebook</td><td>754.0</td></tr><tr><td>174</td><td>Huawei</td><td>MateBook X</td><td>Ultrabook</td><td>1349.0</td></tr><tr><td>175</td><td>HP</td><td>17-bs001nv (i5-7200U/6GB/2TB/Radeon</td><td>Notebook</td><td>699.0</td></tr><tr><td>176</td><td>Lenovo</td><td>IdeaPad 320-15AST</td><td>Notebook</td><td>309.0</td></tr><tr><td>177</td><td>Toshiba</td><td>Satellite Pro</td><td>Notebook</td><td>489.0</td></tr><tr><td>178</td><td>HP</td><td>ProBook 470</td><td>Notebook</td><td>923.0</td></tr><tr><td>179</td><td>Dell</td><td>Inspiron 3567</td><td>Notebook</td><td>459.0</td></tr><tr><td>180</td><td>Acer</td><td>Aspire A315-51</td><td>Notebook</td><td>449.0</td></tr><tr><td>181</td><td>MSI</td><td>GT80S 6QF-074US</td><td>Gaming</td><td>2799.0</td></tr><tr><td>182</td><td>Lenovo</td><td>V310-15IKB (i5-7200U/8GB/1TB</td><td>Notebook</td><td>813.0</td></tr><tr><td>183</td><td>HP</td><td>Spectre x360</td><td>2 in 1 Convertible</td><td>1499.0</td></tr><tr><td>184</td><td>Dell</td><td>Inspiron 5570</td><td>Notebook</td><td>1049.0</td></tr><tr><td>185</td><td>Dell</td><td>XPS 13</td><td>Ultrabook</td><td>1399.0</td></tr><tr><td>186</td><td>Lenovo</td><td>Yoga 920-13IKB</td><td>2 in 1 Convertible</td><td>1849.0</td></tr><tr><td>187</td><td>Toshiba</td><td>Satellite Pro</td><td>Notebook</td><td>793.0</td></tr><tr><td>188</td><td>Xiaomi</td><td>Mi Notebook</td><td>Notebook</td><td>1199.0</td></tr><tr><td>189</td><td>Dell</td><td>Inspiron 7773</td><td>Notebook</td><td>1549.0</td></tr><tr><td>190</td><td>Dell</td><td>XPS 15</td><td>Notebook</td><td>2397.0</td></tr><tr><td>191</td><td>Lenovo</td><td>Legion Y520-15IKBN</td><td>Gaming</td><td>779.0</td></tr><tr><td>192</td><td>Acer</td><td>Swift 7</td><td>Ultrabook</td><td>989.0</td></tr><tr><td>193</td><td>Dell</td><td>Inspiron 5770</td><td>Notebook</td><td>1085.0</td></tr><tr><td>194</td><td>Lenovo</td><td>Thinkpad Yoga</td><td>2 in 1 Convertible</td><td>2824.0</td></tr><tr><td>195</td><td>Vero</td><td>K147 (N3350/4GB/32GB/FHD/W10)</td><td>Notebook</td><td>260.0</td></tr><tr><td>196</td><td>Xiaomi</td><td>Mi Notebook</td><td>Ultrabook</td><td>999.9</td></tr><tr><td>197</td><td>Lenovo</td><td>IdeaPad 320-17IKBR</td><td>Notebook</td><td>698.0</td></tr><tr><td>198</td><td>Dell</td><td>Inspiron 5379</td><td>2 in 1 Convertible</td><td>839.0</td></tr><tr><td>199</td><td>HP</td><td>ProBook 470</td><td>Notebook</td><td>914.0</td></tr><tr><td>200</td><td>Razer</td><td>Blade Pro</td><td>Gaming</td><td>6099.0</td></tr><tr><td>201</td><td>HP</td><td>ProBook 430</td><td>Notebook</td><td>959.0</td></tr><tr><td>202</td><td>HP</td><td>Omen 17-W295</td><td>Gaming</td><td>1379.0</td></tr><tr><td>203</td><td>HP</td><td>Probook 470</td><td>Notebook</td><td>1045.0</td></tr><tr><td>204</td><td>Dell</td><td>Inspiron 7577</td><td>Gaming</td><td>1845.0</td></tr><tr><td>205</td><td>Lenovo</td><td>V110-15ISK (i5-6200U/4GB/128GB/W10)</td><td>Notebook</td><td>493.0</td></tr><tr><td>206</td><td>Acer</td><td>Aspire E5-576G</td><td>Notebook</td><td>742.0</td></tr><tr><td>207</td><td>Lenovo</td><td>Legion Y720-15IKB</td><td>Gaming</td><td>1749.0</td></tr><tr><td>208</td><td>Dell</td><td>Precision 7520</td><td>Workstation</td><td>3055.0</td></tr><tr><td>209</td><td>Lenovo</td><td>Legion Y520-15IKBN</td><td>Gaming</td><td>1398.0</td></tr><tr><td>210</td><td>Dell</td><td>Inspiron 3567</td><td>Notebook</td><td>439.0</td></tr><tr><td>211</td><td>Dell</td><td>XPS 13</td><td>Ultrabook</td><td>1949.0</td></tr><tr><td>212</td><td>Dell</td><td>XPS 13</td><td>Ultrabook</td><td>1449.0</td></tr><tr><td>213</td><td>Lenovo</td><td>IdeaPad 320-15IKBN</td><td>Notebook</td><td>597.0</td></tr><tr><td>215</td><td>Acer</td><td>Aspire 7</td><td>Notebook</td><td>779.0</td></tr><tr><td>216</td><td>Asus</td><td>ROG GL703VD-GC028T</td><td>Gaming</td><td>1407.0</td></tr><tr><td>217</td><td>HP</td><td>15-bs018nq (i3-6006U/4GB/500GB/FHD/No</td><td>Notebook</td><td>349.0</td></tr><tr><td>218</td><td>Lenovo</td><td>IdeaPad 320-15IKBN</td><td>Notebook</td><td>549.0</td></tr><tr><td>219</td><td>Huawei</td><td>MateBook X</td><td>Ultrabook</td><td>1499.0</td></tr><tr><td>220</td><td>Dell</td><td>Inspiron 5370</td><td>Ultrabook</td><td>931.88</td></tr><tr><td>221</td><td>Lenovo</td><td>IdeaPad 320-17IKB</td><td>Notebook</td><td>589.0</td></tr><tr><td>222</td><td>HP</td><td>Probook 440</td><td>Notebook</td><td>1031.0</td></tr><tr><td>223</td><td>Dell</td><td>Latitude 5490</td><td>Ultrabook</td><td>1149.0</td></tr><tr><td>224</td><td>Dell</td><td>Inspiron 5379</td><td>2 in 1 Convertible</td><td>1279.0</td></tr><tr><td>225</td><td>Dell</td><td>Inspiron 3576</td><td>Notebook</td><td>677.35</td></tr><tr><td>226</td><td>Lenovo</td><td>Yoga 520-14IKB</td><td>2 in 1 Convertible</td><td>899.0</td></tr><tr><td>227</td><td>Toshiba</td><td>Portege Z30-C-16L</td><td>Ultrabook</td><td>1363.0</td></tr><tr><td>228</td><td>HP</td><td>ProBook 450</td><td>Notebook</td><td>794.0</td></tr><tr><td>229</td><td>Dell</td><td>Alienware 17</td><td>Gaming</td><td>2456.34</td></tr><tr><td>230</td><td>Acer</td><td>Aspire E5-576G</td><td>Notebook</td><td>832.0</td></tr><tr><td>231</td><td>Dell</td><td>Inspiron 5567</td><td>Notebook</td><td>859.01</td></tr><tr><td>232</td><td>Asus</td><td>Vivobook X541UV-DM1217T</td><td>Notebook</td><td>769.0</td></tr><tr><td>233</td><td>Asus</td><td>K756UX-T4340T (i5-7200U/8GB/500GB</td><td>Notebook</td><td>891.0</td></tr><tr><td>234</td><td>HP</td><td>ZBook 15u</td><td>Notebook</td><td>1269.0</td></tr><tr><td>235</td><td>Asus</td><td>Pro P2540UA-XO0198T</td><td>Notebook</td><td>398.99</td></tr><tr><td>236</td><td>HP</td><td>15-rb013nv (E2-9000e/4GB/500GB/W10)</td><td>Notebook</td><td>330.0</td></tr><tr><td>237</td><td>Lenovo</td><td>Legion Y720-15IKB</td><td>Gaming</td><td>1499.0</td></tr><tr><td>238</td><td>Dell</td><td>Vostro 5468</td><td>Notebook</td><td>859.0</td></tr><tr><td>239</td><td>Acer</td><td>Aspire R7</td><td>2 in 1 Convertible</td><td>689.0</td></tr><tr><td>240</td><td>Dell</td><td>Inspiron 5567</td><td>Notebook</td><td>899.0</td></tr><tr><td>241</td><td>Acer</td><td>Aspire A315-51</td><td>Notebook</td><td>390.0</td></tr><tr><td>242</td><td>Asus</td><td>X555QG-DM242T (A10-9620P/4GB/1TB</td><td>Notebook</td><td>575.0</td></tr><tr><td>243</td><td>Asus</td><td>ROG G703VI-E5062T</td><td>Gaming</td><td>3890.0</td></tr><tr><td>244</td><td>Acer</td><td>Nitro AN515-51</td><td>Gaming</td><td>846.0</td></tr><tr><td>245</td><td>Lenovo</td><td>IdeaPad 320-15ISK</td><td>Notebook</td><td>589.0</td></tr><tr><td>246</td><td>Asus</td><td>VivoBook Pro</td><td>Notebook</td><td>1145.0</td></tr><tr><td>247</td><td>Asus</td><td>F756UX-T4201D (i7-7500U/8GB/128GB</td><td>Notebook</td><td>889.0</td></tr><tr><td>248</td><td>Dell</td><td>Inspiron 5577</td><td>Gaming</td><td>879.0</td></tr><tr><td>249</td><td>Lenovo</td><td>Yoga 910-13IKB</td><td>2 in 1 Convertible</td><td>1079.0</td></tr><tr><td>250</td><td>Dell</td><td>Inspiron 5570</td><td>Notebook</td><td>985.0</td></tr><tr><td>251</td><td>HP</td><td>15-bs015dx (i5-7200U/8GB/1TB/W10)</td><td>Notebook</td><td>559.0</td></tr><tr><td>252</td><td>Asus</td><td>Rog G701VIK-BA060T</td><td>Gaming</td><td>2999.0</td></tr><tr><td>253</td><td>HP</td><td>ProBook 430</td><td>Notebook</td><td>675.0</td></tr><tr><td>254</td><td>Apple</td><td>MacBook Pro</td><td>Ultrabook</td><td>2040.0</td></tr><tr><td>255</td><td>Dell</td><td>Inspiron 5579</td><td>2 in 1 Convertible</td><td>819.0</td></tr><tr><td>256</td><td>Asus</td><td>ROG G752VSK-GC493T</td><td>Gaming</td><td>1799.0</td></tr><tr><td>257</td><td>Asus</td><td>X505BP-BR019T (A9-9420/4GB/1TB/Radeon</td><td>Notebook</td><td>469.0</td></tr><tr><td>258</td><td>Lenovo</td><td>Yoga 920-13IKB</td><td>2 in 1 Convertible</td><td>1849.0</td></tr><tr><td>259</td><td>Acer</td><td>Aspire 5</td><td>Notebook</td><td>702.0</td></tr><tr><td>260</td><td>Dell</td><td>Vostro 5370</td><td>Ultrabook</td><td>949.0</td></tr><tr><td>261</td><td>HP</td><td>15-BW094nd (A6-9220/8GB/128GB/W10)</td><td>Notebook</td><td>445.9</td></tr><tr><td>262</td><td>HP</td><td>Envy 17-U275cl</td><td>Notebook</td><td>1059.0</td></tr><tr><td>263</td><td>MSI</td><td>GT73EVR 7RE</td><td>Gaming</td><td>2499.0</td></tr><tr><td>264</td><td>Lenovo</td><td>Yoga 720-15IKB</td><td>2 in 1 Convertible</td><td>1699.0</td></tr><tr><td>265</td><td>Dell</td><td>Inspiron 5770</td><td>Notebook</td><td>1142.0</td></tr><tr><td>266</td><td>Lenovo</td><td>IdeaPad 320-15ISK</td><td>Notebook</td><td>444.0</td></tr><tr><td>267</td><td>HP</td><td>ProBook 450</td><td>Notebook</td><td>722.0</td></tr><tr><td>268</td><td>Dell</td><td>Vostro 3568</td><td>Notebook</td><td>657.0</td></tr><tr><td>269</td><td>Dell</td><td>Inspiron 3567</td><td>Notebook</td><td>565.0</td></tr><tr><td>270</td><td>Dell</td><td>Inspiron 5579</td><td>2 in 1 Convertible</td><td>799.0</td></tr><tr><td>271</td><td>Asus</td><td>ZenBook Flip</td><td>2 in 1 Convertible</td><td>1499.0</td></tr><tr><td>272</td><td>Lenovo</td><td>IdeaPad 320-15IKBN</td><td>Notebook</td><td>467.0</td></tr><tr><td>273</td><td>HP</td><td>Probook 470</td><td>Notebook</td><td>1018.0</td></tr><tr><td>274</td><td>Lenovo</td><td>V330-15IKB (i7-8550U/8GB/256GB/FHD/W10)</td><td>Notebook</td><td>880.0</td></tr><tr><td>275</td><td>Apple</td><td>MacBook Pro</td><td>Ultrabook</td><td>1958.9</td></tr><tr><td>276</td><td>Asus</td><td>Rog Strix</td><td>Gaming</td><td>1549.0</td></tr><tr><td>277</td><td>Dell</td><td>Inspiron 3576</td><td>Notebook</td><td>735.07</td></tr><tr><td>278</td><td>Lenovo</td><td>ThinkPad X1</td><td>2 in 1 Convertible</td><td>2499.0</td></tr><tr><td>279</td><td>Toshiba</td><td>Satellite Pro</td><td>Notebook</td><td>812.0</td></tr><tr><td>280</td><td>Dell</td><td>Inspiron 5567</td><td>Notebook</td><td>713.07</td></tr><tr><td>281</td><td>Dell</td><td>Inspiron 5770</td><td>Notebook</td><td>1099.0</td></tr><tr><td>282</td><td>Acer</td><td>Aspire A515-51G</td><td>Notebook</td><td>745.0</td></tr><tr><td>283</td><td>Lenovo</td><td>IdeaPad 320-17ISK</td><td>Notebook</td><td>489.0</td></tr><tr><td>284</td><td>Lenovo</td><td>IdeaPad 320-17IKBR</td><td>Notebook</td><td>849.0</td></tr><tr><td>285</td><td>Lenovo</td><td>IdeaPad 320-17IKB</td><td>Notebook</td><td>859.0</td></tr><tr><td>286</td><td>Dell</td><td>Inspiron 3567</td><td>Notebook</td><td>428.0</td></tr><tr><td>287</td><td>Lenovo</td><td>Legion Y520-15IKBN</td><td>Gaming</td><td>829.0</td></tr><tr><td>288</td><td>Lenovo</td><td>Ideapad 320-15IKBN</td><td>Notebook</td><td>579.0</td></tr><tr><td>289</td><td>Acer</td><td>Aspire A517-51G</td><td>Notebook</td><td>951.0</td></tr><tr><td>290</td><td>Acer</td><td>SP315-51 (i7-7500U/12GB/1TB/FHD/W10)</td><td>Notebook</td><td>659.0</td></tr><tr><td>291</td><td>Lenovo</td><td>Thinkpad T570</td><td>Notebook</td><td>1097.0</td></tr><tr><td>292</td><td>Asus</td><td>VivoBook S15</td><td>Ultrabook</td><td>977.0</td></tr><tr><td>293</td><td>Lenovo</td><td>Legion Y520-15IKBN</td><td>Gaming</td><td>1179.0</td></tr><tr><td>294</td><td>Lenovo</td><td>IdeaPad 320-15IKB</td><td>Notebook</td><td>659.01</td></tr><tr><td>295</td><td>Acer</td><td>Chromebook C910-C2ST</td><td>Notebook</td><td>199.0</td></tr><tr><td>296</td><td>Asus</td><td>FX753VD-GC071T (i7-7700HQ/8GB/1TB/GeForce</td><td>Gaming</td><td>1187.0</td></tr><tr><td>297</td><td>HP</td><td>17-BS037cl (i3-6006U/8GB/1TB/W10)</td><td>Notebook</td><td>489.0</td></tr><tr><td>298</td><td>Dell</td><td>XPS 15</td><td>Notebook</td><td>1829.0</td></tr><tr><td>299</td><td>Lenovo</td><td>V330-15IKB (i5-8250U/8GB/256GB/FHD/W10)</td><td>Notebook</td><td>739.0</td></tr><tr><td>300</td><td>Lenovo</td><td>Legion Y720-15IKB</td><td>Gaming</td><td>1299.0</td></tr><tr><td>301</td><td>Acer</td><td>Aspire A715-71G</td><td>Notebook</td><td>979.0</td></tr><tr><td>302</td><td>Dell</td><td>Precision 7720</td><td>Workstation</td><td>2884.86</td></tr><tr><td>303</td><td>Lenovo</td><td>IdeaPad 310-15ABR</td><td>Notebook</td><td>499.0</td></tr><tr><td>304</td><td>Asus</td><td>ZenBook UX530UQ-PRO</td><td>Ultrabook</td><td>1468.0</td></tr><tr><td>305</td><td>Asus</td><td>VivoBook S14</td><td>Notebook</td><td>509.0</td></tr><tr><td>306</td><td>Asus</td><td>Rog GL702VS-GC095T</td><td>Gaming</td><td>2122.0</td></tr><tr><td>307</td><td>Lenovo</td><td>IdeaPad 320-17IKB</td><td>Notebook</td><td>649.0</td></tr><tr><td>308</td><td>Lenovo</td><td>IdeaPad 320-15IKBN</td><td>Notebook</td><td>549.0</td></tr><tr><td>309</td><td>Asus</td><td>GL553VE-FY082T (i7-7700HQ/8GB/1TB</td><td>Gaming</td><td>1265.0</td></tr><tr><td>310</td><td>Lenovo</td><td>IdeaPad 320-15IAP</td><td>Notebook</td><td>359.99</td></tr><tr><td>311</td><td>HP</td><td>EliteBook x360</td><td>2 in 1 Convertible</td><td>1975.0</td></tr><tr><td>312</td><td>Toshiba</td><td>Satellite Pro</td><td>Notebook</td><td>1043.0</td></tr><tr><td>313</td><td>Lenovo</td><td>IdeaPad 320-15IKB</td><td>Notebook</td><td>819.0</td></tr><tr><td>314</td><td>HP</td><td>250 G6</td><td>Notebook</td><td>469.0</td></tr><tr><td>315</td><td>Lenovo</td><td>IdeaPad 720S-13IKB</td><td>Notebook</td><td>999.0</td></tr><tr><td>316</td><td>Dell</td><td>XPS 13</td><td>Ultrabook</td><td>2499.0</td></tr><tr><td>317</td><td>MSI</td><td>GE63VR 7RF</td><td>Gaming</td><td>2099.0</td></tr><tr><td>318</td><td>Acer</td><td>ES1-523-84K7 (A8-7410/8GB/256GB/FHD/W10)</td><td>Notebook</td><td>469.0</td></tr><tr><td>319</td><td>Asus</td><td>VivoBook Flip</td><td>2 in 1 Convertible</td><td>275.0</td></tr><tr><td>320</td><td>Dell</td><td>Inspiron 5570</td><td>Notebook</td><td>844.0</td></tr><tr><td>321</td><td>HP</td><td>Spectre x360</td><td>2 in 1 Convertible</td><td>2449.0</td></tr><tr><td>322</td><td>Lenovo</td><td>ThinkPad 13</td><td>Notebook</td><td>459.9</td></tr><tr><td>323</td><td>HP</td><td>ProBook 640</td><td>Notebook</td><td>980.0</td></tr><tr><td>324</td><td>Acer</td><td>TravelMate B</td><td>Notebook</td><td>485.0</td></tr><tr><td>325</td><td>HP</td><td>Elitebook 840</td><td>Notebook</td><td>1292.0</td></tr><tr><td>326</td><td>Lenovo</td><td>IdeaPad 320-17IKB</td><td>Notebook</td><td>589.0</td></tr><tr><td>327</td><td>Asus</td><td>ZenBook UX410UA-GV183T</td><td>Notebook</td><td>1094.0</td></tr><tr><td>329</td><td>HP</td><td>ProBook 450</td><td>Notebook</td><td>902.0</td></tr><tr><td>330</td><td>Acer</td><td>Aspire 5</td><td>Notebook</td><td>659.0</td></tr><tr><td>331</td><td>Lenovo</td><td>IdeaPad 120S-14IAP</td><td>Notebook</td><td>292.0</td></tr><tr><td>332</td><td>Acer</td><td>Aspire E5-575</td><td>Notebook</td><td>549.0</td></tr><tr><td>333</td><td>Asus</td><td>VivoBook S15</td><td>Ultrabook</td><td>1049.9</td></tr><tr><td>334</td><td>HP</td><td>Elitebook 820</td><td>Ultrabook</td><td>1335.0</td></tr><tr><td>335</td><td>Dell</td><td>XPS 15</td><td>Notebook</td><td>2639.0</td></tr><tr><td>336</td><td>MSI</td><td>GL72M 7REX</td><td>Gaming</td><td>1199.0</td></tr><tr><td>337</td><td>Toshiba</td><td>Satellite Pro</td><td>Notebook</td><td>943.0</td></tr><tr><td>338</td><td>Asus</td><td>UX510UX-CN269T (i7-7500U/8GB/256GB</td><td>Notebook</td><td>1334.0</td></tr><tr><td>339</td><td>Lenovo</td><td>V310-15ISK (i3-6006U/4GB/1TB/FHD/W10)</td><td>Notebook</td><td>449.0</td></tr><tr><td>340</td><td>Asus</td><td>FX553VD-FY647T (i7-7700HQ/8GB/256GB/GeForce</td><td>Gaming</td><td>999.0</td></tr><tr><td>341</td><td>HP</td><td>EliteBook 840</td><td>Notebook</td><td>1268.0</td></tr><tr><td>342</td><td>Dell</td><td>Inspiron 7570</td><td>Ultrabook</td><td>1049.0</td></tr><tr><td>343</td><td>HP</td><td>Elitebook 850</td><td>Notebook</td><td>1144.0</td></tr><tr><td>344</td><td>Asus</td><td>X541NA (N3350/4GB/1TB/Linux)</td><td>Notebook</td><td>274.99</td></tr><tr><td>345</td><td>Dell</td><td>Inspiron 7570</td><td>Notebook</td><td>1142.75</td></tr><tr><td>346</td><td>Dell</td><td>Inspiron 3552</td><td>Notebook</td><td>274.9</td></tr><tr><td>347</td><td>Lenovo</td><td>IdeaPad 320-15ABR</td><td>Notebook</td><td>899.0</td></tr><tr><td>348</td><td>HP</td><td>ProBook 450</td><td>Notebook</td><td>716.0</td></tr><tr><td>349</td><td>Lenovo</td><td>Yoga 920-13IKB</td><td>2 in 1 Convertible</td><td>2099.0</td></tr><tr><td>350</td><td>Dell</td><td>XPS 13</td><td>Ultrabook</td><td>1579.0</td></tr><tr><td>351</td><td>Lenovo</td><td>Legion Y520-15IKBN</td><td>Gaming</td><td>1129.0</td></tr><tr><td>352</td><td>HP</td><td>Stream 14-AX001nv</td><td>Notebook</td><td>279.0</td></tr><tr><td>353</td><td>Dell</td><td>Latitude 5590</td><td>Ultrabook</td><td>1607.96</td></tr><tr><td>354</td><td>Asus</td><td>VivoBook Flip</td><td>2 in 1 Convertible</td><td>375.0</td></tr><tr><td>355</td><td>Dell</td><td>Inspiron 5570</td><td>Ultrabook</td><td>663.0</td></tr><tr><td>356</td><td>Dell</td><td>XPS 15</td><td>Notebook</td><td>2027.42</td></tr><tr><td>357</td><td>HP</td><td>Elitebook 850</td><td>Notebook</td><td>1304.0</td></tr><tr><td>358</td><td>MSI</td><td>GP72MVR 7RFX</td><td>Gaming</td><td>1409.0</td></tr><tr><td>359</td><td>HP</td><td>Zbook 15</td><td>Workstation</td><td>1738.27</td></tr><tr><td>360</td><td>Toshiba</td><td>Tecra A50-C-21G</td><td>Notebook</td><td>1403.0</td></tr><tr><td>361</td><td>Dell</td><td>Inspiron 5570</td><td>Notebook</td><td>970.9</td></tr><tr><td>362</td><td>Lenovo</td><td>IdeaPad 320-15IAP</td><td>Notebook</td><td>321.99</td></tr><tr><td>363</td><td>Dell</td><td>Inspiron 7577</td><td>Gaming</td><td>999.0</td></tr><tr><td>364</td><td>Dell</td><td>Inspiron 3567</td><td>Notebook</td><td>557.37</td></tr><tr><td>365</td><td>Dell</td><td>Latitude 7480</td><td>Notebook</td><td>1427.0</td></tr><tr><td>366</td><td>HP</td><td>250 G6</td><td>Notebook</td><td>439.0</td></tr><tr><td>367</td><td>Asus</td><td>Zenbook UX410UA-GV027T</td><td>Notebook</td><td>945.0</td></tr><tr><td>368</td><td>Lenovo</td><td>IdeaPad 320-17IKB</td><td>Notebook</td><td>719.0</td></tr><tr><td>369</td><td>HP</td><td>250 G6</td><td>Notebook</td><td>639.0</td></tr><tr><td>370</td><td>Lenovo</td><td>IdeaPad 320-15ISK</td><td>Notebook</td><td>499.0</td></tr><tr><td>371</td><td>HP</td><td>15-AY023na (N3710/8GB/2TB/W10)</td><td>Notebook</td><td>389.0</td></tr><tr><td>372</td><td>Dell</td><td>Inspiron 5770</td><td>Notebook</td><td>1085.0</td></tr><tr><td>373</td><td>Lenovo</td><td>Legion Y520-15IKBN</td><td>Gaming</td><td>809.0</td></tr><tr><td>374</td><td>Dell</td><td>Inspiron 5567</td><td>Notebook</td><td>899.0</td></tr><tr><td>375</td><td>HP</td><td>Elitebook 1040</td><td>Ultrabook</td><td>1750.0</td></tr><tr><td>376</td><td>Asus</td><td>ZenBook Flip</td><td>2 in 1 Convertible</td><td>1099.0</td></tr><tr><td>377</td><td>Acer</td><td>Aspire 3</td><td>Notebook</td><td>426.0</td></tr><tr><td>378</td><td>Asus</td><td>Rog Strix</td><td>Gaming</td><td>2199.0</td></tr><tr><td>379</td><td>Lenovo</td><td>IdeaPad 110-17ACL</td><td>Notebook</td><td>489.0</td></tr><tr><td>380</td><td>Dell</td><td>Inspiron 5379</td><td>2 in 1 Convertible</td><td>869.01</td></tr><tr><td>381</td><td>HP</td><td>15-bw003nv (A9-Series-9420/4GB/256GB/FHD/W10)</td><td>Notebook</td><td>488.99</td></tr><tr><td>382</td><td>Lenovo</td><td>Yoga 11e</td><td>Netbook</td><td>553.0</td></tr><tr><td>383</td><td>Dell</td><td>Inspiron 3552</td><td>Notebook</td><td>309.0</td></tr><tr><td>384</td><td>Asus</td><td>VivoBook E403NA</td><td>Notebook</td><td>286.0</td></tr><tr><td>385</td><td>Acer</td><td>Aspire 7</td><td>Notebook</td><td>846.0</td></tr><tr><td>386</td><td>HP</td><td>Omen 17-w212nv</td><td>Gaming</td><td>1191.0</td></tr><tr><td>387</td><td>Lenovo</td><td>V310-15ISK (i3-6006U/4GB/128GB/FHD/No</td><td>Notebook</td><td>403.5</td></tr><tr><td>388</td><td>Asus</td><td>ROG Strix</td><td>Gaming</td><td>1655.0</td></tr><tr><td>389</td><td>Lenovo</td><td>IdeaPad 720S-14IKB</td><td>Notebook</td><td>1099.0</td></tr><tr><td>390</td><td>Asus</td><td>Zenbook Flip</td><td>Ultrabook</td><td>1748.9</td></tr><tr><td>391</td><td>Lenovo</td><td>Thinkpad X1</td><td>Ultrabook</td><td>2282.0</td></tr><tr><td>392</td><td>Lenovo</td><td>Ideapad 510S-13IKB</td><td>Notebook</td><td>549.0</td></tr><tr><td>393</td><td>Dell</td><td>Precision 3510</td><td>Workstation</td><td>1369.0</td></tr><tr><td>394</td><td>Dell</td><td>Precision 5520</td><td>Workstation</td><td>2135.0</td></tr><tr><td>395</td><td>Lenovo</td><td>ThinkPad X1</td><td>2 in 1 Convertible</td><td>2509.0</td></tr><tr><td>396</td><td>Asus</td><td>Rog GL753VD-GC042T</td><td>Gaming</td><td>1039.0</td></tr><tr><td>397</td><td>Asus</td><td>Rog GL753VE-GC070T</td><td>Gaming</td><td>1591.0</td></tr><tr><td>399</td><td>Acer</td><td>Aspire 5</td><td>Notebook</td><td>693.99</td></tr><tr><td>400</td><td>MSI</td><td>Leopard GP72M</td><td>Gaming</td><td>1349.0</td></tr><tr><td>401</td><td>Dell</td><td>Inspiron 5567</td><td>Notebook</td><td>778.87</td></tr><tr><td>402</td><td>HP</td><td>15-BW004nv (A9-9420/4GB/256GB/Radeon</td><td>Ultrabook</td><td>499.0</td></tr><tr><td>403</td><td>Lenovo</td><td>ThinkPad E580</td><td>Notebook</td><td>1229.56</td></tr><tr><td>404</td><td>Lenovo</td><td>ThinkPad L470</td><td>Notebook</td><td>938.0</td></tr><tr><td>405</td><td>Dell</td><td>Precision M5520</td><td>Workstation</td><td>2712.0</td></tr><tr><td>406</td><td>Lenovo</td><td>Thinkpad X1</td><td>Ultrabook</td><td>2625.0</td></tr><tr><td>407</td><td>Lenovo</td><td>IdeaPad 320-15IAP</td><td>Notebook</td><td>306.0</td></tr><tr><td>408</td><td>Asus</td><td>FX753VD-GC461T (i7-7700HQ/16GB/1TB</td><td>Gaming</td><td>1529.0</td></tr><tr><td>409</td><td>Lenovo</td><td>ThinkPad E580</td><td>Notebook</td><td>1144.5</td></tr><tr><td>410</td><td>Acer</td><td>Aspire 7</td><td>Notebook</td><td>879.0</td></tr><tr><td>411</td><td>MSI</td><td>GE73VR 7RF</td><td>Gaming</td><td>2249.0</td></tr><tr><td>412</td><td>Asus</td><td>Zenbook 3</td><td>Ultrabook</td><td>1873.0</td></tr><tr><td>413</td><td>Toshiba</td><td>Portege Z30-C-16P</td><td>Ultrabook</td><td>1747.0</td></tr><tr><td>414</td><td>Dell</td><td>Latitude 7480</td><td>Ultrabook</td><td>1680.0</td></tr><tr><td>415</td><td>Lenovo</td><td>IdeaPad 320-15ISK</td><td>Notebook</td><td>409.0</td></tr><tr><td>416</td><td>Lenovo</td><td>Lenovo IdeaPad</td><td>Notebook</td><td>304.45</td></tr><tr><td>417</td><td>Lenovo</td><td>ThinkPad P51</td><td>Workstation</td><td>1925.0</td></tr><tr><td>418</td><td>Lenovo</td><td>Thinkpad T470p</td><td>Ultrabook</td><td>1943.0</td></tr><tr><td>419</td><td>HP</td><td>15-BS028nv (i3-6006U/4GB/1TB/Radeon</td><td>Notebook</td><td>469.0</td></tr><tr><td>420</td><td>Acer</td><td>Aspire R7</td><td>2 in 1 Convertible</td><td>789.01</td></tr><tr><td>421</td><td>Asus</td><td>ZenBook Flip</td><td>2 in 1 Convertible</td><td>928.0</td></tr><tr><td>422</td><td>Dell</td><td>Inspiron 3567</td><td>Notebook</td><td>598.9</td></tr><tr><td>423</td><td>Dell</td><td>Latitude 3380</td><td>Notebook</td><td>689.0</td></tr><tr><td>424</td><td>HP</td><td>EliteBook 1040</td><td>Ultrabook</td><td>1500.0</td></tr><tr><td>425</td><td>Dell</td><td>Inspiron 3567</td><td>Notebook</td><td>539.95</td></tr><tr><td>426</td><td>Lenovo</td><td>ThinkPad E480</td><td>Ultrabook</td><td>1215.38</td></tr><tr><td>427</td><td>Lenovo</td><td>Yoga 720-15IKB</td><td>2 in 1 Convertible</td><td>1899.0</td></tr><tr><td>428</td><td>Chuwi</td><td>LapBook 12.3</td><td>Notebook</td><td>449.0</td></tr><tr><td>429</td><td>HP</td><td>ProBook 650</td><td>Notebook</td><td>1427.0</td></tr><tr><td>430</td><td>Asus</td><td>X542UQ-DM117 (i3-7100U/8GB/1TB/GeForce</td><td>Notebook</td><td>597.0</td></tr><tr><td>431</td><td>Dell</td><td>Alienware 17</td><td>Gaming</td><td>2799.0</td></tr><tr><td>432</td><td>Dell</td><td>Inspiron 7577</td><td>Gaming</td><td>1159.0</td></tr><tr><td>433</td><td>Dell</td><td>Inspiron 5570</td><td>Notebook</td><td>1142.4</td></tr><tr><td>434</td><td>Dell</td><td>Latitude 5480</td><td>Ultrabook</td><td>1099.0</td></tr><tr><td>435</td><td>HP</td><td>Omen 17-w207nv</td><td>Gaming</td><td>1999.0</td></tr><tr><td>436</td><td>Mediacom</td><td>FlexBook Edge</td><td>2 in 1 Convertible</td><td>299.0</td></tr><tr><td>437</td><td>Samsung</td><td>Chromebook 3</td><td>Netbook</td><td>269.0</td></tr><tr><td>438</td><td>Lenovo</td><td>Thinkpad 13</td><td>Notebook</td><td>1010.0</td></tr><tr><td>439</td><td>Lenovo</td><td>IdeaPad 320s-14IKB</td><td>Notebook</td><td>599.0</td></tr><tr><td>440</td><td>Lenovo</td><td>Thinkpad T570</td><td>Workstation</td><td>2445.0</td></tr><tr><td>441</td><td>Lenovo</td><td>Thinkpad P51</td><td>Notebook</td><td>2449.0</td></tr><tr><td>442</td><td>Asus</td><td>Rog Strix</td><td>Gaming</td><td>1695.0</td></tr><tr><td>443</td><td>HP</td><td>15-ra044nv (N3060/4GB/500GB/W10)</td><td>Notebook</td><td>347.0</td></tr><tr><td>444</td><td>Google</td><td>Pixelbook (Core</td><td>Ultrabook</td><td>2199.0</td></tr><tr><td>445</td><td>Lenovo</td><td>ThinkPad T470s</td><td>Ultrabook</td><td>2382.0</td></tr><tr><td>446</td><td>Asus</td><td>VivoBook Max</td><td>Notebook</td><td>559.0</td></tr><tr><td>447</td><td>Lenovo</td><td>IdeaPad 320-15AST</td><td>Notebook</td><td>519.0</td></tr><tr><td>448</td><td>Dell</td><td>Inspiron 5570</td><td>Notebook</td><td>749.0</td></tr><tr><td>449</td><td>Lenovo</td><td>ThinkPad X270</td><td>Ultrabook</td><td>1429.0</td></tr><tr><td>450</td><td>Lenovo</td><td>IdeaPad 320-15IAP</td><td>Notebook</td><td>349.0</td></tr><tr><td>451</td><td>HP</td><td>Omen 15-AX205na</td><td>Gaming</td><td>1099.0</td></tr><tr><td>452</td><td>Dell</td><td>Latitude 5480</td><td>Notebook</td><td>1179.0</td></tr><tr><td>453</td><td>Acer</td><td>Aspire ES1-572</td><td>Notebook</td><td>441.8</td></tr><tr><td>454</td><td>Dell</td><td>Precision 3520</td><td>Workstation</td><td>1993.0</td></tr><tr><td>455</td><td>MSI</td><td>GV62 7RD-1686NL</td><td>Gaming</td><td>1027.74</td></tr><tr><td>456</td><td>Microsoft</td><td>Surface Laptop</td><td>Ultrabook</td><td>2589.0</td></tr><tr><td>457</td><td>HP</td><td>15-bs024nv (i5-7200U/8GB/128GB/W10)</td><td>Notebook</td><td>589.0</td></tr><tr><td>458</td><td>Dell</td><td>Precision 3520</td><td>Workstation</td><td>1975.0</td></tr><tr><td>459</td><td>HP</td><td>ProBook 650</td><td>Workstation</td><td>1534.0</td></tr><tr><td>460</td><td>Lenovo</td><td>ThinkPad T470</td><td>Notebook</td><td>1345.0</td></tr><tr><td>461</td><td>Dell</td><td>Inspiron 5570</td><td>Notebook</td><td>979.0</td></tr><tr><td>462</td><td>Dell</td><td>Inspiron 3168</td><td>2 in 1 Convertible</td><td>479.0</td></tr><tr><td>463</td><td>Dell</td><td>Alienware 17</td><td>Notebook</td><td>2046.0</td></tr><tr><td>464</td><td>Microsoft</td><td>Surface Laptop</td><td>Ultrabook</td><td>989.0</td></tr><tr><td>465</td><td>Microsoft</td><td>Surface Laptop</td><td>Ultrabook</td><td>1799.0</td></tr><tr><td>466</td><td>HP</td><td>17-BS092ND (i3-6006U/8GB/256GB/W10)</td><td>Notebook</td><td>639.9</td></tr><tr><td>467</td><td>Acer</td><td>Aspire E5-576G</td><td>Notebook</td><td>544.0</td></tr><tr><td>468</td><td>Acer</td><td>TravelMate B</td><td>Netbook</td><td>435.0</td></tr><tr><td>469</td><td>Asus</td><td>Pro P2540UA-AB51</td><td>Notebook</td><td>749.0</td></tr><tr><td>470</td><td>Lenovo</td><td>IdeaPad 510s-14IKB</td><td>Notebook</td><td>799.0</td></tr><tr><td>471</td><td>Lenovo</td><td>Thinkpad P51</td><td>Notebook</td><td>2090.0</td></tr><tr><td>472</td><td>Asus</td><td>X541NA-PD1003Y (N4200/4GB/500GB/W10)</td><td>Notebook</td><td>304.0</td></tr><tr><td>473</td><td>Acer</td><td>Aspire 5</td><td>Notebook</td><td>469.0</td></tr><tr><td>474</td><td>Dell</td><td>Inspiron 5570</td><td>Notebook</td><td>759.0</td></tr><tr><td>475</td><td>HP</td><td>Omen 17-an006nv</td><td>Gaming</td><td>1699.0</td></tr><tr><td>476</td><td>Lenovo</td><td>Thinkpad T460s</td><td>Ultrabook</td><td>1858.0</td></tr><tr><td>477</td><td>HP</td><td>Spectre x360</td><td>2 in 1 Convertible</td><td>1999.0</td></tr><tr><td>478</td><td>HP</td><td>ZBook 15u</td><td>Notebook</td><td>1154.0</td></tr><tr><td>479</td><td>Google</td><td>Pixelbook (Core</td><td>Ultrabook</td><td>1275.0</td></tr><tr><td>480</td><td>Dell</td><td>Latitude 7390</td><td>Ultrabook</td><td>1841.85</td></tr><tr><td>481</td><td>Asus</td><td>ZenBook Pro</td><td>Notebook</td><td>1299.0</td></tr><tr><td>482</td><td>Dell</td><td>Latitude E5470</td><td>Notebook</td><td>740.0</td></tr><tr><td>483</td><td>Dell</td><td>Precision M5520</td><td>Workstation</td><td>2408.0</td></tr><tr><td>484</td><td>Lenovo</td><td>Thinkpad T470</td><td>Notebook</td><td>1364.0</td></tr><tr><td>485</td><td>Dell</td><td>Inspiron 3576</td><td>Notebook</td><td>675.0</td></tr><tr><td>486</td><td>Toshiba</td><td>Portege X30-D-10J</td><td>Notebook</td><td>1672.0</td></tr><tr><td>487</td><td>Dell</td><td>Inspiron 7570</td><td>Notebook</td><td>1262.0</td></tr><tr><td>488</td><td>Dell</td><td>Vostro 3568</td><td>Notebook</td><td>586.6</td></tr><tr><td>489</td><td>HP</td><td>ProBook 430</td><td>Notebook</td><td>726.0</td></tr><tr><td>490</td><td>Chuwi</td><td>Lapbook 15,6</td><td>Notebook</td><td>248.9</td></tr><tr><td>491</td><td>Lenovo</td><td>ThinkPad E570</td><td>Notebook</td><td>565.0</td></tr><tr><td>492</td><td>Lenovo</td><td>ThinkPad E480</td><td>Notebook</td><td>1049.0</td></tr><tr><td>493</td><td>Dell</td><td>Precision 3520</td><td>Workstation</td><td>2338.0</td></tr><tr><td>494</td><td>Dell</td><td>XPS 15</td><td>Notebook</td><td>1899.0</td></tr><tr><td>495</td><td>Lenovo</td><td>Thinkpad X270</td><td>Ultrabook</td><td>1798.0</td></tr><tr><td>496</td><td>Asus</td><td>Zenbook UX390UA</td><td>Ultrabook</td><td>1950.0</td></tr><tr><td>497</td><td>Lenovo</td><td>Thinkpad E570</td><td>Notebook</td><td>1011.99</td></tr><tr><td>498</td><td>Toshiba</td><td>Portege X30-D-10L</td><td>Ultrabook</td><td>2799.0</td></tr><tr><td>499</td><td>Asus</td><td>VivoBook Pro</td><td>Gaming</td><td>1350.0</td></tr><tr><td>500</td><td>Acer</td><td>Aspire 5</td><td>Notebook</td><td>579.0</td></tr><tr><td>501</td><td>Asus</td><td>Rog G752VL-UH71T</td><td>Gaming</td><td>1269.0</td></tr><tr><td>502</td><td>Lenovo</td><td>Thinkpad X260</td><td>Ultrabook</td><td>1099.0</td></tr><tr><td>503</td><td>Lenovo</td><td>Ideapad 520-15IKBR</td><td>Notebook</td><td>898.9</td></tr><tr><td>504</td><td>HP</td><td>EliteBook 840</td><td>Notebook</td><td>1749.0</td></tr><tr><td>505</td><td>Lenovo</td><td>ThinkPad 13</td><td>Notebook</td><td>949.0</td></tr><tr><td>506</td><td>Lenovo</td><td>ThinkPad L570</td><td>Notebook</td><td>911.0</td></tr><tr><td>507</td><td>Asus</td><td>VivoBook E201NA</td><td>Netbook</td><td>340.0</td></tr><tr><td>508</td><td>HP</td><td>15-BS026nv (i5-7200U/8GB/256GB/Radeon</td><td>Notebook</td><td>618.99</td></tr><tr><td>509</td><td>Lenovo</td><td>Yoga 920-13IKB</td><td>2 in 1 Convertible</td><td>1599.0</td></tr><tr><td>510</td><td>Lenovo</td><td>IdeaPad 320-14IAP</td><td>Notebook</td><td>299.0</td></tr><tr><td>511</td><td>Lenovo</td><td>Chromebook N23</td><td>Netbook</td><td>265.0</td></tr><tr><td>512</td><td>Lenovo</td><td>ThinkPad 13</td><td>Notebook</td><td>949.0</td></tr><tr><td>513</td><td>Asus</td><td>ZenBook UX510UX-CN211T</td><td>Notebook</td><td>1224.0</td></tr><tr><td>514</td><td>Acer</td><td>Aspire A515-51G-59QF</td><td>Notebook</td><td>613.0</td></tr><tr><td>515</td><td>HP</td><td>Envy 13-AB002nv</td><td>Ultrabook</td><td>1323.0</td></tr><tr><td>516</td><td>Lenovo</td><td>Legion Y520-15IKBN</td><td>Gaming</td><td>1149.0</td></tr><tr><td>517</td><td>Dell</td><td>XPS 13</td><td>Ultrabook</td><td>899.0</td></tr><tr><td>518</td><td>Acer</td><td>Aspire A515-51G</td><td>Notebook</td><td>639.0</td></tr><tr><td>519</td><td>Dell</td><td>Vostro 5568</td><td>Notebook</td><td>836.0</td></tr><tr><td>520</td><td>Dell</td><td>Inspiron 5570</td><td>Notebook</td><td>1219.24</td></tr><tr><td>521</td><td>Xiaomi</td><td>Mi Notebook</td><td>Notebook</td><td>1399.95</td></tr><tr><td>522</td><td>Asus</td><td>VivoBook E12</td><td>Netbook</td><td>245.0</td></tr><tr><td>523</td><td>HP</td><td>15-bs190od (i5-8250U/4GB/1TB/W10)</td><td>Notebook</td><td>521.47</td></tr><tr><td>524</td><td>Asus</td><td>ROG Zephyrus</td><td>Gaming</td><td>2968.0</td></tr><tr><td>525</td><td>HP</td><td>Probook 450</td><td>Notebook</td><td>889.0</td></tr><tr><td>526</td><td>Asus</td><td>FX753VE-GC155T (i7-7700HQ/16GB/1TB</td><td>Gaming</td><td>1504.0</td></tr><tr><td>527</td><td>Lenovo</td><td>Legion Y720-15IKB</td><td>Gaming</td><td>1399.0</td></tr><tr><td>528</td><td>HP</td><td>Spectre X360</td><td>Ultrabook</td><td>1399.0</td></tr><tr><td>529</td><td>Dell</td><td>Latitude 5480</td><td>Notebook</td><td>1279.73</td></tr><tr><td>530</td><td>HP</td><td>ProBook 440</td><td>Notebook</td><td>689.0</td></tr><tr><td>531</td><td>Dell</td><td>Inspiron 5770</td><td>Notebook</td><td>889.0</td></tr><tr><td>532</td><td>Lenovo</td><td>ThinkPad L470</td><td>Notebook</td><td>1340.0</td></tr><tr><td>533</td><td>Lenovo</td><td>IdeaPad 320-15IKB</td><td>Notebook</td><td>799.0</td></tr><tr><td>534</td><td>Lenovo</td><td>IdeaPad 320-15ISK</td><td>Notebook</td><td>459.0</td></tr><tr><td>535</td><td>Dell</td><td>Inspiron 3567</td><td>Notebook</td><td>585.0</td></tr><tr><td>536</td><td>Dell</td><td>Latitude 5580</td><td>Notebook</td><td>1377.0</td></tr><tr><td>537</td><td>Dell</td><td>Alienware 17</td><td>Gaming</td><td>3012.77</td></tr><tr><td>538</td><td>Toshiba</td><td>Satellite Pro</td><td>Notebook</td><td>860.0</td></tr><tr><td>539</td><td>Asus</td><td>Zenbook UX510UW-FI095T</td><td>Notebook</td><td>1299.0</td></tr><tr><td>540</td><td>Mediacom</td><td>SmartBook Edge</td><td>Notebook</td><td>369.0</td></tr><tr><td>541</td><td>Asus</td><td>ROG Strix</td><td>Gaming</td><td>1649.0</td></tr><tr><td>542</td><td>Dell</td><td>Latitude 5580</td><td>Notebook</td><td>1369.0</td></tr><tr><td>543</td><td>Dell</td><td>Inspiron 5570</td><td>Notebook</td><td>797.41</td></tr><tr><td>544</td><td>HP</td><td>250 G6</td><td>Notebook</td><td>398.99</td></tr><tr><td>545</td><td>HP</td><td>Omen 15-ce006nv</td><td>Gaming</td><td>1799.0</td></tr><tr><td>546</td><td>Lenovo</td><td>Thinkpad E470</td><td>Notebook</td><td>859.0</td></tr><tr><td>547</td><td>Dell</td><td>XPS 13</td><td>Ultrabook</td><td>1399.0</td></tr><tr><td>548</td><td>Dell</td><td>Vostro 5468</td><td>Notebook</td><td>735.87</td></tr><tr><td>549</td><td>HP</td><td>Envy 13-AB020nr</td><td>Ultrabook</td><td>1145.0</td></tr><tr><td>550</td><td>Acer</td><td>Aspire 7</td><td>Gaming</td><td>798.0</td></tr><tr><td>551</td><td>Asus</td><td>VivoBook X540YA-XX519T</td><td>Notebook</td><td>349.0</td></tr><tr><td>552</td><td>HP</td><td>ProBook 450</td><td>Notebook</td><td>705.5</td></tr><tr><td>553</td><td>Lenovo</td><td>ThinkPad E470</td><td>Notebook</td><td>785.0</td></tr><tr><td>554</td><td>Lenovo</td><td>V310-15ISK (i5-6200U/4GB/1TB/FHD/No</td><td>Notebook</td><td>462.35</td></tr><tr><td>555</td><td>HP</td><td>250 G6</td><td>Notebook</td><td>397.0</td></tr><tr><td>556</td><td>Lenovo</td><td>ThinkPad T570</td><td>Notebook</td><td>1729.0</td></tr><tr><td>557</td><td>Lenovo</td><td>IdeaPad 320-15ISK</td><td>Notebook</td><td>499.0</td></tr><tr><td>558</td><td>Dell</td><td>Latitude 5580</td><td>Notebook</td><td>1116.99</td></tr><tr><td>559</td><td>Dell</td><td>Alienware 17</td><td>Gaming</td><td>2699.0</td></tr><tr><td>560</td><td>HP</td><td>17-X047na (i3-6006U/8GB/1TB/W10)</td><td>Notebook</td><td>544.15</td></tr><tr><td>561</td><td>HP</td><td>ProBook 470</td><td>Notebook</td><td>1280.0</td></tr><tr><td>562</td><td>Asus</td><td>A541NA-GO342 (N3350/4GB/500GB/Linux)</td><td>Notebook</td><td>224.0</td></tr><tr><td>563</td><td>Mediacom</td><td>SmartBook 130</td><td>Notebook</td><td>255.0</td></tr><tr><td>564</td><td>Lenovo</td><td>IdeaPad 320-17IKB</td><td>Notebook</td><td>949.0</td></tr><tr><td>565</td><td>HP</td><td>15-bw007nv (A10-9620P/6GB/128GB/Radeon</td><td>Notebook</td><td>568.9</td></tr><tr><td>566</td><td>Dell</td><td>Vostro 3568</td><td>Notebook</td><td>617.9</td></tr><tr><td>567</td><td>Acer</td><td>Spin SP111-31</td><td>2 in 1 Convertible</td><td>349.0</td></tr><tr><td>568</td><td>Lenovo</td><td>V330-15IKB (i3-7130U/4GB/128GB/FHD/W10)</td><td>Notebook</td><td>630.0</td></tr><tr><td>569</td><td>HP</td><td>EliteBook 1030</td><td>Ultrabook</td><td>1965.0</td></tr><tr><td>570</td><td>Lenovo</td><td>Thinkpad P71</td><td>Notebook</td><td>2999.0</td></tr><tr><td>571</td><td>Asus</td><td>FX553VD-DM627T (i5-7300HQ/8GB/1TB</td><td>Notebook</td><td>839.0</td></tr><tr><td>572</td><td>Dell</td><td>XPS 13</td><td>Ultrabook</td><td>1599.0</td></tr><tr><td>573</td><td>Dell</td><td>Latitude 5580</td><td>Notebook</td><td>959.0</td></tr><tr><td>574</td><td>Fujitsu</td><td>Lifebook A557</td><td>Notebook</td><td>739.0</td></tr><tr><td>575</td><td>Lenovo</td><td>IdeaPad 320-15IAP</td><td>Notebook</td><td>344.0</td></tr><tr><td>576</td><td>Lenovo</td><td>ThinkPad L470</td><td>Notebook</td><td>990.0</td></tr><tr><td>577</td><td>HP</td><td>ZBook 17</td><td>Workstation</td><td>1860.99</td></tr><tr><td>578</td><td>HP</td><td>14-am079na (N3710/8GB/2TB/W10)</td><td>Notebook</td><td>389.0</td></tr><tr><td>579</td><td>HP</td><td>15-cd005nv (A9-9420/6GB/256GB/Radeon</td><td>Notebook</td><td>649.0</td></tr><tr><td>580</td><td>Lenovo</td><td>Thinkpad E570</td><td>Notebook</td><td>830.0</td></tr><tr><td>581</td><td>Lenovo</td><td>V330-15IKB (i5-8250U/4GB/500GB/FHD/W10)</td><td>Notebook</td><td>685.0</td></tr><tr><td>582</td><td>Mediacom</td><td>SmartBook 141</td><td>Notebook</td><td>249.0</td></tr><tr><td>583</td><td>Toshiba</td><td>Tecra X40-D-10H</td><td>Ultrabook</td><td>1865.0</td></tr><tr><td>584</td><td>Lenovo</td><td>IdeaPad Y910-17ISK</td><td>Gaming</td><td>2663.0</td></tr><tr><td>585</td><td>MSI</td><td>GT73VR Titan</td><td>Gaming</td><td>2729.0</td></tr><tr><td>586</td><td>Dell</td><td>Inspiron 3567</td><td>Notebook</td><td>749.01</td></tr><tr><td>587</td><td>Mediacom</td><td>SmartBook Edge</td><td>Notebook</td><td>389.0</td></tr><tr><td>588</td><td>Dell</td><td>Latitude 5580</td><td>Notebook</td><td>1008.52</td></tr><tr><td>589</td><td>HP</td><td>ProBook 430</td><td>Notebook</td><td>719.0</td></tr><tr><td>590</td><td>Dell</td><td>Latitude 5580</td><td>Notebook</td><td>1537.39</td></tr><tr><td>591</td><td>Dell</td><td>Chromebook 11</td><td>Netbook</td><td>295.0</td></tr><tr><td>592</td><td>MSI</td><td>GT80S 6QE</td><td>Gaming</td><td>2349.0</td></tr><tr><td>593</td><td>HP</td><td>Omen 17-AN010nv</td><td>Gaming</td><td>1498.0</td></tr><tr><td>594</td><td>Lenovo</td><td>Thinkpad T460s</td><td>Ultrabook</td><td>1673.0</td></tr><tr><td>595</td><td>Lenovo</td><td>Ideapad 320-15IKBR</td><td>Notebook</td><td>609.0</td></tr><tr><td>596</td><td>Asus</td><td>ROG Strix</td><td>Gaming</td><td>1770.0</td></tr><tr><td>597</td><td>Asus</td><td>TP501UA-CJ131T (i5-7200U/8GB/1TB/W10)</td><td>2 in 1 Convertible</td><td>739.0</td></tr><tr><td>598</td><td>Lenovo</td><td>IdeaPad 320-15ABR</td><td>Notebook</td><td>949.0</td></tr><tr><td>599</td><td>Dell</td><td>Inspiron 3179</td><td>2 in 1 Convertible</td><td>603.0</td></tr><tr><td>600</td><td>Samsung</td><td>Notebook Odyssey</td><td>Notebook</td><td>1699.0</td></tr><tr><td>601</td><td>Lenovo</td><td>V320-17ISK (i3-6006U/4GB/500GB/FHD/No</td><td>Notebook</td><td>529.0</td></tr><tr><td>602</td><td>Lenovo</td><td>IdeaPad 110-15ISK</td><td>Notebook</td><td>459.0</td></tr><tr><td>603</td><td>Lenovo</td><td>ThinkPad Yoga</td><td>2 in 1 Convertible</td><td>2025.0</td></tr><tr><td>604</td><td>Lenovo</td><td>Thinkpad T470p</td><td>Notebook</td><td>1474.0</td></tr><tr><td>605</td><td>Dell</td><td>Latitude 5289</td><td>2 in 1 Convertible</td><td>1670.0</td></tr><tr><td>606</td><td>Dell</td><td>Precision 3520</td><td>Workstation</td><td>1763.0</td></tr><tr><td>607</td><td>HP</td><td>EliteBook 850</td><td>Notebook</td><td>1219.0</td></tr><tr><td>608</td><td>HP</td><td>ProBook 450</td><td>Notebook</td><td>668.48</td></tr><tr><td>609</td><td>Acer</td><td>Aspire 1</td><td>Notebook</td><td>329.0</td></tr><tr><td>610</td><td>MSI</td><td>Laptop MSI</td><td>Gaming</td><td>2199.0</td></tr><tr><td>611</td><td>Dell</td><td>Vostro 3568</td><td>Notebook</td><td>465.0</td></tr><tr><td>612</td><td>MSI</td><td>GS63VR 7RF</td><td>Gaming</td><td>2299.0</td></tr><tr><td>613</td><td>Toshiba</td><td>Tecra Z50-C-144</td><td>Notebook</td><td>1399.0</td></tr><tr><td>614</td><td>Lenovo</td><td>IdeaPad 310-15IKB</td><td>Notebook</td><td>564.0</td></tr><tr><td>615</td><td>Lenovo</td><td>Yoga 720-15IKB</td><td>2 in 1 Convertible</td><td>1299.0</td></tr><tr><td>616</td><td>Acer</td><td>Swift SF114-31-P5HY</td><td>Notebook</td><td>349.0</td></tr><tr><td>617</td><td>Lenovo</td><td>Thinkpad P51</td><td>Notebook</td><td>4899.0</td></tr><tr><td>618</td><td>Dell</td><td>Inspiron 7559</td><td>Gaming</td><td>879.01</td></tr><tr><td>619</td><td>Dell</td><td>Vostro 3568</td><td>Notebook</td><td>443.9</td></tr><tr><td>620</td><td>Dell</td><td>Inspiron 3567</td><td>Notebook</td><td>359.0</td></tr><tr><td>621</td><td>Dell</td><td>Latitude 5580</td><td>Notebook</td><td>869.0</td></tr><tr><td>622</td><td>Asus</td><td>FX753VD-GC007T (i7-7700HQ/8GB/1TB</td><td>Gaming</td><td>1168.0</td></tr><tr><td>623</td><td>Dell</td><td>Vostro 3568</td><td>Notebook</td><td>569.0</td></tr><tr><td>624</td><td>HP</td><td>EliteBook 850</td><td>Ultrabook</td><td>1389.0</td></tr><tr><td>625</td><td>MSI</td><td>GT62VR 7RE</td><td>Gaming</td><td>2267.86</td></tr><tr><td>626</td><td>Acer</td><td>CB5-132T-C9KK (N3160/4GB/32GB/Chrome</td><td>2 in 1 Convertible</td><td>379.0</td></tr><tr><td>627</td><td>HP</td><td>ProBook 650</td><td>Notebook</td><td>1124.0</td></tr><tr><td>628</td><td>Lenovo</td><td>ThinkPad T470</td><td>Notebook</td><td>1465.0</td></tr><tr><td>629</td><td>Dell</td><td>Inspiron 5570</td><td>Notebook</td><td>776.0</td></tr><tr><td>630</td><td>Fujitsu</td><td>LifeBook A557</td><td>Notebook</td><td>799.0</td></tr><tr><td>631</td><td>HP</td><td>EliteBook 850</td><td>Notebook</td><td>932.0</td></tr><tr><td>632</td><td>Lenovo</td><td>IdeaPad 320-15IKB</td><td>Notebook</td><td>899.0</td></tr><tr><td>633</td><td>Mediacom</td><td>SmartBook 140</td><td>Notebook</td><td>239.0</td></tr><tr><td>634</td><td>Lenovo</td><td>IdeaPad 320-15IKBN</td><td>Notebook</td><td>468.0</td></tr><tr><td>635</td><td>Asus</td><td>Q304UA-BHI5T11 (i5-7200U/6GB/1TB/FHD/W10)</td><td>2 in 1 Convertible</td><td>639.01</td></tr><tr><td>636</td><td>Dell</td><td>XPS 15</td><td>Notebook</td><td>1820.0</td></tr><tr><td>637</td><td>Asus</td><td>ZenBook 3</td><td>Ultrabook</td><td>1900.0</td></tr><tr><td>639</td><td>Dell</td><td>Inspiron 7567</td><td>Gaming</td><td>1479.0</td></tr><tr><td>640</td><td>Lenovo</td><td>V330-15IKB (i5-8250U/4GB/256GB/FHD/W10)</td><td>Notebook</td><td>829.0</td></tr><tr><td>641</td><td>Lenovo</td><td>Ideapad 320-15ISK</td><td>Notebook</td><td>579.0</td></tr><tr><td>642</td><td>Asus</td><td>X541NA-GO414T (N3350/8GB/1TB/W10)</td><td>Notebook</td><td>399.0</td></tr><tr><td>643</td><td>Asus</td><td>VivoBook Pro</td><td>Notebook</td><td>906.62</td></tr><tr><td>644</td><td>Dell</td><td>XPS 13</td><td>Ultrabook</td><td>1869.0</td></tr><tr><td>645</td><td>Lenovo</td><td>IdeaPad 100S-14IBR</td><td>Notebook</td><td>249.0</td></tr><tr><td>646</td><td>Lenovo</td><td>Thinkpad Yoga</td><td>2 in 1 Convertible</td><td>1757.42</td></tr><tr><td>647</td><td>Dell</td><td>XPS 15</td><td>Notebook</td><td>2399.0</td></tr><tr><td>648</td><td>Lenovo</td><td>Legion Y520-15IKBN</td><td>Gaming</td><td>1109.0</td></tr><tr><td>649</td><td>HP</td><td>17-AK091ND (A9-9420/8GB/1TB/W10)</td><td>Notebook</td><td>520.9</td></tr><tr><td>650</td><td>Lenovo</td><td>ThinkPad X1</td><td>Ultrabook</td><td>2450.0</td></tr><tr><td>651</td><td>Asus</td><td>ROG GL553VE-FY022</td><td>Gaming</td><td>1169.0</td></tr><tr><td>652</td><td>Acer</td><td>Extensa EX2540</td><td>Notebook</td><td>450.0</td></tr><tr><td>653</td><td>Lenovo</td><td>IdeaPad 100S-14IBR</td><td>Notebook</td><td>274.0</td></tr><tr><td>654</td><td>Acer</td><td>Swift 3</td><td>Ultrabook</td><td>919.0</td></tr><tr><td>655</td><td>Razer</td><td>Blade Pro</td><td>Gaming</td><td>2599.0</td></tr><tr><td>656</td><td>Toshiba</td><td>Portege Z30-C-16J</td><td>Notebook</td><td>1213.0</td></tr><tr><td>657</td><td>Lenovo</td><td>Thinkpad X270</td><td>Ultrabook</td><td>1584.0</td></tr><tr><td>658</td><td>Asus</td><td>ROG G701VI</td><td>Gaming</td><td>2799.0</td></tr><tr><td>659</td><td>Acer</td><td>A715-71G-59DH (i5-7300HQ/8GB/1TB/GeForce</td><td>Gaming</td><td>709.0</td></tr><tr><td>660</td><td>Dell</td><td>XPS 13</td><td>Ultrabook</td><td>1449.9</td></tr><tr><td>661</td><td>MSI</td><td>GL62M 7REX</td><td>Gaming</td><td>1191.8</td></tr><tr><td>662</td><td>HP</td><td>250 G6</td><td>Notebook</td><td>364.9</td></tr><tr><td>663</td><td>Toshiba</td><td>Tecra A50-D-11M</td><td>Notebook</td><td>1064.0</td></tr><tr><td>664</td><td>Dell</td><td>Inspiron 5570</td><td>Notebook</td><td>919.0</td></tr><tr><td>665</td><td>Dell</td><td>Inspiron 5570</td><td>Notebook</td><td>1135.0</td></tr><tr><td>666</td><td>Lenovo</td><td>IdeaPad Y700-15ISK</td><td>Gaming</td><td>1196.0</td></tr><tr><td>667</td><td>Dell</td><td>Alienware 17</td><td>Gaming</td><td>3147.37</td></tr><tr><td>668</td><td>Dell</td><td>Latitude E7470</td><td>Notebook</td><td>1229.0</td></tr><tr><td>669</td><td>Lenovo</td><td>Ideapad 320-15IAP</td><td>Notebook</td><td>419.0</td></tr><tr><td>670</td><td>Lenovo</td><td>IdeaPad 320-15ISK</td><td>Notebook</td><td>535.0</td></tr><tr><td>671</td><td>HP</td><td>15-ay047nv (i3-6006U/6GB/1TB/Radeon</td><td>Notebook</td><td>539.0</td></tr><tr><td>672</td><td>MSI</td><td>GP72VR Leopard</td><td>Gaming</td><td>1486.77</td></tr><tr><td>673</td><td>Toshiba</td><td>Satellite Pro</td><td>Notebook</td><td>498.0</td></tr><tr><td>674</td><td>Dell</td><td>Latitude 3580</td><td>Notebook</td><td>955.0</td></tr><tr><td>675</td><td>HP</td><td>15-bs012nv (i7-7500U/8GB/1TB/Radeon</td><td>Notebook</td><td>745.0</td></tr><tr><td>676</td><td>Toshiba</td><td>Tecra Z50-D-10E</td><td>Notebook</td><td>1258.0</td></tr><tr><td>677</td><td>Acer</td><td>Aspire 3</td><td>Notebook</td><td>412.0</td></tr><tr><td>678</td><td>Microsoft</td><td>Surface Laptop</td><td>Ultrabook</td><td>1867.85</td></tr><tr><td>679</td><td>Lenovo</td><td>V310-15ISK (i5-7200U/8GB/1TB</td><td>Notebook</td><td>817.95</td></tr><tr><td>680</td><td>Lenovo</td><td>Yoga 720-13IKB</td><td>2 in 1 Convertible</td><td>1034.0</td></tr><tr><td>681</td><td>Lenovo</td><td>IdeaPad 320-15AST</td><td>Notebook</td><td>349.0</td></tr><tr><td>682</td><td>HP</td><td>Pavilion X360</td><td>2 in 1 Convertible</td><td>699.0</td></tr><tr><td>683</td><td>MSI</td><td>GP62 7RDX</td><td>Gaming</td><td>1294.0</td></tr><tr><td>684</td><td>Asus</td><td>Zenbook 3</td><td>Ultrabook</td><td>1135.0</td></tr><tr><td>685</td><td>HP</td><td>Chromebook X360</td><td>2 in 1 Convertible</td><td>495.0</td></tr><tr><td>686</td><td>LG</td><td>Gram 15Z975</td><td>Ultrabook</td><td>2299.0</td></tr><tr><td>687</td><td>Acer</td><td>Aspire VX5-591G</td><td>Gaming</td><td>1299.0</td></tr><tr><td>688</td><td>MSI</td><td>GV62M 7RD</td><td>Gaming</td><td>997.9</td></tr><tr><td>689</td><td>Asus</td><td>L502NA-GO052T (N3350/4GB/128GB/W10)</td><td>Notebook</td><td>419.0</td></tr><tr><td>690</td><td>Dell</td><td>Alienware 15</td><td>Gaming</td><td>2051.0</td></tr><tr><td>691</td><td>HP</td><td>17-bs000nv I3</td><td>Notebook</td><td>699.0</td></tr><tr><td>692</td><td>Lenovo</td><td>Yoga 730</td><td>2 in 1 Convertible</td><td>1499.0</td></tr><tr><td>693</td><td>Dell</td><td>Alienware 15</td><td>Gaming</td><td>2813.75</td></tr><tr><td>694</td><td>HP</td><td>250 G6</td><td>Notebook</td><td>612.61</td></tr><tr><td>695</td><td>Dell</td><td>Inspiron 3567</td><td>Notebook</td><td>545.67</td></tr><tr><td>696</td><td>HP</td><td>17-Y002nv (A10-9600P/6GB/2TB/Radeon</td><td>Notebook</td><td>569.0</td></tr><tr><td>697</td><td>Lenovo</td><td>V110-15ISK (3855U/4GB/500GB/W10)</td><td>Notebook</td><td>318.0</td></tr><tr><td>698</td><td>Acer</td><td>Chromebook 14</td><td>Notebook</td><td>375.0</td></tr><tr><td>699</td><td>Lenovo</td><td>IdeaPad 520s-14IKB</td><td>Notebook</td><td>699.0</td></tr><tr><td>700</td><td>HP</td><td>ZBook 17</td><td>Workstation</td><td>1907.99</td></tr><tr><td>701</td><td>Lenovo</td><td>ThinkPad X1</td><td>2 in 1 Convertible</td><td>2590.0</td></tr><tr><td>702</td><td>Toshiba</td><td>Satellite Pro</td><td>Notebook</td><td>973.0</td></tr><tr><td>703</td><td>Acer</td><td>TravelMate B117-M</td><td>Netbook</td><td>269.0</td></tr><tr><td>704</td><td>Lenovo</td><td>Yoga 910-13IKB</td><td>2 in 1 Convertible</td><td>1749.0</td></tr><tr><td>705</td><td>Asus</td><td>Chromebook Flip</td><td>2 in 1 Convertible</td><td>669.0</td></tr><tr><td>706</td><td>Toshiba</td><td>Portege Z30T-C-133</td><td>Ultrabook</td><td>1877.0</td></tr><tr><td>707</td><td>HP</td><td>15-bs011nv (i7-7500U/4GB/500GB/Radeon</td><td>Notebook</td><td>689.0</td></tr><tr><td>708</td><td>Dell</td><td>Inspiron 5577</td><td>Gaming</td><td>819.0</td></tr><tr><td>709</td><td>Lenovo</td><td>IdeaPad 320-15AST</td><td>Notebook</td><td>399.0</td></tr><tr><td>710</td><td>Lenovo</td><td>IdeaPad 320-15ABR</td><td>Notebook</td><td>429.0</td></tr><tr><td>711</td><td>Lenovo</td><td>V310-15IKB (i5-7200U/4GB/1TB/FHD/W10)</td><td>Notebook</td><td>621.45</td></tr><tr><td>712</td><td>Lenovo</td><td>V310-15ISK (i3-6006U/4GB/500GB/No</td><td>Notebook</td><td>450.0</td></tr><tr><td>713</td><td>Dell</td><td>Vostro 5568</td><td>Notebook</td><td>795.0</td></tr><tr><td>714</td><td>Acer</td><td>Spin 5</td><td>2 in 1 Convertible</td><td>999.0</td></tr><tr><td>715</td><td>Lenovo</td><td>ThinkPad P51s</td><td>Workstation</td><td>1855.0</td></tr><tr><td>716</td><td>Lenovo</td><td>Thinkpad T460p</td><td>Notebook</td><td>1191.0</td></tr><tr><td>717</td><td>HP</td><td>17-ak002nv (A10-9620P/6GB/2TB/Radeon</td><td>Notebook</td><td>655.01</td></tr><tr><td>718</td><td>Lenovo</td><td>Legion Y520-15IKBN</td><td>Gaming</td><td>1249.0</td></tr><tr><td>719</td><td>Dell</td><td>Latitude 5480</td><td>Notebook</td><td>1089.0</td></tr><tr><td>720</td><td>Dell</td><td>Vostro 5568</td><td>Notebook</td><td>726.0</td></tr><tr><td>721</td><td>Asus</td><td>VivoBook E403NA</td><td>Notebook</td><td>298.0</td></tr><tr><td>722</td><td>Dell</td><td>Latitude 5580</td><td>Notebook</td><td>1426.66</td></tr><tr><td>723</td><td>Lenovo</td><td>Thinkpad E470</td><td>Notebook</td><td>857.07</td></tr><tr><td>724</td><td>Dell</td><td>Latitude 5580</td><td>Notebook</td><td>1179.0</td></tr><tr><td>725</td><td>Lenovo</td><td>110-15ACL (A6-7310/4GB/500GB/W10)</td><td>Notebook</td><td>298.0</td></tr><tr><td>726</td><td>Mediacom</td><td>Smartbook 142</td><td>Notebook</td><td>265.0</td></tr><tr><td>727</td><td>HP</td><td>ProBook 470</td><td>Notebook</td><td>1200.0</td></tr><tr><td>728</td><td>Lenovo</td><td>ThinkPad X1</td><td>Ultrabook</td><td>1686.64</td></tr><tr><td>729</td><td>HP</td><td>Pavilion X360</td><td>2 in 1 Convertible</td><td>836.6</td></tr><tr><td>730</td><td>Lenovo</td><td>ThinkPad T470s</td><td>Ultrabook</td><td>1499.0</td></tr><tr><td>731</td><td>Dell</td><td>Alienware 17</td><td>Gaming</td><td>3659.4</td></tr><tr><td>732</td><td>MSI</td><td>GL72M 7REX</td><td>Gaming</td><td>1348.48</td></tr><tr><td>733</td><td>Lenovo</td><td>V310-15IKB (i5-7200U/4GB/1TB/No</td><td>Notebook</td><td>489.9</td></tr><tr><td>734</td><td>Dell</td><td>Inspiron 5570</td><td>Notebook</td><td>719.0</td></tr><tr><td>735</td><td>Dell</td><td>Inspiron 5378</td><td>2 in 1 Convertible</td><td>649.0</td></tr><tr><td>736</td><td>Dell</td><td>Inspiron 5567</td><td>Notebook</td><td>589.52</td></tr><tr><td>737</td><td>HP</td><td>15-BW037na (A9-9420/4GB/1TB/Radeon</td><td>Notebook</td><td>489.0</td></tr><tr><td>738</td><td>Acer</td><td>Predator 17</td><td>Gaming</td><td>1935.0</td></tr><tr><td>739</td><td>Dell</td><td>Inspiron 3567</td><td>Notebook</td><td>649.0</td></tr><tr><td>740</td><td>HP</td><td>15-BW091ND (A9-9420/6GB/1TB</td><td>Notebook</td><td>650.0</td></tr><tr><td>741</td><td>Acer</td><td>Extensa EX2540-58KR</td><td>Notebook</td><td>559.0</td></tr><tr><td>742</td><td>Lenovo</td><td>ThinkPad 13</td><td>Notebook</td><td>960.0</td></tr><tr><td>743</td><td>Lenovo</td><td>V310-15IKB (i7-7500U/4GB/1TB/FHD/W10)</td><td>Notebook</td><td>779.0</td></tr><tr><td>744</td><td>HP</td><td>ZBook 15</td><td>Workstation</td><td>2419.0</td></tr><tr><td>745</td><td>Dell</td><td>Inspiron 5379</td><td>2 in 1 Convertible</td><td>659.0</td></tr><tr><td>746</td><td>MSI</td><td>GS63VR 7RF</td><td>Gaming</td><td>2094.48</td></tr><tr><td>747</td><td>Acer</td><td>Aspire ES1-572</td><td>Notebook</td><td>410.8</td></tr><tr><td>748</td><td>Dell</td><td>Inspiron 7560</td><td>Notebook</td><td>1207.0</td></tr><tr><td>749</td><td>Dell</td><td>Vostro 3568</td><td>Notebook</td><td>665.0</td></tr><tr><td>750</td><td>Toshiba</td><td>Tecra X40-D-10G</td><td>Notebook</td><td>1535.0</td></tr><tr><td>751</td><td>Lenovo</td><td>Flex 5</td><td>2 in 1 Convertible</td><td>999.0</td></tr><tr><td>752</td><td>Lenovo</td><td>Thinkpad P51s</td><td>Workstation</td><td>3299.0</td></tr><tr><td>753</td><td>Acer</td><td>Chromebook 14</td><td>Notebook</td><td>330.0</td></tr><tr><td>754</td><td>Samsung</td><td>Notebook 9</td><td>Ultrabook</td><td>1649.0</td></tr><tr><td>755</td><td>HP</td><td>250 G6</td><td>Notebook</td><td>539.0</td></tr><tr><td>757</td><td>Dell</td><td>Latitude 5480</td><td>Notebook</td><td>1126.71</td></tr><tr><td>758</td><td>HP</td><td>Zbook 17</td><td>Workstation</td><td>4389.0</td></tr><tr><td>759</td><td>Lenovo</td><td>N23 (N3060/4GB/128GB/W10)</td><td>Netbook</td><td>475.0</td></tr><tr><td>760</td><td>HP</td><td>EliteBook 850</td><td>Notebook</td><td>1900.0</td></tr><tr><td>761</td><td>Asus</td><td>X550VX-XX015D (i5-6300HQ/4GB/1TB/GeForce</td><td>Notebook</td><td>579.0</td></tr><tr><td>762</td><td>Lenovo</td><td>Thinkpad T460</td><td>Ultrabook</td><td>1096.0</td></tr><tr><td>763</td><td>Asus</td><td>Pro P2540UA-XO0192R</td><td>Notebook</td><td>849.9</td></tr><tr><td>764</td><td>Lenovo</td><td>Yoga 900-13ISK</td><td>2 in 1 Convertible</td><td>1199.0</td></tr><tr><td>765</td><td>HP</td><td>15-cb003na (i5-7300HQ/8GB/1TB</td><td>Notebook</td><td>1099.0</td></tr><tr><td>766</td><td>HP</td><td>ZBook 15</td><td>Workstation</td><td>1561.0</td></tr><tr><td>767</td><td>Dell</td><td>Alienware 17</td><td>Gaming</td><td>2868.99</td></tr><tr><td>768</td><td>Acer</td><td>Aspire 3</td><td>Notebook</td><td>599.0</td></tr><tr><td>769</td><td>Lenovo</td><td>Legion Y520-15IKBN</td><td>Gaming</td><td>1048.0</td></tr><tr><td>770</td><td>Dell</td><td>Latitude 7280</td><td>Ultrabook</td><td>1859.0</td></tr><tr><td>771</td><td>Google</td><td>Pixelbook (Core</td><td>Ultrabook</td><td>1559.0</td></tr><tr><td>772</td><td>Asus</td><td>Zenbook UX330UA-AH5Q</td><td>Ultrabook</td><td>1129.0</td></tr><tr><td>773</td><td>Dell</td><td>Latitude 3380</td><td>Notebook</td><td>849.0</td></tr><tr><td>774</td><td>Acer</td><td>TravelMate P238-M</td><td>Notebook</td><td>655.0</td></tr><tr><td>775</td><td>Asus</td><td>X751NV-TY001 (N4200/4GB/1TB/GeForce</td><td>Notebook</td><td>470.34</td></tr><tr><td>776</td><td>Dell</td><td>Inspiron 7559</td><td>Gaming</td><td>1099.0</td></tr><tr><td>777</td><td>Samsung</td><td>Notebook 9</td><td>Ultrabook</td><td>1599.0</td></tr><tr><td>778</td><td>Acer</td><td>Aspire A315-31</td><td>Notebook</td><td>298.0</td></tr><tr><td>779</td><td>Dell</td><td>Inspiron 5567</td><td>Notebook</td><td>1181.27</td></tr><tr><td>780</td><td>Samsung</td><td>Notebook 9</td><td>2 in 1 Convertible</td><td>1799.0</td></tr><tr><td>781</td><td>Toshiba</td><td>Tecra A40-C-1E5</td><td>Notebook</td><td>1020.0</td></tr><tr><td>782</td><td>Dell</td><td>Inspiron 7567</td><td>Gaming</td><td>1099.0</td></tr><tr><td>783</td><td>HP</td><td>EliteBook 820</td><td>Ultrabook</td><td>1244.0</td></tr><tr><td>784</td><td>Asus</td><td>Q524UQ-BHI7T15 (i7-7500U/12GB/2TB/GeForce</td><td>2 in 1 Convertible</td><td>839.0</td></tr><tr><td>785</td><td>Lenovo</td><td>Thinkpad P50</td><td>Notebook</td><td>2370.0</td></tr><tr><td>786</td><td>Acer</td><td>Swift 3</td><td>Notebook</td><td>636.0</td></tr><tr><td>787</td><td>Razer</td><td>Blade Pro</td><td>Gaming</td><td>2899.0</td></tr><tr><td>788</td><td>Asus</td><td>Vivobook Max</td><td>Notebook</td><td>581.9</td></tr><tr><td>789</td><td>Dell</td><td>Alienware 17</td><td>Gaming</td><td>3588.8</td></tr><tr><td>790</td><td>Asus</td><td>Rog G752VS-BA171T</td><td>Gaming</td><td>2350.0</td></tr><tr><td>791</td><td>Toshiba</td><td>Tecra Z40-C-161</td><td>Ultrabook</td><td>1764.0</td></tr><tr><td>792</td><td>Lenovo</td><td>IdeaPad 110-15IBR</td><td>Notebook</td><td>329.0</td></tr><tr><td>793</td><td>Lenovo</td><td>ThinkPad T470s</td><td>Ultrabook</td><td>2299.0</td></tr><tr><td>794</td><td>MSI</td><td>GS43VR 7RE</td><td>Gaming</td><td>1891.0</td></tr><tr><td>795</td><td>MSI</td><td>GL62M (i5-7300HQ/8GB/1TB</td><td>Gaming</td><td>1089.0</td></tr><tr><td>796</td><td>Lenovo</td><td>Legion Y520-15IKBN</td><td>Gaming</td><td>999.0</td></tr><tr><td>797</td><td>Acer</td><td>Predator G9-793</td><td>Gaming</td><td>2299.0</td></tr><tr><td>798</td><td>Dell</td><td>Inspiron 7567</td><td>Gaming</td><td>985.0</td></tr><tr><td>799</td><td>Asus</td><td>FX502VM-DM560T (i7-7700HQ/8GB/1TB</td><td>Gaming</td><td>1339.0</td></tr><tr><td>800</td><td>Vero</td><td>K146 (N3350/4GB/32GB/W10)</td><td>Notebook</td><td>202.9</td></tr><tr><td>801</td><td>Lenovo</td><td>ThinkPad Yoga</td><td>2 in 1 Convertible</td><td>1970.0</td></tr><tr><td>802</td><td>Lenovo</td><td>Yoga 510-15IKB</td><td>2 in 1 Convertible</td><td>959.0</td></tr><tr><td>803</td><td>Apple</td><td>MacBook 12\"\"</td><td>Ultrabook</td><td>1165.0</td></tr><tr><td>804</td><td>Lenovo</td><td>ThinkPad X1</td><td>2 in 1 Convertible</td><td>2330.0</td></tr><tr><td>805</td><td>Asus</td><td>R417NA-RS01 (N3350/4GB/32GB/W10)</td><td>Notebook</td><td>299.0</td></tr><tr><td>806</td><td>Dell</td><td>Latitude 3580</td><td>Notebook</td><td>810.0</td></tr><tr><td>807</td><td>Lenovo</td><td>Yoga 910-13IKB</td><td>2 in 1 Convertible</td><td>1349.0</td></tr><tr><td>808</td><td>Dell</td><td>Vostro 5568</td><td>Notebook</td><td>739.0</td></tr><tr><td>809</td><td>HP</td><td>ZBook 17</td><td>Workstation</td><td>2064.9</td></tr><tr><td>810</td><td>Asus</td><td>Pro P2540UA-XS51</td><td>Notebook</td><td>1099.0</td></tr><tr><td>811</td><td>Dell</td><td>XPS 13</td><td>Ultrabook</td><td>1499.0</td></tr><tr><td>812</td><td>Dell</td><td>XPS 15</td><td>Notebook</td><td>1749.0</td></tr><tr><td>813</td><td>Dell</td><td>Latitude 3180</td><td>Netbook</td><td>744.0</td></tr><tr><td>814</td><td>HP</td><td>EliteBook 820</td><td>Netbook</td><td>1389.0</td></tr><tr><td>815</td><td>Toshiba</td><td>Satellite Pro</td><td>Notebook</td><td>780.0</td></tr><tr><td>816</td><td>HP</td><td>15-ba043na (A12-9700P/8GB/2TB/W10)</td><td>Notebook</td><td>629.0</td></tr><tr><td>817</td><td>Dell</td><td>Inspiron 7567</td><td>Gaming</td><td>1679.0</td></tr><tr><td>818</td><td>Lenovo</td><td>IdeaPad 310-15IKB</td><td>Notebook</td><td>609.0</td></tr><tr><td>819</td><td>HP</td><td>Omen 17-an012dx</td><td>Gaming</td><td>1749.0</td></tr><tr><td>820</td><td>MSI</td><td>GE72MVR 7RG</td><td>Gaming</td><td>2415.0</td></tr><tr><td>821</td><td>Samsung</td><td>Notebook 9</td><td>Ultrabook</td><td>1499.0</td></tr><tr><td>822</td><td>Dell</td><td>Vostro 5568</td><td>Notebook</td><td>961.0</td></tr><tr><td>823</td><td>Dell</td><td>Vostro 3568</td><td>Notebook</td><td>789.81</td></tr><tr><td>824</td><td>Lenovo</td><td>Thinkpad T470s</td><td>Ultrabook</td><td>1859.0</td></tr><tr><td>825</td><td>Razer</td><td>Blade Stealth</td><td>Ultrabook</td><td>1799.0</td></tr><tr><td>826</td><td>HP</td><td>Chromebook 11</td><td>Netbook</td><td>385.0</td></tr><tr><td>827</td><td>Dell</td><td>Alienware 17</td><td>Gaming</td><td>2505.02</td></tr><tr><td>828</td><td>Dell</td><td>Latitude 3480</td><td>Notebook</td><td>755.0</td></tr><tr><td>829</td><td>Lenovo</td><td>V110-15ISK (i3-6006U/4GB/500GB/W10)</td><td>Notebook</td><td>489.9</td></tr><tr><td>830</td><td>Toshiba</td><td>Tecra X40-D-10Z</td><td>Ultrabook</td><td>1090.0</td></tr><tr><td>831</td><td>Lenovo</td><td>Thinkpad X1</td><td>Ultrabook</td><td>2499.0</td></tr><tr><td>832</td><td>MSI</td><td>GL62M 7RD</td><td>Gaming</td><td>1199.0</td></tr><tr><td>833</td><td>Lenovo</td><td>ThinkPad X1</td><td>Ultrabook</td><td>1875.0</td></tr><tr><td>834</td><td>Toshiba</td><td>Satellite Pro</td><td>Notebook</td><td>499.0</td></tr><tr><td>835</td><td>Asus</td><td>ZenBook Flip</td><td>2 in 1 Convertible</td><td>1358.0</td></tr><tr><td>836</td><td>Dell</td><td>Latitude 3480</td><td>Notebook</td><td>585.0</td></tr><tr><td>837</td><td>Acer</td><td>Chromebook 11</td><td>Netbook</td><td>355.0</td></tr><tr><td>838</td><td>Acer</td><td>Swift 3</td><td>Notebook</td><td>619.0</td></tr><tr><td>839</td><td>Razer</td><td>Blade Pro</td><td>Gaming</td><td>5499.0</td></tr><tr><td>840</td><td>Lenovo</td><td>Thinkpad X1</td><td>Ultrabook</td><td>2099.0</td></tr><tr><td>841</td><td>Asus</td><td>VivoBook Max</td><td>Notebook</td><td>519.0</td></tr><tr><td>842</td><td>Lenovo</td><td>Thinkpad T460</td><td>Notebook</td><td>1186.0</td></tr><tr><td>843</td><td>Lenovo</td><td>ThinkPad T470s</td><td>Notebook</td><td>1650.0</td></tr><tr><td>844</td><td>Dell</td><td>Alienware 15</td><td>Gaming</td><td>2774.63</td></tr><tr><td>845</td><td>Asus</td><td>Rog GL702VS-BA023T</td><td>Gaming</td><td>2419.0</td></tr><tr><td>846</td><td>Toshiba</td><td>Satellite Pro</td><td>Notebook</td><td>669.0</td></tr><tr><td>847</td><td>Lenovo</td><td>N42-20 Chromebook</td><td>Notebook</td><td>325.0</td></tr><tr><td>848</td><td>Asus</td><td>R558UA-DM966T (i5-7200U/8GB/128GB/FHD/W10)</td><td>Notebook</td><td>590.0</td></tr><tr><td>849</td><td>Asus</td><td>Rog GL702VM-GC017T</td><td>Gaming</td><td>1799.0</td></tr><tr><td>851</td><td>Dell</td><td>Alienware 17</td><td>Gaming</td><td>3072.89</td></tr><tr><td>852</td><td>HP</td><td>ProBook 470</td><td>Notebook</td><td>910.0</td></tr><tr><td>853</td><td>Dell</td><td>Vostro 3568</td><td>Notebook</td><td>713.99</td></tr><tr><td>854</td><td>HP</td><td>EliteBook 840</td><td>Ultrabook</td><td>1870.0</td></tr><tr><td>855</td><td>Dell</td><td>Vostro 3568</td><td>Notebook</td><td>739.0</td></tr><tr><td>856</td><td>HP</td><td>Chromebook X360</td><td>2 in 1 Convertible</td><td>615.0</td></tr><tr><td>857</td><td>Asus</td><td>ZenBook UX310UQ-GL026T</td><td>Ultrabook</td><td>1026.0</td></tr><tr><td>858</td><td>HP</td><td>EliteBook x360</td><td>2 in 1 Convertible</td><td>2277.0</td></tr><tr><td>859</td><td>HP</td><td>EliteBook 840</td><td>Ultrabook</td><td>1468.0</td></tr><tr><td>860</td><td>HP</td><td>250 G6</td><td>Notebook</td><td>299.0</td></tr><tr><td>862</td><td>Asus</td><td>Rog GL502VM-DS74</td><td>Gaming</td><td>1899.0</td></tr><tr><td>863</td><td>Dell</td><td>Inspiron 5767</td><td>Notebook</td><td>865.0</td></tr><tr><td>864</td><td>Lenovo</td><td>ThinkPad T470p</td><td>Ultrabook</td><td>1903.0</td></tr><tr><td>865</td><td>Asus</td><td>K556UR-DM621T (i7-7500U/8GB/256GB/GeForce</td><td>Notebook</td><td>787.0</td></tr><tr><td>866</td><td>Dell</td><td>Latitude 5580</td><td>Notebook</td><td>945.0</td></tr><tr><td>867</td><td>Asus</td><td>X541NA (N4200/4GB/1TB/W10)</td><td>Notebook</td><td>449.0</td></tr><tr><td>868</td><td>HP</td><td>EliteBook x360</td><td>2 in 1 Convertible</td><td>2559.0</td></tr><tr><td>869</td><td>Dell</td><td>Inspiron 5368</td><td>Notebook</td><td>649.0</td></tr><tr><td>870</td><td>Lenovo</td><td>IdeaPad 110-15ISK</td><td>Notebook</td><td>469.0</td></tr><tr><td>871</td><td>Lenovo</td><td>ThinkPad E570</td><td>Notebook</td><td>850.66</td></tr><tr><td>872</td><td>HP</td><td>EliteBook 850</td><td>Notebook</td><td>1349.0</td></tr><tr><td>873</td><td>Toshiba</td><td>Portege X30-D-10X</td><td>Notebook</td><td>1285.0</td></tr><tr><td>874</td><td>Lenovo</td><td>Legion Y520-15IKBN</td><td>Gaming</td><td>1017.0</td></tr><tr><td>875</td><td>Dell</td><td>XPS 13</td><td>Ultrabook</td><td>2240.0</td></tr><tr><td>876</td><td>HP</td><td>Probook 450</td><td>Notebook</td><td>910.0</td></tr><tr><td>877</td><td>Toshiba</td><td>Portégé Z30-C-188</td><td>Ultrabook</td><td>1095.0</td></tr><tr><td>878</td><td>Lenovo</td><td>ThinkPad Yoga</td><td>2 in 1 Convertible</td><td>1950.0</td></tr><tr><td>879</td><td>Acer</td><td>TMX349-G2-M-50FS (i5-7200U/8GB/256GB/FHD/W10)</td><td>Notebook</td><td>902.0</td></tr><tr><td>880</td><td>Dell</td><td>Precision 3520</td><td>Workstation</td><td>1778.0</td></tr><tr><td>881</td><td>Lenovo</td><td>ThinkPad L570</td><td>Notebook</td><td>1055.0</td></tr><tr><td>882</td><td>Lenovo</td><td>IdeaPad 110-15ISK</td><td>Notebook</td><td>479.0</td></tr><tr><td>883</td><td>Toshiba</td><td>Tecra A50-D-11D</td><td>Notebook</td><td>1388.0</td></tr><tr><td>884</td><td>Lenovo</td><td>Thinkpad 13</td><td>Notebook</td><td>735.0</td></tr><tr><td>885</td><td>Samsung</td><td>Notebook 9</td><td>Ultrabook</td><td>1849.0</td></tr><tr><td>886</td><td>Dell</td><td>Latitude 7280</td><td>Ultrabook</td><td>1690.0</td></tr><tr><td>887</td><td>Asus</td><td>X541NA-GO121 (N4200/4GB/1TB/Linux)</td><td>Notebook</td><td>398.99</td></tr><tr><td>888</td><td>Xiaomi</td><td>Mi Notebook</td><td>Ultrabook</td><td>935.0</td></tr><tr><td>889</td><td>Dell</td><td>Vostro 5568</td><td>Notebook</td><td>912.5</td></tr><tr><td>890</td><td>HP</td><td>ProBook 450</td><td>Notebook</td><td>839.0</td></tr><tr><td>891</td><td>HP</td><td>EliteBook x360</td><td>2 in 1 Convertible</td><td>1700.0</td></tr><tr><td>892</td><td>HP</td><td>Pavilion x360</td><td>2 in 1 Convertible</td><td>684.8</td></tr><tr><td>893</td><td>Asus</td><td>VivoBook L402NA</td><td>Notebook</td><td>348.0</td></tr><tr><td>894</td><td>Lenovo</td><td>IdeaPad 510-15ISK</td><td>Notebook</td><td>669.0</td></tr><tr><td>895</td><td>Dell</td><td>Inspiron 3552</td><td>Notebook</td><td>369.0</td></tr><tr><td>896</td><td>HP</td><td>EliteBook x360</td><td>2 in 1 Convertible</td><td>1799.0</td></tr><tr><td>897</td><td>Dell</td><td>Vostro 3568</td><td>Notebook</td><td>455.7</td></tr><tr><td>898</td><td>Asus</td><td>Rog GL753VD-GC082T</td><td>Gaming</td><td>1369.9</td></tr><tr><td>899</td><td>Acer</td><td>Chromebook C731-C78G</td><td>Netbook</td><td>297.0</td></tr><tr><td>900</td><td>Lenovo</td><td>IdeaPad 110-17ACL</td><td>Notebook</td><td>379.0</td></tr><tr><td>901</td><td>HP</td><td>Probook 640</td><td>Notebook</td><td>1265.0</td></tr><tr><td>902</td><td>HP</td><td>Envy x360</td><td>2 in 1 Convertible</td><td>1399.0</td></tr><tr><td>903</td><td>Samsung</td><td>Notebook 9</td><td>Ultrabook</td><td>1699.0</td></tr><tr><td>904</td><td>Lenovo</td><td>ThinkPad T470s</td><td>Ultrabook</td><td>1799.0</td></tr><tr><td>905</td><td>MSI</td><td>GS73VR Stealth</td><td>Gaming</td><td>2649.0</td></tr><tr><td>906</td><td>Toshiba</td><td>Portege X30-D-10V</td><td>Notebook</td><td>1475.0</td></tr><tr><td>908</td><td>Dell</td><td>Inspiron 7567</td><td>Gaming</td><td>929.0</td></tr><tr><td>909</td><td>HP</td><td>ProBook 450</td><td>Notebook</td><td>900.0</td></tr><tr><td>910</td><td>Dell</td><td>Vostro 3568</td><td>Notebook</td><td>614.0</td></tr><tr><td>911</td><td>Dell</td><td>Latitude 5580</td><td>Notebook</td><td>935.0</td></tr><tr><td>912</td><td>Dell</td><td>XPS 13</td><td>2 in 1 Convertible</td><td>2013.1</td></tr><tr><td>913</td><td>Asus</td><td>G701VO-IH74K (i7-6820HK/32GB/2x</td><td>Gaming</td><td>1279.0</td></tr><tr><td>914</td><td>Dell</td><td>XPS 13</td><td>2 in 1 Convertible</td><td>1649.0</td></tr><tr><td>915</td><td>Lenovo</td><td>ThinkPad X1</td><td>Ultrabook</td><td>2049.0</td></tr><tr><td>916</td><td>Lenovo</td><td>ThinkPad T570</td><td>Notebook</td><td>1962.99</td></tr><tr><td>917</td><td>LG</td><td>Gram 15Z970</td><td>Ultrabook</td><td>2099.0</td></tr><tr><td>918</td><td>HP</td><td>Elitebook 820</td><td>Netbook</td><td>1483.0</td></tr><tr><td>919</td><td>Acer</td><td>Chromebook CB5-571-C1DZ</td><td>Notebook</td><td>359.0</td></tr><tr><td>920</td><td>Lenovo</td><td>IdeaPad Y700-15ISK</td><td>Notebook</td><td>789.0</td></tr><tr><td>922</td><td>LG</td><td>Gram 14Z970</td><td>Ultrabook</td><td>1899.0</td></tr><tr><td>923</td><td>Dell</td><td>Latitude 5480</td><td>Notebook</td><td>1205.0</td></tr><tr><td>924</td><td>HP</td><td>Elitebook Folio</td><td>Ultrabook</td><td>3100.0</td></tr><tr><td>925</td><td>Lenovo</td><td>IdeaPad 510-15IKB</td><td>Notebook</td><td>789.0</td></tr><tr><td>926</td><td>HP</td><td>ProBook 450</td><td>Notebook</td><td>1018.99</td></tr><tr><td>927</td><td>Acer</td><td>Aspire E5-575</td><td>Notebook</td><td>499.0</td></tr><tr><td>928</td><td>Lenovo</td><td>ThinkPad 13</td><td>Notebook</td><td>881.0</td></tr><tr><td>930</td><td>HP</td><td>Probook 430</td><td>Notebook</td><td>960.0</td></tr><tr><td>931</td><td>MSI</td><td>GE72VR 6RF</td><td>Gaming</td><td>1599.0</td></tr><tr><td>932</td><td>Dell</td><td>Inspiron 7567</td><td>Gaming</td><td>1349.0</td></tr><tr><td>933</td><td>MSI</td><td>GL62M 7RD</td><td>Gaming</td><td>1119.91</td></tr><tr><td>934</td><td>Dell</td><td>Vostro 3568</td><td>Notebook</td><td>684.99</td></tr><tr><td>935</td><td>HP</td><td>EliteBook 850</td><td>Ultrabook</td><td>1296.99</td></tr><tr><td>936</td><td>HP</td><td>Envy 13-AB077cl</td><td>Ultrabook</td><td>1149.0</td></tr><tr><td>937</td><td>Toshiba</td><td>Tecra Z50-C-140</td><td>Notebook</td><td>1975.0</td></tr><tr><td>938</td><td>Lenovo</td><td>ThinkPad Yoga</td><td>2 in 1 Convertible</td><td>1825.0</td></tr><tr><td>939</td><td>Dell</td><td>Latitude 3580</td><td>Notebook</td><td>729.9</td></tr><tr><td>940</td><td>Lenovo</td><td>Thinkpad X270</td><td>Ultrabook</td><td>1650.0</td></tr><tr><td>941</td><td>HP</td><td>Probook 650</td><td>Notebook</td><td>1165.0</td></tr><tr><td>942</td><td>Dell</td><td>Vostro 3568</td><td>Notebook</td><td>708.06</td></tr><tr><td>943</td><td>HP</td><td>ProBook 640</td><td>Notebook</td><td>1149.0</td></tr><tr><td>944</td><td>Lenovo</td><td>IdeaPad 320-15IAP</td><td>Notebook</td><td>309.0</td></tr><tr><td>945</td><td>HP</td><td>EliteBook 820</td><td>Ultrabook</td><td>1579.0</td></tr><tr><td>946</td><td>HP</td><td>250 G6</td><td>Notebook</td><td>288.9</td></tr><tr><td>947</td><td>Lenovo</td><td>Yoga 900-13ISK</td><td>2 in 1 Convertible</td><td>1799.0</td></tr><tr><td>948</td><td>Toshiba</td><td>Tecra Z40-C-12X</td><td>Notebook</td><td>1105.0</td></tr><tr><td>949</td><td>HP</td><td>EliteBook 820</td><td>Netbook</td><td>1669.0</td></tr><tr><td>950</td><td>Dell</td><td>Vostro 3568</td><td>Notebook</td><td>558.6</td></tr><tr><td>951</td><td>MSI</td><td>GP62M Leopard</td><td>Gaming</td><td>1199.0</td></tr><tr><td>952</td><td>Dell</td><td>Latitude 7480</td><td>Ultrabook</td><td>1639.0</td></tr><tr><td>953</td><td>Dell</td><td>Alienware 17</td><td>Gaming</td><td>2758.0</td></tr><tr><td>954</td><td>HP</td><td>Omen 17-W006na</td><td>Gaming</td><td>1399.0</td></tr><tr><td>955</td><td>Asus</td><td>X751SV-TY001T (N3710/4GB/1TB/GeForce</td><td>Notebook</td><td>530.0</td></tr><tr><td>956</td><td>Acer</td><td>TravelMate P259-G2</td><td>Notebook</td><td>619.0</td></tr><tr><td>957</td><td>Toshiba</td><td>Tecra A50-C-1ZV</td><td>Notebook</td><td>1119.0</td></tr><tr><td>958</td><td>Lenovo</td><td>Yoga 700-11ISK</td><td>2 in 1 Convertible</td><td>1299.0</td></tr><tr><td>959</td><td>Lenovo</td><td>IdeaPad Y700-15ACZ</td><td>Gaming</td><td>999.0</td></tr><tr><td>960</td><td>Dell</td><td>Latitude 7280</td><td>Ultrabook</td><td>1472.2</td></tr><tr><td>961</td><td>Lenovo</td><td>IdeaPad 310-15IKB</td><td>Notebook</td><td>685.0</td></tr><tr><td>962</td><td>Dell</td><td>Insprion 5767</td><td>Notebook</td><td>659.0</td></tr><tr><td>963</td><td>Acer</td><td>Chromebook 14</td><td>Notebook</td><td>349.0</td></tr><tr><td>964</td><td>HP</td><td>ZBook Studio</td><td>Workstation</td><td>2249.0</td></tr><tr><td>965</td><td>Dell</td><td>Latitude 7480</td><td>Ultrabook</td><td>1775.0</td></tr><tr><td>966</td><td>Toshiba</td><td>Portege Z30-C-1CW</td><td>Notebook</td><td>1460.0</td></tr><tr><td>967</td><td>Asus</td><td>Chromebook Flip</td><td>2 in 1 Convertible</td><td>1159.0</td></tr><tr><td>968</td><td>Lenovo</td><td>Thinkpad T460</td><td>Ultrabook</td><td>1488.99</td></tr><tr><td>969</td><td>Dell</td><td>Alienware 17</td><td>Gaming</td><td>3154.0</td></tr><tr><td>970</td><td>Dell</td><td>XPS 13</td><td>2 in 1 Convertible</td><td>1899.0</td></tr><tr><td>971</td><td>HP</td><td>ProBook x360</td><td>2 in 1 Convertible</td><td>775.0</td></tr><tr><td>972</td><td>Dell</td><td>XPS 13</td><td>Ultrabook</td><td>1268.0</td></tr><tr><td>973</td><td>Acer</td><td>Chromebook C738T-C2EJ</td><td>2 in 1 Convertible</td><td>389.0</td></tr><tr><td>974</td><td>Toshiba</td><td>Portege Z30-C-16Z</td><td>Notebook</td><td>1535.0</td></tr><tr><td>975</td><td>Lenovo</td><td>ThinkPad X270</td><td>Ultrabook</td><td>1760.0</td></tr><tr><td>976</td><td>Acer</td><td>Aspire F5-573G-510L</td><td>Notebook</td><td>1009.0</td></tr><tr><td>977</td><td>Toshiba</td><td>Portege X20W-D-10V</td><td>Ultrabook</td><td>1790.0</td></tr><tr><td>978</td><td>HP</td><td>ProBook 450</td><td>Notebook</td><td>846.5</td></tr><tr><td>979</td><td>Dell</td><td>Inspiron 3567</td><td>Notebook</td><td>465.62</td></tr><tr><td>980</td><td>Dell</td><td>Latitude 5580</td><td>Notebook</td><td>825.0</td></tr><tr><td>981</td><td>HP</td><td>ProBook 450</td><td>Notebook</td><td>685.0</td></tr><tr><td>982</td><td>Dell</td><td>Alienware 17</td><td>Gaming</td><td>3149.0</td></tr><tr><td>983</td><td>Lenovo</td><td>IdeaPad 310-15IKB</td><td>Notebook</td><td>695.0</td></tr><tr><td>984</td><td>Dell</td><td>XPS 13</td><td>2 in 1 Convertible</td><td>1899.0</td></tr><tr><td>985</td><td>Dell</td><td>Latitude E7470</td><td>Ultrabook</td><td>1962.98</td></tr><tr><td>986</td><td>Dell</td><td>Alienware 17</td><td>Gaming</td><td>2800.0</td></tr><tr><td>987</td><td>Toshiba</td><td>Tecra A40-C-1DF</td><td>Notebook</td><td>1180.0</td></tr><tr><td>988</td><td>Asus</td><td>Rog Strix</td><td>Gaming</td><td>2049.9</td></tr><tr><td>989</td><td>HP</td><td>Probook 450</td><td>Notebook</td><td>979.0</td></tr><tr><td>990</td><td>Lenovo</td><td>ThinkPad T460</td><td>Notebook</td><td>1002.0</td></tr><tr><td>991</td><td>Asus</td><td>Q534UX-BHI7T19 (i7-7500U/16GB/2TB</td><td>2 in 1 Convertible</td><td>1799.0</td></tr><tr><td>992</td><td>HP</td><td>15-bs053od (i7-7500U/6GB/1TB/W10)</td><td>Notebook</td><td>579.0</td></tr><tr><td>993</td><td>Asus</td><td>Rog GL753VE-DS74</td><td>Gaming</td><td>1749.0</td></tr><tr><td>994</td><td>Dell</td><td>Inspiron 7579</td><td>2 in 1 Convertible</td><td>1299.0</td></tr><tr><td>995</td><td>Toshiba</td><td>Portege Z30-C-1CV</td><td>Notebook</td><td>1195.0</td></tr><tr><td>996</td><td>Lenovo</td><td>IdeaPad 320-15ABR</td><td>Notebook</td><td>549.0</td></tr><tr><td>997</td><td>Fujitsu</td><td>LifeBook A556</td><td>Notebook</td><td>649.0</td></tr><tr><td>998</td><td>Toshiba</td><td>Tecra A40-C-1KF</td><td>Notebook</td><td>915.0</td></tr><tr><td>999</td><td>Dell</td><td>Inspiron 3567</td><td>Notebook</td><td>599.0</td></tr><tr><td>1000</td><td>HP</td><td>Probook 450</td><td>Notebook</td><td>806.0</td></tr><tr><td>1001</td><td>Lenovo</td><td>Legion Y520-15IKBN</td><td>Gaming</td><td>1189.0</td></tr><tr><td>1002</td><td>Dell</td><td>Inspiron 5567</td><td>Notebook</td><td>749.0</td></tr><tr><td>1003</td><td>Dell</td><td>Latitude 5480</td><td>Notebook</td><td>1119.0</td></tr><tr><td>1004</td><td>HP</td><td>EliteBook Folio</td><td>Netbook</td><td>1908.0</td></tr><tr><td>1005</td><td>HP</td><td>15-bs005nv (i3-6006U/4GB/1TB</td><td>Notebook</td><td>499.0</td></tr><tr><td>1006</td><td>Lenovo</td><td>V110-15IAP (N3350/4GB/128GB/No</td><td>Notebook</td><td>270.62</td></tr><tr><td>1007</td><td>Lenovo</td><td>ThinkPad T560</td><td>Notebook</td><td>1349.0</td></tr><tr><td>1008</td><td>Dell</td><td>Inspiron 5378</td><td>2 in 1 Convertible</td><td>889.0</td></tr><tr><td>1009</td><td>Asus</td><td>ZenBook UX310UA-FB485T</td><td>Notebook</td><td>1150.0</td></tr><tr><td>1010</td><td>HP</td><td>Spectre 13-V111dx</td><td>Ultrabook</td><td>1349.0</td></tr><tr><td>1011</td><td>Acer</td><td>Aspire ES1-533</td><td>Notebook</td><td>380.0</td></tr><tr><td>1012</td><td>Asus</td><td>Rog GL553VE-DS74</td><td>Gaming</td><td>1799.0</td></tr><tr><td>1013</td><td>HP</td><td>EliteBook 840</td><td>Ultrabook</td><td>2089.0</td></tr></tbody></table>Showing the first 1000 rows.</div>"
      ]
     },
     "metadata": {
      "application/vnd.databricks.v1+output": {
       "addedWidgets": {},
       "aggData": [],
       "aggError": "",
       "aggOverflow": false,
       "aggSchema": [],
       "aggSeriesLimitReached": false,
       "aggType": "",
       "arguments": {},
       "columnCustomDisplayInfos": {},
       "data": [
        [
         1,
         "Apple",
         "MacBook Pro",
         "Ultrabook",
         1339.69
        ],
        [
         2,
         "Apple",
         "Macbook Air",
         "Ultrabook",
         898.94
        ],
        [
         3,
         "HP",
         "250 G6",
         "Notebook",
         575
        ],
        [
         4,
         "Apple",
         "MacBook Pro",
         "Ultrabook",
         2537.45
        ],
        [
         5,
         "Apple",
         "MacBook Pro",
         "Ultrabook",
         1803.6
        ],
        [
         6,
         "Acer",
         "Aspire 3",
         "Notebook",
         400
        ],
        [
         7,
         "Apple",
         "MacBook Pro",
         "Ultrabook",
         2139.97
        ],
        [
         8,
         "Apple",
         "Macbook Air",
         "Ultrabook",
         1158.7
        ],
        [
         9,
         "Asus",
         "ZenBook UX430UN",
         "Ultrabook",
         1495
        ],
        [
         10,
         "Acer",
         "Swift 3",
         "Ultrabook",
         770
        ],
        [
         11,
         "HP",
         "250 G6",
         "Notebook",
         393.9
        ],
        [
         12,
         "HP",
         "250 G6",
         "Notebook",
         344.99
        ],
        [
         13,
         "Apple",
         "MacBook Pro",
         "Ultrabook",
         2439.97
        ],
        [
         14,
         "Dell",
         "Inspiron 3567",
         "Notebook",
         498.9
        ],
        [
         15,
         "Apple",
         "MacBook 12\"\"",
         "Ultrabook",
         1262.4
        ],
        [
         16,
         "Apple",
         "MacBook Pro",
         "Ultrabook",
         1518.55
        ],
        [
         17,
         "Dell",
         "Inspiron 3567",
         "Notebook",
         745
        ],
        [
         18,
         "Apple",
         "MacBook Pro",
         "Ultrabook",
         2858
        ],
        [
         19,
         "Lenovo",
         "IdeaPad 320-15IKB",
         "Notebook",
         499
        ],
        [
         20,
         "Dell",
         "XPS 13",
         "Ultrabook",
         979
        ],
        [
         21,
         "Asus",
         "Vivobook E200HA",
         "Netbook",
         191.9
        ],
        [
         22,
         "Lenovo",
         "Legion Y520-15IKBN",
         "Gaming",
         999
        ],
        [
         23,
         "HP",
         "255 G6",
         "Notebook",
         258
        ],
        [
         24,
         "Dell",
         "Inspiron 5379",
         "2 in 1 Convertible",
         819
        ],
        [
         25,
         "HP",
         "15-BS101nv (i7-8550U/8GB/256GB/FHD/W10)",
         "Ultrabook",
         659
        ],
        [
         26,
         "Dell",
         "Inspiron 3567",
         "Notebook",
         418.64
        ],
        [
         27,
         "Apple",
         "MacBook Air",
         "Ultrabook",
         1099
        ],
        [
         28,
         "Dell",
         "Inspiron 5570",
         "Notebook",
         800
        ],
        [
         29,
         "Dell",
         "Latitude 5590",
         "Ultrabook",
         1298
        ],
        [
         30,
         "HP",
         "ProBook 470",
         "Notebook",
         896
        ],
        [
         31,
         "Chuwi",
         "LapBook 15.6\"\"",
         "Notebook",
         244.99
        ],
        [
         32,
         "Asus",
         "E402WA-GA010T (E2-6110/2GB/32GB/W10)",
         "Notebook",
         199
        ],
        [
         33,
         "HP",
         "17-ak001nv (A6-9220/4GB/500GB/Radeon",
         "Notebook",
         439
        ],
        [
         34,
         "Dell",
         "XPS 13",
         "Ultrabook",
         1869
        ],
        [
         35,
         "Apple",
         "MacBook Air",
         "Ultrabook",
         998
        ],
        [
         36,
         "Lenovo",
         "IdeaPad 120S-14IAP",
         "Notebook",
         249
        ],
        [
         37,
         "Acer",
         "Aspire 3",
         "Notebook",
         367
        ],
        [
         38,
         "Dell",
         "Inspiron 5770",
         "Notebook",
         979
        ],
        [
         39,
         "HP",
         "250 G6",
         "Notebook",
         488.69
        ],
        [
         40,
         "HP",
         "ProBook 450",
         "Notebook",
         879
        ],
        [
         41,
         "Asus",
         "X540UA-DM186 (i3-6006U/4GB/1TB/FHD/Linux)",
         "Notebook",
         389
        ],
        [
         42,
         "Dell",
         "Inspiron 7577",
         "Gaming",
         1499
        ],
        [
         43,
         "Asus",
         "X542UQ-GO005 (i5-7200U/8GB/1TB/GeForce",
         "Notebook",
         522.99
        ],
        [
         44,
         "Acer",
         "Aspire A515-51G",
         "Notebook",
         682
        ],
        [
         45,
         "Dell",
         "Inspiron 7773",
         "2 in 1 Convertible",
         999
        ],
        [
         46,
         "Apple",
         "MacBook Pro",
         "Ultrabook",
         1419
        ],
        [
         47,
         "Lenovo",
         "IdeaPad 320-15ISK",
         "Notebook",
         369
        ],
        [
         48,
         "Asus",
         "Rog Strix",
         "Gaming",
         1299
        ],
        [
         49,
         "Dell",
         "Inspiron 3567",
         "Notebook",
         639
        ],
        [
         50,
         "Asus",
         "X751NV-TY001T (N4200/4GB/1TB/GeForce",
         "Notebook",
         466
        ],
        [
         51,
         "Lenovo",
         "Yoga Book",
         "2 in 1 Convertible",
         319
        ],
        [
         52,
         "Acer",
         "Aspire A515-51G",
         "Notebook",
         841
        ],
        [
         53,
         "HP",
         "255 G6",
         "Notebook",
         398.49
        ],
        [
         54,
         "HP",
         "ProBook 430",
         "Notebook",
         1103
        ],
        [
         55,
         "Acer",
         "Aspire 3",
         "Notebook",
         384
        ],
        [
         56,
         "Dell",
         "Inspiron 3576",
         "Notebook",
         767.8
        ],
        [
         57,
         "HP",
         "15-bs002nv (i3-6006U/4GB/128GB/FHD/W10)",
         "Notebook",
         439
        ],
        [
         58,
         "Asus",
         "VivoBook Max",
         "Notebook",
         586.19
        ],
        [
         59,
         "MSI",
         "GS73VR 7RG",
         "Gaming",
         2449
        ],
        [
         60,
         "Asus",
         "X541UA-DM1897 (i3-6006U/4GB/256GB/FHD/Linux)",
         "Notebook",
         415
        ],
        [
         61,
         "Dell",
         "Inspiron 5770",
         "Notebook",
         1299
        ],
        [
         62,
         "Dell",
         "Vostro 5471",
         "Ultrabook",
         879
        ],
        [
         63,
         "Lenovo",
         "IdeaPad 520S-14IKB",
         "Notebook",
         599
        ],
        [
         64,
         "Asus",
         "UX410UA-GV350T (i5-8250U/8GB/256GB/FHD/W10)",
         "Notebook",
         941
        ],
        [
         66,
         "HP",
         "250 G6",
         "Notebook",
         690
        ],
        [
         67,
         "Asus",
         "ZenBook Pro",
         "Ultrabook",
         1983
        ],
        [
         68,
         "HP",
         "250 G6",
         "Notebook",
         438.69
        ],
        [
         69,
         "HP",
         "Stream 14-AX040wm",
         "Notebook",
         229
        ],
        [
         70,
         "Lenovo",
         "V310-15ISK (i5-7200U/4GB/1TB/FHD/W10)",
         "Notebook",
         549
        ],
        [
         71,
         "Asus",
         "FX753VE-GC093 (i7-7700HQ/12GB/1TB/GeForce",
         "Gaming",
         949
        ],
        [
         72,
         "Microsoft",
         "Surface Laptop",
         "Ultrabook",
         1089
        ],
        [
         73,
         "Dell",
         "Inspiron 5370",
         "Ultrabook",
         955
        ],
        [
         74,
         "Dell",
         "Inspiron 5570",
         "Notebook",
         870
        ],
        [
         75,
         "MSI",
         "GL72M 7RDX",
         "Gaming",
         1095
        ],
        [
         76,
         "Acer",
         "Aspire E5-475",
         "Notebook",
         389
        ],
        [
         77,
         "Asus",
         "FX503VD-E4022T (i7-7700HQ/8GB/1TB/GeForce",
         "Gaming",
         949
        ],
        [
         78,
         "Lenovo",
         "IdeaPad 320-15IKBN",
         "Notebook",
         519
        ],
        [
         79,
         "Dell",
         "Inspiron 5570",
         "Notebook",
         855
        ],
        [
         80,
         "Acer",
         "Aspire A515-51G-32MX",
         "Notebook",
         530
        ],
        [
         81,
         "HP",
         "ProBook 470",
         "Notebook",
         977
        ],
        [
         82,
         "Dell",
         "Latitude 5590",
         "Ultrabook",
         1096.16
        ],
        [
         83,
         "Apple",
         "MacBook 12\"\"",
         "Ultrabook",
         1510
        ],
        [
         84,
         "HP",
         "ProBook 440",
         "Notebook",
         860
        ],
        [
         85,
         "Lenovo",
         "IdeaPad 320-15AST",
         "Notebook",
         399
        ],
        [
         86,
         "Acer",
         "Aspire 3",
         "Notebook",
         395
        ],
        [
         87,
         "Dell",
         "Inspiron 7577",
         "Gaming",
         1349
        ],
        [
         88,
         "HP",
         "Pavilion 15-CK000nv",
         "Ultrabook",
         699
        ],
        [
         89,
         "HP",
         "250 G6",
         "Notebook",
         598.99
        ],
        [
         90,
         "Asus",
         "FX503VM-E4007T (i7-7700HQ/16GB/1TB",
         "Gaming",
         1449
        ],
        [
         91,
         "Dell",
         "XPS 13",
         "Ultrabook",
         1649
        ],
        [
         92,
         "Asus",
         "FX550IK-DM018T (FX-9830P/8GB/1TB/Radeon",
         "Gaming",
         699
        ],
        [
         93,
         "Acer",
         "Aspire 5",
         "Notebook",
         689
        ],
        [
         94,
         "HP",
         "Probook 430",
         "Notebook",
         1197
        ],
        [
         95,
         "Dell",
         "Inspiron 7577",
         "Gaming",
         1195
        ],
        [
         96,
         "Asus",
         "Zenbook UX430UA",
         "Ultrabook",
         1049
        ],
        [
         97,
         "Acer",
         "Spin 5",
         "2 in 1 Convertible",
         847
        ],
        [
         98,
         "Dell",
         "Inspiron 3567",
         "Notebook",
         599.9
        ],
        [
         99,
         "Dell",
         "Inspiron 3567",
         "Notebook",
         485
        ],
        [
         100,
         "Asus",
         "X541UV-DM1439T (i3-7100U/6GB/256GB/GeForce",
         "Notebook",
         577
        ],
        [
         102,
         "HP",
         "Omen 15-ce007nv",
         "Gaming",
         1249
        ],
        [
         103,
         "HP",
         "15-bs017nv (i7-7500U/8GB/256GB/Radeon",
         "Notebook",
         719
        ],
        [
         104,
         "HP",
         "15-bw000nv (E2-9000e/4GB/500GB/Radeon",
         "Notebook",
         349
        ],
        [
         105,
         "Dell",
         "Inspiron 3576",
         "Notebook",
         647
        ],
        [
         106,
         "HP",
         "Envy 13-ad009n",
         "Ultrabook",
         1119
        ],
        [
         107,
         "Microsoft",
         "Surface Laptop",
         "Ultrabook",
         1340
        ],
        [
         108,
         "HP",
         "Pavilion 14-BK001nv",
         "Notebook",
         659
        ],
        [
         109,
         "Lenovo",
         "Ideapad 310-15ISK",
         "Notebook",
         414.9
        ],
        [
         110,
         "Asus",
         "UX430UQ-GV209R (i7-7500U/8GB/256GB/GeForce",
         "Ultrabook",
         1193
        ],
        [
         111,
         "MSI",
         "GP62M 7REX",
         "Gaming",
         1299
        ],
        [
         112,
         "Lenovo",
         "Thinkpad T470",
         "Notebook",
         1480
        ],
        [
         113,
         "Asus",
         "VivoBook S15",
         "Ultrabook",
         1262
        ],
        [
         114,
         "Dell",
         "XPS 13",
         "Ultrabook",
         1379
        ],
        [
         115,
         "Lenovo",
         "ThinkPad Yoga",
         "2 in 1 Convertible",
         1399
        ],
        [
         116,
         "HP",
         "Probook 440",
         "Notebook",
         722
        ],
        [
         117,
         "Dell",
         "XPS 13",
         "Ultrabook",
         1629
        ],
        [
         118,
         "HP",
         "Spectre x360",
         "2 in 1 Convertible",
         1398.99
        ],
        [
         119,
         "HP",
         "Probook 440",
         "Notebook",
         1084
        ],
        [
         120,
         "Dell",
         "Inspiron 7570",
         "Notebook",
         1130.33
        ],
        [
         121,
         "Asus",
         "X705UV-BX074T (i3-6006U/4GB/1TB/GeForce",
         "Notebook",
         564
        ],
        [
         122,
         "Asus",
         "VivoBook S15",
         "Notebook",
         1118
        ],
        [
         123,
         "Acer",
         "Spin 3",
         "Notebook",
         479
        ],
        [
         124,
         "MSI",
         "GS63VR 7RG",
         "Gaming",
         2241.5
        ],
        [
         125,
         "Lenovo",
         "IdeaPad 320-15IKBN",
         "Notebook",
         629
        ],
        [
         126,
         "HP",
         "Probook 470",
         "Notebook",
         1271
        ],
        [
         127,
         "Acer",
         "Aspire 3",
         "Notebook",
         451
        ],
        [
         128,
         "HP",
         "250 G6",
         "Notebook",
         259
        ],
        [
         129,
         "HP",
         "Probook 440",
         "Notebook",
         812
        ],
        [
         130,
         "Asus",
         "E402WA-GA007T (E2-6110/4GB/64GB/W10",
         "Notebook",
         277.99
        ],
        [
         131,
         "Dell",
         "Inspiron 5770",
         "Notebook",
         1396
        ],
        [
         132,
         "HP",
         "ProBook 470",
         "Notebook",
         928
        ],
        [
         133,
         "Dell",
         "Inspiron 5567",
         "Notebook",
         638.99
        ],
        [
         134,
         "Dell",
         "Inspiron 3567",
         "Notebook",
         449
        ],
        [
         135,
         "Acer",
         "Swift 3",
         "Ultrabook",
         884
        ],
        [
         136,
         "Acer",
         "Aspire A515-51G-37JS",
         "Notebook",
         572
        ],
        [
         137,
         "HP",
         "15-BS078nr (i7-7500U/8GB/1TB/W10)",
         "Notebook",
         598
        ],
        [
         138,
         "HP",
         "Probook 440",
         "Notebook",
         988
        ],
        [
         139,
         "Lenovo",
         "V110-15IAP (N3350/4GB/1TB/No",
         "Notebook",
         252.36
        ],
        [
         140,
         "Asus",
         "FX753VD-GC086T (i5-7300HQ/8GB/1TB",
         "Gaming",
         938
        ],
        [
         141,
         "Lenovo",
         "IdeaPad 320-15IKBN",
         "Notebook",
         499
        ],
        [
         142,
         "HP",
         "Envy 13-AD007nv",
         "Notebook",
         699
        ],
        [
         143,
         "Acer",
         "Aspire 5",
         "Notebook",
         655
        ],
        [
         144,
         "Lenovo",
         "ThinkPad E480",
         "Notebook",
         1116.02
        ],
        [
         145,
         "Lenovo",
         "Legion Y520-15IKBN",
         "Gaming",
         869
        ],
        [
         146,
         "Toshiba",
         "Satellite Pro",
         "Notebook",
         602
        ],
        [
         147,
         "HP",
         "255 G6",
         "Notebook",
         369
        ],
        [
         148,
         "Asus",
         "ZenBook UX430UA",
         "Ultrabook",
         1099
        ],
        [
         149,
         "HP",
         "EliteBook Folio",
         "Ultrabook",
         2014
        ],
        [
         150,
         "Asus",
         "X541NA (N3350/4GB/1TB/FHD/W10)",
         "Notebook",
         344
        ],
        [
         151,
         "MSI",
         "GE72MVR 7RG",
         "Gaming",
         2029
        ],
        [
         152,
         "Acer",
         "Aspire A315-51",
         "Notebook",
         447
        ],
        [
         153,
         "Dell",
         "Inspiron 5577",
         "Gaming",
         1249.26
        ],
        [
         154,
         "Dell",
         "Inspiron 7567",
         "Gaming",
         899
        ],
        [
         155,
         "Lenovo",
         "V110-15IKB (i5-7200U/4GB/128GB/W10)",
         "Notebook",
         498
        ],
        [
         156,
         "MSI",
         "GE73VR 7RE",
         "Gaming",
         1890
        ],
        [
         157,
         "HP",
         "EliteBook 840",
         "Ultrabook",
         1082
        ],
        [
         158,
         "HP",
         "15-BS103nv (i5-8250U/6GB/256GB/Radeon",
         "Notebook",
         619
        ],
        [
         159,
         "Lenovo",
         "Yoga 520-14IKB",
         "2 in 1 Convertible",
         629
        ],
        [
         160,
         "Asus",
         "ZenBook Flip",
         "2 in 1 Convertible",
         1315
        ],
        [
         161,
         "Dell",
         "Inspiron 5579",
         "2 in 1 Convertible",
         1049
        ],
        [
         163,
         "Toshiba",
         "Satellite Pro",
         "Notebook",
         447
        ],
        [
         164,
         "Asus",
         "X555BP-XX180T (A9-9420/4GB/1TB/Radeon",
         "Notebook",
         403
        ],
        [
         165,
         "Acer",
         "Aspire A517-51G",
         "Notebook",
         805
        ],
        [
         166,
         "Dell",
         "Inspiron 3576",
         "Notebook",
         728
        ],
        [
         167,
         "Lenovo",
         "Legion Y520-15IKBN",
         "Gaming",
         1079
        ],
        [
         168,
         "Acer",
         "Aspire A315-31",
         "Notebook",
         348
        ],
        [
         169,
         "MSI",
         "GE63VR 7RE",
         "Gaming",
         1799
        ],
        [
         170,
         "Acer",
         "Aspire 3",
         "Notebook",
         363.51
        ],
        [
         171,
         "Dell",
         "Inspiron 5577",
         "Gaming",
         1060.49
        ],
        [
         172,
         "Acer",
         "Aspire A517-51G",
         "Notebook",
         854
        ],
        [
         173,
         "HP",
         "ProBook 430",
         "Notebook",
         754
        ],
        [
         174,
         "Huawei",
         "MateBook X",
         "Ultrabook",
         1349
        ],
        [
         175,
         "HP",
         "17-bs001nv (i5-7200U/6GB/2TB/Radeon",
         "Notebook",
         699
        ],
        [
         176,
         "Lenovo",
         "IdeaPad 320-15AST",
         "Notebook",
         309
        ],
        [
         177,
         "Toshiba",
         "Satellite Pro",
         "Notebook",
         489
        ],
        [
         178,
         "HP",
         "ProBook 470",
         "Notebook",
         923
        ],
        [
         179,
         "Dell",
         "Inspiron 3567",
         "Notebook",
         459
        ],
        [
         180,
         "Acer",
         "Aspire A315-51",
         "Notebook",
         449
        ],
        [
         181,
         "MSI",
         "GT80S 6QF-074US",
         "Gaming",
         2799
        ],
        [
         182,
         "Lenovo",
         "V310-15IKB (i5-7200U/8GB/1TB",
         "Notebook",
         813
        ],
        [
         183,
         "HP",
         "Spectre x360",
         "2 in 1 Convertible",
         1499
        ],
        [
         184,
         "Dell",
         "Inspiron 5570",
         "Notebook",
         1049
        ],
        [
         185,
         "Dell",
         "XPS 13",
         "Ultrabook",
         1399
        ],
        [
         186,
         "Lenovo",
         "Yoga 920-13IKB",
         "2 in 1 Convertible",
         1849
        ],
        [
         187,
         "Toshiba",
         "Satellite Pro",
         "Notebook",
         793
        ],
        [
         188,
         "Xiaomi",
         "Mi Notebook",
         "Notebook",
         1199
        ],
        [
         189,
         "Dell",
         "Inspiron 7773",
         "Notebook",
         1549
        ],
        [
         190,
         "Dell",
         "XPS 15",
         "Notebook",
         2397
        ],
        [
         191,
         "Lenovo",
         "Legion Y520-15IKBN",
         "Gaming",
         779
        ],
        [
         192,
         "Acer",
         "Swift 7",
         "Ultrabook",
         989
        ],
        [
         193,
         "Dell",
         "Inspiron 5770",
         "Notebook",
         1085
        ],
        [
         194,
         "Lenovo",
         "Thinkpad Yoga",
         "2 in 1 Convertible",
         2824
        ],
        [
         195,
         "Vero",
         "K147 (N3350/4GB/32GB/FHD/W10)",
         "Notebook",
         260
        ],
        [
         196,
         "Xiaomi",
         "Mi Notebook",
         "Ultrabook",
         999.9
        ],
        [
         197,
         "Lenovo",
         "IdeaPad 320-17IKBR",
         "Notebook",
         698
        ],
        [
         198,
         "Dell",
         "Inspiron 5379",
         "2 in 1 Convertible",
         839
        ],
        [
         199,
         "HP",
         "ProBook 470",
         "Notebook",
         914
        ],
        [
         200,
         "Razer",
         "Blade Pro",
         "Gaming",
         6099
        ],
        [
         201,
         "HP",
         "ProBook 430",
         "Notebook",
         959
        ],
        [
         202,
         "HP",
         "Omen 17-W295",
         "Gaming",
         1379
        ],
        [
         203,
         "HP",
         "Probook 470",
         "Notebook",
         1045
        ],
        [
         204,
         "Dell",
         "Inspiron 7577",
         "Gaming",
         1845
        ],
        [
         205,
         "Lenovo",
         "V110-15ISK (i5-6200U/4GB/128GB/W10)",
         "Notebook",
         493
        ],
        [
         206,
         "Acer",
         "Aspire E5-576G",
         "Notebook",
         742
        ],
        [
         207,
         "Lenovo",
         "Legion Y720-15IKB",
         "Gaming",
         1749
        ],
        [
         208,
         "Dell",
         "Precision 7520",
         "Workstation",
         3055
        ],
        [
         209,
         "Lenovo",
         "Legion Y520-15IKBN",
         "Gaming",
         1398
        ],
        [
         210,
         "Dell",
         "Inspiron 3567",
         "Notebook",
         439
        ],
        [
         211,
         "Dell",
         "XPS 13",
         "Ultrabook",
         1949
        ],
        [
         212,
         "Dell",
         "XPS 13",
         "Ultrabook",
         1449
        ],
        [
         213,
         "Lenovo",
         "IdeaPad 320-15IKBN",
         "Notebook",
         597
        ],
        [
         215,
         "Acer",
         "Aspire 7",
         "Notebook",
         779
        ],
        [
         216,
         "Asus",
         "ROG GL703VD-GC028T",
         "Gaming",
         1407
        ],
        [
         217,
         "HP",
         "15-bs018nq (i3-6006U/4GB/500GB/FHD/No",
         "Notebook",
         349
        ],
        [
         218,
         "Lenovo",
         "IdeaPad 320-15IKBN",
         "Notebook",
         549
        ],
        [
         219,
         "Huawei",
         "MateBook X",
         "Ultrabook",
         1499
        ],
        [
         220,
         "Dell",
         "Inspiron 5370",
         "Ultrabook",
         931.88
        ],
        [
         221,
         "Lenovo",
         "IdeaPad 320-17IKB",
         "Notebook",
         589
        ],
        [
         222,
         "HP",
         "Probook 440",
         "Notebook",
         1031
        ],
        [
         223,
         "Dell",
         "Latitude 5490",
         "Ultrabook",
         1149
        ],
        [
         224,
         "Dell",
         "Inspiron 5379",
         "2 in 1 Convertible",
         1279
        ],
        [
         225,
         "Dell",
         "Inspiron 3576",
         "Notebook",
         677.35
        ],
        [
         226,
         "Lenovo",
         "Yoga 520-14IKB",
         "2 in 1 Convertible",
         899
        ],
        [
         227,
         "Toshiba",
         "Portege Z30-C-16L",
         "Ultrabook",
         1363
        ],
        [
         228,
         "HP",
         "ProBook 450",
         "Notebook",
         794
        ],
        [
         229,
         "Dell",
         "Alienware 17",
         "Gaming",
         2456.34
        ],
        [
         230,
         "Acer",
         "Aspire E5-576G",
         "Notebook",
         832
        ],
        [
         231,
         "Dell",
         "Inspiron 5567",
         "Notebook",
         859.01
        ],
        [
         232,
         "Asus",
         "Vivobook X541UV-DM1217T",
         "Notebook",
         769
        ],
        [
         233,
         "Asus",
         "K756UX-T4340T (i5-7200U/8GB/500GB",
         "Notebook",
         891
        ],
        [
         234,
         "HP",
         "ZBook 15u",
         "Notebook",
         1269
        ],
        [
         235,
         "Asus",
         "Pro P2540UA-XO0198T",
         "Notebook",
         398.99
        ],
        [
         236,
         "HP",
         "15-rb013nv (E2-9000e/4GB/500GB/W10)",
         "Notebook",
         330
        ],
        [
         237,
         "Lenovo",
         "Legion Y720-15IKB",
         "Gaming",
         1499
        ],
        [
         238,
         "Dell",
         "Vostro 5468",
         "Notebook",
         859
        ],
        [
         239,
         "Acer",
         "Aspire R7",
         "2 in 1 Convertible",
         689
        ],
        [
         240,
         "Dell",
         "Inspiron 5567",
         "Notebook",
         899
        ],
        [
         241,
         "Acer",
         "Aspire A315-51",
         "Notebook",
         390
        ],
        [
         242,
         "Asus",
         "X555QG-DM242T (A10-9620P/4GB/1TB",
         "Notebook",
         575
        ],
        [
         243,
         "Asus",
         "ROG G703VI-E5062T",
         "Gaming",
         3890
        ],
        [
         244,
         "Acer",
         "Nitro AN515-51",
         "Gaming",
         846
        ],
        [
         245,
         "Lenovo",
         "IdeaPad 320-15ISK",
         "Notebook",
         589
        ],
        [
         246,
         "Asus",
         "VivoBook Pro",
         "Notebook",
         1145
        ],
        [
         247,
         "Asus",
         "F756UX-T4201D (i7-7500U/8GB/128GB",
         "Notebook",
         889
        ],
        [
         248,
         "Dell",
         "Inspiron 5577",
         "Gaming",
         879
        ],
        [
         249,
         "Lenovo",
         "Yoga 910-13IKB",
         "2 in 1 Convertible",
         1079
        ],
        [
         250,
         "Dell",
         "Inspiron 5570",
         "Notebook",
         985
        ],
        [
         251,
         "HP",
         "15-bs015dx (i5-7200U/8GB/1TB/W10)",
         "Notebook",
         559
        ],
        [
         252,
         "Asus",
         "Rog G701VIK-BA060T",
         "Gaming",
         2999
        ],
        [
         253,
         "HP",
         "ProBook 430",
         "Notebook",
         675
        ],
        [
         254,
         "Apple",
         "MacBook Pro",
         "Ultrabook",
         2040
        ],
        [
         255,
         "Dell",
         "Inspiron 5579",
         "2 in 1 Convertible",
         819
        ],
        [
         256,
         "Asus",
         "ROG G752VSK-GC493T",
         "Gaming",
         1799
        ],
        [
         257,
         "Asus",
         "X505BP-BR019T (A9-9420/4GB/1TB/Radeon",
         "Notebook",
         469
        ],
        [
         258,
         "Lenovo",
         "Yoga 920-13IKB",
         "2 in 1 Convertible",
         1849
        ],
        [
         259,
         "Acer",
         "Aspire 5",
         "Notebook",
         702
        ],
        [
         260,
         "Dell",
         "Vostro 5370",
         "Ultrabook",
         949
        ],
        [
         261,
         "HP",
         "15-BW094nd (A6-9220/8GB/128GB/W10)",
         "Notebook",
         445.9
        ],
        [
         262,
         "HP",
         "Envy 17-U275cl",
         "Notebook",
         1059
        ],
        [
         263,
         "MSI",
         "GT73EVR 7RE",
         "Gaming",
         2499
        ],
        [
         264,
         "Lenovo",
         "Yoga 720-15IKB",
         "2 in 1 Convertible",
         1699
        ],
        [
         265,
         "Dell",
         "Inspiron 5770",
         "Notebook",
         1142
        ],
        [
         266,
         "Lenovo",
         "IdeaPad 320-15ISK",
         "Notebook",
         444
        ],
        [
         267,
         "HP",
         "ProBook 450",
         "Notebook",
         722
        ],
        [
         268,
         "Dell",
         "Vostro 3568",
         "Notebook",
         657
        ],
        [
         269,
         "Dell",
         "Inspiron 3567",
         "Notebook",
         565
        ],
        [
         270,
         "Dell",
         "Inspiron 5579",
         "2 in 1 Convertible",
         799
        ],
        [
         271,
         "Asus",
         "ZenBook Flip",
         "2 in 1 Convertible",
         1499
        ],
        [
         272,
         "Lenovo",
         "IdeaPad 320-15IKBN",
         "Notebook",
         467
        ],
        [
         273,
         "HP",
         "Probook 470",
         "Notebook",
         1018
        ],
        [
         274,
         "Lenovo",
         "V330-15IKB (i7-8550U/8GB/256GB/FHD/W10)",
         "Notebook",
         880
        ],
        [
         275,
         "Apple",
         "MacBook Pro",
         "Ultrabook",
         1958.9
        ],
        [
         276,
         "Asus",
         "Rog Strix",
         "Gaming",
         1549
        ],
        [
         277,
         "Dell",
         "Inspiron 3576",
         "Notebook",
         735.07
        ],
        [
         278,
         "Lenovo",
         "ThinkPad X1",
         "2 in 1 Convertible",
         2499
        ],
        [
         279,
         "Toshiba",
         "Satellite Pro",
         "Notebook",
         812
        ],
        [
         280,
         "Dell",
         "Inspiron 5567",
         "Notebook",
         713.07
        ],
        [
         281,
         "Dell",
         "Inspiron 5770",
         "Notebook",
         1099
        ],
        [
         282,
         "Acer",
         "Aspire A515-51G",
         "Notebook",
         745
        ],
        [
         283,
         "Lenovo",
         "IdeaPad 320-17ISK",
         "Notebook",
         489
        ],
        [
         284,
         "Lenovo",
         "IdeaPad 320-17IKBR",
         "Notebook",
         849
        ],
        [
         285,
         "Lenovo",
         "IdeaPad 320-17IKB",
         "Notebook",
         859
        ],
        [
         286,
         "Dell",
         "Inspiron 3567",
         "Notebook",
         428
        ],
        [
         287,
         "Lenovo",
         "Legion Y520-15IKBN",
         "Gaming",
         829
        ],
        [
         288,
         "Lenovo",
         "Ideapad 320-15IKBN",
         "Notebook",
         579
        ],
        [
         289,
         "Acer",
         "Aspire A517-51G",
         "Notebook",
         951
        ],
        [
         290,
         "Acer",
         "SP315-51 (i7-7500U/12GB/1TB/FHD/W10)",
         "Notebook",
         659
        ],
        [
         291,
         "Lenovo",
         "Thinkpad T570",
         "Notebook",
         1097
        ],
        [
         292,
         "Asus",
         "VivoBook S15",
         "Ultrabook",
         977
        ],
        [
         293,
         "Lenovo",
         "Legion Y520-15IKBN",
         "Gaming",
         1179
        ],
        [
         294,
         "Lenovo",
         "IdeaPad 320-15IKB",
         "Notebook",
         659.01
        ],
        [
         295,
         "Acer",
         "Chromebook C910-C2ST",
         "Notebook",
         199
        ],
        [
         296,
         "Asus",
         "FX753VD-GC071T (i7-7700HQ/8GB/1TB/GeForce",
         "Gaming",
         1187
        ],
        [
         297,
         "HP",
         "17-BS037cl (i3-6006U/8GB/1TB/W10)",
         "Notebook",
         489
        ],
        [
         298,
         "Dell",
         "XPS 15",
         "Notebook",
         1829
        ],
        [
         299,
         "Lenovo",
         "V330-15IKB (i5-8250U/8GB/256GB/FHD/W10)",
         "Notebook",
         739
        ],
        [
         300,
         "Lenovo",
         "Legion Y720-15IKB",
         "Gaming",
         1299
        ],
        [
         301,
         "Acer",
         "Aspire A715-71G",
         "Notebook",
         979
        ],
        [
         302,
         "Dell",
         "Precision 7720",
         "Workstation",
         2884.86
        ],
        [
         303,
         "Lenovo",
         "IdeaPad 310-15ABR",
         "Notebook",
         499
        ],
        [
         304,
         "Asus",
         "ZenBook UX530UQ-PRO",
         "Ultrabook",
         1468
        ],
        [
         305,
         "Asus",
         "VivoBook S14",
         "Notebook",
         509
        ],
        [
         306,
         "Asus",
         "Rog GL702VS-GC095T",
         "Gaming",
         2122
        ],
        [
         307,
         "Lenovo",
         "IdeaPad 320-17IKB",
         "Notebook",
         649
        ],
        [
         308,
         "Lenovo",
         "IdeaPad 320-15IKBN",
         "Notebook",
         549
        ],
        [
         309,
         "Asus",
         "GL553VE-FY082T (i7-7700HQ/8GB/1TB",
         "Gaming",
         1265
        ],
        [
         310,
         "Lenovo",
         "IdeaPad 320-15IAP",
         "Notebook",
         359.99
        ],
        [
         311,
         "HP",
         "EliteBook x360",
         "2 in 1 Convertible",
         1975
        ],
        [
         312,
         "Toshiba",
         "Satellite Pro",
         "Notebook",
         1043
        ],
        [
         313,
         "Lenovo",
         "IdeaPad 320-15IKB",
         "Notebook",
         819
        ],
        [
         314,
         "HP",
         "250 G6",
         "Notebook",
         469
        ],
        [
         315,
         "Lenovo",
         "IdeaPad 720S-13IKB",
         "Notebook",
         999
        ],
        [
         316,
         "Dell",
         "XPS 13",
         "Ultrabook",
         2499
        ],
        [
         317,
         "MSI",
         "GE63VR 7RF",
         "Gaming",
         2099
        ],
        [
         318,
         "Acer",
         "ES1-523-84K7 (A8-7410/8GB/256GB/FHD/W10)",
         "Notebook",
         469
        ],
        [
         319,
         "Asus",
         "VivoBook Flip",
         "2 in 1 Convertible",
         275
        ],
        [
         320,
         "Dell",
         "Inspiron 5570",
         "Notebook",
         844
        ],
        [
         321,
         "HP",
         "Spectre x360",
         "2 in 1 Convertible",
         2449
        ],
        [
         322,
         "Lenovo",
         "ThinkPad 13",
         "Notebook",
         459.9
        ],
        [
         323,
         "HP",
         "ProBook 640",
         "Notebook",
         980
        ],
        [
         324,
         "Acer",
         "TravelMate B",
         "Notebook",
         485
        ],
        [
         325,
         "HP",
         "Elitebook 840",
         "Notebook",
         1292
        ],
        [
         326,
         "Lenovo",
         "IdeaPad 320-17IKB",
         "Notebook",
         589
        ],
        [
         327,
         "Asus",
         "ZenBook UX410UA-GV183T",
         "Notebook",
         1094
        ],
        [
         329,
         "HP",
         "ProBook 450",
         "Notebook",
         902
        ],
        [
         330,
         "Acer",
         "Aspire 5",
         "Notebook",
         659
        ],
        [
         331,
         "Lenovo",
         "IdeaPad 120S-14IAP",
         "Notebook",
         292
        ],
        [
         332,
         "Acer",
         "Aspire E5-575",
         "Notebook",
         549
        ],
        [
         333,
         "Asus",
         "VivoBook S15",
         "Ultrabook",
         1049.9
        ],
        [
         334,
         "HP",
         "Elitebook 820",
         "Ultrabook",
         1335
        ],
        [
         335,
         "Dell",
         "XPS 15",
         "Notebook",
         2639
        ],
        [
         336,
         "MSI",
         "GL72M 7REX",
         "Gaming",
         1199
        ],
        [
         337,
         "Toshiba",
         "Satellite Pro",
         "Notebook",
         943
        ],
        [
         338,
         "Asus",
         "UX510UX-CN269T (i7-7500U/8GB/256GB",
         "Notebook",
         1334
        ],
        [
         339,
         "Lenovo",
         "V310-15ISK (i3-6006U/4GB/1TB/FHD/W10)",
         "Notebook",
         449
        ],
        [
         340,
         "Asus",
         "FX553VD-FY647T (i7-7700HQ/8GB/256GB/GeForce",
         "Gaming",
         999
        ],
        [
         341,
         "HP",
         "EliteBook 840",
         "Notebook",
         1268
        ],
        [
         342,
         "Dell",
         "Inspiron 7570",
         "Ultrabook",
         1049
        ],
        [
         343,
         "HP",
         "Elitebook 850",
         "Notebook",
         1144
        ],
        [
         344,
         "Asus",
         "X541NA (N3350/4GB/1TB/Linux)",
         "Notebook",
         274.99
        ],
        [
         345,
         "Dell",
         "Inspiron 7570",
         "Notebook",
         1142.75
        ],
        [
         346,
         "Dell",
         "Inspiron 3552",
         "Notebook",
         274.9
        ],
        [
         347,
         "Lenovo",
         "IdeaPad 320-15ABR",
         "Notebook",
         899
        ],
        [
         348,
         "HP",
         "ProBook 450",
         "Notebook",
         716
        ],
        [
         349,
         "Lenovo",
         "Yoga 920-13IKB",
         "2 in 1 Convertible",
         2099
        ],
        [
         350,
         "Dell",
         "XPS 13",
         "Ultrabook",
         1579
        ],
        [
         351,
         "Lenovo",
         "Legion Y520-15IKBN",
         "Gaming",
         1129
        ],
        [
         352,
         "HP",
         "Stream 14-AX001nv",
         "Notebook",
         279
        ],
        [
         353,
         "Dell",
         "Latitude 5590",
         "Ultrabook",
         1607.96
        ],
        [
         354,
         "Asus",
         "VivoBook Flip",
         "2 in 1 Convertible",
         375
        ],
        [
         355,
         "Dell",
         "Inspiron 5570",
         "Ultrabook",
         663
        ],
        [
         356,
         "Dell",
         "XPS 15",
         "Notebook",
         2027.42
        ],
        [
         357,
         "HP",
         "Elitebook 850",
         "Notebook",
         1304
        ],
        [
         358,
         "MSI",
         "GP72MVR 7RFX",
         "Gaming",
         1409
        ],
        [
         359,
         "HP",
         "Zbook 15",
         "Workstation",
         1738.27
        ],
        [
         360,
         "Toshiba",
         "Tecra A50-C-21G",
         "Notebook",
         1403
        ],
        [
         361,
         "Dell",
         "Inspiron 5570",
         "Notebook",
         970.9
        ],
        [
         362,
         "Lenovo",
         "IdeaPad 320-15IAP",
         "Notebook",
         321.99
        ],
        [
         363,
         "Dell",
         "Inspiron 7577",
         "Gaming",
         999
        ],
        [
         364,
         "Dell",
         "Inspiron 3567",
         "Notebook",
         557.37
        ],
        [
         365,
         "Dell",
         "Latitude 7480",
         "Notebook",
         1427
        ],
        [
         366,
         "HP",
         "250 G6",
         "Notebook",
         439
        ],
        [
         367,
         "Asus",
         "Zenbook UX410UA-GV027T",
         "Notebook",
         945
        ],
        [
         368,
         "Lenovo",
         "IdeaPad 320-17IKB",
         "Notebook",
         719
        ],
        [
         369,
         "HP",
         "250 G6",
         "Notebook",
         639
        ],
        [
         370,
         "Lenovo",
         "IdeaPad 320-15ISK",
         "Notebook",
         499
        ],
        [
         371,
         "HP",
         "15-AY023na (N3710/8GB/2TB/W10)",
         "Notebook",
         389
        ],
        [
         372,
         "Dell",
         "Inspiron 5770",
         "Notebook",
         1085
        ],
        [
         373,
         "Lenovo",
         "Legion Y520-15IKBN",
         "Gaming",
         809
        ],
        [
         374,
         "Dell",
         "Inspiron 5567",
         "Notebook",
         899
        ],
        [
         375,
         "HP",
         "Elitebook 1040",
         "Ultrabook",
         1750
        ],
        [
         376,
         "Asus",
         "ZenBook Flip",
         "2 in 1 Convertible",
         1099
        ],
        [
         377,
         "Acer",
         "Aspire 3",
         "Notebook",
         426
        ],
        [
         378,
         "Asus",
         "Rog Strix",
         "Gaming",
         2199
        ],
        [
         379,
         "Lenovo",
         "IdeaPad 110-17ACL",
         "Notebook",
         489
        ],
        [
         380,
         "Dell",
         "Inspiron 5379",
         "2 in 1 Convertible",
         869.01
        ],
        [
         381,
         "HP",
         "15-bw003nv (A9-Series-9420/4GB/256GB/FHD/W10)",
         "Notebook",
         488.99
        ],
        [
         382,
         "Lenovo",
         "Yoga 11e",
         "Netbook",
         553
        ],
        [
         383,
         "Dell",
         "Inspiron 3552",
         "Notebook",
         309
        ],
        [
         384,
         "Asus",
         "VivoBook E403NA",
         "Notebook",
         286
        ],
        [
         385,
         "Acer",
         "Aspire 7",
         "Notebook",
         846
        ],
        [
         386,
         "HP",
         "Omen 17-w212nv",
         "Gaming",
         1191
        ],
        [
         387,
         "Lenovo",
         "V310-15ISK (i3-6006U/4GB/128GB/FHD/No",
         "Notebook",
         403.5
        ],
        [
         388,
         "Asus",
         "ROG Strix",
         "Gaming",
         1655
        ],
        [
         389,
         "Lenovo",
         "IdeaPad 720S-14IKB",
         "Notebook",
         1099
        ],
        [
         390,
         "Asus",
         "Zenbook Flip",
         "Ultrabook",
         1748.9
        ],
        [
         391,
         "Lenovo",
         "Thinkpad X1",
         "Ultrabook",
         2282
        ],
        [
         392,
         "Lenovo",
         "Ideapad 510S-13IKB",
         "Notebook",
         549
        ],
        [
         393,
         "Dell",
         "Precision 3510",
         "Workstation",
         1369
        ],
        [
         394,
         "Dell",
         "Precision 5520",
         "Workstation",
         2135
        ],
        [
         395,
         "Lenovo",
         "ThinkPad X1",
         "2 in 1 Convertible",
         2509
        ],
        [
         396,
         "Asus",
         "Rog GL753VD-GC042T",
         "Gaming",
         1039
        ],
        [
         397,
         "Asus",
         "Rog GL753VE-GC070T",
         "Gaming",
         1591
        ],
        [
         399,
         "Acer",
         "Aspire 5",
         "Notebook",
         693.99
        ],
        [
         400,
         "MSI",
         "Leopard GP72M",
         "Gaming",
         1349
        ],
        [
         401,
         "Dell",
         "Inspiron 5567",
         "Notebook",
         778.87
        ],
        [
         402,
         "HP",
         "15-BW004nv (A9-9420/4GB/256GB/Radeon",
         "Ultrabook",
         499
        ],
        [
         403,
         "Lenovo",
         "ThinkPad E580",
         "Notebook",
         1229.56
        ],
        [
         404,
         "Lenovo",
         "ThinkPad L470",
         "Notebook",
         938
        ],
        [
         405,
         "Dell",
         "Precision M5520",
         "Workstation",
         2712
        ],
        [
         406,
         "Lenovo",
         "Thinkpad X1",
         "Ultrabook",
         2625
        ],
        [
         407,
         "Lenovo",
         "IdeaPad 320-15IAP",
         "Notebook",
         306
        ],
        [
         408,
         "Asus",
         "FX753VD-GC461T (i7-7700HQ/16GB/1TB",
         "Gaming",
         1529
        ],
        [
         409,
         "Lenovo",
         "ThinkPad E580",
         "Notebook",
         1144.5
        ],
        [
         410,
         "Acer",
         "Aspire 7",
         "Notebook",
         879
        ],
        [
         411,
         "MSI",
         "GE73VR 7RF",
         "Gaming",
         2249
        ],
        [
         412,
         "Asus",
         "Zenbook 3",
         "Ultrabook",
         1873
        ],
        [
         413,
         "Toshiba",
         "Portege Z30-C-16P",
         "Ultrabook",
         1747
        ],
        [
         414,
         "Dell",
         "Latitude 7480",
         "Ultrabook",
         1680
        ],
        [
         415,
         "Lenovo",
         "IdeaPad 320-15ISK",
         "Notebook",
         409
        ],
        [
         416,
         "Lenovo",
         "Lenovo IdeaPad",
         "Notebook",
         304.45
        ],
        [
         417,
         "Lenovo",
         "ThinkPad P51",
         "Workstation",
         1925
        ],
        [
         418,
         "Lenovo",
         "Thinkpad T470p",
         "Ultrabook",
         1943
        ],
        [
         419,
         "HP",
         "15-BS028nv (i3-6006U/4GB/1TB/Radeon",
         "Notebook",
         469
        ],
        [
         420,
         "Acer",
         "Aspire R7",
         "2 in 1 Convertible",
         789.01
        ],
        [
         421,
         "Asus",
         "ZenBook Flip",
         "2 in 1 Convertible",
         928
        ],
        [
         422,
         "Dell",
         "Inspiron 3567",
         "Notebook",
         598.9
        ],
        [
         423,
         "Dell",
         "Latitude 3380",
         "Notebook",
         689
        ],
        [
         424,
         "HP",
         "EliteBook 1040",
         "Ultrabook",
         1500
        ],
        [
         425,
         "Dell",
         "Inspiron 3567",
         "Notebook",
         539.95
        ],
        [
         426,
         "Lenovo",
         "ThinkPad E480",
         "Ultrabook",
         1215.38
        ],
        [
         427,
         "Lenovo",
         "Yoga 720-15IKB",
         "2 in 1 Convertible",
         1899
        ],
        [
         428,
         "Chuwi",
         "LapBook 12.3",
         "Notebook",
         449
        ],
        [
         429,
         "HP",
         "ProBook 650",
         "Notebook",
         1427
        ],
        [
         430,
         "Asus",
         "X542UQ-DM117 (i3-7100U/8GB/1TB/GeForce",
         "Notebook",
         597
        ],
        [
         431,
         "Dell",
         "Alienware 17",
         "Gaming",
         2799
        ],
        [
         432,
         "Dell",
         "Inspiron 7577",
         "Gaming",
         1159
        ],
        [
         433,
         "Dell",
         "Inspiron 5570",
         "Notebook",
         1142.4
        ],
        [
         434,
         "Dell",
         "Latitude 5480",
         "Ultrabook",
         1099
        ],
        [
         435,
         "HP",
         "Omen 17-w207nv",
         "Gaming",
         1999
        ],
        [
         436,
         "Mediacom",
         "FlexBook Edge",
         "2 in 1 Convertible",
         299
        ],
        [
         437,
         "Samsung",
         "Chromebook 3",
         "Netbook",
         269
        ],
        [
         438,
         "Lenovo",
         "Thinkpad 13",
         "Notebook",
         1010
        ],
        [
         439,
         "Lenovo",
         "IdeaPad 320s-14IKB",
         "Notebook",
         599
        ],
        [
         440,
         "Lenovo",
         "Thinkpad T570",
         "Workstation",
         2445
        ],
        [
         441,
         "Lenovo",
         "Thinkpad P51",
         "Notebook",
         2449
        ],
        [
         442,
         "Asus",
         "Rog Strix",
         "Gaming",
         1695
        ],
        [
         443,
         "HP",
         "15-ra044nv (N3060/4GB/500GB/W10)",
         "Notebook",
         347
        ],
        [
         444,
         "Google",
         "Pixelbook (Core",
         "Ultrabook",
         2199
        ],
        [
         445,
         "Lenovo",
         "ThinkPad T470s",
         "Ultrabook",
         2382
        ],
        [
         446,
         "Asus",
         "VivoBook Max",
         "Notebook",
         559
        ],
        [
         447,
         "Lenovo",
         "IdeaPad 320-15AST",
         "Notebook",
         519
        ],
        [
         448,
         "Dell",
         "Inspiron 5570",
         "Notebook",
         749
        ],
        [
         449,
         "Lenovo",
         "ThinkPad X270",
         "Ultrabook",
         1429
        ],
        [
         450,
         "Lenovo",
         "IdeaPad 320-15IAP",
         "Notebook",
         349
        ],
        [
         451,
         "HP",
         "Omen 15-AX205na",
         "Gaming",
         1099
        ],
        [
         452,
         "Dell",
         "Latitude 5480",
         "Notebook",
         1179
        ],
        [
         453,
         "Acer",
         "Aspire ES1-572",
         "Notebook",
         441.8
        ],
        [
         454,
         "Dell",
         "Precision 3520",
         "Workstation",
         1993
        ],
        [
         455,
         "MSI",
         "GV62 7RD-1686NL",
         "Gaming",
         1027.74
        ],
        [
         456,
         "Microsoft",
         "Surface Laptop",
         "Ultrabook",
         2589
        ],
        [
         457,
         "HP",
         "15-bs024nv (i5-7200U/8GB/128GB/W10)",
         "Notebook",
         589
        ],
        [
         458,
         "Dell",
         "Precision 3520",
         "Workstation",
         1975
        ],
        [
         459,
         "HP",
         "ProBook 650",
         "Workstation",
         1534
        ],
        [
         460,
         "Lenovo",
         "ThinkPad T470",
         "Notebook",
         1345
        ],
        [
         461,
         "Dell",
         "Inspiron 5570",
         "Notebook",
         979
        ],
        [
         462,
         "Dell",
         "Inspiron 3168",
         "2 in 1 Convertible",
         479
        ],
        [
         463,
         "Dell",
         "Alienware 17",
         "Notebook",
         2046
        ],
        [
         464,
         "Microsoft",
         "Surface Laptop",
         "Ultrabook",
         989
        ],
        [
         465,
         "Microsoft",
         "Surface Laptop",
         "Ultrabook",
         1799
        ],
        [
         466,
         "HP",
         "17-BS092ND (i3-6006U/8GB/256GB/W10)",
         "Notebook",
         639.9
        ],
        [
         467,
         "Acer",
         "Aspire E5-576G",
         "Notebook",
         544
        ],
        [
         468,
         "Acer",
         "TravelMate B",
         "Netbook",
         435
        ],
        [
         469,
         "Asus",
         "Pro P2540UA-AB51",
         "Notebook",
         749
        ],
        [
         470,
         "Lenovo",
         "IdeaPad 510s-14IKB",
         "Notebook",
         799
        ],
        [
         471,
         "Lenovo",
         "Thinkpad P51",
         "Notebook",
         2090
        ],
        [
         472,
         "Asus",
         "X541NA-PD1003Y (N4200/4GB/500GB/W10)",
         "Notebook",
         304
        ],
        [
         473,
         "Acer",
         "Aspire 5",
         "Notebook",
         469
        ],
        [
         474,
         "Dell",
         "Inspiron 5570",
         "Notebook",
         759
        ],
        [
         475,
         "HP",
         "Omen 17-an006nv",
         "Gaming",
         1699
        ],
        [
         476,
         "Lenovo",
         "Thinkpad T460s",
         "Ultrabook",
         1858
        ],
        [
         477,
         "HP",
         "Spectre x360",
         "2 in 1 Convertible",
         1999
        ],
        [
         478,
         "HP",
         "ZBook 15u",
         "Notebook",
         1154
        ],
        [
         479,
         "Google",
         "Pixelbook (Core",
         "Ultrabook",
         1275
        ],
        [
         480,
         "Dell",
         "Latitude 7390",
         "Ultrabook",
         1841.85
        ],
        [
         481,
         "Asus",
         "ZenBook Pro",
         "Notebook",
         1299
        ],
        [
         482,
         "Dell",
         "Latitude E5470",
         "Notebook",
         740
        ],
        [
         483,
         "Dell",
         "Precision M5520",
         "Workstation",
         2408
        ],
        [
         484,
         "Lenovo",
         "Thinkpad T470",
         "Notebook",
         1364
        ],
        [
         485,
         "Dell",
         "Inspiron 3576",
         "Notebook",
         675
        ],
        [
         486,
         "Toshiba",
         "Portege X30-D-10J",
         "Notebook",
         1672
        ],
        [
         487,
         "Dell",
         "Inspiron 7570",
         "Notebook",
         1262
        ],
        [
         488,
         "Dell",
         "Vostro 3568",
         "Notebook",
         586.6
        ],
        [
         489,
         "HP",
         "ProBook 430",
         "Notebook",
         726
        ],
        [
         490,
         "Chuwi",
         "Lapbook 15,6",
         "Notebook",
         248.9
        ],
        [
         491,
         "Lenovo",
         "ThinkPad E570",
         "Notebook",
         565
        ],
        [
         492,
         "Lenovo",
         "ThinkPad E480",
         "Notebook",
         1049
        ],
        [
         493,
         "Dell",
         "Precision 3520",
         "Workstation",
         2338
        ],
        [
         494,
         "Dell",
         "XPS 15",
         "Notebook",
         1899
        ],
        [
         495,
         "Lenovo",
         "Thinkpad X270",
         "Ultrabook",
         1798
        ],
        [
         496,
         "Asus",
         "Zenbook UX390UA",
         "Ultrabook",
         1950
        ],
        [
         497,
         "Lenovo",
         "Thinkpad E570",
         "Notebook",
         1011.99
        ],
        [
         498,
         "Toshiba",
         "Portege X30-D-10L",
         "Ultrabook",
         2799
        ],
        [
         499,
         "Asus",
         "VivoBook Pro",
         "Gaming",
         1350
        ],
        [
         500,
         "Acer",
         "Aspire 5",
         "Notebook",
         579
        ],
        [
         501,
         "Asus",
         "Rog G752VL-UH71T",
         "Gaming",
         1269
        ],
        [
         502,
         "Lenovo",
         "Thinkpad X260",
         "Ultrabook",
         1099
        ],
        [
         503,
         "Lenovo",
         "Ideapad 520-15IKBR",
         "Notebook",
         898.9
        ],
        [
         504,
         "HP",
         "EliteBook 840",
         "Notebook",
         1749
        ],
        [
         505,
         "Lenovo",
         "ThinkPad 13",
         "Notebook",
         949
        ],
        [
         506,
         "Lenovo",
         "ThinkPad L570",
         "Notebook",
         911
        ],
        [
         507,
         "Asus",
         "VivoBook E201NA",
         "Netbook",
         340
        ],
        [
         508,
         "HP",
         "15-BS026nv (i5-7200U/8GB/256GB/Radeon",
         "Notebook",
         618.99
        ],
        [
         509,
         "Lenovo",
         "Yoga 920-13IKB",
         "2 in 1 Convertible",
         1599
        ],
        [
         510,
         "Lenovo",
         "IdeaPad 320-14IAP",
         "Notebook",
         299
        ],
        [
         511,
         "Lenovo",
         "Chromebook N23",
         "Netbook",
         265
        ],
        [
         512,
         "Lenovo",
         "ThinkPad 13",
         "Notebook",
         949
        ],
        [
         513,
         "Asus",
         "ZenBook UX510UX-CN211T",
         "Notebook",
         1224
        ],
        [
         514,
         "Acer",
         "Aspire A515-51G-59QF",
         "Notebook",
         613
        ],
        [
         515,
         "HP",
         "Envy 13-AB002nv",
         "Ultrabook",
         1323
        ],
        [
         516,
         "Lenovo",
         "Legion Y520-15IKBN",
         "Gaming",
         1149
        ],
        [
         517,
         "Dell",
         "XPS 13",
         "Ultrabook",
         899
        ],
        [
         518,
         "Acer",
         "Aspire A515-51G",
         "Notebook",
         639
        ],
        [
         519,
         "Dell",
         "Vostro 5568",
         "Notebook",
         836
        ],
        [
         520,
         "Dell",
         "Inspiron 5570",
         "Notebook",
         1219.24
        ],
        [
         521,
         "Xiaomi",
         "Mi Notebook",
         "Notebook",
         1399.95
        ],
        [
         522,
         "Asus",
         "VivoBook E12",
         "Netbook",
         245
        ],
        [
         523,
         "HP",
         "15-bs190od (i5-8250U/4GB/1TB/W10)",
         "Notebook",
         521.47
        ],
        [
         524,
         "Asus",
         "ROG Zephyrus",
         "Gaming",
         2968
        ],
        [
         525,
         "HP",
         "Probook 450",
         "Notebook",
         889
        ],
        [
         526,
         "Asus",
         "FX753VE-GC155T (i7-7700HQ/16GB/1TB",
         "Gaming",
         1504
        ],
        [
         527,
         "Lenovo",
         "Legion Y720-15IKB",
         "Gaming",
         1399
        ],
        [
         528,
         "HP",
         "Spectre X360",
         "Ultrabook",
         1399
        ],
        [
         529,
         "Dell",
         "Latitude 5480",
         "Notebook",
         1279.73
        ],
        [
         530,
         "HP",
         "ProBook 440",
         "Notebook",
         689
        ],
        [
         531,
         "Dell",
         "Inspiron 5770",
         "Notebook",
         889
        ],
        [
         532,
         "Lenovo",
         "ThinkPad L470",
         "Notebook",
         1340
        ],
        [
         533,
         "Lenovo",
         "IdeaPad 320-15IKB",
         "Notebook",
         799
        ],
        [
         534,
         "Lenovo",
         "IdeaPad 320-15ISK",
         "Notebook",
         459
        ],
        [
         535,
         "Dell",
         "Inspiron 3567",
         "Notebook",
         585
        ],
        [
         536,
         "Dell",
         "Latitude 5580",
         "Notebook",
         1377
        ],
        [
         537,
         "Dell",
         "Alienware 17",
         "Gaming",
         3012.77
        ],
        [
         538,
         "Toshiba",
         "Satellite Pro",
         "Notebook",
         860
        ],
        [
         539,
         "Asus",
         "Zenbook UX510UW-FI095T",
         "Notebook",
         1299
        ],
        [
         540,
         "Mediacom",
         "SmartBook Edge",
         "Notebook",
         369
        ],
        [
         541,
         "Asus",
         "ROG Strix",
         "Gaming",
         1649
        ],
        [
         542,
         "Dell",
         "Latitude 5580",
         "Notebook",
         1369
        ],
        [
         543,
         "Dell",
         "Inspiron 5570",
         "Notebook",
         797.41
        ],
        [
         544,
         "HP",
         "250 G6",
         "Notebook",
         398.99
        ],
        [
         545,
         "HP",
         "Omen 15-ce006nv",
         "Gaming",
         1799
        ],
        [
         546,
         "Lenovo",
         "Thinkpad E470",
         "Notebook",
         859
        ],
        [
         547,
         "Dell",
         "XPS 13",
         "Ultrabook",
         1399
        ],
        [
         548,
         "Dell",
         "Vostro 5468",
         "Notebook",
         735.87
        ],
        [
         549,
         "HP",
         "Envy 13-AB020nr",
         "Ultrabook",
         1145
        ],
        [
         550,
         "Acer",
         "Aspire 7",
         "Gaming",
         798
        ],
        [
         551,
         "Asus",
         "VivoBook X540YA-XX519T",
         "Notebook",
         349
        ],
        [
         552,
         "HP",
         "ProBook 450",
         "Notebook",
         705.5
        ],
        [
         553,
         "Lenovo",
         "ThinkPad E470",
         "Notebook",
         785
        ],
        [
         554,
         "Lenovo",
         "V310-15ISK (i5-6200U/4GB/1TB/FHD/No",
         "Notebook",
         462.35
        ],
        [
         555,
         "HP",
         "250 G6",
         "Notebook",
         397
        ],
        [
         556,
         "Lenovo",
         "ThinkPad T570",
         "Notebook",
         1729
        ],
        [
         557,
         "Lenovo",
         "IdeaPad 320-15ISK",
         "Notebook",
         499
        ],
        [
         558,
         "Dell",
         "Latitude 5580",
         "Notebook",
         1116.99
        ],
        [
         559,
         "Dell",
         "Alienware 17",
         "Gaming",
         2699
        ],
        [
         560,
         "HP",
         "17-X047na (i3-6006U/8GB/1TB/W10)",
         "Notebook",
         544.15
        ],
        [
         561,
         "HP",
         "ProBook 470",
         "Notebook",
         1280
        ],
        [
         562,
         "Asus",
         "A541NA-GO342 (N3350/4GB/500GB/Linux)",
         "Notebook",
         224
        ],
        [
         563,
         "Mediacom",
         "SmartBook 130",
         "Notebook",
         255
        ],
        [
         564,
         "Lenovo",
         "IdeaPad 320-17IKB",
         "Notebook",
         949
        ],
        [
         565,
         "HP",
         "15-bw007nv (A10-9620P/6GB/128GB/Radeon",
         "Notebook",
         568.9
        ],
        [
         566,
         "Dell",
         "Vostro 3568",
         "Notebook",
         617.9
        ],
        [
         567,
         "Acer",
         "Spin SP111-31",
         "2 in 1 Convertible",
         349
        ],
        [
         568,
         "Lenovo",
         "V330-15IKB (i3-7130U/4GB/128GB/FHD/W10)",
         "Notebook",
         630
        ],
        [
         569,
         "HP",
         "EliteBook 1030",
         "Ultrabook",
         1965
        ],
        [
         570,
         "Lenovo",
         "Thinkpad P71",
         "Notebook",
         2999
        ],
        [
         571,
         "Asus",
         "FX553VD-DM627T (i5-7300HQ/8GB/1TB",
         "Notebook",
         839
        ],
        [
         572,
         "Dell",
         "XPS 13",
         "Ultrabook",
         1599
        ],
        [
         573,
         "Dell",
         "Latitude 5580",
         "Notebook",
         959
        ],
        [
         574,
         "Fujitsu",
         "Lifebook A557",
         "Notebook",
         739
        ],
        [
         575,
         "Lenovo",
         "IdeaPad 320-15IAP",
         "Notebook",
         344
        ],
        [
         576,
         "Lenovo",
         "ThinkPad L470",
         "Notebook",
         990
        ],
        [
         577,
         "HP",
         "ZBook 17",
         "Workstation",
         1860.99
        ],
        [
         578,
         "HP",
         "14-am079na (N3710/8GB/2TB/W10)",
         "Notebook",
         389
        ],
        [
         579,
         "HP",
         "15-cd005nv (A9-9420/6GB/256GB/Radeon",
         "Notebook",
         649
        ],
        [
         580,
         "Lenovo",
         "Thinkpad E570",
         "Notebook",
         830
        ],
        [
         581,
         "Lenovo",
         "V330-15IKB (i5-8250U/4GB/500GB/FHD/W10)",
         "Notebook",
         685
        ],
        [
         582,
         "Mediacom",
         "SmartBook 141",
         "Notebook",
         249
        ],
        [
         583,
         "Toshiba",
         "Tecra X40-D-10H",
         "Ultrabook",
         1865
        ],
        [
         584,
         "Lenovo",
         "IdeaPad Y910-17ISK",
         "Gaming",
         2663
        ],
        [
         585,
         "MSI",
         "GT73VR Titan",
         "Gaming",
         2729
        ],
        [
         586,
         "Dell",
         "Inspiron 3567",
         "Notebook",
         749.01
        ],
        [
         587,
         "Mediacom",
         "SmartBook Edge",
         "Notebook",
         389
        ],
        [
         588,
         "Dell",
         "Latitude 5580",
         "Notebook",
         1008.52
        ],
        [
         589,
         "HP",
         "ProBook 430",
         "Notebook",
         719
        ],
        [
         590,
         "Dell",
         "Latitude 5580",
         "Notebook",
         1537.39
        ],
        [
         591,
         "Dell",
         "Chromebook 11",
         "Netbook",
         295
        ],
        [
         592,
         "MSI",
         "GT80S 6QE",
         "Gaming",
         2349
        ],
        [
         593,
         "HP",
         "Omen 17-AN010nv",
         "Gaming",
         1498
        ],
        [
         594,
         "Lenovo",
         "Thinkpad T460s",
         "Ultrabook",
         1673
        ],
        [
         595,
         "Lenovo",
         "Ideapad 320-15IKBR",
         "Notebook",
         609
        ],
        [
         596,
         "Asus",
         "ROG Strix",
         "Gaming",
         1770
        ],
        [
         597,
         "Asus",
         "TP501UA-CJ131T (i5-7200U/8GB/1TB/W10)",
         "2 in 1 Convertible",
         739
        ],
        [
         598,
         "Lenovo",
         "IdeaPad 320-15ABR",
         "Notebook",
         949
        ],
        [
         599,
         "Dell",
         "Inspiron 3179",
         "2 in 1 Convertible",
         603
        ],
        [
         600,
         "Samsung",
         "Notebook Odyssey",
         "Notebook",
         1699
        ],
        [
         601,
         "Lenovo",
         "V320-17ISK (i3-6006U/4GB/500GB/FHD/No",
         "Notebook",
         529
        ],
        [
         602,
         "Lenovo",
         "IdeaPad 110-15ISK",
         "Notebook",
         459
        ],
        [
         603,
         "Lenovo",
         "ThinkPad Yoga",
         "2 in 1 Convertible",
         2025
        ],
        [
         604,
         "Lenovo",
         "Thinkpad T470p",
         "Notebook",
         1474
        ],
        [
         605,
         "Dell",
         "Latitude 5289",
         "2 in 1 Convertible",
         1670
        ],
        [
         606,
         "Dell",
         "Precision 3520",
         "Workstation",
         1763
        ],
        [
         607,
         "HP",
         "EliteBook 850",
         "Notebook",
         1219
        ],
        [
         608,
         "HP",
         "ProBook 450",
         "Notebook",
         668.48
        ],
        [
         609,
         "Acer",
         "Aspire 1",
         "Notebook",
         329
        ],
        [
         610,
         "MSI",
         "Laptop MSI",
         "Gaming",
         2199
        ],
        [
         611,
         "Dell",
         "Vostro 3568",
         "Notebook",
         465
        ],
        [
         612,
         "MSI",
         "GS63VR 7RF",
         "Gaming",
         2299
        ],
        [
         613,
         "Toshiba",
         "Tecra Z50-C-144",
         "Notebook",
         1399
        ],
        [
         614,
         "Lenovo",
         "IdeaPad 310-15IKB",
         "Notebook",
         564
        ],
        [
         615,
         "Lenovo",
         "Yoga 720-15IKB",
         "2 in 1 Convertible",
         1299
        ],
        [
         616,
         "Acer",
         "Swift SF114-31-P5HY",
         "Notebook",
         349
        ],
        [
         617,
         "Lenovo",
         "Thinkpad P51",
         "Notebook",
         4899
        ],
        [
         618,
         "Dell",
         "Inspiron 7559",
         "Gaming",
         879.01
        ],
        [
         619,
         "Dell",
         "Vostro 3568",
         "Notebook",
         443.9
        ],
        [
         620,
         "Dell",
         "Inspiron 3567",
         "Notebook",
         359
        ],
        [
         621,
         "Dell",
         "Latitude 5580",
         "Notebook",
         869
        ],
        [
         622,
         "Asus",
         "FX753VD-GC007T (i7-7700HQ/8GB/1TB",
         "Gaming",
         1168
        ],
        [
         623,
         "Dell",
         "Vostro 3568",
         "Notebook",
         569
        ],
        [
         624,
         "HP",
         "EliteBook 850",
         "Ultrabook",
         1389
        ],
        [
         625,
         "MSI",
         "GT62VR 7RE",
         "Gaming",
         2267.86
        ],
        [
         626,
         "Acer",
         "CB5-132T-C9KK (N3160/4GB/32GB/Chrome",
         "2 in 1 Convertible",
         379
        ],
        [
         627,
         "HP",
         "ProBook 650",
         "Notebook",
         1124
        ],
        [
         628,
         "Lenovo",
         "ThinkPad T470",
         "Notebook",
         1465
        ],
        [
         629,
         "Dell",
         "Inspiron 5570",
         "Notebook",
         776
        ],
        [
         630,
         "Fujitsu",
         "LifeBook A557",
         "Notebook",
         799
        ],
        [
         631,
         "HP",
         "EliteBook 850",
         "Notebook",
         932
        ],
        [
         632,
         "Lenovo",
         "IdeaPad 320-15IKB",
         "Notebook",
         899
        ],
        [
         633,
         "Mediacom",
         "SmartBook 140",
         "Notebook",
         239
        ],
        [
         634,
         "Lenovo",
         "IdeaPad 320-15IKBN",
         "Notebook",
         468
        ],
        [
         635,
         "Asus",
         "Q304UA-BHI5T11 (i5-7200U/6GB/1TB/FHD/W10)",
         "2 in 1 Convertible",
         639.01
        ],
        [
         636,
         "Dell",
         "XPS 15",
         "Notebook",
         1820
        ],
        [
         637,
         "Asus",
         "ZenBook 3",
         "Ultrabook",
         1900
        ],
        [
         639,
         "Dell",
         "Inspiron 7567",
         "Gaming",
         1479
        ],
        [
         640,
         "Lenovo",
         "V330-15IKB (i5-8250U/4GB/256GB/FHD/W10)",
         "Notebook",
         829
        ],
        [
         641,
         "Lenovo",
         "Ideapad 320-15ISK",
         "Notebook",
         579
        ],
        [
         642,
         "Asus",
         "X541NA-GO414T (N3350/8GB/1TB/W10)",
         "Notebook",
         399
        ],
        [
         643,
         "Asus",
         "VivoBook Pro",
         "Notebook",
         906.62
        ],
        [
         644,
         "Dell",
         "XPS 13",
         "Ultrabook",
         1869
        ],
        [
         645,
         "Lenovo",
         "IdeaPad 100S-14IBR",
         "Notebook",
         249
        ],
        [
         646,
         "Lenovo",
         "Thinkpad Yoga",
         "2 in 1 Convertible",
         1757.42
        ],
        [
         647,
         "Dell",
         "XPS 15",
         "Notebook",
         2399
        ],
        [
         648,
         "Lenovo",
         "Legion Y520-15IKBN",
         "Gaming",
         1109
        ],
        [
         649,
         "HP",
         "17-AK091ND (A9-9420/8GB/1TB/W10)",
         "Notebook",
         520.9
        ],
        [
         650,
         "Lenovo",
         "ThinkPad X1",
         "Ultrabook",
         2450
        ],
        [
         651,
         "Asus",
         "ROG GL553VE-FY022",
         "Gaming",
         1169
        ],
        [
         652,
         "Acer",
         "Extensa EX2540",
         "Notebook",
         450
        ],
        [
         653,
         "Lenovo",
         "IdeaPad 100S-14IBR",
         "Notebook",
         274
        ],
        [
         654,
         "Acer",
         "Swift 3",
         "Ultrabook",
         919
        ],
        [
         655,
         "Razer",
         "Blade Pro",
         "Gaming",
         2599
        ],
        [
         656,
         "Toshiba",
         "Portege Z30-C-16J",
         "Notebook",
         1213
        ],
        [
         657,
         "Lenovo",
         "Thinkpad X270",
         "Ultrabook",
         1584
        ],
        [
         658,
         "Asus",
         "ROG G701VI",
         "Gaming",
         2799
        ],
        [
         659,
         "Acer",
         "A715-71G-59DH (i5-7300HQ/8GB/1TB/GeForce",
         "Gaming",
         709
        ],
        [
         660,
         "Dell",
         "XPS 13",
         "Ultrabook",
         1449.9
        ],
        [
         661,
         "MSI",
         "GL62M 7REX",
         "Gaming",
         1191.8
        ],
        [
         662,
         "HP",
         "250 G6",
         "Notebook",
         364.9
        ],
        [
         663,
         "Toshiba",
         "Tecra A50-D-11M",
         "Notebook",
         1064
        ],
        [
         664,
         "Dell",
         "Inspiron 5570",
         "Notebook",
         919
        ],
        [
         665,
         "Dell",
         "Inspiron 5570",
         "Notebook",
         1135
        ],
        [
         666,
         "Lenovo",
         "IdeaPad Y700-15ISK",
         "Gaming",
         1196
        ],
        [
         667,
         "Dell",
         "Alienware 17",
         "Gaming",
         3147.37
        ],
        [
         668,
         "Dell",
         "Latitude E7470",
         "Notebook",
         1229
        ],
        [
         669,
         "Lenovo",
         "Ideapad 320-15IAP",
         "Notebook",
         419
        ],
        [
         670,
         "Lenovo",
         "IdeaPad 320-15ISK",
         "Notebook",
         535
        ],
        [
         671,
         "HP",
         "15-ay047nv (i3-6006U/6GB/1TB/Radeon",
         "Notebook",
         539
        ],
        [
         672,
         "MSI",
         "GP72VR Leopard",
         "Gaming",
         1486.77
        ],
        [
         673,
         "Toshiba",
         "Satellite Pro",
         "Notebook",
         498
        ],
        [
         674,
         "Dell",
         "Latitude 3580",
         "Notebook",
         955
        ],
        [
         675,
         "HP",
         "15-bs012nv (i7-7500U/8GB/1TB/Radeon",
         "Notebook",
         745
        ],
        [
         676,
         "Toshiba",
         "Tecra Z50-D-10E",
         "Notebook",
         1258
        ],
        [
         677,
         "Acer",
         "Aspire 3",
         "Notebook",
         412
        ],
        [
         678,
         "Microsoft",
         "Surface Laptop",
         "Ultrabook",
         1867.85
        ],
        [
         679,
         "Lenovo",
         "V310-15ISK (i5-7200U/8GB/1TB",
         "Notebook",
         817.95
        ],
        [
         680,
         "Lenovo",
         "Yoga 720-13IKB",
         "2 in 1 Convertible",
         1034
        ],
        [
         681,
         "Lenovo",
         "IdeaPad 320-15AST",
         "Notebook",
         349
        ],
        [
         682,
         "HP",
         "Pavilion X360",
         "2 in 1 Convertible",
         699
        ],
        [
         683,
         "MSI",
         "GP62 7RDX",
         "Gaming",
         1294
        ],
        [
         684,
         "Asus",
         "Zenbook 3",
         "Ultrabook",
         1135
        ],
        [
         685,
         "HP",
         "Chromebook X360",
         "2 in 1 Convertible",
         495
        ],
        [
         686,
         "LG",
         "Gram 15Z975",
         "Ultrabook",
         2299
        ],
        [
         687,
         "Acer",
         "Aspire VX5-591G",
         "Gaming",
         1299
        ],
        [
         688,
         "MSI",
         "GV62M 7RD",
         "Gaming",
         997.9
        ],
        [
         689,
         "Asus",
         "L502NA-GO052T (N3350/4GB/128GB/W10)",
         "Notebook",
         419
        ],
        [
         690,
         "Dell",
         "Alienware 15",
         "Gaming",
         2051
        ],
        [
         691,
         "HP",
         "17-bs000nv I3",
         "Notebook",
         699
        ],
        [
         692,
         "Lenovo",
         "Yoga 730",
         "2 in 1 Convertible",
         1499
        ],
        [
         693,
         "Dell",
         "Alienware 15",
         "Gaming",
         2813.75
        ],
        [
         694,
         "HP",
         "250 G6",
         "Notebook",
         612.61
        ],
        [
         695,
         "Dell",
         "Inspiron 3567",
         "Notebook",
         545.67
        ],
        [
         696,
         "HP",
         "17-Y002nv (A10-9600P/6GB/2TB/Radeon",
         "Notebook",
         569
        ],
        [
         697,
         "Lenovo",
         "V110-15ISK (3855U/4GB/500GB/W10)",
         "Notebook",
         318
        ],
        [
         698,
         "Acer",
         "Chromebook 14",
         "Notebook",
         375
        ],
        [
         699,
         "Lenovo",
         "IdeaPad 520s-14IKB",
         "Notebook",
         699
        ],
        [
         700,
         "HP",
         "ZBook 17",
         "Workstation",
         1907.99
        ],
        [
         701,
         "Lenovo",
         "ThinkPad X1",
         "2 in 1 Convertible",
         2590
        ],
        [
         702,
         "Toshiba",
         "Satellite Pro",
         "Notebook",
         973
        ],
        [
         703,
         "Acer",
         "TravelMate B117-M",
         "Netbook",
         269
        ],
        [
         704,
         "Lenovo",
         "Yoga 910-13IKB",
         "2 in 1 Convertible",
         1749
        ],
        [
         705,
         "Asus",
         "Chromebook Flip",
         "2 in 1 Convertible",
         669
        ],
        [
         706,
         "Toshiba",
         "Portege Z30T-C-133",
         "Ultrabook",
         1877
        ],
        [
         707,
         "HP",
         "15-bs011nv (i7-7500U/4GB/500GB/Radeon",
         "Notebook",
         689
        ],
        [
         708,
         "Dell",
         "Inspiron 5577",
         "Gaming",
         819
        ],
        [
         709,
         "Lenovo",
         "IdeaPad 320-15AST",
         "Notebook",
         399
        ],
        [
         710,
         "Lenovo",
         "IdeaPad 320-15ABR",
         "Notebook",
         429
        ],
        [
         711,
         "Lenovo",
         "V310-15IKB (i5-7200U/4GB/1TB/FHD/W10)",
         "Notebook",
         621.45
        ],
        [
         712,
         "Lenovo",
         "V310-15ISK (i3-6006U/4GB/500GB/No",
         "Notebook",
         450
        ],
        [
         713,
         "Dell",
         "Vostro 5568",
         "Notebook",
         795
        ],
        [
         714,
         "Acer",
         "Spin 5",
         "2 in 1 Convertible",
         999
        ],
        [
         715,
         "Lenovo",
         "ThinkPad P51s",
         "Workstation",
         1855
        ],
        [
         716,
         "Lenovo",
         "Thinkpad T460p",
         "Notebook",
         1191
        ],
        [
         717,
         "HP",
         "17-ak002nv (A10-9620P/6GB/2TB/Radeon",
         "Notebook",
         655.01
        ],
        [
         718,
         "Lenovo",
         "Legion Y520-15IKBN",
         "Gaming",
         1249
        ],
        [
         719,
         "Dell",
         "Latitude 5480",
         "Notebook",
         1089
        ],
        [
         720,
         "Dell",
         "Vostro 5568",
         "Notebook",
         726
        ],
        [
         721,
         "Asus",
         "VivoBook E403NA",
         "Notebook",
         298
        ],
        [
         722,
         "Dell",
         "Latitude 5580",
         "Notebook",
         1426.66
        ],
        [
         723,
         "Lenovo",
         "Thinkpad E470",
         "Notebook",
         857.07
        ],
        [
         724,
         "Dell",
         "Latitude 5580",
         "Notebook",
         1179
        ],
        [
         725,
         "Lenovo",
         "110-15ACL (A6-7310/4GB/500GB/W10)",
         "Notebook",
         298
        ],
        [
         726,
         "Mediacom",
         "Smartbook 142",
         "Notebook",
         265
        ],
        [
         727,
         "HP",
         "ProBook 470",
         "Notebook",
         1200
        ],
        [
         728,
         "Lenovo",
         "ThinkPad X1",
         "Ultrabook",
         1686.64
        ],
        [
         729,
         "HP",
         "Pavilion X360",
         "2 in 1 Convertible",
         836.6
        ],
        [
         730,
         "Lenovo",
         "ThinkPad T470s",
         "Ultrabook",
         1499
        ],
        [
         731,
         "Dell",
         "Alienware 17",
         "Gaming",
         3659.4
        ],
        [
         732,
         "MSI",
         "GL72M 7REX",
         "Gaming",
         1348.48
        ],
        [
         733,
         "Lenovo",
         "V310-15IKB (i5-7200U/4GB/1TB/No",
         "Notebook",
         489.9
        ],
        [
         734,
         "Dell",
         "Inspiron 5570",
         "Notebook",
         719
        ],
        [
         735,
         "Dell",
         "Inspiron 5378",
         "2 in 1 Convertible",
         649
        ],
        [
         736,
         "Dell",
         "Inspiron 5567",
         "Notebook",
         589.52
        ],
        [
         737,
         "HP",
         "15-BW037na (A9-9420/4GB/1TB/Radeon",
         "Notebook",
         489
        ],
        [
         738,
         "Acer",
         "Predator 17",
         "Gaming",
         1935
        ],
        [
         739,
         "Dell",
         "Inspiron 3567",
         "Notebook",
         649
        ],
        [
         740,
         "HP",
         "15-BW091ND (A9-9420/6GB/1TB",
         "Notebook",
         650
        ],
        [
         741,
         "Acer",
         "Extensa EX2540-58KR",
         "Notebook",
         559
        ],
        [
         742,
         "Lenovo",
         "ThinkPad 13",
         "Notebook",
         960
        ],
        [
         743,
         "Lenovo",
         "V310-15IKB (i7-7500U/4GB/1TB/FHD/W10)",
         "Notebook",
         779
        ],
        [
         744,
         "HP",
         "ZBook 15",
         "Workstation",
         2419
        ],
        [
         745,
         "Dell",
         "Inspiron 5379",
         "2 in 1 Convertible",
         659
        ],
        [
         746,
         "MSI",
         "GS63VR 7RF",
         "Gaming",
         2094.48
        ],
        [
         747,
         "Acer",
         "Aspire ES1-572",
         "Notebook",
         410.8
        ],
        [
         748,
         "Dell",
         "Inspiron 7560",
         "Notebook",
         1207
        ],
        [
         749,
         "Dell",
         "Vostro 3568",
         "Notebook",
         665
        ],
        [
         750,
         "Toshiba",
         "Tecra X40-D-10G",
         "Notebook",
         1535
        ],
        [
         751,
         "Lenovo",
         "Flex 5",
         "2 in 1 Convertible",
         999
        ],
        [
         752,
         "Lenovo",
         "Thinkpad P51s",
         "Workstation",
         3299
        ],
        [
         753,
         "Acer",
         "Chromebook 14",
         "Notebook",
         330
        ],
        [
         754,
         "Samsung",
         "Notebook 9",
         "Ultrabook",
         1649
        ],
        [
         755,
         "HP",
         "250 G6",
         "Notebook",
         539
        ],
        [
         757,
         "Dell",
         "Latitude 5480",
         "Notebook",
         1126.71
        ],
        [
         758,
         "HP",
         "Zbook 17",
         "Workstation",
         4389
        ],
        [
         759,
         "Lenovo",
         "N23 (N3060/4GB/128GB/W10)",
         "Netbook",
         475
        ],
        [
         760,
         "HP",
         "EliteBook 850",
         "Notebook",
         1900
        ],
        [
         761,
         "Asus",
         "X550VX-XX015D (i5-6300HQ/4GB/1TB/GeForce",
         "Notebook",
         579
        ],
        [
         762,
         "Lenovo",
         "Thinkpad T460",
         "Ultrabook",
         1096
        ],
        [
         763,
         "Asus",
         "Pro P2540UA-XO0192R",
         "Notebook",
         849.9
        ],
        [
         764,
         "Lenovo",
         "Yoga 900-13ISK",
         "2 in 1 Convertible",
         1199
        ],
        [
         765,
         "HP",
         "15-cb003na (i5-7300HQ/8GB/1TB",
         "Notebook",
         1099
        ],
        [
         766,
         "HP",
         "ZBook 15",
         "Workstation",
         1561
        ],
        [
         767,
         "Dell",
         "Alienware 17",
         "Gaming",
         2868.99
        ],
        [
         768,
         "Acer",
         "Aspire 3",
         "Notebook",
         599
        ],
        [
         769,
         "Lenovo",
         "Legion Y520-15IKBN",
         "Gaming",
         1048
        ],
        [
         770,
         "Dell",
         "Latitude 7280",
         "Ultrabook",
         1859
        ],
        [
         771,
         "Google",
         "Pixelbook (Core",
         "Ultrabook",
         1559
        ],
        [
         772,
         "Asus",
         "Zenbook UX330UA-AH5Q",
         "Ultrabook",
         1129
        ],
        [
         773,
         "Dell",
         "Latitude 3380",
         "Notebook",
         849
        ],
        [
         774,
         "Acer",
         "TravelMate P238-M",
         "Notebook",
         655
        ],
        [
         775,
         "Asus",
         "X751NV-TY001 (N4200/4GB/1TB/GeForce",
         "Notebook",
         470.34
        ],
        [
         776,
         "Dell",
         "Inspiron 7559",
         "Gaming",
         1099
        ],
        [
         777,
         "Samsung",
         "Notebook 9",
         "Ultrabook",
         1599
        ],
        [
         778,
         "Acer",
         "Aspire A315-31",
         "Notebook",
         298
        ],
        [
         779,
         "Dell",
         "Inspiron 5567",
         "Notebook",
         1181.27
        ],
        [
         780,
         "Samsung",
         "Notebook 9",
         "2 in 1 Convertible",
         1799
        ],
        [
         781,
         "Toshiba",
         "Tecra A40-C-1E5",
         "Notebook",
         1020
        ],
        [
         782,
         "Dell",
         "Inspiron 7567",
         "Gaming",
         1099
        ],
        [
         783,
         "HP",
         "EliteBook 820",
         "Ultrabook",
         1244
        ],
        [
         784,
         "Asus",
         "Q524UQ-BHI7T15 (i7-7500U/12GB/2TB/GeForce",
         "2 in 1 Convertible",
         839
        ],
        [
         785,
         "Lenovo",
         "Thinkpad P50",
         "Notebook",
         2370
        ],
        [
         786,
         "Acer",
         "Swift 3",
         "Notebook",
         636
        ],
        [
         787,
         "Razer",
         "Blade Pro",
         "Gaming",
         2899
        ],
        [
         788,
         "Asus",
         "Vivobook Max",
         "Notebook",
         581.9
        ],
        [
         789,
         "Dell",
         "Alienware 17",
         "Gaming",
         3588.8
        ],
        [
         790,
         "Asus",
         "Rog G752VS-BA171T",
         "Gaming",
         2350
        ],
        [
         791,
         "Toshiba",
         "Tecra Z40-C-161",
         "Ultrabook",
         1764
        ],
        [
         792,
         "Lenovo",
         "IdeaPad 110-15IBR",
         "Notebook",
         329
        ],
        [
         793,
         "Lenovo",
         "ThinkPad T470s",
         "Ultrabook",
         2299
        ],
        [
         794,
         "MSI",
         "GS43VR 7RE",
         "Gaming",
         1891
        ],
        [
         795,
         "MSI",
         "GL62M (i5-7300HQ/8GB/1TB",
         "Gaming",
         1089
        ],
        [
         796,
         "Lenovo",
         "Legion Y520-15IKBN",
         "Gaming",
         999
        ],
        [
         797,
         "Acer",
         "Predator G9-793",
         "Gaming",
         2299
        ],
        [
         798,
         "Dell",
         "Inspiron 7567",
         "Gaming",
         985
        ],
        [
         799,
         "Asus",
         "FX502VM-DM560T (i7-7700HQ/8GB/1TB",
         "Gaming",
         1339
        ],
        [
         800,
         "Vero",
         "K146 (N3350/4GB/32GB/W10)",
         "Notebook",
         202.9
        ],
        [
         801,
         "Lenovo",
         "ThinkPad Yoga",
         "2 in 1 Convertible",
         1970
        ],
        [
         802,
         "Lenovo",
         "Yoga 510-15IKB",
         "2 in 1 Convertible",
         959
        ],
        [
         803,
         "Apple",
         "MacBook 12\"\"",
         "Ultrabook",
         1165
        ],
        [
         804,
         "Lenovo",
         "ThinkPad X1",
         "2 in 1 Convertible",
         2330
        ],
        [
         805,
         "Asus",
         "R417NA-RS01 (N3350/4GB/32GB/W10)",
         "Notebook",
         299
        ],
        [
         806,
         "Dell",
         "Latitude 3580",
         "Notebook",
         810
        ],
        [
         807,
         "Lenovo",
         "Yoga 910-13IKB",
         "2 in 1 Convertible",
         1349
        ],
        [
         808,
         "Dell",
         "Vostro 5568",
         "Notebook",
         739
        ],
        [
         809,
         "HP",
         "ZBook 17",
         "Workstation",
         2064.9
        ],
        [
         810,
         "Asus",
         "Pro P2540UA-XS51",
         "Notebook",
         1099
        ],
        [
         811,
         "Dell",
         "XPS 13",
         "Ultrabook",
         1499
        ],
        [
         812,
         "Dell",
         "XPS 15",
         "Notebook",
         1749
        ],
        [
         813,
         "Dell",
         "Latitude 3180",
         "Netbook",
         744
        ],
        [
         814,
         "HP",
         "EliteBook 820",
         "Netbook",
         1389
        ],
        [
         815,
         "Toshiba",
         "Satellite Pro",
         "Notebook",
         780
        ],
        [
         816,
         "HP",
         "15-ba043na (A12-9700P/8GB/2TB/W10)",
         "Notebook",
         629
        ],
        [
         817,
         "Dell",
         "Inspiron 7567",
         "Gaming",
         1679
        ],
        [
         818,
         "Lenovo",
         "IdeaPad 310-15IKB",
         "Notebook",
         609
        ],
        [
         819,
         "HP",
         "Omen 17-an012dx",
         "Gaming",
         1749
        ],
        [
         820,
         "MSI",
         "GE72MVR 7RG",
         "Gaming",
         2415
        ],
        [
         821,
         "Samsung",
         "Notebook 9",
         "Ultrabook",
         1499
        ],
        [
         822,
         "Dell",
         "Vostro 5568",
         "Notebook",
         961
        ],
        [
         823,
         "Dell",
         "Vostro 3568",
         "Notebook",
         789.81
        ],
        [
         824,
         "Lenovo",
         "Thinkpad T470s",
         "Ultrabook",
         1859
        ],
        [
         825,
         "Razer",
         "Blade Stealth",
         "Ultrabook",
         1799
        ],
        [
         826,
         "HP",
         "Chromebook 11",
         "Netbook",
         385
        ],
        [
         827,
         "Dell",
         "Alienware 17",
         "Gaming",
         2505.02
        ],
        [
         828,
         "Dell",
         "Latitude 3480",
         "Notebook",
         755
        ],
        [
         829,
         "Lenovo",
         "V110-15ISK (i3-6006U/4GB/500GB/W10)",
         "Notebook",
         489.9
        ],
        [
         830,
         "Toshiba",
         "Tecra X40-D-10Z",
         "Ultrabook",
         1090
        ],
        [
         831,
         "Lenovo",
         "Thinkpad X1",
         "Ultrabook",
         2499
        ],
        [
         832,
         "MSI",
         "GL62M 7RD",
         "Gaming",
         1199
        ],
        [
         833,
         "Lenovo",
         "ThinkPad X1",
         "Ultrabook",
         1875
        ],
        [
         834,
         "Toshiba",
         "Satellite Pro",
         "Notebook",
         499
        ],
        [
         835,
         "Asus",
         "ZenBook Flip",
         "2 in 1 Convertible",
         1358
        ],
        [
         836,
         "Dell",
         "Latitude 3480",
         "Notebook",
         585
        ],
        [
         837,
         "Acer",
         "Chromebook 11",
         "Netbook",
         355
        ],
        [
         838,
         "Acer",
         "Swift 3",
         "Notebook",
         619
        ],
        [
         839,
         "Razer",
         "Blade Pro",
         "Gaming",
         5499
        ],
        [
         840,
         "Lenovo",
         "Thinkpad X1",
         "Ultrabook",
         2099
        ],
        [
         841,
         "Asus",
         "VivoBook Max",
         "Notebook",
         519
        ],
        [
         842,
         "Lenovo",
         "Thinkpad T460",
         "Notebook",
         1186
        ],
        [
         843,
         "Lenovo",
         "ThinkPad T470s",
         "Notebook",
         1650
        ],
        [
         844,
         "Dell",
         "Alienware 15",
         "Gaming",
         2774.63
        ],
        [
         845,
         "Asus",
         "Rog GL702VS-BA023T",
         "Gaming",
         2419
        ],
        [
         846,
         "Toshiba",
         "Satellite Pro",
         "Notebook",
         669
        ],
        [
         847,
         "Lenovo",
         "N42-20 Chromebook",
         "Notebook",
         325
        ],
        [
         848,
         "Asus",
         "R558UA-DM966T (i5-7200U/8GB/128GB/FHD/W10)",
         "Notebook",
         590
        ],
        [
         849,
         "Asus",
         "Rog GL702VM-GC017T",
         "Gaming",
         1799
        ],
        [
         851,
         "Dell",
         "Alienware 17",
         "Gaming",
         3072.89
        ],
        [
         852,
         "HP",
         "ProBook 470",
         "Notebook",
         910
        ],
        [
         853,
         "Dell",
         "Vostro 3568",
         "Notebook",
         713.99
        ],
        [
         854,
         "HP",
         "EliteBook 840",
         "Ultrabook",
         1870
        ],
        [
         855,
         "Dell",
         "Vostro 3568",
         "Notebook",
         739
        ],
        [
         856,
         "HP",
         "Chromebook X360",
         "2 in 1 Convertible",
         615
        ],
        [
         857,
         "Asus",
         "ZenBook UX310UQ-GL026T",
         "Ultrabook",
         1026
        ],
        [
         858,
         "HP",
         "EliteBook x360",
         "2 in 1 Convertible",
         2277
        ],
        [
         859,
         "HP",
         "EliteBook 840",
         "Ultrabook",
         1468
        ],
        [
         860,
         "HP",
         "250 G6",
         "Notebook",
         299
        ],
        [
         862,
         "Asus",
         "Rog GL502VM-DS74",
         "Gaming",
         1899
        ],
        [
         863,
         "Dell",
         "Inspiron 5767",
         "Notebook",
         865
        ],
        [
         864,
         "Lenovo",
         "ThinkPad T470p",
         "Ultrabook",
         1903
        ],
        [
         865,
         "Asus",
         "K556UR-DM621T (i7-7500U/8GB/256GB/GeForce",
         "Notebook",
         787
        ],
        [
         866,
         "Dell",
         "Latitude 5580",
         "Notebook",
         945
        ],
        [
         867,
         "Asus",
         "X541NA (N4200/4GB/1TB/W10)",
         "Notebook",
         449
        ],
        [
         868,
         "HP",
         "EliteBook x360",
         "2 in 1 Convertible",
         2559
        ],
        [
         869,
         "Dell",
         "Inspiron 5368",
         "Notebook",
         649
        ],
        [
         870,
         "Lenovo",
         "IdeaPad 110-15ISK",
         "Notebook",
         469
        ],
        [
         871,
         "Lenovo",
         "ThinkPad E570",
         "Notebook",
         850.66
        ],
        [
         872,
         "HP",
         "EliteBook 850",
         "Notebook",
         1349
        ],
        [
         873,
         "Toshiba",
         "Portege X30-D-10X",
         "Notebook",
         1285
        ],
        [
         874,
         "Lenovo",
         "Legion Y520-15IKBN",
         "Gaming",
         1017
        ],
        [
         875,
         "Dell",
         "XPS 13",
         "Ultrabook",
         2240
        ],
        [
         876,
         "HP",
         "Probook 450",
         "Notebook",
         910
        ],
        [
         877,
         "Toshiba",
         "Portégé Z30-C-188",
         "Ultrabook",
         1095
        ],
        [
         878,
         "Lenovo",
         "ThinkPad Yoga",
         "2 in 1 Convertible",
         1950
        ],
        [
         879,
         "Acer",
         "TMX349-G2-M-50FS (i5-7200U/8GB/256GB/FHD/W10)",
         "Notebook",
         902
        ],
        [
         880,
         "Dell",
         "Precision 3520",
         "Workstation",
         1778
        ],
        [
         881,
         "Lenovo",
         "ThinkPad L570",
         "Notebook",
         1055
        ],
        [
         882,
         "Lenovo",
         "IdeaPad 110-15ISK",
         "Notebook",
         479
        ],
        [
         883,
         "Toshiba",
         "Tecra A50-D-11D",
         "Notebook",
         1388
        ],
        [
         884,
         "Lenovo",
         "Thinkpad 13",
         "Notebook",
         735
        ],
        [
         885,
         "Samsung",
         "Notebook 9",
         "Ultrabook",
         1849
        ],
        [
         886,
         "Dell",
         "Latitude 7280",
         "Ultrabook",
         1690
        ],
        [
         887,
         "Asus",
         "X541NA-GO121 (N4200/4GB/1TB/Linux)",
         "Notebook",
         398.99
        ],
        [
         888,
         "Xiaomi",
         "Mi Notebook",
         "Ultrabook",
         935
        ],
        [
         889,
         "Dell",
         "Vostro 5568",
         "Notebook",
         912.5
        ],
        [
         890,
         "HP",
         "ProBook 450",
         "Notebook",
         839
        ],
        [
         891,
         "HP",
         "EliteBook x360",
         "2 in 1 Convertible",
         1700
        ],
        [
         892,
         "HP",
         "Pavilion x360",
         "2 in 1 Convertible",
         684.8
        ],
        [
         893,
         "Asus",
         "VivoBook L402NA",
         "Notebook",
         348
        ],
        [
         894,
         "Lenovo",
         "IdeaPad 510-15ISK",
         "Notebook",
         669
        ],
        [
         895,
         "Dell",
         "Inspiron 3552",
         "Notebook",
         369
        ],
        [
         896,
         "HP",
         "EliteBook x360",
         "2 in 1 Convertible",
         1799
        ],
        [
         897,
         "Dell",
         "Vostro 3568",
         "Notebook",
         455.7
        ],
        [
         898,
         "Asus",
         "Rog GL753VD-GC082T",
         "Gaming",
         1369.9
        ],
        [
         899,
         "Acer",
         "Chromebook C731-C78G",
         "Netbook",
         297
        ],
        [
         900,
         "Lenovo",
         "IdeaPad 110-17ACL",
         "Notebook",
         379
        ],
        [
         901,
         "HP",
         "Probook 640",
         "Notebook",
         1265
        ],
        [
         902,
         "HP",
         "Envy x360",
         "2 in 1 Convertible",
         1399
        ],
        [
         903,
         "Samsung",
         "Notebook 9",
         "Ultrabook",
         1699
        ],
        [
         904,
         "Lenovo",
         "ThinkPad T470s",
         "Ultrabook",
         1799
        ],
        [
         905,
         "MSI",
         "GS73VR Stealth",
         "Gaming",
         2649
        ],
        [
         906,
         "Toshiba",
         "Portege X30-D-10V",
         "Notebook",
         1475
        ],
        [
         908,
         "Dell",
         "Inspiron 7567",
         "Gaming",
         929
        ],
        [
         909,
         "HP",
         "ProBook 450",
         "Notebook",
         900
        ],
        [
         910,
         "Dell",
         "Vostro 3568",
         "Notebook",
         614
        ],
        [
         911,
         "Dell",
         "Latitude 5580",
         "Notebook",
         935
        ],
        [
         912,
         "Dell",
         "XPS 13",
         "2 in 1 Convertible",
         2013.1
        ],
        [
         913,
         "Asus",
         "G701VO-IH74K (i7-6820HK/32GB/2x",
         "Gaming",
         1279
        ],
        [
         914,
         "Dell",
         "XPS 13",
         "2 in 1 Convertible",
         1649
        ],
        [
         915,
         "Lenovo",
         "ThinkPad X1",
         "Ultrabook",
         2049
        ],
        [
         916,
         "Lenovo",
         "ThinkPad T570",
         "Notebook",
         1962.99
        ],
        [
         917,
         "LG",
         "Gram 15Z970",
         "Ultrabook",
         2099
        ],
        [
         918,
         "HP",
         "Elitebook 820",
         "Netbook",
         1483
        ],
        [
         919,
         "Acer",
         "Chromebook CB5-571-C1DZ",
         "Notebook",
         359
        ],
        [
         920,
         "Lenovo",
         "IdeaPad Y700-15ISK",
         "Notebook",
         789
        ],
        [
         922,
         "LG",
         "Gram 14Z970",
         "Ultrabook",
         1899
        ],
        [
         923,
         "Dell",
         "Latitude 5480",
         "Notebook",
         1205
        ],
        [
         924,
         "HP",
         "Elitebook Folio",
         "Ultrabook",
         3100
        ],
        [
         925,
         "Lenovo",
         "IdeaPad 510-15IKB",
         "Notebook",
         789
        ],
        [
         926,
         "HP",
         "ProBook 450",
         "Notebook",
         1018.99
        ],
        [
         927,
         "Acer",
         "Aspire E5-575",
         "Notebook",
         499
        ],
        [
         928,
         "Lenovo",
         "ThinkPad 13",
         "Notebook",
         881
        ],
        [
         930,
         "HP",
         "Probook 430",
         "Notebook",
         960
        ],
        [
         931,
         "MSI",
         "GE72VR 6RF",
         "Gaming",
         1599
        ],
        [
         932,
         "Dell",
         "Inspiron 7567",
         "Gaming",
         1349
        ],
        [
         933,
         "MSI",
         "GL62M 7RD",
         "Gaming",
         1119.91
        ],
        [
         934,
         "Dell",
         "Vostro 3568",
         "Notebook",
         684.99
        ],
        [
         935,
         "HP",
         "EliteBook 850",
         "Ultrabook",
         1296.99
        ],
        [
         936,
         "HP",
         "Envy 13-AB077cl",
         "Ultrabook",
         1149
        ],
        [
         937,
         "Toshiba",
         "Tecra Z50-C-140",
         "Notebook",
         1975
        ],
        [
         938,
         "Lenovo",
         "ThinkPad Yoga",
         "2 in 1 Convertible",
         1825
        ],
        [
         939,
         "Dell",
         "Latitude 3580",
         "Notebook",
         729.9
        ],
        [
         940,
         "Lenovo",
         "Thinkpad X270",
         "Ultrabook",
         1650
        ],
        [
         941,
         "HP",
         "Probook 650",
         "Notebook",
         1165
        ],
        [
         942,
         "Dell",
         "Vostro 3568",
         "Notebook",
         708.06
        ],
        [
         943,
         "HP",
         "ProBook 640",
         "Notebook",
         1149
        ],
        [
         944,
         "Lenovo",
         "IdeaPad 320-15IAP",
         "Notebook",
         309
        ],
        [
         945,
         "HP",
         "EliteBook 820",
         "Ultrabook",
         1579
        ],
        [
         946,
         "HP",
         "250 G6",
         "Notebook",
         288.9
        ],
        [
         947,
         "Lenovo",
         "Yoga 900-13ISK",
         "2 in 1 Convertible",
         1799
        ],
        [
         948,
         "Toshiba",
         "Tecra Z40-C-12X",
         "Notebook",
         1105
        ],
        [
         949,
         "HP",
         "EliteBook 820",
         "Netbook",
         1669
        ],
        [
         950,
         "Dell",
         "Vostro 3568",
         "Notebook",
         558.6
        ],
        [
         951,
         "MSI",
         "GP62M Leopard",
         "Gaming",
         1199
        ],
        [
         952,
         "Dell",
         "Latitude 7480",
         "Ultrabook",
         1639
        ],
        [
         953,
         "Dell",
         "Alienware 17",
         "Gaming",
         2758
        ],
        [
         954,
         "HP",
         "Omen 17-W006na",
         "Gaming",
         1399
        ],
        [
         955,
         "Asus",
         "X751SV-TY001T (N3710/4GB/1TB/GeForce",
         "Notebook",
         530
        ],
        [
         956,
         "Acer",
         "TravelMate P259-G2",
         "Notebook",
         619
        ],
        [
         957,
         "Toshiba",
         "Tecra A50-C-1ZV",
         "Notebook",
         1119
        ],
        [
         958,
         "Lenovo",
         "Yoga 700-11ISK",
         "2 in 1 Convertible",
         1299
        ],
        [
         959,
         "Lenovo",
         "IdeaPad Y700-15ACZ",
         "Gaming",
         999
        ],
        [
         960,
         "Dell",
         "Latitude 7280",
         "Ultrabook",
         1472.2
        ],
        [
         961,
         "Lenovo",
         "IdeaPad 310-15IKB",
         "Notebook",
         685
        ],
        [
         962,
         "Dell",
         "Insprion 5767",
         "Notebook",
         659
        ],
        [
         963,
         "Acer",
         "Chromebook 14",
         "Notebook",
         349
        ],
        [
         964,
         "HP",
         "ZBook Studio",
         "Workstation",
         2249
        ],
        [
         965,
         "Dell",
         "Latitude 7480",
         "Ultrabook",
         1775
        ],
        [
         966,
         "Toshiba",
         "Portege Z30-C-1CW",
         "Notebook",
         1460
        ],
        [
         967,
         "Asus",
         "Chromebook Flip",
         "2 in 1 Convertible",
         1159
        ],
        [
         968,
         "Lenovo",
         "Thinkpad T460",
         "Ultrabook",
         1488.99
        ],
        [
         969,
         "Dell",
         "Alienware 17",
         "Gaming",
         3154
        ],
        [
         970,
         "Dell",
         "XPS 13",
         "2 in 1 Convertible",
         1899
        ],
        [
         971,
         "HP",
         "ProBook x360",
         "2 in 1 Convertible",
         775
        ],
        [
         972,
         "Dell",
         "XPS 13",
         "Ultrabook",
         1268
        ],
        [
         973,
         "Acer",
         "Chromebook C738T-C2EJ",
         "2 in 1 Convertible",
         389
        ],
        [
         974,
         "Toshiba",
         "Portege Z30-C-16Z",
         "Notebook",
         1535
        ],
        [
         975,
         "Lenovo",
         "ThinkPad X270",
         "Ultrabook",
         1760
        ],
        [
         976,
         "Acer",
         "Aspire F5-573G-510L",
         "Notebook",
         1009
        ],
        [
         977,
         "Toshiba",
         "Portege X20W-D-10V",
         "Ultrabook",
         1790
        ],
        [
         978,
         "HP",
         "ProBook 450",
         "Notebook",
         846.5
        ],
        [
         979,
         "Dell",
         "Inspiron 3567",
         "Notebook",
         465.62
        ],
        [
         980,
         "Dell",
         "Latitude 5580",
         "Notebook",
         825
        ],
        [
         981,
         "HP",
         "ProBook 450",
         "Notebook",
         685
        ],
        [
         982,
         "Dell",
         "Alienware 17",
         "Gaming",
         3149
        ],
        [
         983,
         "Lenovo",
         "IdeaPad 310-15IKB",
         "Notebook",
         695
        ],
        [
         984,
         "Dell",
         "XPS 13",
         "2 in 1 Convertible",
         1899
        ],
        [
         985,
         "Dell",
         "Latitude E7470",
         "Ultrabook",
         1962.98
        ],
        [
         986,
         "Dell",
         "Alienware 17",
         "Gaming",
         2800
        ],
        [
         987,
         "Toshiba",
         "Tecra A40-C-1DF",
         "Notebook",
         1180
        ],
        [
         988,
         "Asus",
         "Rog Strix",
         "Gaming",
         2049.9
        ],
        [
         989,
         "HP",
         "Probook 450",
         "Notebook",
         979
        ],
        [
         990,
         "Lenovo",
         "ThinkPad T460",
         "Notebook",
         1002
        ],
        [
         991,
         "Asus",
         "Q534UX-BHI7T19 (i7-7500U/16GB/2TB",
         "2 in 1 Convertible",
         1799
        ],
        [
         992,
         "HP",
         "15-bs053od (i7-7500U/6GB/1TB/W10)",
         "Notebook",
         579
        ],
        [
         993,
         "Asus",
         "Rog GL753VE-DS74",
         "Gaming",
         1749
        ],
        [
         994,
         "Dell",
         "Inspiron 7579",
         "2 in 1 Convertible",
         1299
        ],
        [
         995,
         "Toshiba",
         "Portege Z30-C-1CV",
         "Notebook",
         1195
        ],
        [
         996,
         "Lenovo",
         "IdeaPad 320-15ABR",
         "Notebook",
         549
        ],
        [
         997,
         "Fujitsu",
         "LifeBook A556",
         "Notebook",
         649
        ],
        [
         998,
         "Toshiba",
         "Tecra A40-C-1KF",
         "Notebook",
         915
        ],
        [
         999,
         "Dell",
         "Inspiron 3567",
         "Notebook",
         599
        ],
        [
         1000,
         "HP",
         "Probook 450",
         "Notebook",
         806
        ],
        [
         1001,
         "Lenovo",
         "Legion Y520-15IKBN",
         "Gaming",
         1189
        ],
        [
         1002,
         "Dell",
         "Inspiron 5567",
         "Notebook",
         749
        ],
        [
         1003,
         "Dell",
         "Latitude 5480",
         "Notebook",
         1119
        ],
        [
         1004,
         "HP",
         "EliteBook Folio",
         "Netbook",
         1908
        ],
        [
         1005,
         "HP",
         "15-bs005nv (i3-6006U/4GB/1TB",
         "Notebook",
         499
        ],
        [
         1006,
         "Lenovo",
         "V110-15IAP (N3350/4GB/128GB/No",
         "Notebook",
         270.62
        ],
        [
         1007,
         "Lenovo",
         "ThinkPad T560",
         "Notebook",
         1349
        ],
        [
         1008,
         "Dell",
         "Inspiron 5378",
         "2 in 1 Convertible",
         889
        ],
        [
         1009,
         "Asus",
         "ZenBook UX310UA-FB485T",
         "Notebook",
         1150
        ],
        [
         1010,
         "HP",
         "Spectre 13-V111dx",
         "Ultrabook",
         1349
        ],
        [
         1011,
         "Acer",
         "Aspire ES1-533",
         "Notebook",
         380
        ],
        [
         1012,
         "Asus",
         "Rog GL553VE-DS74",
         "Gaming",
         1799
        ],
        [
         1013,
         "HP",
         "EliteBook 840",
         "Ultrabook",
         2089
        ]
       ],
       "datasetInfos": [],
       "dbfsResultPath": null,
       "isJsonSchema": true,
       "metadata": {},
       "overflow": true,
       "plotOptions": {
        "customPlotOptions": {},
        "displayType": "table",
        "pivotAggregation": null,
        "pivotColumns": [],
        "xColumns": [],
        "yColumns": []
       },
       "removedWidgets": [],
       "schema": [
        {
         "metadata": "{}",
         "name": "Id",
         "type": "\"integer\""
        },
        {
         "metadata": "{}",
         "name": "Company",
         "type": "\"string\""
        },
        {
         "metadata": "{}",
         "name": "Product",
         "type": "\"string\""
        },
        {
         "metadata": "{}",
         "name": "TypeName",
         "type": "\"string\""
        },
        {
         "metadata": "{}",
         "name": "Price_euros",
         "type": "\"float\""
        }
       ],
       "type": "table"
      }
     },
     "output_type": "display_data"
    }
   ],
   "source": [
    "laptop_data = spark.read.format(\"csv\") \\\n",
    "                   .option(\"header\", True)\\\n",
    "                   .schema(schema)\\\n",
    "                   .load(\"dbfs:/FileStore/datasets/laptops.csv\")\n",
    "\n",
    "laptop_data.display()"
   ]
  },
  {
   "cell_type": "code",
   "execution_count": 0,
   "metadata": {
    "application/vnd.databricks.v1+cell": {
     "inputWidgets": {},
     "nuid": "3b3bbc0c-125f-4d0b-8654-a2196a09e006",
     "showTitle": false,
     "title": ""
    }
   },
   "outputs": [
    {
     "data": {
      "text/html": [
       "<style scoped>\n",
       "  .ansiout {\n",
       "    display: block;\n",
       "    unicode-bidi: embed;\n",
       "    white-space: pre-wrap;\n",
       "    word-wrap: break-word;\n",
       "    word-break: break-all;\n",
       "    font-family: \"Source Code Pro\", \"Menlo\", monospace;;\n",
       "    font-size: 13px;\n",
       "    color: #555;\n",
       "    margin-left: 4px;\n",
       "    line-height: 19px;\n",
       "  }\n",
       "</style>\n",
       "<div class=\"ansiout\">Is this streaming data?  False\n",
       "</div>"
      ]
     },
     "metadata": {
      "application/vnd.databricks.v1+output": {
       "addedWidgets": {},
       "arguments": {},
       "data": "<div class=\"ansiout\">Is this streaming data?  False\n</div>",
       "datasetInfos": [],
       "metadata": {},
       "removedWidgets": [],
       "type": "html"
      }
     },
     "output_type": "display_data"
    }
   ],
   "source": [
    "print(\"Is this streaming data? \", laptop_data.isStreaming)"
   ]
  },
  {
   "cell_type": "markdown",
   "metadata": {
    "application/vnd.databricks.v1+cell": {
     "inputWidgets": {},
     "nuid": "6e56215c-4026-4ce8-b65c-4d0a43048f04",
     "showTitle": false,
     "title": ""
    }
   },
   "source": [
    "#### DataStream"
   ]
  },
  {
   "cell_type": "code",
   "execution_count": 0,
   "metadata": {
    "application/vnd.databricks.v1+cell": {
     "inputWidgets": {},
     "nuid": "53b1c017-ffbe-47c6-9c60-53491ea89e97",
     "showTitle": false,
     "title": ""
    }
   },
   "outputs": [
    {
     "data": {
      "text/html": [
       "<style scoped>\n",
       "  .ansiout {\n",
       "    display: block;\n",
       "    unicode-bidi: embed;\n",
       "    white-space: pre-wrap;\n",
       "    word-wrap: break-word;\n",
       "    word-break: break-all;\n",
       "    font-family: \"Source Code Pro\", \"Menlo\", monospace;;\n",
       "    font-size: 13px;\n",
       "    color: #555;\n",
       "    margin-left: 4px;\n",
       "    line-height: 19px;\n",
       "  }\n",
       "</style>\n",
       "<div class=\"ansiout\">Out[8]: True</div>"
      ]
     },
     "metadata": {
      "application/vnd.databricks.v1+output": {
       "addedWidgets": {},
       "arguments": {},
       "data": "<div class=\"ansiout\">Out[8]: True</div>",
       "datasetInfos": [],
       "metadata": {},
       "removedWidgets": [],
       "type": "html"
      }
     },
     "output_type": "display_data"
    }
   ],
   "source": [
    "dbutils.fs.mkdirs(\"dbfs:/FileStore/datasets/laptop_source_stream\")"
   ]
  },
  {
   "cell_type": "code",
   "execution_count": 0,
   "metadata": {
    "application/vnd.databricks.v1+cell": {
     "inputWidgets": {},
     "nuid": "8f2f1f72-c758-4827-8bef-cc86515caf37",
     "showTitle": false,
     "title": ""
    }
   },
   "outputs": [
    {
     "data": {
      "text/html": [
       "<style scoped>\n",
       "  .ansiout {\n",
       "    display: block;\n",
       "    unicode-bidi: embed;\n",
       "    white-space: pre-wrap;\n",
       "    word-wrap: break-word;\n",
       "    word-break: break-all;\n",
       "    font-family: \"Source Code Pro\", \"Menlo\", monospace;;\n",
       "    font-size: 13px;\n",
       "    color: #555;\n",
       "    margin-left: 4px;\n",
       "    line-height: 19px;\n",
       "  }\n",
       "</style>\n",
       "<div class=\"ansiout\">Is this streaming data?  True\n",
       "</div>"
      ]
     },
     "metadata": {
      "application/vnd.databricks.v1+output": {
       "addedWidgets": {},
       "arguments": {},
       "data": "<div class=\"ansiout\">Is this streaming data?  True\n</div>",
       "datasetInfos": [],
       "metadata": {},
       "removedWidgets": [],
       "type": "html"
      }
     },
     "output_type": "display_data"
    }
   ],
   "source": [
    "laptop_stream_data = spark.readStream \\\n",
    "                          .format(\"csv\") \\\n",
    "                          .option(\"header\", True) \\\n",
    "                          .schema(schema) \\\n",
    "                          .load(\"dbfs:/FileStore/datasets/laptop_source_stream\")\n",
    "\n",
    "print(\"Is this streaming data? \", laptop_stream_data.isStreaming)"
   ]
  },
  {
   "cell_type": "markdown",
   "metadata": {
    "application/vnd.databricks.v1+cell": {
     "inputWidgets": {},
     "nuid": "b4028b03-8b95-45b3-aaf2-845d559c6b37",
     "showTitle": false,
     "title": ""
    }
   },
   "source": [
    "TODO Recording for cell below <br>\n",
    "\n",
    "Open the Data menu from the left-hand side on a new tab (Right-click on Databricks, open in new tab, go to Data) <br>\n",
    "Now upload laptop_01.csv and laptop_02.csv to this folder <br>\n",
    "\n",
    "After uploading let's read the data as stream\n",
    "\n",
    "Click on display_query and show that the three monitoring graphs have a spike <br>\n",
    "Show that 40 rows are displayed in the table <br>\n",
    "Click on Raw Data and scroll and show what is there <br>\n",
    "Upload laptops_03.csv <br>\n",
    "Show the spike in the monitoring graphs <br>\n",
    "Number also rows increasing, now it changed to 59 total"
   ]
  },
  {
   "cell_type": "code",
   "execution_count": 0,
   "metadata": {
    "application/vnd.databricks.v1+cell": {
     "inputWidgets": {},
     "nuid": "ab49b2a7-1eba-470c-bc8a-e0359dbb520f",
     "showTitle": false,
     "title": ""
    }
   },
   "outputs": [
    {
     "data": {
      "text/html": [
       "<style scoped>\n",
       "  .table-result-container {\n",
       "    max-height: 300px;\n",
       "    overflow: auto;\n",
       "  }\n",
       "  table, th, td {\n",
       "    border: 1px solid black;\n",
       "    border-collapse: collapse;\n",
       "  }\n",
       "  th, td {\n",
       "    padding: 5px;\n",
       "  }\n",
       "  th {\n",
       "    text-align: left;\n",
       "  }\n",
       "</style><div class='table-result-container'><table class='table-result'><thead style='background-color: white'><tr><th>Id</th><th>Company</th><th>Product</th><th>TypeName</th><th>Price_euros</th></tr></thead><tbody><tr><td>21</td><td>Asus</td><td>Vivobook E200HA</td><td>Netbook</td><td>191.9</td></tr><tr><td>22</td><td>Lenovo</td><td>Legion Y520-15IKBN</td><td>Gaming</td><td>999.0</td></tr><tr><td>23</td><td>HP</td><td>255 G6</td><td>Notebook</td><td>258.0</td></tr><tr><td>24</td><td>Dell</td><td>Inspiron 5379</td><td>2 in 1 Convertible</td><td>819.0</td></tr><tr><td>25</td><td>HP</td><td>15-BS101nv (i7-8550U/8GB/256GB/FHD/W10)</td><td>Ultrabook</td><td>659.0</td></tr><tr><td>26</td><td>Dell</td><td>Inspiron 3567</td><td>Notebook</td><td>418.64</td></tr><tr><td>27</td><td>Apple</td><td>MacBook Air</td><td>Ultrabook</td><td>1099.0</td></tr><tr><td>28</td><td>Dell</td><td>Inspiron 5570</td><td>Notebook</td><td>800.0</td></tr><tr><td>29</td><td>Dell</td><td>Latitude 5590</td><td>Ultrabook</td><td>1298.0</td></tr><tr><td>30</td><td>HP</td><td>ProBook 470</td><td>Notebook</td><td>896.0</td></tr><tr><td>31</td><td>Chuwi</td><td>LapBook 15.6\"\"</td><td>Notebook</td><td>244.99</td></tr><tr><td>32</td><td>Asus</td><td>E402WA-GA010T (E2-6110/2GB/32GB/W10)</td><td>Notebook</td><td>199.0</td></tr><tr><td>33</td><td>HP</td><td>17-ak001nv (A6-9220/4GB/500GB/Radeon</td><td>Notebook</td><td>439.0</td></tr><tr><td>34</td><td>Dell</td><td>XPS 13</td><td>Ultrabook</td><td>1869.0</td></tr><tr><td>35</td><td>Apple</td><td>MacBook Air</td><td>Ultrabook</td><td>998.0</td></tr><tr><td>36</td><td>Lenovo</td><td>IdeaPad 120S-14IAP</td><td>Notebook</td><td>249.0</td></tr><tr><td>37</td><td>Acer</td><td>Aspire 3</td><td>Notebook</td><td>367.0</td></tr><tr><td>38</td><td>Dell</td><td>Inspiron 5770</td><td>Notebook</td><td>979.0</td></tr><tr><td>39</td><td>HP</td><td>250 G6</td><td>Notebook</td><td>488.69</td></tr><tr><td>40</td><td>HP</td><td>ProBook 450</td><td>Notebook</td><td>879.0</td></tr><tr><td>1</td><td>Apple</td><td>MacBook Pro</td><td>Ultrabook</td><td>1339.69</td></tr><tr><td>2</td><td>Apple</td><td>Macbook Air</td><td>Ultrabook</td><td>898.94</td></tr><tr><td>3</td><td>HP</td><td>250 G6</td><td>Notebook</td><td>575.0</td></tr><tr><td>4</td><td>Apple</td><td>MacBook Pro</td><td>Ultrabook</td><td>2537.45</td></tr><tr><td>5</td><td>Apple</td><td>MacBook Pro</td><td>Ultrabook</td><td>1803.6</td></tr><tr><td>6</td><td>Acer</td><td>Aspire 3</td><td>Notebook</td><td>400.0</td></tr><tr><td>7</td><td>Apple</td><td>MacBook Pro</td><td>Ultrabook</td><td>2139.97</td></tr><tr><td>8</td><td>Apple</td><td>Macbook Air</td><td>Ultrabook</td><td>1158.7</td></tr><tr><td>9</td><td>Asus</td><td>ZenBook UX430UN</td><td>Ultrabook</td><td>1495.0</td></tr><tr><td>10</td><td>Acer</td><td>Swift 3</td><td>Ultrabook</td><td>770.0</td></tr><tr><td>11</td><td>HP</td><td>250 G6</td><td>Notebook</td><td>393.9</td></tr><tr><td>12</td><td>HP</td><td>250 G6</td><td>Notebook</td><td>344.99</td></tr><tr><td>13</td><td>Apple</td><td>MacBook Pro</td><td>Ultrabook</td><td>2439.97</td></tr><tr><td>14</td><td>Dell</td><td>Inspiron 3567</td><td>Notebook</td><td>498.9</td></tr><tr><td>15</td><td>Apple</td><td>MacBook 12\"\"</td><td>Ultrabook</td><td>1262.4</td></tr><tr><td>16</td><td>Apple</td><td>MacBook Pro</td><td>Ultrabook</td><td>1518.55</td></tr><tr><td>17</td><td>Dell</td><td>Inspiron 3567</td><td>Notebook</td><td>745.0</td></tr><tr><td>18</td><td>Apple</td><td>MacBook Pro</td><td>Ultrabook</td><td>2858.0</td></tr><tr><td>19</td><td>Lenovo</td><td>IdeaPad 320-15IKB</td><td>Notebook</td><td>499.0</td></tr><tr><td>20</td><td>Dell</td><td>XPS 13</td><td>Ultrabook</td><td>979.0</td></tr><tr><td>41</td><td>Asus</td><td>X540UA-DM186 (i3-6006U/4GB/1TB/FHD/Linux)</td><td>Notebook</td><td>389.0</td></tr><tr><td>42</td><td>Dell</td><td>Inspiron 7577</td><td>Gaming</td><td>1499.0</td></tr><tr><td>43</td><td>Asus</td><td>X542UQ-GO005 (i5-7200U/8GB/1TB/GeForce</td><td>Notebook</td><td>522.99</td></tr><tr><td>44</td><td>Acer</td><td>Aspire A515-51G</td><td>Notebook</td><td>682.0</td></tr><tr><td>45</td><td>Dell</td><td>Inspiron 7773</td><td>2 in 1 Convertible</td><td>999.0</td></tr><tr><td>46</td><td>Apple</td><td>MacBook Pro</td><td>Ultrabook</td><td>1419.0</td></tr><tr><td>47</td><td>Lenovo</td><td>IdeaPad 320-15ISK</td><td>Notebook</td><td>369.0</td></tr><tr><td>48</td><td>Asus</td><td>Rog Strix</td><td>Gaming</td><td>1299.0</td></tr><tr><td>49</td><td>Dell</td><td>Inspiron 3567</td><td>Notebook</td><td>639.0</td></tr><tr><td>50</td><td>Asus</td><td>X751NV-TY001T (N4200/4GB/1TB/GeForce</td><td>Notebook</td><td>466.0</td></tr><tr><td>51</td><td>Lenovo</td><td>Yoga Book</td><td>2 in 1 Convertible</td><td>319.0</td></tr><tr><td>52</td><td>Acer</td><td>Aspire A515-51G</td><td>Notebook</td><td>841.0</td></tr><tr><td>53</td><td>HP</td><td>255 G6</td><td>Notebook</td><td>398.49</td></tr><tr><td>54</td><td>HP</td><td>ProBook 430</td><td>Notebook</td><td>1103.0</td></tr><tr><td>55</td><td>Acer</td><td>Aspire 3</td><td>Notebook</td><td>384.0</td></tr><tr><td>56</td><td>Dell</td><td>Inspiron 3576</td><td>Notebook</td><td>767.8</td></tr><tr><td>57</td><td>HP</td><td>15-bs002nv (i3-6006U/4GB/128GB/FHD/W10)</td><td>Notebook</td><td>439.0</td></tr><tr><td>58</td><td>Asus</td><td>VivoBook Max</td><td>Notebook</td><td>586.19</td></tr><tr><td>59</td><td>MSI</td><td>GS73VR 7RG</td><td>Gaming</td><td>2449.0</td></tr><tr><td>60</td><td>Asus</td><td>X541UA-DM1897 (i3-6006U/4GB/256GB/FHD/Linux)</td><td>Notebook</td><td>415.0</td></tr><tr><td>61</td><td>Dell</td><td>Inspiron 5770</td><td>Notebook</td><td>1299.0</td></tr><tr><td>62</td><td>Dell</td><td>Vostro 5471</td><td>Ultrabook</td><td>879.0</td></tr><tr><td>63</td><td>Lenovo</td><td>IdeaPad 520S-14IKB</td><td>Notebook</td><td>599.0</td></tr><tr><td>64</td><td>Asus</td><td>UX410UA-GV350T (i5-8250U/8GB/256GB/FHD/W10)</td><td>Notebook</td><td>941.0</td></tr><tr><td>66</td><td>HP</td><td>250 G6</td><td>Notebook</td><td>690.0</td></tr><tr><td>67</td><td>Asus</td><td>ZenBook Pro</td><td>Ultrabook</td><td>1983.0</td></tr><tr><td>68</td><td>HP</td><td>250 G6</td><td>Notebook</td><td>438.69</td></tr><tr><td>69</td><td>HP</td><td>Stream 14-AX040wm</td><td>Notebook</td><td>229.0</td></tr><tr><td>70</td><td>Lenovo</td><td>V310-15ISK (i5-7200U/4GB/1TB/FHD/W10)</td><td>Notebook</td><td>549.0</td></tr><tr><td>71</td><td>Asus</td><td>FX753VE-GC093 (i7-7700HQ/12GB/1TB/GeForce</td><td>Gaming</td><td>949.0</td></tr><tr><td>72</td><td>Microsoft</td><td>Surface Laptop</td><td>Ultrabook</td><td>1089.0</td></tr><tr><td>73</td><td>Dell</td><td>Inspiron 5370</td><td>Ultrabook</td><td>955.0</td></tr><tr><td>74</td><td>Dell</td><td>Inspiron 5570</td><td>Notebook</td><td>870.0</td></tr><tr><td>75</td><td>MSI</td><td>GL72M 7RDX</td><td>Gaming</td><td>1095.0</td></tr><tr><td>76</td><td>Acer</td><td>Aspire E5-475</td><td>Notebook</td><td>389.0</td></tr><tr><td>77</td><td>Asus</td><td>FX503VD-E4022T (i7-7700HQ/8GB/1TB/GeForce</td><td>Gaming</td><td>949.0</td></tr><tr><td>78</td><td>Lenovo</td><td>IdeaPad 320-15IKBN</td><td>Notebook</td><td>519.0</td></tr><tr><td>79</td><td>Dell</td><td>Inspiron 5570</td><td>Notebook</td><td>855.0</td></tr><tr><td>80</td><td>Acer</td><td>Aspire A515-51G-32MX</td><td>Notebook</td><td>530.0</td></tr><tr><td>81</td><td>HP</td><td>ProBook 470</td><td>Notebook</td><td>977.0</td></tr><tr><td>82</td><td>Dell</td><td>Latitude 5590</td><td>Ultrabook</td><td>1096.16</td></tr><tr><td>83</td><td>Apple</td><td>MacBook 12\"\"</td><td>Ultrabook</td><td>1510.0</td></tr><tr><td>84</td><td>HP</td><td>ProBook 440</td><td>Notebook</td><td>860.0</td></tr><tr><td>85</td><td>Lenovo</td><td>IdeaPad 320-15AST</td><td>Notebook</td><td>399.0</td></tr><tr><td>86</td><td>Acer</td><td>Aspire 3</td><td>Notebook</td><td>395.0</td></tr><tr><td>87</td><td>Dell</td><td>Inspiron 7577</td><td>Gaming</td><td>1349.0</td></tr><tr><td>88</td><td>HP</td><td>Pavilion 15-CK000nv</td><td>Ultrabook</td><td>699.0</td></tr><tr><td>89</td><td>HP</td><td>250 G6</td><td>Notebook</td><td>598.99</td></tr><tr><td>90</td><td>Asus</td><td>FX503VM-E4007T (i7-7700HQ/16GB/1TB</td><td>Gaming</td><td>1449.0</td></tr><tr><td>91</td><td>Dell</td><td>XPS 13</td><td>Ultrabook</td><td>1649.0</td></tr><tr><td>92</td><td>Asus</td><td>FX550IK-DM018T (FX-9830P/8GB/1TB/Radeon</td><td>Gaming</td><td>699.0</td></tr><tr><td>93</td><td>Acer</td><td>Aspire 5</td><td>Notebook</td><td>689.0</td></tr><tr><td>94</td><td>HP</td><td>Probook 430</td><td>Notebook</td><td>1197.0</td></tr><tr><td>95</td><td>Dell</td><td>Inspiron 7577</td><td>Gaming</td><td>1195.0</td></tr><tr><td>96</td><td>Asus</td><td>Zenbook UX430UA</td><td>Ultrabook</td><td>1049.0</td></tr><tr><td>97</td><td>Acer</td><td>Spin 5</td><td>2 in 1 Convertible</td><td>847.0</td></tr><tr><td>98</td><td>Dell</td><td>Inspiron 3567</td><td>Notebook</td><td>599.9</td></tr><tr><td>99</td><td>Dell</td><td>Inspiron 3567</td><td>Notebook</td><td>485.0</td></tr><tr><td>100</td><td>Asus</td><td>X541UV-DM1439T (i3-7100U/6GB/256GB/GeForce</td><td>Notebook</td><td>577.0</td></tr><tr><td>102</td><td>HP</td><td>Omen 15-ce007nv</td><td>Gaming</td><td>1249.0</td></tr><tr><td>103</td><td>HP</td><td>15-bs017nv (i7-7500U/8GB/256GB/Radeon</td><td>Notebook</td><td>719.0</td></tr><tr><td>104</td><td>HP</td><td>15-bw000nv (E2-9000e/4GB/500GB/Radeon</td><td>Notebook</td><td>349.0</td></tr><tr><td>105</td><td>Dell</td><td>Inspiron 3576</td><td>Notebook</td><td>647.0</td></tr><tr><td>106</td><td>HP</td><td>Envy 13-ad009n</td><td>Ultrabook</td><td>1119.0</td></tr><tr><td>107</td><td>Microsoft</td><td>Surface Laptop</td><td>Ultrabook</td><td>1340.0</td></tr><tr><td>108</td><td>HP</td><td>Pavilion 14-BK001nv</td><td>Notebook</td><td>659.0</td></tr><tr><td>109</td><td>Lenovo</td><td>Ideapad 310-15ISK</td><td>Notebook</td><td>414.9</td></tr><tr><td>110</td><td>Asus</td><td>UX430UQ-GV209R (i7-7500U/8GB/256GB/GeForce</td><td>Ultrabook</td><td>1193.0</td></tr><tr><td>111</td><td>MSI</td><td>GP62M 7REX</td><td>Gaming</td><td>1299.0</td></tr><tr><td>112</td><td>Lenovo</td><td>Thinkpad T470</td><td>Notebook</td><td>1480.0</td></tr><tr><td>113</td><td>Asus</td><td>VivoBook S15</td><td>Ultrabook</td><td>1262.0</td></tr><tr><td>114</td><td>Dell</td><td>XPS 13</td><td>Ultrabook</td><td>1379.0</td></tr><tr><td>115</td><td>Lenovo</td><td>ThinkPad Yoga</td><td>2 in 1 Convertible</td><td>1399.0</td></tr><tr><td>116</td><td>HP</td><td>Probook 440</td><td>Notebook</td><td>722.0</td></tr><tr><td>117</td><td>Dell</td><td>XPS 13</td><td>Ultrabook</td><td>1629.0</td></tr><tr><td>118</td><td>HP</td><td>Spectre x360</td><td>2 in 1 Convertible</td><td>1398.99</td></tr><tr><td>119</td><td>HP</td><td>Probook 440</td><td>Notebook</td><td>1084.0</td></tr><tr><td>120</td><td>Dell</td><td>Inspiron 7570</td><td>Notebook</td><td>1130.33</td></tr><tr><td>121</td><td>Asus</td><td>X705UV-BX074T (i3-6006U/4GB/1TB/GeForce</td><td>Notebook</td><td>564.0</td></tr><tr><td>122</td><td>Asus</td><td>VivoBook S15</td><td>Notebook</td><td>1118.0</td></tr><tr><td>123</td><td>Acer</td><td>Spin 3</td><td>Notebook</td><td>479.0</td></tr><tr><td>124</td><td>MSI</td><td>GS63VR 7RG</td><td>Gaming</td><td>2241.5</td></tr><tr><td>125</td><td>Lenovo</td><td>IdeaPad 320-15IKBN</td><td>Notebook</td><td>629.0</td></tr><tr><td>126</td><td>HP</td><td>Probook 470</td><td>Notebook</td><td>1271.0</td></tr><tr><td>127</td><td>Acer</td><td>Aspire 3</td><td>Notebook</td><td>451.0</td></tr><tr><td>128</td><td>HP</td><td>250 G6</td><td>Notebook</td><td>259.0</td></tr><tr><td>129</td><td>HP</td><td>Probook 440</td><td>Notebook</td><td>812.0</td></tr><tr><td>130</td><td>Asus</td><td>E402WA-GA007T (E2-6110/4GB/64GB/W10</td><td>Notebook</td><td>277.99</td></tr><tr><td>131</td><td>Dell</td><td>Inspiron 5770</td><td>Notebook</td><td>1396.0</td></tr><tr><td>132</td><td>HP</td><td>ProBook 470</td><td>Notebook</td><td>928.0</td></tr><tr><td>133</td><td>Dell</td><td>Inspiron 5567</td><td>Notebook</td><td>638.99</td></tr><tr><td>134</td><td>Dell</td><td>Inspiron 3567</td><td>Notebook</td><td>449.0</td></tr><tr><td>135</td><td>Acer</td><td>Swift 3</td><td>Ultrabook</td><td>884.0</td></tr><tr><td>136</td><td>Acer</td><td>Aspire A515-51G-37JS</td><td>Notebook</td><td>572.0</td></tr><tr><td>137</td><td>HP</td><td>15-BS078nr (i7-7500U/8GB/1TB/W10)</td><td>Notebook</td><td>598.0</td></tr><tr><td>138</td><td>HP</td><td>Probook 440</td><td>Notebook</td><td>988.0</td></tr><tr><td>139</td><td>Lenovo</td><td>V110-15IAP (N3350/4GB/1TB/No</td><td>Notebook</td><td>252.36</td></tr><tr><td>140</td><td>Asus</td><td>FX753VD-GC086T (i5-7300HQ/8GB/1TB</td><td>Gaming</td><td>938.0</td></tr><tr><td>141</td><td>Lenovo</td><td>IdeaPad 320-15IKBN</td><td>Notebook</td><td>499.0</td></tr></tbody></table></div>"
      ]
     },
     "metadata": {
      "application/vnd.databricks.v1+output": {
       "addedWidgets": {},
       "aggData": [],
       "aggError": "",
       "aggOverflow": false,
       "aggSchema": [],
       "aggSeriesLimitReached": false,
       "aggType": "",
       "arguments": {},
       "columnCustomDisplayInfos": {},
       "data": [
        [
         21,
         "Asus",
         "Vivobook E200HA",
         "Netbook",
         191.9
        ],
        [
         22,
         "Lenovo",
         "Legion Y520-15IKBN",
         "Gaming",
         999
        ],
        [
         23,
         "HP",
         "255 G6",
         "Notebook",
         258
        ],
        [
         24,
         "Dell",
         "Inspiron 5379",
         "2 in 1 Convertible",
         819
        ],
        [
         25,
         "HP",
         "15-BS101nv (i7-8550U/8GB/256GB/FHD/W10)",
         "Ultrabook",
         659
        ],
        [
         26,
         "Dell",
         "Inspiron 3567",
         "Notebook",
         418.64
        ],
        [
         27,
         "Apple",
         "MacBook Air",
         "Ultrabook",
         1099
        ],
        [
         28,
         "Dell",
         "Inspiron 5570",
         "Notebook",
         800
        ],
        [
         29,
         "Dell",
         "Latitude 5590",
         "Ultrabook",
         1298
        ],
        [
         30,
         "HP",
         "ProBook 470",
         "Notebook",
         896
        ],
        [
         31,
         "Chuwi",
         "LapBook 15.6\"\"",
         "Notebook",
         244.99
        ],
        [
         32,
         "Asus",
         "E402WA-GA010T (E2-6110/2GB/32GB/W10)",
         "Notebook",
         199
        ],
        [
         33,
         "HP",
         "17-ak001nv (A6-9220/4GB/500GB/Radeon",
         "Notebook",
         439
        ],
        [
         34,
         "Dell",
         "XPS 13",
         "Ultrabook",
         1869
        ],
        [
         35,
         "Apple",
         "MacBook Air",
         "Ultrabook",
         998
        ],
        [
         36,
         "Lenovo",
         "IdeaPad 120S-14IAP",
         "Notebook",
         249
        ],
        [
         37,
         "Acer",
         "Aspire 3",
         "Notebook",
         367
        ],
        [
         38,
         "Dell",
         "Inspiron 5770",
         "Notebook",
         979
        ],
        [
         39,
         "HP",
         "250 G6",
         "Notebook",
         488.69
        ],
        [
         40,
         "HP",
         "ProBook 450",
         "Notebook",
         879
        ],
        [
         1,
         "Apple",
         "MacBook Pro",
         "Ultrabook",
         1339.69
        ],
        [
         2,
         "Apple",
         "Macbook Air",
         "Ultrabook",
         898.94
        ],
        [
         3,
         "HP",
         "250 G6",
         "Notebook",
         575
        ],
        [
         4,
         "Apple",
         "MacBook Pro",
         "Ultrabook",
         2537.45
        ],
        [
         5,
         "Apple",
         "MacBook Pro",
         "Ultrabook",
         1803.6
        ],
        [
         6,
         "Acer",
         "Aspire 3",
         "Notebook",
         400
        ],
        [
         7,
         "Apple",
         "MacBook Pro",
         "Ultrabook",
         2139.97
        ],
        [
         8,
         "Apple",
         "Macbook Air",
         "Ultrabook",
         1158.7
        ],
        [
         9,
         "Asus",
         "ZenBook UX430UN",
         "Ultrabook",
         1495
        ],
        [
         10,
         "Acer",
         "Swift 3",
         "Ultrabook",
         770
        ],
        [
         11,
         "HP",
         "250 G6",
         "Notebook",
         393.9
        ],
        [
         12,
         "HP",
         "250 G6",
         "Notebook",
         344.99
        ],
        [
         13,
         "Apple",
         "MacBook Pro",
         "Ultrabook",
         2439.97
        ],
        [
         14,
         "Dell",
         "Inspiron 3567",
         "Notebook",
         498.9
        ],
        [
         15,
         "Apple",
         "MacBook 12\"\"",
         "Ultrabook",
         1262.4
        ],
        [
         16,
         "Apple",
         "MacBook Pro",
         "Ultrabook",
         1518.55
        ],
        [
         17,
         "Dell",
         "Inspiron 3567",
         "Notebook",
         745
        ],
        [
         18,
         "Apple",
         "MacBook Pro",
         "Ultrabook",
         2858
        ],
        [
         19,
         "Lenovo",
         "IdeaPad 320-15IKB",
         "Notebook",
         499
        ],
        [
         20,
         "Dell",
         "XPS 13",
         "Ultrabook",
         979
        ],
        [
         41,
         "Asus",
         "X540UA-DM186 (i3-6006U/4GB/1TB/FHD/Linux)",
         "Notebook",
         389
        ],
        [
         42,
         "Dell",
         "Inspiron 7577",
         "Gaming",
         1499
        ],
        [
         43,
         "Asus",
         "X542UQ-GO005 (i5-7200U/8GB/1TB/GeForce",
         "Notebook",
         522.99
        ],
        [
         44,
         "Acer",
         "Aspire A515-51G",
         "Notebook",
         682
        ],
        [
         45,
         "Dell",
         "Inspiron 7773",
         "2 in 1 Convertible",
         999
        ],
        [
         46,
         "Apple",
         "MacBook Pro",
         "Ultrabook",
         1419
        ],
        [
         47,
         "Lenovo",
         "IdeaPad 320-15ISK",
         "Notebook",
         369
        ],
        [
         48,
         "Asus",
         "Rog Strix",
         "Gaming",
         1299
        ],
        [
         49,
         "Dell",
         "Inspiron 3567",
         "Notebook",
         639
        ],
        [
         50,
         "Asus",
         "X751NV-TY001T (N4200/4GB/1TB/GeForce",
         "Notebook",
         466
        ],
        [
         51,
         "Lenovo",
         "Yoga Book",
         "2 in 1 Convertible",
         319
        ],
        [
         52,
         "Acer",
         "Aspire A515-51G",
         "Notebook",
         841
        ],
        [
         53,
         "HP",
         "255 G6",
         "Notebook",
         398.49
        ],
        [
         54,
         "HP",
         "ProBook 430",
         "Notebook",
         1103
        ],
        [
         55,
         "Acer",
         "Aspire 3",
         "Notebook",
         384
        ],
        [
         56,
         "Dell",
         "Inspiron 3576",
         "Notebook",
         767.8
        ],
        [
         57,
         "HP",
         "15-bs002nv (i3-6006U/4GB/128GB/FHD/W10)",
         "Notebook",
         439
        ],
        [
         58,
         "Asus",
         "VivoBook Max",
         "Notebook",
         586.19
        ],
        [
         59,
         "MSI",
         "GS73VR 7RG",
         "Gaming",
         2449
        ],
        [
         60,
         "Asus",
         "X541UA-DM1897 (i3-6006U/4GB/256GB/FHD/Linux)",
         "Notebook",
         415
        ],
        [
         61,
         "Dell",
         "Inspiron 5770",
         "Notebook",
         1299
        ],
        [
         62,
         "Dell",
         "Vostro 5471",
         "Ultrabook",
         879
        ],
        [
         63,
         "Lenovo",
         "IdeaPad 520S-14IKB",
         "Notebook",
         599
        ],
        [
         64,
         "Asus",
         "UX410UA-GV350T (i5-8250U/8GB/256GB/FHD/W10)",
         "Notebook",
         941
        ],
        [
         66,
         "HP",
         "250 G6",
         "Notebook",
         690
        ],
        [
         67,
         "Asus",
         "ZenBook Pro",
         "Ultrabook",
         1983
        ],
        [
         68,
         "HP",
         "250 G6",
         "Notebook",
         438.69
        ],
        [
         69,
         "HP",
         "Stream 14-AX040wm",
         "Notebook",
         229
        ],
        [
         70,
         "Lenovo",
         "V310-15ISK (i5-7200U/4GB/1TB/FHD/W10)",
         "Notebook",
         549
        ],
        [
         71,
         "Asus",
         "FX753VE-GC093 (i7-7700HQ/12GB/1TB/GeForce",
         "Gaming",
         949
        ],
        [
         72,
         "Microsoft",
         "Surface Laptop",
         "Ultrabook",
         1089
        ],
        [
         73,
         "Dell",
         "Inspiron 5370",
         "Ultrabook",
         955
        ],
        [
         74,
         "Dell",
         "Inspiron 5570",
         "Notebook",
         870
        ],
        [
         75,
         "MSI",
         "GL72M 7RDX",
         "Gaming",
         1095
        ],
        [
         76,
         "Acer",
         "Aspire E5-475",
         "Notebook",
         389
        ],
        [
         77,
         "Asus",
         "FX503VD-E4022T (i7-7700HQ/8GB/1TB/GeForce",
         "Gaming",
         949
        ],
        [
         78,
         "Lenovo",
         "IdeaPad 320-15IKBN",
         "Notebook",
         519
        ],
        [
         79,
         "Dell",
         "Inspiron 5570",
         "Notebook",
         855
        ],
        [
         80,
         "Acer",
         "Aspire A515-51G-32MX",
         "Notebook",
         530
        ],
        [
         81,
         "HP",
         "ProBook 470",
         "Notebook",
         977
        ],
        [
         82,
         "Dell",
         "Latitude 5590",
         "Ultrabook",
         1096.16
        ],
        [
         83,
         "Apple",
         "MacBook 12\"\"",
         "Ultrabook",
         1510
        ],
        [
         84,
         "HP",
         "ProBook 440",
         "Notebook",
         860
        ],
        [
         85,
         "Lenovo",
         "IdeaPad 320-15AST",
         "Notebook",
         399
        ],
        [
         86,
         "Acer",
         "Aspire 3",
         "Notebook",
         395
        ],
        [
         87,
         "Dell",
         "Inspiron 7577",
         "Gaming",
         1349
        ],
        [
         88,
         "HP",
         "Pavilion 15-CK000nv",
         "Ultrabook",
         699
        ],
        [
         89,
         "HP",
         "250 G6",
         "Notebook",
         598.99
        ],
        [
         90,
         "Asus",
         "FX503VM-E4007T (i7-7700HQ/16GB/1TB",
         "Gaming",
         1449
        ],
        [
         91,
         "Dell",
         "XPS 13",
         "Ultrabook",
         1649
        ],
        [
         92,
         "Asus",
         "FX550IK-DM018T (FX-9830P/8GB/1TB/Radeon",
         "Gaming",
         699
        ],
        [
         93,
         "Acer",
         "Aspire 5",
         "Notebook",
         689
        ],
        [
         94,
         "HP",
         "Probook 430",
         "Notebook",
         1197
        ],
        [
         95,
         "Dell",
         "Inspiron 7577",
         "Gaming",
         1195
        ],
        [
         96,
         "Asus",
         "Zenbook UX430UA",
         "Ultrabook",
         1049
        ],
        [
         97,
         "Acer",
         "Spin 5",
         "2 in 1 Convertible",
         847
        ],
        [
         98,
         "Dell",
         "Inspiron 3567",
         "Notebook",
         599.9
        ],
        [
         99,
         "Dell",
         "Inspiron 3567",
         "Notebook",
         485
        ],
        [
         100,
         "Asus",
         "X541UV-DM1439T (i3-7100U/6GB/256GB/GeForce",
         "Notebook",
         577
        ],
        [
         102,
         "HP",
         "Omen 15-ce007nv",
         "Gaming",
         1249
        ],
        [
         103,
         "HP",
         "15-bs017nv (i7-7500U/8GB/256GB/Radeon",
         "Notebook",
         719
        ],
        [
         104,
         "HP",
         "15-bw000nv (E2-9000e/4GB/500GB/Radeon",
         "Notebook",
         349
        ],
        [
         105,
         "Dell",
         "Inspiron 3576",
         "Notebook",
         647
        ],
        [
         106,
         "HP",
         "Envy 13-ad009n",
         "Ultrabook",
         1119
        ],
        [
         107,
         "Microsoft",
         "Surface Laptop",
         "Ultrabook",
         1340
        ],
        [
         108,
         "HP",
         "Pavilion 14-BK001nv",
         "Notebook",
         659
        ],
        [
         109,
         "Lenovo",
         "Ideapad 310-15ISK",
         "Notebook",
         414.9
        ],
        [
         110,
         "Asus",
         "UX430UQ-GV209R (i7-7500U/8GB/256GB/GeForce",
         "Ultrabook",
         1193
        ],
        [
         111,
         "MSI",
         "GP62M 7REX",
         "Gaming",
         1299
        ],
        [
         112,
         "Lenovo",
         "Thinkpad T470",
         "Notebook",
         1480
        ],
        [
         113,
         "Asus",
         "VivoBook S15",
         "Ultrabook",
         1262
        ],
        [
         114,
         "Dell",
         "XPS 13",
         "Ultrabook",
         1379
        ],
        [
         115,
         "Lenovo",
         "ThinkPad Yoga",
         "2 in 1 Convertible",
         1399
        ],
        [
         116,
         "HP",
         "Probook 440",
         "Notebook",
         722
        ],
        [
         117,
         "Dell",
         "XPS 13",
         "Ultrabook",
         1629
        ],
        [
         118,
         "HP",
         "Spectre x360",
         "2 in 1 Convertible",
         1398.99
        ],
        [
         119,
         "HP",
         "Probook 440",
         "Notebook",
         1084
        ],
        [
         120,
         "Dell",
         "Inspiron 7570",
         "Notebook",
         1130.33
        ],
        [
         121,
         "Asus",
         "X705UV-BX074T (i3-6006U/4GB/1TB/GeForce",
         "Notebook",
         564
        ],
        [
         122,
         "Asus",
         "VivoBook S15",
         "Notebook",
         1118
        ],
        [
         123,
         "Acer",
         "Spin 3",
         "Notebook",
         479
        ],
        [
         124,
         "MSI",
         "GS63VR 7RG",
         "Gaming",
         2241.5
        ],
        [
         125,
         "Lenovo",
         "IdeaPad 320-15IKBN",
         "Notebook",
         629
        ],
        [
         126,
         "HP",
         "Probook 470",
         "Notebook",
         1271
        ],
        [
         127,
         "Acer",
         "Aspire 3",
         "Notebook",
         451
        ],
        [
         128,
         "HP",
         "250 G6",
         "Notebook",
         259
        ],
        [
         129,
         "HP",
         "Probook 440",
         "Notebook",
         812
        ],
        [
         130,
         "Asus",
         "E402WA-GA007T (E2-6110/4GB/64GB/W10",
         "Notebook",
         277.99
        ],
        [
         131,
         "Dell",
         "Inspiron 5770",
         "Notebook",
         1396
        ],
        [
         132,
         "HP",
         "ProBook 470",
         "Notebook",
         928
        ],
        [
         133,
         "Dell",
         "Inspiron 5567",
         "Notebook",
         638.99
        ],
        [
         134,
         "Dell",
         "Inspiron 3567",
         "Notebook",
         449
        ],
        [
         135,
         "Acer",
         "Swift 3",
         "Ultrabook",
         884
        ],
        [
         136,
         "Acer",
         "Aspire A515-51G-37JS",
         "Notebook",
         572
        ],
        [
         137,
         "HP",
         "15-BS078nr (i7-7500U/8GB/1TB/W10)",
         "Notebook",
         598
        ],
        [
         138,
         "HP",
         "Probook 440",
         "Notebook",
         988
        ],
        [
         139,
         "Lenovo",
         "V110-15IAP (N3350/4GB/1TB/No",
         "Notebook",
         252.36
        ],
        [
         140,
         "Asus",
         "FX753VD-GC086T (i5-7300HQ/8GB/1TB",
         "Gaming",
         938
        ],
        [
         141,
         "Lenovo",
         "IdeaPad 320-15IKBN",
         "Notebook",
         499
        ]
       ],
       "datasetInfos": [],
       "dbfsResultPath": null,
       "isJsonSchema": true,
       "metadata": {
        "isDbfsCommandResult": false
       },
       "overflow": false,
       "plotOptions": {
        "customPlotOptions": {},
        "displayType": "table",
        "pivotAggregation": null,
        "pivotColumns": null,
        "xColumns": null,
        "yColumns": null
       },
       "removedWidgets": [],
       "schema": [
        {
         "metadata": "{}",
         "name": "Id",
         "type": "\"integer\""
        },
        {
         "metadata": "{}",
         "name": "Company",
         "type": "\"string\""
        },
        {
         "metadata": "{}",
         "name": "Product",
         "type": "\"string\""
        },
        {
         "metadata": "{}",
         "name": "TypeName",
         "type": "\"string\""
        },
        {
         "metadata": "{}",
         "name": "Price_euros",
         "type": "\"float\""
        }
       ],
       "type": "table"
      }
     },
     "output_type": "display_data"
    }
   ],
   "source": [
    "laptop_stream_data.display()"
   ]
  },
  {
   "cell_type": "markdown",
   "metadata": {
    "application/vnd.databricks.v1+cell": {
     "inputWidgets": {},
     "nuid": "64e8fca6-84f5-44e9-813c-7b674104ce8a",
     "showTitle": false,
     "title": ""
    }
   },
   "source": [
    "TODO Recording for cell below <br>\n",
    "\n",
    "Show the table with the additional column<br>\n",
    "Click on Spark Jobs <br>\n",
    "Click on View to bring up monitoring (this should have two completed stages) <br>\n",
    "Click on Structured Streaming and show which queries are active <br>"
   ]
  },
  {
   "cell_type": "code",
   "execution_count": 0,
   "metadata": {
    "application/vnd.databricks.v1+cell": {
     "inputWidgets": {},
     "nuid": "d24976f9-5928-4d9e-ba80-59d77e55855c",
     "showTitle": false,
     "title": ""
    }
   },
   "outputs": [
    {
     "data": {
      "text/html": [
       "<style scoped>\n",
       "  .table-result-container {\n",
       "    max-height: 300px;\n",
       "    overflow: auto;\n",
       "  }\n",
       "  table, th, td {\n",
       "    border: 1px solid black;\n",
       "    border-collapse: collapse;\n",
       "  }\n",
       "  th, td {\n",
       "    padding: 5px;\n",
       "  }\n",
       "  th {\n",
       "    text-align: left;\n",
       "  }\n",
       "</style><div class='table-result-container'><table class='table-result'><thead style='background-color: white'><tr><th>Id</th><th>Company</th><th>Product</th><th>TypeName</th><th>Price_euros</th><th>Price_usd</th></tr></thead><tbody><tr><td>41</td><td>Asus</td><td>X540UA-DM186 (i3-6006U/4GB/1TB/FHD/Linux)</td><td>Notebook</td><td>389.0</td><td>559.73</td></tr><tr><td>42</td><td>Dell</td><td>Inspiron 7577</td><td>Gaming</td><td>1499.0</td><td>2156.91</td></tr><tr><td>43</td><td>Asus</td><td>X542UQ-GO005 (i5-7200U/8GB/1TB/GeForce</td><td>Notebook</td><td>522.99</td><td>752.53</td></tr><tr><td>44</td><td>Acer</td><td>Aspire A515-51G</td><td>Notebook</td><td>682.0</td><td>981.33</td></tr><tr><td>45</td><td>Dell</td><td>Inspiron 7773</td><td>2 in 1 Convertible</td><td>999.0</td><td>1437.46</td></tr><tr><td>46</td><td>Apple</td><td>MacBook Pro</td><td>Ultrabook</td><td>1419.0</td><td>2041.8</td></tr><tr><td>47</td><td>Lenovo</td><td>IdeaPad 320-15ISK</td><td>Notebook</td><td>369.0</td><td>530.95</td></tr><tr><td>48</td><td>Asus</td><td>Rog Strix</td><td>Gaming</td><td>1299.0</td><td>1869.13</td></tr><tr><td>49</td><td>Dell</td><td>Inspiron 3567</td><td>Notebook</td><td>639.0</td><td>919.46</td></tr><tr><td>50</td><td>Asus</td><td>X751NV-TY001T (N4200/4GB/1TB/GeForce</td><td>Notebook</td><td>466.0</td><td>670.53</td></tr><tr><td>51</td><td>Lenovo</td><td>Yoga Book</td><td>2 in 1 Convertible</td><td>319.0</td><td>459.01</td></tr><tr><td>52</td><td>Acer</td><td>Aspire A515-51G</td><td>Notebook</td><td>841.0</td><td>1210.11</td></tr><tr><td>53</td><td>HP</td><td>255 G6</td><td>Notebook</td><td>398.49</td><td>573.39</td></tr><tr><td>54</td><td>HP</td><td>ProBook 430</td><td>Notebook</td><td>1103.0</td><td>1587.11</td></tr><tr><td>55</td><td>Acer</td><td>Aspire 3</td><td>Notebook</td><td>384.0</td><td>552.54</td></tr><tr><td>56</td><td>Dell</td><td>Inspiron 3576</td><td>Notebook</td><td>767.8</td><td>1104.79</td></tr><tr><td>57</td><td>HP</td><td>15-bs002nv (i3-6006U/4GB/128GB/FHD/W10)</td><td>Notebook</td><td>439.0</td><td>631.68</td></tr><tr><td>58</td><td>Asus</td><td>VivoBook Max</td><td>Notebook</td><td>586.19</td><td>843.47</td></tr><tr><td>59</td><td>MSI</td><td>GS73VR 7RG</td><td>Gaming</td><td>2449.0</td><td>3523.87</td></tr><tr><td>21</td><td>Asus</td><td>Vivobook E200HA</td><td>Netbook</td><td>191.9</td><td>276.12</td></tr><tr><td>22</td><td>Lenovo</td><td>Legion Y520-15IKBN</td><td>Gaming</td><td>999.0</td><td>1437.46</td></tr><tr><td>23</td><td>HP</td><td>255 G6</td><td>Notebook</td><td>258.0</td><td>371.24</td></tr><tr><td>24</td><td>Dell</td><td>Inspiron 5379</td><td>2 in 1 Convertible</td><td>819.0</td><td>1178.46</td></tr><tr><td>25</td><td>HP</td><td>15-BS101nv (i7-8550U/8GB/256GB/FHD/W10)</td><td>Ultrabook</td><td>659.0</td><td>948.24</td></tr><tr><td>26</td><td>Dell</td><td>Inspiron 3567</td><td>Notebook</td><td>418.64</td><td>602.38</td></tr><tr><td>27</td><td>Apple</td><td>MacBook Air</td><td>Ultrabook</td><td>1099.0</td><td>1581.35</td></tr><tr><td>28</td><td>Dell</td><td>Inspiron 5570</td><td>Notebook</td><td>800.0</td><td>1151.12</td></tr><tr><td>29</td><td>Dell</td><td>Latitude 5590</td><td>Ultrabook</td><td>1298.0</td><td>1867.69</td></tr><tr><td>30</td><td>HP</td><td>ProBook 470</td><td>Notebook</td><td>896.0</td><td>1289.25</td></tr><tr><td>31</td><td>Chuwi</td><td>LapBook 15.6\"\"</td><td>Notebook</td><td>244.99</td><td>352.52</td></tr><tr><td>32</td><td>Asus</td><td>E402WA-GA010T (E2-6110/2GB/32GB/W10)</td><td>Notebook</td><td>199.0</td><td>286.34</td></tr><tr><td>33</td><td>HP</td><td>17-ak001nv (A6-9220/4GB/500GB/Radeon</td><td>Notebook</td><td>439.0</td><td>631.68</td></tr><tr><td>34</td><td>Dell</td><td>XPS 13</td><td>Ultrabook</td><td>1869.0</td><td>2689.3</td></tr><tr><td>35</td><td>Apple</td><td>MacBook Air</td><td>Ultrabook</td><td>998.0</td><td>1436.02</td></tr><tr><td>36</td><td>Lenovo</td><td>IdeaPad 120S-14IAP</td><td>Notebook</td><td>249.0</td><td>358.29</td></tr><tr><td>37</td><td>Acer</td><td>Aspire 3</td><td>Notebook</td><td>367.0</td><td>528.08</td></tr><tr><td>38</td><td>Dell</td><td>Inspiron 5770</td><td>Notebook</td><td>979.0</td><td>1408.68</td></tr><tr><td>39</td><td>HP</td><td>250 G6</td><td>Notebook</td><td>488.69</td><td>703.18</td></tr><tr><td>40</td><td>HP</td><td>ProBook 450</td><td>Notebook</td><td>879.0</td><td>1264.79</td></tr><tr><td>1</td><td>Apple</td><td>MacBook Pro</td><td>Ultrabook</td><td>1339.69</td><td>1927.68</td></tr><tr><td>2</td><td>Apple</td><td>Macbook Air</td><td>Ultrabook</td><td>898.94</td><td>1293.48</td></tr><tr><td>3</td><td>HP</td><td>250 G6</td><td>Notebook</td><td>575.0</td><td>827.37</td></tr><tr><td>4</td><td>Apple</td><td>MacBook Pro</td><td>Ultrabook</td><td>2537.45</td><td>3651.14</td></tr><tr><td>5</td><td>Apple</td><td>MacBook Pro</td><td>Ultrabook</td><td>1803.6</td><td>2595.2</td></tr><tr><td>6</td><td>Acer</td><td>Aspire 3</td><td>Notebook</td><td>400.0</td><td>575.56</td></tr><tr><td>7</td><td>Apple</td><td>MacBook Pro</td><td>Ultrabook</td><td>2139.97</td><td>3079.2</td></tr><tr><td>8</td><td>Apple</td><td>Macbook Air</td><td>Ultrabook</td><td>1158.7</td><td>1667.25</td></tr><tr><td>9</td><td>Asus</td><td>ZenBook UX430UN</td><td>Ultrabook</td><td>1495.0</td><td>2151.16</td></tr><tr><td>10</td><td>Acer</td><td>Swift 3</td><td>Ultrabook</td><td>770.0</td><td>1107.95</td></tr><tr><td>11</td><td>HP</td><td>250 G6</td><td>Notebook</td><td>393.9</td><td>566.78</td></tr><tr><td>12</td><td>HP</td><td>250 G6</td><td>Notebook</td><td>344.99</td><td>496.41</td></tr><tr><td>13</td><td>Apple</td><td>MacBook Pro</td><td>Ultrabook</td><td>2439.97</td><td>3510.87</td></tr><tr><td>14</td><td>Dell</td><td>Inspiron 3567</td><td>Notebook</td><td>498.9</td><td>717.87</td></tr><tr><td>15</td><td>Apple</td><td>MacBook 12\"\"</td><td>Ultrabook</td><td>1262.4</td><td>1816.47</td></tr><tr><td>16</td><td>Apple</td><td>MacBook Pro</td><td>Ultrabook</td><td>1518.55</td><td>2185.04</td></tr><tr><td>17</td><td>Dell</td><td>Inspiron 3567</td><td>Notebook</td><td>745.0</td><td>1071.98</td></tr><tr><td>18</td><td>Apple</td><td>MacBook Pro</td><td>Ultrabook</td><td>2858.0</td><td>4112.38</td></tr><tr><td>19</td><td>Lenovo</td><td>IdeaPad 320-15IKB</td><td>Notebook</td><td>499.0</td><td>718.01</td></tr><tr><td>20</td><td>Dell</td><td>XPS 13</td><td>Ultrabook</td><td>979.0</td><td>1408.68</td></tr><tr><td>60</td><td>Asus</td><td>X541UA-DM1897 (i3-6006U/4GB/256GB/FHD/Linux)</td><td>Notebook</td><td>415.0</td><td>597.14</td></tr><tr><td>61</td><td>Dell</td><td>Inspiron 5770</td><td>Notebook</td><td>1299.0</td><td>1869.13</td></tr><tr><td>62</td><td>Dell</td><td>Vostro 5471</td><td>Ultrabook</td><td>879.0</td><td>1264.79</td></tr><tr><td>63</td><td>Lenovo</td><td>IdeaPad 520S-14IKB</td><td>Notebook</td><td>599.0</td><td>861.9</td></tr><tr><td>64</td><td>Asus</td><td>UX410UA-GV350T (i5-8250U/8GB/256GB/FHD/W10)</td><td>Notebook</td><td>941.0</td><td>1354.0</td></tr><tr><td>66</td><td>HP</td><td>250 G6</td><td>Notebook</td><td>690.0</td><td>992.84</td></tr><tr><td>67</td><td>Asus</td><td>ZenBook Pro</td><td>Ultrabook</td><td>1983.0</td><td>2853.34</td></tr><tr><td>68</td><td>HP</td><td>250 G6</td><td>Notebook</td><td>438.69</td><td>631.23</td></tr><tr><td>69</td><td>HP</td><td>Stream 14-AX040wm</td><td>Notebook</td><td>229.0</td><td>329.51</td></tr><tr><td>70</td><td>Lenovo</td><td>V310-15ISK (i5-7200U/4GB/1TB/FHD/W10)</td><td>Notebook</td><td>549.0</td><td>789.96</td></tr><tr><td>71</td><td>Asus</td><td>FX753VE-GC093 (i7-7700HQ/12GB/1TB/GeForce</td><td>Gaming</td><td>949.0</td><td>1365.52</td></tr><tr><td>72</td><td>Microsoft</td><td>Surface Laptop</td><td>Ultrabook</td><td>1089.0</td><td>1566.96</td></tr><tr><td>73</td><td>Dell</td><td>Inspiron 5370</td><td>Ultrabook</td><td>955.0</td><td>1374.15</td></tr><tr><td>74</td><td>Dell</td><td>Inspiron 5570</td><td>Notebook</td><td>870.0</td><td>1251.84</td></tr><tr><td>75</td><td>MSI</td><td>GL72M 7RDX</td><td>Gaming</td><td>1095.0</td><td>1575.6</td></tr><tr><td>76</td><td>Acer</td><td>Aspire E5-475</td><td>Notebook</td><td>389.0</td><td>559.73</td></tr><tr><td>77</td><td>Asus</td><td>FX503VD-E4022T (i7-7700HQ/8GB/1TB/GeForce</td><td>Gaming</td><td>949.0</td><td>1365.52</td></tr><tr><td>78</td><td>Lenovo</td><td>IdeaPad 320-15IKBN</td><td>Notebook</td><td>519.0</td><td>746.79</td></tr><tr><td>79</td><td>Dell</td><td>Inspiron 5570</td><td>Notebook</td><td>855.0</td><td>1230.26</td></tr><tr><td>80</td><td>Acer</td><td>Aspire A515-51G-32MX</td><td>Notebook</td><td>530.0</td><td>762.62</td></tr><tr><td>81</td><td>HP</td><td>ProBook 470</td><td>Notebook</td><td>977.0</td><td>1405.81</td></tr><tr><td>82</td><td>Dell</td><td>Latitude 5590</td><td>Ultrabook</td><td>1096.16</td><td>1577.26</td></tr><tr><td>83</td><td>Apple</td><td>MacBook 12\"\"</td><td>Ultrabook</td><td>1510.0</td><td>2172.74</td></tr><tr><td>84</td><td>HP</td><td>ProBook 440</td><td>Notebook</td><td>860.0</td><td>1237.45</td></tr><tr><td>85</td><td>Lenovo</td><td>IdeaPad 320-15AST</td><td>Notebook</td><td>399.0</td><td>574.12</td></tr><tr><td>86</td><td>Acer</td><td>Aspire 3</td><td>Notebook</td><td>395.0</td><td>568.37</td></tr><tr><td>87</td><td>Dell</td><td>Inspiron 7577</td><td>Gaming</td><td>1349.0</td><td>1941.08</td></tr><tr><td>88</td><td>HP</td><td>Pavilion 15-CK000nv</td><td>Ultrabook</td><td>699.0</td><td>1005.79</td></tr><tr><td>89</td><td>HP</td><td>250 G6</td><td>Notebook</td><td>598.99</td><td>861.89</td></tr><tr><td>90</td><td>Asus</td><td>FX503VM-E4007T (i7-7700HQ/16GB/1TB</td><td>Gaming</td><td>1449.0</td><td>2084.97</td></tr><tr><td>91</td><td>Dell</td><td>XPS 13</td><td>Ultrabook</td><td>1649.0</td><td>2372.75</td></tr><tr><td>92</td><td>Asus</td><td>FX550IK-DM018T (FX-9830P/8GB/1TB/Radeon</td><td>Gaming</td><td>699.0</td><td>1005.79</td></tr><tr><td>93</td><td>Acer</td><td>Aspire 5</td><td>Notebook</td><td>689.0</td><td>991.4</td></tr><tr><td>94</td><td>HP</td><td>Probook 430</td><td>Notebook</td><td>1197.0</td><td>1722.36</td></tr><tr><td>95</td><td>Dell</td><td>Inspiron 7577</td><td>Gaming</td><td>1195.0</td><td>1719.49</td></tr><tr><td>96</td><td>Asus</td><td>Zenbook UX430UA</td><td>Ultrabook</td><td>1049.0</td><td>1509.41</td></tr><tr><td>97</td><td>Acer</td><td>Spin 5</td><td>2 in 1 Convertible</td><td>847.0</td><td>1218.75</td></tr><tr><td>98</td><td>Dell</td><td>Inspiron 3567</td><td>Notebook</td><td>599.9</td><td>863.2</td></tr><tr><td>99</td><td>Dell</td><td>Inspiron 3567</td><td>Notebook</td><td>485.0</td><td>697.87</td></tr><tr><td>100</td><td>Asus</td><td>X541UV-DM1439T (i3-7100U/6GB/256GB/GeForce</td><td>Notebook</td><td>577.0</td><td>830.25</td></tr><tr><td>102</td><td>HP</td><td>Omen 15-ce007nv</td><td>Gaming</td><td>1249.0</td><td>1797.19</td></tr><tr><td>103</td><td>HP</td><td>15-bs017nv (i7-7500U/8GB/256GB/Radeon</td><td>Notebook</td><td>719.0</td><td>1034.57</td></tr><tr><td>104</td><td>HP</td><td>15-bw000nv (E2-9000e/4GB/500GB/Radeon</td><td>Notebook</td><td>349.0</td><td>502.18</td></tr><tr><td>105</td><td>Dell</td><td>Inspiron 3576</td><td>Notebook</td><td>647.0</td><td>930.97</td></tr><tr><td>106</td><td>HP</td><td>Envy 13-ad009n</td><td>Ultrabook</td><td>1119.0</td><td>1610.13</td></tr><tr><td>107</td><td>Microsoft</td><td>Surface Laptop</td><td>Ultrabook</td><td>1340.0</td><td>1928.13</td></tr><tr><td>108</td><td>HP</td><td>Pavilion 14-BK001nv</td><td>Notebook</td><td>659.0</td><td>948.24</td></tr><tr><td>109</td><td>Lenovo</td><td>Ideapad 310-15ISK</td><td>Notebook</td><td>414.9</td><td>597.0</td></tr><tr><td>110</td><td>Asus</td><td>UX430UQ-GV209R (i7-7500U/8GB/256GB/GeForce</td><td>Ultrabook</td><td>1193.0</td><td>1716.61</td></tr><tr><td>111</td><td>MSI</td><td>GP62M 7REX</td><td>Gaming</td><td>1299.0</td><td>1869.13</td></tr><tr><td>112</td><td>Lenovo</td><td>Thinkpad T470</td><td>Notebook</td><td>1480.0</td><td>2129.57</td></tr><tr><td>113</td><td>Asus</td><td>VivoBook S15</td><td>Ultrabook</td><td>1262.0</td><td>1815.89</td></tr><tr><td>114</td><td>Dell</td><td>XPS 13</td><td>Ultrabook</td><td>1379.0</td><td>1984.24</td></tr><tr><td>115</td><td>Lenovo</td><td>ThinkPad Yoga</td><td>2 in 1 Convertible</td><td>1399.0</td><td>2013.02</td></tr><tr><td>116</td><td>HP</td><td>Probook 440</td><td>Notebook</td><td>722.0</td><td>1038.89</td></tr><tr><td>117</td><td>Dell</td><td>XPS 13</td><td>Ultrabook</td><td>1629.0</td><td>2343.97</td></tr><tr><td>118</td><td>HP</td><td>Spectre x360</td><td>2 in 1 Convertible</td><td>1398.99</td><td>2013.01</td></tr><tr><td>119</td><td>HP</td><td>Probook 440</td><td>Notebook</td><td>1084.0</td><td>1559.77</td></tr><tr><td>120</td><td>Dell</td><td>Inspiron 7570</td><td>Notebook</td><td>1130.33</td><td>1626.43</td></tr><tr><td>121</td><td>Asus</td><td>X705UV-BX074T (i3-6006U/4GB/1TB/GeForce</td><td>Notebook</td><td>564.0</td><td>811.54</td></tr><tr><td>122</td><td>Asus</td><td>VivoBook S15</td><td>Notebook</td><td>1118.0</td><td>1608.69</td></tr><tr><td>123</td><td>Acer</td><td>Spin 3</td><td>Notebook</td><td>479.0</td><td>689.23</td></tr><tr><td>124</td><td>MSI</td><td>GS63VR 7RG</td><td>Gaming</td><td>2241.5</td><td>3225.29</td></tr><tr><td>125</td><td>Lenovo</td><td>IdeaPad 320-15IKBN</td><td>Notebook</td><td>629.0</td><td>905.07</td></tr><tr><td>126</td><td>HP</td><td>Probook 470</td><td>Notebook</td><td>1271.0</td><td>1828.84</td></tr><tr><td>127</td><td>Acer</td><td>Aspire 3</td><td>Notebook</td><td>451.0</td><td>648.94</td></tr><tr><td>128</td><td>HP</td><td>250 G6</td><td>Notebook</td><td>259.0</td><td>372.68</td></tr><tr><td>129</td><td>HP</td><td>Probook 440</td><td>Notebook</td><td>812.0</td><td>1168.39</td></tr><tr><td>130</td><td>Asus</td><td>E402WA-GA007T (E2-6110/4GB/64GB/W10</td><td>Notebook</td><td>277.99</td><td>400.0</td></tr><tr><td>131</td><td>Dell</td><td>Inspiron 5770</td><td>Notebook</td><td>1396.0</td><td>2008.7</td></tr><tr><td>132</td><td>HP</td><td>ProBook 470</td><td>Notebook</td><td>928.0</td><td>1335.3</td></tr><tr><td>133</td><td>Dell</td><td>Inspiron 5567</td><td>Notebook</td><td>638.99</td><td>919.44</td></tr><tr><td>134</td><td>Dell</td><td>Inspiron 3567</td><td>Notebook</td><td>449.0</td><td>646.07</td></tr><tr><td>135</td><td>Acer</td><td>Swift 3</td><td>Ultrabook</td><td>884.0</td><td>1271.99</td></tr><tr><td>136</td><td>Acer</td><td>Aspire A515-51G-37JS</td><td>Notebook</td><td>572.0</td><td>823.05</td></tr><tr><td>137</td><td>HP</td><td>15-BS078nr (i7-7500U/8GB/1TB/W10)</td><td>Notebook</td><td>598.0</td><td>860.46</td></tr><tr><td>138</td><td>HP</td><td>Probook 440</td><td>Notebook</td><td>988.0</td><td>1421.63</td></tr><tr><td>139</td><td>Lenovo</td><td>V110-15IAP (N3350/4GB/1TB/No</td><td>Notebook</td><td>252.36</td><td>363.12</td></tr><tr><td>140</td><td>Asus</td><td>FX753VD-GC086T (i5-7300HQ/8GB/1TB</td><td>Gaming</td><td>938.0</td><td>1349.69</td></tr><tr><td>141</td><td>Lenovo</td><td>IdeaPad 320-15IKBN</td><td>Notebook</td><td>499.0</td><td>718.01</td></tr></tbody></table></div>"
      ]
     },
     "metadata": {
      "application/vnd.databricks.v1+output": {
       "addedWidgets": {},
       "aggData": [],
       "aggError": "",
       "aggOverflow": false,
       "aggSchema": [],
       "aggSeriesLimitReached": false,
       "aggType": "",
       "arguments": {},
       "columnCustomDisplayInfos": {},
       "data": [
        [
         41,
         "Asus",
         "X540UA-DM186 (i3-6006U/4GB/1TB/FHD/Linux)",
         "Notebook",
         389,
         559.73
        ],
        [
         42,
         "Dell",
         "Inspiron 7577",
         "Gaming",
         1499,
         2156.91
        ],
        [
         43,
         "Asus",
         "X542UQ-GO005 (i5-7200U/8GB/1TB/GeForce",
         "Notebook",
         522.99,
         752.53
        ],
        [
         44,
         "Acer",
         "Aspire A515-51G",
         "Notebook",
         682,
         981.33
        ],
        [
         45,
         "Dell",
         "Inspiron 7773",
         "2 in 1 Convertible",
         999,
         1437.46
        ],
        [
         46,
         "Apple",
         "MacBook Pro",
         "Ultrabook",
         1419,
         2041.8
        ],
        [
         47,
         "Lenovo",
         "IdeaPad 320-15ISK",
         "Notebook",
         369,
         530.95
        ],
        [
         48,
         "Asus",
         "Rog Strix",
         "Gaming",
         1299,
         1869.13
        ],
        [
         49,
         "Dell",
         "Inspiron 3567",
         "Notebook",
         639,
         919.46
        ],
        [
         50,
         "Asus",
         "X751NV-TY001T (N4200/4GB/1TB/GeForce",
         "Notebook",
         466,
         670.53
        ],
        [
         51,
         "Lenovo",
         "Yoga Book",
         "2 in 1 Convertible",
         319,
         459.01
        ],
        [
         52,
         "Acer",
         "Aspire A515-51G",
         "Notebook",
         841,
         1210.11
        ],
        [
         53,
         "HP",
         "255 G6",
         "Notebook",
         398.49,
         573.39
        ],
        [
         54,
         "HP",
         "ProBook 430",
         "Notebook",
         1103,
         1587.11
        ],
        [
         55,
         "Acer",
         "Aspire 3",
         "Notebook",
         384,
         552.54
        ],
        [
         56,
         "Dell",
         "Inspiron 3576",
         "Notebook",
         767.8,
         1104.79
        ],
        [
         57,
         "HP",
         "15-bs002nv (i3-6006U/4GB/128GB/FHD/W10)",
         "Notebook",
         439,
         631.68
        ],
        [
         58,
         "Asus",
         "VivoBook Max",
         "Notebook",
         586.19,
         843.47
        ],
        [
         59,
         "MSI",
         "GS73VR 7RG",
         "Gaming",
         2449,
         3523.87
        ],
        [
         21,
         "Asus",
         "Vivobook E200HA",
         "Netbook",
         191.9,
         276.12
        ],
        [
         22,
         "Lenovo",
         "Legion Y520-15IKBN",
         "Gaming",
         999,
         1437.46
        ],
        [
         23,
         "HP",
         "255 G6",
         "Notebook",
         258,
         371.24
        ],
        [
         24,
         "Dell",
         "Inspiron 5379",
         "2 in 1 Convertible",
         819,
         1178.46
        ],
        [
         25,
         "HP",
         "15-BS101nv (i7-8550U/8GB/256GB/FHD/W10)",
         "Ultrabook",
         659,
         948.24
        ],
        [
         26,
         "Dell",
         "Inspiron 3567",
         "Notebook",
         418.64,
         602.38
        ],
        [
         27,
         "Apple",
         "MacBook Air",
         "Ultrabook",
         1099,
         1581.35
        ],
        [
         28,
         "Dell",
         "Inspiron 5570",
         "Notebook",
         800,
         1151.12
        ],
        [
         29,
         "Dell",
         "Latitude 5590",
         "Ultrabook",
         1298,
         1867.69
        ],
        [
         30,
         "HP",
         "ProBook 470",
         "Notebook",
         896,
         1289.25
        ],
        [
         31,
         "Chuwi",
         "LapBook 15.6\"\"",
         "Notebook",
         244.99,
         352.52
        ],
        [
         32,
         "Asus",
         "E402WA-GA010T (E2-6110/2GB/32GB/W10)",
         "Notebook",
         199,
         286.34
        ],
        [
         33,
         "HP",
         "17-ak001nv (A6-9220/4GB/500GB/Radeon",
         "Notebook",
         439,
         631.68
        ],
        [
         34,
         "Dell",
         "XPS 13",
         "Ultrabook",
         1869,
         2689.3
        ],
        [
         35,
         "Apple",
         "MacBook Air",
         "Ultrabook",
         998,
         1436.02
        ],
        [
         36,
         "Lenovo",
         "IdeaPad 120S-14IAP",
         "Notebook",
         249,
         358.29
        ],
        [
         37,
         "Acer",
         "Aspire 3",
         "Notebook",
         367,
         528.08
        ],
        [
         38,
         "Dell",
         "Inspiron 5770",
         "Notebook",
         979,
         1408.68
        ],
        [
         39,
         "HP",
         "250 G6",
         "Notebook",
         488.69,
         703.18
        ],
        [
         40,
         "HP",
         "ProBook 450",
         "Notebook",
         879,
         1264.79
        ],
        [
         1,
         "Apple",
         "MacBook Pro",
         "Ultrabook",
         1339.69,
         1927.68
        ],
        [
         2,
         "Apple",
         "Macbook Air",
         "Ultrabook",
         898.94,
         1293.48
        ],
        [
         3,
         "HP",
         "250 G6",
         "Notebook",
         575,
         827.37
        ],
        [
         4,
         "Apple",
         "MacBook Pro",
         "Ultrabook",
         2537.45,
         3651.14
        ],
        [
         5,
         "Apple",
         "MacBook Pro",
         "Ultrabook",
         1803.6,
         2595.2
        ],
        [
         6,
         "Acer",
         "Aspire 3",
         "Notebook",
         400,
         575.56
        ],
        [
         7,
         "Apple",
         "MacBook Pro",
         "Ultrabook",
         2139.97,
         3079.2
        ],
        [
         8,
         "Apple",
         "Macbook Air",
         "Ultrabook",
         1158.7,
         1667.25
        ],
        [
         9,
         "Asus",
         "ZenBook UX430UN",
         "Ultrabook",
         1495,
         2151.16
        ],
        [
         10,
         "Acer",
         "Swift 3",
         "Ultrabook",
         770,
         1107.95
        ],
        [
         11,
         "HP",
         "250 G6",
         "Notebook",
         393.9,
         566.78
        ],
        [
         12,
         "HP",
         "250 G6",
         "Notebook",
         344.99,
         496.41
        ],
        [
         13,
         "Apple",
         "MacBook Pro",
         "Ultrabook",
         2439.97,
         3510.87
        ],
        [
         14,
         "Dell",
         "Inspiron 3567",
         "Notebook",
         498.9,
         717.87
        ],
        [
         15,
         "Apple",
         "MacBook 12\"\"",
         "Ultrabook",
         1262.4,
         1816.47
        ],
        [
         16,
         "Apple",
         "MacBook Pro",
         "Ultrabook",
         1518.55,
         2185.04
        ],
        [
         17,
         "Dell",
         "Inspiron 3567",
         "Notebook",
         745,
         1071.98
        ],
        [
         18,
         "Apple",
         "MacBook Pro",
         "Ultrabook",
         2858,
         4112.38
        ],
        [
         19,
         "Lenovo",
         "IdeaPad 320-15IKB",
         "Notebook",
         499,
         718.01
        ],
        [
         20,
         "Dell",
         "XPS 13",
         "Ultrabook",
         979,
         1408.68
        ],
        [
         60,
         "Asus",
         "X541UA-DM1897 (i3-6006U/4GB/256GB/FHD/Linux)",
         "Notebook",
         415,
         597.14
        ],
        [
         61,
         "Dell",
         "Inspiron 5770",
         "Notebook",
         1299,
         1869.13
        ],
        [
         62,
         "Dell",
         "Vostro 5471",
         "Ultrabook",
         879,
         1264.79
        ],
        [
         63,
         "Lenovo",
         "IdeaPad 520S-14IKB",
         "Notebook",
         599,
         861.9
        ],
        [
         64,
         "Asus",
         "UX410UA-GV350T (i5-8250U/8GB/256GB/FHD/W10)",
         "Notebook",
         941,
         1354
        ],
        [
         66,
         "HP",
         "250 G6",
         "Notebook",
         690,
         992.84
        ],
        [
         67,
         "Asus",
         "ZenBook Pro",
         "Ultrabook",
         1983,
         2853.34
        ],
        [
         68,
         "HP",
         "250 G6",
         "Notebook",
         438.69,
         631.23
        ],
        [
         69,
         "HP",
         "Stream 14-AX040wm",
         "Notebook",
         229,
         329.51
        ],
        [
         70,
         "Lenovo",
         "V310-15ISK (i5-7200U/4GB/1TB/FHD/W10)",
         "Notebook",
         549,
         789.96
        ],
        [
         71,
         "Asus",
         "FX753VE-GC093 (i7-7700HQ/12GB/1TB/GeForce",
         "Gaming",
         949,
         1365.52
        ],
        [
         72,
         "Microsoft",
         "Surface Laptop",
         "Ultrabook",
         1089,
         1566.96
        ],
        [
         73,
         "Dell",
         "Inspiron 5370",
         "Ultrabook",
         955,
         1374.15
        ],
        [
         74,
         "Dell",
         "Inspiron 5570",
         "Notebook",
         870,
         1251.84
        ],
        [
         75,
         "MSI",
         "GL72M 7RDX",
         "Gaming",
         1095,
         1575.6
        ],
        [
         76,
         "Acer",
         "Aspire E5-475",
         "Notebook",
         389,
         559.73
        ],
        [
         77,
         "Asus",
         "FX503VD-E4022T (i7-7700HQ/8GB/1TB/GeForce",
         "Gaming",
         949,
         1365.52
        ],
        [
         78,
         "Lenovo",
         "IdeaPad 320-15IKBN",
         "Notebook",
         519,
         746.79
        ],
        [
         79,
         "Dell",
         "Inspiron 5570",
         "Notebook",
         855,
         1230.26
        ],
        [
         80,
         "Acer",
         "Aspire A515-51G-32MX",
         "Notebook",
         530,
         762.62
        ],
        [
         81,
         "HP",
         "ProBook 470",
         "Notebook",
         977,
         1405.81
        ],
        [
         82,
         "Dell",
         "Latitude 5590",
         "Ultrabook",
         1096.16,
         1577.26
        ],
        [
         83,
         "Apple",
         "MacBook 12\"\"",
         "Ultrabook",
         1510,
         2172.74
        ],
        [
         84,
         "HP",
         "ProBook 440",
         "Notebook",
         860,
         1237.45
        ],
        [
         85,
         "Lenovo",
         "IdeaPad 320-15AST",
         "Notebook",
         399,
         574.12
        ],
        [
         86,
         "Acer",
         "Aspire 3",
         "Notebook",
         395,
         568.37
        ],
        [
         87,
         "Dell",
         "Inspiron 7577",
         "Gaming",
         1349,
         1941.08
        ],
        [
         88,
         "HP",
         "Pavilion 15-CK000nv",
         "Ultrabook",
         699,
         1005.79
        ],
        [
         89,
         "HP",
         "250 G6",
         "Notebook",
         598.99,
         861.89
        ],
        [
         90,
         "Asus",
         "FX503VM-E4007T (i7-7700HQ/16GB/1TB",
         "Gaming",
         1449,
         2084.97
        ],
        [
         91,
         "Dell",
         "XPS 13",
         "Ultrabook",
         1649,
         2372.75
        ],
        [
         92,
         "Asus",
         "FX550IK-DM018T (FX-9830P/8GB/1TB/Radeon",
         "Gaming",
         699,
         1005.79
        ],
        [
         93,
         "Acer",
         "Aspire 5",
         "Notebook",
         689,
         991.4
        ],
        [
         94,
         "HP",
         "Probook 430",
         "Notebook",
         1197,
         1722.36
        ],
        [
         95,
         "Dell",
         "Inspiron 7577",
         "Gaming",
         1195,
         1719.49
        ],
        [
         96,
         "Asus",
         "Zenbook UX430UA",
         "Ultrabook",
         1049,
         1509.41
        ],
        [
         97,
         "Acer",
         "Spin 5",
         "2 in 1 Convertible",
         847,
         1218.75
        ],
        [
         98,
         "Dell",
         "Inspiron 3567",
         "Notebook",
         599.9,
         863.2
        ],
        [
         99,
         "Dell",
         "Inspiron 3567",
         "Notebook",
         485,
         697.87
        ],
        [
         100,
         "Asus",
         "X541UV-DM1439T (i3-7100U/6GB/256GB/GeForce",
         "Notebook",
         577,
         830.25
        ],
        [
         102,
         "HP",
         "Omen 15-ce007nv",
         "Gaming",
         1249,
         1797.19
        ],
        [
         103,
         "HP",
         "15-bs017nv (i7-7500U/8GB/256GB/Radeon",
         "Notebook",
         719,
         1034.57
        ],
        [
         104,
         "HP",
         "15-bw000nv (E2-9000e/4GB/500GB/Radeon",
         "Notebook",
         349,
         502.18
        ],
        [
         105,
         "Dell",
         "Inspiron 3576",
         "Notebook",
         647,
         930.97
        ],
        [
         106,
         "HP",
         "Envy 13-ad009n",
         "Ultrabook",
         1119,
         1610.13
        ],
        [
         107,
         "Microsoft",
         "Surface Laptop",
         "Ultrabook",
         1340,
         1928.13
        ],
        [
         108,
         "HP",
         "Pavilion 14-BK001nv",
         "Notebook",
         659,
         948.24
        ],
        [
         109,
         "Lenovo",
         "Ideapad 310-15ISK",
         "Notebook",
         414.9,
         597
        ],
        [
         110,
         "Asus",
         "UX430UQ-GV209R (i7-7500U/8GB/256GB/GeForce",
         "Ultrabook",
         1193,
         1716.61
        ],
        [
         111,
         "MSI",
         "GP62M 7REX",
         "Gaming",
         1299,
         1869.13
        ],
        [
         112,
         "Lenovo",
         "Thinkpad T470",
         "Notebook",
         1480,
         2129.57
        ],
        [
         113,
         "Asus",
         "VivoBook S15",
         "Ultrabook",
         1262,
         1815.89
        ],
        [
         114,
         "Dell",
         "XPS 13",
         "Ultrabook",
         1379,
         1984.24
        ],
        [
         115,
         "Lenovo",
         "ThinkPad Yoga",
         "2 in 1 Convertible",
         1399,
         2013.02
        ],
        [
         116,
         "HP",
         "Probook 440",
         "Notebook",
         722,
         1038.89
        ],
        [
         117,
         "Dell",
         "XPS 13",
         "Ultrabook",
         1629,
         2343.97
        ],
        [
         118,
         "HP",
         "Spectre x360",
         "2 in 1 Convertible",
         1398.99,
         2013.01
        ],
        [
         119,
         "HP",
         "Probook 440",
         "Notebook",
         1084,
         1559.77
        ],
        [
         120,
         "Dell",
         "Inspiron 7570",
         "Notebook",
         1130.33,
         1626.43
        ],
        [
         121,
         "Asus",
         "X705UV-BX074T (i3-6006U/4GB/1TB/GeForce",
         "Notebook",
         564,
         811.54
        ],
        [
         122,
         "Asus",
         "VivoBook S15",
         "Notebook",
         1118,
         1608.69
        ],
        [
         123,
         "Acer",
         "Spin 3",
         "Notebook",
         479,
         689.23
        ],
        [
         124,
         "MSI",
         "GS63VR 7RG",
         "Gaming",
         2241.5,
         3225.29
        ],
        [
         125,
         "Lenovo",
         "IdeaPad 320-15IKBN",
         "Notebook",
         629,
         905.07
        ],
        [
         126,
         "HP",
         "Probook 470",
         "Notebook",
         1271,
         1828.84
        ],
        [
         127,
         "Acer",
         "Aspire 3",
         "Notebook",
         451,
         648.94
        ],
        [
         128,
         "HP",
         "250 G6",
         "Notebook",
         259,
         372.68
        ],
        [
         129,
         "HP",
         "Probook 440",
         "Notebook",
         812,
         1168.39
        ],
        [
         130,
         "Asus",
         "E402WA-GA007T (E2-6110/4GB/64GB/W10",
         "Notebook",
         277.99,
         400
        ],
        [
         131,
         "Dell",
         "Inspiron 5770",
         "Notebook",
         1396,
         2008.7
        ],
        [
         132,
         "HP",
         "ProBook 470",
         "Notebook",
         928,
         1335.3
        ],
        [
         133,
         "Dell",
         "Inspiron 5567",
         "Notebook",
         638.99,
         919.44
        ],
        [
         134,
         "Dell",
         "Inspiron 3567",
         "Notebook",
         449,
         646.07
        ],
        [
         135,
         "Acer",
         "Swift 3",
         "Ultrabook",
         884,
         1271.99
        ],
        [
         136,
         "Acer",
         "Aspire A515-51G-37JS",
         "Notebook",
         572,
         823.05
        ],
        [
         137,
         "HP",
         "15-BS078nr (i7-7500U/8GB/1TB/W10)",
         "Notebook",
         598,
         860.46
        ],
        [
         138,
         "HP",
         "Probook 440",
         "Notebook",
         988,
         1421.63
        ],
        [
         139,
         "Lenovo",
         "V110-15IAP (N3350/4GB/1TB/No",
         "Notebook",
         252.36,
         363.12
        ],
        [
         140,
         "Asus",
         "FX753VD-GC086T (i5-7300HQ/8GB/1TB",
         "Gaming",
         938,
         1349.69
        ],
        [
         141,
         "Lenovo",
         "IdeaPad 320-15IKBN",
         "Notebook",
         499,
         718.01
        ]
       ],
       "datasetInfos": [],
       "dbfsResultPath": null,
       "isJsonSchema": true,
       "metadata": {
        "isDbfsCommandResult": false
       },
       "overflow": false,
       "plotOptions": {
        "customPlotOptions": {
         "plotlyBar": [
          {
           "key": "grouped",
           "value": true
          },
          {
           "key": "stacked",
           "value": false
          },
          {
           "key": "100_stacked",
           "value": false
          }
         ]
        },
        "displayType": "table",
        "pivotAggregation": "avg",
        "pivotColumns": [],
        "xColumns": [
         "TypeName"
        ],
        "yColumns": [
         "Price_usd"
        ]
       },
       "removedWidgets": [],
       "schema": [
        {
         "metadata": "{}",
         "name": "Id",
         "type": "\"integer\""
        },
        {
         "metadata": "{}",
         "name": "Company",
         "type": "\"string\""
        },
        {
         "metadata": "{}",
         "name": "Product",
         "type": "\"string\""
        },
        {
         "metadata": "{}",
         "name": "TypeName",
         "type": "\"string\""
        },
        {
         "metadata": "{}",
         "name": "Price_euros",
         "type": "\"float\""
        },
        {
         "metadata": "{}",
         "name": "Price_usd",
         "type": "\"double\""
        }
       ],
       "type": "table"
      }
     },
     "output_type": "display_data"
    }
   ],
   "source": [
    "from pyspark.sql.functions import col, round\n",
    "\n",
    "laptop_stream_data_updated = laptop_stream_data.withColumn(\"Price_usd\", round(col(\"Price_euros\") * 1.4389, 2))\n",
    "\n",
    "laptop_stream_data_updated.display()"
   ]
  },
  {
   "cell_type": "markdown",
   "metadata": {
    "application/vnd.databricks.v1+cell": {
     "inputWidgets": {},
     "nuid": "bbd48f35-3102-42bd-9948-eed42f1827e4",
     "showTitle": false,
     "title": ""
    }
   },
   "source": [
    "TODO Recording for cell below <br>\n",
    "So for that click on the bottom bar chart icon<br>\n",
    "Click on plot options<br>\n",
    "Change the Key: Typename Values: Price_usd, Aggregation: AVG <br>\n",
    "Select the Bar Plot <br>\n",
    "\n",
    "After the graph has been displayed <br>\n",
    "Upload laptop_04.csv to the folder <br>\n",
    "Come back to this cell and show how the graph updates <br>"
   ]
  },
  {
   "cell_type": "code",
   "execution_count": 0,
   "metadata": {
    "application/vnd.databricks.v1+cell": {
     "inputWidgets": {},
     "nuid": "81a70f5a-f17a-4675-a60c-8eda7c57ce09",
     "showTitle": false,
     "title": ""
    }
   },
   "outputs": [
    {
     "data": {
      "text/html": [
       "<style scoped>\n",
       "  .table-result-container {\n",
       "    max-height: 300px;\n",
       "    overflow: auto;\n",
       "  }\n",
       "  table, th, td {\n",
       "    border: 1px solid black;\n",
       "    border-collapse: collapse;\n",
       "  }\n",
       "  th, td {\n",
       "    padding: 5px;\n",
       "  }\n",
       "  th {\n",
       "    text-align: left;\n",
       "  }\n",
       "</style><div class='table-result-container'><table class='table-result'><thead style='background-color: white'><tr><th>Typename</th><th>Price_usd</th></tr></thead><tbody><tr><td>Notebook</td><td>559.73</td></tr><tr><td>Gaming</td><td>2156.91</td></tr><tr><td>Notebook</td><td>752.53</td></tr><tr><td>Notebook</td><td>981.33</td></tr><tr><td>2 in 1 Convertible</td><td>1437.46</td></tr><tr><td>Ultrabook</td><td>2041.8</td></tr><tr><td>Notebook</td><td>530.95</td></tr><tr><td>Gaming</td><td>1869.13</td></tr><tr><td>Notebook</td><td>919.46</td></tr><tr><td>Notebook</td><td>670.53</td></tr><tr><td>2 in 1 Convertible</td><td>459.01</td></tr><tr><td>Notebook</td><td>1210.11</td></tr><tr><td>Notebook</td><td>573.39</td></tr><tr><td>Notebook</td><td>1587.11</td></tr><tr><td>Notebook</td><td>552.54</td></tr><tr><td>Notebook</td><td>1104.79</td></tr><tr><td>Notebook</td><td>631.68</td></tr><tr><td>Notebook</td><td>843.47</td></tr><tr><td>Gaming</td><td>3523.87</td></tr><tr><td>Netbook</td><td>276.12</td></tr><tr><td>Gaming</td><td>1437.46</td></tr><tr><td>Notebook</td><td>371.24</td></tr><tr><td>2 in 1 Convertible</td><td>1178.46</td></tr><tr><td>Ultrabook</td><td>948.24</td></tr><tr><td>Notebook</td><td>602.38</td></tr><tr><td>Ultrabook</td><td>1581.35</td></tr><tr><td>Notebook</td><td>1151.12</td></tr><tr><td>Ultrabook</td><td>1867.69</td></tr><tr><td>Notebook</td><td>1289.25</td></tr><tr><td>Notebook</td><td>352.52</td></tr><tr><td>Notebook</td><td>286.34</td></tr><tr><td>Notebook</td><td>631.68</td></tr><tr><td>Ultrabook</td><td>2689.3</td></tr><tr><td>Ultrabook</td><td>1436.02</td></tr><tr><td>Notebook</td><td>358.29</td></tr><tr><td>Notebook</td><td>528.08</td></tr><tr><td>Notebook</td><td>1408.68</td></tr><tr><td>Notebook</td><td>703.18</td></tr><tr><td>Notebook</td><td>1264.79</td></tr><tr><td>Ultrabook</td><td>1927.68</td></tr><tr><td>Ultrabook</td><td>1293.48</td></tr><tr><td>Notebook</td><td>827.37</td></tr><tr><td>Ultrabook</td><td>3651.14</td></tr><tr><td>Ultrabook</td><td>2595.2</td></tr><tr><td>Notebook</td><td>575.56</td></tr><tr><td>Ultrabook</td><td>3079.2</td></tr><tr><td>Ultrabook</td><td>1667.25</td></tr><tr><td>Ultrabook</td><td>2151.16</td></tr><tr><td>Ultrabook</td><td>1107.95</td></tr><tr><td>Notebook</td><td>566.78</td></tr><tr><td>Notebook</td><td>496.41</td></tr><tr><td>Ultrabook</td><td>3510.87</td></tr><tr><td>Notebook</td><td>717.87</td></tr><tr><td>Ultrabook</td><td>1816.47</td></tr><tr><td>Ultrabook</td><td>2185.04</td></tr><tr><td>Notebook</td><td>1071.98</td></tr><tr><td>Ultrabook</td><td>4112.38</td></tr><tr><td>Notebook</td><td>718.01</td></tr><tr><td>Ultrabook</td><td>1408.68</td></tr><tr><td>Notebook</td><td>597.14</td></tr><tr><td>Notebook</td><td>1869.13</td></tr><tr><td>Ultrabook</td><td>1264.79</td></tr><tr><td>Notebook</td><td>861.9</td></tr><tr><td>Notebook</td><td>1354.0</td></tr><tr><td>Notebook</td><td>992.84</td></tr><tr><td>Ultrabook</td><td>2853.34</td></tr><tr><td>Notebook</td><td>631.23</td></tr><tr><td>Notebook</td><td>329.51</td></tr><tr><td>Notebook</td><td>789.96</td></tr><tr><td>Gaming</td><td>1365.52</td></tr><tr><td>Ultrabook</td><td>1566.96</td></tr><tr><td>Ultrabook</td><td>1374.15</td></tr><tr><td>Notebook</td><td>1251.84</td></tr><tr><td>Gaming</td><td>1575.6</td></tr><tr><td>Notebook</td><td>559.73</td></tr><tr><td>Gaming</td><td>1365.52</td></tr><tr><td>Notebook</td><td>746.79</td></tr><tr><td>Notebook</td><td>1230.26</td></tr><tr><td>Notebook</td><td>762.62</td></tr><tr><td>Notebook</td><td>1405.81</td></tr><tr><td>Ultrabook</td><td>1577.26</td></tr><tr><td>Ultrabook</td><td>2172.74</td></tr><tr><td>Notebook</td><td>1237.45</td></tr><tr><td>Notebook</td><td>574.12</td></tr><tr><td>Notebook</td><td>568.37</td></tr><tr><td>Gaming</td><td>1941.08</td></tr><tr><td>Ultrabook</td><td>1005.79</td></tr><tr><td>Notebook</td><td>861.89</td></tr><tr><td>Gaming</td><td>2084.97</td></tr><tr><td>Ultrabook</td><td>2372.75</td></tr><tr><td>Gaming</td><td>1005.79</td></tr><tr><td>Notebook</td><td>991.4</td></tr><tr><td>Notebook</td><td>1722.36</td></tr><tr><td>Gaming</td><td>1719.49</td></tr><tr><td>Ultrabook</td><td>1509.41</td></tr><tr><td>2 in 1 Convertible</td><td>1218.75</td></tr><tr><td>Notebook</td><td>863.2</td></tr><tr><td>Notebook</td><td>697.87</td></tr><tr><td>Notebook</td><td>830.25</td></tr><tr><td>Gaming</td><td>1797.19</td></tr><tr><td>Notebook</td><td>1034.57</td></tr><tr><td>Notebook</td><td>502.18</td></tr><tr><td>Notebook</td><td>930.97</td></tr><tr><td>Ultrabook</td><td>1610.13</td></tr><tr><td>Ultrabook</td><td>1928.13</td></tr><tr><td>Notebook</td><td>948.24</td></tr><tr><td>Notebook</td><td>597.0</td></tr><tr><td>Ultrabook</td><td>1716.61</td></tr><tr><td>Gaming</td><td>1869.13</td></tr><tr><td>Notebook</td><td>2129.57</td></tr><tr><td>Ultrabook</td><td>1815.89</td></tr><tr><td>Ultrabook</td><td>1984.24</td></tr><tr><td>2 in 1 Convertible</td><td>2013.02</td></tr><tr><td>Notebook</td><td>1038.89</td></tr><tr><td>Ultrabook</td><td>2343.97</td></tr><tr><td>2 in 1 Convertible</td><td>2013.01</td></tr><tr><td>Notebook</td><td>1559.77</td></tr><tr><td>Notebook</td><td>1626.43</td></tr><tr><td>Notebook</td><td>811.54</td></tr><tr><td>Notebook</td><td>1608.69</td></tr><tr><td>Notebook</td><td>689.23</td></tr><tr><td>Gaming</td><td>3225.29</td></tr><tr><td>Notebook</td><td>905.07</td></tr><tr><td>Notebook</td><td>1828.84</td></tr><tr><td>Notebook</td><td>648.94</td></tr><tr><td>Notebook</td><td>372.68</td></tr><tr><td>Notebook</td><td>1168.39</td></tr><tr><td>Notebook</td><td>400.0</td></tr><tr><td>Notebook</td><td>2008.7</td></tr><tr><td>Notebook</td><td>1335.3</td></tr><tr><td>Notebook</td><td>919.44</td></tr><tr><td>Notebook</td><td>646.07</td></tr><tr><td>Ultrabook</td><td>1271.99</td></tr><tr><td>Notebook</td><td>823.05</td></tr><tr><td>Notebook</td><td>860.46</td></tr><tr><td>Notebook</td><td>1421.63</td></tr><tr><td>Notebook</td><td>363.12</td></tr><tr><td>Gaming</td><td>1349.69</td></tr><tr><td>Notebook</td><td>718.01</td></tr></tbody></table></div>"
      ]
     },
     "metadata": {
      "application/vnd.databricks.v1+output": {
       "addedWidgets": {},
       "aggData": [],
       "aggError": "",
       "aggOverflow": false,
       "aggSchema": [],
       "aggSeriesLimitReached": false,
       "aggType": "",
       "arguments": {},
       "columnCustomDisplayInfos": {},
       "data": [
        [
         "Notebook",
         559.73
        ],
        [
         "Gaming",
         2156.91
        ],
        [
         "Notebook",
         752.53
        ],
        [
         "Notebook",
         981.33
        ],
        [
         "2 in 1 Convertible",
         1437.46
        ],
        [
         "Ultrabook",
         2041.8
        ],
        [
         "Notebook",
         530.95
        ],
        [
         "Gaming",
         1869.13
        ],
        [
         "Notebook",
         919.46
        ],
        [
         "Notebook",
         670.53
        ],
        [
         "2 in 1 Convertible",
         459.01
        ],
        [
         "Notebook",
         1210.11
        ],
        [
         "Notebook",
         573.39
        ],
        [
         "Notebook",
         1587.11
        ],
        [
         "Notebook",
         552.54
        ],
        [
         "Notebook",
         1104.79
        ],
        [
         "Notebook",
         631.68
        ],
        [
         "Notebook",
         843.47
        ],
        [
         "Gaming",
         3523.87
        ],
        [
         "Netbook",
         276.12
        ],
        [
         "Gaming",
         1437.46
        ],
        [
         "Notebook",
         371.24
        ],
        [
         "2 in 1 Convertible",
         1178.46
        ],
        [
         "Ultrabook",
         948.24
        ],
        [
         "Notebook",
         602.38
        ],
        [
         "Ultrabook",
         1581.35
        ],
        [
         "Notebook",
         1151.12
        ],
        [
         "Ultrabook",
         1867.69
        ],
        [
         "Notebook",
         1289.25
        ],
        [
         "Notebook",
         352.52
        ],
        [
         "Notebook",
         286.34
        ],
        [
         "Notebook",
         631.68
        ],
        [
         "Ultrabook",
         2689.3
        ],
        [
         "Ultrabook",
         1436.02
        ],
        [
         "Notebook",
         358.29
        ],
        [
         "Notebook",
         528.08
        ],
        [
         "Notebook",
         1408.68
        ],
        [
         "Notebook",
         703.18
        ],
        [
         "Notebook",
         1264.79
        ],
        [
         "Ultrabook",
         1927.68
        ],
        [
         "Ultrabook",
         1293.48
        ],
        [
         "Notebook",
         827.37
        ],
        [
         "Ultrabook",
         3651.14
        ],
        [
         "Ultrabook",
         2595.2
        ],
        [
         "Notebook",
         575.56
        ],
        [
         "Ultrabook",
         3079.2
        ],
        [
         "Ultrabook",
         1667.25
        ],
        [
         "Ultrabook",
         2151.16
        ],
        [
         "Ultrabook",
         1107.95
        ],
        [
         "Notebook",
         566.78
        ],
        [
         "Notebook",
         496.41
        ],
        [
         "Ultrabook",
         3510.87
        ],
        [
         "Notebook",
         717.87
        ],
        [
         "Ultrabook",
         1816.47
        ],
        [
         "Ultrabook",
         2185.04
        ],
        [
         "Notebook",
         1071.98
        ],
        [
         "Ultrabook",
         4112.38
        ],
        [
         "Notebook",
         718.01
        ],
        [
         "Ultrabook",
         1408.68
        ],
        [
         "Notebook",
         597.14
        ],
        [
         "Notebook",
         1869.13
        ],
        [
         "Ultrabook",
         1264.79
        ],
        [
         "Notebook",
         861.9
        ],
        [
         "Notebook",
         1354
        ],
        [
         "Notebook",
         992.84
        ],
        [
         "Ultrabook",
         2853.34
        ],
        [
         "Notebook",
         631.23
        ],
        [
         "Notebook",
         329.51
        ],
        [
         "Notebook",
         789.96
        ],
        [
         "Gaming",
         1365.52
        ],
        [
         "Ultrabook",
         1566.96
        ],
        [
         "Ultrabook",
         1374.15
        ],
        [
         "Notebook",
         1251.84
        ],
        [
         "Gaming",
         1575.6
        ],
        [
         "Notebook",
         559.73
        ],
        [
         "Gaming",
         1365.52
        ],
        [
         "Notebook",
         746.79
        ],
        [
         "Notebook",
         1230.26
        ],
        [
         "Notebook",
         762.62
        ],
        [
         "Notebook",
         1405.81
        ],
        [
         "Ultrabook",
         1577.26
        ],
        [
         "Ultrabook",
         2172.74
        ],
        [
         "Notebook",
         1237.45
        ],
        [
         "Notebook",
         574.12
        ],
        [
         "Notebook",
         568.37
        ],
        [
         "Gaming",
         1941.08
        ],
        [
         "Ultrabook",
         1005.79
        ],
        [
         "Notebook",
         861.89
        ],
        [
         "Gaming",
         2084.97
        ],
        [
         "Ultrabook",
         2372.75
        ],
        [
         "Gaming",
         1005.79
        ],
        [
         "Notebook",
         991.4
        ],
        [
         "Notebook",
         1722.36
        ],
        [
         "Gaming",
         1719.49
        ],
        [
         "Ultrabook",
         1509.41
        ],
        [
         "2 in 1 Convertible",
         1218.75
        ],
        [
         "Notebook",
         863.2
        ],
        [
         "Notebook",
         697.87
        ],
        [
         "Notebook",
         830.25
        ],
        [
         "Gaming",
         1797.19
        ],
        [
         "Notebook",
         1034.57
        ],
        [
         "Notebook",
         502.18
        ],
        [
         "Notebook",
         930.97
        ],
        [
         "Ultrabook",
         1610.13
        ],
        [
         "Ultrabook",
         1928.13
        ],
        [
         "Notebook",
         948.24
        ],
        [
         "Notebook",
         597
        ],
        [
         "Ultrabook",
         1716.61
        ],
        [
         "Gaming",
         1869.13
        ],
        [
         "Notebook",
         2129.57
        ],
        [
         "Ultrabook",
         1815.89
        ],
        [
         "Ultrabook",
         1984.24
        ],
        [
         "2 in 1 Convertible",
         2013.02
        ],
        [
         "Notebook",
         1038.89
        ],
        [
         "Ultrabook",
         2343.97
        ],
        [
         "2 in 1 Convertible",
         2013.01
        ],
        [
         "Notebook",
         1559.77
        ],
        [
         "Notebook",
         1626.43
        ],
        [
         "Notebook",
         811.54
        ],
        [
         "Notebook",
         1608.69
        ],
        [
         "Notebook",
         689.23
        ],
        [
         "Gaming",
         3225.29
        ],
        [
         "Notebook",
         905.07
        ],
        [
         "Notebook",
         1828.84
        ],
        [
         "Notebook",
         648.94
        ],
        [
         "Notebook",
         372.68
        ],
        [
         "Notebook",
         1168.39
        ],
        [
         "Notebook",
         400
        ],
        [
         "Notebook",
         2008.7
        ],
        [
         "Notebook",
         1335.3
        ],
        [
         "Notebook",
         919.44
        ],
        [
         "Notebook",
         646.07
        ],
        [
         "Ultrabook",
         1271.99
        ],
        [
         "Notebook",
         823.05
        ],
        [
         "Notebook",
         860.46
        ],
        [
         "Notebook",
         1421.63
        ],
        [
         "Notebook",
         363.12
        ],
        [
         "Gaming",
         1349.69
        ],
        [
         "Notebook",
         718.01
        ]
       ],
       "datasetInfos": [],
       "dbfsResultPath": null,
       "isJsonSchema": true,
       "metadata": {
        "isDbfsCommandResult": false
       },
       "overflow": false,
       "plotOptions": {
        "customPlotOptions": {
         "plotlyBar": [
          {
           "key": "grouped",
           "value": false
          },
          {
           "key": "stacked",
           "value": true
          },
          {
           "key": "100_stacked",
           "value": false
          }
         ]
        },
        "displayType": "plotlyBar",
        "pivotAggregation": "avg",
        "pivotColumns": [],
        "xColumns": [
         "Typename"
        ],
        "yColumns": [
         "Price_usd"
        ]
       },
       "removedWidgets": [],
       "schema": [
        {
         "metadata": "{}",
         "name": "Typename",
         "type": "\"string\""
        },
        {
         "metadata": "{}",
         "name": "Price_usd",
         "type": "\"double\""
        }
       ],
       "type": "table"
      }
     },
     "output_type": "display_data"
    }
   ],
   "source": [
    "laptop_stream_data_updated.select('Typename', 'Price_usd').display()"
   ]
  },
  {
   "cell_type": "markdown",
   "metadata": {
    "application/vnd.databricks.v1+cell": {
     "inputWidgets": {},
     "nuid": "5e99330a-3f25-4af8-84d3-8472bd79a95b",
     "showTitle": false,
     "title": ""
    }
   },
   "source": [
    "TODO recording for cell below <br>\n",
    "\n",
    "Box plot <br>\n",
    "\n",
    "Keys: Company, Values: Price_euros <br>\n",
    "Agg does not matter in box plot <br>\n",
    "\n",
    "After displaying the chart <br>\n",
    "Make the chart nice and large so it displays properly (using the bottom-right knob) <br>\n",
    "Upload laptop05.csv <br>\n",
    "Show how the chart gets updated <br>"
   ]
  },
  {
   "cell_type": "code",
   "execution_count": 0,
   "metadata": {
    "application/vnd.databricks.v1+cell": {
     "inputWidgets": {},
     "nuid": "1c34d755-e02c-4160-81e3-0467d8292c4e",
     "showTitle": false,
     "title": ""
    }
   },
   "outputs": [
    {
     "data": {
      "text/html": [
       "<style scoped>\n",
       "  .table-result-container {\n",
       "    max-height: 300px;\n",
       "    overflow: auto;\n",
       "  }\n",
       "  table, th, td {\n",
       "    border: 1px solid black;\n",
       "    border-collapse: collapse;\n",
       "  }\n",
       "  th, td {\n",
       "    padding: 5px;\n",
       "  }\n",
       "  th {\n",
       "    text-align: left;\n",
       "  }\n",
       "</style><div class='table-result-container'><table class='table-result'><thead style='background-color: white'><tr><th>Company</th><th>Price_euros</th></tr></thead><tbody><tr><td>Asus</td><td>415.0</td></tr><tr><td>Dell</td><td>1299.0</td></tr><tr><td>Dell</td><td>879.0</td></tr><tr><td>Lenovo</td><td>599.0</td></tr><tr><td>Asus</td><td>941.0</td></tr><tr><td>HP</td><td>690.0</td></tr><tr><td>Asus</td><td>1983.0</td></tr><tr><td>HP</td><td>438.69</td></tr><tr><td>HP</td><td>229.0</td></tr><tr><td>Lenovo</td><td>549.0</td></tr><tr><td>Asus</td><td>949.0</td></tr><tr><td>Microsoft</td><td>1089.0</td></tr><tr><td>Dell</td><td>955.0</td></tr><tr><td>Dell</td><td>870.0</td></tr><tr><td>MSI</td><td>1095.0</td></tr><tr><td>Acer</td><td>389.0</td></tr><tr><td>Asus</td><td>949.0</td></tr><tr><td>Lenovo</td><td>519.0</td></tr><tr><td>Dell</td><td>855.0</td></tr><tr><td>Acer</td><td>530.0</td></tr><tr><td>Asus</td><td>389.0</td></tr><tr><td>Dell</td><td>1499.0</td></tr><tr><td>Asus</td><td>522.99</td></tr><tr><td>Acer</td><td>682.0</td></tr><tr><td>Dell</td><td>999.0</td></tr><tr><td>Apple</td><td>1419.0</td></tr><tr><td>Lenovo</td><td>369.0</td></tr><tr><td>Asus</td><td>1299.0</td></tr><tr><td>Dell</td><td>639.0</td></tr><tr><td>Asus</td><td>466.0</td></tr><tr><td>Lenovo</td><td>319.0</td></tr><tr><td>Acer</td><td>841.0</td></tr><tr><td>HP</td><td>398.49</td></tr><tr><td>HP</td><td>1103.0</td></tr><tr><td>Acer</td><td>384.0</td></tr><tr><td>Dell</td><td>767.8</td></tr><tr><td>HP</td><td>439.0</td></tr><tr><td>Asus</td><td>586.19</td></tr><tr><td>MSI</td><td>2449.0</td></tr><tr><td>Asus</td><td>191.9</td></tr><tr><td>Lenovo</td><td>999.0</td></tr><tr><td>HP</td><td>258.0</td></tr><tr><td>Dell</td><td>819.0</td></tr><tr><td>HP</td><td>659.0</td></tr><tr><td>Dell</td><td>418.64</td></tr><tr><td>Apple</td><td>1099.0</td></tr><tr><td>Dell</td><td>800.0</td></tr><tr><td>Dell</td><td>1298.0</td></tr><tr><td>HP</td><td>896.0</td></tr><tr><td>Chuwi</td><td>244.99</td></tr><tr><td>Asus</td><td>199.0</td></tr><tr><td>HP</td><td>439.0</td></tr><tr><td>Dell</td><td>1869.0</td></tr><tr><td>Apple</td><td>998.0</td></tr><tr><td>Lenovo</td><td>249.0</td></tr><tr><td>Acer</td><td>367.0</td></tr><tr><td>Dell</td><td>979.0</td></tr><tr><td>HP</td><td>488.69</td></tr><tr><td>HP</td><td>879.0</td></tr><tr><td>Apple</td><td>1339.69</td></tr><tr><td>Apple</td><td>898.94</td></tr><tr><td>HP</td><td>575.0</td></tr><tr><td>Apple</td><td>2537.45</td></tr><tr><td>Apple</td><td>1803.6</td></tr><tr><td>Acer</td><td>400.0</td></tr><tr><td>Apple</td><td>2139.97</td></tr><tr><td>Apple</td><td>1158.7</td></tr><tr><td>Asus</td><td>1495.0</td></tr><tr><td>Acer</td><td>770.0</td></tr><tr><td>HP</td><td>393.9</td></tr><tr><td>HP</td><td>344.99</td></tr><tr><td>Apple</td><td>2439.97</td></tr><tr><td>Dell</td><td>498.9</td></tr><tr><td>Apple</td><td>1262.4</td></tr><tr><td>Apple</td><td>1518.55</td></tr><tr><td>Dell</td><td>745.0</td></tr><tr><td>Apple</td><td>2858.0</td></tr><tr><td>Lenovo</td><td>499.0</td></tr><tr><td>Dell</td><td>979.0</td></tr><tr><td>HP</td><td>977.0</td></tr><tr><td>Dell</td><td>1096.16</td></tr><tr><td>Apple</td><td>1510.0</td></tr><tr><td>HP</td><td>860.0</td></tr><tr><td>Lenovo</td><td>399.0</td></tr><tr><td>Acer</td><td>395.0</td></tr><tr><td>Dell</td><td>1349.0</td></tr><tr><td>HP</td><td>699.0</td></tr><tr><td>HP</td><td>598.99</td></tr><tr><td>Asus</td><td>1449.0</td></tr><tr><td>Dell</td><td>1649.0</td></tr><tr><td>Asus</td><td>699.0</td></tr><tr><td>Acer</td><td>689.0</td></tr><tr><td>HP</td><td>1197.0</td></tr><tr><td>Dell</td><td>1195.0</td></tr><tr><td>Asus</td><td>1049.0</td></tr><tr><td>Acer</td><td>847.0</td></tr><tr><td>Dell</td><td>599.9</td></tr><tr><td>Dell</td><td>485.0</td></tr><tr><td>Asus</td><td>577.0</td></tr><tr><td>HP</td><td>1249.0</td></tr><tr><td>HP</td><td>719.0</td></tr><tr><td>HP</td><td>349.0</td></tr><tr><td>Dell</td><td>647.0</td></tr><tr><td>HP</td><td>1119.0</td></tr><tr><td>Microsoft</td><td>1340.0</td></tr><tr><td>HP</td><td>659.0</td></tr><tr><td>Lenovo</td><td>414.9</td></tr><tr><td>Asus</td><td>1193.0</td></tr><tr><td>MSI</td><td>1299.0</td></tr><tr><td>Lenovo</td><td>1480.0</td></tr><tr><td>Asus</td><td>1262.0</td></tr><tr><td>Dell</td><td>1379.0</td></tr><tr><td>Lenovo</td><td>1399.0</td></tr><tr><td>HP</td><td>722.0</td></tr><tr><td>Dell</td><td>1629.0</td></tr><tr><td>HP</td><td>1398.99</td></tr><tr><td>HP</td><td>1084.0</td></tr><tr><td>Dell</td><td>1130.33</td></tr><tr><td>Asus</td><td>564.0</td></tr><tr><td>Asus</td><td>1118.0</td></tr><tr><td>Acer</td><td>479.0</td></tr><tr><td>MSI</td><td>2241.5</td></tr><tr><td>Lenovo</td><td>629.0</td></tr><tr><td>HP</td><td>1271.0</td></tr><tr><td>Acer</td><td>451.0</td></tr><tr><td>HP</td><td>259.0</td></tr><tr><td>HP</td><td>812.0</td></tr><tr><td>Asus</td><td>277.99</td></tr><tr><td>Dell</td><td>1396.0</td></tr><tr><td>HP</td><td>928.0</td></tr><tr><td>Dell</td><td>638.99</td></tr><tr><td>Dell</td><td>449.0</td></tr><tr><td>Acer</td><td>884.0</td></tr><tr><td>Acer</td><td>572.0</td></tr><tr><td>HP</td><td>598.0</td></tr><tr><td>HP</td><td>988.0</td></tr><tr><td>Lenovo</td><td>252.36</td></tr><tr><td>Asus</td><td>938.0</td></tr><tr><td>Lenovo</td><td>499.0</td></tr></tbody></table></div>"
      ]
     },
     "metadata": {
      "application/vnd.databricks.v1+output": {
       "addedWidgets": {},
       "aggData": [],
       "aggError": "",
       "aggOverflow": false,
       "aggSchema": [],
       "aggSeriesLimitReached": false,
       "aggType": "",
       "arguments": {},
       "columnCustomDisplayInfos": {},
       "data": [
        [
         "Asus",
         415
        ],
        [
         "Dell",
         1299
        ],
        [
         "Dell",
         879
        ],
        [
         "Lenovo",
         599
        ],
        [
         "Asus",
         941
        ],
        [
         "HP",
         690
        ],
        [
         "Asus",
         1983
        ],
        [
         "HP",
         438.69
        ],
        [
         "HP",
         229
        ],
        [
         "Lenovo",
         549
        ],
        [
         "Asus",
         949
        ],
        [
         "Microsoft",
         1089
        ],
        [
         "Dell",
         955
        ],
        [
         "Dell",
         870
        ],
        [
         "MSI",
         1095
        ],
        [
         "Acer",
         389
        ],
        [
         "Asus",
         949
        ],
        [
         "Lenovo",
         519
        ],
        [
         "Dell",
         855
        ],
        [
         "Acer",
         530
        ],
        [
         "Asus",
         389
        ],
        [
         "Dell",
         1499
        ],
        [
         "Asus",
         522.99
        ],
        [
         "Acer",
         682
        ],
        [
         "Dell",
         999
        ],
        [
         "Apple",
         1419
        ],
        [
         "Lenovo",
         369
        ],
        [
         "Asus",
         1299
        ],
        [
         "Dell",
         639
        ],
        [
         "Asus",
         466
        ],
        [
         "Lenovo",
         319
        ],
        [
         "Acer",
         841
        ],
        [
         "HP",
         398.49
        ],
        [
         "HP",
         1103
        ],
        [
         "Acer",
         384
        ],
        [
         "Dell",
         767.8
        ],
        [
         "HP",
         439
        ],
        [
         "Asus",
         586.19
        ],
        [
         "MSI",
         2449
        ],
        [
         "Asus",
         191.9
        ],
        [
         "Lenovo",
         999
        ],
        [
         "HP",
         258
        ],
        [
         "Dell",
         819
        ],
        [
         "HP",
         659
        ],
        [
         "Dell",
         418.64
        ],
        [
         "Apple",
         1099
        ],
        [
         "Dell",
         800
        ],
        [
         "Dell",
         1298
        ],
        [
         "HP",
         896
        ],
        [
         "Chuwi",
         244.99
        ],
        [
         "Asus",
         199
        ],
        [
         "HP",
         439
        ],
        [
         "Dell",
         1869
        ],
        [
         "Apple",
         998
        ],
        [
         "Lenovo",
         249
        ],
        [
         "Acer",
         367
        ],
        [
         "Dell",
         979
        ],
        [
         "HP",
         488.69
        ],
        [
         "HP",
         879
        ],
        [
         "Apple",
         1339.69
        ],
        [
         "Apple",
         898.94
        ],
        [
         "HP",
         575
        ],
        [
         "Apple",
         2537.45
        ],
        [
         "Apple",
         1803.6
        ],
        [
         "Acer",
         400
        ],
        [
         "Apple",
         2139.97
        ],
        [
         "Apple",
         1158.7
        ],
        [
         "Asus",
         1495
        ],
        [
         "Acer",
         770
        ],
        [
         "HP",
         393.9
        ],
        [
         "HP",
         344.99
        ],
        [
         "Apple",
         2439.97
        ],
        [
         "Dell",
         498.9
        ],
        [
         "Apple",
         1262.4
        ],
        [
         "Apple",
         1518.55
        ],
        [
         "Dell",
         745
        ],
        [
         "Apple",
         2858
        ],
        [
         "Lenovo",
         499
        ],
        [
         "Dell",
         979
        ],
        [
         "HP",
         977
        ],
        [
         "Dell",
         1096.16
        ],
        [
         "Apple",
         1510
        ],
        [
         "HP",
         860
        ],
        [
         "Lenovo",
         399
        ],
        [
         "Acer",
         395
        ],
        [
         "Dell",
         1349
        ],
        [
         "HP",
         699
        ],
        [
         "HP",
         598.99
        ],
        [
         "Asus",
         1449
        ],
        [
         "Dell",
         1649
        ],
        [
         "Asus",
         699
        ],
        [
         "Acer",
         689
        ],
        [
         "HP",
         1197
        ],
        [
         "Dell",
         1195
        ],
        [
         "Asus",
         1049
        ],
        [
         "Acer",
         847
        ],
        [
         "Dell",
         599.9
        ],
        [
         "Dell",
         485
        ],
        [
         "Asus",
         577
        ],
        [
         "HP",
         1249
        ],
        [
         "HP",
         719
        ],
        [
         "HP",
         349
        ],
        [
         "Dell",
         647
        ],
        [
         "HP",
         1119
        ],
        [
         "Microsoft",
         1340
        ],
        [
         "HP",
         659
        ],
        [
         "Lenovo",
         414.9
        ],
        [
         "Asus",
         1193
        ],
        [
         "MSI",
         1299
        ],
        [
         "Lenovo",
         1480
        ],
        [
         "Asus",
         1262
        ],
        [
         "Dell",
         1379
        ],
        [
         "Lenovo",
         1399
        ],
        [
         "HP",
         722
        ],
        [
         "Dell",
         1629
        ],
        [
         "HP",
         1398.99
        ],
        [
         "HP",
         1084
        ],
        [
         "Dell",
         1130.33
        ],
        [
         "Asus",
         564
        ],
        [
         "Asus",
         1118
        ],
        [
         "Acer",
         479
        ],
        [
         "MSI",
         2241.5
        ],
        [
         "Lenovo",
         629
        ],
        [
         "HP",
         1271
        ],
        [
         "Acer",
         451
        ],
        [
         "HP",
         259
        ],
        [
         "HP",
         812
        ],
        [
         "Asus",
         277.99
        ],
        [
         "Dell",
         1396
        ],
        [
         "HP",
         928
        ],
        [
         "Dell",
         638.99
        ],
        [
         "Dell",
         449
        ],
        [
         "Acer",
         884
        ],
        [
         "Acer",
         572
        ],
        [
         "HP",
         598
        ],
        [
         "HP",
         988
        ],
        [
         "Lenovo",
         252.36
        ],
        [
         "Asus",
         938
        ],
        [
         "Lenovo",
         499
        ]
       ],
       "datasetInfos": [],
       "dbfsResultPath": null,
       "isJsonSchema": true,
       "metadata": {
        "isDbfsCommandResult": false
       },
       "overflow": false,
       "plotOptions": {
        "customPlotOptions": {
         "pieChart": [
          {
           "key": "donut",
           "value": true
          }
         ],
         "plotlyBar": [
          {
           "key": "grouped",
           "value": true
          },
          {
           "key": "stacked",
           "value": false
          },
          {
           "key": "100_stacked",
           "value": false
          }
         ]
        },
        "displayType": "boxPlot",
        "pivotAggregation": "count",
        "pivotColumns": [],
        "xColumns": [],
        "yColumns": []
       },
       "removedWidgets": [],
       "schema": [
        {
         "metadata": "{}",
         "name": "Company",
         "type": "\"string\""
        },
        {
         "metadata": "{}",
         "name": "Price_euros",
         "type": "\"float\""
        }
       ],
       "type": "table"
      }
     },
     "output_type": "display_data"
    }
   ],
   "source": [
    "laptop_stream_data_updated.select('Company', 'Price_euros').display()"
   ]
  },
  {
   "cell_type": "markdown",
   "metadata": {
    "application/vnd.databricks.v1+cell": {
     "inputWidgets": {},
     "nuid": "be7e4282-ee70-40fa-9258-1bad3d18b79d",
     "showTitle": false,
     "title": ""
    }
   },
   "source": [
    "##### Triggers"
   ]
  },
  {
   "cell_type": "markdown",
   "metadata": {
    "application/vnd.databricks.v1+cell": {
     "inputWidgets": {},
     "nuid": "1af1f447-a452-4c59-b4cd-c2f918656f8f",
     "showTitle": false,
     "title": ""
    }
   },
   "source": [
    "Let's do some transformations before trigger"
   ]
  },
  {
   "cell_type": "code",
   "execution_count": 0,
   "metadata": {
    "application/vnd.databricks.v1+cell": {
     "inputWidgets": {},
     "nuid": "0906084b-a9e5-4e6d-a62a-4b406a9c450a",
     "showTitle": false,
     "title": ""
    }
   },
   "outputs": [
    {
     "data": {
      "text/html": [
       "<style scoped>\n",
       "  .table-result-container {\n",
       "    max-height: 300px;\n",
       "    overflow: auto;\n",
       "  }\n",
       "  table, th, td {\n",
       "    border: 1px solid black;\n",
       "    border-collapse: collapse;\n",
       "  }\n",
       "  th, td {\n",
       "    padding: 5px;\n",
       "  }\n",
       "  th {\n",
       "    text-align: left;\n",
       "  }\n",
       "</style><div class='table-result-container'><table class='table-result'><thead style='background-color: white'><tr><th>Id</th><th>Company</th><th>Price_usd</th></tr></thead><tbody><tr><td>67</td><td>Asus</td><td>2853.34</td></tr><tr><td>42</td><td>Dell</td><td>2156.91</td></tr><tr><td>46</td><td>Apple</td><td>2041.8</td></tr><tr><td>59</td><td>MSI</td><td>3523.87</td></tr><tr><td>34</td><td>Dell</td><td>2689.3</td></tr><tr><td>83</td><td>Apple</td><td>2172.74</td></tr><tr><td>90</td><td>Asus</td><td>2084.97</td></tr><tr><td>91</td><td>Dell</td><td>2372.75</td></tr><tr><td>4</td><td>Apple</td><td>3651.14</td></tr><tr><td>5</td><td>Apple</td><td>2595.2</td></tr><tr><td>7</td><td>Apple</td><td>3079.2</td></tr><tr><td>9</td><td>Asus</td><td>2151.16</td></tr><tr><td>13</td><td>Apple</td><td>3510.87</td></tr><tr><td>16</td><td>Apple</td><td>2185.04</td></tr><tr><td>18</td><td>Apple</td><td>4112.38</td></tr><tr><td>112</td><td>Lenovo</td><td>2129.57</td></tr><tr><td>115</td><td>Lenovo</td><td>2013.02</td></tr><tr><td>117</td><td>Dell</td><td>2343.97</td></tr><tr><td>118</td><td>HP</td><td>2013.01</td></tr><tr><td>124</td><td>MSI</td><td>3225.29</td></tr><tr><td>131</td><td>Dell</td><td>2008.7</td></tr></tbody></table></div>"
      ]
     },
     "metadata": {
      "application/vnd.databricks.v1+output": {
       "addedWidgets": {},
       "aggData": [],
       "aggError": "",
       "aggOverflow": false,
       "aggSchema": [],
       "aggSeriesLimitReached": false,
       "aggType": "",
       "arguments": {},
       "columnCustomDisplayInfos": {},
       "data": [
        [
         67,
         "Asus",
         2853.34
        ],
        [
         42,
         "Dell",
         2156.91
        ],
        [
         46,
         "Apple",
         2041.8
        ],
        [
         59,
         "MSI",
         3523.87
        ],
        [
         34,
         "Dell",
         2689.3
        ],
        [
         83,
         "Apple",
         2172.74
        ],
        [
         90,
         "Asus",
         2084.97
        ],
        [
         91,
         "Dell",
         2372.75
        ],
        [
         4,
         "Apple",
         3651.14
        ],
        [
         5,
         "Apple",
         2595.2
        ],
        [
         7,
         "Apple",
         3079.2
        ],
        [
         9,
         "Asus",
         2151.16
        ],
        [
         13,
         "Apple",
         3510.87
        ],
        [
         16,
         "Apple",
         2185.04
        ],
        [
         18,
         "Apple",
         4112.38
        ],
        [
         112,
         "Lenovo",
         2129.57
        ],
        [
         115,
         "Lenovo",
         2013.02
        ],
        [
         117,
         "Dell",
         2343.97
        ],
        [
         118,
         "HP",
         2013.01
        ],
        [
         124,
         "MSI",
         3225.29
        ],
        [
         131,
         "Dell",
         2008.7
        ]
       ],
       "datasetInfos": [],
       "dbfsResultPath": null,
       "isJsonSchema": true,
       "metadata": {
        "isDbfsCommandResult": false
       },
       "overflow": false,
       "plotOptions": {
        "customPlotOptions": {},
        "displayType": "table",
        "pivotAggregation": null,
        "pivotColumns": [],
        "xColumns": [],
        "yColumns": []
       },
       "removedWidgets": [],
       "schema": [
        {
         "metadata": "{}",
         "name": "Id",
         "type": "\"integer\""
        },
        {
         "metadata": "{}",
         "name": "Company",
         "type": "\"string\""
        },
        {
         "metadata": "{}",
         "name": "Price_usd",
         "type": "\"double\""
        }
       ],
       "type": "table"
      }
     },
     "output_type": "display_data"
    }
   ],
   "source": [
    "premium_laptops = laptop_stream_data_updated.select(\"Id\", \"Company\", \"Price_usd\") \\\n",
    "                                            .where(\"Price_usd > 2000\")\n",
    "\n",
    "premium_laptops.display()"
   ]
  },
  {
   "cell_type": "markdown",
   "metadata": {
    "application/vnd.databricks.v1+cell": {
     "inputWidgets": {},
     "nuid": "617d56ea-3a9c-4771-ba71-aa79c232f954",
     "showTitle": false,
     "title": ""
    }
   },
   "source": [
    "TODO Recording for cell below <br>\n",
    "Click on the dashboard and show the monitoring graphs - wait for the first spike processing the existing data <br>\n",
    "Then execute the next cell <br>"
   ]
  },
  {
   "cell_type": "code",
   "execution_count": 0,
   "metadata": {
    "application/vnd.databricks.v1+cell": {
     "inputWidgets": {},
     "nuid": "2626d4fd-ec9d-4989-9b6c-3f8c48306e1f",
     "showTitle": false,
     "title": ""
    }
   },
   "outputs": [
    {
     "data": {
      "text/html": [
       "<style scoped>\n",
       "  .ansiout {\n",
       "    display: block;\n",
       "    unicode-bidi: embed;\n",
       "    white-space: pre-wrap;\n",
       "    word-wrap: break-word;\n",
       "    word-break: break-all;\n",
       "    font-family: \"Source Code Pro\", \"Menlo\", monospace;;\n",
       "    font-size: 13px;\n",
       "    color: #555;\n",
       "    margin-left: 4px;\n",
       "    line-height: 19px;\n",
       "  }\n",
       "</style>\n",
       "<div class=\"ansiout\">Out[16]: &lt;pyspark.sql.streaming.StreamingQuery at 0x7f55a89924f0&gt;</div>"
      ]
     },
     "metadata": {
      "application/vnd.databricks.v1+output": {
       "addedWidgets": {},
       "arguments": {},
       "data": "<div class=\"ansiout\">Out[16]: &lt;pyspark.sql.streaming.StreamingQuery at 0x7f55a89924f0&gt;</div>",
       "datasetInfos": [],
       "metadata": {},
       "removedWidgets": [],
       "type": "html"
      }
     },
     "output_type": "display_data"
    }
   ],
   "source": [
    "premium_laptops.writeStream \\\n",
    "               .format(\"memory\") \\\n",
    "               .queryName(\"premium_laptops_20\") \\\n",
    "               .trigger(processingTime=\"20 seconds\") \\\n",
    "               .start()"
   ]
  },
  {
   "cell_type": "markdown",
   "metadata": {
    "application/vnd.databricks.v1+cell": {
     "inputWidgets": {},
     "nuid": "b008957a-1644-46a4-8554-bd1e0ea43821",
     "showTitle": false,
     "title": ""
    }
   },
   "source": [
    "TODO Recording <br>\n",
    "\n",
    "After running the below command I have added one more csv file - laptops_06.csv <br>\n",
    "Show the spike in the previous cell's graph <br>\n",
    "Once the spike has passed, come back down and run the SQL command below once again - counts will be updated<br>"
   ]
  },
  {
   "cell_type": "code",
   "execution_count": 0,
   "metadata": {
    "application/vnd.databricks.v1+cell": {
     "inputWidgets": {},
     "nuid": "76e8b875-3c93-4ddc-8271-c804c98c9002",
     "showTitle": false,
     "title": ""
    }
   },
   "outputs": [
    {
     "data": {
      "text/html": [
       "<style scoped>\n",
       "  .table-result-container {\n",
       "    max-height: 300px;\n",
       "    overflow: auto;\n",
       "  }\n",
       "  table, th, td {\n",
       "    border: 1px solid black;\n",
       "    border-collapse: collapse;\n",
       "  }\n",
       "  th, td {\n",
       "    padding: 5px;\n",
       "  }\n",
       "  th {\n",
       "    text-align: left;\n",
       "  }\n",
       "</style><div class='table-result-container'><table class='table-result'><thead style='background-color: white'><tr><th>Company</th><th>count(1)</th></tr></thead><tbody><tr><td>Dell</td><td>5</td></tr><tr><td>Asus</td><td>3</td></tr><tr><td>Apple</td><td>8</td></tr><tr><td>MSI</td><td>2</td></tr><tr><td>HP</td><td>1</td></tr><tr><td>Lenovo</td><td>2</td></tr></tbody></table></div>"
      ]
     },
     "metadata": {
      "application/vnd.databricks.v1+output": {
       "addedWidgets": {},
       "aggData": [],
       "aggError": "",
       "aggOverflow": false,
       "aggSchema": [],
       "aggSeriesLimitReached": false,
       "aggType": "",
       "arguments": {},
       "columnCustomDisplayInfos": {},
       "data": [
        [
         "Dell",
         5
        ],
        [
         "Asus",
         3
        ],
        [
         "Apple",
         8
        ],
        [
         "MSI",
         2
        ],
        [
         "HP",
         1
        ],
        [
         "Lenovo",
         2
        ]
       ],
       "datasetInfos": [],
       "dbfsResultPath": null,
       "isJsonSchema": true,
       "metadata": {},
       "overflow": false,
       "plotOptions": {
        "customPlotOptions": {},
        "displayType": "table",
        "pivotAggregation": null,
        "pivotColumns": [],
        "xColumns": [],
        "yColumns": []
       },
       "removedWidgets": [],
       "schema": [
        {
         "metadata": "{}",
         "name": "Company",
         "type": "\"string\""
        },
        {
         "metadata": "{}",
         "name": "count(1)",
         "type": "\"long\""
        }
       ],
       "type": "table"
      }
     },
     "output_type": "display_data"
    }
   ],
   "source": [
    "spark.sql(\"select Company, count(*) from premium_laptops_20 group by Company\").display()"
   ]
  },
  {
   "cell_type": "markdown",
   "metadata": {
    "application/vnd.databricks.v1+cell": {
     "inputWidgets": {},
     "nuid": "a712c0f5-621a-4365-9658-068558f80c4c",
     "showTitle": false,
     "title": ""
    }
   },
   "source": [
    "Let's print the data separately and see the difference"
   ]
  },
  {
   "cell_type": "code",
   "execution_count": 0,
   "metadata": {
    "application/vnd.databricks.v1+cell": {
     "inputWidgets": {},
     "nuid": "3328d392-0c6e-4c36-ae0a-77854f3f7451",
     "showTitle": false,
     "title": ""
    }
   },
   "outputs": [
    {
     "data": {
      "text/html": [
       "<style scoped>\n",
       "  .table-result-container {\n",
       "    max-height: 300px;\n",
       "    overflow: auto;\n",
       "  }\n",
       "  table, th, td {\n",
       "    border: 1px solid black;\n",
       "    border-collapse: collapse;\n",
       "  }\n",
       "  th, td {\n",
       "    padding: 5px;\n",
       "  }\n",
       "  th {\n",
       "    text-align: left;\n",
       "  }\n",
       "</style><div class='table-result-container'><table class='table-result'><thead style='background-color: white'><tr><th>Company</th><th>avg(Price_usd)</th></tr></thead><tbody><tr><td>Dell</td><td>2314.326</td></tr><tr><td>Asus</td><td>2363.1566666666663</td></tr><tr><td>Apple</td><td>2918.54625</td></tr><tr><td>MSI</td><td>3374.58</td></tr><tr><td>HP</td><td>2013.01</td></tr><tr><td>Lenovo</td><td>2071.295</td></tr></tbody></table></div>"
      ]
     },
     "metadata": {
      "application/vnd.databricks.v1+output": {
       "addedWidgets": {},
       "aggData": [],
       "aggError": "",
       "aggOverflow": false,
       "aggSchema": [],
       "aggSeriesLimitReached": false,
       "aggType": "",
       "arguments": {},
       "columnCustomDisplayInfos": {},
       "data": [
        [
         "Dell",
         2314.326
        ],
        [
         "Asus",
         2363.1566666666663
        ],
        [
         "Apple",
         2918.54625
        ],
        [
         "MSI",
         3374.58
        ],
        [
         "HP",
         2013.01
        ],
        [
         "Lenovo",
         2071.295
        ]
       ],
       "datasetInfos": [],
       "dbfsResultPath": null,
       "isJsonSchema": true,
       "metadata": {},
       "overflow": false,
       "plotOptions": {
        "customPlotOptions": {},
        "displayType": "table",
        "pivotAggregation": null,
        "pivotColumns": [],
        "xColumns": [],
        "yColumns": []
       },
       "removedWidgets": [],
       "schema": [
        {
         "metadata": "{}",
         "name": "Company",
         "type": "\"string\""
        },
        {
         "metadata": "{}",
         "name": "avg(Price_usd)",
         "type": "\"double\""
        }
       ],
       "type": "table"
      }
     },
     "output_type": "display_data"
    }
   ],
   "source": [
    "spark.sql(\"select Company, avg(Price_usd) from premium_laptops_20 group by Company\").display()"
   ]
  },
  {
   "cell_type": "markdown",
   "metadata": {
    "application/vnd.databricks.v1+cell": {
     "inputWidgets": {},
     "nuid": "f4980323-39f0-4ad1-ac88-8b5f61e985d0",
     "showTitle": false,
     "title": ""
    }
   },
   "source": [
    "Now Let's do the processing exactly once"
   ]
  },
  {
   "cell_type": "code",
   "execution_count": 0,
   "metadata": {
    "application/vnd.databricks.v1+cell": {
     "inputWidgets": {},
     "nuid": "7f08deb2-22c0-4bea-a675-37d3d65762af",
     "showTitle": false,
     "title": ""
    }
   },
   "outputs": [
    {
     "data": {
      "text/html": [
       "<style scoped>\n",
       "  .ansiout {\n",
       "    display: block;\n",
       "    unicode-bidi: embed;\n",
       "    white-space: pre-wrap;\n",
       "    word-wrap: break-word;\n",
       "    word-break: break-all;\n",
       "    font-family: \"Source Code Pro\", \"Menlo\", monospace;;\n",
       "    font-size: 13px;\n",
       "    color: #555;\n",
       "    margin-left: 4px;\n",
       "    line-height: 19px;\n",
       "  }\n",
       "</style>\n",
       "<div class=\"ansiout\">Out[22]: &lt;pyspark.sql.streaming.StreamingQuery at 0x7f55a89bcb50&gt;</div>"
      ]
     },
     "metadata": {
      "application/vnd.databricks.v1+output": {
       "addedWidgets": {},
       "arguments": {},
       "data": "<div class=\"ansiout\">Out[22]: &lt;pyspark.sql.streaming.StreamingQuery at 0x7f55a89bcb50&gt;</div>",
       "datasetInfos": [],
       "metadata": {},
       "removedWidgets": [],
       "type": "html"
      }
     },
     "output_type": "display_data"
    }
   ],
   "source": [
    "premium_laptops.writeStream \\\n",
    "               .format(\"memory\") \\\n",
    "               .queryName(\"premium_laptops_once\") \\\n",
    "               .trigger(once=True) \\\n",
    "               .start()"
   ]
  },
  {
   "cell_type": "markdown",
   "metadata": {
    "application/vnd.databricks.v1+cell": {
     "inputWidgets": {},
     "nuid": "f3386530-ca53-46cb-96a6-3e1da5f00628",
     "showTitle": false,
     "title": ""
    }
   },
   "source": [
    "TODO Recording for cell below <br>\n",
    "Run the query once, the result will be displayed <br>\n",
    "Add another file to the folder laptops_07.csv <br>\n",
    "Wait for 10-15 seconds and run this query - there should be no change since the premium_laptops_once table will NOT be updated<br>"
   ]
  },
  {
   "cell_type": "code",
   "execution_count": 0,
   "metadata": {
    "application/vnd.databricks.v1+cell": {
     "inputWidgets": {},
     "nuid": "527b7498-f0be-4989-913e-6e45b461ef0a",
     "showTitle": false,
     "title": ""
    }
   },
   "outputs": [
    {
     "data": {
      "text/html": [
       "<style scoped>\n",
       "  .table-result-container {\n",
       "    max-height: 300px;\n",
       "    overflow: auto;\n",
       "  }\n",
       "  table, th, td {\n",
       "    border: 1px solid black;\n",
       "    border-collapse: collapse;\n",
       "  }\n",
       "  th, td {\n",
       "    padding: 5px;\n",
       "  }\n",
       "  th {\n",
       "    text-align: left;\n",
       "  }\n",
       "</style><div class='table-result-container'><table class='table-result'><thead style='background-color: white'><tr><th>Company</th><th>avg(Price_usd)</th></tr></thead><tbody><tr><td>Dell</td><td>2390.7325</td></tr><tr><td>Asus</td><td>2363.1566666666663</td></tr><tr><td>Lenovo</td><td>2071.295</td></tr><tr><td>HP</td><td>2013.01</td></tr><tr><td>Apple</td><td>2918.54625</td></tr><tr><td>MSI</td><td>3523.87</td></tr></tbody></table></div>"
      ]
     },
     "metadata": {
      "application/vnd.databricks.v1+output": {
       "addedWidgets": {},
       "aggData": [],
       "aggError": "",
       "aggOverflow": false,
       "aggSchema": [],
       "aggSeriesLimitReached": false,
       "aggType": "",
       "arguments": {},
       "columnCustomDisplayInfos": {},
       "data": [
        [
         "Dell",
         2390.7325
        ],
        [
         "Asus",
         2363.1566666666663
        ],
        [
         "Lenovo",
         2071.295
        ],
        [
         "HP",
         2013.01
        ],
        [
         "Apple",
         2918.54625
        ],
        [
         "MSI",
         3523.87
        ]
       ],
       "datasetInfos": [],
       "dbfsResultPath": null,
       "isJsonSchema": true,
       "metadata": {},
       "overflow": false,
       "plotOptions": {
        "customPlotOptions": {},
        "displayType": "table",
        "pivotAggregation": null,
        "pivotColumns": [],
        "xColumns": [],
        "yColumns": []
       },
       "removedWidgets": [],
       "schema": [
        {
         "metadata": "{}",
         "name": "Company",
         "type": "\"string\""
        },
        {
         "metadata": "{}",
         "name": "avg(Price_usd)",
         "type": "\"double\""
        }
       ],
       "type": "table"
      }
     },
     "output_type": "display_data"
    }
   ],
   "source": [
    "spark.sql(\"select Company, avg(Price_usd) from premium_laptops_once group by Company\").display()"
   ]
  },
  {
   "cell_type": "markdown",
   "metadata": {
    "application/vnd.databricks.v1+cell": {
     "inputWidgets": {},
     "nuid": "b014e78e-335e-4549-99d3-64c4d916951e",
     "showTitle": false,
     "title": ""
    }
   },
   "source": [
    "After running the above command, I am adding one more file  - laptops_07.csv"
   ]
  },
  {
   "cell_type": "code",
   "execution_count": 0,
   "metadata": {
    "application/vnd.databricks.v1+cell": {
     "inputWidgets": {},
     "nuid": "cf619726-956a-4d8f-ab68-52a74ed18d7d",
     "showTitle": false,
     "title": ""
    }
   },
   "outputs": [
    {
     "data": {
      "text/html": [
       "<style scoped>\n",
       "  .ansiout {\n",
       "    display: block;\n",
       "    unicode-bidi: embed;\n",
       "    white-space: pre-wrap;\n",
       "    word-wrap: break-word;\n",
       "    word-break: break-all;\n",
       "    font-family: \"Source Code Pro\", \"Menlo\", monospace;;\n",
       "    font-size: 13px;\n",
       "    color: #555;\n",
       "    margin-left: 4px;\n",
       "    line-height: 19px;\n",
       "  }\n",
       "</style>"
      ]
     },
     "metadata": {
      "application/vnd.databricks.v1+output": {
       "arguments": {},
       "data": "",
       "errorSummary": "",
       "errorTraceType": null,
       "metadata": {},
       "type": "ipynbError"
      }
     },
     "output_type": "display_data"
    }
   ],
   "source": []
  }
 ],
 "metadata": {
  "application/vnd.databricks.v1+notebook": {
   "dashboards": [],
   "language": "python",
   "notebookMetadata": {
    "pythonIndentUnit": 2
   },
   "notebookName": "demo_01_StreamingData",
   "notebookOrigID": 983048319562559,
   "widgets": {}
  },
  "kernelspec": {
   "display_name": "Python 3",
   "language": "python",
   "name": "python3"
  },
  "language_info": {
   "codemirror_mode": {
    "name": "ipython",
    "version": 3
   },
   "file_extension": ".py",
   "mimetype": "text/x-python",
   "name": "python",
   "nbconvert_exporter": "python",
   "pygments_lexer": "ipython3",
   "version": "3.8.5"
  }
 },
 "nbformat": 4,
 "nbformat_minor": 1
}
