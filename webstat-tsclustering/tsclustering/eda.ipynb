{
 "cells": [
  {
   "cell_type": "code",
   "execution_count": 2,
   "metadata": {},
   "outputs": [],
   "source": [
    "import json\n",
    "import http.client\n",
    "from urllib.parse import urlencode, quote_plus, quote\n",
    "import pandas as pd\n",
    "from datetime import datetime\n",
    "from tslearn.clustering import TimeSeriesKMeans, silhouette_score\n",
    "import matplotlib.pyplot as plt\n",
    "from datetime import datetime\n",
    "import numpy as np\n",
    "from ydata_profiling.visualisation.plot import timeseries_heatmap"
   ]
  },
  {
   "attachments": {},
   "cell_type": "markdown",
   "metadata": {},
   "source": [
    "# Import final dataframe"
   ]
  },
  {
   "cell_type": "code",
   "execution_count": 3,
   "metadata": {},
   "outputs": [],
   "source": [
    "final_df = pd.read_csv(\"final_df.csv\", index_col=0)"
   ]
  },
  {
   "cell_type": "code",
   "execution_count": 5,
   "metadata": {},
   "outputs": [
    {
     "ename": "ValueError",
     "evalue": "Cannot describe a DataFrame without columns",
     "output_type": "error",
     "traceback": [
      "\u001b[0;31m---------------------------------------------------------------------------\u001b[0m",
      "\u001b[0;31mValueError\u001b[0m                                Traceback (most recent call last)",
      "Cell \u001b[0;32mIn[5], line 1\u001b[0m\n\u001b[0;32m----> 1\u001b[0m final_df\u001b[39m.\u001b[39;49mdescribe()\n",
      "File \u001b[0;32m/media/clem/data/Documents/src/sandbox/webstat-tsclustering/.venv/lib/python3.8/site-packages/pandas/core/generic.py:10940\u001b[0m, in \u001b[0;36mNDFrame.describe\u001b[0;34m(self, percentiles, include, exclude, datetime_is_numeric)\u001b[0m\n\u001b[1;32m  10691\u001b[0m \u001b[39m@final\u001b[39m\n\u001b[1;32m  10692\u001b[0m \u001b[39mdef\u001b[39;00m \u001b[39mdescribe\u001b[39m(\n\u001b[1;32m  10693\u001b[0m     \u001b[39mself\u001b[39m: NDFrameT,\n\u001b[0;32m   (...)\u001b[0m\n\u001b[1;32m  10697\u001b[0m     datetime_is_numeric: bool_t \u001b[39m=\u001b[39m \u001b[39mFalse\u001b[39;00m,\n\u001b[1;32m  10698\u001b[0m ) \u001b[39m-\u001b[39m\u001b[39m>\u001b[39m NDFrameT:\n\u001b[1;32m  10699\u001b[0m \u001b[39m    \u001b[39m\u001b[39m\"\"\"\u001b[39;00m\n\u001b[1;32m  10700\u001b[0m \u001b[39m    Generate descriptive statistics.\u001b[39;00m\n\u001b[1;32m  10701\u001b[0m \n\u001b[0;32m   (...)\u001b[0m\n\u001b[1;32m  10938\u001b[0m \u001b[39m    max            NaN      3.0\u001b[39;00m\n\u001b[1;32m  10939\u001b[0m \u001b[39m    \"\"\"\u001b[39;00m\n\u001b[0;32m> 10940\u001b[0m     \u001b[39mreturn\u001b[39;00m describe_ndframe(\n\u001b[1;32m  10941\u001b[0m         obj\u001b[39m=\u001b[39;49m\u001b[39mself\u001b[39;49m,\n\u001b[1;32m  10942\u001b[0m         include\u001b[39m=\u001b[39;49minclude,\n\u001b[1;32m  10943\u001b[0m         exclude\u001b[39m=\u001b[39;49mexclude,\n\u001b[1;32m  10944\u001b[0m         datetime_is_numeric\u001b[39m=\u001b[39;49mdatetime_is_numeric,\n\u001b[1;32m  10945\u001b[0m         percentiles\u001b[39m=\u001b[39;49mpercentiles,\n\u001b[1;32m  10946\u001b[0m     )\n",
      "File \u001b[0;32m/media/clem/data/Documents/src/sandbox/webstat-tsclustering/.venv/lib/python3.8/site-packages/pandas/core/describe.py:94\u001b[0m, in \u001b[0;36mdescribe_ndframe\u001b[0;34m(obj, include, exclude, datetime_is_numeric, percentiles)\u001b[0m\n\u001b[1;32m     89\u001b[0m     describer \u001b[39m=\u001b[39m SeriesDescriber(\n\u001b[1;32m     90\u001b[0m         obj\u001b[39m=\u001b[39mcast(\u001b[39m\"\u001b[39m\u001b[39mSeries\u001b[39m\u001b[39m\"\u001b[39m, obj),\n\u001b[1;32m     91\u001b[0m         datetime_is_numeric\u001b[39m=\u001b[39mdatetime_is_numeric,\n\u001b[1;32m     92\u001b[0m     )\n\u001b[1;32m     93\u001b[0m \u001b[39melse\u001b[39;00m:\n\u001b[0;32m---> 94\u001b[0m     describer \u001b[39m=\u001b[39m DataFrameDescriber(\n\u001b[1;32m     95\u001b[0m         obj\u001b[39m=\u001b[39;49mcast(\u001b[39m\"\u001b[39;49m\u001b[39mDataFrame\u001b[39;49m\u001b[39m\"\u001b[39;49m, obj),\n\u001b[1;32m     96\u001b[0m         include\u001b[39m=\u001b[39;49minclude,\n\u001b[1;32m     97\u001b[0m         exclude\u001b[39m=\u001b[39;49mexclude,\n\u001b[1;32m     98\u001b[0m         datetime_is_numeric\u001b[39m=\u001b[39;49mdatetime_is_numeric,\n\u001b[1;32m     99\u001b[0m     )\n\u001b[1;32m    101\u001b[0m result \u001b[39m=\u001b[39m describer\u001b[39m.\u001b[39mdescribe(percentiles\u001b[39m=\u001b[39mpercentiles)\n\u001b[1;32m    102\u001b[0m \u001b[39mreturn\u001b[39;00m cast(NDFrameT, result)\n",
      "File \u001b[0;32m/media/clem/data/Documents/src/sandbox/webstat-tsclustering/.venv/lib/python3.8/site-packages/pandas/core/describe.py:171\u001b[0m, in \u001b[0;36mDataFrameDescriber.__init__\u001b[0;34m(self, obj, include, exclude, datetime_is_numeric)\u001b[0m\n\u001b[1;32m    168\u001b[0m \u001b[39mself\u001b[39m\u001b[39m.\u001b[39mexclude \u001b[39m=\u001b[39m exclude\n\u001b[1;32m    170\u001b[0m \u001b[39mif\u001b[39;00m obj\u001b[39m.\u001b[39mndim \u001b[39m==\u001b[39m \u001b[39m2\u001b[39m \u001b[39mand\u001b[39;00m obj\u001b[39m.\u001b[39mcolumns\u001b[39m.\u001b[39msize \u001b[39m==\u001b[39m \u001b[39m0\u001b[39m:\n\u001b[0;32m--> 171\u001b[0m     \u001b[39mraise\u001b[39;00m \u001b[39mValueError\u001b[39;00m(\u001b[39m\"\u001b[39m\u001b[39mCannot describe a DataFrame without columns\u001b[39m\u001b[39m\"\u001b[39m)\n\u001b[1;32m    173\u001b[0m \u001b[39msuper\u001b[39m()\u001b[39m.\u001b[39m\u001b[39m__init__\u001b[39m(obj, datetime_is_numeric\u001b[39m=\u001b[39mdatetime_is_numeric)\n",
      "\u001b[0;31mValueError\u001b[0m: Cannot describe a DataFrame without columns"
     ]
    }
   ],
   "source": [
    "final_df.describe()"
   ]
  },
  {
   "attachments": {},
   "cell_type": "markdown",
   "metadata": {},
   "source": [
    "# Apply transformations to dataset\n",
    "\n",
    "* remove null values\n",
    "* check sequenced datetime index\n",
    "* normalize time serie values"
   ]
  },
  {
   "cell_type": "code",
   "execution_count": 4,
   "metadata": {},
   "outputs": [
    {
     "name": "stdout",
     "output_type": "stream",
     "text": [
      "(2, 0)\n",
      "(2, 0)\n"
     ]
    }
   ],
   "source": [
    "# TODO problem avec NA\n",
    "print(final_df.dropna().shape)\n",
    "print(final_df.shape)\n",
    "\n",
    "final_df_wona = final_df.dropna(axis=1,thresh=240)\n",
    "# final_df = final_df.dropna(axis=0)"
   ]
  },
  {
   "cell_type": "code",
   "execution_count": null,
   "metadata": {},
   "outputs": [],
   "source": [
    "normalized_final_df = (final_df_wona - final_df_wona.mean()) / final_df_wona.std()"
   ]
  },
  {
   "cell_type": "code",
   "execution_count": null,
   "metadata": {},
   "outputs": [],
   "source": [
    "\n",
    "\n",
    "timeseries_heatmap(dataframe=df, entity_column='Site Num', sortby='Date Local')"
   ]
  }
 ],
 "metadata": {
  "kernelspec": {
   "display_name": ".venv",
   "language": "python",
   "name": "python3"
  },
  "language_info": {
   "codemirror_mode": {
    "name": "ipython",
    "version": 3
   },
   "file_extension": ".py",
   "mimetype": "text/x-python",
   "name": "python",
   "nbconvert_exporter": "python",
   "pygments_lexer": "ipython3",
   "version": "3.8.10"
  },
  "orig_nbformat": 4
 },
 "nbformat": 4,
 "nbformat_minor": 2
}
