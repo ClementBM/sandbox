{
 "cells": [
  {
   "cell_type": "code",
   "execution_count": 1,
   "metadata": {},
   "outputs": [],
   "source": [
    "import ebooklib\n",
    "from ebooklib import epub\n",
    "from data import EPUB_FILE, RAW_CHAPTER_FILE, FORMATED_CHAPTER_FILE, EPUB_TRANSFORMER"
   ]
  },
  {
   "cell_type": "code",
   "execution_count": 2,
   "metadata": {},
   "outputs": [
    {
     "name": "stderr",
     "output_type": "stream",
     "text": [
      "/media/clem/data/Documents/src/sandbox/corpus_preparation/.venv/lib/python3.8/site-packages/ebooklib/epub.py:1395: UserWarning: In the future version we will turn default option ignore_ncx to True.\n",
      "  warnings.warn('In the future version we will turn default option ignore_ncx to True.')\n"
     ]
    }
   ],
   "source": [
    "book = epub.read_epub(EPUB_FILE)\n",
    "items = list(book.get_items_of_type(ebooklib.ITEM_DOCUMENT))"
   ]
  },
  {
   "cell_type": "code",
   "execution_count": 3,
   "metadata": {},
   "outputs": [
    {
     "name": "stdout",
     "output_type": "stream",
     "text": [
      "xhtml/cover.xhtml\n",
      "xhtml/front.xhtml\n",
      "xhtml/front-intro.xhtml\n",
      "xhtml/toc.xhtml\n",
      "xhtml/body-11003-1.xhtml\n",
      "xhtml/body-11008-2.xhtml\n",
      "xhtml/body-11013-3.xhtml\n",
      "xhtml/body-11023-4.xhtml\n",
      "xhtml/body-11028-5.xhtml\n",
      "xhtml/body-11033-6.xhtml\n",
      "xhtml/body-11038-7.xhtml\n",
      "xhtml/body-11043-8.xhtml\n",
      "xhtml/body-11053-9.xhtml\n",
      "xhtml/body-11058-10.xhtml\n",
      "xhtml/body-11063-11.xhtml\n",
      "xhtml/body-11073-12.xhtml\n",
      "xhtml/body-11083-13.xhtml\n",
      "xhtml/body-11093-14.xhtml\n",
      "xhtml/body-11103-15.xhtml\n",
      "xhtml/body-11113-16.xhtml\n",
      "xhtml/body-11123-17.xhtml\n",
      "xhtml/body-11133-18.xhtml\n",
      "xhtml/body-11138-19.xhtml\n",
      "xhtml/body-11143-20.xhtml\n",
      "xhtml/body-11153-21.xhtml\n",
      "xhtml/body-11163-22.xhtml\n",
      "xhtml/body-11168-23.xhtml\n",
      "xhtml/body-11178-24.xhtml\n",
      "xhtml/body-11183-25.xhtml\n",
      "xhtml/body-11188-26.xhtml\n",
      "xhtml/body-11193-27.xhtml\n",
      "xhtml/body-11203-28.xhtml\n",
      "xhtml/body-11213-29.xhtml\n",
      "xhtml/body-11223-30.xhtml\n",
      "xhtml/body-11228-31.xhtml\n",
      "xhtml/body-11238-32.xhtml\n",
      "xhtml/body-11248-33.xhtml\n",
      "xhtml/body-11253-34.xhtml\n",
      "xhtml/body-11258-35.xhtml\n",
      "xhtml/body-11263-36.xhtml\n",
      "xhtml/body-11268-37.xhtml\n",
      "xhtml/body-11273-38.xhtml\n",
      "xhtml/body-11278-39.xhtml\n",
      "xhtml/body-11288-40.xhtml\n",
      "xhtml/body-11298-41.xhtml\n",
      "xhtml/body-11308-42.xhtml\n",
      "xhtml/body-11318-43.xhtml\n",
      "xhtml/body-11323-44.xhtml\n",
      "xhtml/body-11328-45.xhtml\n",
      "xhtml/body-11333-46.xhtml\n",
      "xhtml/body-11343-47.xhtml\n",
      "xhtml/body-11353-48.xhtml\n",
      "xhtml/body-11363-49.xhtml\n",
      "xhtml/body-11368-50.xhtml\n",
      "xhtml/body-11373-51.xhtml\n",
      "xhtml/body-11378-52.xhtml\n",
      "xhtml/body-11383-53.xhtml\n",
      "xhtml/body-11398-54.xhtml\n",
      "xhtml/body-11403-55.xhtml\n",
      "xhtml/body-11408-56.xhtml\n",
      "xhtml/body-11413-57.xhtml\n",
      "xhtml/body-11418-58.xhtml\n"
     ]
    }
   ],
   "source": [
    "# get_body_content, get_content, title, content, get_name, links, book\n",
    "for item in items:\n",
    "    print(item.get_name())"
   ]
  },
  {
   "cell_type": "code",
   "execution_count": 3,
   "metadata": {},
   "outputs": [],
   "source": [
    "item_7 = items[6]\n",
    "body_content_7 = item_7.get_body_content()\n",
    "\n",
    "decoded_body_content = body_content_7.decode(\"utf-8\")"
   ]
  },
  {
   "cell_type": "code",
   "execution_count": 4,
   "metadata": {},
   "outputs": [],
   "source": [
    "with open(RAW_CHAPTER_FILE(\"1\"), \"w\") as file:\n",
    "    file.write(decoded_body_content)"
   ]
  },
  {
   "cell_type": "code",
   "execution_count": 26,
   "metadata": {},
   "outputs": [],
   "source": [
    "import lxml.etree as xml_etree\n",
    "\n",
    "dom = xml_etree.parse(RAW_CHAPTER_FILE(\"1\"))\n",
    "xslt = xml_etree.parse(EPUB_TRANSFORMER)\n",
    "\n",
    "transform = xml_etree.XSLT(xslt)\n",
    "newdom = transform(dom)\n",
    "\n",
    "formated_content = xml_etree.tostring(newdom, encoding=\"utf-8\", pretty_print=True)"
   ]
  },
  {
   "cell_type": "code",
   "execution_count": 24,
   "metadata": {},
   "outputs": [],
   "source": [
    "with open(FORMATED_CHAPTER_FILE(\"1\"), \"w\") as file:\n",
    "    file.write(formated_content.decode(\"utf-8\"))"
   ]
  }
 ],
 "metadata": {
  "kernelspec": {
   "display_name": ".venv",
   "language": "python",
   "name": "python3"
  },
  "language_info": {
   "codemirror_mode": {
    "name": "ipython",
    "version": 3
   },
   "file_extension": ".py",
   "mimetype": "text/x-python",
   "name": "python",
   "nbconvert_exporter": "python",
   "pygments_lexer": "ipython3",
   "version": "3.8.10"
  },
  "orig_nbformat": 4
 },
 "nbformat": 4,
 "nbformat_minor": 2
}
