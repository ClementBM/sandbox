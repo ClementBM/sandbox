{
 "cells": [
  {
   "cell_type": "code",
   "execution_count": null,
   "metadata": {},
   "outputs": [],
   "source": [
    "from data import DATABASE_CSV, PREPARED_TRAIN_DATABASE_CSV, PREPARED_TEST_DATABASE_CSV\n",
    "import pandas as pd\n",
    "import numpy as np"
   ]
  },
  {
   "attachments": {},
   "cell_type": "markdown",
   "metadata": {},
   "source": [
    "# Loading Data"
   ]
  },
  {
   "cell_type": "code",
   "execution_count": null,
   "metadata": {},
   "outputs": [],
   "source": [
    "X_train_prepared = np.loadtxt(PREPARED_TRAIN_DATABASE_CSV, delimiter=\",\")"
   ]
  },
  {
   "attachments": {},
   "cell_type": "markdown",
   "metadata": {},
   "source": [
    "# Define Vanilla AutoEncoder"
   ]
  },
  {
   "cell_type": "code",
   "execution_count": null,
   "metadata": {},
   "outputs": [],
   "source": [
    "from torch import nn, optim\n",
    "from torch.nn import functional as F\n",
    "import torch\n",
    "\n",
    "class FcEncoder(nn.Module):\n",
    "    def __init__(self, input_size, embedding_size):\n",
    "        super(FcEncoder, self).__init__()\n",
    "\n",
    "        hidden_size = int(embedding_size/2)\n",
    "        self.fc = nn.Linear(input_size, hidden_size)\n",
    "        self.h = nn.Linear(hidden_size, embedding_size)\n",
    "\n",
    "    def forward(self, x):\n",
    "        z = F.relu(self.fc(x))\n",
    "        return F.relu(self.h(z))\n",
    "\n",
    "\n",
    "class FcDecoder(nn.Module):\n",
    "    def __init__(self, embedding_size, output_size):\n",
    "        super(FcDecoder, self).__init__()\n",
    "\n",
    "        hidden_size = int(embedding_size/2)\n",
    "\n",
    "        self.h = nn.Linear(embedding_size, hidden_size)\n",
    "        self.fc = nn.Linear(hidden_size, output_size)\n",
    "\n",
    "    def forward(self, x):\n",
    "        z = F.relu(self.h(x))\n",
    "        return self.fc(z)\n",
    "\n",
    "class AE(nn.Module):\n",
    "    def __init__(self, input_size, embedding_size):\n",
    "        super().__init__()\n",
    "\n",
    "        self.encoder = FcEncoder(input_size = input_size, embedding_size=embedding_size)\n",
    "        self.decoder = FcDecoder(embedding_size=embedding_size, output_size=input_size)\n",
    "    \n",
    "\n",
    "    def encode(self, x):\n",
    "        return self.encoder(x)\n",
    "\n",
    "    def decode(self, x):\n",
    "        return self.decoder(x)\n",
    "    \n",
    "    def forward(self, x):\n",
    "        z = self.encode(x)\n",
    "        return self.decode(z)\n"
   ]
  },
  {
   "cell_type": "code",
   "execution_count": null,
   "metadata": {},
   "outputs": [],
   "source": [
    "input_dim = X_train_prepared.shape[1]\n",
    "model = AE(input_size=input_dim, embedding_size=30)\n",
    "\n",
    "# Adam optimizer with learning rate 1e-3\n",
    "optimizer = optim.Adam(model.parameters(), lr=1e-3)\n",
    "\n",
    "# mean-squared error loss\n",
    "criterion = nn.MSELoss()"
   ]
  },
  {
   "cell_type": "code",
   "execution_count": null,
   "metadata": {},
   "outputs": [],
   "source": [
    "epochs = 10\n",
    "train_loader = torch.utils.data.DataLoader(\n",
    "    X_train_prepared, batch_size=128, shuffle=True, num_workers=4, pin_memory=True\n",
    ")\n",
    "for epoch in range(epochs):\n",
    "    loss = 0\n",
    "    for batch_features in train_loader:\n",
    "        # reset the gradients back to zero\n",
    "        # PyTorch accumulates gradients on subsequent backward passes\n",
    "        optimizer.zero_grad()\n",
    "        \n",
    "        batch_features = batch_features.type(torch.float32)\n",
    "        # compute reconstructions\n",
    "        outputs = model(batch_features)\n",
    "        \n",
    "        # compute training reconstruction loss\n",
    "        train_loss = criterion(outputs, batch_features)\n",
    "        \n",
    "        # compute accumulated gradients\n",
    "        train_loss.backward()\n",
    "        \n",
    "        # perform parameter update based on current gradients\n",
    "        optimizer.step()\n",
    "        \n",
    "        # add the mini-batch training loss to epoch loss\n",
    "        loss += train_loss.item()\n",
    "    \n",
    "    # compute the epoch training loss\n",
    "    loss = loss / len(train_loader)\n",
    "    \n",
    "    # display the epoch training loss\n",
    "    print(\"epoch : {}/{}, loss = {:.6f}\".format(epoch + 1, epochs, loss))"
   ]
  },
  {
   "cell_type": "code",
   "execution_count": null,
   "metadata": {},
   "outputs": [],
   "source": [
    "X_tiny = model.encode(torch.Tensor(X_train_prepared))\n",
    "X_tiny[1] == X_tiny[1000]"
   ]
  },
  {
   "attachments": {},
   "cell_type": "markdown",
   "metadata": {},
   "source": [
    "# Save"
   ]
  },
  {
   "cell_type": "code",
   "execution_count": null,
   "metadata": {},
   "outputs": [],
   "source": [
    "np.savetxt(\"????????\", model.encode(torch.Tensor(X_train_prepared)), delimiter=\",\")"
   ]
  }
 ],
 "metadata": {
  "language_info": {
   "name": "python"
  },
  "orig_nbformat": 4
 },
 "nbformat": 4,
 "nbformat_minor": 2
}
