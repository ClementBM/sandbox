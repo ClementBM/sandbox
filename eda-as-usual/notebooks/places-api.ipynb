{
 "cells": [
  {
   "cell_type": "code",
   "execution_count": 2,
   "metadata": {},
   "outputs": [],
   "source": [
    "import urllib\n",
    "import requests\n"
   ]
  },
  {
   "cell_type": "markdown",
   "metadata": {},
   "source": [
    "\n",
    "# TODO\n",
    "* restrict API usage from IP, others...\n",
    "* Add alert on API usage fees\n",
    "\n",
    "# [Use Maps Dataset API](https://console.cloud.google.com/marketplace/product/google/mapsplatformdatasets.googleapis.com?project=places-rating-394016)\n",
    "Upload and manage your geospatial data in Google Maps Platform via the Cloud Console or API directly, to use with other Google Maps Platform APIs.\n",
    "\n",
    "Supports CSV, GeoJSON and KML files. Files can be uploaded from your desktop or Google Cloud Storage bucket.\n",
    "\n",
    "For example, you can upload geospatial data in your Google Cloud Storage bucket to Google Maps Platform via this API, and then apply custom styling and display your data features on Google Maps with the Maps JavaScript API.\n",
    "\n"
   ]
  },
  {
   "cell_type": "code",
   "execution_count": 15,
   "metadata": {},
   "outputs": [],
   "source": [
    "def get_place_rating(place_id, api_key):\n",
    "\n",
    "    try:\n",
    "        url = f\"https://maps.googleapis.com/maps/api/place/details/json?place_id={place_id}&key={api_key}\"\n",
    "        url = f\"https://maps.googleapis.com/maps/api/place/details/json?place_id={place_id}&fields=name%2Crating%2Cuser_ratings_total%2Curl&key={api_key}\"\n",
    "\n",
    "        payload={}\n",
    "        headers = {}\n",
    "        response = requests.request(\"GET\", url, headers=headers, data=payload)\n",
    "        return response\n",
    "    except:\n",
    "        print(\"Invalid URL or some error occured while making the GET request to the specified URL\")\n"
   ]
  },
  {
   "cell_type": "code",
   "execution_count": 4,
   "metadata": {},
   "outputs": [],
   "source": [
    "API_KEY = \"\""
   ]
  },
  {
   "cell_type": "code",
   "execution_count": 16,
   "metadata": {},
   "outputs": [
    {
     "name": "stdout",
     "output_type": "stream",
     "text": [
      "{\n",
      "   \"html_attributions\" : [],\n",
      "   \"result\" : {\n",
      "      \"name\" : \"Google Australia\",\n",
      "      \"rating\" : 4,\n",
      "      \"url\" : \"https://maps.google.com/?cid=10281119596374313554\",\n",
      "      \"user_ratings_total\" : 972\n",
      "   },\n",
      "   \"status\" : \"OK\"\n",
      "}\n",
      "\n"
     ]
    }
   ],
   "source": [
    "response = get_place_rating(place_id=\"ChIJN1t_tDeuEmsRUsoyG83frY4\", api_key=API_KEY)\n",
    "\n",
    "print(response.text)\n"
   ]
  }
 ],
 "metadata": {
  "kernelspec": {
   "display_name": ".venv",
   "language": "python",
   "name": "python3"
  },
  "language_info": {
   "codemirror_mode": {
    "name": "ipython",
    "version": 3
   },
   "file_extension": ".py",
   "mimetype": "text/x-python",
   "name": "python",
   "nbconvert_exporter": "python",
   "pygments_lexer": "ipython3",
   "version": "3.8.10"
  },
  "orig_nbformat": 4
 },
 "nbformat": 4,
 "nbformat_minor": 2
}
