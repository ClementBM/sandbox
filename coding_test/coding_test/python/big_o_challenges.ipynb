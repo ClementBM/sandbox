{
 "cells": [
  {
   "attachments": {},
   "cell_type": "markdown",
   "metadata": {},
   "source": [
    "# Exemple 12\n",
    "\n",
    "Permutation of string with all disctinct characters"
   ]
  },
  {
   "cell_type": "code",
   "execution_count": 2,
   "metadata": {},
   "outputs": [
    {
     "name": "stdout",
     "output_type": "stream",
     "text": [
      "total\n",
      "totla\n",
      "toatl\n",
      "toalt\n",
      "tolta\n",
      "tolat\n",
      "ttoal\n",
      "ttola\n",
      "ttaol\n",
      "ttalo\n",
      "ttloa\n",
      "ttlao\n",
      "taotl\n",
      "taolt\n",
      "tatol\n",
      "tatlo\n",
      "talot\n",
      "talto\n",
      "tlota\n",
      "tloat\n",
      "tltoa\n",
      "tltao\n",
      "tlaot\n",
      "tlato\n",
      "ottal\n",
      "ottla\n",
      "otatl\n",
      "otalt\n",
      "otlta\n",
      "otlat\n",
      "ottal\n",
      "ottla\n",
      "otatl\n",
      "otalt\n",
      "otlta\n",
      "otlat\n",
      "oattl\n",
      "oatlt\n",
      "oattl\n",
      "oatlt\n",
      "oaltt\n",
      "oaltt\n",
      "oltta\n",
      "oltat\n",
      "oltta\n",
      "oltat\n",
      "olatt\n",
      "olatt\n",
      "ttoal\n",
      "ttola\n",
      "ttaol\n",
      "ttalo\n",
      "ttloa\n",
      "ttlao\n",
      "total\n",
      "totla\n",
      "toatl\n",
      "toalt\n",
      "tolta\n",
      "tolat\n",
      "tatol\n",
      "tatlo\n",
      "taotl\n",
      "taolt\n",
      "talto\n",
      "talot\n",
      "tltoa\n",
      "tltao\n",
      "tlota\n",
      "tloat\n",
      "tlato\n",
      "tlaot\n",
      "atotl\n",
      "atolt\n",
      "attol\n",
      "attlo\n",
      "atlot\n",
      "atlto\n",
      "aottl\n",
      "aotlt\n",
      "aottl\n",
      "aotlt\n",
      "aoltt\n",
      "aoltt\n",
      "attol\n",
      "attlo\n",
      "atotl\n",
      "atolt\n",
      "atlto\n",
      "atlot\n",
      "altot\n",
      "altto\n",
      "alott\n",
      "alott\n",
      "altto\n",
      "altot\n",
      "ltota\n",
      "ltoat\n",
      "lttoa\n",
      "lttao\n",
      "ltaot\n",
      "ltato\n",
      "lotta\n",
      "lotat\n",
      "lotta\n",
      "lotat\n",
      "loatt\n",
      "loatt\n",
      "lttoa\n",
      "lttao\n",
      "ltota\n",
      "ltoat\n",
      "ltato\n",
      "ltaot\n",
      "latot\n",
      "latto\n",
      "laott\n",
      "laott\n",
      "latto\n",
      "latot\n"
     ]
    }
   ],
   "source": [
    "def permutation(val_str, prefix):\n",
    "    if len(val_str) == 0:\n",
    "        print(prefix)\n",
    "    else:\n",
    "        for i in range(len(val_str)):\n",
    "            remain = val_str[:i] + val_str[i+1:]\n",
    "            permutation(remain, prefix + val_str[i])\n",
    "\n",
    "permutation(\"total\", \"\")"
   ]
  },
  {
   "attachments": {},
   "cell_type": "markdown",
   "metadata": {},
   "source": [
    "# Compute the product of $a$ and $b$\n",
    "\n",
    "What is its runtime ?"
   ]
  },
  {
   "cell_type": "code",
   "execution_count": 1,
   "metadata": {},
   "outputs": [
    {
     "data": {
      "text/plain": [
       "6"
      ]
     },
     "execution_count": 1,
     "metadata": {},
     "output_type": "execute_result"
    }
   ],
   "source": [
    "def product(a, b):\n",
    "    b = int(b)\n",
    "    a = int(a)\n",
    "    result = 0\n",
    "    for _ in range(b):\n",
    "        result += a\n",
    "    return result\n",
    "\n",
    "product(2, 3)"
   ]
  },
  {
   "attachments": {},
   "cell_type": "markdown",
   "metadata": {},
   "source": [
    "Runtime complexity: $O(b)$\n",
    "\n",
    "The for loop iterates through $b$"
   ]
  },
  {
   "attachments": {},
   "cell_type": "markdown",
   "metadata": {},
   "source": [
    "# Compute $a^b$\n",
    "\n",
    "What is its runtime ?"
   ]
  },
  {
   "cell_type": "code",
   "execution_count": 26,
   "metadata": {},
   "outputs": [
    {
     "data": {
      "text/plain": [
       "1048576"
      ]
     },
     "execution_count": 26,
     "metadata": {},
     "output_type": "execute_result"
    }
   ],
   "source": [
    "def power(a, b):\n",
    "    a = int(a)\n",
    "    b = int(b)\n",
    "\n",
    "    if b == 0:\n",
    "        return 1\n",
    "    if b == 1:\n",
    "        return a\n",
    "\n",
    "    return a * power(a, b-1)\n",
    "\n",
    "power(2, 7)\n",
    "power(2, 1)\n",
    "power(2, 10)\n",
    "power(2, 20)"
   ]
  },
  {
   "attachments": {},
   "cell_type": "markdown",
   "metadata": {},
   "source": [
    "Runtime Complexity: $O(b)$\n",
    "\n",
    "The recursive code iterates through $b$ calls, since it substracts one at each level."
   ]
  },
  {
   "attachments": {},
   "cell_type": "markdown",
   "metadata": {},
   "source": [
    "# Computes $a \\% b$\n",
    "\n",
    "What is its runtime ?"
   ]
  },
  {
   "cell_type": "code",
   "execution_count": 16,
   "metadata": {},
   "outputs": [
    {
     "data": {
      "text/plain": [
       "2"
      ]
     },
     "execution_count": 16,
     "metadata": {},
     "output_type": "execute_result"
    }
   ],
   "source": [
    "def mod(a, b):\n",
    "    if b <= 0:\n",
    "        return -1\n",
    "    div_res = int(a / b)\n",
    "    return a - div_res * b\n",
    "\n",
    "mod(5, 3) == 5 % 3\n",
    "mod(5, 3)"
   ]
  },
  {
   "attachments": {},
   "cell_type": "markdown",
   "metadata": {},
   "source": [
    "Runtime Complexity: $O(1)$\n",
    "\n",
    "It does a constant amount of work"
   ]
  },
  {
   "attachments": {},
   "cell_type": "markdown",
   "metadata": {},
   "source": [
    "# Perform integer division\n",
    "\n",
    "What it its runtime ? (assume $a$ and $b$ are both positive)"
   ]
  },
  {
   "cell_type": "code",
   "execution_count": 20,
   "metadata": {},
   "outputs": [
    {
     "data": {
      "text/plain": [
       "True"
      ]
     },
     "execution_count": 20,
     "metadata": {},
     "output_type": "execute_result"
    }
   ],
   "source": [
    "def div(a, b):\n",
    "    result = 0\n",
    "    count = 0\n",
    "    while result < a:\n",
    "        result += b\n",
    "        count += 1\n",
    "    \n",
    "    return count\n",
    "\n",
    "div(6, 2) == 6 / 2"
   ]
  },
  {
   "attachments": {},
   "cell_type": "markdown",
   "metadata": {},
   "source": [
    "Runtime Complexity: $O(a/b)$\n",
    "\n",
    "The variable count will eventually equal $a \\over b$. The while loop iterates count times. Therefore it iterates $a \\over b$ times"
   ]
  },
  {
   "attachments": {},
   "cell_type": "markdown",
   "metadata": {},
   "source": [
    "# Compute the integer square root of a number\n",
    "If the number is not a perfect square (there is no integer square root), then it returns -1.\n",
    "\n",
    "It does this by successive guessing. If $n$ is first guesses 50. Too high ? Try something lower $-$ halfway between 1 and 50.\n",
    "\n",
    "What is its runtime?"
   ]
  },
  {
   "cell_type": "code",
   "execution_count": 22,
   "metadata": {},
   "outputs": [
    {
     "data": {
      "text/plain": [
       "10"
      ]
     },
     "execution_count": 22,
     "metadata": {},
     "output_type": "execute_result"
    }
   ],
   "source": [
    "def int_sqrt(n):\n",
    "    return sqrt_helper(n, 1, n)\n",
    "\n",
    "def sqrt_helper(n, min, max):\n",
    "    if max < min:\n",
    "        return -1\n",
    "    \n",
    "    guess = int((min + max) / 2)\n",
    "    if guess * guess == n:\n",
    "        return guess\n",
    "    if guess * guess < n:\n",
    "        return sqrt_helper(n, guess + 1, max)\n",
    "    \n",
    "    return sqrt_helper(n, min, guess - 1)\n",
    "\n",
    "\n",
    "int_sqrt(100)"
   ]
  },
  {
   "attachments": {},
   "cell_type": "markdown",
   "metadata": {},
   "source": [
    "Time Complexity: $O(\\log{n})$\n",
    "\n",
    "This algorithm is essentially doing a binary search to find the square root. Therefore the runtime is $O(\\log{n})$"
   ]
  },
  {
   "attachments": {},
   "cell_type": "markdown",
   "metadata": {},
   "source": [
    "# Following code computes the integer square root of a number\n",
    "\n",
    "If the number is not a perfect square (there is no integer square root), then it return -1.\n",
    "\n",
    "It does this by trying increasingly large numbers until if finds the right value (or is too high).\n",
    "\n",
    "What is its runtime?"
   ]
  },
  {
   "cell_type": "code",
   "execution_count": 24,
   "metadata": {},
   "outputs": [
    {
     "data": {
      "text/plain": [
       "True"
      ]
     },
     "execution_count": 24,
     "metadata": {},
     "output_type": "execute_result"
    }
   ],
   "source": [
    "def custom_sqrt(n):\n",
    "    guess = 1\n",
    "    while guess * guess <= n:\n",
    "        if guess * guess == n:\n",
    "            return guess\n",
    "        guess +=1\n",
    "    \n",
    "    return -1\n",
    "\n",
    "custom_sqrt(4) == 2    "
   ]
  },
  {
   "attachments": {},
   "cell_type": "markdown",
   "metadata": {},
   "source": [
    "Runtime Complexity: $O(\\sqrt{n})$"
   ]
  },
  {
   "attachments": {},
   "cell_type": "markdown",
   "metadata": {},
   "source": [
    "# Concatenate words\n",
    "\n",
    "On each concatenation, a new copy of the string is created, and the two strings are copied over, character by character.\n",
    "\n",
    "The first iteration requires us to copy $x$ characters. The second iteration requires copying $2x$ characters.\n",
    "\n",
    "The total time is $O(x + 2x + ... + nx)$\n",
    "\n",
    "$1 + 2 + 3 + ... + n = { n (n+1) \\over 2 }$\n",
    "\n",
    "Therefore the runtime is $O(xn^2)$"
   ]
  },
  {
   "cell_type": "code",
   "execution_count": 29,
   "metadata": {},
   "outputs": [
    {
     "data": {
      "text/plain": [
       "1"
      ]
     },
     "execution_count": 29,
     "metadata": {},
     "output_type": "execute_result"
    }
   ],
   "source": [
    "def join_words(words):\n",
    "    sentence = \"\"\n",
    "    for word in words:\n",
    "        sentence += word\n",
    "    return sentence"
   ]
  }
 ],
 "metadata": {
  "kernelspec": {
   "display_name": ".venv",
   "language": "python",
   "name": "python3"
  },
  "language_info": {
   "codemirror_mode": {
    "name": "ipython",
    "version": 3
   },
   "file_extension": ".py",
   "mimetype": "text/x-python",
   "name": "python",
   "nbconvert_exporter": "python",
   "pygments_lexer": "ipython3",
   "version": "3.8.10"
  },
  "orig_nbformat": 4
 },
 "nbformat": 4,
 "nbformat_minor": 2
}
