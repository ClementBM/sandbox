{
 "cells": [
  {
   "attachments": {},
   "cell_type": "markdown",
   "metadata": {},
   "source": [
    "# What function to use to round a number to the smallest integer value that is greater than or equal to a number?\n",
    "\n",
    "The CEILING() function returns the smallest integer value that is greater than or equal to the specified number.\n",
    "\n",
    "The CEIL() function is a synonym for the CEILING() function and also returns the smallest integer value that is greater than or equal to a number."
   ]
  },
  {
   "cell_type": "code",
   "execution_count": 8,
   "metadata": {},
   "outputs": [
    {
     "name": "stdout",
     "output_type": "stream",
     "text": [
      "(26.0,)\n"
     ]
    }
   ],
   "source": [
    "from coding_test.sql_commons import DbConnection\n",
    "\n",
    "with DbConnection() as db_connection:\n",
    "    con, cur = db_connection\n",
    "    res = con.execute(\"SELECT ROUND(25.50)\")\n",
    "    print(res.fetchone())"
   ]
  },
  {
   "attachments": {},
   "cell_type": "markdown",
   "metadata": {},
   "source": [
    "# Which of the following is true about Cartesian Products?\n",
    "\n",
    "A Cartesian product is formed when a join condition is omitted.\n",
    "\n",
    "The SQL CROSS JOIN produces a result set which is the number of rows in the first table multiplied by the number of rows in the second table if no WHERE clause is used along with CROSS JOIN .This kind of result is called as Cartesian Product.\n",
    "\n",
    "If `WHERE` clause is used with `CROSS JOIN`, it functions like an `INNER JOIN`."
   ]
  },
  {
   "cell_type": "code",
   "execution_count": null,
   "metadata": {},
   "outputs": [],
   "source": [
    "# `CROSS JOIN` Syntax\n",
    "\n",
    "\"\"\"SELECT *\n",
    "FROM table1\n",
    "CROSS JOIN table2;\n",
    "\"\"\""
   ]
  },
  {
   "attachments": {},
   "cell_type": "markdown",
   "metadata": {},
   "source": [
    "# How to select random 10 rows from a table?\n",
    "\n",
    "The easiest way to generate random rows in MySQL is to use the ORDER BY RAND() clause.\n",
    "\n",
    "This can work fine for small tables. However, for big table, it will have a serious performance problem as in order to generate the list of random rows, MySQL need to assign random number to each row and then sort them.\n",
    "\n",
    "Even if you want only 10 random rows from a set of 100k rows, MySQL need to sort all the 100k rows and then, extract only 10 of them."
   ]
  },
  {
   "cell_type": "code",
   "execution_count": null,
   "metadata": {},
   "outputs": [],
   "source": [
    "\"\"\"SELECT * \n",
    "FROM tbl\n",
    "ORDER BY RAND()\n",
    "LIMIT 10\n",
    "\"\"\""
   ]
  },
  {
   "attachments": {},
   "cell_type": "markdown",
   "metadata": {},
   "source": []
  }
 ],
 "metadata": {
  "kernelspec": {
   "display_name": ".venv",
   "language": "python",
   "name": "python3"
  },
  "language_info": {
   "codemirror_mode": {
    "name": "ipython",
    "version": 3
   },
   "file_extension": ".py",
   "mimetype": "text/x-python",
   "name": "python",
   "nbconvert_exporter": "python",
   "pygments_lexer": "ipython3",
   "version": "3.8.10"
  },
  "orig_nbformat": 4
 },
 "nbformat": 4,
 "nbformat_minor": 2
}
