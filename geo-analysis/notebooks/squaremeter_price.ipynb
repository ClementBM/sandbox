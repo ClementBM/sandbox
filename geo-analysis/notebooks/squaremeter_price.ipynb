{
 "cells": [
  {
   "cell_type": "code",
   "execution_count": 5,
   "metadata": {},
   "outputs": [],
   "source": [
    "from data import SOLD_HOUSE_PRICES\n",
    "import pandas as pd\n",
    "import numpy as np\n",
    "\n",
    "from sklearn.neighbors import KernelDensity\n",
    "from scipy.interpolate import griddata\n",
    "from numpy import linspace\n",
    "import matplotlib.pyplot as plt"
   ]
  },
  {
   "cell_type": "code",
   "execution_count": 2,
   "metadata": {},
   "outputs": [
    {
     "name": "stderr",
     "output_type": "stream",
     "text": [
      "/tmp/ipykernel_19303/1575736277.py:1: DtypeWarning: Columns (10,12,14,16,17,18,20,22,35,36) have mixed types. Specify dtype option on import or set low_memory=False.\n",
      "  sellprices_df = pd.read_csv(SOLD_HOUSE_PRICES)\n"
     ]
    }
   ],
   "source": [
    "sellprices_df = pd.read_csv(SOLD_HOUSE_PRICES)"
   ]
  },
  {
   "cell_type": "code",
   "execution_count": 3,
   "metadata": {},
   "outputs": [
    {
     "data": {
      "text/html": [
       "<div>\n",
       "<style scoped>\n",
       "    .dataframe tbody tr th:only-of-type {\n",
       "        vertical-align: middle;\n",
       "    }\n",
       "\n",
       "    .dataframe tbody tr th {\n",
       "        vertical-align: top;\n",
       "    }\n",
       "\n",
       "    .dataframe thead th {\n",
       "        text-align: right;\n",
       "    }\n",
       "</style>\n",
       "<table border=\"1\" class=\"dataframe\">\n",
       "  <thead>\n",
       "    <tr style=\"text-align: right;\">\n",
       "      <th></th>\n",
       "      <th>id_mutation</th>\n",
       "      <th>date_mutation</th>\n",
       "      <th>numero_disposition</th>\n",
       "      <th>nature_mutation</th>\n",
       "      <th>valeur_fonciere</th>\n",
       "      <th>adresse_numero</th>\n",
       "      <th>adresse_suffixe</th>\n",
       "      <th>adresse_nom_voie</th>\n",
       "      <th>adresse_code_voie</th>\n",
       "      <th>code_postal</th>\n",
       "      <th>...</th>\n",
       "      <th>type_local</th>\n",
       "      <th>surface_reelle_bati</th>\n",
       "      <th>nombre_pieces_principales</th>\n",
       "      <th>code_nature_culture</th>\n",
       "      <th>nature_culture</th>\n",
       "      <th>code_nature_culture_speciale</th>\n",
       "      <th>nature_culture_speciale</th>\n",
       "      <th>surface_terrain</th>\n",
       "      <th>longitude</th>\n",
       "      <th>latitude</th>\n",
       "    </tr>\n",
       "  </thead>\n",
       "  <tbody>\n",
       "    <tr>\n",
       "      <th>0</th>\n",
       "      <td>2022-1</td>\n",
       "      <td>2022-01-03</td>\n",
       "      <td>1</td>\n",
       "      <td>Vente</td>\n",
       "      <td>55000.0</td>\n",
       "      <td>13.0</td>\n",
       "      <td>NaN</td>\n",
       "      <td>RUE DE LA LIBERTE</td>\n",
       "      <td>2280</td>\n",
       "      <td>1000.0</td>\n",
       "      <td>...</td>\n",
       "      <td>Appartement</td>\n",
       "      <td>24.0</td>\n",
       "      <td>1.0</td>\n",
       "      <td>NaN</td>\n",
       "      <td>NaN</td>\n",
       "      <td>NaN</td>\n",
       "      <td>NaN</td>\n",
       "      <td>NaN</td>\n",
       "      <td>5.218706</td>\n",
       "      <td>46.198054</td>\n",
       "    </tr>\n",
       "    <tr>\n",
       "      <th>1</th>\n",
       "      <td>2022-2</td>\n",
       "      <td>2022-01-03</td>\n",
       "      <td>1</td>\n",
       "      <td>Vente</td>\n",
       "      <td>143000.0</td>\n",
       "      <td>NaN</td>\n",
       "      <td>NaN</td>\n",
       "      <td>CHAMP COCHET</td>\n",
       "      <td>B010</td>\n",
       "      <td>1480.0</td>\n",
       "      <td>...</td>\n",
       "      <td>NaN</td>\n",
       "      <td>NaN</td>\n",
       "      <td>NaN</td>\n",
       "      <td>S</td>\n",
       "      <td>sols</td>\n",
       "      <td>NaN</td>\n",
       "      <td>NaN</td>\n",
       "      <td>84.0</td>\n",
       "      <td>4.847867</td>\n",
       "      <td>46.000617</td>\n",
       "    </tr>\n",
       "    <tr>\n",
       "      <th>2</th>\n",
       "      <td>2022-2</td>\n",
       "      <td>2022-01-03</td>\n",
       "      <td>1</td>\n",
       "      <td>Vente</td>\n",
       "      <td>143000.0</td>\n",
       "      <td>NaN</td>\n",
       "      <td>NaN</td>\n",
       "      <td>CHAMP COCHET</td>\n",
       "      <td>B010</td>\n",
       "      <td>1480.0</td>\n",
       "      <td>...</td>\n",
       "      <td>NaN</td>\n",
       "      <td>NaN</td>\n",
       "      <td>NaN</td>\n",
       "      <td>S</td>\n",
       "      <td>sols</td>\n",
       "      <td>NaN</td>\n",
       "      <td>NaN</td>\n",
       "      <td>88.0</td>\n",
       "      <td>4.847920</td>\n",
       "      <td>46.000576</td>\n",
       "    </tr>\n",
       "    <tr>\n",
       "      <th>3</th>\n",
       "      <td>2022-2</td>\n",
       "      <td>2022-01-03</td>\n",
       "      <td>1</td>\n",
       "      <td>Vente</td>\n",
       "      <td>143000.0</td>\n",
       "      <td>98.0</td>\n",
       "      <td>NaN</td>\n",
       "      <td>RTE DE LA DOMBES</td>\n",
       "      <td>0055</td>\n",
       "      <td>1480.0</td>\n",
       "      <td>...</td>\n",
       "      <td>Appartement</td>\n",
       "      <td>140.0</td>\n",
       "      <td>3.0</td>\n",
       "      <td>NaN</td>\n",
       "      <td>NaN</td>\n",
       "      <td>NaN</td>\n",
       "      <td>NaN</td>\n",
       "      <td>NaN</td>\n",
       "      <td>4.848345</td>\n",
       "      <td>46.000585</td>\n",
       "    </tr>\n",
       "    <tr>\n",
       "      <th>4</th>\n",
       "      <td>2022-3</td>\n",
       "      <td>2022-01-04</td>\n",
       "      <td>1</td>\n",
       "      <td>Vente</td>\n",
       "      <td>300.0</td>\n",
       "      <td>NaN</td>\n",
       "      <td>NaN</td>\n",
       "      <td>AUX PIERRES</td>\n",
       "      <td>B031</td>\n",
       "      <td>1480.0</td>\n",
       "      <td>...</td>\n",
       "      <td>NaN</td>\n",
       "      <td>NaN</td>\n",
       "      <td>NaN</td>\n",
       "      <td>T</td>\n",
       "      <td>terres</td>\n",
       "      <td>NaN</td>\n",
       "      <td>NaN</td>\n",
       "      <td>510.0</td>\n",
       "      <td>4.747627</td>\n",
       "      <td>46.045434</td>\n",
       "    </tr>\n",
       "  </tbody>\n",
       "</table>\n",
       "<p>5 rows × 40 columns</p>\n",
       "</div>"
      ],
      "text/plain": [
       "  id_mutation date_mutation  numero_disposition nature_mutation   \n",
       "0      2022-1    2022-01-03                   1           Vente  \\\n",
       "1      2022-2    2022-01-03                   1           Vente   \n",
       "2      2022-2    2022-01-03                   1           Vente   \n",
       "3      2022-2    2022-01-03                   1           Vente   \n",
       "4      2022-3    2022-01-04                   1           Vente   \n",
       "\n",
       "   valeur_fonciere  adresse_numero adresse_suffixe   adresse_nom_voie   \n",
       "0          55000.0            13.0             NaN  RUE DE LA LIBERTE  \\\n",
       "1         143000.0             NaN             NaN       CHAMP COCHET   \n",
       "2         143000.0             NaN             NaN       CHAMP COCHET   \n",
       "3         143000.0            98.0             NaN   RTE DE LA DOMBES   \n",
       "4            300.0             NaN             NaN        AUX PIERRES   \n",
       "\n",
       "  adresse_code_voie  code_postal  ...   type_local surface_reelle_bati   \n",
       "0              2280       1000.0  ...  Appartement                24.0  \\\n",
       "1              B010       1480.0  ...          NaN                 NaN   \n",
       "2              B010       1480.0  ...          NaN                 NaN   \n",
       "3              0055       1480.0  ...  Appartement               140.0   \n",
       "4              B031       1480.0  ...          NaN                 NaN   \n",
       "\n",
       "  nombre_pieces_principales  code_nature_culture nature_culture   \n",
       "0                       1.0                  NaN            NaN  \\\n",
       "1                       NaN                    S           sols   \n",
       "2                       NaN                    S           sols   \n",
       "3                       3.0                  NaN            NaN   \n",
       "4                       NaN                    T         terres   \n",
       "\n",
       "  code_nature_culture_speciale nature_culture_speciale surface_terrain   \n",
       "0                          NaN                     NaN             NaN  \\\n",
       "1                          NaN                     NaN            84.0   \n",
       "2                          NaN                     NaN            88.0   \n",
       "3                          NaN                     NaN             NaN   \n",
       "4                          NaN                     NaN           510.0   \n",
       "\n",
       "  longitude   latitude  \n",
       "0  5.218706  46.198054  \n",
       "1  4.847867  46.000617  \n",
       "2  4.847920  46.000576  \n",
       "3  4.848345  46.000585  \n",
       "4  4.747627  46.045434  \n",
       "\n",
       "[5 rows x 40 columns]"
      ]
     },
     "execution_count": 3,
     "metadata": {},
     "output_type": "execute_result"
    }
   ],
   "source": [
    "sellprices_df.head()"
   ]
  },
  {
   "cell_type": "code",
   "execution_count": 4,
   "metadata": {},
   "outputs": [
    {
     "name": "stdout",
     "output_type": "stream",
     "text": [
      "3803885\n",
      "767804\n",
      "20.0 %\n"
     ]
    }
   ],
   "source": [
    "# surface_terrain\n",
    "# nombre_lots\n",
    "# surface_reelle_bati\n",
    "# valeur_fonciere\n",
    "# nombre_pieces_principales\n",
    "\n",
    "df = sellprices_df.dropna(subset=[\"surface_reelle_bati\", \"surface_terrain\", \"valeur_fonciere\", \"longitude\", \"latitude\"]).reset_index(drop=True)\n",
    "df[\"m2_price\"] = df[\"valeur_fonciere\"] / df[\"surface_reelle_bati\"]\n",
    "\n",
    "print(len(sellprices_df))\n",
    "print(len(df))\n",
    "print(100*round(len(df)/len(sellprices_df),2), \"%\")\n"
   ]
  },
  {
   "cell_type": "code",
   "execution_count": 6,
   "metadata": {},
   "outputs": [
    {
     "data": {
      "image/png": "[encoded data removed]",
      "text/plain": [
       "<Figure size 1400x1000 with 1 Axes>"
      ]
     },
     "metadata": {},
     "output_type": "display_data"
    }
   ],
   "source": [
    "ax = df[\"m2_price\"].plot.hist(figsize=(14,10), bins=40)\n",
    "ax.set_yscale('log')"
   ]
  },
  {
   "cell_type": "code",
   "execution_count": 7,
   "metadata": {},
   "outputs": [
    {
     "data": {
      "text/plain": [
       "<Axes: ylabel='Frequency'>"
      ]
     },
     "execution_count": 7,
     "metadata": {},
     "output_type": "execute_result"
    },
    {
     "data": {
      "image/png": "[encoded data removed]",
      "text/plain": [
       "<Figure size 1400x1000 with 1 Axes>"
      ]
     },
     "metadata": {},
     "output_type": "display_data"
    }
   ],
   "source": [
    "df[df[\"m2_price\"] <= 1e4][\"m2_price\"].plot.hist(figsize=(14,10), bins=30)"
   ]
  },
  {
   "attachments": {},
   "cell_type": "markdown",
   "metadata": {},
   "source": [
    "# Save to csv"
   ]
  },
  {
   "cell_type": "code",
   "execution_count": null,
   "metadata": {},
   "outputs": [],
   "source": [
    "df[[\"m2_price\", \"surface_reelle_bati\", \"surface_terrain\", \"valeur_fonciere\", \"longitude\", \"latitude\"]].to_csv(\"../data/m2_price.csv\")\n",
    "df[df[\"m2_price\"] <= 1e4].to_csv(\"../data/m2_price_upto1e4.csv\")"
   ]
  },
  {
   "attachments": {},
   "cell_type": "markdown",
   "metadata": {},
   "source": [
    "# Heatmap creation\n",
    "\n",
    "It simply shows the kernel density estimate of observed data points in geospatial coordinates. Computing KDE in spherical coordinates\n",
    "\n",
    "Neighbors-based query (in particular a kernel density estimate) on geospatial data, using a Ball Tree built upon the Haversine distance metric – i.e. distances over points in latitude/longitude.\n",
    "\n",
    "* https://scikit-learn.org/stable/auto_examples/neighbors/plot_species_kde.html#sphx-glr-auto-examples-neighbors-plot-species-kde-py\n",
    "* https://scikit-learn.org/stable/modules/density.html\n"
   ]
  },
  {
   "cell_type": "code",
   "execution_count": 12,
   "metadata": {},
   "outputs": [
    {
     "data": {
      "text/plain": [
       "486"
      ]
     },
     "execution_count": 12,
     "metadata": {},
     "output_type": "execute_result"
    }
   ],
   "source": [
    "grid_size = 0.5\n",
    "lat_min, lat_max, lon_min, lon_max = 42.5, 51.1, -5.2, 8.2\n",
    "\n",
    "xgrid = np.arange(lat_min, lat_max, grid_size)\n",
    "ygrid = np.arange(lon_min, lon_max, grid_size)\n",
    "\n",
    "X, Y = np.meshgrid(xgrid, ygrid[::-1])\n",
    "xy = np.vstack([X.ravel(), Y.ravel()]).T\n",
    "\n",
    "xy *= np.pi / 180.0\n",
    "\n",
    "len(xy)"
   ]
  },
  {
   "cell_type": "code",
   "execution_count": 44,
   "metadata": {},
   "outputs": [
    {
     "data": {
      "text/plain": [
       "array([0.81022313, 0.80156871, 0.80156871, ..., 0.85283315, 0.85253103,\n",
       "       0.85213304])"
      ]
     },
     "execution_count": 44,
     "metadata": {},
     "output_type": "execute_result"
    }
   ],
   "source": [
    "y"
   ]
  },
  {
   "cell_type": "code",
   "execution_count": 40,
   "metadata": {},
   "outputs": [],
   "source": [
    "xi = linspace(lat_min, lat_max, 100) * np.pi / 180.0\n",
    "yi = linspace(lon_min, lon_max, 100) * np.pi / 180.0\n",
    "\n",
    "z = df[\"m2_price\"].to_numpy()\n",
    "y = df[\"latitude\"].to_numpy() * np.pi / 180.0\n",
    "x = df[\"longitude\"].to_numpy() * np.pi / 180.0\n",
    "\n",
    "zi = griddata((x, y), z, (xi[None, :], yi[:, None]), method='linear')"
   ]
  },
  {
   "cell_type": "code",
   "execution_count": 32,
   "metadata": {},
   "outputs": [
    {
     "ename": "TypeError",
     "evalue": "Input z must be 2D, not 1D",
     "output_type": "error",
     "traceback": [
      "\u001b[0;31m---------------------------------------------------------------------------\u001b[0m",
      "\u001b[0;31mTypeError\u001b[0m                                 Traceback (most recent call last)",
      "Cell \u001b[0;32mIn[32], line 1\u001b[0m\n\u001b[0;32m----> 1\u001b[0m plt\u001b[39m.\u001b[39;49mcontourf(xi, yi, zi, \u001b[39mrange\u001b[39;49m(\u001b[39m5000\u001b[39;49m, \u001b[39mint\u001b[39;49m(np\u001b[39m.\u001b[39;49mnanmax(zi)) \u001b[39m+\u001b[39;49m \u001b[39m100\u001b[39;49m, \u001b[39m100\u001b[39;49m), cmap \u001b[39m=\u001b[39;49m plt\u001b[39m.\u001b[39;49mcm\u001b[39m.\u001b[39;49mjet)\n",
      "File \u001b[0;32m~/Documents/source/sandbox/geo-analysis/.venv/lib/python3.8/site-packages/matplotlib/pyplot.py:2537\u001b[0m, in \u001b[0;36mcontourf\u001b[0;34m(data, *args, **kwargs)\u001b[0m\n\u001b[1;32m   2535\u001b[0m \u001b[39m@_copy_docstring_and_deprecators\u001b[39m(Axes\u001b[39m.\u001b[39mcontourf)\n\u001b[1;32m   2536\u001b[0m \u001b[39mdef\u001b[39;00m \u001b[39mcontourf\u001b[39m(\u001b[39m*\u001b[39margs, data\u001b[39m=\u001b[39m\u001b[39mNone\u001b[39;00m, \u001b[39m*\u001b[39m\u001b[39m*\u001b[39mkwargs):\n\u001b[0;32m-> 2537\u001b[0m     __ret \u001b[39m=\u001b[39m gca()\u001b[39m.\u001b[39;49mcontourf(\n\u001b[1;32m   2538\u001b[0m         \u001b[39m*\u001b[39;49margs, \u001b[39m*\u001b[39;49m\u001b[39m*\u001b[39;49m({\u001b[39m\"\u001b[39;49m\u001b[39mdata\u001b[39;49m\u001b[39m\"\u001b[39;49m: data} \u001b[39mif\u001b[39;49;00m data \u001b[39mis\u001b[39;49;00m \u001b[39mnot\u001b[39;49;00m \u001b[39mNone\u001b[39;49;00m \u001b[39melse\u001b[39;49;00m {}),\n\u001b[1;32m   2539\u001b[0m         \u001b[39m*\u001b[39;49m\u001b[39m*\u001b[39;49mkwargs)\n\u001b[1;32m   2540\u001b[0m     \u001b[39mif\u001b[39;00m __ret\u001b[39m.\u001b[39m_A \u001b[39mis\u001b[39;00m \u001b[39mnot\u001b[39;00m \u001b[39mNone\u001b[39;00m: sci(__ret)  \u001b[39m# noqa\u001b[39;00m\n\u001b[1;32m   2541\u001b[0m     \u001b[39mreturn\u001b[39;00m __ret\n",
      "File \u001b[0;32m~/Documents/source/sandbox/geo-analysis/.venv/lib/python3.8/site-packages/matplotlib/__init__.py:1442\u001b[0m, in \u001b[0;36m_preprocess_data.<locals>.inner\u001b[0;34m(ax, data, *args, **kwargs)\u001b[0m\n\u001b[1;32m   1439\u001b[0m \u001b[39m@functools\u001b[39m\u001b[39m.\u001b[39mwraps(func)\n\u001b[1;32m   1440\u001b[0m \u001b[39mdef\u001b[39;00m \u001b[39minner\u001b[39m(ax, \u001b[39m*\u001b[39margs, data\u001b[39m=\u001b[39m\u001b[39mNone\u001b[39;00m, \u001b[39m*\u001b[39m\u001b[39m*\u001b[39mkwargs):\n\u001b[1;32m   1441\u001b[0m     \u001b[39mif\u001b[39;00m data \u001b[39mis\u001b[39;00m \u001b[39mNone\u001b[39;00m:\n\u001b[0;32m-> 1442\u001b[0m         \u001b[39mreturn\u001b[39;00m func(ax, \u001b[39m*\u001b[39;49m\u001b[39mmap\u001b[39;49m(sanitize_sequence, args), \u001b[39m*\u001b[39;49m\u001b[39m*\u001b[39;49mkwargs)\n\u001b[1;32m   1444\u001b[0m     bound \u001b[39m=\u001b[39m new_sig\u001b[39m.\u001b[39mbind(ax, \u001b[39m*\u001b[39margs, \u001b[39m*\u001b[39m\u001b[39m*\u001b[39mkwargs)\n\u001b[1;32m   1445\u001b[0m     auto_label \u001b[39m=\u001b[39m (bound\u001b[39m.\u001b[39marguments\u001b[39m.\u001b[39mget(label_namer)\n\u001b[1;32m   1446\u001b[0m                   \u001b[39mor\u001b[39;00m bound\u001b[39m.\u001b[39mkwargs\u001b[39m.\u001b[39mget(label_namer))\n",
      "File \u001b[0;32m~/Documents/source/sandbox/geo-analysis/.venv/lib/python3.8/site-packages/matplotlib/axes/_axes.py:6467\u001b[0m, in \u001b[0;36mAxes.contourf\u001b[0;34m(self, *args, **kwargs)\u001b[0m\n\u001b[1;32m   6458\u001b[0m \u001b[39m\u001b[39m\u001b[39m\"\"\"\u001b[39;00m\n\u001b[1;32m   6459\u001b[0m \u001b[39mPlot filled contours.\u001b[39;00m\n\u001b[1;32m   6460\u001b[0m \n\u001b[0;32m   (...)\u001b[0m\n\u001b[1;32m   6464\u001b[0m \u001b[39m%(contour_doc)s\u001b[39;00m\n\u001b[1;32m   6465\u001b[0m \u001b[39m\"\"\"\u001b[39;00m\n\u001b[1;32m   6466\u001b[0m kwargs[\u001b[39m'\u001b[39m\u001b[39mfilled\u001b[39m\u001b[39m'\u001b[39m] \u001b[39m=\u001b[39m \u001b[39mTrue\u001b[39;00m\n\u001b[0;32m-> 6467\u001b[0m contours \u001b[39m=\u001b[39m mcontour\u001b[39m.\u001b[39;49mQuadContourSet(\u001b[39mself\u001b[39;49m, \u001b[39m*\u001b[39;49margs, \u001b[39m*\u001b[39;49m\u001b[39m*\u001b[39;49mkwargs)\n\u001b[1;32m   6468\u001b[0m \u001b[39mself\u001b[39m\u001b[39m.\u001b[39m_request_autoscale_view()\n\u001b[1;32m   6469\u001b[0m \u001b[39mreturn\u001b[39;00m contours\n",
      "File \u001b[0;32m~/Documents/source/sandbox/geo-analysis/.venv/lib/python3.8/site-packages/matplotlib/contour.py:769\u001b[0m, in \u001b[0;36mContourSet.__init__\u001b[0;34m(self, ax, levels, filled, linewidths, linestyles, hatches, alpha, origin, extent, cmap, colors, norm, vmin, vmax, extend, antialiased, nchunk, locator, transform, negative_linestyles, *args, **kwargs)\u001b[0m\n\u001b[1;32m    765\u001b[0m \u001b[39mif\u001b[39;00m \u001b[39mself\u001b[39m\u001b[39m.\u001b[39mnegative_linestyles \u001b[39mis\u001b[39;00m \u001b[39mNone\u001b[39;00m:\n\u001b[1;32m    766\u001b[0m     \u001b[39mself\u001b[39m\u001b[39m.\u001b[39mnegative_linestyles \u001b[39m=\u001b[39m \\\n\u001b[1;32m    767\u001b[0m         mpl\u001b[39m.\u001b[39mrcParams[\u001b[39m'\u001b[39m\u001b[39mcontour.negative_linestyle\u001b[39m\u001b[39m'\u001b[39m]\n\u001b[0;32m--> 769\u001b[0m kwargs \u001b[39m=\u001b[39m \u001b[39mself\u001b[39;49m\u001b[39m.\u001b[39;49m_process_args(\u001b[39m*\u001b[39;49margs, \u001b[39m*\u001b[39;49m\u001b[39m*\u001b[39;49mkwargs)\n\u001b[1;32m    770\u001b[0m \u001b[39mself\u001b[39m\u001b[39m.\u001b[39m_process_levels()\n\u001b[1;32m    772\u001b[0m \u001b[39mself\u001b[39m\u001b[39m.\u001b[39m_extend_min \u001b[39m=\u001b[39m \u001b[39mself\u001b[39m\u001b[39m.\u001b[39mextend \u001b[39min\u001b[39;00m [\u001b[39m'\u001b[39m\u001b[39mmin\u001b[39m\u001b[39m'\u001b[39m, \u001b[39m'\u001b[39m\u001b[39mboth\u001b[39m\u001b[39m'\u001b[39m]\n",
      "File \u001b[0;32m~/Documents/source/sandbox/geo-analysis/.venv/lib/python3.8/site-packages/matplotlib/contour.py:1411\u001b[0m, in \u001b[0;36mQuadContourSet._process_args\u001b[0;34m(self, corner_mask, algorithm, *args, **kwargs)\u001b[0m\n\u001b[1;32m   1408\u001b[0m         corner_mask \u001b[39m=\u001b[39m mpl\u001b[39m.\u001b[39mrcParams[\u001b[39m'\u001b[39m\u001b[39mcontour.corner_mask\u001b[39m\u001b[39m'\u001b[39m]\n\u001b[1;32m   1409\u001b[0m \u001b[39mself\u001b[39m\u001b[39m.\u001b[39m_corner_mask \u001b[39m=\u001b[39m corner_mask\n\u001b[0;32m-> 1411\u001b[0m x, y, z \u001b[39m=\u001b[39m \u001b[39mself\u001b[39;49m\u001b[39m.\u001b[39;49m_contour_args(args, kwargs)\n\u001b[1;32m   1413\u001b[0m contour_generator \u001b[39m=\u001b[39m contourpy\u001b[39m.\u001b[39mcontour_generator(\n\u001b[1;32m   1414\u001b[0m     x, y, z, name\u001b[39m=\u001b[39m\u001b[39mself\u001b[39m\u001b[39m.\u001b[39m_algorithm, corner_mask\u001b[39m=\u001b[39m\u001b[39mself\u001b[39m\u001b[39m.\u001b[39m_corner_mask,\n\u001b[1;32m   1415\u001b[0m     line_type\u001b[39m=\u001b[39mcontourpy\u001b[39m.\u001b[39mLineType\u001b[39m.\u001b[39mSeparateCode,\n\u001b[1;32m   1416\u001b[0m     fill_type\u001b[39m=\u001b[39mcontourpy\u001b[39m.\u001b[39mFillType\u001b[39m.\u001b[39mOuterCode,\n\u001b[1;32m   1417\u001b[0m     chunk_size\u001b[39m=\u001b[39m\u001b[39mself\u001b[39m\u001b[39m.\u001b[39mnchunk)\n\u001b[1;32m   1419\u001b[0m t \u001b[39m=\u001b[39m \u001b[39mself\u001b[39m\u001b[39m.\u001b[39mget_transform()\n",
      "File \u001b[0;32m~/Documents/source/sandbox/geo-analysis/.venv/lib/python3.8/site-packages/matplotlib/contour.py:1450\u001b[0m, in \u001b[0;36mQuadContourSet._contour_args\u001b[0;34m(self, args, kwargs)\u001b[0m\n\u001b[1;32m   1448\u001b[0m \u001b[39melif\u001b[39;00m nargs \u001b[39m<\u001b[39m\u001b[39m=\u001b[39m \u001b[39m4\u001b[39m:\n\u001b[1;32m   1449\u001b[0m     x, y, z_orig, \u001b[39m*\u001b[39margs \u001b[39m=\u001b[39m args\n\u001b[0;32m-> 1450\u001b[0m     x, y, z \u001b[39m=\u001b[39m \u001b[39mself\u001b[39;49m\u001b[39m.\u001b[39;49m_check_xyz(x, y, z_orig, kwargs)\n\u001b[1;32m   1451\u001b[0m \u001b[39melse\u001b[39;00m:\n\u001b[1;32m   1452\u001b[0m     \u001b[39mraise\u001b[39;00m _api\u001b[39m.\u001b[39mnargs_error(fn, takes\u001b[39m=\u001b[39m\u001b[39m\"\u001b[39m\u001b[39mfrom 1 to 4\u001b[39m\u001b[39m\"\u001b[39m, given\u001b[39m=\u001b[39mnargs)\n",
      "File \u001b[0;32m~/Documents/source/sandbox/geo-analysis/.venv/lib/python3.8/site-packages/matplotlib/contour.py:1475\u001b[0m, in \u001b[0;36mQuadContourSet._check_xyz\u001b[0;34m(self, x, y, z, kwargs)\u001b[0m\n\u001b[1;32m   1472\u001b[0m z \u001b[39m=\u001b[39m ma\u001b[39m.\u001b[39masarray(z)\n\u001b[1;32m   1474\u001b[0m \u001b[39mif\u001b[39;00m z\u001b[39m.\u001b[39mndim \u001b[39m!=\u001b[39m \u001b[39m2\u001b[39m:\n\u001b[0;32m-> 1475\u001b[0m     \u001b[39mraise\u001b[39;00m \u001b[39mTypeError\u001b[39;00m(\u001b[39mf\u001b[39m\u001b[39m\"\u001b[39m\u001b[39mInput z must be 2D, not \u001b[39m\u001b[39m{\u001b[39;00mz\u001b[39m.\u001b[39mndim\u001b[39m}\u001b[39;00m\u001b[39mD\u001b[39m\u001b[39m\"\u001b[39m)\n\u001b[1;32m   1476\u001b[0m \u001b[39mif\u001b[39;00m z\u001b[39m.\u001b[39mshape[\u001b[39m0\u001b[39m] \u001b[39m<\u001b[39m \u001b[39m2\u001b[39m \u001b[39mor\u001b[39;00m z\u001b[39m.\u001b[39mshape[\u001b[39m1\u001b[39m] \u001b[39m<\u001b[39m \u001b[39m2\u001b[39m:\n\u001b[1;32m   1477\u001b[0m     \u001b[39mraise\u001b[39;00m \u001b[39mTypeError\u001b[39;00m(\u001b[39mf\u001b[39m\u001b[39m\"\u001b[39m\u001b[39mInput z must be at least a (2, 2) shaped array, \u001b[39m\u001b[39m\"\u001b[39m\n\u001b[1;32m   1478\u001b[0m                     \u001b[39mf\u001b[39m\u001b[39m\"\u001b[39m\u001b[39mbut has shape \u001b[39m\u001b[39m{\u001b[39;00mz\u001b[39m.\u001b[39mshape\u001b[39m}\u001b[39;00m\u001b[39m\"\u001b[39m)\n",
      "\u001b[0;31mTypeError\u001b[0m: Input z must be 2D, not 1D"
     ]
    },
    {
     "data": {
      "image/png": "[encoded data removed]",
      "text/plain": [
       "<Figure size 640x480 with 1 Axes>"
      ]
     },
     "metadata": {},
     "output_type": "display_data"
    }
   ],
   "source": [
    "plt.contourf(xi, yi, zi, range(5000, int(np.nanmax(zi)) + 100, 100), cmap = plt.cm.jet)"
   ]
  },
  {
   "cell_type": "code",
   "execution_count": 14,
   "metadata": {},
   "outputs": [
    {
     "data": {
      "text/html": [
       "<style>#sk-container-id-2 {color: black;background-color: white;}#sk-container-id-2 pre{padding: 0;}#sk-container-id-2 div.sk-toggleable {background-color: white;}#sk-container-id-2 label.sk-toggleable__label {cursor: pointer;display: block;width: 100%;margin-bottom: 0;padding: 0.3em;box-sizing: border-box;text-align: center;}#sk-container-id-2 label.sk-toggleable__label-arrow:before {content: \"▸\";float: left;margin-right: 0.25em;color: #696969;}#sk-container-id-2 label.sk-toggleable__label-arrow:hover:before {color: black;}#sk-container-id-2 div.sk-estimator:hover label.sk-toggleable__label-arrow:before {color: black;}#sk-container-id-2 div.sk-toggleable__content {max-height: 0;max-width: 0;overflow: hidden;text-align: left;background-color: #f0f8ff;}#sk-container-id-2 div.sk-toggleable__content pre {margin: 0.2em;color: black;border-radius: 0.25em;background-color: #f0f8ff;}#sk-container-id-2 input.sk-toggleable__control:checked~div.sk-toggleable__content {max-height: 200px;max-width: 100%;overflow: auto;}#sk-container-id-2 input.sk-toggleable__control:checked~label.sk-toggleable__label-arrow:before {content: \"▾\";}#sk-container-id-2 div.sk-estimator input.sk-toggleable__control:checked~label.sk-toggleable__label {background-color: #d4ebff;}#sk-container-id-2 div.sk-label input.sk-toggleable__control:checked~label.sk-toggleable__label {background-color: #d4ebff;}#sk-container-id-2 input.sk-hidden--visually {border: 0;clip: rect(1px 1px 1px 1px);clip: rect(1px, 1px, 1px, 1px);height: 1px;margin: -1px;overflow: hidden;padding: 0;position: absolute;width: 1px;}#sk-container-id-2 div.sk-estimator {font-family: monospace;background-color: #f0f8ff;border: 1px dotted black;border-radius: 0.25em;box-sizing: border-box;margin-bottom: 0.5em;}#sk-container-id-2 div.sk-estimator:hover {background-color: #d4ebff;}#sk-container-id-2 div.sk-parallel-item::after {content: \"\";width: 100%;border-bottom: 1px solid gray;flex-grow: 1;}#sk-container-id-2 div.sk-label:hover label.sk-toggleable__label {background-color: #d4ebff;}#sk-container-id-2 div.sk-serial::before {content: \"\";position: absolute;border-left: 1px solid gray;box-sizing: border-box;top: 0;bottom: 0;left: 50%;z-index: 0;}#sk-container-id-2 div.sk-serial {display: flex;flex-direction: column;align-items: center;background-color: white;padding-right: 0.2em;padding-left: 0.2em;position: relative;}#sk-container-id-2 div.sk-item {position: relative;z-index: 1;}#sk-container-id-2 div.sk-parallel {display: flex;align-items: stretch;justify-content: center;background-color: white;position: relative;}#sk-container-id-2 div.sk-item::before, #sk-container-id-2 div.sk-parallel-item::before {content: \"\";position: absolute;border-left: 1px solid gray;box-sizing: border-box;top: 0;bottom: 0;left: 50%;z-index: -1;}#sk-container-id-2 div.sk-parallel-item {display: flex;flex-direction: column;z-index: 1;position: relative;background-color: white;}#sk-container-id-2 div.sk-parallel-item:first-child::after {align-self: flex-end;width: 50%;}#sk-container-id-2 div.sk-parallel-item:last-child::after {align-self: flex-start;width: 50%;}#sk-container-id-2 div.sk-parallel-item:only-child::after {width: 0;}#sk-container-id-2 div.sk-dashed-wrapped {border: 1px dashed gray;margin: 0 0.4em 0.5em 0.4em;box-sizing: border-box;padding-bottom: 0.4em;background-color: white;}#sk-container-id-2 div.sk-label label {font-family: monospace;font-weight: bold;display: inline-block;line-height: 1.2em;}#sk-container-id-2 div.sk-label-container {text-align: center;}#sk-container-id-2 div.sk-container {/* jupyter's `normalize.less` sets `[hidden] { display: none; }` but bootstrap.min.css set `[hidden] { display: none !important; }` so we also need the `!important` here to be able to override the default hidden behavior on the sphinx rendered scikit-learn.org. See: https://github.com/scikit-learn/scikit-learn/issues/21755 */display: inline-block !important;position: relative;}#sk-container-id-2 div.sk-text-repr-fallback {display: none;}</style><div id=\"sk-container-id-2\" class=\"sk-top-container\"><div class=\"sk-text-repr-fallback\"><pre>KernelDensity(algorithm=&#x27;ball_tree&#x27;, bandwidth=0.04, metric=&#x27;haversine&#x27;)</pre><b>In a Jupyter environment, please rerun this cell to show the HTML representation or trust the notebook. <br />On GitHub, the HTML representation is unable to render, please try loading this page with nbviewer.org.</b></div><div class=\"sk-container\" hidden><div class=\"sk-item\"><div class=\"sk-estimator sk-toggleable\"><input class=\"sk-toggleable__control sk-hidden--visually\" id=\"sk-estimator-id-2\" type=\"checkbox\" checked><label for=\"sk-estimator-id-2\" class=\"sk-toggleable__label sk-toggleable__label-arrow\">KernelDensity</label><div class=\"sk-toggleable__content\"><pre>KernelDensity(algorithm=&#x27;ball_tree&#x27;, bandwidth=0.04, metric=&#x27;haversine&#x27;)</pre></div></div></div></div></div>"
      ],
      "text/plain": [
       "KernelDensity(algorithm='ball_tree', bandwidth=0.04, metric='haversine')"
      ]
     },
     "execution_count": 14,
     "metadata": {},
     "output_type": "execute_result"
    }
   ],
   "source": [
    "kde = KernelDensity(bandwidth=0.04, metric=\"haversine\", kernel=\"gaussian\", algorithm=\"ball_tree\")\n",
    "\n",
    "x_train = df[[\"latitude\", \"longitude\"]].to_numpy()\n",
    "x_weights = df[\"m2_price\"]\n",
    "\n",
    "kde.fit(np.radians(x_train), sample_weight=x_weights.to_numpy())"
   ]
  },
  {
   "cell_type": "code",
   "execution_count": 17,
   "metadata": {},
   "outputs": [],
   "source": [
    "Z = np.exp(kde.score_samples(xy))"
   ]
  },
  {
   "cell_type": "code",
   "execution_count": 18,
   "metadata": {},
   "outputs": [],
   "source": [
    "xyZ = np.hstack([xy, Z.reshape(-1,1)])\n",
    "xyZ_df = pd.DataFrame(xyZ, columns=[\"latitude\", \"longitude\", \"price_by_m2\"])\n",
    "xyZ_df[\"latitude\"] *= 180.0 / np.pi\n",
    "xyZ_df[\"longitude\"] *= 180.0 / np.pi\n",
    "\n",
    "# export array to CSV file\n",
    "xyZ_df.to_csv(\"../data/m2_price_heatmat.csv\", index=False)"
   ]
  },
  {
   "attachments": {},
   "cell_type": "markdown",
   "metadata": {},
   "source": [
    "Bivariate spline fitting of data in spherical coordinates\n",
    "\n",
    "If your data is given in spherical coordinates, $r = r(\\theta, \\phi)$,\n",
    "\n",
    "`SmoothSphereBivariateSpline` and `RectSphereBivariateSpline` provide convenient analogs of `SmoothBivariateSpline` and `RectBivariateSpline`, respectively.\n",
    "\n",
    "These classes ensure the periodicity of the spline fits for\n",
    "* $ \\theta \\in [0, \\pi] $ and,\n",
    "* $ \\phi \\in [0, 2 \\pi] $\n",
    " \n",
    "and offer some control over the continuity at the poles.\n",
    "\n",
    "> This routine constructs spline knot vectors automatically via the FITPACK\n",
    "> algorithm. The spline knots may be placed away from the data points. For\n",
    "> some data sets, this routine may fail to construct an interpolating spline,\n",
    "> even if one is requested via ``s=0`` parameter. In such situations, it is\n",
    "> recommended to use `bisplrep` / `bisplev` directly instead of this routine\n",
    "> and, if needed, increase the values of ``nxest`` and ``nyest`` parameters\n",
    "> of `bisplrep`.\n",
    "\n",
    "I tried with a few examples and it seems the problem SmoothSphereBivariateSpline faces is the memory scaling. \n",
    "\n",
    "So if we have too many points on our grid it will memory overflow. This seems to be a more flexible method suitable for points irregularly dropped on sphere instead of regular grid like ours."
   ]
  },
  {
   "cell_type": "code",
   "execution_count": 56,
   "metadata": {},
   "outputs": [
    {
     "name": "stdout",
     "output_type": "stream",
     "text": [
      "767804\n",
      "144392\n"
     ]
    }
   ],
   "source": [
    "from scipy.interpolate import SmoothSphereBivariateSpline\n",
    "\n",
    "# remove duplicates\n",
    "# df_wduplicates = df[df[\"m2_price\"] <= 1e4].reset_index(drop=True)\n",
    "df_wduplicates = df.reset_index(drop=True)\n",
    "\n",
    "rounding_factor = 2\n",
    "df_wduplicates[\"latitude_r\"] = df_wduplicates[\"latitude\"].round(rounding_factor)\n",
    "df_wduplicates[\"longitude_r\"] = df_wduplicates[\"longitude\"].round(rounding_factor)\n",
    "\n",
    "df_wduplicates = df_wduplicates.groupby(by=[\"latitude_r\", \"longitude_r\"])[\"m2_price\"].mean()\n",
    "df_wduplicates = df_wduplicates.reset_index()\n",
    "\n",
    "print(len(df))\n",
    "print(len(df_wduplicates))\n",
    "\n",
    "data_std = df_wduplicates[\"m2_price\"].std()\n",
    "data_mean = df_wduplicates[\"m2_price\"].mean()\n",
    "data = ((df_wduplicates[\"m2_price\"] - data_mean) / data_std).to_numpy()\n",
    "\n",
    "thetas = (df_wduplicates[\"latitude_r\"].to_numpy() + 90.0) * (np.pi / 180.0)\n",
    "phis = (df_wduplicates[\"longitude_r\"].to_numpy() + 180.0) * (np.pi / 180.0)\n"
   ]
  },
  {
   "cell_type": "code",
   "execution_count": 49,
   "metadata": {},
   "outputs": [],
   "source": [
    "# sum((w(i)*(r(i) - s(theta(i), phi(i))))**2, axis=0) <= s\n",
    "# Default s=len(w) which should be a good value if 1/w[i] is an estimate of the standard deviation of r[i].\n",
    "\n",
    "lut = SmoothSphereBivariateSpline(theta=thetas, phi=phis, r=data, s=len(data), eps=1e-16)"
   ]
  },
  {
   "cell_type": "code",
   "execution_count": 50,
   "metadata": {},
   "outputs": [],
   "source": [
    "lat_min, lat_max = df[\"latitude\"].min(), df[\"latitude\"].max()\n",
    "lon_min, lon_max = df[\"longitude\"].min(), df[\"longitude\"].max()\n",
    "\n",
    "lat_min = (lat_min + 90.0) * (np.pi / 180.0)\n",
    "lat_max = (lat_max + 90.0) * (np.pi / 180.0)\n",
    "\n",
    "lon_min = (lon_min + 180.0) * (np.pi / 180.0)\n",
    "lon_max = (lon_max + 180.0) * (np.pi / 180.0)\n",
    "\n",
    "fine_lats = np.linspace(lat_min, lat_max, 1000)\n",
    "fine_lons = np.linspace(lon_min, lon_max, 1000)\n",
    "\n",
    "data_smth = lut(fine_lats, fine_lons)"
   ]
  },
  {
   "cell_type": "code",
   "execution_count": 58,
   "metadata": {},
   "outputs": [
    {
     "data": {
      "text/plain": [
       "<matplotlib.image.AxesImage at 0x7fb5d089b790>"
      ]
     },
     "execution_count": 58,
     "metadata": {},
     "output_type": "execute_result"
    },
    {
     "data": {
      "image/png": "[encoded data removed]",
      "text/plain": [
       "<Figure size 640x480 with 1 Axes>"
      ]
     },
     "metadata": {},
     "output_type": "display_data"
    }
   ],
   "source": [
    "plt.imshow(data_smth * data_std + data_mean, interpolation='nearest')"
   ]
  }
 ],
 "metadata": {
  "kernelspec": {
   "display_name": ".venv",
   "language": "python",
   "name": "python3"
  },
  "language_info": {
   "codemirror_mode": {
    "name": "ipython",
    "version": 3
   },
   "file_extension": ".py",
   "mimetype": "text/x-python",
   "name": "python",
   "nbconvert_exporter": "python",
   "pygments_lexer": "ipython3",
   "version": "3.8.10"
  },
  "orig_nbformat": 4
 },
 "nbformat": 4,
 "nbformat_minor": 2
}
