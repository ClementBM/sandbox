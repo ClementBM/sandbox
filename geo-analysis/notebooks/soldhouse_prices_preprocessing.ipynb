{
 "cells": [
  {
   "cell_type": "code",
   "execution_count": 1,
   "metadata": {},
   "outputs": [],
   "source": [
    "from data import FULL_SOLD_HOUSE_PRICES, CLEAN_SOLD_HOUSE_PRICES\n",
    "import pandas as pd"
   ]
  },
  {
   "cell_type": "code",
   "execution_count": 2,
   "metadata": {},
   "outputs": [
    {
     "name": "stderr",
     "output_type": "stream",
     "text": [
      "/tmp/ipykernel_13777/726232839.py:1: DtypeWarning: Columns (10,12,14,16,17,18,20,22,35,36) have mixed types. Specify dtype option on import or set low_memory=False.\n",
      "  sellprices_df = pd.read_csv(FULL_SOLD_HOUSE_PRICES)\n"
     ]
    }
   ],
   "source": [
    "sellprices_df = pd.read_csv(FULL_SOLD_HOUSE_PRICES)"
   ]
  },
  {
   "attachments": {},
   "cell_type": "markdown",
   "metadata": {},
   "source": [
    "## Removing Nan"
   ]
  },
  {
   "cell_type": "code",
   "execution_count": 3,
   "metadata": {},
   "outputs": [],
   "source": [
    "df = sellprices_df.copy()\n",
    "is_surface_na = ~df[\"surface_terrain\"].isna() | ~df[\"surface_reelle_bati\"].isna()\n",
    "df = df[is_surface_na].reset_index(drop=True)"
   ]
  },
  {
   "cell_type": "code",
   "execution_count": 5,
   "metadata": {},
   "outputs": [],
   "source": [
    "na_counts = pd.DataFrame({column: df[column].isna().sum() for column in df.columns}, index=[\"count\"]).T\n",
    "drop_columns = list(na_counts[na_counts[\"count\"] > len(df) * 0.8].index)\n",
    "df.drop(columns=drop_columns, inplace=True)"
   ]
  },
  {
   "cell_type": "code",
   "execution_count": 7,
   "metadata": {},
   "outputs": [],
   "source": [
    "df.dropna(subset=[\"valeur_fonciere\", \"longitude\", \"latitude\"], inplace=True)\n",
    "df.reset_index(drop=True, inplace=True)"
   ]
  },
  {
   "attachments": {},
   "cell_type": "markdown",
   "metadata": {},
   "source": [
    "# Remove duplicates"
   ]
  },
  {
   "cell_type": "code",
   "execution_count": null,
   "metadata": {},
   "outputs": [],
   "source": [
    "df.drop_duplicates(subset=[\"surface_reelle_bati\", \n",
    "                            \"surface_terrain\", \n",
    "                            \"valeur_fonciere\", \n",
    "                            \"longitude\",\n",
    "                            \"latitude\"], inplace=True)"
   ]
  },
  {
   "attachments": {},
   "cell_type": "markdown",
   "metadata": {},
   "source": [
    "# Saving clean DataFrame"
   ]
  },
  {
   "cell_type": "code",
   "execution_count": 9,
   "metadata": {},
   "outputs": [],
   "source": [
    "df.to_csv(CLEAN_SOLD_HOUSE_PRICES, index=False)"
   ]
  }
 ],
 "metadata": {
  "kernelspec": {
   "display_name": ".venv",
   "language": "python",
   "name": "python3"
  },
  "language_info": {
   "codemirror_mode": {
    "name": "ipython",
    "version": 3
   },
   "file_extension": ".py",
   "mimetype": "text/x-python",
   "name": "python",
   "nbconvert_exporter": "python",
   "pygments_lexer": "ipython3",
   "version": "3.8.10"
  },
  "orig_nbformat": 4
 },
 "nbformat": 4,
 "nbformat_minor": 2
}
