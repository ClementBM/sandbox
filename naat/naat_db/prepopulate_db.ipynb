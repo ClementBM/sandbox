{
 "cells": [
  {
   "cell_type": "code",
   "execution_count": 1,
   "metadata": {},
   "outputs": [],
   "source": [
    "import pandas as pd"
   ]
  },
  {
   "cell_type": "markdown",
   "metadata": {},
   "source": [
    "# Agent\n",
    "\n",
    "```sql\n",
    "INSERT INTO Agent (Name, Agent_Type_Id) VALUES ('', (SELECT Agent_Type_Id FROM Agent_Type WHERE Name = ''));\n",
    "```"
   ]
  },
  {
   "cell_type": "code",
   "execution_count": 53,
   "metadata": {},
   "outputs": [
    {
     "name": "stdout",
     "output_type": "stream",
     "text": [
      "INSERT INTO Agent (Name, Agent_Url, Agent_Type_Id) VALUES ('Gloucester Resources Limited', null, (SELECT Agent_Type_Id FROM Agent_Type WHERE Name = 'Entreprise'));\n",
      "INSERT INTO Agent (Name, Agent_Url, Agent_Type_Id) VALUES ('Scott Gilmore et autres (Hausfeld LLP)', null, (SELECT Agent_Type_Id FROM Agent_Type WHERE Name = 'Entreprise'));\n",
      "INSERT INTO Agent (Name, Agent_Url, Agent_Type_Id) VALUES ('Minister for Planning', null, (SELECT Agent_Type_Id FROM Agent_Type WHERE Name = 'Etat'));\n",
      "INSERT INTO Agent (Name, Agent_Url, Agent_Type_Id) VALUES ('Ramin Pejan et autres (Earthjustice)', null, (SELECT Agent_Type_Id FROM Agent_Type WHERE Name = 'Entreprise'));\n",
      "INSERT INTO Agent (Name, Agent_Url, Agent_Type_Id) VALUES ('Argentine', null, (SELECT Agent_Type_Id FROM Agent_Type WHERE Name = 'Etat'));\n",
      "INSERT INTO Agent (Name, Agent_Url, Agent_Type_Id) VALUES ('Brésil', null, (SELECT Agent_Type_Id FROM Agent_Type WHERE Name = 'Etat'));\n",
      "INSERT INTO Agent (Name, Agent_Url, Agent_Type_Id) VALUES ('France', null, (SELECT Agent_Type_Id FROM Agent_Type WHERE Name = 'Etat'));\n",
      "INSERT INTO Agent (Name, Agent_Url, Agent_Type_Id) VALUES ('Allemagne', null, (SELECT Agent_Type_Id FROM Agent_Type WHERE Name = 'Etat'));\n",
      "INSERT INTO Agent (Name, Agent_Url, Agent_Type_Id) VALUES ('Turquie', null, (SELECT Agent_Type_Id FROM Agent_Type WHERE Name = 'Etat'));\n",
      "INSERT INTO Agent (Name, Agent_Url, Agent_Type_Id) VALUES ('Alaska Wilderness League', null, (SELECT Agent_Type_Id FROM Agent_Type WHERE Name = 'Association'));\n",
      "INSERT INTO Agent (Name, Agent_Url, Agent_Type_Id) VALUES ('Defenders of Wildlife', null, (SELECT Agent_Type_Id FROM Agent_Type WHERE Name = 'Association'));\n",
      "INSERT INTO Agent (Name, Agent_Url, Agent_Type_Id) VALUES ('Northern Alaska Environmental Center', null, (SELECT Agent_Type_Id FROM Agent_Type WHERE Name = 'Association'));\n",
      "INSERT INTO Agent (Name, Agent_Url, Agent_Type_Id) VALUES ('Sierra Club', null, (SELECT Agent_Type_Id FROM Agent_Type WHERE Name = 'Association'));\n",
      "INSERT INTO Agent (Name, Agent_Url, Agent_Type_Id) VALUES ('The Wilderness Society', null, (SELECT Agent_Type_Id FROM Agent_Type WHERE Name = 'Association'));\n",
      "INSERT INTO Agent (Name, Agent_Url, Agent_Type_Id) VALUES ('Center for Biological Diversity', null, (SELECT Agent_Type_Id FROM Agent_Type WHERE Name = 'Association'));\n",
      "INSERT INTO Agent (Name, Agent_Url, Agent_Type_Id) VALUES ('Friends of the Earth', null, (SELECT Agent_Type_Id FROM Agent_Type WHERE Name = 'Association'));\n",
      "INSERT INTO Agent (Name, Agent_Url, Agent_Type_Id) VALUES ('Greenpeace', null, (SELECT Agent_Type_Id FROM Agent_Type WHERE Name = 'Association'));\n",
      "INSERT INTO Agent (Name, Agent_Url, Agent_Type_Id) VALUES ('ConocoPhillips Ltd', null, (SELECT Agent_Type_Id FROM Agent_Type WHERE Name = 'Entreprise'));\n",
      "INSERT INTO Agent (Name, Agent_Url, Agent_Type_Id) VALUES ('William Tsama', null, (SELECT Agent_Type_Id FROM Agent_Type WHERE Name = 'Particulier'));\n",
      "INSERT INTO Agent (Name, Agent_Url, Agent_Type_Id) VALUES ('Saúl Luciano Lliuya', null, (SELECT Agent_Type_Id FROM Agent_Type WHERE Name = 'Particulier'));\n",
      "INSERT INTO Agent (Name, Agent_Url, Agent_Type_Id) VALUES ('RWE', null, (SELECT Agent_Type_Id FROM Agent_Type WHERE Name = 'Entreprise'));\n",
      "INSERT INTO Agent (Name, Agent_Url, Agent_Type_Id) VALUES ('Tribue Standing Rock Sioux', null, (SELECT Agent_Type_Id FROM Agent_Type WHERE Name = 'Association'));\n",
      "INSERT INTO Agent (Name, Agent_Url, Agent_Type_Id) VALUES ('Tribue Cheyenne River Sioux', null, (SELECT Agent_Type_Id FROM Agent_Type WHERE Name = 'Association'));\n",
      "INSERT INTO Agent (Name, Agent_Url, Agent_Type_Id) VALUES ('Corps des ingénieurs de l''armée états-unienne (US Army Corp of Engineers, USACE)', null, (SELECT Agent_Type_Id FROM Agent_Type WHERE Name = 'Organisation publique'));\n",
      "INSERT INTO Agent (Name, Agent_Url, Agent_Type_Id) VALUES ('Chiara Sacchi', null, (SELECT Agent_Type_Id FROM Agent_Type WHERE Name = 'Particulier'));\n",
      "INSERT INTO Agent (Name, Agent_Url, Agent_Type_Id) VALUES ('État ougandais', null, (SELECT Agent_Type_Id FROM Agent_Type WHERE Name = 'Etat'));\n",
      "INSERT INTO Agent (Name, Agent_Url, Agent_Type_Id) VALUES ('Autorités locales ougandaises', null, (SELECT Agent_Type_Id FROM Agent_Type WHERE Name = 'Organisation publique'));\n",
      "INSERT INTO Agent (Name, Agent_Url, Agent_Type_Id) VALUES ('Greenpeace Espana', 'https://es.greenpeace.org/es/', (SELECT Agent_Type_Id FROM Agent_Type WHERE Name = 'Association'));\n",
      "INSERT INTO Agent (Name, Agent_Url, Agent_Type_Id) VALUES ('Ecologistas en Acción', 'https://www.ecologistasenaccion.org/', (SELECT Agent_Type_Id FROM Agent_Type WHERE Name = 'Association'));\n",
      "INSERT INTO Agent (Name, Agent_Url, Agent_Type_Id) VALUES ('Oxfam Intermón', 'https://www.oxfamintermon.org/es', (SELECT Agent_Type_Id FROM Agent_Type WHERE Name = 'Association'));\n",
      "INSERT INTO Agent (Name, Agent_Url, Agent_Type_Id) VALUES ('État espagnol', null, (SELECT Agent_Type_Id FROM Agent_Type WHERE Name = 'Etat'));\n"
     ]
    }
   ],
   "source": [
    "agent_df = pd.read_csv(\"agents.csv\")\n",
    "\n",
    "insert_command_str = \"INSERT INTO Agent (Name, Agent_Url, Agent_Type_Id) VALUES ('{}', {}, (SELECT Agent_Type_Id FROM Agent_Type WHERE Name = '{}'));\"\n",
    "\n",
    "def insert_command(name, url, agent_type):\n",
    "    \n",
    "    if type(url) == str:\n",
    "        return insert_command_str.format(name.replace(\"'\", \"''\"), f\"'{url}'\", agent_type)\n",
    "    else:\n",
    "        return insert_command_str.format(name.replace(\"'\", \"''\"), \"null\", agent_type)\n",
    "\n",
    "agent_df[\"sql_insert\"] = agent_df.apply(\n",
    "    lambda x: insert_command(x[\"Name\"], x[\"AgentUrl\"], x['AgentType']),\n",
    "    axis=1)\n",
    "\n",
    "print(agent_df[\"sql_insert\"].str.cat(sep=\"\\n\"))"
   ]
  },
  {
   "cell_type": "markdown",
   "metadata": {},
   "source": [
    "# Resource\n",
    "\n",
    "```sql\n",
    "INSERT INTO Resource (Name, Url, Resource_Type_Id) VALUES ('', '', (SELECT Resource_Type_Id FROM Resource_Type WHERE Name = ''));\n",
    "```"
   ]
  },
  {
   "cell_type": "code",
   "execution_count": 41,
   "metadata": {},
   "outputs": [
    {
     "name": "stdout",
     "output_type": "stream",
     "text": [
      "INSERT INTO Resource (Name, Url, Resource_Type_Id) VALUES ('12', 'https://notreaffaireatous.org/numero-12-de-la-newsletter-des-affaires-climatiques-ecocide-loccasion-manquee/', (SELECT Resource_Type_Id FROM Resource_Type WHERE Name = 'Newsletter'));\n",
      "INSERT INTO Resource (Name, Url, Resource_Type_Id) VALUES ('16', 'https://notreaffaireatous.org/numero-16-de-la-newsletter-des-affaires-climatiques/', (SELECT Resource_Type_Id FROM Resource_Type WHERE Name = 'Newsletter'));\n",
      "INSERT INTO Resource (Name, Url, Resource_Type_Id) VALUES ('Case No. 3:20-cv-00290-SLG, Case No. 3:20-cv-00308-SLG', 'https://s3.documentcloud.org/documents/21045581/210818-willow-order.pdf ', (SELECT Resource_Type_Id FROM Resource_Type WHERE Name = 'Décision'));\n",
      "INSERT INTO Resource (Name, Url, Resource_Type_Id) VALUES ('Tsama William et alii v. Attorney General of Uganda, mémoire en demande, 12 octobre 2020', 'nan', (SELECT Resource_Type_Id FROM Resource_Type WHERE Name = 'Ouvrage/Article'));\n",
      "INSERT INTO Resource (Name, Url, Resource_Type_Id) VALUES ('W., FRANK, C. BALS, J. GRIMM, \"The Case of Huaraz: First Climate Lawsuit on Loss and Damage Against an Energy Company Before German Courts\" in. R. MECHLER, L. BOUWER, T. SCHINKO, S. SURMINSKI, J. LINNEROOTH-BAYER (éd.) Loss and Damage from Climate Change. Climate Risk Management, Policy and Governance. Springer, Cham, Suisse, 2018. https://doi.org/10.1007/978-3-319-72026-5_20.', 'https://link.springer.com/chapter/10.1007/978-3-319-72026-5_20#citeas', (SELECT Resource_Type_Id FROM Resource_Type WHERE Name = 'Ouvrage/Article'));\n",
      "INSERT INTO Resource (Name, Url, Resource_Type_Id) VALUES ('Décision US District Court for DC, “Standing Rock Sioux Tribe v. USACE”, 6 juillet 2020\n",
      "', 'https://earthjustice.org/sites/default/files/files/standing_rock_sioux_tribe_v._army_corps_of_engineers.pdf ', (SELECT Resource_Type_Id FROM Resource_Type WHERE Name = 'Décision'));\n",
      "INSERT INTO Resource (Name, Url, Resource_Type_Id) VALUES ('9', 'https://notreaffaireatous.org/numero-9-de-la-newsletter-des-affaires-climatiques-droit-a-un-environnement-sain/', (SELECT Resource_Type_Id FROM Resource_Type WHERE Name = 'Newsletter'));\n",
      "INSERT INTO Resource (Name, Url, Resource_Type_Id) VALUES ('Article \"Gloucester Resources (“Rocky Hill”) case\", Environmental Law Australia', 'http://envlaw.com.au/gloucester-resources-case/', (SELECT Resource_Type_Id FROM Resource_Type WHERE Name = 'Ouvrage/Article'));\n",
      "INSERT INTO Resource (Name, Url, Resource_Type_Id) VALUES ('8', 'https://notreaffaireatous.org/numero-8-de-la-newsletter-des-affaires-climatiques/', (SELECT Resource_Type_Id FROM Resource_Type WHERE Name = 'Newsletter'));\n",
      "INSERT INTO Resource (Name, Url, Resource_Type_Id) VALUES ('14', 'https://notreaffaireatous.org/numero-14-de-la-newsletter-des-affaires-climatiques-la-proposition-de-directive-europeenne-sur-le-devoir-de-vigilance-des-entreprises/', (SELECT Resource_Type_Id FROM Resource_Type WHERE Name = 'Newsletter'));\n"
     ]
    }
   ],
   "source": [
    "resource_df = pd.read_csv(\"resources.csv\")\n",
    "\n",
    "insert_command_str = \"INSERT INTO Resource (Name, Url, Resource_Type_Id) VALUES ('{}', {}, (SELECT Resource_Type_Id FROM Resource_Type WHERE Name = '{}'));\"\n",
    "\n",
    "def insert_command(name, url, type):\n",
    "    if url != \"nan\":\n",
    "        return insert_command_str.format(name.replace(\"'\", \"''\"), f\"'{url}'\", type)\n",
    "    else:\n",
    "        return insert_command_str.format(name.replace(\"'\", \"''\"), \"None\", type)\n",
    "\n",
    "resource_df[\"sql_insert\"] = resource_df.apply(\n",
    "    lambda x: insert_command(x[\"Name\"], x[\"Url\"], x['ResourceType']),\n",
    "    axis=1)\n",
    "\n",
    "print(resource_df[\"sql_insert\"].str.cat(sep=\"\\n\"))"
   ]
  },
  {
   "cell_type": "markdown",
   "metadata": {},
   "source": [
    "# Ground\n",
    "\n",
    "```sql\n",
    "INSERT INTO Ground (Name, Ground_Type_Id) VALUES ('', (SELECT Ground_Type_Id FROM Ground_Type WHERE Name = ''));\n",
    "```"
   ]
  },
  {
   "cell_type": "code",
   "execution_count": 44,
   "metadata": {},
   "outputs": [
    {
     "name": "stdout",
     "output_type": "stream",
     "text": [
      "INSERT INTO Ground (Name, Ground_Type_Id) VALUES ('Convention internationale des droits de l’enfant du 20 novembre 1989', (SELECT Ground_Type_Id FROM Ground_Type WHERE Name = 'Droits humains'));\n",
      "INSERT INTO Ground (Name, Ground_Type_Id) VALUES ('Loi états-unienne sur la Politique Nationale sur l’Environnement ( National Environment Policy Act –NEPA)', (SELECT Ground_Type_Id FROM Ground_Type WHERE Name = 'Normes environnementales'));\n",
      "INSERT INTO Ground (Name, Ground_Type_Id) VALUES ('Loi états-unienne sur la Propreté des Eaux (Clean Water Act –CWA)', (SELECT Ground_Type_Id FROM Ground_Type WHERE Name = 'Normes environnementales'));\n",
      "INSERT INTO Ground (Name, Ground_Type_Id) VALUES ('Loi états-unienne sur la Protection des Mammifères Marins (Marine Mammals Protection Act -MMPA)', (SELECT Ground_Type_Id FROM Ground_Type WHERE Name = 'Normes environnementales'));\n",
      "INSERT INTO Ground (Name, Ground_Type_Id) VALUES ('Loi états-unienne sur la protection des Espèces en Danger(Endangered Species Act – ESA)', (SELECT Ground_Type_Id FROM Ground_Type WHERE Name = 'Normes environnementales'));\n",
      "INSERT INTO Ground (Name, Ground_Type_Id) VALUES ('Constitution Ougandaise', (SELECT Ground_Type_Id FROM Ground_Type WHERE Name = 'Public trust'));\n",
      "INSERT INTO Ground (Name, Ground_Type_Id) VALUES ('Droit à la vie de l’article 22§1 de la Constitution Ougandaise', (SELECT Ground_Type_Id FROM Ground_Type WHERE Name = 'Droits humains'));\n",
      "INSERT INTO Ground (Name, Ground_Type_Id) VALUES ('Article 1004 du Code civil allemand', (SELECT Ground_Type_Id FROM Ground_Type WHERE Name = 'Droit civil'));\n",
      "INSERT INTO Ground (Name, Ground_Type_Id) VALUES ('Accord de Paris, 2015', (SELECT Ground_Type_Id FROM Ground_Type WHERE Name = 'Normes environnementales'));\n",
      "INSERT INTO Ground (Name, Ground_Type_Id) VALUES ('Règlement (UE) n° 2018/1999 du 11 décembre 2018 sur la gouvernance de l''Union de l''énergie et de l''action pour le climat', (SELECT Ground_Type_Id FROM Ground_Type WHERE Name = 'Normes environnementales'));\n"
     ]
    }
   ],
   "source": [
    "ground_df = pd.read_csv(\"grounds.csv\")\n",
    "\n",
    "insert_command_str = \"INSERT INTO Ground (Name, Ground_Type_Id) VALUES ('{}', (SELECT Ground_Type_Id FROM Ground_Type WHERE Name = '{}'));\"\n",
    "\n",
    "def insert_command(name, type):\n",
    "    return insert_command_str.format(name.replace(\"'\", \"''\"), type)\n",
    "\n",
    "ground_df[\"sql_insert\"] = ground_df.apply(\n",
    "    lambda x: insert_command(x[\"Name\"], x['GroundType']),\n",
    "    axis=1)\n",
    "\n",
    "print(ground_df[\"sql_insert\"].str.cat(sep=\"\\n\"))\n"
   ]
  }
 ],
 "metadata": {
  "kernelspec": {
   "display_name": ".venv",
   "language": "python",
   "name": "python3"
  },
  "language_info": {
   "codemirror_mode": {
    "name": "ipython",
    "version": 3
   },
   "file_extension": ".py",
   "mimetype": "text/x-python",
   "name": "python",
   "nbconvert_exporter": "python",
   "pygments_lexer": "ipython3",
   "version": "3.8.10"
  },
  "orig_nbformat": 4
 },
 "nbformat": 4,
 "nbformat_minor": 2
}
