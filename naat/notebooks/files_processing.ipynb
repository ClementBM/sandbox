{
 "cells": [
  {
   "cell_type": "code",
   "execution_count": 2,
   "metadata": {},
   "outputs": [
    {
     "ename": "ImportError",
     "evalue": "cannot import name 'list_files' from 'naat_core.data' (/home/clem/Documents/source/sandbox/naat/naat/data/__init__.py)",
     "output_type": "error",
     "traceback": [
      "\u001b[0;31m---------------------------------------------------------------------------\u001b[0m",
      "\u001b[0;31mImportError\u001b[0m                               Traceback (most recent call last)",
      "Cell \u001b[0;32mIn[2], line 2\u001b[0m\n\u001b[1;32m      1\u001b[0m \u001b[39mimport\u001b[39;00m \u001b[39mnaat\u001b[39;00m\u001b[39m.\u001b[39;00m\u001b[39mdata\u001b[39;00m\n\u001b[0;32m----> 2\u001b[0m \u001b[39mfrom\u001b[39;00m \u001b[39mnaat\u001b[39;00m\u001b[39m.\u001b[39;00m\u001b[39mdata\u001b[39;00m \u001b[39mimport\u001b[39;00m list_files, get_file_extensions, get_empty_files, list_subfolders\n\u001b[1;32m      3\u001b[0m \u001b[39mfrom\u001b[39;00m \u001b[39mnaat\u001b[39;00m\u001b[39m.\u001b[39;00m\u001b[39mdata\u001b[39;00m \u001b[39mimport\u001b[39;00m preprocess_docx_file, preprocess_pdf_file\n\u001b[1;32m      4\u001b[0m \u001b[39mfrom\u001b[39;00m \u001b[39mnaat\u001b[39;00m\u001b[39m.\u001b[39;00m\u001b[39mdata\u001b[39;00m \u001b[39mimport\u001b[39;00m CORPUS_PATH, OUTPUT_PATH\n",
      "\u001b[0;31mImportError\u001b[0m: cannot import name 'list_files' from 'naat_core.data' (/home/clem/Documents/source/sandbox/naat/naat/data/__init__.py)"
     ]
    }
   ],
   "source": [
    "from naat_core.data import list_files, get_file_extensions, get_empty_files, list_subfolders\n",
    "from naat_core.data import preprocess_docx_file, preprocess_pdf_file\n",
    "from naat_core.data import CORPUS_PATH, OUTPUT_PATH\n",
    "from naat_core.data import detect_language, get_file_languages\n",
    "import gcld3\n",
    "import sys\n",
    "import math\n",
    "import pandas as pd"
   ]
  },
  {
   "cell_type": "code",
   "execution_count": null,
   "metadata": {},
   "outputs": [],
   "source": [
    "subfolders = list_subfolders(str(CORPUS_PATH), target_level=2)\n",
    "subfolders_df = pd.DataFrame(subfolders, index=[\"Count\"]).T\n",
    "subfolders_df.sort_index()"
   ]
  },
  {
   "cell_type": "code",
   "execution_count": null,
   "metadata": {},
   "outputs": [],
   "source": [
    "subfolders = list_subfolders(str(CORPUS_PATH), target_level=1)\n",
    "subfolders_df = pd.DataFrame(subfolders, index=[\"Count\"]).T\n",
    "subfolders_df.sort_index()"
   ]
  },
  {
   "cell_type": "code",
   "execution_count": null,
   "metadata": {},
   "outputs": [],
   "source": [
    "list_files(str(CORPUS_PATH), \".x\")"
   ]
  },
  {
   "cell_type": "code",
   "execution_count": null,
   "metadata": {},
   "outputs": [],
   "source": [
    "get_file_extensions(CORPUS_PATH)"
   ]
  },
  {
   "cell_type": "code",
   "execution_count": null,
   "metadata": {},
   "outputs": [],
   "source": [
    "get_file_extensions(OUTPUT_PATH)"
   ]
  },
  {
   "cell_type": "code",
   "execution_count": null,
   "metadata": {},
   "outputs": [],
   "source": [
    "get_empty_files(CORPUS_PATH)"
   ]
  },
  {
   "cell_type": "code",
   "execution_count": null,
   "metadata": {},
   "outputs": [],
   "source": [
    "get_empty_files(OUTPUT_PATH)"
   ]
  },
  {
   "cell_type": "code",
   "execution_count": null,
   "metadata": {},
   "outputs": [],
   "source": [
    "# \"Copy of Asghar Leghari.docx\"\n",
    "folder_path = CORPUS_PATH / \"1. Lettre n°1 _ Les victoires/FICHES D_ARRETS\"\n",
    "docx_file = preprocess_docx_file(folder_path / \"Copy of Dejusticia.docx\")\n",
    "print(docx_file[:1000])"
   ]
  },
  {
   "cell_type": "code",
   "execution_count": null,
   "metadata": {},
   "outputs": [],
   "source": [
    "# \"Jonah Gembre v Shell.pdf\"\n",
    "folder_path = CORPUS_PATH / \"1. Lettre n°1 _ Les victoires/SOURCES PRIMAIRES\"\n",
    "pdf_file = preprocess_pdf_file(folder_path / \"Greenpeace Nordic Association.pdf\")\n",
    "print(pdf_file[:1000])"
   ]
  },
  {
   "cell_type": "code",
   "execution_count": null,
   "metadata": {},
   "outputs": [],
   "source": [
    "list(detect_language(pdf_file))"
   ]
  },
  {
   "cell_type": "code",
   "execution_count": null,
   "metadata": {},
   "outputs": [],
   "source": [
    "list(detect_language(docx_file))"
   ]
  },
  {
   "cell_type": "code",
   "execution_count": null,
   "metadata": {},
   "outputs": [],
   "source": [
    "get_file_languages(OUTPUT_PATH)"
   ]
  }
 ],
 "metadata": {
  "kernelspec": {
   "display_name": ".venv",
   "language": "python",
   "name": "python3"
  },
  "language_info": {
   "codemirror_mode": {
    "name": "ipython",
    "version": 3
   },
   "file_extension": ".py",
   "mimetype": "text/x-python",
   "name": "python",
   "nbconvert_exporter": "python",
   "pygments_lexer": "ipython3",
   "version": "3.8.10"
  },
  "orig_nbformat": 4,
  "vscode": {
   "interpreter": {
    "hash": "fe15505adf06195d2a047b121845922c926e1a5f5ad0a100fa42450eb4a147fc"
   }
  }
 },
 "nbformat": 4,
 "nbformat_minor": 2
}
