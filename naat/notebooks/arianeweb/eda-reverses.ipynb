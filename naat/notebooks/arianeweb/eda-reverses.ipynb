{
 "cells": [
  {
   "cell_type": "code",
   "execution_count": 2,
   "metadata": {},
   "outputs": [],
   "source": [
    "from artifacts import ARIANEWEB_PATH\n",
    "import pandas as pd"
   ]
  },
  {
   "cell_type": "markdown",
   "metadata": {},
   "source": [
    "# CE liste des zips (conseil d'état)"
   ]
  },
  {
   "cell_type": "code",
   "execution_count": 16,
   "metadata": {},
   "outputs": [
    {
     "name": "stdout",
     "output_type": "stream",
     "text": [
      "184\n"
     ]
    },
    {
     "data": {
      "text/html": [
       "<div>\n",
       "<style scoped>\n",
       "    .dataframe tbody tr th:only-of-type {\n",
       "        vertical-align: middle;\n",
       "    }\n",
       "\n",
       "    .dataframe tbody tr th {\n",
       "        vertical-align: top;\n",
       "    }\n",
       "\n",
       "    .dataframe thead th {\n",
       "        text-align: right;\n",
       "    }\n",
       "</style>\n",
       "<table border=\"1\" class=\"dataframe\">\n",
       "  <thead>\n",
       "    <tr style=\"text-align: right;\">\n",
       "      <th></th>\n",
       "      <th>Nom du fichier .xml</th>\n",
       "      <th>N° de la décision</th>\n",
       "      <th>Date de lecture</th>\n",
       "      <th>Date de reversement</th>\n",
       "      <th>Nom du fichier .zip</th>\n",
       "    </tr>\n",
       "  </thead>\n",
       "  <tbody>\n",
       "    <tr>\n",
       "      <th>0</th>\n",
       "      <td>DCE_471649_20240130.xml</td>\n",
       "      <td>471649</td>\n",
       "      <td>2024-01-30</td>\n",
       "      <td>03-02-2024 06:04:27:02</td>\n",
       "      <td>CE_202401.zip</td>\n",
       "    </tr>\n",
       "    <tr>\n",
       "      <th>1</th>\n",
       "      <td>DCE_476320_20240125.xml</td>\n",
       "      <td>476320</td>\n",
       "      <td>2024-01-25</td>\n",
       "      <td>03-02-2024 06:04:27:02</td>\n",
       "      <td>CE_202401.zip</td>\n",
       "    </tr>\n",
       "    <tr>\n",
       "      <th>2</th>\n",
       "      <td>DCE_490229_20240112.xml</td>\n",
       "      <td>490229</td>\n",
       "      <td>2024-01-12</td>\n",
       "      <td>03-02-2024 06:04:27:02</td>\n",
       "      <td>CE_202401.zip</td>\n",
       "    </tr>\n",
       "    <tr>\n",
       "      <th>3</th>\n",
       "      <td>ORCE_448853_20240130.xml</td>\n",
       "      <td>448853</td>\n",
       "      <td>2024-01-30</td>\n",
       "      <td>03-02-2024 06:04:27:02</td>\n",
       "      <td>CE_202401.zip</td>\n",
       "    </tr>\n",
       "    <tr>\n",
       "      <th>4</th>\n",
       "      <td>DCE_455074_20231229.xml</td>\n",
       "      <td>455074</td>\n",
       "      <td>2023-12-29</td>\n",
       "      <td>02-02-2024 06:04:35:02</td>\n",
       "      <td>CE_202312.zip</td>\n",
       "    </tr>\n",
       "  </tbody>\n",
       "</table>\n",
       "</div>"
      ],
      "text/plain": [
       "        Nom du fichier .xml  N° de la décision Date de lecture  \\\n",
       "0   DCE_471649_20240130.xml             471649      2024-01-30   \n",
       "1   DCE_476320_20240125.xml             476320      2024-01-25   \n",
       "2   DCE_490229_20240112.xml             490229      2024-01-12   \n",
       "3  ORCE_448853_20240130.xml             448853      2024-01-30   \n",
       "4   DCE_455074_20231229.xml             455074      2023-12-29   \n",
       "\n",
       "      Date de reversement Nom du fichier .zip  \n",
       "0  03-02-2024 06:04:27:02       CE_202401.zip  \n",
       "1  03-02-2024 06:04:27:02       CE_202401.zip  \n",
       "2  03-02-2024 06:04:27:02       CE_202401.zip  \n",
       "3  03-02-2024 06:04:27:02       CE_202401.zip  \n",
       "4  02-02-2024 06:04:35:02       CE_202312.zip  "
      ]
     },
     "execution_count": 16,
     "metadata": {},
     "output_type": "execute_result"
    }
   ],
   "source": [
    "ce_df = pd.read_csv(ARIANEWEB_PATH / \"CE_documents_reverses.csv\", sep=\";\")\n",
    "\n",
    "print(len(ce_df))\n",
    "ce_df.head()"
   ]
  },
  {
   "cell_type": "code",
   "execution_count": 19,
   "metadata": {},
   "outputs": [
    {
     "data": {
      "text/plain": [
       "Nom du fichier .zip\n",
       "CE_202312.zip    106\n",
       "CE_202307.zip     25\n",
       "CE_202401.zip     24\n",
       "CE_202305.zip     12\n",
       "CE_202308.zip      7\n",
       "CE_202310.zip      5\n",
       "CE_202304.zip      2\n",
       "CE_202306.zip      2\n",
       "CE_202309.zip      1\n",
       "Name: count, dtype: int64"
      ]
     },
     "execution_count": 19,
     "metadata": {},
     "output_type": "execute_result"
    }
   ],
   "source": [
    "ce_df.value_counts(\"Nom du fichier .zip\")"
   ]
  },
  {
   "cell_type": "markdown",
   "metadata": {},
   "source": [
    "# CAA liste des zips (cour administratives d'appel)"
   ]
  },
  {
   "cell_type": "code",
   "execution_count": 8,
   "metadata": {},
   "outputs": [
    {
     "data": {
      "text/html": [
       "<div>\n",
       "<style scoped>\n",
       "    .dataframe tbody tr th:only-of-type {\n",
       "        vertical-align: middle;\n",
       "    }\n",
       "\n",
       "    .dataframe tbody tr th {\n",
       "        vertical-align: top;\n",
       "    }\n",
       "\n",
       "    .dataframe thead th {\n",
       "        text-align: right;\n",
       "    }\n",
       "</style>\n",
       "<table border=\"1\" class=\"dataframe\">\n",
       "  <thead>\n",
       "    <tr style=\"text-align: right;\">\n",
       "      <th></th>\n",
       "      <th>Nom du fichier .xml</th>\n",
       "      <th>N° de la décision</th>\n",
       "      <th>Date de lecture</th>\n",
       "      <th>Date de reversement</th>\n",
       "      <th>Nom du fichier .zip</th>\n",
       "    </tr>\n",
       "  </thead>\n",
       "  <tbody>\n",
       "    <tr>\n",
       "      <th>0</th>\n",
       "      <td>DCA_21BX04629_20240130.xml</td>\n",
       "      <td>21BX04629</td>\n",
       "      <td>2024-01-30</td>\n",
       "      <td>03-02-2024 06:01:52:02</td>\n",
       "      <td>CAA_202401.zip</td>\n",
       "    </tr>\n",
       "    <tr>\n",
       "      <th>1</th>\n",
       "      <td>DCA_22NT00862_20231121.xml</td>\n",
       "      <td>22NT00862</td>\n",
       "      <td>2023-11-21</td>\n",
       "      <td>02-02-2024 06:01:48:02</td>\n",
       "      <td>CAA_202311.zip</td>\n",
       "    </tr>\n",
       "    <tr>\n",
       "      <th>2</th>\n",
       "      <td>DCA_22PA05412_20231207.xml</td>\n",
       "      <td>22PA05412</td>\n",
       "      <td>2023-12-07</td>\n",
       "      <td>02-02-2024 06:02:19:02</td>\n",
       "      <td>CAA_202312.zip</td>\n",
       "    </tr>\n",
       "    <tr>\n",
       "      <th>3</th>\n",
       "      <td>DCA_22PA02133_20240110.xml</td>\n",
       "      <td>22PA02133</td>\n",
       "      <td>2024-01-10</td>\n",
       "      <td>02-02-2024 06:02:47:02</td>\n",
       "      <td>CAA_202401.zip</td>\n",
       "    </tr>\n",
       "    <tr>\n",
       "      <th>4</th>\n",
       "      <td>DCA_22MA01696_20240123.xml</td>\n",
       "      <td>22MA01696</td>\n",
       "      <td>2024-01-23</td>\n",
       "      <td>01-02-2024 06:02:27:02</td>\n",
       "      <td>CAA_202401.zip</td>\n",
       "    </tr>\n",
       "  </tbody>\n",
       "</table>\n",
       "</div>"
      ],
      "text/plain": [
       "          Nom du fichier .xml N° de la décision Date de lecture  \\\n",
       "0  DCA_21BX04629_20240130.xml         21BX04629      2024-01-30   \n",
       "1  DCA_22NT00862_20231121.xml         22NT00862      2023-11-21   \n",
       "2  DCA_22PA05412_20231207.xml         22PA05412      2023-12-07   \n",
       "3  DCA_22PA02133_20240110.xml         22PA02133      2024-01-10   \n",
       "4  DCA_22MA01696_20240123.xml         22MA01696      2024-01-23   \n",
       "\n",
       "      Date de reversement Nom du fichier .zip  \n",
       "0  03-02-2024 06:01:52:02      CAA_202401.zip  \n",
       "1  02-02-2024 06:01:48:02      CAA_202311.zip  \n",
       "2  02-02-2024 06:02:19:02      CAA_202312.zip  \n",
       "3  02-02-2024 06:02:47:02      CAA_202401.zip  \n",
       "4  01-02-2024 06:02:27:02      CAA_202401.zip  "
      ]
     },
     "execution_count": 8,
     "metadata": {},
     "output_type": "execute_result"
    }
   ],
   "source": [
    "caa_df = pd.read_csv(ARIANEWEB_PATH / \"CAA_documents_reverses.csv\", sep=\";\")\n",
    "caa_df.head()"
   ]
  },
  {
   "cell_type": "markdown",
   "metadata": {},
   "source": [
    "# TA liste des zips (tribunaux administratifs)"
   ]
  },
  {
   "cell_type": "code",
   "execution_count": 14,
   "metadata": {},
   "outputs": [
    {
     "name": "stdout",
     "output_type": "stream",
     "text": [
      "12389\n"
     ]
    },
    {
     "data": {
      "text/html": [
       "<div>\n",
       "<style scoped>\n",
       "    .dataframe tbody tr th:only-of-type {\n",
       "        vertical-align: middle;\n",
       "    }\n",
       "\n",
       "    .dataframe tbody tr th {\n",
       "        vertical-align: top;\n",
       "    }\n",
       "\n",
       "    .dataframe thead th {\n",
       "        text-align: right;\n",
       "    }\n",
       "</style>\n",
       "<table border=\"1\" class=\"dataframe\">\n",
       "  <thead>\n",
       "    <tr style=\"text-align: right;\">\n",
       "      <th></th>\n",
       "      <th>Nom du fichier .xml</th>\n",
       "      <th>N° de la décision</th>\n",
       "      <th>Date de lecture</th>\n",
       "      <th>Date de reversement</th>\n",
       "      <th>Nom du fichier .zip</th>\n",
       "    </tr>\n",
       "  </thead>\n",
       "  <tbody>\n",
       "    <tr>\n",
       "      <th>0</th>\n",
       "      <td>ORTA_2303611_20230317.xml</td>\n",
       "      <td>2303611</td>\n",
       "      <td>17/03/2023</td>\n",
       "      <td>25-09-2023 10:22:57:08</td>\n",
       "      <td>TA_202303.zip</td>\n",
       "    </tr>\n",
       "    <tr>\n",
       "      <th>1</th>\n",
       "      <td>DTA_2103346_20220927.xml</td>\n",
       "      <td>2103346</td>\n",
       "      <td>27/09/2022</td>\n",
       "      <td>22-06-2023 15:34:16:06</td>\n",
       "      <td>TA_202209.zip</td>\n",
       "    </tr>\n",
       "    <tr>\n",
       "      <th>2</th>\n",
       "      <td>DTA_2200073_20230502.xml</td>\n",
       "      <td>2200073</td>\n",
       "      <td>02/05/2023</td>\n",
       "      <td>22-06-2023 15:43:53:06</td>\n",
       "      <td>TA_202305.zip</td>\n",
       "    </tr>\n",
       "    <tr>\n",
       "      <th>3</th>\n",
       "      <td>DTA_2301009_20230614.xml</td>\n",
       "      <td>2301009</td>\n",
       "      <td>14/06/2023</td>\n",
       "      <td>22-06-2023 15:51:53:06</td>\n",
       "      <td>TA_202306.zip</td>\n",
       "    </tr>\n",
       "    <tr>\n",
       "      <th>4</th>\n",
       "      <td>DTA_2301010_20230614.xml</td>\n",
       "      <td>2301010</td>\n",
       "      <td>14/06/2023</td>\n",
       "      <td>22-06-2023 15:51:53:06</td>\n",
       "      <td>TA_202306.zip</td>\n",
       "    </tr>\n",
       "  </tbody>\n",
       "</table>\n",
       "</div>"
      ],
      "text/plain": [
       "         Nom du fichier .xml  N° de la décision Date de lecture  \\\n",
       "0  ORTA_2303611_20230317.xml            2303611      17/03/2023   \n",
       "1   DTA_2103346_20220927.xml            2103346      27/09/2022   \n",
       "2   DTA_2200073_20230502.xml            2200073      02/05/2023   \n",
       "3   DTA_2301009_20230614.xml            2301009      14/06/2023   \n",
       "4   DTA_2301010_20230614.xml            2301010      14/06/2023   \n",
       "\n",
       "      Date de reversement Nom du fichier .zip  \n",
       "0  25-09-2023 10:22:57:08       TA_202303.zip  \n",
       "1  22-06-2023 15:34:16:06       TA_202209.zip  \n",
       "2  22-06-2023 15:43:53:06       TA_202305.zip  \n",
       "3  22-06-2023 15:51:53:06       TA_202306.zip  \n",
       "4  22-06-2023 15:51:53:06       TA_202306.zip  "
      ]
     },
     "execution_count": 14,
     "metadata": {},
     "output_type": "execute_result"
    }
   ],
   "source": [
    "ta_df = pd.read_csv(ARIANEWEB_PATH / \"TA_documents_reverses_.csv\", sep=\";\")\n",
    "\n",
    "print(len(ta_df))\n",
    "ta_df.head()"
   ]
  },
  {
   "cell_type": "code",
   "execution_count": 15,
   "metadata": {},
   "outputs": [
    {
     "name": "stdout",
     "output_type": "stream",
     "text": [
      "7272\n"
     ]
    },
    {
     "data": {
      "text/html": [
       "<div>\n",
       "<style scoped>\n",
       "    .dataframe tbody tr th:only-of-type {\n",
       "        vertical-align: middle;\n",
       "    }\n",
       "\n",
       "    .dataframe tbody tr th {\n",
       "        vertical-align: top;\n",
       "    }\n",
       "\n",
       "    .dataframe thead th {\n",
       "        text-align: right;\n",
       "    }\n",
       "</style>\n",
       "<table border=\"1\" class=\"dataframe\">\n",
       "  <thead>\n",
       "    <tr style=\"text-align: right;\">\n",
       "      <th></th>\n",
       "      <th>Nom du fichier .xml</th>\n",
       "      <th>N° de la décision</th>\n",
       "      <th>Date de lecture</th>\n",
       "      <th>Date de reversement</th>\n",
       "      <th>Nom du fichier .zip</th>\n",
       "      <th>Juridiction</th>\n",
       "    </tr>\n",
       "  </thead>\n",
       "  <tbody>\n",
       "    <tr>\n",
       "      <th>0</th>\n",
       "      <td>DTA_2304041_20230511.xml</td>\n",
       "      <td>2304041</td>\n",
       "      <td>2023-05-11</td>\n",
       "      <td>20240203</td>\n",
       "      <td>TA_202305.zip</td>\n",
       "      <td>TA44</td>\n",
       "    </tr>\n",
       "    <tr>\n",
       "      <th>1</th>\n",
       "      <td>DTA_2014451_20231122.xml</td>\n",
       "      <td>2014451</td>\n",
       "      <td>2023-11-22</td>\n",
       "      <td>20240203</td>\n",
       "      <td>TA_202311.zip</td>\n",
       "      <td>TA93</td>\n",
       "    </tr>\n",
       "    <tr>\n",
       "      <th>2</th>\n",
       "      <td>ORTA_2201834_20231027.xml</td>\n",
       "      <td>2201834</td>\n",
       "      <td>2023-10-27</td>\n",
       "      <td>20240202</td>\n",
       "      <td>TA_202310.zip</td>\n",
       "      <td>TA45</td>\n",
       "    </tr>\n",
       "    <tr>\n",
       "      <th>3</th>\n",
       "      <td>ORTA_2400132_20240111.xml</td>\n",
       "      <td>2400132</td>\n",
       "      <td>2024-01-11</td>\n",
       "      <td>20240202</td>\n",
       "      <td>TA_202401.zip</td>\n",
       "      <td>TA30</td>\n",
       "    </tr>\n",
       "    <tr>\n",
       "      <th>4</th>\n",
       "      <td>ORTA_2400158_20240115.xml</td>\n",
       "      <td>2400158</td>\n",
       "      <td>2024-01-15</td>\n",
       "      <td>20240202</td>\n",
       "      <td>TA_202401.zip</td>\n",
       "      <td>TA30</td>\n",
       "    </tr>\n",
       "  </tbody>\n",
       "</table>\n",
       "</div>"
      ],
      "text/plain": [
       "         Nom du fichier .xml  N° de la décision Date de lecture  \\\n",
       "0   DTA_2304041_20230511.xml            2304041      2023-05-11   \n",
       "1   DTA_2014451_20231122.xml            2014451      2023-11-22   \n",
       "2  ORTA_2201834_20231027.xml            2201834      2023-10-27   \n",
       "3  ORTA_2400132_20240111.xml            2400132      2024-01-11   \n",
       "4  ORTA_2400158_20240115.xml            2400158      2024-01-15   \n",
       "\n",
       "   Date de reversement Nom du fichier .zip Juridiction  \n",
       "0             20240203       TA_202305.zip        TA44  \n",
       "1             20240203       TA_202311.zip        TA93  \n",
       "2             20240202       TA_202310.zip        TA45  \n",
       "3             20240202       TA_202401.zip        TA30  \n",
       "4             20240202       TA_202401.zip        TA30  "
      ]
     },
     "execution_count": 15,
     "metadata": {},
     "output_type": "execute_result"
    }
   ],
   "source": [
    "ta_df = pd.read_csv(ARIANEWEB_PATH / \"TA_documents_reverses.csv\", sep=\";\")\n",
    "\n",
    "print(len(ta_df))\n",
    "ta_df.head()"
   ]
  }
 ],
 "metadata": {
  "kernelspec": {
   "display_name": ".venv",
   "language": "python",
   "name": "python3"
  },
  "language_info": {
   "codemirror_mode": {
    "name": "ipython",
    "version": 3
   },
   "file_extension": ".py",
   "mimetype": "text/x-python",
   "name": "python",
   "nbconvert_exporter": "python",
   "pygments_lexer": "ipython3",
   "version": "3.10.12"
  }
 },
 "nbformat": 4,
 "nbformat_minor": 2
}
