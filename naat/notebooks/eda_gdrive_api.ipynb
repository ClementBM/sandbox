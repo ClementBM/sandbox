{
 "cells": [
  {
   "cell_type": "code",
   "execution_count": null,
   "metadata": {},
   "outputs": [],
   "source": [
    "from __future__ import print_function\n",
    "\n",
    "import google.auth\n",
    "import json\n",
    "from httplib2 import Http\n",
    "from googleapiclient.discovery import build\n",
    "from googleapiclient.errors import HttpError\n",
    "\n",
    "import os.path\n",
    "\n",
    "from google.auth.transport.requests import Request\n",
    "from google.oauth2.credentials import Credentials\n",
    "from google_auth_oauthlib.flow import InstalledAppFlow\n",
    "from googleapiclient.discovery import build\n",
    "from googleapiclient.errors import HttpError"
   ]
  },
  {
   "attachments": {},
   "cell_type": "markdown",
   "metadata": {},
   "source": [
    "# Connect to Google API"
   ]
  },
  {
   "cell_type": "code",
   "execution_count": null,
   "metadata": {},
   "outputs": [],
   "source": [
    "# If modifying these scopes, delete the file token.json.\n",
    "SCOPES = [\"https://www.googleapis.com/auth/drive\"]\n",
    "\n",
    "\"\"\"Shows basic usage of the Drive v3 API.\n",
    "Prints the names and ids of the first 10 files the user has access to.\n",
    "\"\"\"\n",
    "creds = None\n",
    "# The file token.json stores the user's access and refresh tokens, and is\n",
    "# created automatically when the authorization flow completes for the first\n",
    "# time.\n",
    "if os.path.exists('token.json'):\n",
    "    creds = Credentials.from_authorized_user_file('token.json', SCOPES)\n",
    "    \n",
    "# If there are no (valid) credentials available, let the user log in.\n",
    "if not creds or not creds.valid:\n",
    "    if creds and creds.expired and creds.refresh_token:\n",
    "        creds.refresh(Request())\n",
    "    else:\n",
    "        flow = InstalledAppFlow.from_client_secrets_file('credentials.json', SCOPES)\n",
    "        creds = flow.run_local_server(port=0)\n",
    "\n",
    "    # Save the credentials for the next run\n",
    "    with open('token.json', 'w') as token:\n",
    "        token.write(creds.to_json())\n"
   ]
  },
  {
   "cell_type": "code",
   "execution_count": null,
   "metadata": {},
   "outputs": [],
   "source": [
    "try:\n",
    "    # service = build('drive', 'v3', credentials=creds)\n",
    "    service = build('docs', 'v1', credentials=creds)\n",
    "except HttpError as error:\n",
    "    print(f'An error occurred: {error}')"
   ]
  },
  {
   "attachments": {},
   "cell_type": "markdown",
   "metadata": {},
   "source": [
    "# Get Document by Id"
   ]
  },
  {
   "cell_type": "code",
   "execution_count": null,
   "metadata": {},
   "outputs": [],
   "source": [
    "document = service.documents().get(documentId=\"1TRYIqpFZ7zK6tLoPAp3nKl_-lcja7E9gJdRtdJzCTDo\").execute()\n",
    "print(json.dumps(document, indent=4, sort_keys=True))"
   ]
  },
  {
   "attachments": {},
   "cell_type": "markdown",
   "metadata": {},
   "source": [
    "# List Files in Folder"
   ]
  },
  {
   "cell_type": "code",
   "execution_count": null,
   "metadata": {},
   "outputs": [],
   "source": []
  },
  {
   "attachments": {},
   "cell_type": "markdown",
   "metadata": {},
   "source": [
    "# List Subfolders in Folder"
   ]
  },
  {
   "cell_type": "code",
   "execution_count": null,
   "metadata": {},
   "outputs": [],
   "source": [
    "service = build('drive', 'v3', credentials=creds)"
   ]
  },
  {
   "cell_type": "code",
   "execution_count": null,
   "metadata": {},
   "outputs": [],
   "source": [
    "# https://developers.google.com/drive/api/guides/search-files\n",
    "# Call the Drive v3 API\n",
    "\n",
    "results = service.files().list(\n",
    "    pageSize=200,\n",
    "    q=\"'14YftDicRvNzo4uUUsL0ubG7oB8Ayu6AJ' in parents and mimeType = 'application/vnd.google-apps.folder'\",\n",
    "    fields=\"nextPageToken, files(id, name)\").execute()\n",
    "items = results.get('files', [])\n",
    "\n",
    "for item in items:\n",
    "    # print(u'{0} ({1})'.format(item['name'], item['id']))    \n",
    "    # print(f\"=HYPERLINK(\\\"https://drive.google.com/drive/folders/{item['id']}\\\",\\\"{item['name']}\\\")\")\n",
    "    # print(f\"{item['name']}\")\n",
    "    print(f\"https://drive.google.com/drive/folders/{item['id']}\")\n",
    "\n"
   ]
  },
  {
   "cell_type": "code",
   "execution_count": null,
   "metadata": {},
   "outputs": [],
   "source": [
    "# Call the Drive v3 API\n",
    "parent_folder = \"1-dau0E71lAZjBbT9789Mqk9eCp_tvvJw\"\n",
    "results = service.files().list(\n",
    "    pageSize=100,\n",
    "    q=f\"'{parent_folder}' in parents\",\n",
    "    fields=\"nextPageToken, files(id, name)\").execute()\n",
    "items = results.get('files', [])\n",
    "\n",
    "print('Files:')\n",
    "for item in items:\n",
    "    print(f\"=HYPERLINK(\\\"https://drive.google.com/drive/folders/{item['id']}\\\",\\\"{item['name']}\\\")\")"
   ]
  },
  {
   "cell_type": "code",
   "execution_count": null,
   "metadata": {},
   "outputs": [],
   "source": [
    "def create_short_cut(name, id, folder_id):\n",
    "    shortcut_metadata = {\n",
    "        'name': name,\n",
    "        'mimeType': 'application/vnd.google-apps.shortcut',\n",
    "        'shortcutDetails': {\n",
    "            'targetId': id\n",
    "        },\n",
    "        'parents': [folder_id]\n",
    "    }\n",
    "    return service.files().create(body=shortcut_metadata, fields='id,shortcutDetails').execute()\n"
   ]
  },
  {
   "cell_type": "code",
   "execution_count": null,
   "metadata": {},
   "outputs": [],
   "source": [
    "# https://developers.google.com/drive/api/guides/search-files\n",
    "service = build('drive', 'v3', credentials=creds)\n",
    "\n",
    "# Call the Drive v3 API\n",
    "results = service.files().list(\n",
    "    pageSize=20,\n",
    "    q=\"'1ejkPzITGEurNimytA0Xyk4e9FKVNLDSy' in parents and mimeType = 'application/vnd.google-apps.folder'\",\n",
    "    fields=\"nextPageToken, files(id, name)\").execute()\n",
    "letter_folders = list(results.get('files', []))\n",
    "\n",
    "folder_names = [\"Affaires climatiques\", \"Affaires environnementales\"]\n",
    "env_folder_target_id = \"1pxBuo72r20y16zXWIH31nJuNbfqVfku6\"\n",
    "cli_folder_target_id = \"1-dau0E71lAZjBbT9789Mqk9eCp_tvvJw\"\n",
    "\n",
    "for letter_folder in letter_folders:\n",
    "    print(letter_folder['name'])\n",
    "\n",
    "    # Affaires climatiques\n",
    "    climate_res = service.files().list(\n",
    "        pageSize=10,\n",
    "        q=f\"'{letter_folder['id']}' in parents and mimeType = 'application/vnd.google-apps.folder' and name = 'Affaires climatiques'\",\n",
    "        fields=\"nextPageToken, files(id, name)\").execute()\n",
    "    climate_folder = climate_res.get('files', [])\n",
    "    for folder in climate_folder:\n",
    "        print(folder[\"name\"])\n",
    "        \n",
    "        # copy in\n",
    "        files = service.files().list(\n",
    "            pageSize=20,\n",
    "            q=f\"'{folder['id']}' in parents and mimeType = 'application/vnd.google-apps.shortcut'\",\n",
    "            fields=\"nextPageToken, files(id, name)\").execute().get('files', [])\n",
    "        for file in files:\n",
    "            print(\"Affaires climatiques\", file[\"name\"])\n",
    "            file_metadata = {\n",
    "                'parents': [cli_folder_target_id],\n",
    "                'name': file[\"name\"]\n",
    "            }\n",
    "            service.files().copy(fileId=file[\"id\"], body=file_metadata).execute()\n",
    "\n",
    "        # make shortcut in\n",
    "        files = service.files().list(\n",
    "            pageSize=20,\n",
    "            q=f\"'{folder['id']}' in parents and mimeType != 'application/vnd.google-apps.shortcut'\",\n",
    "            fields=\"nextPageToken, files(id, name)\").execute().get('files', [])\n",
    "        for file in files:\n",
    "            print(\"Affaires climatiques\", file[\"name\"])\n",
    "            create_short_cut(name=file[\"name\"], id=file[\"id\"], folder_id=cli_folder_target_id)\n",
    "    \n",
    "\n",
    "    # Affaires environnementales\n",
    "    env_res = service.files().list(\n",
    "        pageSize=10,\n",
    "        q=f\"'{letter_folder['id']}' in parents and mimeType = 'application/vnd.google-apps.folder' and name = 'Affaires environnementales'\",\n",
    "        fields=\"nextPageToken, files(id, name)\").execute()\n",
    "    env_folder = env_res.get('files', [])\n",
    "    for folder in env_folder:\n",
    "        print(folder[\"name\"])\n",
    "\n",
    "        # copy in\n",
    "        files = service.files().list(\n",
    "            pageSize=20,\n",
    "            q=f\"'{folder['id']}' in parents and mimeType = 'application/vnd.google-apps.shortcut'\",\n",
    "            fields=\"nextPageToken, files(id, name)\").execute().get('files', [])\n",
    "        for file in files:\n",
    "            print(\"Affaires environnementales\", file[\"name\"])\n",
    "            file_metadata = {\n",
    "                'parents': [env_folder_target_id],\n",
    "                'name': file[\"name\"]\n",
    "            }\n",
    "            service.files().copy(fileId=file[\"id\"], body=file_metadata).execute()\n",
    "\n",
    "        # make shortcut in\n",
    "        files = service.files().list(\n",
    "            pageSize=20,\n",
    "            q=f\"'{folder['id']}' in parents and mimeType != 'application/vnd.google-apps.shortcut'\",\n",
    "            fields=\"nextPageToken, files(id, name)\").execute().get('files', [])\n",
    "        for file in files:\n",
    "            print(\"Affaires environnementales\", file[\"name\"])\n",
    "            create_short_cut(name=file[\"name\"], id=file[\"id\"], folder_id=env_folder_target_id)\n",
    "\n",
    "    "
   ]
  },
  {
   "cell_type": "code",
   "execution_count": null,
   "metadata": {},
   "outputs": [],
   "source": [
    "def create_folder(name, folder_id):\n",
    "    folder_metadata = {\n",
    "        'name': name,\n",
    "        'mimeType': 'application/vnd.google-apps.folder',\n",
    "        'parents': [folder_id]\n",
    "    }\n",
    "    return service.files().create(body=folder_metadata, fields='id').execute()"
   ]
  },
  {
   "cell_type": "code",
   "execution_count": null,
   "metadata": {},
   "outputs": [],
   "source": [
    "# Affaires environnementales\n",
    "parent_dir = '1-dau0E71lAZjBbT9789Mqk9eCp_tvvJw'\n",
    "# 1-dau0E71lAZjBbT9789Mqk9eCp_tvvJw\n",
    "# 1pxBuo72r20y16zXWIH31nJuNbfqVfku6\n",
    "\n",
    "env_res = service.files().list(\n",
    "    pageSize=50,\n",
    "    q=f\"'{parent_dir}' in parents and mimeType != 'application/vnd.google-apps.folder'\",\n",
    "    fields=\"nextPageToken, files(id, name)\").execute()\n",
    "env_files = env_res.get('files', [])\n",
    "for env_file in env_files:\n",
    "    print(env_file[\"name\"])\n",
    "\n",
    "    folder = create_folder(env_file[\"name\"].replace(\".docx\", \"\").replace(\".pdf\", \"\"), parent_dir)\n",
    "\n",
    "    file_metadata = {\n",
    "        'parents': [folder.get('id')],\n",
    "        'name': env_file[\"name\"]\n",
    "    }\n",
    "    service.files().copy(fileId=env_file[\"id\"], body=file_metadata).execute()\n"
   ]
  }
 ],
 "metadata": {
  "kernelspec": {
   "display_name": ".venv",
   "language": "python",
   "name": "python3"
  },
  "language_info": {
   "codemirror_mode": {
    "name": "ipython",
    "version": 3
   },
   "file_extension": ".py",
   "mimetype": "text/x-python",
   "name": "python",
   "nbconvert_exporter": "python",
   "pygments_lexer": "ipython3",
   "version": "3.8.10"
  },
  "orig_nbformat": 4,
  "vscode": {
   "interpreter": {
    "hash": "fe15505adf06195d2a047b121845922c926e1a5f5ad0a100fa42450eb4a147fc"
   }
  }
 },
 "nbformat": 4,
 "nbformat_minor": 2
}
