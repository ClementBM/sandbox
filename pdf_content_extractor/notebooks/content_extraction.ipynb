{
 "cells": [
  {
   "attachments": {},
   "cell_type": "markdown",
   "metadata": {},
   "source": [
    "# Content Extraction with `pdfminer`\n",
    "\n",
    "```python\n",
    "extract_text_to_fp()\n",
    "    output_type: ['text', 'xml', 'html', 'hocr', 'tag']\n",
    "        Only 'text' works properly.\n",
    "```"
   ]
  },
  {
   "cell_type": "code",
   "execution_count": 1,
   "metadata": {},
   "outputs": [],
   "source": [
    "from io import StringIO\n",
    "# https://github.com/pdfminer/pdfminer.six\n",
    "from pdfminer.high_level import extract_text_to_fp\n",
    "from pdfminer.layout import LAParams"
   ]
  },
  {
   "cell_type": "code",
   "execution_count": 9,
   "metadata": {},
   "outputs": [],
   "source": [
    "output_string = StringIO()\n",
    "PDF_JONAH_PATH\n",
    "with open('/home/clem/Documents/corpus/test.pdf', 'rb') as fin:\n",
    "    extract_text_to_fp(fin, output_string, laparams=LAParams(), output_type='text', codec=None)"
   ]
  },
  {
   "cell_type": "code",
   "execution_count": 10,
   "metadata": {},
   "outputs": [
    {
     "name": "stdout",
     "output_type": "stream",
     "text": [
      "17\n",
      "\n",
      "Introduction\n",
      "\n",
      "Christel Cournil1\n",
      "\n",
      "L’élaboration  d’un  tel  ouvrage  portant  sur  les  grandes  affaires  climatiques  peut  étonner  aux \n",
      "\n",
      "premiers abords tant le défi est de taille. Certes si l’on s’en tient au contentieux français, – encore \n",
      "embryonnaire –, les quelques espèces pendantes devant le juge civil ou administratif ne suffisent pas \n",
      "\n",
      "pour en faire un ouvrage. Si l’on élargit l’étude du contentieux climatique à l’échelle européenne, \n",
      "on trouve des espèces particulièrement innovantes sur le plan des stratégies judiciaires engagées \n",
      "(V. affaire People’s Climate case2) et des recours déjà jugées devant les prétoires nationaux comme la \n",
      "désormais célèbre affaire néerlandaise Urgenda3. La ligne éditoriale de ce projet a consisté à ne pas se \n",
      "limiter à cette échelle régionale en en élargissant le champ pour proposer le premier livre commentant \n",
      "les principales affaires climatiques du monde. Un autre ouvrage collectif en langue anglaise est en \n",
      "projet4 et un « guide pratique »5 classant les principaux contentieux climatiques devrait être présenté \n",
      "lors de la prochaine conférence des parties (COP) à Glasgow.\n",
      "\n",
      "Cet ouvrage est inédit dans sa démarche. En s’inscrivant dans la tradition juridique des célèbres \n",
      "« Grands arrêts », cette publication collective émanant de plus d’une trentaine d’auteurs 6 aux profils \n",
      "d’écriture  variés  (universitaires  confirmés,  jeunes  chercheurs,  avocats,  juristes  d’association)  a \n",
      "pour  ambition  de  dessiner  les  principaux  contours  de  la  « justice  climatique »7  qui  apparait  gra-\n",
      "duellement au fil des procès. Ce livre rassemble un échantillon représentatif d’affaires rendues ou \n",
      "\n",
      "encore en instance sur des questions climatiques très variées : demande indemnitaire de « victimes \n",
      "\n",
      "climatiques », contestation du manque d’ambition climatique des États ou du non-respect des trajec-\n",
      "\n",
      "toires de réduction des gaz à effet de serre (GES), demande de désinvestissements dans les énergies \n",
      "\n",
      "fossiles, poursuites d’activistes du climat, etc.\n",
      "\n",
      "Professeure de droit public (HDR) à Sciences Po Toulouse, membre du LASSP et associée à l’IDPS (Université Sorbonne Paris Nord), \n",
      "\n",
      "V. notamment le Commentaire Les « People’s Climate Case » c. Union européenne (E. Brosset et E. Truilhé).\n",
      "V. les deux commentaires de l’affaire : Cour du District de La Haye, Fondation Urgenda contre Pays-Bas (A.-S. Tabau et C. Cournil) et \n",
      "\n",
      "1 \n",
      "membre de la Structure Fédérative « Les Communs ».\n",
      "2 \n",
      "3 \n",
      "Cour suprême des Pays-Bas, Pays-Bas c. Urgenda, (D. Misonne).\n",
      "4  W.  Kahl  et  M.-P.  Weller  (eds.),  Climate  Change  Litigation  Liability  and  Damages  from  a  Comparative  Perspective,  à  paraître  en \n",
      "octobre 2020.\n",
      "5 \n",
      "M. Wewerinke-Singh & S. Mead (dir.), Fighting climate change : A best practice guide for judges and courts, IUCN World Commission on \n",
      "Environmental Law Climate Change Specialist Group : https://www.iucn.org/commissions/world-commission-environmental-law/our-work/\n",
      "climate-change-specialist-group/fighting-climate-change-a-best-practice-guide-judges-and-courts (27 avril 2020).\n",
      "6 \n",
      "7 \n",
      "\n",
      "Liste des auteurs dans cet ouvrage. \n",
      "A. Michelot (dir.), La justice climatique, Bruylant, 2016, 374 p.\n",
      "\n",
      "\f\n"
     ]
    }
   ],
   "source": [
    "print(output_string.getvalue())"
   ]
  },
  {
   "cell_type": "code",
   "execution_count": 5,
   "metadata": {},
   "outputs": [],
   "source": [
    "from pdfminer.high_level import extract_text\n",
    "text = extract_text('/home/clem/Documents/corpus/test.pdf')"
   ]
  },
  {
   "cell_type": "code",
   "execution_count": 7,
   "metadata": {},
   "outputs": [
    {
     "name": "stdout",
     "output_type": "stream",
     "text": [
      "17\n",
      "\n",
      "Introduction\n",
      "\n",
      "Christel Cournil1\n",
      "\n",
      "L’élaboration  d’un  tel  ouvrage  portant  sur  les  grandes  affaires  climatiques  peut  étonner  aux \n",
      "\n",
      "premiers abords tant le défi est de taille. Certes si l’on s’en tient au contentieux français, – encore \n",
      "embryonnaire –, les quelques espèces pendantes devant le juge civil ou administratif ne suffisent pas \n",
      "\n",
      "pour en faire un ouvrage. Si l’on élargit l’étude du contentieux climatique à l’échelle européenne, \n",
      "on trouve des espèces particulièrement innovantes sur le plan des stratégies judiciaires engagées \n",
      "(V. affaire People’s Climate case2) et des recours déjà jugées devant les prétoires nationaux comme la \n",
      "désormais célèbre affaire néerlandaise Urgenda3. La ligne éditoriale de ce projet a consisté à ne pas se \n",
      "limiter à cette échelle régionale en en élargissant le champ pour proposer le premier livre commentant \n",
      "les principales affaires climatiques du monde. Un autre ouvrage collectif en langue anglaise est en \n",
      "projet4 et un « guide pratique »5 classant les principaux contentieux climatiques devrait être présenté \n",
      "lors de la prochaine conférence des parties (COP) à Glasgow.\n",
      "\n",
      "Cet ouvrage est inédit dans sa démarche. En s’inscrivant dans la tradition juridique des célèbres \n",
      "« Grands arrêts », cette publication collective émanant de plus d’une trentaine d’auteurs 6 aux profils \n",
      "d’écriture  variés  (universitaires  confirmés,  jeunes  chercheurs,  avocats,  juristes  d’association)  a \n",
      "pour  ambition  de  dessiner  les  principaux  contours  de  la  « justice  climatique »7  qui  apparait  gra-\n",
      "duellement au fil des procès. Ce livre rassemble un échantillon représentatif d’affaires rendues ou \n",
      "\n",
      "encore en instance sur des questions climatiques très variées : demande indemnitaire de « victimes \n",
      "\n",
      "climatiques », contestation du manque d’ambition climatique des États ou du non-respect des trajec-\n",
      "\n",
      "toires de réduction des gaz à effet de serre (GES), demande de désinvestissements dans les énergies \n",
      "\n",
      "fossiles, poursuites d’activistes du climat, etc.\n",
      "\n",
      "Professeure de droit public (HDR) à Sciences Po Toulouse, membre du LASSP et associée à l’IDPS (Université Sorbonne Paris Nord), \n",
      "\n",
      "V. notamment le Commentaire Les « People’s Climate Case » c. Union européenne (E. Brosset et E. Truilhé).\n",
      "V. les deux commentaires de l’affaire : Cour du District de La Haye, Fondation Urgenda contre Pays-Bas (A.-S. Tabau et C. Cournil) et \n",
      "\n",
      "1 \n",
      "membre de la Structure Fédérative « Les Communs ».\n",
      "2 \n",
      "3 \n",
      "Cour suprême des Pays-Bas, Pays-Bas c. Urgenda, (D. Misonne).\n",
      "4  W.  Kahl  et  M.-P.  Weller  (eds.),  Climate  Change  Litigation  Liability  and  Damages  from  a  Comparative  Perspective,  à  paraître  en \n",
      "octobre 2020.\n",
      "5 \n",
      "M. Wewerinke-Singh & S. Mead (dir.), Fighting climate change : A best practice guide for judges and courts, IUCN World Commission on \n",
      "Environmental Law Climate Change Specialist Group : https://www.iucn.org/commissions/world-commission-environmental-law/our-work/\n",
      "climate-change-specialist-group/fighting-climate-change-a-best-practice-guide-judges-and-courts (27 avril 2020).\n",
      "6 \n",
      "7 \n",
      "\n",
      "Liste des auteurs dans cet ouvrage. \n",
      "A. Michelot (dir.), La justice climatique, Bruylant, 2016, 374 p.\n",
      "\n",
      "\f\n"
     ]
    }
   ],
   "source": [
    "print(text)"
   ]
  },
  {
   "cell_type": "code",
   "execution_count": 20,
   "metadata": {},
   "outputs": [],
   "source": [
    "from naat_core.data import preprocess_pdf_file"
   ]
  },
  {
   "cell_type": "code",
   "execution_count": 21,
   "metadata": {},
   "outputs": [],
   "source": [
    "text_array = preprocess_pdf_file('/home/clem/Documents/corpus/test.pdf')"
   ]
  },
  {
   "cell_type": "code",
   "execution_count": 4,
   "metadata": {},
   "outputs": [
    {
     "data": {
      "text/plain": [
       "[]"
      ]
     },
     "execution_count": 4,
     "metadata": {},
     "output_type": "execute_result"
    }
   ],
   "source": [
    "[text for text in text_array if text == \"\"]"
   ]
  },
  {
   "cell_type": "code",
   "execution_count": 23,
   "metadata": {},
   "outputs": [
    {
     "name": "stdout",
     "output_type": "stream",
     "text": [
      "17\n",
      "Introduction\n",
      "Christel Cournil1\n",
      "L’élaboration d’un tel ouvrage portant sur les grandes affaires climatiques peut étonner aux \n",
      "premiers abords tant le défi est de taille. Certes si l’on s’en tient au contentieux français, – encore \n",
      "embryonnaire –, les quelques espèces pendantes devant le juge civil ou administratif ne suffisent pas \n",
      "pour en faire un ouvrage. Si l’on élargit l’étude du contentieux climatique à l’échelle européenne, \n",
      "on trouve des espèces particulièrement innovantes sur le plan des stratégies judiciaires engagées \n",
      "(V. affaire People’s Climate case2) et des recours déjà jugées devant les prétoires nationaux comme la \n",
      "désormais célèbre affaire néerlandaise Urgenda3. La ligne éditoriale de ce projet a consisté à ne pas se \n",
      "limiter à cette échelle régionale en en élargissant le champ pour proposer le premier livre commentant \n",
      "les principales affaires climatiques du monde. Un autre ouvrage collectif en langue anglaise est en \n",
      "projet4 et un « guide pratique »5 classant les principaux contentieux climatiques devrait être présenté \n",
      "lors de la prochaine conférence des parties (COP) à Glasgow.\n",
      "Cet ouvrage est inédit dans sa démarche. En s’inscrivant dans la tradition juridique des célèbres \n",
      "« Grands arrêts », cette publication collective émanant de plus d’une trentaine d’auteurs6 aux profils \n",
      "d’écriture variés (universitaires confirmés, jeunes chercheurs, avocats, juristes d’association) a \n",
      "pour ambition de dessiner les principaux contours de la « justice climatique »7 qui apparait gra-\n",
      "duellement au fil des procès. Ce livre rassemble un échantillon représentatif d’affaires rendues ou \n",
      "encore en instance sur des questions climatiques très variées : demande indemnitaire de « victimes \n",
      "climatiques », contestation du manque d’ambition climatique des États ou du non-respect des trajec-\n",
      "toires de réduction des gaz à effet de serre (GES), demande de désinvestissements dans les énergies \n",
      "fossiles, poursuites d’activistes du climat, etc.\n",
      "1 Professeure de droit public (HDR) à Sciences Po Toulouse, membre du LASSP et associée à l’IDPS (Université Sorbonne Paris Nord), \n",
      "membre de la Structure Fédérative « Les Communs ».\n",
      "2 V. notamment le Commentaire Les « People’s Climate Case » c. Union européenne (E. Brosset et E. Truilhé).\n",
      "3 V. les deux commentaires de l’affaire : Cour du District de La Haye, Fondation Urgenda contre Pays-Bas (A.-S. Tabau et C. Cournil) et \n",
      "Cour suprême des Pays-Bas, Pays-Bas c. Urgenda, (D. Misonne).\n",
      "4 W. Kahl et M.-P. Weller (eds.), Climate Change Litigation Liability and Damages from a Comparative Perspective, à paraître en \n",
      "octobre 2020.\n",
      "5 M. Wewerinke-Singh & S. Mead (dir.), Fighting climate change : A best practice guide for judges and courts, IUCN World Commission on \n",
      "Environmental Law Climate Change Specialist Group : https://www.iucn.org/commissions/world-commission-environmental-law/our-work/\n",
      "climate-change-specialist-group/fighting-climate-change-a-best-practice-guide-judges-and-courts (27 avril 2020).\n",
      "6 Liste des auteurs dans cet ouvrage. \n",
      "7 A. Michelot (dir.), La justice climatique, Bruylant, 2016, 374 p.\n"
     ]
    }
   ],
   "source": [
    "print(\"\".join(text_array))"
   ]
  },
  {
   "attachments": {},
   "cell_type": "markdown",
   "metadata": {},
   "source": [
    "# Content Extraction with `soffice`\n",
    "\n",
    "## Convert from PDF to HTML with `soffice`"
   ]
  },
  {
   "cell_type": "code",
   "execution_count": 11,
   "metadata": {},
   "outputs": [],
   "source": [
    "import subprocess\n",
    "\n",
    "# soffice --convert-to html ./my_pdf_file.pdf\n",
    "completed_process = subprocess.run(\n",
    "    [\"soffice\", \"--convert-to\", \"html\", \"/home/clem/Documents/corpus/test.pdf\"],\n",
    "    stdout=subprocess.PIPE,\n",
    "    stderr=subprocess.PIPE,\n",
    "    cwd=\"/home/clem/Documents/corpus\",\n",
    ")\n",
    "\n",
    "\n",
    "if completed_process.returncode != 0:\n",
    "    raise Exception(completed_process.stdout, completed_process.stderr)\n"
   ]
  },
  {
   "attachments": {},
   "cell_type": "markdown",
   "metadata": {},
   "source": [
    "# Content Extraction with `pdf2docx`\n",
    "\n",
    "## Convert from PDF to DOCX using `pdf2docx`"
   ]
  },
  {
   "cell_type": "code",
   "execution_count": 12,
   "metadata": {},
   "outputs": [
    {
     "name": "stderr",
     "output_type": "stream",
     "text": [
      "[INFO] Start to convert /home/clem/Documents/corpus/test.pdf\n",
      "[INFO] \u001b[1;36m[1/4] Opening document...\u001b[0m\n",
      "[INFO] \u001b[1;36m[2/4] Analyzing document...\u001b[0m\n",
      "[INFO] \u001b[1;36m[3/4] Parsing pages...\u001b[0m\n",
      "[INFO] (1/1) Page 1\n",
      "[INFO] \u001b[1;36m[4/4] Creating pages...\u001b[0m\n",
      "[INFO] (1/1) Page 1\n",
      "[INFO] Terminated in 0.15s.\n"
     ]
    }
   ],
   "source": [
    "# https://dothinking.github.io/pdf2docx/quickstart.convert.html\n",
    "from pdf2docx import parse\n",
    "\n",
    "pdf_file = '/home/clem/Documents/corpus/test.pdf'\n",
    "docx_file = '/home/clem/Documents/corpus/test.docx'\n",
    "\n",
    "# convert pdf to docx\n",
    "parse(pdf_file, docx_file)"
   ]
  },
  {
   "attachments": {},
   "cell_type": "markdown",
   "metadata": {},
   "source": [
    "# Content Extraction with [`PyMuPDF`](https://pymupdf.readthedocs.io/en/latest/document.html)\n",
    "\n",
    "Convert to other formats: PDF, (X)HTML, XML, JSON, text\n",
    "* \"text\": (default) plain text with line breaks. No formatting, no text position details, no images.\n",
    "* \"blocks\": generate a list of text blocks (= paragraphs).\n",
    "* \"words\": generate a list of words (strings not containing spaces).\n",
    "* \"html\": creates a full visual version of the page including any images. This can be displayed with your internet browser.\n",
    "* \"dict\" / \"json\": same information level as HTML, but provided as a Python dictionary or resp. JSON string. See TextPage.extractDICT() for details of its structure.\n",
    "* \"rawdict\" / \"rawjson\": a super-set of \"dict\" / \"json\". It additionally provides character detail information like XML. See TextPage.extractRAWDICT() for details of its structure.\n",
    "* \"xhtml\": text information level as the TEXT version but includes images. Can also be displayed by internet browsers.\n",
    "* \"xml\": contains no images, but full position and font information down to each single text character. Use an XML module to interpret."
   ]
  },
  {
   "cell_type": "code",
   "execution_count": null,
   "metadata": {},
   "outputs": [],
   "source": [
    "import fitz\n",
    "doc = fitz.open('/home/clem/Documents/corpus/test.pdf')  # or fitz.Document(filename)\n",
    "# doc.load_page(pno)  # loads page number 'pno' of the document (0-based)\n",
    "for page in doc:\n",
    "    text = page.get_text(\"html\")\n",
    "print(text)"
   ]
  },
  {
   "attachments": {},
   "cell_type": "markdown",
   "metadata": {},
   "source": [
    "## Search with `PyMuPDF`"
   ]
  },
  {
   "cell_type": "code",
   "execution_count": null,
   "metadata": {},
   "outputs": [],
   "source": [
    "areas = page.search_for(\"mupdf\")"
   ]
  },
  {
   "attachments": {},
   "cell_type": "markdown",
   "metadata": {},
   "source": [
    "# Content Extraction with `Apache Tika`"
   ]
  },
  {
   "cell_type": "code",
   "execution_count": 22,
   "metadata": {},
   "outputs": [
    {
     "name": "stdout",
     "output_type": "stream",
     "text": [
      "env: PYTHONIOENCODING=utf8\n"
     ]
    }
   ],
   "source": [
    "%env PYTHONIOENCODING=utf8\n",
    "import tika\n",
    "tika.initVM()\n",
    "from tika import parser"
   ]
  },
  {
   "cell_type": "code",
   "execution_count": 19,
   "metadata": {},
   "outputs": [],
   "source": [
    "parsed = parser.from_file('/home/clem/Documents/corpus/test.pdf')"
   ]
  },
  {
   "cell_type": "code",
   "execution_count": 20,
   "metadata": {},
   "outputs": [
    {
     "name": "stdout",
     "output_type": "stream",
     "text": [
      "{'pdf:unmappedUnicodeCharsPerPage': '0', 'pdf:PDFVersion': '1.5', 'pdf:hasXFA': 'false', 'access_permission:modify_annotations': 'true', 'access_permission:can_print_degraded': 'true', 'X-TIKA:Parsed-By-Full-Set': ['org.apache.tika.parser.DefaultParser', 'org.apache.tika.parser.pdf.PDFParser'], 'X-TIKA:content_handler': 'ToTextContentHandler', 'pdf:num3DAnnotations': '0', 'dcterms:created': '2023-03-15T14:56:16Z', 'dc:format': 'application/pdf; version=1.5', 'pdf:overallPercentageUnmappedUnicodeChars': '0.0', 'access_permission:fill_in_form': 'true', 'pdf:hasCollection': 'false', 'pdf:encrypted': 'false', 'pdf:containsNonEmbeddedFont': 'false', 'Content-Length': '67210', 'pdf:hasMarkedContent': 'false', 'Content-Type': 'application/pdf', 'pdf:producer': 'cairo 1.16.0 (https://cairographics.org)', 'pdf:totalUnmappedUnicodeChars': '0', 'access_permission:extract_for_accessibility': 'true', 'access_permission:assemble_document': 'true', 'xmpTPg:NPages': '1', 'resourceName': \"b'test.pdf'\", 'pdf:hasXMP': 'false', 'pdf:charsPerPage': '3037', 'access_permission:extract_content': 'true', 'access_permission:can_print': 'true', 'X-TIKA:Parsed-By': ['org.apache.tika.parser.DefaultParser', 'org.apache.tika.parser.pdf.PDFParser'], 'X-TIKA:parse_time_millis': '27', 'X-TIKA:embedded_depth': '0', 'access_permission:can_modify': 'true', 'pdf:docinfo:producer': 'cairo 1.16.0 (https://cairographics.org)', 'pdf:docinfo:created': '2023-03-15T14:56:16Z', 'pdf:containsDamagedFont': 'false'}\n"
     ]
    }
   ],
   "source": [
    "print(parsed[\"metadata\"])"
   ]
  },
  {
   "cell_type": "code",
   "execution_count": 21,
   "metadata": {},
   "outputs": [
    {
     "name": "stdout",
     "output_type": "stream",
     "text": [
      "\n",
      "\n",
      "\n",
      "\n",
      "\n",
      "\n",
      "\n",
      "\n",
      "\n",
      "\n",
      "\n",
      "\n",
      "\n",
      "\n",
      "\n",
      "\n",
      "\n",
      "\n",
      "\n",
      "\n",
      "\n",
      "\n",
      "\n",
      "\n",
      "\n",
      "\n",
      "\n",
      "\n",
      "\n",
      "\n",
      "17\n",
      "\n",
      "Introduction\n",
      "\n",
      "Christel Cournil1\n",
      "\n",
      "L’élaboration d’un tel ouvrage portant sur les grandes affaires climatiques peut étonner aux \n",
      "\n",
      "premiers abords tant le défi est de taille. Certes si l’on s’en tient au contentieux français, – encore \n",
      "\n",
      "embryonnaire –, les quelques espèces pendantes devant le juge civil ou administratif ne suffisent pas \n",
      "\n",
      "pour en faire un ouvrage. Si l’on élargit l’étude du contentieux climatique à l’échelle européenne, \n",
      "\n",
      "on trouve des espèces particulièrement innovantes sur le plan des stratégies judiciaires engagées \n",
      "\n",
      "(V. affaire People’s Climate case2) et des recours déjà jugées devant les prétoires nationaux comme la \n",
      "\n",
      "désormais célèbre affaire néerlandaise Urgenda3. La ligne éditoriale de ce projet a consisté à ne pas se \n",
      "\n",
      "limiter à cette échelle régionale en en élargissant le champ pour proposer le premier livre commentant \n",
      "\n",
      "les principales affaires climatiques du monde. Un autre ouvrage collectif en langue anglaise est en \n",
      "\n",
      "projet4 et un « guide pratique »5 classant les principaux contentieux climatiques devrait être présenté \n",
      "\n",
      "lors de la prochaine conférence des parties (COP) à Glasgow.\n",
      "\n",
      "Cet ouvrage est inédit dans sa démarche. En s’inscrivant dans la tradition juridique des célèbres \n",
      "\n",
      "« Grands arrêts », cette publication collective émanant de plus d’une trentaine d’auteurs6 aux profils \n",
      "\n",
      "d’écriture variés (universitaires confirmés, jeunes chercheurs, avocats, juristes d’association) a \n",
      "\n",
      "pour ambition de dessiner les principaux contours de la « justice climatique »7 qui apparait gra-\n",
      "\n",
      "duellement au fil des procès. Ce livre rassemble un échantillon représentatif d’affaires rendues ou \n",
      "\n",
      "encore en instance sur des questions climatiques très variées : demande indemnitaire de « victimes \n",
      "\n",
      "climatiques », contestation du manque d’ambition climatique des États ou du non-respect des trajec-\n",
      "\n",
      "toires de réduction des gaz à effet de serre (GES), demande de désinvestissements dans les énergies \n",
      "\n",
      "fossiles, poursuites d’activistes du climat, etc.\n",
      "\n",
      "1 Professeure de droit public (HDR) à Sciences Po Toulouse, membre du LASSP et associée à l’IDPS (Université Sorbonne Paris Nord), \n",
      "membre de la Structure Fédérative « Les Communs ».\n",
      "2 V. notamment le Commentaire Les « People’s Climate Case » c. Union européenne (E. Brosset et E. Truilhé).\n",
      "3 V. les deux commentaires de l’affaire : Cour du District de La Haye, Fondation Urgenda contre Pays-Bas (A.-S. Tabau et C. Cournil) et \n",
      "Cour suprême des Pays-Bas, Pays-Bas c. Urgenda, (D. Misonne).\n",
      "4 W. Kahl et M.-P. Weller (eds.), Climate Change Litigation Liability and Damages from a Comparative Perspective, à paraître en \n",
      "octobre 2020.\n",
      "5 M. Wewerinke-Singh & S. Mead (dir.), Fighting climate change : A best practice guide for judges and courts, IUCN World Commission on \n",
      "Environmental Law Climate Change Specialist Group : https://www.iucn.org/commissions/world-commission-environmental-law/our-work/\n",
      "climate-change-specialist-group/fighting-climate-change-a-best-practice-guide-judges-and-courts (27 avril 2020).\n",
      "6 Liste des auteurs dans cet ouvrage. \n",
      "7 A. Michelot (dir.), La justice climatique, Bruylant, 2016, 374 p.\n",
      "\n",
      "\n",
      "\n"
     ]
    }
   ],
   "source": [
    "print(parsed[\"content\"])"
   ]
  }
 ],
 "metadata": {
  "kernelspec": {
   "display_name": ".venv",
   "language": "python",
   "name": "python3"
  },
  "language_info": {
   "codemirror_mode": {
    "name": "ipython",
    "version": 3
   },
   "file_extension": ".py",
   "mimetype": "text/x-python",
   "name": "python",
   "nbconvert_exporter": "python",
   "pygments_lexer": "ipython3",
   "version": "3.8.10"
  },
  "orig_nbformat": 4,
  "vscode": {
   "interpreter": {
    "hash": "fe15505adf06195d2a047b121845922c926e1a5f5ad0a100fa42450eb4a147fc"
   }
  }
 },
 "nbformat": 4,
 "nbformat_minor": 2
}
