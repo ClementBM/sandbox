{
 "cells": [
  {
   "attachments": {},
   "cell_type": "markdown",
   "metadata": {},
   "source": [
    "# Reducing PDF size"
   ]
  },
  {
   "cell_type": "code",
   "execution_count": null,
   "metadata": {},
   "outputs": [],
   "source": [
    "from pypdf import PdfReader, PdfWriter\n",
    "\n",
    "reader = PdfReader(\"example.pdf\")\n",
    "writer = PdfWriter()\n",
    "\n",
    "for page in reader.pages:\n",
    "    writer.add_page(page)\n",
    "\n",
    "writer.remove_images()\n",
    "\n",
    "with open(\"out.pdf\", \"wb\") as f:\n",
    "    writer.write(f)"
   ]
  }
 ],
 "metadata": {
  "language_info": {
   "name": "python"
  },
  "orig_nbformat": 4
 },
 "nbformat": 4,
 "nbformat_minor": 2
}
