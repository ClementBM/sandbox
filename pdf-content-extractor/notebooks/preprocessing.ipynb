{
 "cells": [
  {
   "attachments": {},
   "cell_type": "markdown",
   "metadata": {},
   "source": [
    "# Reducing PDF size"
   ]
  },
  {
   "cell_type": "code",
   "execution_count": 3,
   "metadata": {},
   "outputs": [
    {
     "ename": "FileNotFoundError",
     "evalue": "[Errno 2] No such file or directory: 'example.pdf'",
     "output_type": "error",
     "traceback": [
      "\u001b[0;31m---------------------------------------------------------------------------\u001b[0m",
      "\u001b[0;31mFileNotFoundError\u001b[0m                         Traceback (most recent call last)",
      "Cell \u001b[0;32mIn[3], line 3\u001b[0m\n\u001b[1;32m      1\u001b[0m \u001b[39mfrom\u001b[39;00m \u001b[39mpypdf\u001b[39;00m \u001b[39mimport\u001b[39;00m PdfReader, PdfWriter\n\u001b[0;32m----> 3\u001b[0m reader \u001b[39m=\u001b[39m PdfReader(\u001b[39m\"\u001b[39;49m\u001b[39mexample.pdf\u001b[39;49m\u001b[39m\"\u001b[39;49m)\n\u001b[1;32m      4\u001b[0m writer \u001b[39m=\u001b[39m PdfWriter()\n\u001b[1;32m      6\u001b[0m \u001b[39mfor\u001b[39;00m page \u001b[39min\u001b[39;00m reader\u001b[39m.\u001b[39mpages:\n",
      "File \u001b[0;32m~/Documents/source/sandbox/pdf_content_extractor/.venv/lib/python3.8/site-packages/pypdf/_reader.py:320\u001b[0m, in \u001b[0;36mPdfReader.__init__\u001b[0;34m(self, stream, strict, password)\u001b[0m\n\u001b[1;32m    314\u001b[0m     logger_warning(\n\u001b[1;32m    315\u001b[0m         \u001b[39m\"\u001b[39m\u001b[39mPdfReader stream/file object is not in binary mode. \u001b[39m\u001b[39m\"\u001b[39m\n\u001b[1;32m    316\u001b[0m         \u001b[39m\"\u001b[39m\u001b[39mIt may not be read correctly.\u001b[39m\u001b[39m\"\u001b[39m,\n\u001b[1;32m    317\u001b[0m         \u001b[39m__name__\u001b[39m,\n\u001b[1;32m    318\u001b[0m     )\n\u001b[1;32m    319\u001b[0m \u001b[39mif\u001b[39;00m \u001b[39misinstance\u001b[39m(stream, (\u001b[39mstr\u001b[39m, Path)):\n\u001b[0;32m--> 320\u001b[0m     \u001b[39mwith\u001b[39;00m \u001b[39mopen\u001b[39;49m(stream, \u001b[39m\"\u001b[39;49m\u001b[39mrb\u001b[39;49m\u001b[39m\"\u001b[39;49m) \u001b[39mas\u001b[39;00m fh:\n\u001b[1;32m    321\u001b[0m         stream \u001b[39m=\u001b[39m BytesIO(fh\u001b[39m.\u001b[39mread())\n\u001b[1;32m    322\u001b[0m \u001b[39mself\u001b[39m\u001b[39m.\u001b[39mread(stream)\n",
      "\u001b[0;31mFileNotFoundError\u001b[0m: [Errno 2] No such file or directory: 'example.pdf'"
     ]
    }
   ],
   "source": [
    "from pypdf import PdfReader, PdfWriter\n",
    "\n",
    "reader = PdfReader(\"example.pdf\")\n",
    "writer = PdfWriter()\n",
    "\n",
    "for page in reader.pages:\n",
    "    writer.add_page(page)\n",
    "\n",
    "writer.remove_images()\n",
    "\n",
    "with open(\"out.pdf\", \"wb\") as f:\n",
    "    writer.write(f)"
   ]
  },
  {
   "cell_type": "code",
   "execution_count": 19,
   "metadata": {},
   "outputs": [
    {
     "data": {
      "text/plain": [
       "57"
      ]
     },
     "execution_count": 19,
     "metadata": {},
     "output_type": "execute_result"
    }
   ],
   "source": [
    "import pandas as pd\n",
    "\n",
    "df = pd.read_csv(\"Dataset.csv\")\n",
    "len(df.columns)"
   ]
  },
  {
   "cell_type": "code",
   "execution_count": 45,
   "metadata": {},
   "outputs": [
    {
     "data": {
      "text/plain": [
       "SURFACE\n",
       "<class 'float'>    2164\n",
       "Name: count, dtype: int64"
      ]
     },
     "execution_count": 45,
     "metadata": {},
     "output_type": "execute_result"
    }
   ],
   "source": [
    "df[\"SURFACE\"].apply(type).value_counts()"
   ]
  }
 ],
 "metadata": {
  "kernelspec": {
   "display_name": ".venv",
   "language": "python",
   "name": "python3"
  },
  "language_info": {
   "codemirror_mode": {
    "name": "ipython",
    "version": 3
   },
   "file_extension": ".py",
   "mimetype": "text/x-python",
   "name": "python",
   "nbconvert_exporter": "python",
   "pygments_lexer": "ipython3",
   "version": "3.8.10"
  },
  "orig_nbformat": 4
 },
 "nbformat": 4,
 "nbformat_minor": 2
}
