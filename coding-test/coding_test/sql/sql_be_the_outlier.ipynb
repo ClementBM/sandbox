{
 "cells": [
  {
   "cell_type": "code",
   "execution_count": 1,
   "metadata": {},
   "outputs": [],
   "source": [
    "from coding_test.sql_commons import DbConnection"
   ]
  },
  {
   "attachments": {},
   "cell_type": "markdown",
   "metadata": {},
   "source": [
    "# Create CUSTOMERS Table"
   ]
  },
  {
   "cell_type": "code",
   "execution_count": 79,
   "metadata": {},
   "outputs": [],
   "source": [
    "create_customer_table = \"\"\"\n",
    "CREATE TABLE Customers(\n",
    "    CustomerId INT,\n",
    "    FirstName VARCHAR(100),\n",
    "    LastName VARCHAR(100),\n",
    "    Email VARCHAR(100),\n",
    "    City VARCHAR(100),\n",
    "    State VARCHAR(100)\n",
    ");\n",
    "\"\"\"\n",
    "\n",
    "with DbConnection() as db_connection:\n",
    "    con, cur = db_connection\n",
    "    con.execute(create_customer_table)"
   ]
  },
  {
   "cell_type": "code",
   "execution_count": 112,
   "metadata": {},
   "outputs": [],
   "source": [
    "data = [\n",
    "    (1, \"John\", \"Collins\", \"john@example.com\", \"Chicago\", \"IL\"),\n",
    "    (2, \"Jennifer\", \"McCarthy\", \"jennifer@example.com\", \"New York\", \"NY\"),\n",
    "    (3, \"Anna\", \"Doe\", \"anna@example.com\", \"Stamford\", \"CT\"),\n",
    "    (4, \"Maria\", \"Clark\", \"maria@example.com\", \"Hartford\", \"CT\"),\n",
    "    (5, \"William\", \"Yang\", \"william@example.com\", \"White Plains\", \"NY\"),\n",
    "    (6, \"Alex\", \"Muir\", \"alex@example.com\", \"New York\", \"NY\"),\n",
    "]\n",
    "with DbConnection() as db_connection:\n",
    "    con, cur = db_connection\n",
    "    cur.executemany(\"INSERT INTO Customers VALUES(?, ?, ?, ?, ?, ?)\", data)\n",
    "    con.commit()  # Remember to commit the transaction after executing INSERT."
   ]
  },
  {
   "attachments": {},
   "cell_type": "markdown",
   "metadata": {},
   "source": [
    "# Create ORDERS Table"
   ]
  },
  {
   "cell_type": "code",
   "execution_count": 81,
   "metadata": {},
   "outputs": [],
   "source": [
    "with DbConnection() as db_connection:\n",
    "    con, cur = db_connection\n",
    "    con.execute(\n",
    "\"\"\"\n",
    "CREATE TABLE Orders(\n",
    "    OrderId INT,\n",
    "    OrderQty INT,\n",
    "    CustomerId INT,\n",
    "    ProductId INT,\n",
    "    CreatedAt DATETIME\n",
    ");\n",
    "\"\"\")"
   ]
  },
  {
   "cell_type": "code",
   "execution_count": 82,
   "metadata": {},
   "outputs": [],
   "source": [
    "data = [\n",
    "    (1, 6, 2, 1, \"20190618 10:34:00 AM\"),\n",
    "    (2, 5, 1, 3, \"20190721 11:21:00 AM\"),\n",
    "    (3, 6, 3, 4, \"20191115 09:12:00 PM\"),\n",
    "    (4, 2, 4, 5, \"20190911 12:04:00 AM\"),\n",
    "    (5, 3, 3, 2, \"20190325 01:06:00 PM\"),\n",
    "    (6, 4, 5, 2, \"20190204 05:22:00 AM\"),\n",
    "   \n",
    "]\n",
    "with DbConnection() as db_connection:\n",
    "    con, cur = db_connection\n",
    "    cur.executemany(\"INSERT INTO Orders VALUES(?, ?, ?, ?, ?)\", data)\n",
    "    con.commit()"
   ]
  },
  {
   "attachments": {},
   "cell_type": "markdown",
   "metadata": {},
   "source": [
    "# Create PRODUCTS Table"
   ]
  },
  {
   "cell_type": "code",
   "execution_count": 83,
   "metadata": {},
   "outputs": [],
   "source": [
    "with DbConnection() as db_connection:\n",
    "    con, cur = db_connection\n",
    "    con.execute(\n",
    "\"\"\"\n",
    "CREATE TABLE Products(\n",
    "    ProductId INT,\n",
    "    ProductName VARCHAR(100),\n",
    "    Price NUMERIC\n",
    ");\n",
    "\"\"\")"
   ]
  },
  {
   "cell_type": "code",
   "execution_count": 84,
   "metadata": {},
   "outputs": [],
   "source": [
    "data = [\n",
    "    (1, \"Shampoo\", 11.99),\n",
    "    (2, \"Conditioner\", 15.99),\n",
    "    (3, \"Face Wash\", 5.99),\n",
    "    (4, \"Moisturizer\", 8.99),\n",
    "    (5, \"Tooth Paste\", 2.99)\n",
    "]\n",
    "with DbConnection() as db_connection:\n",
    "    con, cur = db_connection\n",
    "    cur.executemany(\"INSERT INTO Products(ProductId, ProductName, Price) VALUES(?, ?, ?)\", data)\n",
    "    con.commit()"
   ]
  },
  {
   "attachments": {},
   "cell_type": "markdown",
   "metadata": {},
   "source": [
    "# Practice Question #1\n",
    "\n",
    "Write a query to show customers who live in the state of NY and order them by their last name in ascending order."
   ]
  },
  {
   "cell_type": "code",
   "execution_count": 2,
   "metadata": {},
   "outputs": [
    {
     "name": "stdout",
     "output_type": "stream",
     "text": [
      "('Jennifer', 'McCarthy', 'NY')\n",
      "('Alex', 'Muir', 'NY')\n",
      "('William', 'Yang', 'NY')\n"
     ]
    }
   ],
   "source": [
    "with DbConnection() as db_connection:\n",
    "    con, cur = db_connection\n",
    "    for row in cur.execute(\n",
    "        \"\"\"\n",
    "        SELECT FirstName, LastName, State\n",
    "        FROM Customers\n",
    "        WHERE State = 'NY'\n",
    "        ORDER BY LastName ASC;\n",
    "        \"\"\"\n",
    "        ):\n",
    "        print(row)"
   ]
  },
  {
   "attachments": {},
   "cell_type": "markdown",
   "metadata": {},
   "source": [
    "# Practice Question #2\n",
    "\n",
    "Write a query to show the total number of orders placed by each customer and sort by highest orders.\n",
    "\n",
    "Showing TotalOrders by CustomerId will suffice."
   ]
  },
  {
   "cell_type": "code",
   "execution_count": 53,
   "metadata": {},
   "outputs": [
    {
     "name": "stdout",
     "output_type": "stream",
     "text": [
      "(2, 2)\n",
      "(5, 1)\n",
      "(4, 1)\n",
      "(3, 1)\n",
      "(1, 1)\n"
     ]
    }
   ],
   "source": [
    "with DbConnection() as db_connection:\n",
    "    con, cur = db_connection\n",
    "    for row in cur.execute(\n",
    "        \"\"\"\n",
    "        SELECT CustomerId, Count(OrderId) as TotalOrders\n",
    "        FROM Orders\n",
    "        GROUP BY CustomerId\n",
    "        ORDER BY TotalOrders DESC;\n",
    "        \"\"\"\n",
    "        ):\n",
    "        print(row)"
   ]
  },
  {
   "attachments": {},
   "cell_type": "markdown",
   "metadata": {},
   "source": [
    "# Practice Question #3\n",
    "\n",
    "Write a query to show states that have more than one customer record"
   ]
  },
  {
   "cell_type": "code",
   "execution_count": 3,
   "metadata": {},
   "outputs": [
    {
     "name": "stdout",
     "output_type": "stream",
     "text": [
      "('CT', 2)\n",
      "('NY', 3)\n"
     ]
    }
   ],
   "source": [
    "with DbConnection() as db_connection:\n",
    "    con, cur = db_connection\n",
    "    for row in cur.execute(\n",
    "        \"\"\"\n",
    "        SELECT State, Count(CustomerId)\n",
    "        FROM Customers\n",
    "        GROUP BY State\n",
    "        HAVING Count(CustomerId) > 1;\n",
    "        \"\"\"\n",
    "        ):\n",
    "        print(row)"
   ]
  },
  {
   "attachments": {},
   "cell_type": "markdown",
   "metadata": {},
   "source": [
    "# Create SUPPLIERS Table"
   ]
  },
  {
   "cell_type": "code",
   "execution_count": 57,
   "metadata": {},
   "outputs": [],
   "source": [
    "with DbConnection() as db_connection:\n",
    "    con, cur = db_connection\n",
    "    con.execute(\n",
    "\"\"\"\n",
    "CREATE TABLE Suppliers(\n",
    "    SupplierId INT,\n",
    "    Name VARCHAR(100),\n",
    "    Email VARCHAR(100),\n",
    "    City VARCHAR(100),\n",
    "    State VARCHAR(100)\n",
    ");\n",
    "\"\"\")"
   ]
  },
  {
   "cell_type": "code",
   "execution_count": 58,
   "metadata": {},
   "outputs": [],
   "source": [
    "data = [\n",
    "    (1, \"ABC Group\", \"abc@example.com\", \"Chicago\", \"IL\"),\n",
    "    (2, \"XYZ Group\", \"xyz@example.com\", \"New York\", \"NY\")\n",
    "]\n",
    "with DbConnection() as db_connection:\n",
    "    con, cur = db_connection\n",
    "    cur.executemany(\"INSERT INTO Suppliers(SupplierId, Name, Email, City, State) VALUES(?, ?, ?, ?, ?)\", data)\n",
    "    con.commit()"
   ]
  },
  {
   "attachments": {},
   "cell_type": "markdown",
   "metadata": {},
   "source": [
    "# Practice Question #4\n",
    "\n",
    "Write a query to show the list of cities where the customers and suppliers are from"
   ]
  },
  {
   "cell_type": "code",
   "execution_count": 59,
   "metadata": {},
   "outputs": [
    {
     "name": "stdout",
     "output_type": "stream",
     "text": [
      "('Chicago',)\n",
      "('Hartford',)\n",
      "('New York',)\n",
      "('Stamford',)\n",
      "('White Plains',)\n"
     ]
    }
   ],
   "source": [
    "with DbConnection() as db_connection:\n",
    "    con, cur = db_connection\n",
    "    for row in cur.execute(\n",
    "        \"\"\"\n",
    "        SELECT City FROM Customers\n",
    "        UNION\n",
    "        SELECT City FROM Suppliers;\n",
    "        \"\"\"\n",
    "        ):\n",
    "        print(row)"
   ]
  },
  {
   "attachments": {},
   "cell_type": "markdown",
   "metadata": {},
   "source": [
    "# Practice Question #5\n",
    "\n",
    "Write a query to show OrderIds that have OrderQty greater than the average across all orders"
   ]
  },
  {
   "cell_type": "code",
   "execution_count": 64,
   "metadata": {},
   "outputs": [
    {
     "name": "stdout",
     "output_type": "stream",
     "text": [
      "(1, 6, 1)\n",
      "(2, 5, 3)\n",
      "(3, 6, 4)\n"
     ]
    }
   ],
   "source": [
    "with DbConnection() as db_connection:\n",
    "    con, cur = db_connection\n",
    "    for row in cur.execute(\n",
    "        \"\"\"\n",
    "        SELECT OrderId, OrderQty, ProductId\n",
    "        FROM Orders\n",
    "        WHERE OrderQty > (SELECT AVG(OrderQty) FROM Orders)\n",
    "        \"\"\"\n",
    "        ):\n",
    "        print(row)"
   ]
  },
  {
   "attachments": {},
   "cell_type": "markdown",
   "metadata": {},
   "source": [
    "# Practice Question #6\n",
    "\n",
    "Write a query to show the first order of each customer. Showing CustomerId, OrderId will suffice"
   ]
  },
  {
   "cell_type": "code",
   "execution_count": 6,
   "metadata": {},
   "outputs": [
    {
     "name": "stdout",
     "output_type": "stream",
     "text": [
      "('20190204 05:22:00 AM', 5, 6)\n",
      "('20190325 01:06:00 PM', 3, 5)\n",
      "('20190618 10:34:00 AM', 2, 1)\n",
      "('20190721 11:21:00 AM', 1, 2)\n",
      "('20190911 12:04:00 AM', 4, 4)\n"
     ]
    }
   ],
   "source": [
    "with DbConnection() as db_connection:\n",
    "    con, cur = db_connection\n",
    "    for row in cur.execute(\n",
    "        \"\"\"\n",
    "        SELECT or1.CreatedAt, or1.CustomerId, or1.OrderId\n",
    "        FROM Orders AS or1\n",
    "        INNER JOIN \n",
    "            (SELECT MIN(CreatedAt) as FirstOrderAt, CustomerId \n",
    "                FROM Orders \n",
    "                GROUP BY CustomerId) AS or2\n",
    "            ON or1.CustomerId = or2.CustomerId\n",
    "            AND or1.CreatedAt = or2.FirstOrderAt\n",
    "        ORDER BY or1.CreatedAt\n",
    "        \"\"\"\n",
    "        ):\n",
    "        print(row)"
   ]
  },
  {
   "attachments": {},
   "cell_type": "markdown",
   "metadata": {},
   "source": [
    "# Practice Question #7\n",
    "\n",
    "Write a SQL query to display the full name of a state. For example, if the state is IL, shows Illinois. For this question show the full names for the three states present in the Customers table."
   ]
  },
  {
   "cell_type": "code",
   "execution_count": 92,
   "metadata": {},
   "outputs": [
    {
     "name": "stdout",
     "output_type": "stream",
     "text": [
      "('IL', 'Illinois')\n",
      "('NY', 'New York')\n",
      "('CT', 'Connecticut')\n"
     ]
    }
   ],
   "source": [
    "with DbConnection() as db_connection:\n",
    "    con, cur = db_connection\n",
    "    for row in cur.execute(\n",
    "        \"\"\"\n",
    "        SELECT DISTINCT(State),\n",
    "            CASE State\n",
    "                WHEN 'CT' THEN 'Connecticut'\n",
    "                WHEN 'IL' THEN 'Illinois'\n",
    "                WHEN 'NY' THEN 'New York'\n",
    "            END AS State_FullName\n",
    "        FROM Customers\n",
    "        \"\"\"\n",
    "        ):\n",
    "        print(row)"
   ]
  },
  {
   "attachments": {},
   "cell_type": "markdown",
   "metadata": {},
   "source": [
    "# Practice Question #8\n",
    "\n",
    "Write a query to show the total revenue generated by each city. Include state as column in the final result set. Revenue for each product can be calculated as a multiplication of price and order amount for that respective product."
   ]
  },
  {
   "cell_type": "code",
   "execution_count": 96,
   "metadata": {},
   "outputs": [
    {
     "name": "stdout",
     "output_type": "stream",
     "text": [
      "(101.91, 'Stamford', 'CT')\n",
      "(71.94, 'New York', 'NY')\n",
      "(63.96, 'White Plains', 'NY')\n",
      "(29.95, 'Chicago', 'IL')\n",
      "(5.98, 'Hartford', 'CT')\n"
     ]
    }
   ],
   "source": [
    "with DbConnection() as db_connection:\n",
    "    con, cur = db_connection\n",
    "    for row in cur.execute(\n",
    "        \"\"\"\n",
    "        SELECT ROUND(SUM(Products.Price * Orders.OrderQty),2) as TotalRevenue,\n",
    "               Customers.City, Customers.State\n",
    "            FROM Customers\n",
    "            INNER JOIN Orders ON Customers.CustomerId = Orders.CustomerId\n",
    "            INNER JOIN Products ON Orders.ProductId = Products.ProductId\n",
    "        GROUP BY Customers.City, Customers.State\n",
    "        ORDER BY TotalRevenue DESC\n",
    "        \"\"\"\n",
    "        ):\n",
    "        print(row)"
   ]
  },
  {
   "attachments": {},
   "cell_type": "markdown",
   "metadata": {},
   "source": [
    "While the majority of problems can be solved with filters, joins and aggregates, you may encounter situations where using CTE or window functions may be beneficial.\n",
    "\n",
    "For example, window functions are great when you need to aggregate without losing the individual line item information. Window functions do not output aggregates as a single row for the group but rather as a column to the original line items that you have in the table.\n",
    "\n",
    "CTEs are great to make your queries computationally less expensive.\n",
    "\n",
    "For example, with a query involving a WHERE and JOIN clause, SQL will process the JOIN first and then the WHERE clause. In cases where the table size is quite large, JOIN on all rows will be an expensive computation, especially if you are planning to remove those rows anyawy with the WHERE clause. In such cases, using CTE is computationally more effective where you can apply the WHERE clause first and then do the JOIN in the following statement."
   ]
  },
  {
   "cell_type": "code",
   "execution_count": 107,
   "metadata": {},
   "outputs": [
    {
     "name": "stdout",
     "output_type": "stream",
     "text": [
      "('Chicago', 'IL', 30)\n",
      "('Hartford', 'CT', 6)\n",
      "('New York', 'NY', 72)\n",
      "('Stamford', 'CT', 102)\n",
      "('White Plains', 'NY', 64)\n"
     ]
    }
   ],
   "source": [
    "with DbConnection() as db_connection:\n",
    "    con, cur = db_connection\n",
    "    for row in cur.execute(\n",
    "        \"\"\"\n",
    "        with amt (\n",
    "            OrderId, CustomerId, OrderQty, Price, Amount\n",
    "        ) as (\n",
    "            SELECT o.OrderId, o.CustomerId, o.OrderQty, p.Price, (p.Price * o.OrderQty) as Amount\n",
    "            FROM Orders as o\n",
    "            LEFT JOIN Products as p\n",
    "            ON o.ProductId = p.ProductId\n",
    "        ),\n",
    "\n",
    "        totalAmt (CustomerId, TotalAmount) as (\n",
    "            SELECT CustomerId, sum(Amount) as TotalAmount\n",
    "            FROM amt\n",
    "            GROUP BY CustomerId\n",
    "        )\n",
    "\n",
    "        SELECT c.City, c.State, CAST(ROUND(SUM(t.TotalAmount),0) AS INT) as Revenue\n",
    "        FROM Customers as c\n",
    "        JOIN totalAmt as t\n",
    "        ON c.CustomerId = t.CustomerId\n",
    "        GROUP BY City, State\n",
    "        \"\"\"\n",
    "        ):\n",
    "        print(row)"
   ]
  },
  {
   "attachments": {},
   "cell_type": "markdown",
   "metadata": {},
   "source": [
    "# Practice Question #9\n",
    "\n",
    "Write a query to show what percentage of a state's total revenue comes from each city in that state. Assume for this you have the result set named RS with columns City, State, Revenue (similar to the result set obtained as part of Q8)"
   ]
  },
  {
   "cell_type": "code",
   "execution_count": 109,
   "metadata": {},
   "outputs": [
    {
     "name": "stdout",
     "output_type": "stream",
     "text": [
      "(100.0, 'Chicago', 'IL')\n",
      "(94.45731763833534, 'Stamford', 'CT')\n",
      "(52.93598233995585, 'New York', 'NY')\n",
      "(47.06401766004415, 'White Plains', 'NY')\n",
      "(5.542682361664658, 'Hartford', 'CT')\n"
     ]
    }
   ],
   "source": [
    "with DbConnection() as db_connection:\n",
    "    con, cur = db_connection\n",
    "    for row in cur.execute(\n",
    "        \"\"\"\n",
    "        with amt (\n",
    "            OrderId, CustomerId, OrderQty, Price, Amount\n",
    "        ) as (\n",
    "            SELECT o.OrderId, o.CustomerId, o.OrderQty, p.Price, (p.Price * o.OrderQty) as Amount\n",
    "            FROM Orders as o\n",
    "            LEFT JOIN Products as p\n",
    "            ON o.ProductId = p.ProductId\n",
    "        ),\n",
    "\n",
    "        totalAmt (CustomerId, TotalAmount) as (\n",
    "            SELECT CustomerId, sum(Amount) as TotalAmount\n",
    "            FROM amt\n",
    "            GROUP BY CustomerId\n",
    "        ),\n",
    "\n",
    "        rs (City, State, Revenue) as (\n",
    "            SELECT c.City, c.State, SUM(t.TotalAmount) as Revenue\n",
    "            FROM Customers as c\n",
    "            JOIN totalAmt as t\n",
    "            ON c.CustomerId = t.CustomerId\n",
    "            GROUP BY City, State\n",
    "        ),\n",
    "\n",
    "        ro (\n",
    "            Revenue, StateRevenue, City, State\n",
    "        ) as (\n",
    "            SELECT Revenue, SUM(Revenue) OVER (PARTITION BY State) as StateRevenue, City, State\n",
    "            FROM rs\n",
    "        )\n",
    "\n",
    "        SELECT 100 * Revenue / StateRevenue as CityRevenuePct, City, State\n",
    "        FROM ro\n",
    "        ORDER BY CityRevenuePct DESC\n",
    "        \"\"\"\n",
    "        ):\n",
    "        print(row)"
   ]
  },
  {
   "attachments": {},
   "cell_type": "markdown",
   "metadata": {},
   "source": [
    "# Practice Question #10\n",
    "\n",
    "Write a query to show total number of orders placed by a customer.\n",
    "\n",
    "If no orders have been placed by a customer, display 0"
   ]
  },
  {
   "cell_type": "code",
   "execution_count": 123,
   "metadata": {},
   "outputs": [
    {
     "name": "stdout",
     "output_type": "stream",
     "text": [
      "('John', 1)\n",
      "('Jennifer', 1)\n",
      "('Anna', 2)\n",
      "('Maria', 1)\n",
      "('William', 1)\n",
      "('Alex', 0)\n"
     ]
    }
   ],
   "source": [
    "with DbConnection() as db_connection:\n",
    "    con, cur = db_connection\n",
    "    for row in cur.execute(\n",
    "        \"\"\"\n",
    "        SELECT Customers.FirstName, COALESCE(COUNT(Orders.OrderId), 0)\n",
    "        FROM Customers\n",
    "        LEFT JOIN Orders ON Customers.CustomerId = Orders.CustomerId\n",
    "        GROUP BY Customers.CustomerId\n",
    "        \"\"\"\n",
    "        ):\n",
    "        print(row)"
   ]
  },
  {
   "attachments": {},
   "cell_type": "markdown",
   "metadata": {},
   "source": [
    "# Practice Question #11\n",
    "\n",
    "Write a query to show customers that are from the same city"
   ]
  },
  {
   "cell_type": "code",
   "execution_count": 119,
   "metadata": {},
   "outputs": [
    {
     "name": "stdout",
     "output_type": "stream",
     "text": [
      "('New York', 2, 6)\n",
      "('New York', 6, 2)\n"
     ]
    }
   ],
   "source": [
    "with DbConnection() as db_connection:\n",
    "    con, cur = db_connection\n",
    "    for row in cur.execute(\n",
    "        \"\"\"\n",
    "        SELECT c1.City, c1.CustomerId, c2.CustomerId\n",
    "        FROM Customers AS c1\n",
    "        INNER JOIN Customers AS c2\n",
    "            ON c1.City = c2.City\n",
    "            AND c1.CustomerId != c2.CustomerId\n",
    "        \"\"\"\n",
    "        ):\n",
    "        print(row)"
   ]
  },
  {
   "attachments": {},
   "cell_type": "markdown",
   "metadata": {},
   "source": [
    "# Practice Question #12\n",
    "\n",
    "Write a query to show the list of cities that the customers are from"
   ]
  },
  {
   "attachments": {},
   "cell_type": "markdown",
   "metadata": {},
   "source": [
    "# Clean, Drop TABLES"
   ]
  },
  {
   "cell_type": "code",
   "execution_count": 78,
   "metadata": {},
   "outputs": [],
   "source": [
    "with DbConnection() as db_connection:\n",
    "    con, cur = db_connection\n",
    "    cur.execute(\"DROP TABLE Orders\")\n",
    "    cur.execute(\"DROP TABLE Customers\")\n",
    "    cur.execute(\"DROP TABLE Products\")\n",
    "    con.commit()"
   ]
  },
  {
   "attachments": {},
   "cell_type": "markdown",
   "metadata": {},
   "source": [
    "# Show TABLES"
   ]
  },
  {
   "cell_type": "code",
   "execution_count": 42,
   "metadata": {},
   "outputs": [
    {
     "name": "stdout",
     "output_type": "stream",
     "text": [
      "('Persons',)\n",
      "('movie',)\n",
      "('Customers',)\n",
      "('Orders',)\n",
      "('Products',)\n"
     ]
    }
   ],
   "source": [
    "with DbConnection() as db_connection:\n",
    "    con, cur = db_connection\n",
    "    res = con.execute(\"SELECT name FROM sqlite_master\")\n",
    "    for table in res.fetchall():\n",
    "        print(table)"
   ]
  }
 ],
 "metadata": {
  "kernelspec": {
   "display_name": ".venv",
   "language": "python",
   "name": "python3"
  },
  "language_info": {
   "codemirror_mode": {
    "name": "ipython",
    "version": 3
   },
   "file_extension": ".py",
   "mimetype": "text/x-python",
   "name": "python",
   "nbconvert_exporter": "python",
   "pygments_lexer": "ipython3",
   "version": "3.8.10"
  },
  "orig_nbformat": 4
 },
 "nbformat": 4,
 "nbformat_minor": 2
}
