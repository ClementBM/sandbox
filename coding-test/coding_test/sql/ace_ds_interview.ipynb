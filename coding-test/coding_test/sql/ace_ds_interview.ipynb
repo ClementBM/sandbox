{
 "cells": [
  {
   "cell_type": "markdown",
   "metadata": {},
   "source": [
    "# Window function\n",
    "\n",
    "Window functions perform calculations across a set of rows, much like aggregation functions, but do not group those rows as aggregation functions do.\n",
    "Therefore, rows retain their separate identities even with aggregated columns. Thus, window functions are particularly convenient when we want to use both aggregated and non aggregated values at once.\n",
    "\n",
    "Window functions require the OVER clause to specify a particular window. This window has three components:\n",
    "* `PARTITION BY`: Partition Specification: separates rows into different partitions, analogous to how `GROUP BY` operates\n",
    "* `ORDER BY`: determines the order in which rows are processed\n",
    "* `ROWS BETWEEN(start, end)`: window frame size specification: determines which sliding window of rows should be processed for any given row. The window frame defaults to all rows within a partition but can be specified by the clause `ROWS BETWEEN()`"
   ]
  },
  {
   "cell_type": "code",
   "execution_count": null,
   "metadata": {},
   "outputs": [],
   "source": [
    "\"\"\"\n",
    "SELECT\n",
    "    *,\n",
    "    SUM(posts) OVER (PARTITION BY user_id) AS post_count\n",
    "FROM\n",
    "    users u\n",
    "    LEFT JOIN posts p ON u.user_id = p.user_id\n",
    "\"\"\""
   ]
  },
  {
   "cell_type": "markdown",
   "metadata": {},
   "source": [
    "## LAG and LEAD\n",
    "\n",
    "There are both positional window functions, meaning they allow you to refer to rows after the current row (LAG), or rows before the current row (LEAD).\n"
   ]
  },
  {
   "cell_type": "code",
   "execution_count": null,
   "metadata": {},
   "outputs": [],
   "source": [
    "\"\"\"\n",
    "SELECT\n",
    "    p.*,\n",
    "    LAG(post_time, 1) OVER (\n",
    "        PARTITION BY user_id,\n",
    "        subreddit_id\n",
    "\n",
    "        ORDER BY\n",
    "            post_time ASC\n",
    "    ) AS prev_subreddit_post_time\n",
    "FROM\n",
    "    posts p\n",
    "\"\"\""
   ]
  },
  {
   "cell_type": "markdown",
   "metadata": {},
   "source": [
    "## RANK function"
   ]
  },
  {
   "cell_type": "code",
   "execution_count": null,
   "metadata": {},
   "outputs": [],
   "source": [
    "\"\"\"\n",
    "SELECT\n",
    "    *,\n",
    "    RANK() OVER (\n",
    "        PARTITION BY user_id\n",
    "        ORDER BY\n",
    "            LENGTH(body) DESC\n",
    "    ) AS rank\n",
    "FROM\n",
    "    users u\n",
    "    LEFT JOIN posts p ON u.user_id = p.user_id\n",
    "\"\"\""
   ]
  }
 ],
 "metadata": {
  "language_info": {
   "name": "python"
  },
  "orig_nbformat": 4
 },
 "nbformat": 4,
 "nbformat_minor": 2
}
