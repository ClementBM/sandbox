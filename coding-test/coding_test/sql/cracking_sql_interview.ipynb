{
 "cells": [
  {
   "attachments": {},
   "cell_type": "markdown",
   "metadata": {},
   "source": [
    "# What function to use to round a number to the smallest integer value that is greater than or equal to a number?\n",
    "\n",
    "The CEILING() function returns the smallest integer value that is greater than or equal to the specified number.\n",
    "\n",
    "The CEIL() function is a synonym for the CEILING() function and also returns the smallest integer value that is greater than or equal to a number."
   ]
  },
  {
   "cell_type": "code",
   "execution_count": 8,
   "metadata": {},
   "outputs": [
    {
     "name": "stdout",
     "output_type": "stream",
     "text": [
      "(26.0,)\n"
     ]
    }
   ],
   "source": [
    "from coding_test.sql_commons import DbConnection\n",
    "\n",
    "with DbConnection() as db_connection:\n",
    "    con, cur = db_connection\n",
    "    res = con.execute(\"SELECT ROUND(25.50)\")\n",
    "    print(res.fetchone())"
   ]
  },
  {
   "attachments": {},
   "cell_type": "markdown",
   "metadata": {},
   "source": [
    "# Which of the following is true about Cartesian Products?\n",
    "\n",
    "A Cartesian product is formed when a join condition is omitted.\n",
    "\n",
    "The SQL CROSS JOIN produces a result set which is the number of rows in the first table multiplied by the number of rows in the second table if no WHERE clause is used along with CROSS JOIN .This kind of result is called as Cartesian Product.\n",
    "\n",
    "If `WHERE` clause is used with `CROSS JOIN`, it functions like an `INNER JOIN`.\n",
    "\n",
    "`CROSS JOIN` Syntax\n",
    "```SQL\n",
    "SELECT *\n",
    "    FROM table1\n",
    "    CROSS JOIN table2;\n",
    "```"
   ]
  },
  {
   "attachments": {},
   "cell_type": "markdown",
   "metadata": {},
   "source": [
    "# How to select random 10 rows from a table?\n",
    "\n",
    "The easiest way to generate random rows in MySQL is to use the ORDER BY RAND() clause.\n",
    "\n",
    "This can work fine for small tables. However, for big table, it will have a serious performance problem as in order to generate the list of random rows, MySQL need to assign random number to each row and then sort them.\n",
    "\n",
    "Even if you want only 10 random rows from a set of 100k rows, MySQL need to sort all the 100k rows and then, extract only 10 of them.\n",
    "\n",
    "```SQL\n",
    "SELECT *\n",
    "    FROM tbl\n",
    "    ORDER BY RAND()\n",
    "    LIMIT 10\n",
    "```"
   ]
  },
  {
   "attachments": {},
   "cell_type": "markdown",
   "metadata": {},
   "source": [
    "# Implicit and explicit joins are equivalent\n",
    "\n",
    "```SQL\n",
    "SELECT CourseName, TeacherName\n",
    "    FROM Courses\n",
    "    INNER JOIN Teachers\n",
    "    ON Courses.TeacherID = Teachers.TeacherID\n",
    "```\n",
    "\n",
    "**is equivalent to**\n",
    "\n",
    "```SQL\n",
    "SELECT CourseName, TeacherName\n",
    "    FROM Courses, Teachers\n",
    "    ON Courses.TeacherID = Teachers.TeacherID\n",
    "```"
   ]
  },
  {
   "attachments": {},
   "cell_type": "markdown",
   "metadata": {},
   "source": [
    "# Normalized VS. Denormalized Databases\n",
    "\n",
    "Normalized are design to minimize redundancy, while denormalized databases are design to minimize read time."
   ]
  },
  {
   "cell_type": "code",
   "execution_count": 1,
   "metadata": {},
   "outputs": [],
   "source": [
    "from coding_test.sql_commons import DbConnection"
   ]
  },
  {
   "cell_type": "code",
   "execution_count": 17,
   "metadata": {},
   "outputs": [],
   "source": [
    "with DbConnection() as db_connection:\n",
    "    con, cur = db_connection\n",
    "    \n",
    "    con.execute(\"\"\"\n",
    "CREATE TABLE Teachers(\n",
    "    TeacherId INTEGER PRIMARY KEY AUTOINCREMENT,\n",
    "    TeacherName VARCHAR(100) \n",
    ");\n",
    "\"\"\")\n",
    "    con.execute(\"\"\"\n",
    "CREATE TABLE Students(\n",
    "    StudentId INTEGER PRIMARY KEY AUTOINCREMENT,\n",
    "    StudentName VARCHAR(100) \n",
    ");\n",
    "\"\"\")\n",
    "    con.execute(\"\"\"\n",
    "CREATE TABLE Courses(\n",
    "    CourseId INTEGER PRIMARY KEY AUTOINCREMENT,\n",
    "    CourseName VARCHAR(100),\n",
    "    TeacherId INTEGER NOT NULL,\n",
    "    FOREIGN KEY(TeacherId) REFERENCES Teachers(TeacherId)\n",
    ");\n",
    "\"\"\")\n",
    "    con.execute(\"\"\"\n",
    "CREATE TABLE StudentCourses(\n",
    "    StudentCourseId INTEGER PRIMARY KEY AUTOINCREMENT,\n",
    "    CourseId INTEGER NOT NULL,\n",
    "    StudentId INTEGER NOT NULL,\n",
    "    FOREIGN KEY (CourseId) REFERENCES Courses(CourseId),\n",
    "    FOREIGN KEY (StudentId) REFERENCES Students(StudentId),\n",
    "    CONSTRAINT UX_StudentCourses UNIQUE (CourseId,StudentId)\n",
    ");\n",
    "\"\"\")"
   ]
  },
  {
   "attachments": {},
   "cell_type": "markdown",
   "metadata": {},
   "source": [
    "# Insert Dummy Values"
   ]
  },
  {
   "cell_type": "code",
   "execution_count": 9,
   "metadata": {},
   "outputs": [],
   "source": [
    "data = [\n",
    "    (\"Alex_Teacher\",),\n",
    "    (\"Arthur_Teacher\",),\n",
    "    (\"Mary_Teacher\",),\n",
    "    (\"Albert_Teacher\",),\n",
    "]\n",
    "with DbConnection() as db_connection:\n",
    "    con, cur = db_connection\n",
    "    cur.executemany(\"INSERT INTO Teachers(TeacherName) VALUES(?)\", data)\n",
    "    con.commit()"
   ]
  },
  {
   "cell_type": "code",
   "execution_count": 26,
   "metadata": {},
   "outputs": [],
   "source": [
    "data = [\n",
    "    (\"Come_Student\",),\n",
    "    (\"Malo_Student\",),\n",
    "    (\"Louison_Student\",),\n",
    "    (\"Montaine_Student\",),\n",
    "]\n",
    "with DbConnection() as db_connection:\n",
    "    con, cur = db_connection\n",
    "    cur.executemany(\"INSERT INTO Students(StudentName) VALUES(?)\", data)\n",
    "    con.commit()"
   ]
  },
  {
   "cell_type": "code",
   "execution_count": 4,
   "metadata": {},
   "outputs": [],
   "source": [
    "data = [\n",
    "    (\"Geography\", 1),\n",
    "    (\"History\", 2),\n",
    "    (\"Geometry\", 3),\n",
    "    (\"Politic\", 1),\n",
    "]\n",
    "with DbConnection() as db_connection:\n",
    "    con, cur = db_connection\n",
    "    cur.executemany(\"INSERT INTO Courses(CourseName, TeacherId) VALUES(?, ?)\", data)\n",
    "    con.commit()"
   ]
  },
  {
   "cell_type": "code",
   "execution_count": 5,
   "metadata": {},
   "outputs": [],
   "source": [
    "data = [\n",
    "    (1, 1),\n",
    "    (1, 2),\n",
    "    (2, 2),\n",
    "    (2, 3),\n",
    "    (2, 4),\n",
    "    (3, 1),\n",
    "]\n",
    "with DbConnection() as db_connection:\n",
    "    con, cur = db_connection\n",
    "    cur.executemany(\"INSERT INTO StudentCourses(CourseId, StudentId) VALUES(?, ?)\", data)\n",
    "    con.commit()"
   ]
  },
  {
   "attachments": {},
   "cell_type": "markdown",
   "metadata": {},
   "source": [
    "# Casual Select"
   ]
  },
  {
   "cell_type": "code",
   "execution_count": 16,
   "metadata": {},
   "outputs": [
    {
     "name": "stdout",
     "output_type": "stream",
     "text": [
      "(1, 'Alex_Teacher')\n",
      "(2, 'Arthur_Teacher')\n",
      "(3, 'Mary_Teacher')\n",
      "(4, 'Albert_Teacher')\n"
     ]
    }
   ],
   "source": [
    "with DbConnection() as db_connection:\n",
    "    con, cur = db_connection\n",
    "    for row in cur.execute(\n",
    "        \"\"\"\n",
    "        SELECT * FROM Teachers\n",
    "        \"\"\"\n",
    "        ):\n",
    "        print(row)"
   ]
  },
  {
   "attachments": {},
   "cell_type": "markdown",
   "metadata": {},
   "source": [
    "# Query 1: Student Enrollment\n",
    "\n",
    "Implement a query to get a list of all students and how many courses each student is enrolled in"
   ]
  },
  {
   "cell_type": "code",
   "execution_count": 10,
   "metadata": {},
   "outputs": [
    {
     "name": "stdout",
     "output_type": "stream",
     "text": [
      "(1, 'Come_Student', 2)\n",
      "(2, 'Malo_Student', 2)\n",
      "(3, 'Louison_Student', 1)\n",
      "(4, 'Montaine_Student', 1)\n"
     ]
    }
   ],
   "source": [
    "with DbConnection() as db_connection:\n",
    "    con, cur = db_connection\n",
    "    for row in cur.execute(\n",
    "        \"\"\"\n",
    "        SELECT Students.StudentId, Students.StudentName, Count(StudentCourses.CourseId)\n",
    "        FROM Students\n",
    "        INNER JOIN StudentCourses on Students.StudentId = StudentCourses.StudentId\n",
    "        INNER JOIN Courses on StudentCourses.CourseId = Courses.CourseId\n",
    "        GROUP BY Students.StudentId\n",
    "        \"\"\"\n",
    "        ):\n",
    "        print(row)"
   ]
  },
  {
   "attachments": {},
   "cell_type": "markdown",
   "metadata": {},
   "source": [
    "# Query 2: Teacher Class Size\n",
    "\n",
    "Implement a query to get a list of all teachers and how many students they each teach.\n",
    "\n",
    "If a teacher teaches the same student in two courses you should double count the student.\n",
    "\n",
    "Sort the list in descending order of the number of students a teacher teaches."
   ]
  },
  {
   "cell_type": "code",
   "execution_count": 23,
   "metadata": {},
   "outputs": [
    {
     "name": "stdout",
     "output_type": "stream",
     "text": [
      "(2, 'Arthur_Teacher', 3)\n",
      "(1, 'Alex_Teacher', 2)\n",
      "(3, 'Mary_Teacher', 1)\n",
      "(4, 'Albert_Teacher', 0)\n"
     ]
    }
   ],
   "source": [
    "with DbConnection() as db_connection:\n",
    "    con, cur = db_connection\n",
    "    for row in cur.execute(\n",
    "        \"\"\"\n",
    "        SELECT Teachers.TeacherId, Teachers.TeacherName, Count(StudentCourses.StudentId) as StudentCount\n",
    "        FROM Teachers\n",
    "        LEFT JOIN Courses on Teachers.TeacherId = Courses.TeacherId\n",
    "        LEFT JOIN StudentCourses on Courses.CourseId = StudentCourses.CourseId\n",
    "        GROUP BY Teachers.TeacherId\n",
    "        ORDER BY StudentCount DESC\n",
    "        \"\"\"\n",
    "        ):\n",
    "        print(row)"
   ]
  },
  {
   "attachments": {},
   "cell_type": "markdown",
   "metadata": {},
   "source": [
    "# Drop Tables"
   ]
  },
  {
   "cell_type": "code",
   "execution_count": 14,
   "metadata": {},
   "outputs": [],
   "source": [
    "with DbConnection() as db_connection:\n",
    "    con, cur = db_connection\n",
    "    cur.execute(\"DROP TABLE Teachers\")\n",
    "    cur.execute(\"DROP TABLE Students\")\n",
    "    cur.execute(\"DROP TABLE Courses\")\n",
    "    cur.execute(\"DROP TABLE StudentCourses\")\n",
    "    con.commit()"
   ]
  }
 ],
 "metadata": {
  "kernelspec": {
   "display_name": ".venv",
   "language": "python",
   "name": "python3"
  },
  "language_info": {
   "codemirror_mode": {
    "name": "ipython",
    "version": 3
   },
   "file_extension": ".py",
   "mimetype": "text/x-python",
   "name": "python",
   "nbconvert_exporter": "python",
   "pygments_lexer": "ipython3",
   "version": "3.8.10"
  },
  "orig_nbformat": 4
 },
 "nbformat": 4,
 "nbformat_minor": 2
}
