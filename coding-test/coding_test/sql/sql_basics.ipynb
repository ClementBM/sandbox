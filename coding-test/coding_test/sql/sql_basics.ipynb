{
 "cells": [
  {
   "attachments": {},
   "cell_type": "markdown",
   "metadata": {},
   "source": [
    "# SQL Basics with [sqlite3](https://docs.python.org/3/library/sqlite3.html)\n",
    "\n",
    "* SELECT - extracts data from a database\n",
    "* UPDATE - updates data in a database\n",
    "* DELETE - deletes data from a database\n",
    "* INSERT INTO - inserts new data into a database\n",
    "* CREATE DATABASE - creates a new database\n",
    "* ALTER DATABASE - modifies a database\n",
    "* CREATE TABLE - creates a new table\n",
    "* ALTER TABLE - modifies a table\n",
    "* DROP TABLE - deletes a table\n",
    "* CREATE INDEX - creates an index (search key)\n",
    "* DROP INDEX - deletes an index\n"
   ]
  },
  {
   "cell_type": "code",
   "execution_count": 1,
   "metadata": {},
   "outputs": [],
   "source": [
    "from coding_test.sql_commons import DbConnection"
   ]
  },
  {
   "attachments": {},
   "cell_type": "markdown",
   "metadata": {},
   "source": [
    "# Create Table"
   ]
  },
  {
   "cell_type": "code",
   "execution_count": 8,
   "metadata": {},
   "outputs": [],
   "source": [
    "with DbConnection() as db_connection:\n",
    "    con, cur = db_connection\n",
    "    con.execute(\"\"\"CREATE TABLE Persons (\n",
    "ID INTEGER PRIMARY KEY AUTOINCREMENT,\n",
    "LastName varchar(255) NOT NULL,\n",
    "FirstName varchar(255),\n",
    "Age int CHECK (Age>=18)\n",
    ");\"\"\")"
   ]
  },
  {
   "attachments": {},
   "cell_type": "markdown",
   "metadata": {},
   "source": [
    "Implement a query to get a list of all students and how many courses each student is enrolled in."
   ]
  },
  {
   "cell_type": "code",
   "execution_count": 16,
   "metadata": {},
   "outputs": [],
   "source": [
    "with DbConnection() as db_connection:\n",
    "    con, cur = db_connection\n",
    "    con.execute(\"CREATE TABLE movie(title, year, score)\")"
   ]
  },
  {
   "cell_type": "markdown",
   "metadata": {},
   "source": [
    "# Many to Many relationships"
   ]
  },
  {
   "cell_type": "code",
   "execution_count": 9,
   "metadata": {},
   "outputs": [],
   "source": [
    "with DbConnection() as db_connection:\n",
    "    con, cur = db_connection\n",
    "    con.execute(\"\"\"\n",
    "CREATE TABLE Books (\n",
    "ID INTEGER PRIMARY KEY AUTOINCREMENT,\n",
    "Title varchar(255) NOT NULL);\n",
    "\"\"\")"
   ]
  },
  {
   "cell_type": "code",
   "execution_count": 11,
   "metadata": {},
   "outputs": [],
   "source": [
    "with DbConnection() as db_connection:\n",
    "    con, cur = db_connection\n",
    "    con.execute(\"\"\"\n",
    "CREATE TABLE PersonBooks (\n",
    "PersonID int NOT NULL,\n",
    "BookID int NOT NULL,\n",
    "\n",
    "FOREIGN KEY(PersonID) REFERENCES Persons(ID),\n",
    "FOREIGN KEY(BookID) REFERENCES Books(ID),\n",
    "PRIMARY KEY (PersonID, BookID));\n",
    "\"\"\")"
   ]
  },
  {
   "cell_type": "code",
   "execution_count": 13,
   "metadata": {},
   "outputs": [],
   "source": [
    "data = [\n",
    "    (\"William\", \"Kruger\", 43),\n",
    "    (\"John\", \"Proust\", 21)\n",
    "]\n",
    "with DbConnection() as db_connection:\n",
    "    con, cur = db_connection\n",
    "    cur.executemany(\"INSERT INTO Persons(LastName, FirstName, Age) VALUES(?, ?, ?)\", data)\n",
    "    con.commit()  # Remember to commit the transaction after executing INSERT."
   ]
  },
  {
   "cell_type": "code",
   "execution_count": 17,
   "metadata": {},
   "outputs": [],
   "source": [
    "data = [\n",
    "    (\"Naked Statistics\",),\n",
    "    (\"Data Literacy\",),\n",
    "]\n",
    "with DbConnection() as db_connection:\n",
    "    con, cur = db_connection\n",
    "    cur.executemany(\"INSERT INTO Books(Title) VALUES(?)\", data)\n",
    "    con.commit()  # Remember to commit the transaction after executing INSERT."
   ]
  },
  {
   "cell_type": "code",
   "execution_count": 25,
   "metadata": {},
   "outputs": [
    {
     "name": "stdout",
     "output_type": "stream",
     "text": [
      "(2, 'Data Literacy')\n",
      "(1, 'William', 'Kruger', 43)\n",
      "(2, 'John', 'Proust', 21)\n"
     ]
    }
   ],
   "source": [
    "with DbConnection() as db_connection:\n",
    "    con, cur = db_connection\n",
    "    for row in cur.execute(\"SELECT * FROM Books\"):\n",
    "        print(row)\n",
    "\n",
    "with DbConnection() as db_connection:\n",
    "    con, cur = db_connection\n",
    "    for row in cur.execute(\"SELECT * FROM Persons\"):\n",
    "        print(row)"
   ]
  },
  {
   "cell_type": "code",
   "execution_count": 22,
   "metadata": {},
   "outputs": [],
   "source": [
    "data = [\n",
    "    (1, 1),\n",
    "    (1, 2),\n",
    "]\n",
    "with DbConnection() as db_connection:\n",
    "    con, cur = db_connection\n",
    "    cur.executemany(\"INSERT INTO PersonBooks VALUES(?, ?)\", data)\n",
    "    con.commit()  # Remember to commit the transaction after executing INSERT."
   ]
  },
  {
   "cell_type": "code",
   "execution_count": 27,
   "metadata": {},
   "outputs": [
    {
     "name": "stdout",
     "output_type": "stream",
     "text": [
      "(1, 1)\n",
      "(1, 2)\n"
     ]
    }
   ],
   "source": [
    "\n",
    "with DbConnection() as db_connection:\n",
    "    con, cur = db_connection\n",
    "    for row in cur.execute(\"SELECT * FROM PersonBooks\"):\n",
    "        print(row)"
   ]
  },
  {
   "cell_type": "code",
   "execution_count": 23,
   "metadata": {},
   "outputs": [],
   "source": [
    "with DbConnection() as db_connection:\n",
    "    con, cur = db_connection\n",
    "    cur.execute(\"DELETE from Books where Title = 'Naked Statistics'\")\n",
    "    con.commit()"
   ]
  },
  {
   "attachments": {},
   "cell_type": "markdown",
   "metadata": {},
   "source": [
    "# Check Table Creation"
   ]
  },
  {
   "cell_type": "code",
   "execution_count": 18,
   "metadata": {},
   "outputs": [
    {
     "name": "stdout",
     "output_type": "stream",
     "text": [
      "('Persons',)\n",
      "('movie',)\n"
     ]
    }
   ],
   "source": [
    "with DbConnection() as db_connection:\n",
    "    con, cur = db_connection\n",
    "    res = con.execute(\"SELECT name FROM sqlite_master\")\n",
    "    for table in res.fetchall():\n",
    "        print(table)"
   ]
  },
  {
   "attachments": {},
   "cell_type": "markdown",
   "metadata": {},
   "source": [
    "# Insert values"
   ]
  },
  {
   "cell_type": "code",
   "execution_count": 15,
   "metadata": {},
   "outputs": [],
   "source": [
    "data = [\n",
    "    (\"Monty Python Live at the Hollywood Bowl\", 1982, 7.9),\n",
    "    (\"Monty Python's The Meaning of Life\", 1983, 7.5),\n",
    "    (\"Monty Python's Life of Brian\", 1979, 8.0),\n",
    "]\n",
    "with DbConnection() as db_connection:\n",
    "    con, cur = db_connection\n",
    "    cur.executemany(\"INSERT INTO movie VALUES(?, ?, ?)\", data)\n",
    "    con.commit()  # Remember to commit the transaction after executing INSERT."
   ]
  },
  {
   "attachments": {},
   "cell_type": "markdown",
   "metadata": {},
   "source": [
    "# Select from table"
   ]
  },
  {
   "cell_type": "code",
   "execution_count": 8,
   "metadata": {},
   "outputs": [
    {
     "ename": "OperationalError",
     "evalue": "no such table: movie",
     "output_type": "error",
     "traceback": [
      "\u001b[0;31m---------------------------------------------------------------------------\u001b[0m",
      "\u001b[0;31mOperationalError\u001b[0m                          Traceback (most recent call last)",
      "Cell \u001b[0;32mIn[8], line 3\u001b[0m\n\u001b[1;32m      1\u001b[0m \u001b[39mwith\u001b[39;00m DbConnection(db_name) \u001b[39mas\u001b[39;00m db_connection:\n\u001b[1;32m      2\u001b[0m     con, cur \u001b[39m=\u001b[39m db_connection\n\u001b[0;32m----> 3\u001b[0m     \u001b[39mfor\u001b[39;00m row \u001b[39min\u001b[39;00m cur\u001b[39m.\u001b[39;49mexecute(\u001b[39m\"\u001b[39;49m\u001b[39mSELECT year, title FROM movie ORDER BY year\u001b[39;49m\u001b[39m\"\u001b[39;49m):\n\u001b[1;32m      4\u001b[0m         \u001b[39mprint\u001b[39m(row)\n",
      "\u001b[0;31mOperationalError\u001b[0m: no such table: movie"
     ]
    }
   ],
   "source": [
    "with DbConnection() as db_connection:\n",
    "    con, cur = db_connection\n",
    "    for row in cur.execute(\"SELECT year, title FROM movie ORDER BY year\"):\n",
    "        print(row)"
   ]
  },
  {
   "attachments": {},
   "cell_type": "markdown",
   "metadata": {},
   "source": [
    "# Drop data from a table"
   ]
  },
  {
   "cell_type": "code",
   "execution_count": 4,
   "metadata": {},
   "outputs": [],
   "source": [
    "with DbConnection() as db_connection:\n",
    "    con, cur = db_connection\n",
    "    cur.execute(\"DELETE from movie\")\n",
    "    con.commit()"
   ]
  },
  {
   "attachments": {},
   "cell_type": "markdown",
   "metadata": {},
   "source": [
    "# Drop Entire Table"
   ]
  },
  {
   "cell_type": "code",
   "execution_count": 7,
   "metadata": {},
   "outputs": [],
   "source": [
    "with DbConnection() as db_connection:\n",
    "    con, cur = db_connection\n",
    "    cur.execute(\"DROP TABLE movie\")\n",
    "    con.commit()"
   ]
  }
 ],
 "metadata": {
  "kernelspec": {
   "display_name": ".venv",
   "language": "python",
   "name": "python3"
  },
  "language_info": {
   "codemirror_mode": {
    "name": "ipython",
    "version": 3
   },
   "file_extension": ".py",
   "mimetype": "text/x-python",
   "name": "python",
   "nbconvert_exporter": "python",
   "pygments_lexer": "ipython3",
   "version": "3.8.10"
  },
  "orig_nbformat": 4
 },
 "nbformat": 4,
 "nbformat_minor": 2
}
