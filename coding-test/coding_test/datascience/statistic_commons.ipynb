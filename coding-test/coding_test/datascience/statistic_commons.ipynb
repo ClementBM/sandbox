{
 "cells": [
  {
   "attachments": {},
   "cell_type": "markdown",
   "metadata": {},
   "source": [
    "# AIC: Akaike Information Criterion\n",
    "The Akaike information criterion (AIC) is an estimator of out-of-sample prediction error and thereby relative quality of statistical models for a given set of data. Given a collection of models for the data, AIC estimates the quality of each model, relative to each of the other models. Thus, AIC provides a means for model selection.\n",
    "\n",
    "AIC is founded on information theory. When a statistical model is used to represent the process that generated the data, the representation will almost never be exact; so some information will be lost by using the model to represent the process. AIC estimates the relative amount of information lost by a given model: the less information a model loses, the higher the quality of that model.\n",
    "\n",
    "In estimating the amount of information lost by a model, AIC deals with the trade-off between the goodness of fit of the model and the simplicity of the model. In other words, AIC deals with both the risk of overfitting and the risk of underfitting. \n",
    "\n",
    "$$\n",
    "AIC = 2k - 2 \\ln(L)\n",
    "$$"
   ]
  },
  {
   "cell_type": "code",
   "execution_count": null,
   "metadata": {},
   "outputs": [],
   "source": [
    "import pandas as pd\n",
    "import numpy as np\n",
    "import scipy.stats as st\n",
    "\n",
    "def distribution_fitting(distribution_code, investments):\n",
    "    if distribution_code == 'norm':\n",
    "        m, s = st.norm.fit(investments)\n",
    "        log_likelihood = np.log(np.product(st.norm.pdf(investments, m, s)))\n",
    "        return (2 * 2) - (2 * log_likelihood)\n",
    "    \n",
    "    if distribution_code == 'cauchy':\n",
    "        m, s = st.cauchy.fit(investments)\n",
    "        log_likelihood = np.log(np.product(st.cauchy.pdf(investments, m, s)))\n",
    "        return (2 * 2) - (2 * log_likelihood)\n",
    "    \n",
    "    if distribution_code == 'expon':\n",
    "        m, s = st.expon.fit(investments)\n",
    "        log_likelihood = np.log(np.product(st.expon.pdf(investments, m, s)))\n",
    "        return (2 * 1) - (2 * log_likelihood)\n",
    "\n",
    "investments = [\n",
    "    11624, 9388, 9471, 8927,\n",
    "    10865, 7698, 11744, 9238,\n",
    "    10319, 9750, 11462, 7939\n",
    "]\n",
    "\n",
    "distribution_fitting('norm', investments) # ~210.24"
   ]
  }
 ],
 "metadata": {
  "language_info": {
   "name": "python"
  },
  "orig_nbformat": 4
 },
 "nbformat": 4,
 "nbformat_minor": 2
}
