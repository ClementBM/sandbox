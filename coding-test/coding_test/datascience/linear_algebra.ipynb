{
 "cells": [
  {
   "attachments": {},
   "cell_type": "markdown",
   "metadata": {},
   "source": [
    "# Orthogonal Matrix\n",
    "\n",
    "An orthogonal matric is a square matric whose rows are mutually orthonormal and whose columns are mututally orthonormal\n",
    "\n",
    "$$\n",
    "A^{\\text{T}}A = AA^{\\text{T}} = I\n",
    "$$\n",
    "\n",
    "This implies that\n",
    "\n",
    "$$\n",
    "A^{\\text{-1}}=A^{\\text{T}}\n",
    "$$"
   ]
  },
  {
   "attachments": {},
   "cell_type": "markdown",
   "metadata": {},
   "source": [
    "# Eigen Decomposition\n",
    "\n",
    "An eigenvector of a square matric A is a nonzero vector $v$ such that multiplication by $A$ alters only the scale of $v$\n",
    "\n",
    "$$\n",
    "Av = \\lambda v\n",
    "$$\n",
    "\n",
    "The scalar $\\lambda$ is known as the eigenvalue corresponding to this eigenvector.\n",
    "\n",
    "$$\n",
    "A = V diag(\\lambda) V^{-1}\n",
    "$$\n",
    "\n",
    "Not every matrix can be decomposed into eigenvalues and eigenvectors. In some cases, the decompositio exists but involves complex rather than real number."
   ]
  },
  {
   "cell_type": "code",
   "execution_count": null,
   "metadata": {},
   "outputs": [],
   "source": []
  },
  {
   "attachments": {},
   "cell_type": "markdown",
   "metadata": {},
   "source": [
    "# Singular Value Decomposition\n",
    "\n",
    "The SVD provides another way to factorize a matrix, into singular vectors and singular values. Every real matrix has a singular value decomposition, but the same is not true of the eigenvalue decomposition. For example, if a matrix is not square, the eigendecomposition is not defined.\n",
    "\n",
    "$$\n",
    "A = U D V^{\\text{T}}\n",
    "$$\n",
    "\n",
    "* A is $m \\times n$\n",
    "* U is $m \\times m$, is orthogonal, columns of $U$ are left-singular vectors\n",
    "* D is $m \\times n$, is diagonal, not necessarily square\n",
    "* V is $n \\times n$, is orthogonal, columns of $V$ are right-singular vectors\n",
    "\n",
    "The left-singular vectors of A are the eigenvectors of $AA^{\\text{T}}$\n",
    "\n",
    "The right-singular vectors of A are the eigenvectors of $A^{\\text{T}}A$\n",
    "\n",
    "The nonzero singular values of A are the square roots of the eigenvalues of $A^{\\text{T}}A$ and $AA^{\\text{T}}$"
   ]
  },
  {
   "cell_type": "code",
   "execution_count": null,
   "metadata": {},
   "outputs": [],
   "source": []
  },
  {
   "attachments": {},
   "cell_type": "markdown",
   "metadata": {},
   "source": [
    "# The Moore-Penrose Pseudoinverse\n",
    "\n",
    "$$\n",
    "Ax = y\\\\\n",
    "BAx = By\\\\\n",
    "x = By\n",
    "$$\n",
    "\n",
    "Depending on the structure of the problem, it may not be possible to design a unique mapping from A to B\n",
    "* if A is taller than it is wide: it is possible for this equation to have no solution\n",
    "* if A is wider than it is tall: it is possible for this equation to have multiple solutions\n",
    "\n",
    "The pseudoinverse of A is defined as:\n",
    "$$\n",
    "A^{\\text{+}} = \\lim_{\\alpha \\rightarrow 0}(A^{\\text{T}}A + \\alpha I)^{\\text{-1}} A^{\\text{T}}\n",
    "$$\n",
    "\n",
    "Practical algorithms written in the form\n",
    "$$\n",
    "A^{\\text{+}} = V D^{\\text{+}} U^{\\text{T}}\n",
    "$$\n",
    "\n",
    "TODO ..."
   ]
  },
  {
   "cell_type": "code",
   "execution_count": null,
   "metadata": {},
   "outputs": [],
   "source": []
  },
  {
   "attachments": {},
   "cell_type": "markdown",
   "metadata": {},
   "source": [
    "# The determinant\n",
    "\n",
    "The determinant of a square matrix, $det(A)$ is a function that maps matrics to real scalars.\n",
    "\n",
    "The determinant is equal to the product of all the eigenvalues of the matrix.\n",
    "\n",
    "The absolute value of the determinant can be thought of as a measure of how much multiplication by the matrix expands or contracts space.\n",
    "\n",
    "* If the determinant is 0, then space is contracted completely along at least one dimension, causing it to lose all its volume\n",
    "* if the determinant is 1, then the transformation preserves volume"
   ]
  },
  {
   "cell_type": "code",
   "execution_count": null,
   "metadata": {},
   "outputs": [],
   "source": []
  },
  {
   "attachments": {},
   "cell_type": "markdown",
   "metadata": {},
   "source": [
    "# Principal Components Analysis\n",
    "\n",
    "Suppose we have a collection of $m$ points $\\{ x^{(1)}, ..., x^{(m)} \\}$ in $\\mathcal{R}^n$, we want to apply lossy compression to these points. Lossy compression means storing the points in a way that requires less memory but may lose some precision. \n",
    "\n",
    "$$\n",
    "f(x) = c\\\\\n",
    "x = g(f(x))\n",
    "$$\n",
    "\n",
    "For each point $x^{(i)} \\in \\mathcal{R}^n$, find a corresponding code vector $c^{(i)} \\in \\mathcal{R}^l$, with $l \\lt n$\n",
    "\n",
    "Specificaly with PCA, we choose to use matrix multiplication\n",
    "\n",
    "$$\n",
    "g(c) = Dc\n",
    "$$\n",
    "where $D \\in \\mathcal{R}^{n \\times l}$\n",
    "\n",
    "To make it easy, PCA constraints the columns of D to be orthogonal to each other, and constrain all columns of D to have unit norm.\n",
    "\n",
    "TODO ...."
   ]
  },
  {
   "cell_type": "code",
   "execution_count": null,
   "metadata": {},
   "outputs": [],
   "source": []
  },
  {
   "attachments": {},
   "cell_type": "markdown",
   "metadata": {},
   "source": [
    "## Eucliean distance"
   ]
  },
  {
   "cell_type": "code",
   "execution_count": null,
   "metadata": {},
   "outputs": [],
   "source": [
    "import numpy as np\n",
    "\n",
    "def euclidean_distance(v1, v2):\n",
    "    v_diff = v1 - v2\n",
    "    return np.sqrt(np.dot(v_diff, v_diff))"
   ]
  },
  {
   "attachments": {},
   "cell_type": "markdown",
   "metadata": {},
   "source": [
    "# Cosine similarity"
   ]
  },
  {
   "cell_type": "code",
   "execution_count": 4,
   "metadata": {},
   "outputs": [],
   "source": [
    "import numpy as np\n",
    "\n",
    "def cosine_similarity(v1, v2):\n",
    "    return np.dot(v1, v2) / (np.linalg.norm(v1) * np.linalg.norm(v2))"
   ]
  },
  {
   "attachments": {},
   "cell_type": "markdown",
   "metadata": {},
   "source": [
    "# Compute clusters pertenency"
   ]
  },
  {
   "cell_type": "code",
   "execution_count": 7,
   "metadata": {},
   "outputs": [
    {
     "data": {
      "text/plain": [
       "array([[6, 1, 2],\n",
       "       [4, 3, 4]])"
      ]
     },
     "execution_count": 7,
     "metadata": {},
     "output_type": "execute_result"
    }
   ],
   "source": [
    "cluster_centers = {\n",
    "    \"center1\": [\n",
    "        6,1,2\n",
    "    ],\n",
    "    \"center2\": [\n",
    "        4,3,4\n",
    "    ]\n",
    "}\n",
    "np.stack(list(cluster_centers.values()))"
   ]
  },
  {
   "cell_type": "code",
   "execution_count": 14,
   "metadata": {},
   "outputs": [
    {
     "data": {
      "text/plain": [
       "array([[-5,  0, -2],\n",
       "       [-4,  1,  2]])"
      ]
     },
     "execution_count": 14,
     "metadata": {},
     "output_type": "execute_result"
    }
   ],
   "source": [
    "np.array([[1,2,3],[2,3,7]]) - np.array([6,2,5])"
   ]
  },
  {
   "cell_type": "code",
   "execution_count": 13,
   "metadata": {},
   "outputs": [
    {
     "data": {
      "text/plain": [
       "[array([[1, 2, 3]])]"
      ]
     },
     "execution_count": 13,
     "metadata": {},
     "output_type": "execute_result"
    }
   ],
   "source": [
    "x = np.array([[1,2,3]])\n",
    "\n",
    "y = np.array([[4],[5]])\n",
    "\n",
    "np.broadcast_arrays(x)"
   ]
  },
  {
   "attachments": {},
   "cell_type": "markdown",
   "metadata": {},
   "source": [
    "# Matrix multiplication"
   ]
  },
  {
   "cell_type": "code",
   "execution_count": null,
   "metadata": {},
   "outputs": [],
   "source": []
  }
 ],
 "metadata": {
  "kernelspec": {
   "display_name": ".venv",
   "language": "python",
   "name": "python3"
  },
  "language_info": {
   "codemirror_mode": {
    "name": "ipython",
    "version": 3
   },
   "file_extension": ".py",
   "mimetype": "text/x-python",
   "name": "python",
   "nbconvert_exporter": "python",
   "pygments_lexer": "ipython3",
   "version": "3.8.10"
  },
  "orig_nbformat": 4
 },
 "nbformat": 4,
 "nbformat_minor": 2
}
