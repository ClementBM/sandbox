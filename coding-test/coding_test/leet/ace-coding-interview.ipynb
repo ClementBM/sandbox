{
 "cells": [
  {
   "cell_type": "markdown",
   "metadata": {},
   "source": [
    "# 1768. Merge Strings Alternately\n",
    "\n",
    "You are given two strings word1 and word2. Merge the strings by adding letters in alternating order, starting with word1. If a string is longer than the other, append the additional letters onto the end of the merged string.\n",
    "\n",
    "Return the merged string."
   ]
  },
  {
   "cell_type": "code",
   "execution_count": null,
   "metadata": {},
   "outputs": [],
   "source": [
    "from itertools import zip_longest\n",
    "\n",
    "class Solution:\n",
    "    def mergeAlternately(self, word1: str, word2: str) -> str:\n",
    "        return \"\".join(a + b for a, b in zip_longest(word1, word2, fillvalue=\"\"))"
   ]
  },
  {
   "cell_type": "markdown",
   "metadata": {},
   "source": [
    "# 1071. Greatest Common Divisor of Strings\n",
    "\n",
    "For two strings s and t, we say \"t divides s\" if and only if s = t + ... + t (i.e., t is concatenated with itself one or more times).\n",
    "\n",
    "Given two strings str1 and str2, return the largest string x such that x divides both str1 and str2.\n",
    "\n",
    "Example 1:\n",
    "\n",
    "Input: str1 = \"ABCABC\", str2 = \"ABC\"\n",
    "Output: \"ABC\"\n",
    "Example 2:\n",
    "\n",
    "Input: str1 = \"ABABAB\", str2 = \"ABAB\"\n",
    "Output: \"AB\"\n",
    "Example 3:\n",
    "\n",
    "Input: str1 = \"LEET\", str2 = \"CODE\"\n",
    "Output: \"\"\n"
   ]
  },
  {
   "cell_type": "code",
   "execution_count": 19,
   "metadata": {},
   "outputs": [],
   "source": [
    "class Solution:\n",
    "    def gcdOfStrings(self, str1: str, str2: str) -> str:\n",
    "\n",
    "        if len(str1) > len(str2):\n",
    "            return self.isValidDivisor(str1, str2, str2, len(str2))\n",
    "        else:\n",
    "            return self.isValidDivisor(str1, str2, str1, len(str1))\n",
    "        \n",
    "        return \"\"\n",
    "\n",
    "    def isValidDivisor(self, str1, str2, base_str, divisor_len):\n",
    "                \n",
    "        for i in range(len(base_str) - divisor_len + 1):\n",
    "            divisor_str = base_str[i:i + divisor_len]\n",
    "            if str1.replace(divisor_str, \"\") == \"\" and str2.replace(divisor_str, \"\") == \"\":\n",
    "                return divisor_str\n",
    "\n",
    "        return self.isValidDivisor(str1, str2, base_str, divisor_len - 1)"
   ]
  },
  {
   "cell_type": "code",
   "execution_count": 22,
   "metadata": {},
   "outputs": [],
   "source": [
    "from math import gcd\n",
    "\n",
    "class Solution:\n",
    "    def gcdOfStrings(self, str1: str, str2: str) -> str:\n",
    "        # Check if concatenated strings are equal or not, if not return \"\"\n",
    "        if str1 + str2 != str2 + str1:\n",
    "            return \"\"\n",
    "        # If strings are equal than return the substring from 0 to gcd of size(str1), size(str2)\n",
    "\n",
    "        return str1[:gcd(len(str1), len(str2))]"
   ]
  },
  {
   "cell_type": "code",
   "execution_count": 25,
   "metadata": {},
   "outputs": [
    {
     "data": {
      "text/plain": [
       "4"
      ]
     },
     "execution_count": 25,
     "metadata": {},
     "output_type": "execute_result"
    }
   ],
   "source": [
    "gcd(len(\"ABABABAB\"), len(\"ABAB\"))"
   ]
  },
  {
   "cell_type": "code",
   "execution_count": 20,
   "metadata": {},
   "outputs": [
    {
     "data": {
      "text/plain": [
       "'ABC'"
      ]
     },
     "execution_count": 20,
     "metadata": {},
     "output_type": "execute_result"
    }
   ],
   "source": [
    "solution = Solution()\n",
    "solution.gcdOfStrings(\"ABCABC\", \"ABC\")"
   ]
  },
  {
   "cell_type": "code",
   "execution_count": 21,
   "metadata": {},
   "outputs": [
    {
     "data": {
      "text/plain": [
       "'ABAB'"
      ]
     },
     "execution_count": 21,
     "metadata": {},
     "output_type": "execute_result"
    }
   ],
   "source": [
    "\n",
    "solution.gcdOfStrings(\"ABABABAB\", \"ABAB\")"
   ]
  }
 ],
 "metadata": {
  "kernelspec": {
   "display_name": ".venv",
   "language": "python",
   "name": "python3"
  },
  "language_info": {
   "codemirror_mode": {
    "name": "ipython",
    "version": 3
   },
   "file_extension": ".py",
   "mimetype": "text/x-python",
   "name": "python",
   "nbconvert_exporter": "python",
   "pygments_lexer": "ipython3",
   "version": "3.8.10"
  },
  "orig_nbformat": 4
 },
 "nbformat": 4,
 "nbformat_minor": 2
}
