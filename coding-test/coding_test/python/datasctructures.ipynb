{
 "cells": [
  {
   "attachments": {},
   "cell_type": "markdown",
   "metadata": {},
   "source": [
    "# Linked lists\n",
    "\n",
    "A linked list is a sequence of data elements, which are connected together via links. Each data element contains a connection to another data element in form of a pointer. Python does not have linked lists in its standard library."
   ]
  },
  {
   "cell_type": "code",
   "execution_count": 4,
   "metadata": {},
   "outputs": [],
   "source": [
    "class Node:\n",
    "    def __init__(self, dataval=None):\n",
    "        self.dataval = dataval\n",
    "        self.nextval = None\n",
    "\n",
    "class LinkedList:\n",
    "    def __init__(self):\n",
    "        self.headval = None\n",
    "\n",
    "list1 = LinkedList()\n",
    "list1.headval = Node(\"Mon\")\n",
    "e2 = Node(\"Tue\")\n",
    "e3 = Node(\"Wed\")\n",
    "# Link first Node to second node\n",
    "list1.headval.nextval = e2\n",
    "\n",
    "# Link second Node to third node\n",
    "e2.nextval = e3"
   ]
  },
  {
   "cell_type": "code",
   "execution_count": 5,
   "metadata": {},
   "outputs": [
    {
     "name": "stdout",
     "output_type": "stream",
     "text": [
      "Mon\n",
      "Tue\n",
      "Wed\n"
     ]
    }
   ],
   "source": [
    "def print_linked_list(linked_list):\n",
    "    printval = linked_list.headval\n",
    "    while printval is not None:\n",
    "        print(printval.dataval)\n",
    "        printval = printval.nextval\n",
    "\n",
    "print_linked_list(list1)"
   ]
  },
  {
   "attachments": {},
   "cell_type": "markdown",
   "metadata": {},
   "source": [
    "# Trees, Tries, Graphs\n",
    "\n",
    "* Graph: A graph is a collection of vertices (nodes) and edges that represent relationships between the vertices. Graphs are used to model and analyze networks, such as social networks or transportation networks.\n",
    "* Trie: A trie, also known as a prefix tree, is a tree-like data structure that stores a collection of strings. It is used for efficient searching and retrieval of strings, especially in the case of a large number of strings.\n",
    "* Segment Tree: A segment tree is a tree-like data structure that stores information about ranges of values. It is used for range queries and range updates, such as finding the sum of an array or finding the minimum or maximum value in an array.\n",
    "* Suffix Tree: A suffix tree is a tree-like data structure that stores all suffixes of a given string. It is used for efficient string search and pattern matching, such as finding the longest repeated substring or the longest common substring."
   ]
  },
  {
   "attachments": {},
   "cell_type": "markdown",
   "metadata": {},
   "source": [
    "# Tries\n",
    "\n",
    "Trie is a very useful data structure. It is commonly used to represent a dictionary for looking up words in a vocabulary.\n",
    "\n",
    "For example, consider the task of implementing a search bar with auto-completion or query suggestion. When the user enters a query, the search bar will automatically suggests common queries starting with the characters input by the user.\n",
    "\n",
    "https://albertauyeung.github.io/2020/06/15/python-trie.html/"
   ]
  },
  {
   "cell_type": "code",
   "execution_count": 6,
   "metadata": {},
   "outputs": [],
   "source": [
    "class TrieNode:\n",
    "    \"\"\"A node in the trie structure\"\"\"\n",
    "\n",
    "    def __init__(self, char):\n",
    "        # the character stored in this node\n",
    "        self.char = char\n",
    "\n",
    "        # whether this can be the end of a word\n",
    "        self.is_end = False\n",
    "\n",
    "        # a counter indicating how many times a word is inserted\n",
    "        # (if this node's is_end is True)\n",
    "        self.counter = 0\n",
    "\n",
    "        # a dictionary of child nodes\n",
    "        # keys are characters, values are nodes\n",
    "        self.children = {}"
   ]
  },
  {
   "cell_type": "code",
   "execution_count": null,
   "metadata": {},
   "outputs": [],
   "source": [
    "class Trie(object):\n",
    "    \"\"\"The trie object\"\"\"\n",
    "\n",
    "    def __init__(self):\n",
    "        \"\"\"\n",
    "        The trie has at least the root node.\n",
    "        The root node does not store any character\n",
    "        \"\"\"\n",
    "        self.root = TrieNode(\"\")\n",
    "    \n",
    "    def insert(self, word):\n",
    "        \"\"\"Insert a word into the trie\"\"\"\n",
    "        node = self.root\n",
    "        \n",
    "        # Loop through each character in the word\n",
    "        # Check if there is no child containing the character, create a new child for the current node\n",
    "        for char in word:\n",
    "            if char in node.children:\n",
    "                node = node.children[char]\n",
    "            else:\n",
    "                # If a character is not found,\n",
    "                # create a new node in the trie\n",
    "                new_node = TrieNode(char)\n",
    "                node.children[char] = new_node\n",
    "                node = new_node\n",
    "        \n",
    "        # Mark the end of a word\n",
    "        node.is_end = True\n",
    "\n",
    "        # Increment the counter to indicate that we see this word once more\n",
    "        node.counter += 1\n",
    "        \n",
    "    def dfs(self, node, prefix):\n",
    "        \"\"\"Depth-first traversal of the trie\n",
    "        \n",
    "        Args:\n",
    "            - node: the node to start with\n",
    "            - prefix: the current prefix, for tracing a\n",
    "                word while traversing the trie\n",
    "        \"\"\"\n",
    "        if node.is_end:\n",
    "            self.output.append((prefix + node.char, node.counter))\n",
    "        \n",
    "        for child in node.children.values():\n",
    "            self.dfs(child, prefix + node.char)\n",
    "        \n",
    "    def query(self, x):\n",
    "        \"\"\"Given an input (a prefix), retrieve all words stored in\n",
    "        the trie with that prefix, sort the words by the number of \n",
    "        times they have been inserted\n",
    "        \"\"\"\n",
    "        # Use a variable within the class to keep all possible outputs\n",
    "        # As there can be more than one word with such prefix\n",
    "        self.output = []\n",
    "        node = self.root\n",
    "        \n",
    "        # Check if the prefix is in the trie\n",
    "        for char in x:\n",
    "            if char in node.children:\n",
    "                node = node.children[char]\n",
    "            else:\n",
    "                # cannot found the prefix, return empty list\n",
    "                return []\n",
    "        \n",
    "        # Traverse the trie to get all candidates\n",
    "        self.dfs(node, x[:-1])\n",
    "\n",
    "        # Sort the results in reverse order and return\n",
    "        return sorted(self.output, key=lambda x: x[1], reverse=True)"
   ]
  },
  {
   "cell_type": "code",
   "execution_count": null,
   "metadata": {},
   "outputs": [],
   "source": [
    "t = Trie()\n",
    "t.insert(\"was\")\n",
    "t.insert(\"word\")\n",
    "t.insert(\"war\")\n",
    "t.insert(\"what\")\n",
    "t.insert(\"where\")\n",
    "\n",
    "t.query(\"wh\")"
   ]
  },
  {
   "attachments": {},
   "cell_type": "markdown",
   "metadata": {},
   "source": [
    "# Graphs\n",
    "\n",
    "A graph is a data structure that consists of vertices that are connected ​via edges. It can be implemented with an:\n",
    "\n",
    "1. Adjacency list: For every vertex, its adjacent vertices are stored. In the case of a weighted graph, the edge weights are stored along with the vertices. ​\n",
    "2. Adjacency matrix: The row and column indices represent the vertices: $matrix[i][j]=1$ means that there is an edge from vertices $i$ to $j$, and $matrix[i][j]=0$ denotes that there is no edge between $i$ and $j$. For a weighted graph,the edge weight is usually written in place of $1$.\n",
    "\n",
    "https://www.educative.io/answers/how-to-implement-a-graph-in-python"
   ]
  },
  {
   "cell_type": "code",
   "execution_count": null,
   "metadata": {},
   "outputs": [],
   "source": []
  },
  {
   "attachments": {},
   "cell_type": "markdown",
   "metadata": {},
   "source": [
    "# Tree\n",
    "\n",
    "Tree represents the nodes connected by edges. It is a non-linear data structure. It has the following properties −\n",
    "\n",
    "* One node is marked as Root node.\n",
    "* Every node other than the root is associated with one parent node.\n",
    "* Each node can have an arbiatry number of chid node.\n",
    "\n",
    "https://www.tutorialspoint.com/python_data_structure/python_binary_tree.htm"
   ]
  },
  {
   "cell_type": "code",
   "execution_count": 7,
   "metadata": {},
   "outputs": [],
   "source": [
    "class Node:\n",
    "    def __init__(self, data):\n",
    "        self.left = None\n",
    "        self.right = None\n",
    "        self.data = data\n",
    "\n",
    "    def insert(self, data):\n",
    "        \"\"\"Compare the new value with the parent node\"\"\"\n",
    "        if self.data:\n",
    "            if data < self.data:\n",
    "                if self.left is None:\n",
    "                    self.left = Node(data)\n",
    "                else:\n",
    "                    self.left.insert(data)\n",
    "            elif data > self.data:\n",
    "                if self.right is None:\n",
    "                    self.right = Node(data)\n",
    "                else:\n",
    "                    self.right.insert(data)\n",
    "        else:\n",
    "            self.data = data\n",
    "\n",
    "    def PrintTree(self):\n",
    "        \"\"\"Print the tree\"\"\"\n",
    "        if self.left:\n",
    "            self.left.PrintTree()\n",
    "        print(self.data)\n",
    "        if self.right:\n",
    "            self.right.PrintTree()"
   ]
  },
  {
   "cell_type": "code",
   "execution_count": 8,
   "metadata": {},
   "outputs": [
    {
     "name": "stdout",
     "output_type": "stream",
     "text": [
      "3\n",
      "6\n",
      "12\n",
      "14\n"
     ]
    }
   ],
   "source": [
    "# Use the insert method to add nodes\n",
    "root = Node(12)\n",
    "root.insert(6)\n",
    "root.insert(14)\n",
    "root.insert(3)\n",
    "root.PrintTree()"
   ]
  },
  {
   "cell_type": "code",
   "execution_count": null,
   "metadata": {},
   "outputs": [],
   "source": [
    "class Node:\n",
    "    def __init__(self, key, left=None, right=None):\n",
    "        self.key = key\n",
    "        self.right = right\n",
    "        self.left = left\n",
    "\n",
    "    def __repr__(self):\n",
    "        if self.right is None and self.left is None:\n",
    "            return \"\"\n",
    "        elif self.right is None:\n",
    "            return f\"{repr(self.left)} -- xxx\"\n",
    "        elif self.left is None:\n",
    "            return f\"xxx -- {repr(self.right)}\"\n",
    "        return f\"{repr(self.left)} -- {repr(self.right)}\"\n",
    "\n",
    "\n",
    "root = Node(\n",
    "    key=100,\n",
    "    right=Node(50, Node(25), Node(75)),\n",
    "    left=Node(200, Node(125), Node(350)),\n",
    ")"
   ]
  },
  {
   "attachments": {},
   "cell_type": "markdown",
   "metadata": {},
   "source": [
    "# Stacks & Queues\n",
    "\n",
    "Stack works on the principle of “Last-in, first-out”. Also, the inbuilt functions in Python make the code short and simple. To add an item to the top of the list, i.e., to push an item, we use append() function and to pop out an element we use pop() function.\n",
    "\n",
    "Queue works on the principle of “First-in, first-out”. Below is list implementation of queue. We use pop(0) to remove the first item from a list."
   ]
  },
  {
   "cell_type": "code",
   "execution_count": null,
   "metadata": {},
   "outputs": [],
   "source": []
  },
  {
   "attachments": {},
   "cell_type": "markdown",
   "metadata": {},
   "source": [
    "# Heaps\n",
    "\n",
    "Heap is a special tree structure in which each parent node is less than or equal to its child node. Then it is called a Min Heap. If each parent node is greater than or equal to its child node then it is called a max heap. It is very useful is implementing priority queues where the queue item with higher weightage is given more priority in processing.\n",
    "\n",
    "A heap is created by using python’s inbuilt library named heapq. This library has the relevant functions to carry out various operations on heap data structure. Below is a list of these functions.\n",
    "\n",
    "* heapify − This function converts a regular list to a heap. In the resulting heap the smallest element gets pushed to the index position 0. But rest of the data elements are not necessarily sorted.\n",
    "* heappush − This function adds an element to the heap without altering the current heap.\n",
    "* heappop − This function returns the smallest data element from the heap.\n",
    "* heapreplace − This function replaces the smallest data element with a new value supplied in the function.\n",
    "\n",
    "https://www.tutorialspoint.com/python_data_structure/python_heaps.htm"
   ]
  },
  {
   "cell_type": "code",
   "execution_count": 9,
   "metadata": {},
   "outputs": [
    {
     "name": "stdout",
     "output_type": "stream",
     "text": [
      "[1, 3, 5, 78, 21, 45]\n"
     ]
    }
   ],
   "source": [
    "import heapq\n",
    "\n",
    "H = [21,1,45,78,3,5]\n",
    "# Use heapify to rearrange the elements\n",
    "heapq.heapify(H)\n",
    "print(H)"
   ]
  },
  {
   "attachments": {},
   "cell_type": "markdown",
   "metadata": {},
   "source": [
    "# Vectors / ArrayLists"
   ]
  },
  {
   "cell_type": "code",
   "execution_count": null,
   "metadata": {},
   "outputs": [],
   "source": []
  },
  {
   "attachments": {},
   "cell_type": "markdown",
   "metadata": {},
   "source": [
    "# Hash Tables\n",
    "\n",
    "https://realpython.com/python-hash-table/"
   ]
  },
  {
   "cell_type": "code",
   "execution_count": null,
   "metadata": {},
   "outputs": [],
   "source": []
  }
 ],
 "metadata": {
  "kernelspec": {
   "display_name": ".venv",
   "language": "python",
   "name": "python3"
  },
  "language_info": {
   "codemirror_mode": {
    "name": "ipython",
    "version": 3
   },
   "file_extension": ".py",
   "mimetype": "text/x-python",
   "name": "python",
   "nbconvert_exporter": "python",
   "pygments_lexer": "ipython3",
   "version": "3.8.10"
  },
  "orig_nbformat": 4
 },
 "nbformat": 4,
 "nbformat_minor": 2
}
