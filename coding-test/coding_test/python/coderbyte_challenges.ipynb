{
 "cells": [
  {
   "attachments": {},
   "cell_type": "markdown",
   "metadata": {},
   "source": [
    "# First Factorial\n",
    "Have the function FirstFactorial(num) take the num parameter being passed and return the factorial of it. For example: if num = 4, then your program should return (4 * 3 * 2 * 1) = 24. For the test cases, the range will be between 1 and 18 and the input will always be an integer. "
   ]
  },
  {
   "cell_type": "code",
   "execution_count": 1,
   "metadata": {},
   "outputs": [],
   "source": [
    "def FirstFactorial(num):\n",
    "  if num > 2:\n",
    "    return FirstFactorial(num - 1) * num\n",
    "  return num"
   ]
  },
  {
   "cell_type": "code",
   "execution_count": 2,
   "metadata": {},
   "outputs": [],
   "source": [
    "assert FirstFactorial(4) == 24\n",
    "assert FirstFactorial(8) == 40320"
   ]
  },
  {
   "attachments": {},
   "cell_type": "markdown",
   "metadata": {},
   "source": [
    "# Fibonacci\n",
    "Memoization is a form of cache"
   ]
  },
  {
   "cell_type": "code",
   "execution_count": 3,
   "metadata": {},
   "outputs": [],
   "source": [
    "def fib_helper(n):\n",
    "    if n < 2:\n",
    "        return n\n",
    "    return fib_helper(n - 1) + fib_helper(n - 2)"
   ]
  },
  {
   "cell_type": "code",
   "execution_count": 9,
   "metadata": {},
   "outputs": [],
   "source": [
    "assert fib_helper(0) == 0\n",
    "assert fib_helper(1) == 1\n",
    "assert fib_helper(2) == 1\n",
    "assert fib_helper(10) == 55\n",
    "assert fib_helper(15) == 610"
   ]
  },
  {
   "attachments": {},
   "cell_type": "markdown",
   "metadata": {},
   "source": [
    "# Longest Word\n",
    "* Have the function `LongestWord(sen)` take the `sen` parameter being passed and return the longest word in the string.\n",
    "* If there are two or more words that are the same length, return the first word from the string with that length.\n",
    "* Ignore punctuation and assume `sen` will not be empty.\n",
    "* Words may also contain numbers, for example \"Hello world123 567\" "
   ]
  },
  {
   "cell_type": "code",
   "execution_count": 24,
   "metadata": {},
   "outputs": [],
   "source": [
    "import re\n",
    "def LongestWord(sen):\n",
    "    largest_token = None\n",
    "    for token in sen.split(\" \"):\n",
    "        if not token.isalnum():\n",
    "            continue\n",
    "        if token.isnumeric():\n",
    "            continue\n",
    "        if largest_token is None or len(token) > len(largest_token):\n",
    "            largest_token = token\n",
    "    return largest_token\n",
    "\n",
    "    # return re.findall(r\"/^[A-Za-z]+$/\", sen)\n",
    "    # https://www.w3schools.com/python/python_ref_string.asp"
   ]
  },
  {
   "cell_type": "code",
   "execution_count": 25,
   "metadata": {},
   "outputs": [],
   "source": [
    "assert LongestWord(\"fun&!! time\") == \"time\"\n",
    "assert LongestWord(\"I love dogs\") == \"love\""
   ]
  },
  {
   "attachments": {},
   "cell_type": "markdown",
   "metadata": {},
   "source": [
    "# Maximum Width of Binary Tree\n",
    "\n",
    "Given the root of a binary tree, return the maximum width of the given tree.\n",
    "\n",
    "The maximum width of a tree is the maximum width among all levels.\n",
    "\n",
    "The width of one level is defined as the length between the end-nodes (the leftmost and rightmost non-null nodes), where the null nodes between the end-nodes that would be present in a complete binary tree extending down to that level are also counted into the length calculation.\n",
    "\n",
    "It is guaranteed that the answer will in the range of a 32-bit signed integer."
   ]
  },
  {
   "cell_type": "code",
   "execution_count": 1,
   "metadata": {},
   "outputs": [],
   "source": [
    "def create_node_tree(definition_list, parent_node=None):\n",
    "    if not definition_list:\n",
    "        return None\n",
    "    if definition_list[0] is None:\n",
    "        return None\n",
    "    \n",
    "    node = TreeNode(definition_list[0], parent_node)\n",
    "\n",
    "    if len(definition_list) > 1:\n",
    "        node.left = create_node_tree(definition_list[1], node)\n",
    "    if len(definition_list) > 2:\n",
    "        node.right = create_node_tree(definition_list[2], node)\n",
    "\n",
    "    return node\n",
    "\n",
    "class TreeNode:\n",
    "    def __init__(self, val, left=None, right=None, parent=None):\n",
    "        self.val = val\n",
    "        self.left = left\n",
    "        self.right = right\n",
    "        self.parent = parent"
   ]
  },
  {
   "cell_type": "code",
   "execution_count": null,
   "metadata": {},
   "outputs": [],
   "source": [
    "from collections import deque\n",
    "\n",
    "class Solution:\n",
    "    def widthOfBinaryTree(self, root: TreeNode) -> int:\n",
    "        if not root:\n",
    "            return 0\n",
    "        \n",
    "        queue = deque([(root, 0)])\n",
    "        max_width = 0\n",
    "        \n",
    "        while queue:\n",
    "            level_length = len(queue)\n",
    "            _, level_start = queue[0]\n",
    "            \n",
    "            for i in range(level_length):\n",
    "                node, index = queue.popleft()\n",
    "                \n",
    "                if node.left:\n",
    "                    queue.append((node.left, 2*index))\n",
    "                \n",
    "                if node.right:\n",
    "                    queue.append((node.right, 2*index+1))\n",
    "                    \n",
    "            max_width = max(max_width, index - level_start + 1)\n",
    "            \n",
    "        return max_width"
   ]
  },
  {
   "cell_type": "code",
   "execution_count": null,
   "metadata": {},
   "outputs": [],
   "source": [
    "root_node = create_node_tree([1,3,2,5,3,None,9],parent_node=None)"
   ]
  },
  {
   "attachments": {},
   "cell_type": "markdown",
   "metadata": {},
   "source": [
    "# User input to Number\n",
    "Take two inputs from the user. One will be an integer. The other will be a float number. Then multiply them to display the output."
   ]
  },
  {
   "cell_type": "code",
   "execution_count": 6,
   "metadata": {},
   "outputs": [
    {
     "data": {
      "text/plain": [
       "2.3"
      ]
     },
     "execution_count": 6,
     "metadata": {},
     "output_type": "execute_result"
    }
   ],
   "source": [
    "int_num = int(\"1\")\n",
    "float_num = float(\"2.3\")\n",
    "int_num * float_num"
   ]
  },
  {
   "attachments": {},
   "cell_type": "markdown",
   "metadata": {},
   "source": [
    "# Create a random number between 0 to 10\n",
    "To create a random number, you have to import a built-in library named random. And then you can call the randint method on it"
   ]
  },
  {
   "cell_type": "code",
   "execution_count": 3,
   "metadata": {},
   "outputs": [
    {
     "name": "stdout",
     "output_type": "stream",
     "text": [
      "5\n"
     ]
    }
   ],
   "source": [
    "import random\n",
    "\n",
    "random.randint(0,10)"
   ]
  },
  {
   "attachments": {},
   "cell_type": "markdown",
   "metadata": {},
   "source": [
    "# Find the floor division of two numbers\n",
    "Floor division means the integer part of a division operation. For example, if you divide 17/5 the quotient will be 3.4."
   ]
  },
  {
   "cell_type": "code",
   "execution_count": 4,
   "metadata": {},
   "outputs": [
    {
     "name": "stdout",
     "output_type": "stream",
     "text": [
      "0\n"
     ]
    }
   ],
   "source": [
    "result = 10//3\n",
    "\n",
    "import math\n",
    "math.floor(3.4)"
   ]
  },
  {
   "attachments": {},
   "cell_type": "markdown",
   "metadata": {},
   "source": [
    "# Swap two variables.\n",
    "\n",
    "To swap two variables: the value of the first variable will become the value of the second variable. On the other hand, the value of the second variable will become the value of the first variable."
   ]
  },
  {
   "cell_type": "code",
   "execution_count": null,
   "metadata": {},
   "outputs": [],
   "source": [
    "x = 12\n",
    "y = 33\n",
    "#swap these two\n",
    "x, y = y, x\n",
    "\n",
    "a = 5\n",
    "b = 7\n",
    "# swap these two\n",
    "a = a + b\n",
    "b = a - b\n",
    "a = a - b"
   ]
  },
  {
   "attachments": {},
   "cell_type": "markdown",
   "metadata": {},
   "source": [
    "# Divisible by 3 and 5\n",
    "or a given number, find all the numbers smaller than the number. Numbers should be divisible by 3 and also by 5."
   ]
  },
  {
   "cell_type": "code",
   "execution_count": 5,
   "metadata": {},
   "outputs": [
    {
     "name": "stdout",
     "output_type": "stream",
     "text": [
      "[0]\n"
     ]
    }
   ],
   "source": [
    "def divisible_by_3and5(num):\n",
    "   result = [ ]\n",
    "   for i in range(num):\n",
    "       if i%3 == 0 and i%5 == 0:\n",
    "           result.append(i)\n",
    "   return result\n",
    " \n",
    "divisible_by_3and5(10)"
   ]
  },
  {
   "attachments": {},
   "cell_type": "markdown",
   "metadata": {},
   "source": [
    "# Average of numbers\n",
    "Take numbers from a user and show the average of the numbers the user entered"
   ]
  },
  {
   "cell_type": "code",
   "execution_count": 7,
   "metadata": {},
   "outputs": [
    {
     "data": {
      "text/plain": [
       "7.5"
      ]
     },
     "execution_count": 7,
     "metadata": {},
     "output_type": "execute_result"
    }
   ],
   "source": [
    "nums = [1,3,4,22]\n",
    "sum(nums) / len(nums)"
   ]
  },
  {
   "attachments": {},
   "cell_type": "markdown",
   "metadata": {},
   "source": [
    "# Second Largest\n",
    "For a list, find the second largest number in the list.\n"
   ]
  },
  {
   "cell_type": "code",
   "execution_count": 8,
   "metadata": {},
   "outputs": [
    {
     "name": "stdout",
     "output_type": "stream",
     "text": [
      "69\n"
     ]
    }
   ],
   "source": [
    "nums = [5, 12, 54, 87, 55, 69, 23, 17]\n",
    "nums.remove(max(nums))\n",
    "max(nums)"
   ]
  },
  {
   "attachments": {},
   "cell_type": "markdown",
   "metadata": {},
   "source": [
    "# Remove duplicate characters\n",
    "For a given string, remove all duplicate characters from that string."
   ]
  },
  {
   "cell_type": "code",
   "execution_count": 9,
   "metadata": {},
   "outputs": [
    {
     "data": {
      "text/plain": [
       "'user_inpt'"
      ]
     },
     "execution_count": 9,
     "metadata": {},
     "output_type": "execute_result"
    }
   ],
   "source": [
    "def remove_duplicate(your_str):\n",
    "   result = ''\n",
    "   for char in your_str:\n",
    "       if char not in result:\n",
    "           result += char\n",
    "   return result\n",
    "\n",
    "remove_duplicate(\"user_input\")"
   ]
  },
  {
   "attachments": {},
   "cell_type": "markdown",
   "metadata": {},
   "source": [
    "# Convert a decimal number to binary number\n",
    "To convert a decimal number to a binary number, you have to keep dividing the number by 2.\n",
    "\n",
    "While dividing, you will keep the remainder. These remainders will be used to build a binary number.\n",
    "\n",
    "Then, reverse the order of the reminder, to get the binary number."
   ]
  },
  {
   "cell_type": "code",
   "execution_count": 18,
   "metadata": {},
   "outputs": [
    {
     "data": {
      "text/plain": [
       "'1100100'"
      ]
     },
     "execution_count": 18,
     "metadata": {},
     "output_type": "execute_result"
    }
   ],
   "source": [
    "def dec_to_binary(n):\n",
    "    bits = []\n",
    "\n",
    "    while n > 0:\n",
    "        bits.append(str(n%2))\n",
    "        n = n // 2\n",
    "    bits.reverse()\n",
    "\n",
    "    return \"\".join(bits)\n",
    "\n",
    "dec_to_binary(100)"
   ]
  },
  {
   "attachments": {},
   "cell_type": "markdown",
   "metadata": {},
   "source": [
    "# Convert binary number to decimal number"
   ]
  },
  {
   "cell_type": "code",
   "execution_count": 19,
   "metadata": {},
   "outputs": [
    {
     "data": {
      "text/plain": [
       "100"
      ]
     },
     "execution_count": 19,
     "metadata": {},
     "output_type": "execute_result"
    }
   ],
   "source": [
    "def binary_to_dec(bin_num):\n",
    "    decimal_num = 0\n",
    "\n",
    "    for i, num in enumerate(bin_num[::-1]):\n",
    "        decimal_num += int(num) * 2 ** i\n",
    "\n",
    "    return decimal_num\n",
    "\n",
    "binary_to_dec(\"1100100\")"
   ]
  },
  {
   "attachments": {},
   "cell_type": "markdown",
   "metadata": {},
   "source": [
    "# Simple Interest\n",
    "You borrowed $5000 for 2 years with 2% interest per year. Calculate the simple interest to know how much you have to pay?"
   ]
  },
  {
   "cell_type": "code",
   "execution_count": 20,
   "metadata": {},
   "outputs": [
    {
     "name": "stdout",
     "output_type": "stream",
     "text": [
      "Simple interest is: 200.0\n"
     ]
    }
   ],
   "source": [
    "principle = 5000 # Money you borrowed\n",
    "interest_rate = 2 # Interest Rate\n",
    "time = 2 # Overall Duration\n",
    "\n",
    "# Calculates simple interest\n",
    "simple_interest = principle * (interest_rate/100) * time\n",
    "\n",
    "print(\"Simple interest is:\", simple_interest)"
   ]
  },
  {
   "attachments": {},
   "cell_type": "markdown",
   "metadata": {},
   "source": [
    "# Compound Interest"
   ]
  },
  {
   "cell_type": "code",
   "execution_count": 24,
   "metadata": {},
   "outputs": [
    {
     "data": {
      "text/plain": [
       "5100.0"
      ]
     },
     "execution_count": 24,
     "metadata": {},
     "output_type": "execute_result"
    }
   ],
   "source": [
    "def compound_interest(principle, rate, time):\n",
    "\tinterest = principle * ((1 + rate / 100) ** time)\n",
    "\treturn interest\n",
    "\n",
    "compound_interest(5000, 2, 2)"
   ]
  },
  {
   "attachments": {},
   "cell_type": "markdown",
   "metadata": {},
   "source": [
    "# Compute gravitational force between two objects\n",
    "The formula for gravitational force is $F =  { m_1 m_2 \\over r^2} G$\n",
    "\n",
    "Here G is the gravitational constant. Its value is $6.673*10^{-11}$\n"
   ]
  },
  {
   "cell_type": "code",
   "execution_count": 25,
   "metadata": {},
   "outputs": [
    {
     "name": "stdout",
     "output_type": "stream",
     "text": [
      "The gravitational force is: 0.0 N\n"
     ]
    }
   ],
   "source": [
    "mass1 = 10 # First mass\n",
    "mass2 = 1000 # Second mass\n",
    "\n",
    "r = 10 # Distance between the objects\n",
    "\n",
    "G = 6.673*(10**-11)\n",
    "force = (G*mass1*mass2)/(r**2)\n",
    "print(\"The gravitational force is:\", round(force, 5),\"N\")"
   ]
  },
  {
   "attachments": {},
   "cell_type": "markdown",
   "metadata": {},
   "source": [
    "# Triangle Area\n",
    "Take three sides of a triangle, then calculate the area of the triangle.\n",
    "\n",
    "To calculate the area of the triangle. First, calculate the half of the perimeter. Here perimeter is the sum of each side of the triangle. Then you have to perform square root of the formula like below-"
   ]
  },
  {
   "cell_type": "code",
   "execution_count": 31,
   "metadata": {},
   "outputs": [
    {
     "name": "stdout",
     "output_type": "stream",
     "text": [
      "Area of your triangle is  0.5587877504026003\n"
     ]
    }
   ],
   "source": [
    "import math\n",
    "\n",
    "a = 1.1\n",
    "b = 2.0\n",
    "c = 3.0\n",
    "\n",
    "# calculate the semi-perimeter\n",
    "s = (a + b + c) / 2\n",
    "\n",
    "# calculate the area\n",
    "area = math.sqrt(s*(s-a)*(s-b)*(s-c))\n",
    "print('Area of your triangle is ', area)"
   ]
  },
  {
   "attachments": {},
   "cell_type": "markdown",
   "metadata": {},
   "source": [
    "# Check if prime number\n",
    "For a given number, check whether the number is a prime number or not.\n",
    "\n",
    "A number is a prime number if that number is only divisible by 1 and the number itself"
   ]
  },
  {
   "cell_type": "code",
   "execution_count": 34,
   "metadata": {},
   "outputs": [
    {
     "data": {
      "text/plain": [
       "True"
      ]
     },
     "execution_count": 34,
     "metadata": {},
     "output_type": "execute_result"
    }
   ],
   "source": [
    "def is_prime(num):\n",
    "    for i in range(2,num):\n",
    "        if (num % i) == 0:\n",
    "            return False\n",
    "    return True\n",
    "\n",
    "is_prime(19)"
   ]
  },
  {
   "attachments": {},
   "cell_type": "markdown",
   "metadata": {},
   "source": [
    "# Prime Factors\n",
    "Ask the user to enter a number. Then find all the primes factors for the number.\n",
    "\n",
    "A prime factor is a prime number that could divide a number."
   ]
  },
  {
   "cell_type": "code",
   "execution_count": 47,
   "metadata": {},
   "outputs": [
    {
     "data": {
      "text/plain": [
       "{2, 5}"
      ]
     },
     "execution_count": 47,
     "metadata": {},
     "output_type": "execute_result"
    }
   ],
   "source": [
    "def get_prime_factors(n):\n",
    "    divisor = 2\n",
    "    while n > 2:\n",
    "        if(n % divisor == 0):\n",
    "            yield divisor\n",
    "            n /= divisor\n",
    "        else:\n",
    "            divisor += 1\n",
    "\n",
    "set(get_prime_factors(100))"
   ]
  },
  {
   "attachments": {},
   "cell_type": "markdown",
   "metadata": {},
   "source": [
    "# All Prime Numbers\n",
    "Ask the user to enter a number. Then find all the primes up to that number."
   ]
  },
  {
   "cell_type": "code",
   "execution_count": 50,
   "metadata": {},
   "outputs": [
    {
     "data": {
      "text/plain": [
       "[2, 3, 5, 7, 11, 13, 17, 19, 23, 29]"
      ]
     },
     "execution_count": 50,
     "metadata": {},
     "output_type": "execute_result"
    }
   ],
   "source": [
    "def is_prime(num):\n",
    "    for i in range(2,num):\n",
    "        if (num % i) == 0:\n",
    "            return False\n",
    "    return True\n",
    "\n",
    "def all_primes(num):\n",
    "    primes = []\n",
    "    for n in range(2,num+1):\n",
    "        if is_prime(n) is True:\n",
    "            primes.append(n)\n",
    "\n",
    "    return primes\n",
    "\n",
    "all_primes(30)"
   ]
  },
  {
   "attachments": {},
   "cell_type": "markdown",
   "metadata": {},
   "source": [
    "# Smallest prime factor\n",
    "Find the smallest prime factor for the given number"
   ]
  },
  {
   "cell_type": "code",
   "execution_count": 53,
   "metadata": {},
   "outputs": [
    {
     "data": {
      "text/plain": [
       "2"
      ]
     },
     "execution_count": 53,
     "metadata": {},
     "output_type": "execute_result"
    }
   ],
   "source": [
    "def get_smallest_factor(num):\n",
    "    factor = 2\n",
    "    while num % factor != 0:\n",
    "        factor += 1\n",
    "    return factor\n",
    "\n",
    "get_smallest_factor(50)"
   ]
  },
  {
   "attachments": {},
   "cell_type": "markdown",
   "metadata": {},
   "source": [
    "# Reverse a number"
   ]
  },
  {
   "cell_type": "code",
   "execution_count": 62,
   "metadata": {},
   "outputs": [
    {
     "data": {
      "text/plain": [
       "201"
      ]
     },
     "execution_count": 62,
     "metadata": {},
     "output_type": "execute_result"
    }
   ],
   "source": [
    "def reverse_num(num):\n",
    "    reverse = 0\n",
    "    while(num>0):\n",
    "        last_digit = num % 10\n",
    "        reverse = reverse * 10 + last_digit\n",
    "        num = num // 10\n",
    "    return reverse\n",
    "\n",
    "reverse_num(1020)"
   ]
  },
  {
   "attachments": {},
   "cell_type": "markdown",
   "metadata": {},
   "source": [
    "# Reverse word order\n",
    "Reverse the word in a sentence.\n",
    "\n",
    "For example, if the input string is “Hello young Programmer”, the output will be “Programmer young Hello”"
   ]
  },
  {
   "cell_type": "code",
   "execution_count": 63,
   "metadata": {},
   "outputs": [
    {
     "data": {
      "text/plain": [
       "'titi tata toto'"
      ]
     },
     "execution_count": 63,
     "metadata": {},
     "output_type": "execute_result"
    }
   ],
   "source": [
    "def reverse_words(sentence):\n",
    "   words = sentence.split()\n",
    "   words.reverse()\n",
    "   return \" \".join(words)\n",
    "\n",
    "reverse_words(\"toto tata titi\")"
   ]
  },
  {
   "attachments": {},
   "cell_type": "markdown",
   "metadata": {},
   "source": [
    "# Check Palindrome\n",
    "Check whether the string is a palindrome"
   ]
  },
  {
   "cell_type": "code",
   "execution_count": 65,
   "metadata": {},
   "outputs": [
    {
     "name": "stdout",
     "output_type": "stream",
     "text": [
      "It is palindrome\n"
     ]
    }
   ],
   "source": [
    "my_str = \"toyot\"\n",
    "rev_str = my_str[::-1]\n",
    "\n",
    "if my_str == rev_str:\n",
    "   print(\"It is palindrome\")\n",
    "else:\n",
    "   print(\"It is not palindrome\")"
   ]
  },
  {
   "attachments": {},
   "cell_type": "markdown",
   "metadata": {},
   "source": [
    "# Cube Sum\n",
    "With a given integral number n, write a program to calculate the sum of cubes."
   ]
  },
  {
   "cell_type": "code",
   "execution_count": 67,
   "metadata": {},
   "outputs": [
    {
     "data": {
      "text/plain": [
       "3025.0"
      ]
     },
     "execution_count": 67,
     "metadata": {},
     "output_type": "execute_result"
    }
   ],
   "source": [
    "def cube_sum(num):\n",
    "\tsum = 0\n",
    "\tfor n in range(num+1):\n",
    "\t\tsum = sum + n**3\n",
    "\treturn sum\n",
    "\n",
    "n = 10\n",
    "# cube_sum(n)\n",
    "\n",
    "sum = (n*(n+1)/2)**2\n",
    "sum"
   ]
  },
  {
   "attachments": {},
   "cell_type": "markdown",
   "metadata": {},
   "source": [
    "# Armstrong number\n",
    "Armstrong is a special number.\n",
    "\n",
    "A number is an Armstrong Number or narcissistic number if it is equal to the sum of its own digits raised to the power of the number of digits."
   ]
  },
  {
   "cell_type": "code",
   "execution_count": 68,
   "metadata": {},
   "outputs": [
    {
     "data": {
      "text/plain": [
       "True"
      ]
     },
     "execution_count": 68,
     "metadata": {},
     "output_type": "execute_result"
    }
   ],
   "source": [
    "def check_armstrong(num):\n",
    "    order = len(str(num))\n",
    "    sum = 0\n",
    "    temp = num\n",
    "    while temp > 0:\n",
    "        digit = temp % 10\n",
    "        sum += digit ** order\n",
    "        temp //= 10\n",
    "    return num == sum\n",
    "\n",
    "check_armstrong(371)\n",
    "check_armstrong(1634)"
   ]
  },
  {
   "attachments": {},
   "cell_type": "markdown",
   "metadata": {},
   "source": [
    "# Greatest Common Divisor\n",
    "Calculate the greatest common divisor (gcd) of two numbers."
   ]
  },
  {
   "cell_type": "code",
   "execution_count": 71,
   "metadata": {},
   "outputs": [
    {
     "data": {
      "text/plain": [
       "4"
      ]
     },
     "execution_count": 71,
     "metadata": {},
     "output_type": "execute_result"
    }
   ],
   "source": [
    "def compute_gcd(x, y):\n",
    "    smaller = min(x,y)\n",
    "    gcd = 1\n",
    "    for i in range(1, smaller+1):\n",
    "        if x % i == 0 and y % i == 0:\n",
    "            gcd = i\n",
    "    return gcd\n",
    "\n",
    "compute_gcd(8, 12)"
   ]
  },
  {
   "attachments": {},
   "cell_type": "markdown",
   "metadata": {},
   "source": [
    "# Least Common Multiple\n",
    "For two numbers, calculate the least common multiple (LCM).\n",
    "\n",
    "The multiples of 4 and 5 are below:\n",
    "\n",
    "Multiple of 4: 4,  8,  12, 16, 20 , 24 28 ,32, 36, 40, 44 Multiple of 5: 5, 10, 15, 20, 25, 30, 35, 40, 45, 50, 55 \n",
    "\n",
    "Now, what are the common multiples? The common number that exists in multiple of 4 and 5 are:\n",
    "\n",
    "Common multiples: 20, 40, 60, 80\n",
    "\n",
    "So, you can tell the smallest common multiple is 20. Hence, the least common multiple(LCM) of 4 and 5 is 20."
   ]
  },
  {
   "cell_type": "code",
   "execution_count": 72,
   "metadata": {},
   "outputs": [
    {
     "data": {
      "text/plain": [
       "20"
      ]
     },
     "execution_count": 72,
     "metadata": {},
     "output_type": "execute_result"
    }
   ],
   "source": [
    "def calculate_lcm(x, y):\n",
    "\tlcm = max(x,y)\n",
    "\twhile lcm % x != 0 or lcm % y != 0:\n",
    "\t\tlcm += 1\n",
    "\treturn lcm\n",
    "\n",
    "calculate_lcm(4,5)"
   ]
  },
  {
   "attachments": {},
   "cell_type": "markdown",
   "metadata": {},
   "source": [
    "# Birthday remaining\n",
    "Calculate how many days are remaining for the next birthday."
   ]
  },
  {
   "cell_type": "code",
   "execution_count": 74,
   "metadata": {},
   "outputs": [
    {
     "data": {
      "text/plain": [
       "31"
      ]
     },
     "execution_count": 74,
     "metadata": {},
     "output_type": "execute_result"
    }
   ],
   "source": [
    "from datetime import datetime\n",
    "import time\n",
    " \n",
    "def get_user_birthday(date_str):\n",
    "    try:\n",
    "        birthday = datetime.strptime(date_str, \"%d/%m/%Y\")\n",
    "    except TypeError:\n",
    "        birthday = datetime.datetime(*(time.strptime(date_str, \"%d/%m/%Y\")[0:6]))\n",
    "    return birthday\n",
    " \n",
    "def days_remaining(birth_date):\n",
    "    now = datetime.now()\n",
    "    current_year = datetime(now.year, birth_date.month, birth_date.day)\n",
    "    days = (current_year - now).days\n",
    "    if days < 0:\n",
    "        next_year = datetime(now.year+1, birth_date.month, birth_date.day)\n",
    "        days = (next_year - now).days\n",
    "    return days\n",
    "\n",
    "# DD/MM/YYYY\n",
    "birthday = get_user_birthday(\"22/05/1980\")\n",
    "next_birthday = days_remaining(birthday)\n",
    "next_birthday"
   ]
  },
  {
   "attachments": {},
   "cell_type": "markdown",
   "metadata": {},
   "source": [
    "# Calculate Age\n",
    "Take a birthday of a person and then calculate the age."
   ]
  },
  {
   "cell_type": "code",
   "execution_count": 77,
   "metadata": {},
   "outputs": [
    {
     "data": {
      "text/plain": [
       "42"
      ]
     },
     "execution_count": 77,
     "metadata": {},
     "output_type": "execute_result"
    }
   ],
   "source": [
    "from datetime import datetime\n",
    "import time\n",
    " \n",
    "\n",
    "def calculate_age(born):\n",
    "\ttoday = datetime.today()\n",
    "\tdays = (today-born).days\n",
    "\tage = days // 365\n",
    "\treturn age\n",
    " \n",
    "def get_user_birthday(date_str):\n",
    "    try:\n",
    "        birthday = datetime.strptime(date_str, \"%d/%m/%Y\")\n",
    "    except TypeError:\n",
    "        birthday = datetime.datetime(*(time.strptime(date_str, \"%d/%m/%Y\")[0:6]))\n",
    "    return birthday\n",
    " \n",
    "# DD/MM/YYYY\n",
    "birthday = get_user_birthday(\"22/05/1980\")\n",
    "calculate_age(birthday)"
   ]
  }
 ],
 "metadata": {
  "kernelspec": {
   "display_name": ".venv",
   "language": "python",
   "name": "python3"
  },
  "language_info": {
   "codemirror_mode": {
    "name": "ipython",
    "version": 3
   },
   "file_extension": ".py",
   "mimetype": "text/x-python",
   "name": "python",
   "nbconvert_exporter": "python",
   "pygments_lexer": "ipython3",
   "version": "3.8.10"
  },
  "orig_nbformat": 4
 },
 "nbformat": 4,
 "nbformat_minor": 2
}
