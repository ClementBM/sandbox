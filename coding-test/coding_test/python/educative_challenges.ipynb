{
 "cells": [
  {
   "attachments": {},
   "cell_type": "markdown",
   "metadata": {},
   "source": [
    "# Find the missing number in the array\n",
    "\n",
    "You are given an array of positive numbers from 1 to n, such that all numbers from 1 to n are present except one number x.\n",
    "\n",
    "You have to find x. The input array is not sorted. Look at the below array and give it a try before checking the solution.\n",
    "\n",
    "Runtime Complexity: Linear, $O(n)$\n",
    "\n",
    "Memory Complexity: Constant, $O(1)$"
   ]
  },
  {
   "cell_type": "code",
   "execution_count": null,
   "metadata": {},
   "outputs": [],
   "source": [
    "def find_missing(input):\n",
    "    n = len(input) + 1\n",
    "    actual_sum = (n * ( n + 1 ) ) / 2\n",
    "    return actual_sum - sum(input)\n",
    "\n",
    "find_missing([1,2,3,4,5,7])"
   ]
  },
  {
   "attachments": {},
   "cell_type": "markdown",
   "metadata": {},
   "source": [
    "# Determine if the sum of two integers is equal to the given value\n",
    "\n",
    "Given an array of integers and a value, determine if there are any two integers in the array whose sum is equal to the given value.\n",
    "\n",
    "Return true if the sum exists and return false if it does not. Consider this array and the target sums: [5,7,1,2,8,4,3] => target sum: 10 => 7+3 & 2+8\n",
    "\n",
    "Runtime Complexity: Linear, $O(n)$\n",
    "\n",
    "Memory Complexity: Linear, $O(n)$\n"
   ]
  },
  {
   "cell_type": "code",
   "execution_count": null,
   "metadata": {},
   "outputs": [],
   "source": [
    "def find_sum_of_two(A, val):\n",
    "    a_complements = []\n",
    "    for i in range(len(A)):\n",
    "        a_complements.append(val - A[i])\n",
    "        if A[i] in a_complements:\n",
    "            return True        \n",
    "    return False\n",
    "\n",
    "def find_sum_of_two(A, val):\n",
    "    found_values = set()\n",
    "    for a in A:\n",
    "        if val - a in found_values:\n",
    "            return True\n",
    "\n",
    "        found_values.add(a)\n",
    "        \n",
    "    return False\n",
    "\n",
    "find_sum_of_two([5,7,1,2,8,4,3], 10)\n",
    "find_sum_of_two([5,7,1,2,8,4,3], 19)"
   ]
  },
  {
   "attachments": {},
   "cell_type": "markdown",
   "metadata": {},
   "source": [
    "# Merge two sorted linked lists\n",
    "Given two sorted linked lists, merge them so that the resulting linked list is also sorted.\n",
    "\n",
    "Runtime Complexity: Linear, $O(m+n)$ where $m$ and $n$ are lengths of both linked lists\n",
    "\n",
    "Memory Complexity: Constant, $O(1)$"
   ]
  },
  {
   "cell_type": "code",
   "execution_count": 5,
   "metadata": {},
   "outputs": [
    {
     "data": {
      "text/plain": [
       "[4, 7, 8, 9, 10, 15, 16, 19]"
      ]
     },
     "execution_count": 5,
     "metadata": {},
     "output_type": "execute_result"
    }
   ],
   "source": [
    "def merge_sorted(head1, head2):\n",
    "    if not head1:\n",
    "        return head2\n",
    "    if not head2:\n",
    "        return head1\n",
    "\n",
    "    result = []\n",
    "    j = 0\n",
    "    for i in range(len(head1)):\n",
    "        while j < len(head2) and head1[i] > head2[j]:\n",
    "            result.append(head2[j])\n",
    "            j += 1\n",
    "        \n",
    "        result.append(head1[i])\n",
    "    \n",
    "    return result + head2[j:]\n",
    "\n",
    "merge_sorted([4,8,15,19],[7,9,10,16])"
   ]
  },
  {
   "cell_type": "code",
   "execution_count": null,
   "metadata": {},
   "outputs": [],
   "source": [
    "def merge_sorted(head1, head2):\n",
    "  # if both lists are empty then merged list is also empty\n",
    "  # if one of the lists is empty then other is the merged list\n",
    "  if head1 == None:\n",
    "    return head2\n",
    "  elif head2 == None:\n",
    "    return head1\n",
    "\n",
    "  mergedHead = None;\n",
    "  if head1.data <= head2.data:\n",
    "    mergedHead = head1\n",
    "    head1 = head1.next\n",
    "  else:\n",
    "    mergedHead = head2\n",
    "    head2 = head2.next\n",
    "\n",
    "  mergedTail = mergedHead\n",
    "  \n",
    "  while head1 != None and head2 != None:\n",
    "    temp = None\n",
    "    if head1.data <= head2.data:\n",
    "      temp = head1\n",
    "      head1 = head1.next\n",
    "    else:\n",
    "      temp = head2\n",
    "      head2 = head2.next\n",
    "\n",
    "    mergedTail.next = temp\n",
    "    mergedTail = temp\n",
    "\n",
    "  if head1 != None:\n",
    "    mergedTail.next = head1\n",
    "  elif head2 != None:\n",
    "    mergedTail.next = head2\n",
    "\n",
    "  return mergedHead"
   ]
  },
  {
   "attachments": {},
   "cell_type": "markdown",
   "metadata": {},
   "source": [
    "A linked list is a linear data structure, in which the elements are not stored at contiguous memory locations. The elements in a linked list are linked using pointers.\n",
    "\n",
    "In simple words, a linked list consists of nodes where each node contains a data field and a reference(link) to the next node in the list."
   ]
  },
  {
   "attachments": {},
   "cell_type": "markdown",
   "metadata": {},
   "source": [
    "# Copy linked list with arbitrary pointer\n",
    "\n",
    "You are given a linked list where the node has two pointers. The first is the regular next pointer. The second pointer is called arbitrary and it can point to any node in the linked list.\n",
    "\n",
    "Your job is to write code to make a deep copy of the given linked list. Here, deep copy means that any operations on the original list should not affect the copied list.\n",
    "\n",
    "Runtime Complexity: Linear, $O(n)$\n",
    "\n",
    "Memory Complexity: Linear, $O(n)$"
   ]
  },
  {
   "cell_type": "code",
   "execution_count": null,
   "metadata": {},
   "outputs": [],
   "source": [
    "def deep_copy_arbitrary_pointer(head):\n",
    "  if head == None:\n",
    "    return None\n",
    "\n",
    "  current = head\n",
    "  new_head = None\n",
    "  new_prev = None\n",
    "  ht = dict()\n",
    "\n",
    "  # create copy of the linked list, recording the corresponding\n",
    "  # nodes in hashmap without updating arbitrary pointer\n",
    "  while current != None:\n",
    "    new_node = LinkedListNode(current.data)\n",
    "\n",
    "    # copy the old arbitrary pointer in the new node\n",
    "    new_node.arbitrary = current.arbitrary;\n",
    "\n",
    "    if new_prev != None:\n",
    "      new_prev.next = new_node\n",
    "    else:\n",
    "      new_head = new_node\n",
    "\n",
    "    ht[current] = new_node\n",
    "\n",
    "    new_prev = new_node\n",
    "    current = current.next\n",
    "\n",
    "  new_current = new_head\n",
    "\n",
    "  # updating arbitrary pointer\n",
    "  while new_current != None:\n",
    "    if new_current.arbitrary != None:\n",
    "      node = ht[new_current.arbitrary]\n",
    "\n",
    "      new_current.arbitrary = node\n",
    "\n",
    "    new_current = new_current.next\n",
    "\n",
    "  return new_head"
   ]
  },
  {
   "attachments": {},
   "cell_type": "markdown",
   "metadata": {},
   "source": [
    "# Level Order Traversal of Binary Tree\n",
    "\n",
    "Given the root of a binary tree, display the node values at each level. Node values for all levels should be displayed on separate lines. Let’s take a look at the below binary tree.\n",
    "\n",
    "Runtime Complexity: Linear, $O(n)$\n",
    "\n",
    "Memory Complexity: Linear, $O(n)$"
   ]
  },
  {
   "cell_type": "code",
   "execution_count": null,
   "metadata": {},
   "outputs": [],
   "source": [
    "# Using two queues\n",
    "from collections import deque\n",
    "\n",
    "\n",
    "def level_order_traversal(root):\n",
    "  if root == None:\n",
    "    return\n",
    "  result = \"\"\n",
    "  queues = [deque(), deque()]\n",
    "\n",
    "  current_queue = queues[0]\n",
    "  next_queue = queues[1]\n",
    "  \n",
    "  current_queue.append(root)\n",
    "  level_number = 0\n",
    "\n",
    "  while current_queue:\n",
    "    temp = current_queue.popleft()\n",
    "    result += str(temp.data) + \" \"\n",
    "\n",
    "    if temp.left != None:\n",
    "      next_queue.append(temp.left)\n",
    "\n",
    "    if temp.right != None:\n",
    "      next_queue.append(temp.right)\n",
    "\n",
    "    if not current_queue:\n",
    "      level_number += 1\n",
    "      current_queue = queues[level_number % 2]\n",
    "      next_queue = queues[(level_number + 1) % 2]\n",
    "  return result"
   ]
  },
  {
   "attachments": {},
   "cell_type": "markdown",
   "metadata": {},
   "source": [
    "# Determine if a binary tree is a binary search tree\n",
    "\n",
    "Given a Binary Tree, figure out whether it’s a Binary Search Tree.\n",
    "\n",
    "In a binary search tree, each node’s key value is smaller than the key value of all nodes in the right subtree, and is greater than the key values of all nodes in the left subtree.\n",
    "\n",
    "Runtime Complexity: Linear, $O(n)$\n",
    "\n",
    "Memory Complexity: Linear, $O(n)$"
   ]
  },
  {
   "cell_type": "code",
   "execution_count": null,
   "metadata": {},
   "outputs": [],
   "source": [
    "import sys\n",
    "\n",
    "def is_bst_rec(root, min_value, max_value):\n",
    "  if root == None:\n",
    "    return True\n",
    "\n",
    "  if root.data < min_value or root.data > max_value:\n",
    "    return False\n",
    "\n",
    "  return is_bst_rec(root.left, min_value, root.data) and is_bst_rec(root.right, root.data, max_value)\n",
    "\n",
    "\n",
    "is_bst_rec(root, -sys.maxsize - 1, sys.maxsize)"
   ]
  },
  {
   "attachments": {},
   "cell_type": "markdown",
   "metadata": {},
   "source": [
    "# String segmentation\n",
    "\n",
    "You are given a dictionary of words and a large input string. You have to find out whether the input string can be completely segmented into the words of a given dictionary.\n",
    "\n",
    "Runtime Complexity: Exponential, $O(2^n)$\n",
    "\n",
    "Memory Complexity: Polynomial, $O(n^2)$"
   ]
  },
  {
   "cell_type": "code",
   "execution_count": null,
   "metadata": {},
   "outputs": [],
   "source": [
    "def can_segment_string(s, dictionary):\n",
    "  for i in range(1, len(s) + 1):\n",
    "    first = s[0:i]\n",
    "    if first in dictionary:\n",
    "      second = s[i:]\n",
    "      if not second or second in dictionary or can_segment_string(second, dictionary):\n",
    "        return True\n",
    "  return False"
   ]
  },
  {
   "attachments": {},
   "cell_type": "markdown",
   "metadata": {},
   "source": [
    "You can see that you may be computing the same substring multiple times, even if it doesn’t exist in the dictionary. This redundancy can be fixed by memoization, where you remember which substrings have already been solved.\n",
    "\n",
    "To achieve memoization, you can store the second string in a new set each time. This will reduce both time and memory complexities."
   ]
  },
  {
   "attachments": {},
   "cell_type": "markdown",
   "metadata": {},
   "source": [
    "# Reverse Words in a Sentence\n",
    "\n",
    "Reverse the order of words in a given sentence (an array of characters).\n",
    "\n",
    "Runtime Complexity: Linear, $O(n)$\n",
    "\n",
    "Memory Complexity: Constant, $O(1)$"
   ]
  },
  {
   "cell_type": "code",
   "execution_count": null,
   "metadata": {},
   "outputs": [],
   "source": [
    "def str_rev(str, start, end):\n",
    "  if str == None or len(str) < 2:\n",
    "    return\n",
    "\n",
    "  while start < end:\n",
    "    temp = str[start]\n",
    "    str[start] = str[end]\n",
    "    str[end] = temp\n",
    "\n",
    "    start += 1\n",
    "    end -= 1\n",
    "  return str\n",
    "\n",
    "\n",
    "def reverse_words(sentence):\n",
    "  # Here sentence is a null-terminated string ending with char '\\0'.\n",
    "  if sentence == None or len(sentence) == 0:\n",
    "    return\n",
    "\n",
    "  #  To reverse all words in the string, we will first reverse\n",
    "  #  the string. Now all the words are in the desired location, but\n",
    "  #  in reverse order: \"Hello World\" -> \"dlroW olleH\".\n",
    "  str_len = len(sentence)\n",
    "  sentence = str_rev(sentence, 0, str_len - 2)\n",
    "\n",
    "  # Now, let's iterate the sentence and reverse each word in place.\n",
    "  # \"dlroW olleH\" -> \"World Hello\"\n",
    "  start = 0\n",
    "  end = 0\n",
    "\n",
    "  while True:\n",
    "  # find the  start index of a word while skipping spaces.\n",
    "    while start < len(sentence) and sentence[start] == ' ':\n",
    "      start += 1\n",
    "\n",
    "    if start == str_len:\n",
    "      break\n",
    "\n",
    "  # find the end index of the word.\n",
    "    end = start + 1\n",
    "    while end < str_len and sentence[end] != ' ' and sentence[end] != '\\0':\n",
    "      end += 1\n",
    "\n",
    "  # let's reverse the word in-place.\n",
    "    sentence = str_rev(sentence, start, end - 1)\n",
    "    start = end\n",
    "  return sentence"
   ]
  },
  {
   "attachments": {},
   "cell_type": "markdown",
   "metadata": {},
   "source": [
    "# How many ways can you make change with coins and a total amount\n",
    "\n",
    "Suppose we have coin denominations of [1, 2, 5] and the total amount is 7. We can make changes in the following 6 ways:\n",
    "\n",
    "[1,1,1,1,1,1,1][1,1,1,1,1,2]...\n",
    "\n",
    "Runtime Complexity: Quadratic, $O(m∗n)$\n",
    "\n",
    "Memory Complexity: Linear, $O(n)$"
   ]
  },
  {
   "cell_type": "code",
   "execution_count": 6,
   "metadata": {},
   "outputs": [
    {
     "data": {
      "text/plain": [
       "6"
      ]
     },
     "execution_count": 6,
     "metadata": {},
     "output_type": "execute_result"
    }
   ],
   "source": [
    "def solve_coin_change(denominations, amount):\n",
    "  solution = [0] * (amount + 1)\n",
    "  solution[0] = 1\n",
    "  for den in denominations:\n",
    "    for i in range(den, amount + 1):\n",
    "      solution[i] += solution[i - den] \n",
    "\n",
    "  return solution[len(solution) - 1]\n",
    "\n",
    "solve_coin_change([1,2,5],7)"
   ]
  },
  {
   "attachments": {},
   "cell_type": "markdown",
   "metadata": {},
   "source": [
    "# Find Kth permutation\n",
    "\n",
    "Given a set of ‘n’ elements, find their Kth permutation.\n",
    "\n",
    "Runtime Complexity: Linear, $O(n)$\n",
    "\n",
    "Memory Complexity: Linear, $O(n)$"
   ]
  },
  {
   "cell_type": "code",
   "execution_count": 11,
   "metadata": {},
   "outputs": [],
   "source": [
    "def find_kth_permutation(items, results, prefix=None):\n",
    "    if len(items) == 0:\n",
    "        results.append(prefix)\n",
    "    \n",
    "    for i, item in enumerate(items):\n",
    "        new_result = prefix if prefix else []\n",
    "        find_kth_permutation(items[:i] + items[i+1:], results, new_result + [item])"
   ]
  },
  {
   "cell_type": "code",
   "execution_count": 13,
   "metadata": {},
   "outputs": [
    {
     "name": "stdout",
     "output_type": "stream",
     "text": [
      "[[1, 2, 3], [1, 3, 2], [2, 1, 3], [2, 3, 1], [3, 1, 2], [3, 2, 1]]\n"
     ]
    }
   ],
   "source": [
    "res = []\n",
    "find_kth_permutation([1,2,3], res)\n",
    "print(res)"
   ]
  },
  {
   "cell_type": "code",
   "execution_count": 15,
   "metadata": {},
   "outputs": [],
   "source": [
    "def factorial(n):\n",
    "  if n == 0 or n == 1:\n",
    "    return 1\n",
    "  return n * factorial(n -1 )\n",
    "\n",
    "def find_kth_permutation(v, k, result):\n",
    "  if not v:\n",
    "    return\n",
    "  \n",
    "  n = len(v)\n",
    "  \n",
    "  # count is number of permutations starting with first digit\n",
    "  count = factorial(n - 1)\n",
    "  selected = (k - 1) // count\n",
    "  \n",
    "  result += str(v[selected])\n",
    "  del v[selected]\n",
    "  k = k - (count * selected)\n",
    "  find_kth_permutation(v, k, result)"
   ]
  },
  {
   "cell_type": "code",
   "execution_count": 32,
   "metadata": {},
   "outputs": [
    {
     "name": "stdout",
     "output_type": "stream",
     "text": [
      "['3', '2', '1']\n"
     ]
    }
   ],
   "source": [
    "res = []\n",
    "find_kth_permutation([1,2,3], 6 ,res)\n",
    "print(res)"
   ]
  },
  {
   "cell_type": "code",
   "execution_count": 36,
   "metadata": {},
   "outputs": [
    {
     "data": {
      "text/plain": [
       "1"
      ]
     },
     "execution_count": 36,
     "metadata": {},
     "output_type": "execute_result"
    }
   ],
   "source": [
    "5 // 3"
   ]
  },
  {
   "attachments": {},
   "cell_type": "markdown",
   "metadata": {},
   "source": [
    "# Power of 2 from 1 through n (inclusive)\n",
    "\n",
    "For example, if n i s 4, it would print 1,2, and 4"
   ]
  },
  {
   "cell_type": "code",
   "execution_count": 39,
   "metadata": {},
   "outputs": [
    {
     "name": "stdout",
     "output_type": "stream",
     "text": [
      "0\n",
      "0\n",
      "0\n",
      "0\n",
      "0\n",
      "0\n"
     ]
    },
    {
     "data": {
      "text/plain": [
       "0"
      ]
     },
     "execution_count": 39,
     "metadata": {},
     "output_type": "execute_result"
    }
   ],
   "source": [
    "def powers_of_2(n):\n",
    "    if n < 1:\n",
    "        return 0\n",
    "    if n == 1:\n",
    "        print(1)\n",
    "        return 1\n",
    "    prev = powers_of_2(n/2)\n",
    "    curr = prev * 2\n",
    "    print(curr)\n",
    "    return curr\n",
    "\n",
    "powers_of_2(50)"
   ]
  }
 ],
 "metadata": {
  "kernelspec": {
   "display_name": ".venv",
   "language": "python",
   "name": "python3"
  },
  "language_info": {
   "codemirror_mode": {
    "name": "ipython",
    "version": 3
   },
   "file_extension": ".py",
   "mimetype": "text/x-python",
   "name": "python",
   "nbconvert_exporter": "python",
   "pygments_lexer": "ipython3",
   "version": "3.8.10"
  },
  "orig_nbformat": 4
 },
 "nbformat": 4,
 "nbformat_minor": 2
}
