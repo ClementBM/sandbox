{
 "cells": [
  {
   "cell_type": "code",
   "execution_count": 1,
   "metadata": {},
   "outputs": [
    {
     "data": {
      "application/vnd.jupyter.widget-view+json": {
       "model_id": "d08ce711bcfb4287815a839cc297a295",
       "version_major": 2,
       "version_minor": 0
      },
      "text/plain": [
       "Summarize dataset:   0%|          | 0/5 [00:00<?, ?it/s]"
      ]
     },
     "metadata": {},
     "output_type": "display_data"
    },
    {
     "ename": "",
     "evalue": "",
     "output_type": "error",
     "traceback": [
      "\u001b[1;31mCanceled future for execute_request message before replies were done"
     ]
    },
    {
     "ename": "",
     "evalue": "",
     "output_type": "error",
     "traceback": [
      "\u001b[1;31mThe Kernel crashed while executing code in the the current cell or a previous cell. Please review the code in the cell(s) to identify a possible cause of the failure. Click <a href='https://aka.ms/vscodeJupyterKernelCrash'>here</a> for more info. View Jupyter <a href='command:jupyter.viewOutput'>log</a> for further details."
     ]
    }
   ],
   "source": [
    "import pandas as pd\n",
    "\n",
    "from ydata_profiling.utils.cache import cache_file\n",
    "from ydata_profiling import ProfileReport\n",
    "\n",
    "file_name = cache_file(\n",
    "    \"pollution_us_2000_2016.csv\",\n",
    "    \"https://query.data.world/s/mz5ot3l4zrgvldncfgxu34nda45kvb\",\n",
    ")\n",
    "\n",
    "df = pd.read_csv(file_name, index_col=[0])\n",
    "\n",
    "# Filtering time-series to profile a single site\n",
    "site = df[df[\"Site Num\"] == 3003]\n",
    "\n",
    "# Setting what variables are time series\n",
    "type_schema = {\n",
    "    \"NO2 Mean\": \"timeseries\",\n",
    "    \"NO2 1st Max Value\": \"timeseries\",\n",
    "    \"NO2 1st Max Hour\": \"timeseries\",\n",
    "    \"NO2 AQI\": \"timeseries\",\n",
    "    \"cos\": \"numeric\",\n",
    "    \"cat\": \"numeric\",\n",
    "}\n",
    "\n",
    "profile = ProfileReport(\n",
    "    df,\n",
    "    tsmode=True,\n",
    "    type_schema=type_schema,\n",
    "    sortby=\"Date Local\",\n",
    "    title=\"Time-Series EDA for site 3003\",\n",
    ")\n",
    "\n",
    "profile.to_file(\"report_timeseries.html\")"
   ]
  }
 ],
 "metadata": {
  "kernelspec": {
   "display_name": ".venv",
   "language": "python",
   "name": "python3"
  },
  "language_info": {
   "codemirror_mode": {
    "name": "ipython",
    "version": 3
   },
   "file_extension": ".py",
   "mimetype": "text/x-python",
   "name": "python",
   "nbconvert_exporter": "python",
   "pygments_lexer": "ipython3",
   "version": "3.8.10"
  },
  "orig_nbformat": 4
 },
 "nbformat": 4,
 "nbformat_minor": 2
}
