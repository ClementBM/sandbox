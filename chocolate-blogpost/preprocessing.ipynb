{
 "cells": [
  {
   "cell_type": "markdown",
   "metadata": {},
   "source": [
    "# Import packages"
   ]
  },
  {
   "cell_type": "code",
   "execution_count": 2,
   "metadata": {},
   "outputs": [],
   "source": [
    "import pandas as pd"
   ]
  },
  {
   "cell_type": "markdown",
   "metadata": {},
   "source": [
    "# Importing datasets"
   ]
  },
  {
   "cell_type": "code",
   "execution_count": 3,
   "metadata": {},
   "outputs": [],
   "source": [
    "df_nobel = pd.read_csv(\"nobel_per_capita.csv\", delimiter=\"\\t\")\n",
    "\n",
    "# Cocoa beans consumption in kilograms per year per capita\n",
    "df_cocoa_raw = pd.read_csv(\"chocolate_consumption_per_capita.csv\")"
   ]
  },
  {
   "cell_type": "markdown",
   "metadata": {},
   "source": [
    "# Preprocess the cocoa dataset\n",
    "\n",
    "* pivot on year column\n",
    "* replace NA by 0\n",
    "* rename country according to the laureates dataframe"
   ]
  },
  {
   "cell_type": "code",
   "execution_count": 4,
   "metadata": {},
   "outputs": [],
   "source": [
    "df_cocoa = df_cocoa_raw.pivot(index=\"Entity\", columns=\"Year\", values=\"Chocolate consumption\")\n",
    "df_cocoa = df_cocoa.fillna(0.0)\n",
    "\n",
    "# Czechia => Czech Republic\n",
    "# Democratic Republic of Congo => DR Congo\n",
    "# Timor => East Timor\n",
    "# PLO => Palestin\n",
    "df_cocoa.rename(\n",
    "    index={\n",
    "        \"Czechia\": \"Czech Republic\",\n",
    "        \"Democratic Republic of Congo\": \"DR Congo\",\n",
    "        \"Timor\": \"East Timor\",\n",
    "    }, inplace=True)"
   ]
  },
  {
   "cell_type": "markdown",
   "metadata": {},
   "source": [
    "# Intersection of countries"
   ]
  },
  {
   "cell_type": "code",
   "execution_count": 5,
   "metadata": {},
   "outputs": [],
   "source": [
    "nobel_entities = set(df_nobel[\"Entity\"].unique().tolist())\n",
    "cocoa_entities = set(df_cocoa.index.unique().tolist())\n",
    "common_entities = nobel_entities.intersection(cocoa_entities)"
   ]
  },
  {
   "cell_type": "markdown",
   "metadata": {},
   "source": [
    "# Merge datasets"
   ]
  },
  {
   "cell_type": "code",
   "execution_count": 6,
   "metadata": {},
   "outputs": [],
   "source": [
    "df_cocoa_2009 = df_cocoa.loc[list(common_entities),2009]\n",
    "df_nobel_2015 = df_nobel[df_nobel[\"Entity\"].isin(list(common_entities))]\n",
    "df = pd.merge(df_cocoa_2009, df_nobel_2015, how=\"inner\", on=\"Entity\")\n",
    "df = df.rename(columns={2009: \"Chocolate consumption\"})"
   ]
  },
  {
   "cell_type": "markdown",
   "metadata": {},
   "source": [
    "# Save merged datasets as CSV"
   ]
  },
  {
   "cell_type": "code",
   "execution_count": 7,
   "metadata": {},
   "outputs": [],
   "source": [
    "df.to_csv(\"merged_data.csv\", index=False)"
   ]
  }
 ],
 "metadata": {
  "kernelspec": {
   "display_name": ".venv",
   "language": "python",
   "name": "python3"
  },
  "language_info": {
   "codemirror_mode": {
    "name": "ipython",
    "version": 3
   },
   "file_extension": ".py",
   "mimetype": "text/x-python",
   "name": "python",
   "nbconvert_exporter": "python",
   "pygments_lexer": "ipython3",
   "version": "3.8.10"
  },
  "orig_nbformat": 4
 },
 "nbformat": 4,
 "nbformat_minor": 2
}
